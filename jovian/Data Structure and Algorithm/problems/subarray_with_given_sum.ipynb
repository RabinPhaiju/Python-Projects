{
 "metadata": {
  "language_info": {
   "codemirror_mode": {
    "name": "ipython",
    "version": 3
   },
   "file_extension": ".py",
   "mimetype": "text/x-python",
   "name": "python",
   "nbconvert_exporter": "python",
   "pygments_lexer": "ipython3",
   "version": "3.8.5-final"
  },
  "orig_nbformat": 2,
  "kernelspec": {
   "name": "python3",
   "display_name": "Python 3.8.5 64-bit ('rabin': virtualenv)",
   "metadata": {
    "interpreter": {
     "hash": "a456efd1d2e2bfa10bfdad488db5626e5f8bd233a0f11ae70ce0e7717a6a7d8d"
    }
   }
  }
 },
 "nbformat": 4,
 "nbformat_minor": 2,
 "cells": [
  {
   "source": [
    "# The Method\n",
    "* Here's the systematic strategy we'll apply for solving problems:\n",
    "\n",
    "1. State the problem clearly. Identify the input & output formats.\n",
    "2. Come up with some example inputs & outputs. Try to cover all edge cases.\n",
    "3. Come up with a correct solution for the problem. State it in plain English.\n",
    "4. Implement the solution and test it using example inputs. Fix bugs, if any.\n",
    "5. Analyze the algorithm's complexity and identify inefficiencies, if any.\n",
    "6. Apply the right technique to overcome the inefficiency. Repeat steps 3 to 6."
   ],
   "cell_type": "markdown",
   "metadata": {}
  },
  {
   "source": [
    "# The following question was asked during a coding interview for Amazon:\n",
    "\n",
    "* You are given an array of numbers (non-negative). Find a continuous subarray of the list which adds up to a given sum.\n",
    "* [1,7,4,2,1,3,11,5] find sum of subarray to 10"
   ],
   "cell_type": "markdown",
   "metadata": {}
  },
  {
   "cell_type": "code",
   "execution_count": 5,
   "metadata": {},
   "outputs": [],
   "source": [
    "arr = [1, 7, 4, 2, 1, 3, 11, 5]\n",
    "target = 10"
   ]
  },
  {
   "cell_type": "code",
   "execution_count": 7,
   "metadata": {},
   "outputs": [
    {
     "output_type": "execute_result",
     "data": {
      "text/plain": [
       "(2, 6, [4, 2, 1, 3])"
      ]
     },
     "metadata": {},
     "execution_count": 7
    }
   ],
   "source": [
    "# Solution 1 Brute force O(n^3)\n",
    "def subarray_sum1(arr, target):\n",
    "    n = len(arr)\n",
    "    for i in range(n):\n",
    "        for j in range(i, n+1):\n",
    "            if sum(arr[i:j]) == target:\n",
    "                return i, j\n",
    "    return None, None\n",
    "\n",
    "i, j = subarray_sum1(arr, target)\n",
    "i, j, arr1[i:j]"
   ]
  },
  {
   "cell_type": "code",
   "execution_count": 12,
   "metadata": {},
   "outputs": [
    {
     "output_type": "execute_result",
     "data": {
      "text/plain": [
       "(2, 6, [4, 2, 1, 3])"
      ]
     },
     "metadata": {},
     "execution_count": 12
    }
   ],
   "source": [
    "# Solution 2 Brute force O(n^2)\n",
    "def subarray_sum2(arr, target):\n",
    "    n = len(arr)\n",
    "    for i in range(n):\n",
    "        s = 0\n",
    "        for j in range(i, n+1):\n",
    "            if s == target:\n",
    "                return i,j\n",
    "            elif s<n:\n",
    "                s += arr[j]\n",
    "    return None, None\n",
    "\n",
    "i, j = subarray_sum2(arr, target)\n",
    "i, j, arr1[i:j]"
   ]
  },
  {
   "cell_type": "code",
   "execution_count": 11,
   "metadata": {},
   "outputs": [
    {
     "output_type": "execute_result",
     "data": {
      "text/plain": [
       "(2, 6, [4, 2, 1, 3])"
      ]
     },
     "metadata": {},
     "execution_count": 11
    }
   ],
   "source": [
    "# Greedy algorithm o(n)\n",
    "def subarray_sum3(arr,target):\n",
    "    n = len(arr)\n",
    "    i,j,s = 0,0,0\n",
    "    while i<n and j<n:\n",
    "        if s==target:\n",
    "            return i,j\n",
    "        elif s<target:\n",
    "            s+=arr[j]\n",
    "            j+=1\n",
    "        elif s>target:\n",
    "            s-=arr[i]\n",
    "            i+=1\n",
    "    return None,None\n",
    "\n",
    "i, j = subarray_sum3(arr, target)\n",
    "i, j, arr1[i:j]"
   ]
  }
 ]
}