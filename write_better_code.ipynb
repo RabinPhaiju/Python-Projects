{
 "cells": [
  {
   "attachments": {},
   "cell_type": "markdown",
   "metadata": {},
   "source": [
    "1. Use class - even for simple program\n",
    "2. Use inbuilt functions- dont write code, already written in builtin\n",
    "3. Use module - (optimize) - dont write every code in same file."
   ]
  },
  {
   "cell_type": "code",
   "execution_count": 2,
   "metadata": {},
   "outputs": [
    {
     "name": "stdout",
     "output_type": "stream",
     "text": [
      "1\n"
     ]
    }
   ],
   "source": [
    "# Ternary Operator\n",
    "condition = True\n",
    "x = 1 if condition else 0\n",
    "print(x)"
   ]
  },
  {
   "cell_type": "code",
   "execution_count": 6,
   "metadata": {},
   "outputs": [
    {
     "name": "stdout",
     "output_type": "stream",
     "text": [
      "1010000000\n",
      "1,010,000,000\n"
     ]
    }
   ],
   "source": [
    "# Add large number\n",
    "num1 = 1_000_000_000\n",
    "num2 = 10_000_000\n",
    "total = num1 + num2\n",
    "print(total)\n",
    "print(f'{total:,}')"
   ]
  },
  {
   "cell_type": "code",
   "execution_count": 17,
   "metadata": {},
   "outputs": [
    {
     "name": "stdout",
     "output_type": "stream",
     "text": [
      "hello, i am fine\n",
      "what you have now\n",
      "i am happy, what about you\n",
      "ok fine\n",
      "thank you-------------------------\n",
      "(1, 1)\n",
      "(1, 2)\n",
      "(2, 1)\n",
      "(5,)\n"
     ]
    }
   ],
   "source": [
    "# File\n",
    "# context manager\n",
    "with open('lyrics.txt', 'r') as file:\n",
    "    # print(file.readline())\n",
    "    for line in file:\n",
    "        print(line,end=\"\")\n",
    "print('-------------------------')\n",
    "\n",
    "from sqlite3 import connect\n",
    "from contextlib import contextmanager\n",
    "\n",
    "@contextmanager\n",
    "def temptable(cur):\n",
    "    cur.execute('create table points(x int, y int)')\n",
    "    try:\n",
    "        yield\n",
    "    finally:\n",
    "        cur.execute('drop table points')\n",
    "\n",
    "\n",
    "\n",
    "with connect('test.db') as conn:\n",
    "    cur = conn.cursor()\n",
    "    with temptable(cur):\n",
    "        cur.execute('insert into points (x,y) values(1,1)')\n",
    "        cur.execute('insert into points (x,y) values(1,2)')\n",
    "        cur.execute('insert into points (x,y) values(2,1)')\n",
    "        for row in cur.execute('select x, y from points'):\n",
    "            print(row)\n",
    "\n",
    "        for row in cur.execute('select sum(x * y) from points'):\n",
    "            print(row)\n"
   ]
  },
  {
   "cell_type": "code",
   "execution_count": 20,
   "metadata": {},
   "outputs": [
    {
     "name": "stdout",
     "output_type": "stream",
     "text": [
      "1 rabin\n",
      "2 corey\n",
      "3 chris\n",
      "4 travis\n"
     ]
    }
   ],
   "source": [
    "# Enumerate\n",
    "names = ['rabin','corey','chris','travis']\n",
    "for index,name in enumerate(names,start=1):\n",
    "    print(index,name)"
   ]
  },
  {
   "cell_type": "code",
   "execution_count": 22,
   "metadata": {},
   "outputs": [
    {
     "name": "stdout",
     "output_type": "stream",
     "text": [
      "bhaktapur 4\n",
      "kathmandu 5\n",
      "lalitpur 6\n"
     ]
    }
   ],
   "source": [
    "# zip\n",
    "x_list = ['bhaktapur', 'kathmandu', 'lalitpur']\n",
    "y_list = [4, 5, 6]\n",
    "\n",
    "for x, y in zip(x_list, y_list):\n",
    "    print(x, y)\n"
   ]
  },
  {
   "cell_type": "code",
   "execution_count": 24,
   "metadata": {},
   "outputs": [
    {
     "name": "stdout",
     "output_type": "stream",
     "text": [
      "name not found in the dictionary\n"
     ]
    }
   ],
   "source": [
    "# Dictionary\n",
    "ages = {\n",
    "    'mary':31,\n",
    "    'john':21\n",
    "}\n",
    "age  = ages.get('marry', 'name not found in the dictionary')\n",
    "print(age)\n"
   ]
  },
  {
   "cell_type": "code",
   "execution_count": 27,
   "metadata": {},
   "outputs": [
    {
     "name": "stdout",
     "output_type": "stream",
     "text": [
      "not found in list\n",
      "a--b--c\n"
     ]
    }
   ],
   "source": [
    "# loop\n",
    "needle = 'd'\n",
    "haystack = ['a', 'b', 'c']\n",
    "\n",
    "for letter in haystack:\n",
    "    if needle in haystack:\n",
    "        print('Found')\n",
    "        break\n",
    "else:\n",
    "    print('not found in list')\n",
    "\n",
    "\n",
    "# ---------------- join---------------\n",
    "Delimiter = '--'\n",
    "print(Delimiter.join(haystack))"
   ]
  },
  {
   "cell_type": "code",
   "execution_count": 29,
   "metadata": {},
   "outputs": [
    {
     "name": "stdout",
     "output_type": "stream",
     "text": [
      "Converting!\n",
      "1\n",
      "Conversion successful!\n",
      "Done!\n",
      "2\n",
      "Conversion successful!\n",
      "Done!\n",
      "3\n",
      "Conversion successful!\n",
      "Done!\n",
      "Conversion fail!\n",
      "Done!\n",
      "Conversion fail!\n",
      "Done!\n"
     ]
    }
   ],
   "source": [
    "# try catch\n",
    "number_list = [1, '2', 3, 'four', 'five']\n",
    "\n",
    "print('Converting!')\n",
    "for i in number_list:\n",
    "    try:\n",
    "        print(int(i))\n",
    "    except:\n",
    "        print(\"Conversion fail!\")\n",
    "    else:\n",
    "        print('Conversion successful!')\n",
    "    finally:\n",
    "        print('Done!')"
   ]
  },
  {
   "cell_type": "code",
   "execution_count": 34,
   "metadata": {},
   "outputs": [
    {
     "name": "stdout",
     "output_type": "stream",
     "text": [
      "3\n",
      "Polynomial(*(2, 3, 4))\n"
     ]
    }
   ],
   "source": [
    "# polynomial\n",
    "# some behaviour that I want to implement -> write some__function__\n",
    "# top-level function or top-level syntax -> corresponding__\n",
    "# x + y  -> __add__\n",
    "# init x -> __init__\n",
    "# repr(x)\n",
    "\n",
    "class Polynomial:\n",
    "    def __init__(self, *args):\n",
    "        self.coeffs = args\n",
    "    \n",
    "    def __repr__(self):\n",
    "        return 'Polynomial(*{!r})'.format(self.coeffs)# !r repr\n",
    "\n",
    "    # def __str__(self):\n",
    "    #     return 'hello'\n",
    "            \n",
    "    def __add__(self, other):\n",
    "        return Polynomial(*(x for x in other.coeffs))\n",
    "        \n",
    "    def __len__(self):\n",
    "        return len(self.coeffs)\n",
    "\n",
    "    \n",
    "        \n",
    "p1 = Polynomial(2, 3, 4)\n",
    "p2 = Polynomial(3, 4, 2)\n",
    "print(len(p1))\n",
    "print(p1)"
   ]
  },
  {
   "cell_type": "code",
   "execution_count": 40,
   "metadata": {},
   "outputs": [
    {
     "name": "stdout",
     "output_type": "stream",
     "text": [
      "0123456789\n",
      "0123456789\n",
      "0123456789"
     ]
    }
   ],
   "source": [
    "# Generator\n",
    "from time import sleep\n",
    "# top-level syntax, function -> underscore method\n",
    "\n",
    "class compute:\n",
    "    def __call__(self):\n",
    "        rv = []\n",
    "        for i in range(10):\n",
    "            sleep(.1)\n",
    "            print(i,end='')\n",
    "            rv.append(i)\n",
    "        return rv\n",
    "\n",
    "\n",
    "compute1 = compute()\n",
    "compute1()\n",
    "print()\n",
    "\n",
    "# -----------------------------------------------\n",
    "class Compute:\n",
    "    def __iter__(self):\n",
    "        self.last = 0\n",
    "        return self\n",
    "\n",
    "    def __next__(self):\n",
    "        rv = self.last\n",
    "        self.last +=1\n",
    "        if self.last >10:\n",
    "            raise StopIteration\n",
    "        sleep(.1)\n",
    "        return rv\n",
    "\n",
    "compute2 = Compute()\n",
    "for val in compute2:\n",
    "    print(val,end='')\n",
    "# dont load in memeory , so to save memory\n",
    "print()\n",
    "# ----------------------\n",
    "def fun():\n",
    "    for i in range(10):\n",
    "        sleep(.1)\n",
    "        yield i\n",
    "        \n",
    "\n",
    "func = fun()\n",
    "for i in range(10):\n",
    "    print(next(func),end='')"
   ]
  },
  {
   "cell_type": "code",
   "execution_count": 38,
   "metadata": {},
   "outputs": [
    {
     "name": "stdout",
     "output_type": "stream",
     "text": [
      "running add\n",
      "running add\n",
      "elapsed =  4.029273986816406e-05\n",
      "add(2, 20) 22\n",
      "running add\n",
      "running add\n",
      "elapsed =  5.9604644775390625e-06\n",
      "add(2, 3) 5\n",
      "running add\n",
      "running add\n",
      "elapsed =  5.7220458984375e-06\n",
      "add(a + b) ab\n",
      "running sub\n",
      "running sub\n",
      "elapsed =  4.76837158203125e-06\n",
      "sub(3, 2) 1\n"
     ]
    }
   ],
   "source": [
    "# Decorator\n",
    "from time import time\n",
    "\n",
    "def ntimes(n):\n",
    "    def timer(func):\n",
    "        def f(*args, **kwargs):\n",
    "            before = time()\n",
    "            for _ in range(n):\n",
    "                print('running {.__name__}'.format(func))\n",
    "            rv = func(*args, **kwargs) # func is add function\n",
    "            after = time()\n",
    "            print('elapsed = ', after-before)\n",
    "            return rv\n",
    "        return f\n",
    "    return timer\n",
    "\n",
    "\n",
    "@ntimes(2)\n",
    "def add(*args, **kwargs):\n",
    "    return args[0] + args[1]\n",
    "\n",
    "@ntimes(2)\n",
    "def sub(*args, **kwargs):\n",
    "    return args[0] - args[1]\n",
    "\n",
    "\n",
    "\n",
    "print('add(2, 20)', add(2, 20))\n",
    "print('add(2, 3)', add(2, 3))\n",
    "print('add(a + b)', add('a', 'b'))\n",
    "print('sub(3, 2)', sub(3, 2))"
   ]
  },
  {
   "cell_type": "code",
   "execution_count": 49,
   "metadata": {},
   "outputs": [
    {
     "name": "stdout",
     "output_type": "stream",
     "text": [
      "1 3 [4, 5]\n"
     ]
    }
   ],
   "source": [
    "# Unpacking\n",
    "a,b,*c,d = (1,3,4,5,6)\n",
    "print(a,b,c)"
   ]
  },
  {
   "cell_type": "code",
   "execution_count": 57,
   "metadata": {},
   "outputs": [
    {
     "name": "stdout",
     "output_type": "stream",
     "text": [
      "Rabin\n",
      "Rabin\n",
      "Phaiju\n"
     ]
    }
   ],
   "source": [
    "# setAttr()\n",
    "class Person():\n",
    "    pass\n",
    "\n",
    "person = Person()\n",
    "first_key = 'first'\n",
    "first_val = 'Rabin'\n",
    "\n",
    "setattr(person,first_key,first_val)\n",
    "print(person.first)\n",
    "\n",
    "#----------------------------------\n",
    "\n",
    "person1 = Person()\n",
    "person_info = {'first':'Rabin','last':'Phaiju'}\n",
    "for key,val in person_info.items():\n",
    "    setattr(person1,key,val)\n",
    "\n",
    "print(person1.first)\n",
    "print(person1.last)"
   ]
  },
  {
   "cell_type": "code",
   "execution_count": null,
   "metadata": {},
   "outputs": [],
   "source": []
  }
 ],
 "metadata": {
  "kernelspec": {
   "display_name": "venv",
   "language": "python",
   "name": "python3"
  },
  "language_info": {
   "codemirror_mode": {
    "name": "ipython",
    "version": 3
   },
   "file_extension": ".py",
   "mimetype": "text/x-python",
   "name": "python",
   "nbconvert_exporter": "python",
   "pygments_lexer": "ipython3",
   "version": "3.8.10"
  },
  "orig_nbformat": 4,
  "vscode": {
   "interpreter": {
    "hash": "2905e53e379b4d4dcacc1e47bf0c48f14835bfd8aa6bc3a4fd76372ded1b7631"
   }
  }
 },
 "nbformat": 4,
 "nbformat_minor": 2
}
