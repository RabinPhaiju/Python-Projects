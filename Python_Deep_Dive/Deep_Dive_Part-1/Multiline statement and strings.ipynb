{
 "metadata": {
  "language_info": {
   "codemirror_mode": {
    "name": "ipython",
    "version": 3
   },
   "file_extension": ".py",
   "mimetype": "text/x-python",
   "name": "python",
   "nbconvert_exporter": "python",
   "pygments_lexer": "ipython3",
   "version": "3.8.5"
  },
  "orig_nbformat": 2,
  "kernelspec": {
   "name": "python385jvsc74a57bd0a456efd1d2e2bfa10bfdad488db5626e5f8bd233a0f11ae70ce0e7717a6a7d8d",
   "display_name": "Python 3.8.5 64-bit ('base': conda)"
  }
 },
 "nbformat": 4,
 "nbformat_minor": 2,
 "cells": [
  {
   "source": [
    "# Python Multiline statement and strings\n",
    "\n",
    "    * Physical lines of code -> end with a pysical newline character\n",
    "        - for readability\n",
    "    * Logical lines of code -> end with a logical NEWLINE token\n",
    "        - tokenized"
   ],
   "cell_type": "markdown",
   "metadata": {}
  },
  {
   "source": [
    "# Physical newline vs logical newline\n",
    "\n",
    "- sometimes, physical newlines are ignored in order to combine multiple pysical lines into a single logical line of code. which is terminated by a logical NEWLINE token.\n",
    "\n",
    "* Conversion can be implicit or explicit\n",
    "- Implicit -> Expression in,list literals [], tuple literals(), dictionary literal{}, set literals{}, function arguments/ parameters, multiline comment"
   ],
   "cell_type": "markdown",
   "metadata": {}
  },
  {
   "cell_type": "code",
   "execution_count": 2,
   "metadata": {},
   "outputs": [
    {
     "output_type": "stream",
     "name": "stdout",
     "text": [
      "[1, 2, 3, 4, 5]\n10 20 30\n"
     ]
    }
   ],
   "source": [
    "lst =[1,2, # this is comment\n",
    "    3,4, # comment same to sets\n",
    "    5]\n",
    "print(lst)\n",
    "dic = {'key1':1, # value for key 1\n",
    "        'key2': 2, # value for key 2\n",
    "        }\n",
    "def my_func(a, # this is used to indicate comment\n",
    "            b,\n",
    "            c):\n",
    "    print(a,b,c)\n",
    "\n",
    "my_func(10, # comment\n",
    "        20, # comment\n",
    "        30)\n"
   ]
  },
  {
   "source": [
    "- Explicit -> You can break up statements over multiple line explicitly, by using the \\ (backslash) character."
   ],
   "cell_type": "markdown",
   "metadata": {}
  },
  {
   "cell_type": "code",
   "execution_count": 3,
   "metadata": {},
   "outputs": [
    {
     "output_type": "stream",
     "name": "stdout",
     "text": [
      "yes\n"
     ]
    }
   ],
   "source": [
    "a,b,c=10,20,30\n",
    "if a>1 \\\n",
    "    and b>2 \\\n",
    "        and c>3:\n",
    "    print('yes')"
   ]
  },
  {
   "source": [
    "- Multi -Line Strings literals\n",
    "    - Multi-line strings literals can be suing delimiters ''' or \"\"\"\n",
    "\n",
    "            \n"
   ],
   "cell_type": "markdown",
   "metadata": {}
  },
  {
   "cell_type": "code",
   "execution_count": 4,
   "metadata": {},
   "outputs": [
    {
     "output_type": "execute_result",
     "data": {
      "text/plain": [
       "' This is\\n    a multi-line string'"
      ]
     },
     "metadata": {},
     "execution_count": 4
    }
   ],
   "source": [
    "''' This is\n",
    "    a multi-line string'''"
   ]
  },
  {
   "cell_type": "code",
   "execution_count": 8,
   "metadata": {},
   "outputs": [
    {
     "output_type": "stream",
     "name": "stdout",
     "text": [
      "a multi line string\nthat is not indenet in the sencond\nThis is second comment\n    which is indented\n"
     ]
    }
   ],
   "source": [
    "def func():\n",
    "    a = '''a multi line string\n",
    "that is not indenet in the sencond'''\n",
    "    b = '''This is second comment\n",
    "    which is indented'''\n",
    "    return a,b\n",
    "\n",
    "a,b = func()\n",
    "print(a)\n",
    "print(b)"
   ]
  },
  {
   "source": [
    "- note: Be aware that non-visible characters such as newlines, tabs etc, are actually part of the string - bascally anything you typed.\n",
    "            - Multi-line strings are not comments, although they can be used as such, espically with special comments called docstrings."
   ],
   "cell_type": "markdown",
   "metadata": {}
  }
 ]
}