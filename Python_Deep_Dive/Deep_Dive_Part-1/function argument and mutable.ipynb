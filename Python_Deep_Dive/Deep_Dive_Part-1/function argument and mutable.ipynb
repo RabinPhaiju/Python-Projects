{
 "metadata": {
  "language_info": {
   "codemirror_mode": {
    "name": "ipython",
    "version": 3
   },
   "file_extension": ".py",
   "mimetype": "text/x-python",
   "name": "python",
   "nbconvert_exporter": "python",
   "pygments_lexer": "ipython3",
   "version": "3.8.5"
  },
  "orig_nbformat": 2,
  "kernelspec": {
   "name": "python385jvsc74a57bd0a456efd1d2e2bfa10bfdad488db5626e5f8bd233a0f11ae70ce0e7717a6a7d8d",
   "display_name": "Python 3.8.5 64-bit ('base': conda)"
  }
 },
 "nbformat": 4,
 "nbformat_minor": 2,
 "cells": [
  {
   "source": [
    "# Function with immutable argument\n",
    "* String are immutable objects.\n",
    "* once a string has been created, the contents of the object can never bi changed.\n",
    "* the only way to modify is to reassing but the address will be changed.\n"
   ],
   "cell_type": "markdown",
   "metadata": {}
  },
  {
   "source": [
    "![](files/function_mutable.png)"
   ],
   "cell_type": "markdown",
   "metadata": {}
  },
  {
   "source": [
    "* When arguent is passed, a variable reference is passed to function.\n",
    "* the argument in the function refer to the passed argument. when the variable is changed then the variable will point new object in memory."
   ],
   "cell_type": "markdown",
   "metadata": {}
  },
  {
   "source": [
    "![](files/function_mutable1.png)"
   ],
   "cell_type": "markdown",
   "metadata": {}
  },
  {
   "source": [
    "* when we print the my_var it will not be changed.\n",
    "* Immutable object are safe from unintended side-effect."
   ],
   "cell_type": "markdown",
   "metadata": {}
  },
  {
   "source": [
    "# Function with mutable argument"
   ],
   "cell_type": "markdown",
   "metadata": {}
  },
  {
   "source": [
    "* Mutable objects are not safe from unintended side-effect\n",
    "- ![](files/function_mutable2.png)"
   ],
   "cell_type": "markdown",
   "metadata": {}
  },
  {
   "source": [
    " * when address of  mutable object/argument is passed to function. same adress object is modified. so variable outside the function is affected."
   ],
   "cell_type": "markdown",
   "metadata": {}
  },
  {
   "source": [
    "# Function with immutable collection objects that contains mutable objects"
   ],
   "cell_type": "markdown",
   "metadata": {}
  },
  {
   "source": [
    "![](files/aa.png)"
   ],
   "cell_type": "markdown",
   "metadata": {}
  },
  {
   "source": [
    "* When argument of immutable object containing mutable object.\n",
    "* The reference of variable is passed. when mutable object of immutable object is append or modified. then that immutable will still point to same address."
   ],
   "cell_type": "markdown",
   "metadata": {}
  },
  {
   "cell_type": "code",
   "execution_count": null,
   "metadata": {},
   "outputs": [],
   "source": []
  }
 ]
}