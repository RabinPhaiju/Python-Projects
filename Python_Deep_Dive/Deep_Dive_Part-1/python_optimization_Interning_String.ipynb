{
 "metadata": {
  "language_info": {
   "codemirror_mode": {
    "name": "ipython",
    "version": 3
   },
   "file_extension": ".py",
   "mimetype": "text/x-python",
   "name": "python",
   "nbconvert_exporter": "python",
   "pygments_lexer": "ipython3",
   "version": "3.8.5"
  },
  "orig_nbformat": 2,
  "kernelspec": {
   "name": "python385jvsc74a57bd0a456efd1d2e2bfa10bfdad488db5626e5f8bd233a0f11ae70ce0e7717a6a7d8d",
   "display_name": "Python 3.8.5 64-bit ('base': conda)"
  }
 },
 "nbformat": 4,
 "nbformat_minor": 2,
 "cells": [
  {
   "source": [
    "# Some string are also automaticaly interned-but not all."
   ],
   "cell_type": "markdown",
   "metadata": {}
  },
  {
   "source": [
    "* As the Python code is compiled, indentifiers are interned.\n",
    "    - variable names\n",
    "    - function names\n",
    "    - class names\n",
    "* Indentifiers:\n",
    "    - must start with _ or a letter\n",
    "    - can only contain _, letter or numbers"
   ],
   "cell_type": "markdown",
   "metadata": {}
  },
  {
   "cell_type": "code",
   "execution_count": 7,
   "metadata": {},
   "outputs": [
    {
     "output_type": "execute_result",
     "data": {
      "text/plain": [
       "True"
      ]
     },
     "metadata": {},
     "execution_count": 7
    }
   ],
   "source": [
    "str2 = 'hello_world'\n",
    "str1 = 'hello_world'\n",
    "str2 is str1"
   ]
  },
  {
   "cell_type": "code",
   "execution_count": 19,
   "metadata": {},
   "outputs": [
    {
     "output_type": "execute_result",
     "data": {
      "text/plain": [
       "True"
      ]
     },
     "metadata": {},
     "execution_count": 19
    }
   ],
   "source": [
    "str2 = 'hello_world_long_test9999999_number_rabin_phaiju'\n",
    "str1 = 'hello_world_long_test9999999_number_rabin_phaiju'\n",
    "str2 is str1"
   ]
  },
  {
   "cell_type": "code",
   "execution_count": 15,
   "metadata": {},
   "outputs": [
    {
     "output_type": "execute_result",
     "data": {
      "text/plain": [
       "False"
      ]
     },
     "metadata": {},
     "execution_count": 15
    }
   ],
   "source": [
    "# after adding space or somethong else except(_,alpabet,number)\n",
    "str2 = 'hello_world_long_test9999999_number a'\n",
    "str1 = 'hello_world_long_test9999999_number a'\n",
    "str2 is str1"
   ]
  },
  {
   "cell_type": "code",
   "execution_count": 25,
   "metadata": {},
   "outputs": [
    {
     "output_type": "stream",
     "name": "stdout",
     "text": [
      "True\n"
     ]
    },
    {
     "output_type": "execute_result",
     "data": {
      "text/plain": [
       "False"
      ]
     },
     "metadata": {},
     "execution_count": 25
    }
   ],
   "source": [
    "a = 'hello world long test9999999 number a'\n",
    "b = a\n",
    "print(a is b)\n",
    "b + ='a'\n",
    "a is b"
   ]
  },
  {
   "cell_type": "code",
   "execution_count": 17,
   "metadata": {},
   "outputs": [
    {
     "output_type": "execute_result",
     "data": {
      "text/plain": [
       "False"
      ]
     },
     "metadata": {},
     "execution_count": 17
    }
   ],
   "source": [
    "str2 = 'h d'\n",
    "str1 = 'h d'\n",
    "str2 is str1"
   ]
  },
  {
   "source": [
    "* Why do this?\n",
    "    - It all about (spped,possibly,memory) optimization.\n",
    "    - Python, both internally, and in the code you write, deals with lots and losts of dictionary type lookups, on string keys, which means lot of string equality testing."
   ],
   "cell_type": "markdown",
   "metadata": {}
  },
  {
   "source": [
    "# Not all strings are automatically interned by Python\n",
    "* But you can force strings to be interned by using the sys.intern() method\n",
    "    - To optimize memory.\n",
    "    - Speed it up."
   ],
   "cell_type": "markdown",
   "metadata": {}
  },
  {
   "cell_type": "code",
   "execution_count": 27,
   "metadata": {},
   "outputs": [
    {
     "output_type": "execute_result",
     "data": {
      "text/plain": [
       "True"
      ]
     },
     "metadata": {},
     "execution_count": 27
    }
   ],
   "source": [
    "import sys\n",
    "a = sys.intern('hello world long test9999999 number a')\n",
    "b = sys.intern('hello world long test9999999 number a')\n",
    "a is b"
   ]
  },
  {
   "source": [
    "* When shoud you do this?\n",
    "    - ** In general dont do this, unless you have specific job/reason or you know what you are doing. (remember python knows better.)\n",
    "    - dealing with a large number of strings.(I mean a looooooots of strings) that could have high repetition.\n",
    "    - eg: tokenizing a large corpus of text(NLP)\n",
    "    - eg: bearer token.\n",
    "    - lots of string comparisons using (a is b)"
   ],
   "cell_type": "markdown",
   "metadata": {}
  },
  {
   "cell_type": "code",
   "execution_count": 39,
   "metadata": {},
   "outputs": [],
   "source": [
    "def compare_using_equals(n):\n",
    "    a = 'a long string that is not interned'*200\n",
    "    b = 'a long string that is not interned'*200\n",
    "    for _ in range(n):      \n",
    "        if a ==b:\n",
    "            pass"
   ]
  },
  {
   "cell_type": "code",
   "execution_count": 49,
   "metadata": {},
   "outputs": [],
   "source": [
    "import sys\n",
    "def compare_using_interning(n):\n",
    "    a = sys.intern('a long string that is not interned'*200)\n",
    "    b = sys.intern('a long string that is not interned'*200)\n",
    "    for _ in range(n):\n",
    "        if a is b:\n",
    "            pass"
   ]
  },
  {
   "cell_type": "code",
   "execution_count": 41,
   "metadata": {},
   "outputs": [],
   "source": [
    "import time"
   ]
  },
  {
   "cell_type": "code",
   "execution_count": 44,
   "metadata": {},
   "outputs": [
    {
     "output_type": "stream",
     "name": "stdout",
     "text": [
      "equality 5.874532999999701\n"
     ]
    }
   ],
   "source": [
    "start_time = time.perf_counter()\n",
    "compare_using_equals(10000000)\n",
    "end_time = time.perf_counter()\n",
    "print('equality',end_time-start_time)"
   ]
  },
  {
   "cell_type": "code",
   "execution_count": 50,
   "metadata": {},
   "outputs": [
    {
     "output_type": "stream",
     "name": "stdout",
     "text": [
      "interning 0.9839783000002171\n"
     ]
    }
   ],
   "source": [
    "start_time = time.perf_counter()\n",
    "compare_using_interning(10000000)\n",
    "end_time = time.perf_counter()\n",
    "print('interning',end_time-start_time)"
   ]
  },
  {
   "cell_type": "code",
   "execution_count": null,
   "metadata": {},
   "outputs": [],
   "source": [
    "* If you are doing 1 time or 10 time comparing, there is no point of using interning.\n",
    "* If you are doing 10000-10000000 time comparing,then speed will be improved."
   ]
  }
 ]
}