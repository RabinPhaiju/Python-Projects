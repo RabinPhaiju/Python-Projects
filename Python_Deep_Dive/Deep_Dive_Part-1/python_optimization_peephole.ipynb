{
 "metadata": {
  "language_info": {
   "codemirror_mode": {
    "name": "ipython",
    "version": 3
   },
   "file_extension": ".py",
   "mimetype": "text/x-python",
   "name": "python",
   "nbconvert_exporter": "python",
   "pygments_lexer": "ipython3",
   "version": "3.8.5"
  },
  "orig_nbformat": 2,
  "kernelspec": {
   "name": "python385jvsc74a57bd0a456efd1d2e2bfa10bfdad488db5626e5f8bd233a0f11ae70ce0e7717a6a7d8d",
   "display_name": "Python 3.8.5 64-bit ('base': conda)"
  }
 },
 "nbformat": 4,
 "nbformat_minor": 2,
 "cells": [
  {
   "source": [
    "# This is another variety of optimizations that can occur at compile time."
   ],
   "cell_type": "markdown",
   "metadata": {}
  },
  {
   "source": [
    "# constant expression\n",
    "    - numeric_calculation = 24*60\n",
    "    * python will actually pre-calculate 24*60 -> 1440\n",
    "    - short_sequence_lenght<20 (may change in new python version)\n",
    "        - (1,2)*5 -> (1,2,1,2,1,2,1,2,1,2)\n",
    "        - 'abc'*3 -> abcabcabc\n",
    "        -'hello'+'world'\n",
    "    - but not 'the quick brown fox'*10 -> (more than 20 characters)"
   ],
   "cell_type": "markdown",
   "metadata": {}
  },
  {
   "source": [
    "# Membership Test: - Mutables are replaced by immutables\n",
    "    - When membership test such as:\n",
    "        - if i in [1,2,3]:\n",
    "        - are encountered, then [1,2,3] constatn, is replaced by its immutalbe couterpart\n",
    "        - [1,2,3] -> (1,2,3)\n",
    "        - list -> tuples\n",
    "        - sets -> forzensets"
   ],
   "cell_type": "markdown",
   "metadata": {}
  },
  {
   "source": [
    "#  Set membership is much faster than list or tuple membership (sets are basically like dictionaries)\n",
    "* So, instead of writing:\n",
    "if i in [[1,2,3]]: or if i in (1,2,3):\n",
    "- better to write :\n",
    "    - if i in {1,2,3}:"
   ],
   "cell_type": "markdown",
   "metadata": {}
  },
  {
   "cell_type": "code",
   "execution_count": 7,
   "metadata": {},
   "outputs": [],
   "source": [
    "def my_funct():\n",
    "    a = 24*60 # constant\n",
    "    b = (1,2)*5 # constant\n",
    "    c = 'abc'*3 # constant\n",
    "    d = 'ab'*11\n",
    "    e = 'the quick brown fox is black'*5\n",
    "    f = ['a','b']*3 # list is mutable so cannot be pre-calculated."
   ]
  },
  {
   "cell_type": "code",
   "execution_count": 8,
   "metadata": {},
   "outputs": [
    {
     "output_type": "execute_result",
     "data": {
      "text/plain": [
       "(None,\n",
       " 1440,\n",
       " (1, 2, 1, 2, 1, 2, 1, 2, 1, 2),\n",
       " 'abcabcabc',\n",
       " 'ababababababababababab',\n",
       " 'the quick brown fox is blackthe quick brown fox is blackthe quick brown fox is blackthe quick brown fox is blackthe quick brown fox is black',\n",
       " 'a',\n",
       " 'b',\n",
       " 3)"
      ]
     },
     "metadata": {},
     "execution_count": 8
    }
   ],
   "source": [
    "my_funct.__code__.co_consts"
   ]
  },
  {
   "cell_type": "code",
   "execution_count": 10,
   "metadata": {},
   "outputs": [
    {
     "output_type": "execute_result",
     "data": {
      "text/plain": [
       "(None, (1, 2, 3))"
      ]
     },
     "metadata": {},
     "execution_count": 10
    }
   ],
   "source": [
    "def my_fun(e):\n",
    "    if e in [1,2,3]:\n",
    "        pass\n",
    "my_fun.__code__.co_consts\n",
    "# list convert to tuple"
   ]
  },
  {
   "cell_type": "code",
   "execution_count": 11,
   "metadata": {},
   "outputs": [
    {
     "output_type": "execute_result",
     "data": {
      "text/plain": [
       "(None, frozenset({1, 2, 3}))"
      ]
     },
     "metadata": {},
     "execution_count": 11
    }
   ],
   "source": [
    "def my_fun(e):\n",
    "    if e in {1,2,3}:\n",
    "        pass\n",
    "my_fun.__code__.co_consts\n",
    "# set convert to frozen set"
   ]
  },
  {
   "cell_type": "code",
   "execution_count": 12,
   "metadata": {},
   "outputs": [],
   "source": [
    "import string\n",
    "import time"
   ]
  },
  {
   "cell_type": "code",
   "execution_count": 13,
   "metadata": {},
   "outputs": [
    {
     "output_type": "execute_result",
     "data": {
      "text/plain": [
       "'abcdefghijklmnopqrstuvwxyzABCDEFGHIJKLMNOPQRSTUVWXYZ'"
      ]
     },
     "metadata": {},
     "execution_count": 13
    }
   ],
   "source": [
    "string.ascii_letters"
   ]
  },
  {
   "cell_type": "code",
   "execution_count": 14,
   "metadata": {},
   "outputs": [],
   "source": [
    "char_list = list(string.ascii_letters)\n",
    "char_tuple = tuple(string.ascii_letters)\n",
    "char_set = set(string.ascii_letters)"
   ]
  },
  {
   "cell_type": "code",
   "execution_count": 19,
   "metadata": {},
   "outputs": [
    {
     "output_type": "stream",
     "name": "stdout",
     "text": [
      "['a', 'b', 'c', 'd', 'e', 'f', 'g', 'h', 'i', 'j', 'k', 'l', 'm', 'n', 'o', 'p', 'q', 'r', 's', 't', 'u', 'v', 'w', 'x', 'y', 'z', 'A', 'B', 'C', 'D', 'E', 'F', 'G', 'H', 'I', 'J', 'K', 'L', 'M', 'N', 'O', 'P', 'Q', 'R', 'S', 'T', 'U', 'V', 'W', 'X', 'Y', 'Z']\n('a', 'b', 'c', 'd', 'e', 'f', 'g', 'h', 'i', 'j', 'k', 'l', 'm', 'n', 'o', 'p', 'q', 'r', 's', 't', 'u', 'v', 'w', 'x', 'y', 'z', 'A', 'B', 'C', 'D', 'E', 'F', 'G', 'H', 'I', 'J', 'K', 'L', 'M', 'N', 'O', 'P', 'Q', 'R', 'S', 'T', 'U', 'V', 'W', 'X', 'Y', 'Z')\n----------\n{'h', 'p', 't', 'T', 'u', 'l', 'G', 'y', 'n', 'M', 'b', 'd', 'x', 'Y', 'k', 'm', 'w', 'r', 'F', 'O', 'a', 's', 'q', 'i', 'P', 'J', 'K', 'o', 'R', 'N', 'Z', 'H', 'S', 'B', 'v', 'z', 'D', 'X', 'c', 'f', 'g', 'e', 'W', 'Q', 'U', 'L', 'C', 'E', 'A', 'j', 'I', 'V'}\n"
     ]
    }
   ],
   "source": [
    "print(char_list)\n",
    "print(char_tuple)\n",
    "print('----------')\n",
    "print(char_set)\n",
    "# set dont have repeated element and not in order."
   ]
  },
  {
   "cell_type": "code",
   "execution_count": 20,
   "metadata": {},
   "outputs": [],
   "source": [
    "def member_ship_test(n,container):\n",
    "    for i in range(n):\n",
    "        if 'p' in container:\n",
    "            pass"
   ]
  },
  {
   "cell_type": "code",
   "execution_count": 24,
   "metadata": {},
   "outputs": [
    {
     "output_type": "stream",
     "name": "stdout",
     "text": [
      "list: 5.935250600000018\n"
     ]
    }
   ],
   "source": [
    "start_time = time.perf_counter()\n",
    "member_ship_test(10000000,char_list)\n",
    "end_time = time.perf_counter()\n",
    "print('list:', end_time-start_time)"
   ]
  },
  {
   "cell_type": "code",
   "execution_count": 25,
   "metadata": {},
   "outputs": [
    {
     "output_type": "stream",
     "name": "stdout",
     "text": [
      "tuple: 4.6716923999999835\n"
     ]
    }
   ],
   "source": [
    "start_time = time.perf_counter()\n",
    "member_ship_test(10000000,char_tuple)\n",
    "end_time = time.perf_counter()\n",
    "print('tuple:', end_time-start_time)"
   ]
  },
  {
   "cell_type": "code",
   "execution_count": 26,
   "metadata": {},
   "outputs": [
    {
     "output_type": "stream",
     "name": "stdout",
     "text": [
      "set: 0.9228101999999581\n"
     ]
    }
   ],
   "source": [
    "start_time = time.perf_counter()\n",
    "member_ship_test(10000000,char_set)\n",
    "end_time = time.perf_counter()\n",
    "print('set:', end_time-start_time)"
   ]
  },
  {
   "cell_type": "code",
   "execution_count": null,
   "metadata": {},
   "outputs": [],
   "source": []
  }
 ]
}