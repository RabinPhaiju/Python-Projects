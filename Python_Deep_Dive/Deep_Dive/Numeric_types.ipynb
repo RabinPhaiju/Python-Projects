{
 "metadata": {
  "language_info": {
   "codemirror_mode": {
    "name": "ipython",
    "version": 3
   },
   "file_extension": ".py",
   "mimetype": "text/x-python",
   "name": "python",
   "nbconvert_exporter": "python",
   "pygments_lexer": "ipython3",
   "version": "3.8.5"
  },
  "orig_nbformat": 2,
  "kernelspec": {
   "name": "python385jvsc74a57bd0a456efd1d2e2bfa10bfdad488db5626e5f8bd233a0f11ae70ce0e7717a6a7d8d",
   "display_name": "Python 3.8.5 64-bit ('base': conda)"
  }
 },
 "nbformat": 4,
 "nbformat_minor": 2,
 "cells": [
  {
   "source": [
    "# Four main types of numbers.\n",
    "    1. Boolean truth values 0(False),1(True) -> bool\n",
    "    2. Integer Numbers(Z) (int) -> 0,-1,1,-2,3...\n",
    "    3. Rational Numbers(Q) (fractions.Fraction) -> {p/q|p,q belongs to Z, q!=0}\n",
    "    4. Real Numbers(R)(float,decimal.Decimal) -> 0,-1,0.125,1/3,pi...\n",
    "    5. Complex Numbers(C) (float) -> {a+bi|a,b belongs to R}\n",
    "    * Z<Q<R<C"
   ],
   "cell_type": "markdown",
   "metadata": {}
  },
  {
   "source": [
    "# int data types\n",
    "eg: 0,10,-100,100000\n",
    "* How large can a python int become (-,+)?\n",
    "    - Integers are represented internally using base-2(binary) digits, not decimal.\n",
    "    - 10011(base-2) -> 19(base-10)\n",
    "    - representing the dicimal number 19-> requires 5-bits"
   ],
   "cell_type": "markdown",
   "metadata": {}
  },
  {
   "source": [
    "# What's the larget (base-10) integer number that can be represented using 8 bit?\n",
    "* Lets assume first that we can only care about non-negative intergers.\n",
    "    * 11111111(base-2) -> 255(base-10) --> (2^8-1)\n",
    "* If we care about handling negative integers as well, then 1-bit is reserved to -       represent the sign of the numbers, leaving us with only 7-bit to work with.\n",
    "    * So, using the 7-bit\n",
    "    * 1111111(base-2) -> 127(base-10)\n",
    "    * S0, using 7-bit out of 8-bit we, are able to represent all the integer in the range(-127,127)\n",
    "    * But, Since 0 doesn't require a sign, we can sequence out an extra number.\n",
    "    * (-128,127)"
   ],
   "cell_type": "markdown",
   "metadata": {}
  },
  {
   "source": [
    "# If we want to use 16-bit to store(signed integers), our range would be:\n",
    "    * 2^(16-1) = 2^15 = 32,768 -> (-32,768 : 32,767)"
   ],
   "cell_type": "markdown",
   "metadata": {}
  },
  {
   "source": [
    "# Simarly, if wa want to use 32-bit to store (signed) integers, our range would be:\n",
    "    * 2^(32-1) = 2^(31) = 2,147,483,648 -> (-2,147,483,648 : 2,147,483,647 )"
   ],
   "cell_type": "markdown",
   "metadata": {}
  },
  {
   "source": [
    "# If we had an unsigned integer type, using 32-bit our range would be:\n",
    "    * (0,2^32) -> (0 : 4,294,967,296)"
   ],
   "cell_type": "markdown",
   "metadata": {}
  },
  {
   "source": [
    "# In 32-bit OS:\n",
    "    * memory spaces(bytes) are limited by their address number -> 32 bits\n",
    "    * 4,294,967,296 bytes of addressable memory\n",
    "    = 4,294,967,296 / 1024 KB = 4,194,304 KB\n",
    "    = 4,194,304 / 1024 MB = 4096 KB\n",
    "    = 4096/1024 MB\n",
    "    = 4GB\n",
    "-  So, in 32-bit OS, if you put more memory but you can only address 4GB.(Theory)"
   ],
   "cell_type": "markdown",
   "metadata": {}
  },
  {
   "source": [
    "# So, how large an integer can be depends on how many bits are used to store the number.\n",
    "    * So languages provide multiple distinct integer data types that use a fixed numbers of bits.\n",
    "    * eg: in java\n",
    "        - byte -> signed 8-bit -> (-128 : 127)\n",
    "        - short -> signed 16-bit -> (-32,768 : 32,767)\n",
    "        - int -> signed 32-bit -> (-2^31 : 2^31-1)\n",
    "        - long -> signed 64-bit -> (-2^63 : 2^63-1)\n",
    "        - and more...\n",
    "    "
   ],
   "cell_type": "markdown",
   "metadata": {}
  },
  {
   "source": [
    "# Python does not work that way (like java)\n",
    "    * The int object uses a variable number of bit.\n",
    "        - as the number get bigger , it will just increase the no of bit that it need to store that number.\n",
    "        - can use 4-bytes(32-bits) , 8-bytes(64-bits) , 12-bytes(96-bits) etc.\n",
    "        - Seamless to us\n",
    "    * Theoritically limited only by the amount of memory available.\n",
    "        - Ofcourse, larger numbers will use more memory.\n",
    "** eg: in 32-bit OS, to add two 32-bit number in one-operation in the cpu, if you go beyound that, cpu will take more than 1-operation 2 int more than 32bit, then we have to this in chunk, but this is seamless to use.\n",
    "    - The computational speed decreases increasing size of number."
   ],
   "cell_type": "markdown",
   "metadata": {}
  },
  {
   "cell_type": "code",
   "execution_count": 4,
   "metadata": {},
   "outputs": [],
   "source": [
    "import sys"
   ]
  },
  {
   "cell_type": "code",
   "execution_count": 5,
   "metadata": {},
   "outputs": [
    {
     "output_type": "execute_result",
     "data": {
      "text/plain": [
       "24"
      ]
     },
     "metadata": {},
     "execution_count": 5
    }
   ],
   "source": [
    "sys.getsizeof(0)"
   ]
  },
  {
   "cell_type": "code",
   "execution_count": 7,
   "metadata": {},
   "outputs": [
    {
     "output_type": "execute_result",
     "data": {
      "text/plain": [
       "28"
      ]
     },
     "metadata": {},
     "execution_count": 7
    }
   ],
   "source": [
    "sys.getsizeof(1)"
   ]
  },
  {
   "cell_type": "code",
   "execution_count": 8,
   "metadata": {},
   "outputs": [
    {
     "output_type": "execute_result",
     "data": {
      "text/plain": [
       "28"
      ]
     },
     "metadata": {},
     "execution_count": 8
    }
   ],
   "source": [
    "sys.getsizeof(127)"
   ]
  },
  {
   "cell_type": "code",
   "execution_count": 9,
   "metadata": {},
   "outputs": [
    {
     "output_type": "execute_result",
     "data": {
      "text/plain": [
       "160"
      ]
     },
     "metadata": {},
     "execution_count": 9
    }
   ],
   "source": [
    "sys.getsizeof(2**1000)"
   ]
  },
  {
   "cell_type": "code",
   "execution_count": 11,
   "metadata": {},
   "outputs": [],
   "source": [
    "# slows down the computation by increasing the size of number.\n",
    "# more memory will also be aquire.\n",
    "import time"
   ]
  },
  {
   "cell_type": "code",
   "execution_count": 12,
   "metadata": {},
   "outputs": [],
   "source": [
    "def calc(a):\n",
    "    for i in range(10000000):\n",
    "        a*2"
   ]
  },
  {
   "cell_type": "code",
   "execution_count": 15,
   "metadata": {},
   "outputs": [
    {
     "output_type": "stream",
     "name": "stdout",
     "text": [
      "1.0527781999999206\n"
     ]
    }
   ],
   "source": [
    "start_time = time.perf_counter()\n",
    "calc(10)\n",
    "end_time = time.perf_counter()\n",
    "print(end_time-start_time)"
   ]
  },
  {
   "cell_type": "code",
   "execution_count": 17,
   "metadata": {},
   "outputs": [
    {
     "output_type": "stream",
     "name": "stdout",
     "text": [
      "1.7491973999999573\n"
     ]
    }
   ],
   "source": [
    "start_time = time.perf_counter()\n",
    "calc(2**100)\n",
    "end_time = time.perf_counter()\n",
    "print(end_time-start_time)"
   ]
  },
  {
   "cell_type": "code",
   "execution_count": 18,
   "metadata": {},
   "outputs": [
    {
     "output_type": "stream",
     "name": "stdout",
     "text": [
      "8.93115540000008\n"
     ]
    }
   ],
   "source": [
    "start_time = time.perf_counter()\n",
    "calc(2**10000)\n",
    "end_time = time.perf_counter()\n",
    "print(end_time-start_time)"
   ]
  }
 ]
}