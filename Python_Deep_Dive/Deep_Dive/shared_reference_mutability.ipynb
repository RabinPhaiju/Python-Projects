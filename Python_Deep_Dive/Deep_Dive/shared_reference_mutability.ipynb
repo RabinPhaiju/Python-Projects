{
 "metadata": {
  "language_info": {
   "codemirror_mode": {
    "name": "ipython",
    "version": 3
   },
   "file_extension": ".py",
   "mimetype": "text/x-python",
   "name": "python",
   "nbconvert_exporter": "python",
   "pygments_lexer": "ipython3",
   "version": "3.8.5"
  },
  "orig_nbformat": 2,
  "kernelspec": {
   "name": "python385jvsc74a57bd0a456efd1d2e2bfa10bfdad488db5626e5f8bd233a0f11ae70ce0e7717a6a7d8d",
   "display_name": "Python 3.8.5 64-bit ('base': conda)"
  }
 },
 "nbformat": 4,
 "nbformat_minor": 2,
 "cells": [
  {
   "source": [
    "# Shared reference with immutable variable\n",
    "![](files/ab.png)"
   ],
   "cell_type": "markdown",
   "metadata": {}
  },
  {
   "source": [
    "* In both case, python's memory manager decides to automatically re-use the memory references.\n",
    "* When the second variable changed then new memory address is used."
   ],
   "cell_type": "markdown",
   "metadata": {}
  },
  {
   "cell_type": "code",
   "execution_count": 2,
   "metadata": {},
   "outputs": [
    {
     "output_type": "stream",
     "name": "stdout",
     "text": [
      "140711696083008\n140711696083008\n-------\n140711696083040\n"
     ]
    }
   ],
   "source": [
    "a = 10\n",
    "b = 10\n",
    "print(id(a))\n",
    "print(id(b))\n",
    "print('-------')\n",
    "b = b+1\n",
    "print(id(b))"
   ]
  },
  {
   "cell_type": "code",
   "execution_count": 3,
   "metadata": {},
   "outputs": [
    {
     "output_type": "stream",
     "name": "stdout",
     "text": [
      "1992862496752\n1992862498224\n-------\n1992862496624\n"
     ]
    }
   ],
   "source": [
    "a = 500\n",
    "b = 500\n",
    "# address of a and b are only same for small numbers\n",
    "print(id(a))\n",
    "print(id(b))\n",
    "print('-------')\n",
    "b = b+1\n",
    "print(id(b))"
   ]
  },
  {
   "cell_type": "code",
   "execution_count": 3,
   "metadata": {},
   "outputs": [
    {
     "output_type": "stream",
     "name": "stdout",
     "text": [
      "2245684266800\n2245684266800\n-------\n2245684287664\n"
     ]
    }
   ],
   "source": [
    "a = 'hello'\n",
    "b = 'hello'\n",
    "print(id(a))\n",
    "print(id(b))\n",
    "print('-------')\n",
    "b = b+'world'\n",
    "print(id(b))"
   ]
  },
  {
   "source": [
    "# Shared reference with immutable variable"
   ],
   "cell_type": "markdown",
   "metadata": {}
  },
  {
   "source": [
    " ![](files/shared.png)"
   ],
   "cell_type": "markdown",
   "metadata": {}
  },
  {
   "cell_type": "code",
   "execution_count": 5,
   "metadata": {},
   "outputs": [
    {
     "output_type": "stream",
     "name": "stdout",
     "text": [
      "[1, 2, 3, 4]\n"
     ]
    }
   ],
   "source": [
    "a = [1,2,3]\n",
    "b = a\n",
    "b.append(4)\n",
    "print(a)"
   ]
  },
  {
   "cell_type": "code",
   "execution_count": 6,
   "metadata": {},
   "outputs": [
    {
     "output_type": "stream",
     "name": "stdout",
     "text": [
      "2245683004672\n2245680411904\n"
     ]
    }
   ],
   "source": [
    "a = [1,2,3]\n",
    "b = [1,2,3]\n",
    "print(id(a))\n",
    "print(id(b))"
   ]
  },
  {
   "source": [
    "# None\n",
    "- The None object can be assign to variables to indicate that they are not set. an 'empty' value or null  pointer\n",
    "- But the None object is a real object that is managed by the Python memory manager.\n",
    "- The memory manager will always ise a shared reference when assigning a variable to None\n",
    "- So we can test if a variable is 'not set' or 'empty' by comparing its memory address to the memory address of None using the is operator"
   ],
   "cell_type": "markdown",
   "metadata": {}
  },
  {
   "cell_type": "code",
   "execution_count": 2,
   "metadata": {},
   "outputs": [
    {
     "output_type": "stream",
     "name": "stdout",
     "text": [
      "140711695915136\n140711695915136\n140711695915136\n---------\nTrue\n"
     ]
    }
   ],
   "source": [
    "a = None\n",
    "b = None\n",
    "c = None\n",
    "print(id(a))\n",
    "print(id(b))\n",
    "print(id(c))\n",
    "print('---------')\n",
    "print(a is None)"
   ]
  }
 ]
}