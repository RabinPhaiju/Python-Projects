{
 "cells": [
  {
   "cell_type": "markdown",
   "metadata": {},
   "source": [
    "Mutable\n",
    "\n",
    "   - which can change value without changing memory address\n",
    "      - list\n",
    "      - dict\n",
    "      - set\n",
    "      - user-defined classes (if you allow to change)\n",
    "      - tuple (in sense of tuple contain mutable element.)\n",
    "         - eg: list inside tuple.\n",
    "   - mutable changes in same address dont need to return from function"
   ]
  },
  {
   "cell_type": "code",
   "execution_count": 4,
   "metadata": {},
   "outputs": [
    {
     "name": "stdout",
     "output_type": "stream",
     "text": [
      "2948725975488\n",
      "([1, 2, 3, 4], [2, 3, 4])\n",
      "2948725975488\n"
     ]
    }
   ],
   "source": [
    "tup = ([1,2,3],[2,3,4])\n",
    "print(id(tup))\n",
    "tup[0].append(4)\n",
    "print(tup)\n",
    "print(id(tup))"
   ]
  },
  {
   "cell_type": "markdown",
   "metadata": {},
   "source": [
    "* Consider an object in memory.\n",
    "* Changing the data inside the object is called modifying the internal state of the object.\n",
    "* When internal state/data is changed but memory address has not changed.\n",
    "    - then Object is mutated.\n",
    "    - which means internal state is changed.\n",
    "    - which is called MUTABLE.\n",
    "- ![](files/mutable.png)"
   ]
  },
  {
   "cell_type": "code",
   "execution_count": 3,
   "metadata": {},
   "outputs": [
    {
     "name": "stdout",
     "output_type": "stream",
     "text": [
      "1820647051648\n",
      "1820647051648\n"
     ]
    }
   ],
   "source": [
    "# Mutalbe List\n",
    "eg_list = [1, 2, 3]\n",
    "print(id(eg_list))\n",
    "eg_list.append(2)\n",
    "print(id(eg_list))\n",
    "# this is same for dict and set"
   ]
  },
  {
   "cell_type": "code",
   "execution_count": 8,
   "metadata": {},
   "outputs": [
    {
     "name": "stdout",
     "output_type": "stream",
     "text": [
      "2948722073536\n",
      "2948720723008\n"
     ]
    }
   ],
   "source": [
    "# but if we re-assign list again id is not same\n",
    "a = [1,2,3]\n",
    "print(id(a))\n",
    "a = a+[4]\n",
    "print(id(a))\n",
    "# this is same for dict and set"
   ]
  },
  {
   "cell_type": "markdown",
   "metadata": {},
   "source": [
    "* Immutable\n",
    "    - Numbers (int,float,Booleans)\n",
    "    - String\n",
    "    - Tuples (in sense of we cannot add,remove item in tuple.)\n",
    "    - Frozen sets (in sense we cannot add element)\n",
    "    - User-defined classes (if you dont allow to change)"
   ]
  },
  {
   "cell_type": "code",
   "execution_count": 1,
   "metadata": {},
   "outputs": [
    {
     "data": {
      "text/plain": [
       "False"
      ]
     },
     "execution_count": 1,
     "metadata": {},
     "output_type": "execute_result"
    }
   ],
   "source": [
    "a = 10\n",
    "b = a\n",
    "b = 11\n",
    "a is b"
   ]
  },
  {
   "cell_type": "markdown",
   "metadata": {},
   "source": [
    "### Immutalbe string"
   ]
  },
  {
   "cell_type": "code",
   "execution_count": 6,
   "metadata": {},
   "outputs": [
    {
     "name": "stdout",
     "output_type": "stream",
     "text": [
      "139338811343472\n",
      "139338834260144\n"
     ]
    }
   ],
   "source": [
    "eg_str2= 'dfdf'\n",
    "print(id(eg_str2))\n",
    "eg_str2 += 'a' # string reassign not allowed\n",
    "print(id(eg_str2))"
   ]
  },
  {
   "cell_type": "code",
   "execution_count": 1,
   "metadata": {},
   "outputs": [
    {
     "ename": "TypeError",
     "evalue": "'str' object does not support item assignment",
     "output_type": "error",
     "traceback": [
      "\u001b[0;31m---------------------------------------------------------------------------\u001b[0m",
      "\u001b[0;31mTypeError\u001b[0m                                 Traceback (most recent call last)",
      "Cell \u001b[0;32mIn[1], line 2\u001b[0m\n\u001b[1;32m      1\u001b[0m random_string \u001b[38;5;241m=\u001b[39m \u001b[38;5;124m'\u001b[39m\u001b[38;5;124mhello\u001b[39m\u001b[38;5;124m'\u001b[39m\n\u001b[0;32m----> 2\u001b[0m \u001b[43mrandom_string\u001b[49m\u001b[43m[\u001b[49m\u001b[38;5;241;43m0\u001b[39;49m\u001b[43m]\u001b[49m \u001b[38;5;241m=\u001b[39m \u001b[38;5;124m'\u001b[39m\u001b[38;5;124mH\u001b[39m\u001b[38;5;124m'\u001b[39m\n\u001b[1;32m      3\u001b[0m \u001b[38;5;28mprint\u001b[39m(random_string)\n",
      "\u001b[0;31mTypeError\u001b[0m: 'str' object does not support item assignment"
     ]
    }
   ],
   "source": [
    "random_string = 'hello'\n",
    "random_string[0] = 'H' # immutable\n",
    "print(random_string)"
   ]
  },
  {
   "cell_type": "code",
   "execution_count": 5,
   "metadata": {},
   "outputs": [
    {
     "name": "stdout",
     "output_type": "stream",
     "text": [
      "2948721735552\n",
      "2948729419472\n"
     ]
    }
   ],
   "source": [
    "# tuple\n",
    "t = (1,2,3)\n",
    "print(id(t))\n",
    "t = (1,2,3,4)\n",
    "print(id(t))"
   ]
  }
 ],
 "metadata": {
  "kernelspec": {
   "display_name": "Python 3",
   "language": "python",
   "name": "python3"
  },
  "language_info": {
   "codemirror_mode": {
    "name": "ipython",
    "version": 3
   },
   "file_extension": ".py",
   "mimetype": "text/x-python",
   "name": "python",
   "nbconvert_exporter": "python",
   "pygments_lexer": "ipython3",
   "version": "3.10.12"
  },
  "orig_nbformat": 2
 },
 "nbformat": 4,
 "nbformat_minor": 2
}
