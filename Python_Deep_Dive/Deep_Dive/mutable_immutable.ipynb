{
 "metadata": {
  "language_info": {
   "codemirror_mode": {
    "name": "ipython",
    "version": 3
   },
   "file_extension": ".py",
   "mimetype": "text/x-python",
   "name": "python",
   "nbconvert_exporter": "python",
   "pygments_lexer": "ipython3",
   "version": "3.8.5"
  },
  "orig_nbformat": 2,
  "kernelspec": {
   "name": "python385jvsc74a57bd0a456efd1d2e2bfa10bfdad488db5626e5f8bd233a0f11ae70ce0e7717a6a7d8d",
   "display_name": "Python 3.8.5 64-bit ('base': conda)"
  }
 },
 "nbformat": 4,
 "nbformat_minor": 2,
 "cells": [
  {
   "source": [
    "Mutable\n",
    "\n",
    "   - which can change value without changing memory address\n",
    "      - list\n",
    "      - dict\n",
    "      - set\n",
    "      - user-defined classes (if you allow to change)\n",
    "      - tuple (in sense of tuple contain mutable element.)\n",
    "         - eg: list inside tuple.\n",
    "   - mutable changes in same address dont need to return from function"
   ],
   "cell_type": "markdown",
   "metadata": {}
  },
  {
   "cell_type": "code",
   "execution_count": 4,
   "metadata": {},
   "outputs": [
    {
     "output_type": "stream",
     "name": "stdout",
     "text": [
      "2948725975488\n([1, 2, 3, 4], [2, 3, 4])\n2948725975488\n"
     ]
    }
   ],
   "source": [
    "tup = ([1,2,3],[2,3,4])\n",
    "print(id(tup))\n",
    "tup[0].append(4)\n",
    "print(tup)\n",
    "print(id(tup))"
   ]
  },
  {
   "source": [
    "* Consider an object in memory.\n",
    "* Changing the data inside the object is called modifying the internal state of the object.\n",
    "* When internal state/data is changed but memory address has not changed.\n",
    "    - then Object is mutated.\n",
    "    - which means internal state is changed.\n",
    "    - which is called MUTABLE.\n",
    "- ![](files/mutable.png)"
   ],
   "cell_type": "markdown",
   "metadata": {}
  },
  {
   "source": [
    "# Mutalbe List\n",
    "eg_list = [1, 2, 3]\n",
    "print(id(eg_list))\n",
    "eg_list.append(2)\n",
    "print(id(eg_list))\n",
    "# this is same for dict and set"
   ],
   "cell_type": "code",
   "metadata": {},
   "execution_count": 3,
   "outputs": [
    {
     "output_type": "stream",
     "name": "stdout",
     "text": [
      "1820647051648\n1820647051648\n"
     ]
    }
   ]
  },
  {
   "cell_type": "code",
   "execution_count": 8,
   "metadata": {},
   "outputs": [
    {
     "output_type": "stream",
     "name": "stdout",
     "text": [
      "2948722073536\n2948720723008\n"
     ]
    }
   ],
   "source": [
    "# but if we re-assign list again id is not same\n",
    "a = [1,2,3]\n",
    "print(id(a))\n",
    "a = a+[4]\n",
    "print(id(a))\n",
    "# this is same for dict and set"
   ]
  },
  {
   "source": [
    "* Immutable\n",
    "    - Numbers (int,float,Booleans)\n",
    "    - String\n",
    "    - Tuples (in sense of we cannot add,remove item in tuple.)\n",
    "    - Frozen sets (in sense we cannot add element)\n",
    "    - User-defined classes (if you dont allow to change)"
   ],
   "cell_type": "markdown",
   "metadata": {}
  },
  {
   "cell_type": "code",
   "execution_count": 1,
   "metadata": {},
   "outputs": [
    {
     "output_type": "execute_result",
     "data": {
      "text/plain": [
       "False"
      ]
     },
     "metadata": {},
     "execution_count": 1
    }
   ],
   "source": [
    "a = 10\n",
    "b = a\n",
    "b = 11\n",
    "a is b"
   ]
  },
  {
   "cell_type": "code",
   "execution_count": 2,
   "metadata": {},
   "outputs": [
    {
     "output_type": "stream",
     "name": "stdout",
     "text": [
      "2948720607472\n2948720616624\n"
     ]
    }
   ],
   "source": [
    "# Immutalbe string\n",
    "eg_str2= 'dfdf'\n",
    "print(id(eg_str2))\n",
    "eg_str2 += 'a' # string reassign not allowed\n",
    "print(id(eg_str2))"
   ]
  },
  {
   "cell_type": "code",
   "execution_count": 5,
   "metadata": {},
   "outputs": [
    {
     "output_type": "stream",
     "name": "stdout",
     "text": [
      "2948721735552\n2948729419472\n"
     ]
    }
   ],
   "source": [
    "# tuple\n",
    "t = (1,2,3)\n",
    "print(id(t))\n",
    "t = (1,2,3,4)\n",
    "print(id(t))"
   ]
  }
 ]
}