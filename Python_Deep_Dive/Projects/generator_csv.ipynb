{
 "metadata": {
  "language_info": {
   "codemirror_mode": {
    "name": "ipython",
    "version": 3
   },
   "file_extension": ".py",
   "mimetype": "text/x-python",
   "name": "python",
   "nbconvert_exporter": "python",
   "pygments_lexer": "ipython3",
   "version": "3.9.1"
  },
  "orig_nbformat": 4,
  "kernelspec": {
   "name": "python3",
   "display_name": "Python 3.9.1 64-bit ('venv1')"
  },
  "interpreter": {
   "hash": "6dbcfa4acfde829108fd9fed7b4c7e3cf5b89483651b78d4b8e08d6c4461514a"
  }
 },
 "nbformat": 4,
 "nbformat_minor": 2,
 "cells": [
  {
   "cell_type": "code",
   "execution_count": 41,
   "metadata": {},
   "outputs": [
    {
     "output_type": "stream",
     "name": "stdout",
     "text": [
      "School,MonthCode,CalMonth,GradeLevel,GradeSort,RosterCount,Absent,Present,Released\n\n01M015,5,Jan,1,1,31,28,574,0\n\n01M015,5,Jan,2,2,26,48,445,0\n\n01M015,5,Jan,3,3,31,43,568,0\n\n"
     ]
    }
   ],
   "source": [
    "file_name = '../../Learn_Python/File/assignment/Monthly_Attendance.csv'\n",
    "\n",
    "with open(file_name) as f:\n",
    "    for _ in range(4):\n",
    "        print(next(f))"
   ]
  },
  {
   "cell_type": "code",
   "execution_count": 42,
   "metadata": {},
   "outputs": [
    {
     "output_type": "execute_result",
     "data": {
      "text/plain": [
       "['School',\n",
       " 'MonthCode',\n",
       " 'CalMonth',\n",
       " 'GradeLevel',\n",
       " 'GradeSort',\n",
       " 'RosterCount',\n",
       " 'Absent',\n",
       " 'Present',\n",
       " 'Released']"
      ]
     },
     "metadata": {},
     "execution_count": 42
    }
   ],
   "source": [
    "with open(file_name) as f:\n",
    "    column_headers = next(f).strip('\\n').split(',')\n",
    "    sample_data = next(f).strip('\\n').split(',')\n",
    "column_headers"
   ]
  },
  {
   "cell_type": "code",
   "execution_count": 43,
   "metadata": {},
   "outputs": [
    {
     "output_type": "execute_result",
     "data": {
      "text/plain": [
       "['01M015', '5', 'Jan', '1', '1', '31', '28', '574', '0']"
      ]
     },
     "metadata": {},
     "execution_count": 43
    }
   ],
   "source": [
    "sample_data"
   ]
  },
  {
   "cell_type": "code",
   "execution_count": 44,
   "metadata": {},
   "outputs": [
    {
     "output_type": "execute_result",
     "data": {
      "text/plain": [
       "[('school', '01M015'),\n",
       " ('monthcode', '5'),\n",
       " ('calmonth', 'Jan'),\n",
       " ('gradelevel', '1'),\n",
       " ('gradesort', '1'),\n",
       " ('rostercount', '31'),\n",
       " ('absent', '28'),\n",
       " ('present', '574'),\n",
       " ('released', '0')]"
      ]
     },
     "metadata": {},
     "execution_count": 44
    }
   ],
   "source": [
    "column_headers = [header.replace(' ','_').lower() for header in column_headers]\n",
    "list(zip(column_headers,sample_data))"
   ]
  },
  {
   "cell_type": "code",
   "execution_count": 45,
   "metadata": {},
   "outputs": [
    {
     "output_type": "execute_result",
     "data": {
      "text/plain": [
       "\"'school' -> str\\n 'monthcode'-> int\\n 'calmonth' -> str\\n 'gradelevel'->int\\n 'gradesort'-> srt\\n 'rostercount'->int\\n 'absent'   -> int\\n 'present'  -> int\\n 'released' ->int\\n \""
      ]
     },
     "metadata": {},
     "execution_count": 45
    }
   ],
   "source": [
    "\"\"\"'school' -> str\n",
    " 'monthcode'-> int\n",
    " 'calmonth' -> str\n",
    " 'gradelevel'->int\n",
    " 'gradesort'-> srt\n",
    " 'rostercount'->int\n",
    " 'absent'   -> int\n",
    " 'present'  -> int\n",
    " 'released' ->int\n",
    " \"\"\""
   ]
  },
  {
   "cell_type": "code",
   "execution_count": 46,
   "metadata": {},
   "outputs": [],
   "source": [
    "from collections import namedtuple\n",
    "\n",
    "Attendacne = namedtuple('Monthly_Attendance',column_headers)"
   ]
  },
  {
   "cell_type": "code",
   "execution_count": 47,
   "metadata": {},
   "outputs": [],
   "source": [
    "def read_data():\n",
    "    with open(file_name) as f:\n",
    "        next(f)\n",
    "        yield from f"
   ]
  },
  {
   "cell_type": "code",
   "execution_count": 48,
   "metadata": {},
   "outputs": [],
   "source": [
    "from datetime import datetime\n",
    "\n",
    "def parse_int(value,*,default = None):\n",
    "    try:\n",
    "        return int(value)\n",
    "    except ValueError:\n",
    "        return default\n",
    "\n",
    "def parse_str(value,*,default=None):\n",
    "    try:\n",
    "        cleaned = value.strip()\n",
    "        if not cleaned:\n",
    "            return default\n",
    "        else:\n",
    "            return cleaned\n",
    "    except ValueError:\n",
    "        return default\n",
    "\n",
    "# def parse_date(value,*,default = None):\n",
    "#     date_formate = '%m/%d/%Y'\n",
    "#     try:\n",
    "#         return datetime.strptime(value,date_formate).date()\n",
    "#     except ValueError:\n",
    "#         return default\n",
    "\n",
    "# parse_date('02/05/1995',default='Not a date')"
   ]
  },
  {
   "cell_type": "code",
   "execution_count": 49,
   "metadata": {},
   "outputs": [],
   "source": [
    "column_parsers = (\n",
    "lambda x: parse_str(x,default=''),\n",
    "parse_int,\n",
    "lambda x: parse_str(x,default=''),\n",
    "parse_int,\n",
    "lambda x: parse_str(x,default=''),\n",
    "parse_int,\n",
    "parse_int,\n",
    "parse_int,\n",
    "parse_int)"
   ]
  },
  {
   "cell_type": "code",
   "execution_count": 50,
   "metadata": {},
   "outputs": [],
   "source": [
    "def parse_row(row,*,default = None):\n",
    "    fields = row.strip('\\n').split(',')\n",
    "    parsed_data = [func(field) \n",
    "                    for func,field in zip(column_parsers,fields)]\n",
    "    if all(item is not None for item in parsed_data):\n",
    "        return Attendacne(*parsed_data)\n",
    "    else:\n",
    "        return default"
   ]
  },
  {
   "cell_type": "code",
   "execution_count": 61,
   "metadata": {},
   "outputs": [
    {
     "output_type": "stream",
     "name": "stdout",
     "text": [
      "Monthly_Attendance(school='01M015', monthcode=5, calmonth='Jan', gradelevel=1, gradesort='1', rostercount=31, absent=28, present=574, released=0)\nMonthly_Attendance(school='01M015', monthcode=5, calmonth='Jan', gradelevel=2, gradesort='2', rostercount=26, absent=48, present=445, released=0)\nMonthly_Attendance(school='01M015', monthcode=5, calmonth='Jan', gradelevel=3, gradesort='3', rostercount=31, absent=43, present=568, released=0)\nMonthly_Attendance(school='01M015', monthcode=5, calmonth='Jan', gradelevel=4, gradesort='4', rostercount=24, absent=29, present=442, released=0)\nMonthly_Attendance(school='01M015', monthcode=5, calmonth='Jan', gradelevel=5, gradesort='5', rostercount=19, absent=12, present=368, released=0)\nMonthly_Attendance(school='01M015', monthcode=6, calmonth='Feb', gradelevel=1, gradesort='1', rostercount=30, absent=16, present=404, released=0)\n"
     ]
    }
   ],
   "source": [
    "def parsed_data():\n",
    "    for row in read_data():\n",
    "        parsed = parse_row(row)\n",
    "        if parsed:\n",
    "            yield parsed\n",
    "\n",
    "parsed_rows = parsed_data()\n",
    "for _ in range(6):\n",
    "    print(next(parsed_rows))"
   ]
  },
  {
   "cell_type": "code",
   "execution_count": 66,
   "metadata": {},
   "outputs": [
    {
     "output_type": "stream",
     "name": "stdout",
     "text": [
      "[('Jan', 165), ('Feb', 165), ('Mar', 165), ('Apr', 165), ('Sep', 162), ('May', 160), ('Jun', 160), ('Oct', 160), ('Nov', 160), ('Dec', 160)]\n"
     ]
    }
   ],
   "source": [
    "cal_month = {}\n",
    "\n",
    "for data in parsed_data():\n",
    "    if data.calmonth in cal_month:\n",
    "        cal_month[data.calmonth] +=1\n",
    "    else:\n",
    "        cal_month[data.calmonth] = 1\n",
    "\n",
    "print(sorted(cal_month.items(),key=lambda x:x[1],reverse=True))\n",
    "# this is a tds to do."
   ]
  },
  {
   "cell_type": "code",
   "execution_count": 76,
   "metadata": {},
   "outputs": [],
   "source": [
    "# we can do it faster using defaultdict\n",
    "from collections import defaultdict\n",
    "\n",
    "def violation_cal_month():   \n",
    "    cal_month = defaultdict(int)\n",
    "    for data in parsed_data():\n",
    "        cal_month[data.calmonth] +=1\n",
    "\n",
    "    # return sorted(cal_month.items(),key=lambda x:x[1],reverse=True) ## this is in names tuple, but we want in dict.\n",
    "    return {x:y for x,y in sorted(cal_month.items(),key=lambda x:x[1],reverse=True)}\n"
   ]
  },
  {
   "cell_type": "code",
   "execution_count": 78,
   "metadata": {},
   "outputs": [
    {
     "output_type": "execute_result",
     "data": {
      "text/plain": [
       "{'Jan': 165,\n",
       " 'Feb': 165,\n",
       " 'Mar': 165,\n",
       " 'Apr': 165,\n",
       " 'Sep': 162,\n",
       " 'May': 160,\n",
       " 'Jun': 160,\n",
       " 'Oct': 160,\n",
       " 'Nov': 160,\n",
       " 'Dec': 160}"
      ]
     },
     "metadata": {},
     "execution_count": 78
    }
   ],
   "source": [
    "violation_cal_month()"
   ]
  },
  {
   "cell_type": "code",
   "execution_count": null,
   "metadata": {},
   "outputs": [],
   "source": []
  }
 ]
}