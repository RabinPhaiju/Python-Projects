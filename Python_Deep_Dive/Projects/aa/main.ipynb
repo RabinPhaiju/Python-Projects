{
 "cells": [
  {
   "cell_type": "code",
   "execution_count": 1,
   "metadata": {},
   "outputs": [],
   "source": [
    "fname_personal = 'personal_info.csv'\r\n",
    "fname_employment = 'employment.csv'\r\n",
    "fname_vehicles = 'vehicles.csv'\r\n",
    "fname_update_status = 'update_status.csv'\r\n",
    "\r\n",
    "fnames = fname_personal,fname_employment,fname_vehicles,fname_update_status"
   ]
  },
  {
   "cell_type": "code",
   "execution_count": 2,
   "metadata": {},
   "outputs": [
    {
     "name": "stdout",
     "output_type": "stream",
     "text": [
      "personal_info.csv\n",
      "['ssn', 'first_name', 'last_name', 'gender', 'language']\n",
      "employment.csv\n",
      "['employer', 'department', 'employee_id', 'ssn']\n",
      "vehicles.csv\n",
      "['ssn', 'vehicle_make', 'vehicle_model', 'model_year']\n",
      "update_status.csv\n",
      "['ssn', 'last_updated', 'created']\n"
     ]
    }
   ],
   "source": [
    "import parse_utils\r\n",
    "import itertools\r\n",
    "\r\n",
    "for fname in fnames:\r\n",
    "    print(fname)\r\n",
    "    reader = parse_utils.csv_parser(fname,include_header=True)\r\n",
    "    # prints header\r\n",
    "    print(next(reader))"
   ]
  },
  {
   "cell_type": "code",
   "execution_count": 3,
   "metadata": {},
   "outputs": [
    {
     "name": "stdout",
     "output_type": "stream",
     "text": [
      "personal_info.csv\n",
      "['100-53-9824', 'Sebastiano', 'Tester', 'Male', 'Icelandic']\n",
      "['101-71-4702', 'Cayla', 'MacDonagh', 'Female', 'Lao']\n",
      "employment.csv\n",
      "['Stiedemann-Bailey', 'Research and Development', '29-0890771', '100-53-9824']\n",
      "['Nicolas and Sons', 'Sales', '41-6841359', '101-71-4702']\n",
      "vehicles.csv\n",
      "['100-53-9824', 'Oldsmobile', 'Bravada', '1993']\n",
      "['101-71-4702', 'Ford', 'Mustang', '1997']\n",
      "update_status.csv\n",
      "['100-53-9824', '2017-10-07T00:14:42Z', '2016-01-24T21:19:30Z']\n",
      "['101-71-4702', '2017-01-23T11:23:17Z', '2016-01-27T04:32:57Z']\n"
     ]
    }
   ],
   "source": [
    "for fname in fnames:\r\n",
    "    print(fname)\r\n",
    "    reader = parse_utils.csv_parser(fname,include_header=False)\r\n",
    "    # prints rows\r\n",
    "    print(next(reader),end='\\n')\r\n",
    "    print(next(reader),end='\\n')"
   ]
  },
  {
   "cell_type": "code",
   "execution_count": 4,
   "metadata": {},
   "outputs": [
    {
     "name": "stdout",
     "output_type": "stream",
     "text": [
      "100-53-9824 <class 'datetime.datetime'>\n",
      "101-71-4702 <class 'datetime.datetime'>\n",
      "101-84-0356 <class 'datetime.datetime'>\n"
     ]
    }
   ],
   "source": [
    "reader = parse_utils.csv_parser(fname_update_status,include_header=False)\r\n",
    "for _ in range(3):\r\n",
    "    record = next(reader)\r\n",
    "    print(record[0],type(parse_utils.parse_date(record[1])))"
   ]
  },
  {
   "cell_type": "code",
   "execution_count": 5,
   "metadata": {},
   "outputs": [],
   "source": [
    "# parsers type as their index\r\n",
    "personal_parser = (str,str,str,str,str)\r\n",
    "employment_parser = (str,str,str,str)\r\n",
    "vehicles_parser = (str,str,str,int)\r\n",
    "update_status_parser= (str,parse_utils.parse_date,parse_utils.parse_date)\r\n",
    "\r\n",
    "parsers = personal_parser,employment_parser,vehicles_parser,update_status_parser\r\n",
    "\r\n",
    "# Named Tuple Names\r\n",
    "personal_class_name = 'Personal'\r\n",
    "employment_class_name = 'Employment'\r\n",
    "vehicles_class_name = 'Vehicles'\r\n",
    "update_status_class_name = 'Update_status'\r\n",
    "\r\n",
    "class_names = personal_class_name,employment_class_name,vehicles_class_name,update_status_class_name"
   ]
  },
  {
   "cell_type": "code",
   "execution_count": 6,
   "metadata": {},
   "outputs": [
    {
     "name": "stdout",
     "output_type": "stream",
     "text": [
      "personal_info.csv\n",
      "Personal(ssn='100-53-9824', first_name='Sebastiano', last_name='Tester', gender='Male', language='Icelandic')\n",
      "\n",
      "employment.csv\n",
      "Employment(employer='Stiedemann-Bailey', department='Research and Development', employee_id='29-0890771', ssn='100-53-9824')\n",
      "\n",
      "vehicles.csv\n",
      "Vehicles(ssn='100-53-9824', vehicle_make='Oldsmobile', vehicle_model='Bravada', model_year=1993)\n",
      "\n",
      "update_status.csv\n",
      "Update_status(ssn='100-53-9824', last_updated=datetime.datetime(2017, 10, 7, 0, 14, 42), created=datetime.datetime(2016, 1, 24, 21, 19, 30))\n",
      "\n"
     ]
    }
   ],
   "source": [
    "for fname,class_name,parser in zip(fnames,class_names,parsers):\r\n",
    "    file_iter = parse_utils.iter_file(fname,class_name,parser)\r\n",
    "    print(fname)\r\n",
    "    for _ in range(1):\r\n",
    "        print(next(file_iter))\r\n",
    "    print('')"
   ]
  },
  {
   "cell_type": "code",
   "execution_count": 7,
   "metadata": {},
   "outputs": [],
   "source": [
    "# Field Inclusion/Exclusion\r\n",
    "personal_fields_compress = [True,True,True,True,True]\r\n",
    "employment_fields_compress = [True,True,True,False]\r\n",
    "vehicles_fields_compress = [False,True,True,True]\r\n",
    "update_status_fields_compress = [False,True,True]\r\n",
    "\r\n",
    "compress_fields = personal_fields_compress,employment_fields_compress,vehicles_fields_compress,update_status_fields_compress"
   ]
  },
  {
   "cell_type": "code",
   "execution_count": 8,
   "metadata": {},
   "outputs": [
    {
     "name": "stdout",
     "output_type": "stream",
     "text": [
      "['100-53-9824', 'Sebastiano', 'Tester', 'Male', 'Icelandic', 'Stiedemann-Bailey', 'Research and Development', '29-0890771', 'Oldsmobile', 'Bravada', 1993, datetime.datetime(2017, 10, 7, 0, 14, 42), datetime.datetime(2016, 1, 24, 21, 19, 30)]\n",
      "['101-71-4702', 'Cayla', 'MacDonagh', 'Female', 'Lao', 'Nicolas and Sons', 'Sales', '41-6841359', 'Ford', 'Mustang', 1997, datetime.datetime(2017, 1, 23, 11, 23, 17), datetime.datetime(2016, 1, 27, 4, 32, 57)]\n"
     ]
    }
   ],
   "source": [
    "gen = parse_utils.iter_combined_plain_tuple(fnames,class_names,parsers,compress_fields)\r\n",
    "print(list(next(gen)))\r\n",
    "print(list(next(gen)))\r\n"
   ]
  },
  {
   "cell_type": "code",
   "execution_count": 9,
   "metadata": {},
   "outputs": [
    {
     "name": "stdout",
     "output_type": "stream",
     "text": [
      "('ssn', 'first_name', 'last_name', 'gender', 'language', 'employer', 'department', 'employee_id', 'vehicle_make', 'vehicle_model', 'model_year', 'last_updated', 'created')\n"
     ]
    }
   ],
   "source": [
    "nt = parse_utils.create_combo_named_tuple_class(fnames,compress_fields)\r\n",
    "print(nt._fields)"
   ]
  },
  {
   "cell_type": "code",
   "execution_count": 14,
   "metadata": {},
   "outputs": [
    {
     "name": "stdout",
     "output_type": "stream",
     "text": [
      "Data(ssn='100-53-9824', first_name='Sebastiano', last_name='Tester', gender='Male', language='Icelandic', employer='Stiedemann-Bailey', department='Research and Development', employee_id='29-0890771', vehicle_make='Oldsmobile', vehicle_model='Bravada', model_year=1993, last_updated=datetime.datetime(2017, 10, 7, 0, 14, 42), created=datetime.datetime(2016, 1, 24, 21, 19, 30))\n",
      "\n",
      "Data(ssn='101-71-4702', first_name='Cayla', last_name='MacDonagh', gender='Female', language='Lao', employer='Nicolas and Sons', department='Sales', employee_id='41-6841359', vehicle_make='Ford', vehicle_model='Mustang', model_year=1997, last_updated=datetime.datetime(2017, 1, 23, 11, 23, 17), created=datetime.datetime(2016, 1, 27, 4, 32, 57))\n",
      "\n"
     ]
    }
   ],
   "source": [
    "data_iter = parse_utils.iter_combined(fnames,class_names,parsers,compress_fields)\r\n",
    "for row in itertools.islice(data_iter,2):\r\n",
    "    print(row,end='\\n\\n')"
   ]
  }
 ],
 "metadata": {
  "interpreter": {
   "hash": "36be788703b8fc7b3bd53d39c77f7af391b075e9edb32479c519851cc737895d"
  },
  "kernelspec": {
   "display_name": "Python 3.7.9 64-bit ('venv2')",
   "name": "python3"
  },
  "language_info": {
   "name": "python",
   "version": ""
  },
  "orig_nbformat": 4
 },
 "nbformat": 4,
 "nbformat_minor": 2
}