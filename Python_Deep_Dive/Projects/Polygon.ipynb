{
 "metadata": {
  "language_info": {
   "codemirror_mode": {
    "name": "ipython",
    "version": 3
   },
   "file_extension": ".py",
   "mimetype": "text/x-python",
   "name": "python",
   "nbconvert_exporter": "python",
   "pygments_lexer": "ipython3",
   "version": "3.9.1"
  },
  "orig_nbformat": 2,
  "kernelspec": {
   "name": "python391jvsc74a57bd06dbcfa4acfde829108fd9fed7b4c7e3cf5b89483651b78d4b8e08d6c4461514a",
   "display_name": "Python 3.9.1 64-bit ('venv1': venv)"
  }
 },
 "nbformat": 4,
 "nbformat_minor": 2,
 "cells": [
  {
   "cell_type": "code",
   "execution_count": 1,
   "metadata": {},
   "outputs": [],
   "source": [
    "import math\n",
    "\n",
    "\n",
    "class Polygon:\n",
    "    def __init__(self,n,R):\n",
    "        if n<3:\n",
    "            raise ValueError('Polygon must have at least three sides.')\n",
    "        self._n = n\n",
    "        self._R = R\n",
    "    \n",
    "    def __repr__(self):\n",
    "        return f'Polygon(n={self._n}, R={self._R})'\n",
    "    \n",
    "    @property\n",
    "    def count_vertices(self):\n",
    "        return self._n\n",
    "    \n",
    "    @property\n",
    "    def count_edges(self):\n",
    "        return self._n\n",
    "\n",
    "    @property\n",
    "    def circumradius(self):\n",
    "        return self._R\n",
    "\n",
    "    @property\n",
    "    def interior_angle(self):\n",
    "        return (self._n - 2)*180/self._n\n",
    "    \n",
    "    @property\n",
    "    def side_length(self):\n",
    "        return 2*self._R*math.sin(math.pi / self._n)\n",
    "    \n",
    "    @property\n",
    "    def apothem(self):\n",
    "        return self._R * math.cos(math.pi/self._n)\n",
    "\n",
    "    @property\n",
    "    def area(self):\n",
    "        return self._n / 2*self.side_length * self.apothem\n",
    "    \n",
    "    @property\n",
    "    def perimeter(self):\n",
    "        return self._n * self.side_length\n",
    "    \n",
    "    def __eq__(self,other):\n",
    "        if isinstance(other,self.__class__):\n",
    "            return (self.count_edges==other.count_edges\n",
    "                    and self.circumradius==other.circumradius)\n",
    "        else:\n",
    "            return NotImplemented\n",
    "    \n",
    "    def __gt__(self,other):\n",
    "        if isinstance(other,self.__class__):\n",
    "            return self.count_vertices > other.count_vertices\n",
    "        else:\n",
    "            return NotImplemented"
   ]
  },
  {
   "cell_type": "code",
   "execution_count": 2,
   "metadata": {},
   "outputs": [],
   "source": [
    "def test_polygon():\n",
    "    rel_tol = 0.001\n",
    "    abs_tol = 0.001\n",
    "\n",
    "    n = 3\n",
    "    R = 1\n",
    "    p = Polygon(n,R)\n",
    "    assert str(p)==f'Polygon(n=3, R=1)',f'actual:{str(p)}'\n",
    "    assert p.count_vertices == n, (f'actual: {p.count_vertices}, '\n",
    "                                    f' expected: {n}')\n",
    "    assert p.count_edges == n\n",
    "    assert p.circumradius == R\n",
    "    assert p.interior_angle == 60"
   ]
  },
  {
   "cell_type": "code",
   "execution_count": 3,
   "metadata": {},
   "outputs": [],
   "source": [
    "test_polygon()"
   ]
  },
  {
   "cell_type": "code",
   "execution_count": 4,
   "metadata": {},
   "outputs": [],
   "source": [
    "def test_poygon():\n",
    "    rel_tol = 0.001\n",
    "    abs_tol = 0.001\n",
    "\n",
    "    n = 6\n",
    "    R = 2\n",
    "    p = Polygon(n,R)\n",
    "    assert math.isclose(p.interior_angle,120)\n",
    "    assert math.isclose(p.area, 10.3923,(f'actual: {p.area}, '\n",
    "                        f' expected: {2.0}'))\n",
    "    assert math.isclose(p.side_length,2,\n",
    "                        rel_tol=rel_tol,\n",
    "                        abs_tol=abs_tol)\n",
    "    assert math.isclose(p.perimeter,12,\n",
    "                        rel_tol=rel_tol,abs_tol=abs_tol)\n",
    "    assert math.isclose(p.apothem,0.707,rel_tol=rel_tol,abs_tol=abs_tol)"
   ]
  },
  {
   "cell_type": "code",
   "execution_count": 5,
   "metadata": {},
   "outputs": [],
   "source": [
    "test_polygon()"
   ]
  },
  {
   "cell_type": "code",
   "execution_count": 6,
   "metadata": {},
   "outputs": [],
   "source": [
    "def test_poygon():\n",
    "    rel_tol = 0.001\n",
    "    abs_tol = 0.001\n",
    "\n",
    "    p1 = Polygon(3,100)\n",
    "    p2 = Polygon(10,10)\n",
    "    p3 = Polygon(15,10)\n",
    "    p4 = Polygon(15,100)\n",
    "    p5 = Polygon(15,100)\n",
    "\n",
    "    assert p2>p1\n",
    "    assert p2<p3\n",
    "    assert p3 != p4\n",
    "    assert p1 != p4"
   ]
  },
  {
   "cell_type": "code",
   "execution_count": 7,
   "metadata": {},
   "outputs": [],
   "source": [
    "test_polygon()"
   ]
  },
  {
   "cell_type": "code",
   "execution_count": 8,
   "metadata": {},
   "outputs": [
    {
     "output_type": "error",
     "ename": "ValueError",
     "evalue": "Polygon must have at least three sides.",
     "traceback": [
      "\u001b[1;31m---------------------------------------------------------------------------\u001b[0m",
      "\u001b[1;31mValueError\u001b[0m                                Traceback (most recent call last)",
      "\u001b[1;32m<ipython-input-8-482d8922feaa>\u001b[0m in \u001b[0;36m<module>\u001b[1;34m\u001b[0m\n\u001b[1;32m----> 1\u001b[1;33m \u001b[0mp\u001b[0m \u001b[1;33m=\u001b[0m \u001b[0mPolygon\u001b[0m\u001b[1;33m(\u001b[0m\u001b[1;36m1\u001b[0m\u001b[1;33m,\u001b[0m\u001b[1;36m10\u001b[0m\u001b[1;33m)\u001b[0m\u001b[1;33m\u001b[0m\u001b[1;33m\u001b[0m\u001b[0m\n\u001b[0m",
      "\u001b[1;32m<ipython-input-1-1ee778dfcc96>\u001b[0m in \u001b[0;36m__init__\u001b[1;34m(self, n, R)\u001b[0m\n\u001b[0;32m      5\u001b[0m     \u001b[1;32mdef\u001b[0m \u001b[0m__init__\u001b[0m\u001b[1;33m(\u001b[0m\u001b[0mself\u001b[0m\u001b[1;33m,\u001b[0m\u001b[0mn\u001b[0m\u001b[1;33m,\u001b[0m\u001b[0mR\u001b[0m\u001b[1;33m)\u001b[0m\u001b[1;33m:\u001b[0m\u001b[1;33m\u001b[0m\u001b[1;33m\u001b[0m\u001b[0m\n\u001b[0;32m      6\u001b[0m         \u001b[1;32mif\u001b[0m \u001b[0mn\u001b[0m\u001b[1;33m<\u001b[0m\u001b[1;36m3\u001b[0m\u001b[1;33m:\u001b[0m\u001b[1;33m\u001b[0m\u001b[1;33m\u001b[0m\u001b[0m\n\u001b[1;32m----> 7\u001b[1;33m             \u001b[1;32mraise\u001b[0m \u001b[0mValueError\u001b[0m\u001b[1;33m(\u001b[0m\u001b[1;34m'Polygon must have at least three sides.'\u001b[0m\u001b[1;33m)\u001b[0m\u001b[1;33m\u001b[0m\u001b[1;33m\u001b[0m\u001b[0m\n\u001b[0m\u001b[0;32m      8\u001b[0m         \u001b[0mself\u001b[0m\u001b[1;33m.\u001b[0m\u001b[0m_n\u001b[0m \u001b[1;33m=\u001b[0m \u001b[0mn\u001b[0m\u001b[1;33m\u001b[0m\u001b[1;33m\u001b[0m\u001b[0m\n\u001b[0;32m      9\u001b[0m         \u001b[0mself\u001b[0m\u001b[1;33m.\u001b[0m\u001b[0m_R\u001b[0m \u001b[1;33m=\u001b[0m \u001b[0mR\u001b[0m\u001b[1;33m\u001b[0m\u001b[1;33m\u001b[0m\u001b[0m\n",
      "\u001b[1;31mValueError\u001b[0m: Polygon must have at least three sides."
     ]
    }
   ],
   "source": [
    "p = Polygon(1,10)"
   ]
  },
  {
   "cell_type": "code",
   "execution_count": 9,
   "metadata": {},
   "outputs": [],
   "source": [
    "class Polygons:\n",
    "    def __init__(self,m,R):\n",
    "        if m<3:\n",
    "            raise ValueError('m must be greater than 3')\n",
    "        self._m = m\n",
    "        self._R = R\n",
    "        self._polygons = [Polygon(i,R) for i in range(3,m+1)]\n",
    "\n",
    "    def __len__(self):\n",
    "        return self._m - 2\n",
    "\n",
    "    def __repr__(self):\n",
    "        return f'Polygons(m={self._m},R={self._R})'\n",
    "    \n",
    "    def __getitem__(self,s):\n",
    "        return self._polygons[s]\n",
    "    \n",
    "    @property\n",
    "    def max_efficiency_polygon(self):\n",
    "        sorted_polygons = sorted(self._polygons,key=lambda p:p.area/p.perimeter,reverse=True)\n",
    "        return sorted_polygons"
   ]
  },
  {
   "cell_type": "code",
   "execution_count": 10,
   "metadata": {},
   "outputs": [
    {
     "output_type": "execute_result",
     "data": {
      "text/plain": [
       "Polygon(n=4, R=2)"
      ]
     },
     "metadata": {},
     "execution_count": 10
    }
   ],
   "source": [
    "po = Polygons(4,2)\n",
    "po[1]"
   ]
  },
  {
   "cell_type": "code",
   "execution_count": 11,
   "metadata": {},
   "outputs": [
    {
     "output_type": "execute_result",
     "data": {
      "text/plain": [
       "[Polygon(n=4, R=2), Polygon(n=3, R=2)]"
      ]
     },
     "metadata": {},
     "execution_count": 11
    }
   ],
   "source": [
    "po.max_efficiency_polygon"
   ]
  },
  {
   "source": [
    "# Using Lazy Property"
   ],
   "cell_type": "markdown",
   "metadata": {}
  },
  {
   "cell_type": "code",
   "execution_count": 4,
   "metadata": {},
   "outputs": [],
   "source": [
    "import math\n",
    "\n",
    "class Polygon:\n",
    "    def __init__(self,n,R):\n",
    "        if n<3:\n",
    "            raise ValueError('Polygon must have at least three sides.')\n",
    "        self._n = n\n",
    "        self._R = R\n",
    "\n",
    "        self._interior_angle = None\n",
    "        self._side_length = None\n",
    "        self._apothem = None\n",
    "        self._area = None\n",
    "        self._perimeter = None\n",
    "    \n",
    "    def __repr__(self):\n",
    "        return f'Polygon(n={self._n}, R={self._R})'\n",
    "    \n",
    "    @property\n",
    "    def count_vertices(self):\n",
    "        return self._n\n",
    "    \n",
    "    @property\n",
    "    def count_edges(self):\n",
    "        return self._n\n",
    "\n",
    "    @property\n",
    "    def circumradius(self):\n",
    "        return self._R\n",
    "\n",
    "    @property\n",
    "    def interior_angle(self):\n",
    "        if self._interior_angle is None:\n",
    "            self._interior_angle= (self._n - 2)*180/self._n\n",
    "        return self._interior_angle\n",
    "    \n",
    "    @property\n",
    "    def side_length(self):\n",
    "        if self._side_length is None:\n",
    "            self._side_length = 2*self._R*math.sin(math.pi / self._n)\n",
    "        return self._side_length\n",
    "    \n",
    "    @property\n",
    "    def apothem(self):\n",
    "        if self._apothem is None:\n",
    "            self._apothem = self._R * math.cos(math.pi/self._n)\n",
    "        return self._apothem\n",
    "\n",
    "    @property\n",
    "    def area(self):\n",
    "        if self._area is None:\n",
    "            self._area = self._n / 2*self.side_length * self.apothem\n",
    "        return self._area\n",
    "    \n",
    "    @property\n",
    "    def perimeter(self):\n",
    "        if self._perimeter is None:\n",
    "            self._perimeter = self._n * self.side_length\n",
    "        return self._perimeter\n",
    "    \n",
    "    def __eq__(self,other):\n",
    "        if isinstance(other,self.__class__):\n",
    "            return (self.count_edges==other.count_edges\n",
    "                    and self.circumradius==other.circumradius)\n",
    "        else:\n",
    "            return NotImplemented\n",
    "    \n",
    "    def __gt__(self,other):\n",
    "        if isinstance(other,self.__class__):\n",
    "            return self.count_vertices > other.count_vertices\n",
    "        else:\n",
    "            return NotImplemented"
   ]
  },
  {
   "cell_type": "code",
   "execution_count": 5,
   "metadata": {},
   "outputs": [],
   "source": [
    "def test_polygon():\n",
    "    rel_tol = 0.001\n",
    "    abs_tol = 0.001\n",
    "\n",
    "    n = 3\n",
    "    R = 1\n",
    "    p = Polygon(n,R)\n",
    "    assert str(p)==f'Polygon(n=3, R=1)',f'actual:{str(p)}'\n",
    "    assert p.count_vertices == n, (f'actual: {p.count_vertices}, '\n",
    "                                    f' expected: {n}')\n",
    "    assert p.count_edges == n\n",
    "    assert p.circumradius == R\n",
    "    assert p.interior_angle == 60"
   ]
  },
  {
   "cell_type": "code",
   "execution_count": 6,
   "metadata": {},
   "outputs": [],
   "source": [
    "test_polygon()"
   ]
  },
  {
   "source": [
    "# Using Iterable in Polygons class"
   ],
   "cell_type": "markdown",
   "metadata": {}
  },
  {
   "cell_type": "code",
   "execution_count": 10,
   "metadata": {},
   "outputs": [],
   "source": [
    "class PolygonIterator:\n",
    "    def __init__(self,m,R):\n",
    "        if m<3:\n",
    "            raise ValueError('cannot be less than 3')\n",
    "        self._m = m\n",
    "        self._R = R\n",
    "        self._i = 3\n",
    "    \n",
    "    def __iter__(self):\n",
    "        return self\n",
    "    \n",
    "    def __next__(self):\n",
    "        if self._i > self._m:\n",
    "            raise StopIteration\n",
    "        else:\n",
    "            result = Polygon(self._i,self._R)\n",
    "            self._i +=1\n",
    "            return result"
   ]
  },
  {
   "cell_type": "code",
   "execution_count": 11,
   "metadata": {},
   "outputs": [],
   "source": [
    "class Polygons:\n",
    "    def __init__(self,m,R):\n",
    "        if m<3:\n",
    "            raise ValueError('m must be greater than 3')\n",
    "        self._m = m\n",
    "        self._R = R\n",
    "        self._polygons = [Polygon(i,R) for i in range(3,m+1)]\n",
    "\n",
    "    def __len__(self):\n",
    "        return self._m - 2\n",
    "\n",
    "    def __repr__(self):\n",
    "        return f'Polygons(m={self._m},R={self._R})'\n",
    "    \n",
    "    def __iter__(self,):\n",
    "        return PolygonIterator(self._m,self._R)\n",
    "    \n",
    "    @property\n",
    "    def max_efficiency_polygon(self):\n",
    "        sorted_polygons = sorted(PolygonIterator(self._m,self._R),key=lambda p:p.area/p.perimeter,reverse=True)\n",
    "        return sorted_polygons"
   ]
  },
  {
   "cell_type": "code",
   "execution_count": 16,
   "metadata": {},
   "outputs": [
    {
     "output_type": "stream",
     "name": "stdout",
     "text": [
      "Polygon(n=3, R=2)\nPolygon(n=4, R=2)\n"
     ]
    },
    {
     "output_type": "error",
     "ename": "StopIteration",
     "evalue": "",
     "traceback": [
      "\u001b[1;31m---------------------------------------------------------------------------\u001b[0m",
      "\u001b[1;31mStopIteration\u001b[0m                             Traceback (most recent call last)",
      "\u001b[1;32m<ipython-input-16-b2efc4c9b55a>\u001b[0m in \u001b[0;36m<module>\u001b[1;34m\u001b[0m\n\u001b[0;32m      2\u001b[0m \u001b[0mprint\u001b[0m\u001b[1;33m(\u001b[0m\u001b[0mnext\u001b[0m\u001b[1;33m(\u001b[0m\u001b[0mpo\u001b[0m\u001b[1;33m)\u001b[0m\u001b[1;33m)\u001b[0m\u001b[1;33m\u001b[0m\u001b[1;33m\u001b[0m\u001b[0m\n\u001b[0;32m      3\u001b[0m \u001b[0mprint\u001b[0m\u001b[1;33m(\u001b[0m\u001b[0mnext\u001b[0m\u001b[1;33m(\u001b[0m\u001b[0mpo\u001b[0m\u001b[1;33m)\u001b[0m\u001b[1;33m)\u001b[0m\u001b[1;33m\u001b[0m\u001b[1;33m\u001b[0m\u001b[0m\n\u001b[1;32m----> 4\u001b[1;33m \u001b[0mprint\u001b[0m\u001b[1;33m(\u001b[0m\u001b[0mnext\u001b[0m\u001b[1;33m(\u001b[0m\u001b[0mpo\u001b[0m\u001b[1;33m)\u001b[0m\u001b[1;33m)\u001b[0m\u001b[1;33m\u001b[0m\u001b[1;33m\u001b[0m\u001b[0m\n\u001b[0m",
      "\u001b[1;32m<ipython-input-10-4ac9a50d9698>\u001b[0m in \u001b[0;36m__next__\u001b[1;34m(self)\u001b[0m\n\u001b[0;32m     12\u001b[0m     \u001b[1;32mdef\u001b[0m \u001b[0m__next__\u001b[0m\u001b[1;33m(\u001b[0m\u001b[0mself\u001b[0m\u001b[1;33m)\u001b[0m\u001b[1;33m:\u001b[0m\u001b[1;33m\u001b[0m\u001b[1;33m\u001b[0m\u001b[0m\n\u001b[0;32m     13\u001b[0m         \u001b[1;32mif\u001b[0m \u001b[0mself\u001b[0m\u001b[1;33m.\u001b[0m\u001b[0m_i\u001b[0m \u001b[1;33m>\u001b[0m \u001b[0mself\u001b[0m\u001b[1;33m.\u001b[0m\u001b[0m_m\u001b[0m\u001b[1;33m:\u001b[0m\u001b[1;33m\u001b[0m\u001b[1;33m\u001b[0m\u001b[0m\n\u001b[1;32m---> 14\u001b[1;33m             \u001b[1;32mraise\u001b[0m \u001b[0mStopIteration\u001b[0m\u001b[1;33m\u001b[0m\u001b[1;33m\u001b[0m\u001b[0m\n\u001b[0m\u001b[0;32m     15\u001b[0m         \u001b[1;32melse\u001b[0m\u001b[1;33m:\u001b[0m\u001b[1;33m\u001b[0m\u001b[1;33m\u001b[0m\u001b[0m\n\u001b[0;32m     16\u001b[0m             \u001b[0mresult\u001b[0m \u001b[1;33m=\u001b[0m \u001b[0mPolygon\u001b[0m\u001b[1;33m(\u001b[0m\u001b[0mself\u001b[0m\u001b[1;33m.\u001b[0m\u001b[0m_i\u001b[0m\u001b[1;33m,\u001b[0m\u001b[0mself\u001b[0m\u001b[1;33m.\u001b[0m\u001b[0m_R\u001b[0m\u001b[1;33m)\u001b[0m\u001b[1;33m\u001b[0m\u001b[1;33m\u001b[0m\u001b[0m\n",
      "\u001b[1;31mStopIteration\u001b[0m: "
     ]
    }
   ],
   "source": [
    "po = PolygonIterator(4,2)\n",
    "print(next(po))\n",
    "print(next(po))\n",
    "print(next(po))\n"
   ]
  },
  {
   "cell_type": "code",
   "execution_count": 15,
   "metadata": {},
   "outputs": [
    {
     "output_type": "stream",
     "name": "stdout",
     "text": [
      "Polygon(n=3, R=3)\nPolygon(n=4, R=3)\nPolygon(n=5, R=3)\nPolygon(n=3, R=3)\nPolygon(n=4, R=3)\nPolygon(n=5, R=3)\n"
     ]
    }
   ],
   "source": [
    "polygons = Polygons(5,3)\n",
    "\n",
    "for p in polygons:\n",
    "    print(p)\n",
    "for p in polygons:\n",
    "    print(p)"
   ]
  },
  {
   "cell_type": "code",
   "execution_count": 17,
   "metadata": {},
   "outputs": [
    {
     "output_type": "execute_result",
     "data": {
      "text/plain": [
       "[Polygon(n=5, R=3), Polygon(n=4, R=3), Polygon(n=3, R=3)]"
      ]
     },
     "metadata": {},
     "execution_count": 17
    }
   ],
   "source": [
    "polygons.max_efficiency_polygon"
   ]
  }
 ]
}