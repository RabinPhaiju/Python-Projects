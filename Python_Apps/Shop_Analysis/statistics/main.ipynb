{
 "metadata": {
  "language_info": {
   "codemirror_mode": {
    "name": "ipython",
    "version": 3
   },
   "file_extension": ".py",
   "mimetype": "text/x-python",
   "name": "python",
   "nbconvert_exporter": "python",
   "pygments_lexer": "ipython3",
   "version": "3.9.1"
  },
  "orig_nbformat": 2,
  "kernelspec": {
   "name": "python3",
   "display_name": "Python 3.9.1 64-bit ('venv1')"
  },
  "interpreter": {
   "hash": "6dbcfa4acfde829108fd9fed7b4c7e3cf5b89483651b78d4b8e08d6c4461514a"
  }
 },
 "nbformat": 4,
 "nbformat_minor": 2,
 "cells": [
  {
   "source": [
    "# Additive theory of probability.\n",
    "    - set\n",
    "    - eg:\n",
    "        - to check if the product(damange or dont work) is from suppiler A or B.\n",
    "        - like logistic regression, which product belong to which supplier."
   ],
   "cell_type": "markdown",
   "metadata": {}
  },
  {
   "source": [
    "# Binomial Distrubution\n",
    "    - no preference\n",
    "    - fit the distribution."
   ],
   "cell_type": "markdown",
   "metadata": {}
  },
  {
   "cell_type": "code",
   "execution_count": 19,
   "metadata": {},
   "outputs": [
    {
     "output_type": "stream",
     "name": "stdout",
     "text": [
      "0.027000000000000007\n"
     ]
    }
   ],
   "source": [
    "# eg: in a container the probability of part being defective is 0.1 , find the probabiblity that 3 random selected parts have 2 defective.\n",
    "N = 3 # No of trails\n",
    "x = 2 # no of success\n",
    "p = 0.1\n",
    "q = 1-p\n",
    "from math import comb,pow\n",
    "print(comb(N,x)* pow(p,x)*pow(q,(N-x)))"
   ]
  },
  {
   "cell_type": "code",
   "execution_count": 20,
   "metadata": {},
   "outputs": [
    {
     "output_type": "stream",
     "name": "stdout",
     "text": [
      "2.674446749308661e-10\n"
     ]
    }
   ],
   "source": [
    "# eg: the multiple choice part of SAT math test has 44 ques. if one ques has 4 options. find the prob that randomly selsected 31 correct ans.\n",
    "N = 44\n",
    "x = 31\n",
    "p = 0.25\n",
    "q= 1-p\n",
    "from math import comb,pow\n",
    "print(comb(N,x)* pow(p,x)*pow(q,(N-x)))"
   ]
  },
  {
   "source": [
    "# Poisson distribution\n",
    "    - rare case\n",
    "    - no. of twins birth in hospital.\n",
    "    - n. of defective materials in packets or in order. (in rare case)"
   ],
   "cell_type": "markdown",
   "metadata": {}
  },
  {
   "cell_type": "code",
   "execution_count": 25,
   "metadata": {},
   "outputs": [],
   "source": [
    "# eg: in a order container having 100000 items. the prob of damage is 0.0001 , find the prob that more than 3 item get damaged.\n"
   ]
  },
  {
   "source": [
    "# Negative Binomail Distribution\n",
    "    - when we need to perfromed an experiment until a total  of r successes are obtained.\n",
    "    - If r=1, means we perform an experiment till we obtain first success.\n",
    "    - If r-5, we perfrom an experiment till we obtain 5th success.\n",
    "    - mean: r/p\n",
    "    - variance : rq/p^2"
   ],
   "cell_type": "markdown",
   "metadata": {}
  },
  {
   "cell_type": "code",
   "execution_count": 33,
   "metadata": {},
   "outputs": [],
   "source": [
    "from math import comb,pow\n",
    "def neg_bio(X,d,p):\n",
    "    return (comb(X-1,d-1)*pow(p,d)*pow(1-p,X-d))"
   ]
  },
  {
   "cell_type": "code",
   "execution_count": 34,
   "metadata": {},
   "outputs": [
    {
     "output_type": "execute_result",
     "data": {
      "text/plain": [
       "0.0645"
      ]
     },
     "metadata": {},
     "execution_count": 34
    }
   ],
   "source": [
    "# eg: if prob is 0.40 that a item is damaged. what is prob that the 10th item is 3rd damanged.\n",
    "\n",
    "X = 10\n",
    "d= 3\n",
    "p = 0.4\n",
    "prob = neg_bio(X,d,p)\n",
    "round(prob,4)"
   ]
  },
  {
   "cell_type": "code",
   "execution_count": 43,
   "metadata": {},
   "outputs": [
    {
     "output_type": "execute_result",
     "data": {
      "text/plain": [
       "0.9995"
      ]
     },
     "metadata": {},
     "execution_count": 43
    }
   ],
   "source": [
    "# eg: In a company, 5% defective components are producted. What is prob that at least 5 components are examed in order to get 3 defective?\n",
    "p = 0.05\n",
    "X = 5 # at least 5\n",
    "d= 3 # at least 3\n",
    "# prob p(x>=5) -> 1 - p(x<5)-> 1 - p(x=3) - p(x=4) \n",
    "prob = 1\n",
    "for i in range(d,X):\n",
    "    prob-=neg_bio(i,d,p)\n",
    "round(prob,4)"
   ]
  },
  {
   "cell_type": "code",
   "execution_count": 46,
   "metadata": {},
   "outputs": [
    {
     "output_type": "execute_result",
     "data": {
      "text/plain": [
       "0.9928"
      ]
     },
     "metadata": {},
     "execution_count": 46
    }
   ],
   "source": [
    "# a machine produce 5% defective, a person checks in random, what is the prob that at least 4 item are to be checked in order to get 2 defective.\n",
    "p = 0.05\n",
    "X = 4 # at least 5 to be checked\n",
    "d= 2\n",
    "prob = 1\n",
    "for i in range(d,X):\n",
    "    prob-=neg_bio(i,d,p)\n",
    "round(prob,4)"
   ]
  },
  {
   "source": [
    "# Normal distribution"
   ],
   "cell_type": "markdown",
   "metadata": {}
  },
  {
   "cell_type": "code",
   "execution_count": 1,
   "metadata": {},
   "outputs": [
    {
     "output_type": "stream",
     "name": "stdout",
     "text": [
      "more than 60: 0.48\nless than 56: 0.21\nbetn 45 and 65: 0.85\n"
     ]
    }
   ],
   "source": [
    "# eg: In a container 100 , damanged item with mean 60 and sd 5. what percentage of item are:\n",
    "# 1. more tha 60 item are damages\n",
    "# 2. less than 56 items are damanged\n",
    "# 3. between 45 and 65\n",
    "from numpy.random import seed\n",
    "from numpy.random import normal\n",
    "import matplotlib.pyplot as plt\n",
    "\n",
    "size = 100\n",
    "mean  = 60\n",
    "std = 5\n",
    "\n",
    "calc = []\n",
    "for i in range(20):\n",
    "    data = normal(loc=mean, scale=std,size=size)\n",
    "    greater = [x for x in data if x>60]\n",
    "    calc.append(len(greater))\n",
    "more_than = sum(calc)/len(calc)/100\n",
    "print('more than 60:',round(more_than,2))\n",
    "\n",
    "calc = []\n",
    "for i in range(20):\n",
    "    data = normal(loc=mean, scale=std,size=size)\n",
    "    greater = [x for x in data if x<56]\n",
    "    calc.append(len(greater))\n",
    "less_than = sum(calc)/len(calc)/100\n",
    "print('less than 56:',round(less_than,2))\n",
    "\n",
    "calc = []\n",
    "for i in range(20):\n",
    "    data = normal(loc=mean, scale=std,size=size)\n",
    "    greater = [x for x in data if x<65 and x>45]\n",
    "    calc.append(len(greater))\n",
    "less_than = sum(calc)/len(calc)/100\n",
    "print('betn 45 and 65:',round(less_than,2))"
   ]
  },
  {
   "source": [
    "# Example"
   ],
   "cell_type": "markdown",
   "metadata": {}
  },
  {
   "cell_type": "code",
   "execution_count": 6,
   "metadata": {},
   "outputs": [
    {
     "output_type": "stream",
     "name": "stdout",
     "text": [
      "0 0.125\n1 0.375\n2 0.375\n3 0.125\n"
     ]
    }
   ],
   "source": [
    "# Example\n",
    "\n",
    "N = 3 # No of trails\n",
    "x = 0 # no of success\n",
    "p = 0.5\n",
    "q = 1-p\n",
    "from math import comb,pow\n",
    "for x in range(4):\n",
    "    print(x,comb(N,x)* pow(p,x)*pow(q,(N-x)))"
   ]
  },
  {
   "cell_type": "code",
   "execution_count": null,
   "metadata": {},
   "outputs": [],
   "source": [
    "# eg: if prob is 0.40 that a item is damaged. what is prob that the 10th item is 3rd damanged.\n",
    "\n",
    "X = 10\n",
    "d= 3\n",
    "p = 0.4\n",
    "prob = neg_bio(X,d,p)\n",
    "round(prob,4)"
   ]
  }
 ]
}