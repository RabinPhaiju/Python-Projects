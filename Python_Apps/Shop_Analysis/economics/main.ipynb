{
 "metadata": {
  "language_info": {
   "codemirror_mode": {
    "name": "ipython",
    "version": 3
   },
   "file_extension": ".py",
   "mimetype": "text/x-python",
   "name": "python",
   "nbconvert_exporter": "python",
   "pygments_lexer": "ipython3",
   "version": "3.9.1"
  },
  "orig_nbformat": 2,
  "kernelspec": {
   "name": "python391jvsc74a57bd06dbcfa4acfde829108fd9fed7b4c7e3cf5b89483651b78d4b8e08d6c4461514a",
   "display_name": "Python 3.9.1 64-bit ('venv1')"
  }
 },
 "nbformat": 4,
 "nbformat_minor": 2,
 "cells": [
  {
   "cell_type": "code",
   "execution_count": 1,
   "metadata": {},
   "outputs": [],
   "source": [
    "from math import pow,e\n",
    "import numpy as np\n",
    "import numpy_financial as npf\n",
    "import matplotlib.pyplot as plt\n",
    "\n",
    "# Time Value Money\n",
    "\n",
    "def fFgP(p,i,n): #\n",
    "    i = i/100\n",
    "    return round((p*pow(1+i,n)),2)\n",
    "\n",
    "def fFgPl(lst,i): # fFgPl([-15000,10000,5000,0,3000],10) => 398.5\n",
    "    sum = 0\n",
    "    for n,amount in enumerate(reversed(lst)):\n",
    "        sum +=fFgP(amount,i,n)\n",
    "    return sum\n",
    "\n",
    "def fFgPcd(p,i,n):\n",
    "    i = i/100\n",
    "    return (f*pow(e,(i*n)))\n",
    "\n",
    "def fFgAcd(f,i,n): # fFgAcd(500,8,5) => 2952.5874266620626\n",
    "    i = i/100\n",
    "    return (f*(pow(e,(i*n))-1)/(pow(e,i)-1))\n",
    "\n",
    "def fPgAcd(a,i,n):\n",
    "    i = i/100\n",
    "    return (a*(pow(e,(i*n))-1)/(pow(e,i)-1)/pow(e,i*n))\n",
    "\n",
    "def fFgAcc(a,i,n): # fFgAcc(500,8,5) => 3073.9043602579395\n",
    "    i = i/100\n",
    "    return (a*(pow(e,(i*n))-1)/i) \n",
    "\n",
    "def fPgAcc(a,i,n):\n",
    "    i = i/100\n",
    "    return (a*(pow(e,(i*n))-1)/i/pow(e,i*n))\n",
    "\n",
    "def fPgF(f,i,n): # fPgF(14228951.2,18,5) => 6219605.71\n",
    "    i = i/100\n",
    "    return round((f*pow(1+i,-n)),2)\n",
    "\n",
    "def fPgFl(lst,i): # fPgFl([10000,10000,10000,10000],10) => 31698.6\n",
    "    sum = 0\n",
    "    for n,amount in enumerate(reversed(lst)): # recheck\n",
    "        # i is divided in fPgF formula\n",
    "        sum +=fPgF(amount,i,n+1)\n",
    "    return sum\n",
    "\n",
    "def fFgA(a,i,n): # fFgA(5000000,18,5) =>35771048.8\n",
    "    i = i/100\n",
    "    return round((a*(pow(1+i,n)-1)/i),2)\n",
    "\n",
    "def fAgF(f,i,n):\n",
    "    i = i/100\n",
    "    return round((f*(i/(pow(1+i,n)-1))),2)\n",
    "\n",
    "def fPgA(a,i,n):#\n",
    "    i = i/100\n",
    "    return round(a*((pow(1+i,n)-1)/(i*pow(1+i,n))),2)\n",
    "\n",
    "def fAgP(p,i,n):\n",
    "    i = i/100\n",
    "    return round((p*((i*pow(1+i,n))/(pow(1+i,n)-1))),2)\n",
    "    \n",
    "def fnPAI(amt,i,n):\n",
    "    a = round(pow(i+1,n),10)\n",
    "    return round((amt*i*a)+1-a,10)\n",
    "\n",
    "def fIgPA(p,a,n): # print('ans',fIgPA(1200000,200000,10)) # 10.56\n",
    "    amt = p/a\n",
    "    x1,x2 = 0.1,1\n",
    "    f1 = fnPAI(amt,x1,n)\n",
    "    f2 = fnPAI(amt,x2,n)\n",
    "    while True:\n",
    "        x3 = round(((f2*x1)-(f1*x2))/(f2-f1),10)\n",
    "        f3 = fnPAI(amt,x3,n)\n",
    "        if abs(f3)< 0.0001:\n",
    "            return round(x3*100,3)\n",
    "        else:\n",
    "            f1=f2\n",
    "            x1=x2\n",
    "            x2=x3\n",
    "            f2=f3\n",
    "    "
   ]
  },
  {
   "cell_type": "code",
   "execution_count": 2,
   "metadata": {},
   "outputs": [
    {
     "output_type": "execute_result",
     "data": {
      "text/plain": [
       "3.79"
      ]
     },
     "metadata": {},
     "execution_count": 2
    }
   ],
   "source": [
    "# Discounted Payback period\n",
    "# here 1st cash flow index[0] is investment\n",
    "Net_cash_flow = [-10000,2000,3000,4000,5000,6000,7000]\n",
    "i = 10\n",
    "def discounted_payback_period(lst,i):\n",
    "    last = 0\n",
    "    sum = lst[0]\n",
    "    for n,amount in enumerate(lst[1:]):\n",
    "        last = sum\n",
    "        sum +=round(fPgF(amount,i,n+1),2)\n",
    "        if sum>0:\n",
    "            return round(n+(abs(last/fPgF(lst[n+1],i,n+1))),3)\n",
    "            break\n",
    "discounted_payback_period(Net_cash_flow,i)"
   ]
  },
  {
   "cell_type": "code",
   "execution_count": 3,
   "metadata": {},
   "outputs": [
    {
     "output_type": "execute_result",
     "data": {
      "text/plain": [
       "19.999999999999996"
      ]
     },
     "metadata": {},
     "execution_count": 3
    }
   ],
   "source": [
    "# IRR\n",
    "irr = npf.irr([-1000,400,360,320,280,240])\n",
    "irr*=100\n",
    "irr"
   ]
  },
  {
   "cell_type": "code",
   "execution_count": 4,
   "metadata": {},
   "outputs": [
    {
     "output_type": "execute_result",
     "data": {
      "text/plain": [
       "17.94"
      ]
     },
     "metadata": {},
     "execution_count": 4
    }
   ],
   "source": [
    "# ERR / MIRR (modified irr)\n",
    "MAAR = 15\n",
    "E = 16\n",
    "lst = [-1000,400,360,320,280,240]\n",
    "err = npf.mirr(lst,MAAR/100,E/100)\n",
    "err*=100\n",
    "round(err,2)"
   ]
  },
  {
   "cell_type": "code",
   "execution_count": 5,
   "metadata": {},
   "outputs": [
    {
     "output_type": "execute_result",
     "data": {
      "text/plain": [
       "1.1679"
      ]
     },
     "metadata": {},
     "execution_count": 5
    }
   ],
   "source": [
    "# BC Ratio -> Annual worth\n",
    "MAAR = 15\n",
    "TIME = 5\n",
    "Invest = 1000\n",
    "Salvage = 100\n",
    "income = [500,500,500,500,500]\n",
    "expense = [100,140,180,220,260]\n",
    "\n",
    "AW_I = fAgP(Invest,MAAR,TIME)\n",
    "AW_S = fAgF(Salvage,MAAR,TIME)\n",
    "FW_B = fFgPl(income,MAAR)\n",
    "AW_B = fAgF(FW_B,MAAR,TIME)\n",
    "FW_C = fFgPl(expense,MAAR)\n",
    "AW_C = fAgF(FW_C,MAAR,TIME)\n",
    "\n",
    "BC = (AW_B-AW_C)/(AW_I-AW_S)\n",
    "round(BC,4)"
   ]
  },
  {
   "cell_type": "code",
   "execution_count": 6,
   "metadata": {},
   "outputs": [
    {
     "output_type": "stream",
     "name": "stdout",
     "text": [
      "('select project', [5000, 1125, 0, 18.3])\n"
     ]
    }
   ],
   "source": [
    "# Select Alternative (RoR) using IRR\n",
    "def select_alt_irr(alt,MAAR,Time):\n",
    "    # IRR\n",
    "    for alt in Alternatives:\n",
    "        with_sal = [(-1)*alt[0],*[alt[1]]*Time]\n",
    "        with_sal[-1]+=alt[2]\n",
    "        irr = npf.irr(with_sal)\n",
    "        irr = round(irr*100,1)\n",
    "        alt.append(irr)\n",
    "\n",
    "    # check if irr > MAAR\n",
    "    for alt in Alternatives:\n",
    "        if MAAR>alt[3]:\n",
    "            Alternatives.remove(alt)\n",
    "\n",
    "    # check for best alternative.\n",
    "    cur = Alternatives[0]\n",
    "    for alt in Alternatives[1:]:\n",
    "        inv = alt[0]-cur[0]\n",
    "        nar = alt[1]-cur[1]\n",
    "        sal = alt[2]-cur[2]\n",
    "        with_sal = [(-1)*inv,*[nar]*Time]\n",
    "        with_sal[-1]+=sal\n",
    "        irr = round(npf.irr(with_sal)*100,2)\n",
    "        if irr>MAAR:\n",
    "            cur = alt\n",
    "    return ('select project',cur)\n",
    "\n",
    "Alternatives = [[900,150,0],[1500,276,0],[2500,400,0],[4000,925,0],[5000,1125,0],[7000,1425,0]] # (invest,net annual benefit,salvage) => invest in increasing order.\n",
    "Time = 10\n",
    "MAAR = 10\n",
    "\n",
    "print(select_alt_irr(Alternatives,MAAR,Time))"
   ]
  },
  {
   "cell_type": "code",
   "execution_count": 7,
   "metadata": {},
   "outputs": [
    {
     "output_type": "stream",
     "name": "stdout",
     "text": [
      "('select project', [5000, 1125, 500, 18.8])\n"
     ]
    }
   ],
   "source": [
    "Alternatives = [[900,150,90],[1500,276,150],[2500,400,250],[4000,925,400],[5000,1125,500],[7000,1425,700]]\n",
    "Time = 10\n",
    "MAAR = 10\n",
    "\n",
    "print(select_alt_irr(Alternatives,MAAR,Time))"
   ]
  },
  {
   "cell_type": "code",
   "execution_count": 8,
   "metadata": {},
   "outputs": [
    {
     "output_type": "stream",
     "name": "stdout",
     "text": [
      "('select project', [5000, 1225, 100, 0, 1.38])\n"
     ]
    }
   ],
   "source": [
    "# Select Alternative (RoR) using BC ratio\n",
    "def select_alt_bcr(Alternatives,MAAR,Time):\n",
    "    # BCr\n",
    "    for alt in Alternatives:\n",
    "        AW_I = fAgP(alt[0],MAAR,Time)\n",
    "        AW_S = fAgF(alt[3],MAAR,Time)\n",
    "        BC = (alt[1]-alt[2])/(AW_I-AW_S)\n",
    "        alt.append(round(BC,2))\n",
    "\n",
    "    # check if BCr > 1\n",
    "    for alt in Alternatives:\n",
    "        if alt[4]<1:\n",
    "            Alternatives.remove(alt)\n",
    "\n",
    "    # check for best alternative.\n",
    "    cur = Alternatives[0]\n",
    "    for alt in Alternatives[1:]:\n",
    "        inv = alt[0]-cur[0]\n",
    "        inc = alt[1]-cur[1]\n",
    "        cost = alt[2]-cur[2]\n",
    "        sal = alt[3]-cur[3]\n",
    "        AW_I = fAgP(inv,MAAR,Time)\n",
    "        AW_S = fAgF(sal,MAAR,Time)\n",
    "        BC = round((inc-cost)/(AW_I-AW_S),2)\n",
    "        if BC>1:\n",
    "            cur = alt\n",
    "    return ('select project',cur)\n",
    "\n",
    "Alternatives = [[900,250,100,0],[1500,376,100,0],[2500,500,100,0],[4000,1024,100,0],[5000,1225,100,0],[7000,1525,100,0]] # (invest_in_present,annual_benefit,o&M) => invest in increasing order.\n",
    "Time = 10\n",
    "MAAR = 10\n",
    "\n",
    "print(select_alt_bcr(Alternatives,MAAR,Time))"
   ]
  },
  {
   "cell_type": "code",
   "execution_count": 9,
   "metadata": {},
   "outputs": [],
   "source": [
    "# Sensitivity Analysis\n",
    "def sens_anal(Invest,ann_rev,ann_exp,salvage,MAAR,Time):\n",
    "    all =[[] for x in range(-3,4)]\n",
    "    for e,i in enumerate(range(-3,4)):\n",
    "        all[e].append(round(fPgA((ann_rev-ann_exp),MAAR,Time) + fPgF(salvage,MAAR,Time)-(Invest+((.1*i)*Invest))))\n",
    "        all[e].append(round(fPgA((ann_rev-ann_exp)+((.1*i)*(ann_rev-ann_exp)),MAAR,Time) + fPgF(salvage,MAAR,Time)\n",
    "        -Invest))\n",
    "        all[e].append(round(fPgA((ann_rev-ann_exp),MAAR,Time) + fPgF(salvage+((.1*i)*salvage),MAAR,Time)-Invest))\n",
    "        all[e].append(round(fPgA((ann_rev-ann_exp),MAAR+((.1*i)*MAAR),Time) + fPgF(salvage,MAAR+((.1*i)*MAAR),Time)-Invest))\n",
    "        all[e].append(round(fPgA((ann_rev-ann_exp),MAAR,Time+((.1*i)*Time)) + fPgF(salvage,MAAR,Time+((.1*i)*Time))-Invest))\n",
    "    return all"
   ]
  },
  {
   "cell_type": "code",
   "execution_count": 10,
   "metadata": {},
   "outputs": [
    {
     "output_type": "display_data",
     "data": {
      "text/plain": "<Figure size 720x360 with 1 Axes>",
      "image/svg+xml": "<?xml version=\"1.0\" encoding=\"utf-8\" standalone=\"no\"?>\r\n<!DOCTYPE svg PUBLIC \"-//W3C//DTD SVG 1.1//EN\"\r\n  \"http://www.w3.org/Graphics/SVG/1.1/DTD/svg11.dtd\">\r\n<svg height=\"338.878125pt\" version=\"1.1\" viewBox=\"0 0 613.229687 338.878125\" width=\"613.229687pt\" xmlns=\"http://www.w3.org/2000/svg\" xmlns:xlink=\"http://www.w3.org/1999/xlink\">\r\n <metadata>\r\n  <rdf:RDF xmlns:cc=\"http://creativecommons.org/ns#\" xmlns:dc=\"http://purl.org/dc/elements/1.1/\" xmlns:rdf=\"http://www.w3.org/1999/02/22-rdf-syntax-ns#\">\r\n   <cc:Work>\r\n    <dc:type rdf:resource=\"http://purl.org/dc/dcmitype/StillImage\"/>\r\n    <dc:date>2021-05-29T12:18:51.963176</dc:date>\r\n    <dc:format>image/svg+xml</dc:format>\r\n    <dc:creator>\r\n     <cc:Agent>\r\n      <dc:title>Matplotlib v3.4.2, https://matplotlib.org/</dc:title>\r\n     </cc:Agent>\r\n    </dc:creator>\r\n   </cc:Work>\r\n  </rdf:RDF>\r\n </metadata>\r\n <defs>\r\n  <style type=\"text/css\">*{stroke-linecap:butt;stroke-linejoin:round;}</style>\r\n </defs>\r\n <g id=\"figure_1\">\r\n  <g id=\"patch_1\">\r\n   <path d=\"M 0 338.878125 \r\nL 613.229687 338.878125 \r\nL 613.229687 0 \r\nL 0 0 \r\nz\r\n\" style=\"fill:none;\"/>\r\n  </g>\r\n  <g id=\"axes_1\">\r\n   <g id=\"patch_2\">\r\n    <path d=\"M 48.029687 315 \r\nL 606.029688 315 \r\nL 606.029688 43.2 \r\nL 48.029687 43.2 \r\nz\r\n\" style=\"fill:#ffffff;\"/>\r\n   </g>\r\n   <g id=\"matplotlib.axis_1\">\r\n    <g id=\"xtick_1\">\r\n     <g id=\"line2d_1\">\r\n      <defs>\r\n       <path d=\"M 0 0 \r\nL 0 3.5 \r\n\" id=\"mf273706938\" style=\"stroke:#000000;stroke-width:0.8;\"/>\r\n      </defs>\r\n      <g>\r\n       <use style=\"stroke:#000000;stroke-width:0.8;\" x=\"73.393324\" xlink:href=\"#mf273706938\" y=\"315\"/>\r\n      </g>\r\n     </g>\r\n     <g id=\"text_1\">\r\n      <!-- -30% -->\r\n      <g transform=\"translate(60.476136 329.598437)scale(0.1 -0.1)\">\r\n       <defs>\r\n        <path d=\"M 313 2009 \r\nL 1997 2009 \r\nL 1997 1497 \r\nL 313 1497 \r\nL 313 2009 \r\nz\r\n\" id=\"DejaVuSans-2d\" transform=\"scale(0.015625)\"/>\r\n        <path d=\"M 2597 2516 \r\nQ 3050 2419 3304 2112 \r\nQ 3559 1806 3559 1356 \r\nQ 3559 666 3084 287 \r\nQ 2609 -91 1734 -91 \r\nQ 1441 -91 1130 -33 \r\nQ 819 25 488 141 \r\nL 488 750 \r\nQ 750 597 1062 519 \r\nQ 1375 441 1716 441 \r\nQ 2309 441 2620 675 \r\nQ 2931 909 2931 1356 \r\nQ 2931 1769 2642 2001 \r\nQ 2353 2234 1838 2234 \r\nL 1294 2234 \r\nL 1294 2753 \r\nL 1863 2753 \r\nQ 2328 2753 2575 2939 \r\nQ 2822 3125 2822 3475 \r\nQ 2822 3834 2567 4026 \r\nQ 2313 4219 1838 4219 \r\nQ 1578 4219 1281 4162 \r\nQ 984 4106 628 3988 \r\nL 628 4550 \r\nQ 988 4650 1302 4700 \r\nQ 1616 4750 1894 4750 \r\nQ 2613 4750 3031 4423 \r\nQ 3450 4097 3450 3541 \r\nQ 3450 3153 3228 2886 \r\nQ 3006 2619 2597 2516 \r\nz\r\n\" id=\"DejaVuSans-33\" transform=\"scale(0.015625)\"/>\r\n        <path d=\"M 2034 4250 \r\nQ 1547 4250 1301 3770 \r\nQ 1056 3291 1056 2328 \r\nQ 1056 1369 1301 889 \r\nQ 1547 409 2034 409 \r\nQ 2525 409 2770 889 \r\nQ 3016 1369 3016 2328 \r\nQ 3016 3291 2770 3770 \r\nQ 2525 4250 2034 4250 \r\nz\r\nM 2034 4750 \r\nQ 2819 4750 3233 4129 \r\nQ 3647 3509 3647 2328 \r\nQ 3647 1150 3233 529 \r\nQ 2819 -91 2034 -91 \r\nQ 1250 -91 836 529 \r\nQ 422 1150 422 2328 \r\nQ 422 3509 836 4129 \r\nQ 1250 4750 2034 4750 \r\nz\r\n\" id=\"DejaVuSans-30\" transform=\"scale(0.015625)\"/>\r\n        <path d=\"M 4653 2053 \r\nQ 4381 2053 4226 1822 \r\nQ 4072 1591 4072 1178 \r\nQ 4072 772 4226 539 \r\nQ 4381 306 4653 306 \r\nQ 4919 306 5073 539 \r\nQ 5228 772 5228 1178 \r\nQ 5228 1588 5073 1820 \r\nQ 4919 2053 4653 2053 \r\nz\r\nM 4653 2450 \r\nQ 5147 2450 5437 2106 \r\nQ 5728 1763 5728 1178 \r\nQ 5728 594 5436 251 \r\nQ 5144 -91 4653 -91 \r\nQ 4153 -91 3862 251 \r\nQ 3572 594 3572 1178 \r\nQ 3572 1766 3864 2108 \r\nQ 4156 2450 4653 2450 \r\nz\r\nM 1428 4353 \r\nQ 1159 4353 1004 4120 \r\nQ 850 3888 850 3481 \r\nQ 850 3069 1003 2837 \r\nQ 1156 2606 1428 2606 \r\nQ 1700 2606 1854 2837 \r\nQ 2009 3069 2009 3481 \r\nQ 2009 3884 1853 4118 \r\nQ 1697 4353 1428 4353 \r\nz\r\nM 4250 4750 \r\nL 4750 4750 \r\nL 1831 -91 \r\nL 1331 -91 \r\nL 4250 4750 \r\nz\r\nM 1428 4750 \r\nQ 1922 4750 2215 4408 \r\nQ 2509 4066 2509 3481 \r\nQ 2509 2891 2217 2550 \r\nQ 1925 2209 1428 2209 \r\nQ 931 2209 642 2551 \r\nQ 353 2894 353 3481 \r\nQ 353 4063 643 4406 \r\nQ 934 4750 1428 4750 \r\nz\r\n\" id=\"DejaVuSans-25\" transform=\"scale(0.015625)\"/>\r\n       </defs>\r\n       <use xlink:href=\"#DejaVuSans-2d\"/>\r\n       <use x=\"36.083984\" xlink:href=\"#DejaVuSans-33\"/>\r\n       <use x=\"99.707031\" xlink:href=\"#DejaVuSans-30\"/>\r\n       <use x=\"163.330078\" xlink:href=\"#DejaVuSans-25\"/>\r\n      </g>\r\n     </g>\r\n    </g>\r\n    <g id=\"xtick_2\">\r\n     <g id=\"line2d_2\">\r\n      <g>\r\n       <use style=\"stroke:#000000;stroke-width:0.8;\" x=\"157.938778\" xlink:href=\"#mf273706938\" y=\"315\"/>\r\n      </g>\r\n     </g>\r\n     <g id=\"text_2\">\r\n      <!-- -20% -->\r\n      <g transform=\"translate(145.021591 329.598437)scale(0.1 -0.1)\">\r\n       <defs>\r\n        <path d=\"M 1228 531 \r\nL 3431 531 \r\nL 3431 0 \r\nL 469 0 \r\nL 469 531 \r\nQ 828 903 1448 1529 \r\nQ 2069 2156 2228 2338 \r\nQ 2531 2678 2651 2914 \r\nQ 2772 3150 2772 3378 \r\nQ 2772 3750 2511 3984 \r\nQ 2250 4219 1831 4219 \r\nQ 1534 4219 1204 4116 \r\nQ 875 4013 500 3803 \r\nL 500 4441 \r\nQ 881 4594 1212 4672 \r\nQ 1544 4750 1819 4750 \r\nQ 2544 4750 2975 4387 \r\nQ 3406 4025 3406 3419 \r\nQ 3406 3131 3298 2873 \r\nQ 3191 2616 2906 2266 \r\nQ 2828 2175 2409 1742 \r\nQ 1991 1309 1228 531 \r\nz\r\n\" id=\"DejaVuSans-32\" transform=\"scale(0.015625)\"/>\r\n       </defs>\r\n       <use xlink:href=\"#DejaVuSans-2d\"/>\r\n       <use x=\"36.083984\" xlink:href=\"#DejaVuSans-32\"/>\r\n       <use x=\"99.707031\" xlink:href=\"#DejaVuSans-30\"/>\r\n       <use x=\"163.330078\" xlink:href=\"#DejaVuSans-25\"/>\r\n      </g>\r\n     </g>\r\n    </g>\r\n    <g id=\"xtick_3\">\r\n     <g id=\"line2d_3\">\r\n      <g>\r\n       <use style=\"stroke:#000000;stroke-width:0.8;\" x=\"242.484233\" xlink:href=\"#mf273706938\" y=\"315\"/>\r\n      </g>\r\n     </g>\r\n     <g id=\"text_3\">\r\n      <!-- -10% -->\r\n      <g transform=\"translate(229.567045 329.598437)scale(0.1 -0.1)\">\r\n       <defs>\r\n        <path d=\"M 794 531 \r\nL 1825 531 \r\nL 1825 4091 \r\nL 703 3866 \r\nL 703 4441 \r\nL 1819 4666 \r\nL 2450 4666 \r\nL 2450 531 \r\nL 3481 531 \r\nL 3481 0 \r\nL 794 0 \r\nL 794 531 \r\nz\r\n\" id=\"DejaVuSans-31\" transform=\"scale(0.015625)\"/>\r\n       </defs>\r\n       <use xlink:href=\"#DejaVuSans-2d\"/>\r\n       <use x=\"36.083984\" xlink:href=\"#DejaVuSans-31\"/>\r\n       <use x=\"99.707031\" xlink:href=\"#DejaVuSans-30\"/>\r\n       <use x=\"163.330078\" xlink:href=\"#DejaVuSans-25\"/>\r\n      </g>\r\n     </g>\r\n    </g>\r\n    <g id=\"xtick_4\">\r\n     <g id=\"line2d_4\">\r\n      <g>\r\n       <use style=\"stroke:#000000;stroke-width:0.8;\" x=\"327.029688\" xlink:href=\"#mf273706938\" y=\"315\"/>\r\n      </g>\r\n     </g>\r\n     <g id=\"text_4\">\r\n      <!-- 0% -->\r\n      <g transform=\"translate(319.097656 329.598437)scale(0.1 -0.1)\">\r\n       <use xlink:href=\"#DejaVuSans-30\"/>\r\n       <use x=\"63.623047\" xlink:href=\"#DejaVuSans-25\"/>\r\n      </g>\r\n     </g>\r\n    </g>\r\n    <g id=\"xtick_5\">\r\n     <g id=\"line2d_5\">\r\n      <g>\r\n       <use style=\"stroke:#000000;stroke-width:0.8;\" x=\"411.575142\" xlink:href=\"#mf273706938\" y=\"315\"/>\r\n      </g>\r\n     </g>\r\n     <g id=\"text_5\">\r\n      <!-- 10% -->\r\n      <g transform=\"translate(400.461861 329.598437)scale(0.1 -0.1)\">\r\n       <use xlink:href=\"#DejaVuSans-31\"/>\r\n       <use x=\"63.623047\" xlink:href=\"#DejaVuSans-30\"/>\r\n       <use x=\"127.246094\" xlink:href=\"#DejaVuSans-25\"/>\r\n      </g>\r\n     </g>\r\n    </g>\r\n    <g id=\"xtick_6\">\r\n     <g id=\"line2d_6\">\r\n      <g>\r\n       <use style=\"stroke:#000000;stroke-width:0.8;\" x=\"496.120597\" xlink:href=\"#mf273706938\" y=\"315\"/>\r\n      </g>\r\n     </g>\r\n     <g id=\"text_6\">\r\n      <!-- 20% -->\r\n      <g transform=\"translate(485.007315 329.598437)scale(0.1 -0.1)\">\r\n       <use xlink:href=\"#DejaVuSans-32\"/>\r\n       <use x=\"63.623047\" xlink:href=\"#DejaVuSans-30\"/>\r\n       <use x=\"127.246094\" xlink:href=\"#DejaVuSans-25\"/>\r\n      </g>\r\n     </g>\r\n    </g>\r\n    <g id=\"xtick_7\">\r\n     <g id=\"line2d_7\">\r\n      <g>\r\n       <use style=\"stroke:#000000;stroke-width:0.8;\" x=\"580.666051\" xlink:href=\"#mf273706938\" y=\"315\"/>\r\n      </g>\r\n     </g>\r\n     <g id=\"text_7\">\r\n      <!-- 30% -->\r\n      <g transform=\"translate(569.55277 329.598437)scale(0.1 -0.1)\">\r\n       <use xlink:href=\"#DejaVuSans-33\"/>\r\n       <use x=\"63.623047\" xlink:href=\"#DejaVuSans-30\"/>\r\n       <use x=\"127.246094\" xlink:href=\"#DejaVuSans-25\"/>\r\n      </g>\r\n     </g>\r\n    </g>\r\n   </g>\r\n   <g id=\"matplotlib.axis_2\">\r\n    <g id=\"ytick_1\">\r\n     <g id=\"line2d_8\">\r\n      <defs>\r\n       <path d=\"M 0 0 \r\nL -3.5 0 \r\n\" id=\"ma75d839c7f\" style=\"stroke:#000000;stroke-width:0.8;\"/>\r\n      </defs>\r\n      <g>\r\n       <use style=\"stroke:#000000;stroke-width:0.8;\" x=\"48.029687\" xlink:href=\"#ma75d839c7f\" y=\"302.243299\"/>\r\n      </g>\r\n     </g>\r\n     <g id=\"text_8\">\r\n      <!-- −1000 -->\r\n      <g transform=\"translate(7.2 306.042518)scale(0.1 -0.1)\">\r\n       <defs>\r\n        <path d=\"M 678 2272 \r\nL 4684 2272 \r\nL 4684 1741 \r\nL 678 1741 \r\nL 678 2272 \r\nz\r\n\" id=\"DejaVuSans-2212\" transform=\"scale(0.015625)\"/>\r\n       </defs>\r\n       <use xlink:href=\"#DejaVuSans-2212\"/>\r\n       <use x=\"83.789062\" xlink:href=\"#DejaVuSans-31\"/>\r\n       <use x=\"147.412109\" xlink:href=\"#DejaVuSans-30\"/>\r\n       <use x=\"211.035156\" xlink:href=\"#DejaVuSans-30\"/>\r\n       <use x=\"274.658203\" xlink:href=\"#DejaVuSans-30\"/>\r\n      </g>\r\n     </g>\r\n    </g>\r\n    <g id=\"ytick_2\">\r\n     <g id=\"line2d_9\">\r\n      <g>\r\n       <use style=\"stroke:#000000;stroke-width:0.8;\" x=\"48.029687\" xlink:href=\"#ma75d839c7f\" y=\"268.730359\"/>\r\n      </g>\r\n     </g>\r\n     <g id=\"text_9\">\r\n      <!-- 0 -->\r\n      <g transform=\"translate(34.667187 272.529578)scale(0.1 -0.1)\">\r\n       <use xlink:href=\"#DejaVuSans-30\"/>\r\n      </g>\r\n     </g>\r\n    </g>\r\n    <g id=\"ytick_3\">\r\n     <g id=\"line2d_10\">\r\n      <g>\r\n       <use style=\"stroke:#000000;stroke-width:0.8;\" x=\"48.029687\" xlink:href=\"#ma75d839c7f\" y=\"235.217419\"/>\r\n      </g>\r\n     </g>\r\n     <g id=\"text_10\">\r\n      <!-- 1000 -->\r\n      <g transform=\"translate(15.579687 239.016637)scale(0.1 -0.1)\">\r\n       <use xlink:href=\"#DejaVuSans-31\"/>\r\n       <use x=\"63.623047\" xlink:href=\"#DejaVuSans-30\"/>\r\n       <use x=\"127.246094\" xlink:href=\"#DejaVuSans-30\"/>\r\n       <use x=\"190.869141\" xlink:href=\"#DejaVuSans-30\"/>\r\n      </g>\r\n     </g>\r\n    </g>\r\n    <g id=\"ytick_4\">\r\n     <g id=\"line2d_11\">\r\n      <g>\r\n       <use style=\"stroke:#000000;stroke-width:0.8;\" x=\"48.029687\" xlink:href=\"#ma75d839c7f\" y=\"201.704478\"/>\r\n      </g>\r\n     </g>\r\n     <g id=\"text_11\">\r\n      <!-- 2000 -->\r\n      <g transform=\"translate(15.579687 205.503697)scale(0.1 -0.1)\">\r\n       <use xlink:href=\"#DejaVuSans-32\"/>\r\n       <use x=\"63.623047\" xlink:href=\"#DejaVuSans-30\"/>\r\n       <use x=\"127.246094\" xlink:href=\"#DejaVuSans-30\"/>\r\n       <use x=\"190.869141\" xlink:href=\"#DejaVuSans-30\"/>\r\n      </g>\r\n     </g>\r\n    </g>\r\n    <g id=\"ytick_5\">\r\n     <g id=\"line2d_12\">\r\n      <g>\r\n       <use style=\"stroke:#000000;stroke-width:0.8;\" x=\"48.029687\" xlink:href=\"#ma75d839c7f\" y=\"168.191538\"/>\r\n      </g>\r\n     </g>\r\n     <g id=\"text_12\">\r\n      <!-- 3000 -->\r\n      <g transform=\"translate(15.579687 171.990757)scale(0.1 -0.1)\">\r\n       <use xlink:href=\"#DejaVuSans-33\"/>\r\n       <use x=\"63.623047\" xlink:href=\"#DejaVuSans-30\"/>\r\n       <use x=\"127.246094\" xlink:href=\"#DejaVuSans-30\"/>\r\n       <use x=\"190.869141\" xlink:href=\"#DejaVuSans-30\"/>\r\n      </g>\r\n     </g>\r\n    </g>\r\n    <g id=\"ytick_6\">\r\n     <g id=\"line2d_13\">\r\n      <g>\r\n       <use style=\"stroke:#000000;stroke-width:0.8;\" x=\"48.029687\" xlink:href=\"#ma75d839c7f\" y=\"134.678598\"/>\r\n      </g>\r\n     </g>\r\n     <g id=\"text_13\">\r\n      <!-- 4000 -->\r\n      <g transform=\"translate(15.579687 138.477816)scale(0.1 -0.1)\">\r\n       <defs>\r\n        <path d=\"M 2419 4116 \r\nL 825 1625 \r\nL 2419 1625 \r\nL 2419 4116 \r\nz\r\nM 2253 4666 \r\nL 3047 4666 \r\nL 3047 1625 \r\nL 3713 1625 \r\nL 3713 1100 \r\nL 3047 1100 \r\nL 3047 0 \r\nL 2419 0 \r\nL 2419 1100 \r\nL 313 1100 \r\nL 313 1709 \r\nL 2253 4666 \r\nz\r\n\" id=\"DejaVuSans-34\" transform=\"scale(0.015625)\"/>\r\n       </defs>\r\n       <use xlink:href=\"#DejaVuSans-34\"/>\r\n       <use x=\"63.623047\" xlink:href=\"#DejaVuSans-30\"/>\r\n       <use x=\"127.246094\" xlink:href=\"#DejaVuSans-30\"/>\r\n       <use x=\"190.869141\" xlink:href=\"#DejaVuSans-30\"/>\r\n      </g>\r\n     </g>\r\n    </g>\r\n    <g id=\"ytick_7\">\r\n     <g id=\"line2d_14\">\r\n      <g>\r\n       <use style=\"stroke:#000000;stroke-width:0.8;\" x=\"48.029687\" xlink:href=\"#ma75d839c7f\" y=\"101.165657\"/>\r\n      </g>\r\n     </g>\r\n     <g id=\"text_14\">\r\n      <!-- 5000 -->\r\n      <g transform=\"translate(15.579687 104.964876)scale(0.1 -0.1)\">\r\n       <defs>\r\n        <path d=\"M 691 4666 \r\nL 3169 4666 \r\nL 3169 4134 \r\nL 1269 4134 \r\nL 1269 2991 \r\nQ 1406 3038 1543 3061 \r\nQ 1681 3084 1819 3084 \r\nQ 2600 3084 3056 2656 \r\nQ 3513 2228 3513 1497 \r\nQ 3513 744 3044 326 \r\nQ 2575 -91 1722 -91 \r\nQ 1428 -91 1123 -41 \r\nQ 819 9 494 109 \r\nL 494 744 \r\nQ 775 591 1075 516 \r\nQ 1375 441 1709 441 \r\nQ 2250 441 2565 725 \r\nQ 2881 1009 2881 1497 \r\nQ 2881 1984 2565 2268 \r\nQ 2250 2553 1709 2553 \r\nQ 1456 2553 1204 2497 \r\nQ 953 2441 691 2322 \r\nL 691 4666 \r\nz\r\n\" id=\"DejaVuSans-35\" transform=\"scale(0.015625)\"/>\r\n       </defs>\r\n       <use xlink:href=\"#DejaVuSans-35\"/>\r\n       <use x=\"63.623047\" xlink:href=\"#DejaVuSans-30\"/>\r\n       <use x=\"127.246094\" xlink:href=\"#DejaVuSans-30\"/>\r\n       <use x=\"190.869141\" xlink:href=\"#DejaVuSans-30\"/>\r\n      </g>\r\n     </g>\r\n    </g>\r\n    <g id=\"ytick_8\">\r\n     <g id=\"line2d_15\">\r\n      <g>\r\n       <use style=\"stroke:#000000;stroke-width:0.8;\" x=\"48.029687\" xlink:href=\"#ma75d839c7f\" y=\"67.652717\"/>\r\n      </g>\r\n     </g>\r\n     <g id=\"text_15\">\r\n      <!-- 6000 -->\r\n      <g transform=\"translate(15.579687 71.451936)scale(0.1 -0.1)\">\r\n       <defs>\r\n        <path d=\"M 2113 2584 \r\nQ 1688 2584 1439 2293 \r\nQ 1191 2003 1191 1497 \r\nQ 1191 994 1439 701 \r\nQ 1688 409 2113 409 \r\nQ 2538 409 2786 701 \r\nQ 3034 994 3034 1497 \r\nQ 3034 2003 2786 2293 \r\nQ 2538 2584 2113 2584 \r\nz\r\nM 3366 4563 \r\nL 3366 3988 \r\nQ 3128 4100 2886 4159 \r\nQ 2644 4219 2406 4219 \r\nQ 1781 4219 1451 3797 \r\nQ 1122 3375 1075 2522 \r\nQ 1259 2794 1537 2939 \r\nQ 1816 3084 2150 3084 \r\nQ 2853 3084 3261 2657 \r\nQ 3669 2231 3669 1497 \r\nQ 3669 778 3244 343 \r\nQ 2819 -91 2113 -91 \r\nQ 1303 -91 875 529 \r\nQ 447 1150 447 2328 \r\nQ 447 3434 972 4092 \r\nQ 1497 4750 2381 4750 \r\nQ 2619 4750 2861 4703 \r\nQ 3103 4656 3366 4563 \r\nz\r\n\" id=\"DejaVuSans-36\" transform=\"scale(0.015625)\"/>\r\n       </defs>\r\n       <use xlink:href=\"#DejaVuSans-36\"/>\r\n       <use x=\"63.623047\" xlink:href=\"#DejaVuSans-30\"/>\r\n       <use x=\"127.246094\" xlink:href=\"#DejaVuSans-30\"/>\r\n       <use x=\"190.869141\" xlink:href=\"#DejaVuSans-30\"/>\r\n      </g>\r\n     </g>\r\n    </g>\r\n   </g>\r\n   <g id=\"line2d_16\">\r\n    <path clip-path=\"url(#p1bb5c70d08)\" d=\"M 73.393324 78.544423 \r\nL 157.938778 112.057363 \r\nL 242.484233 145.570303 \r\nL 327.029688 179.083244 \r\nL 411.575142 212.596184 \r\nL 496.120597 246.109124 \r\nL 580.666051 279.622065 \r\n\" style=\"fill:none;stroke:#1f77b4;stroke-linecap:square;stroke-width:1.5;\"/>\r\n   </g>\r\n   <g id=\"line2d_17\">\r\n    <path clip-path=\"url(#p1bb5c70d08)\" d=\"M 73.393324 302.645455 \r\nL 157.938778 261.458051 \r\nL 242.484233 220.270647 \r\nL 327.029688 179.083244 \r\nL 411.575142 137.89584 \r\nL 496.120597 96.741949 \r\nL 580.666051 55.554545 \r\n\" style=\"fill:none;stroke:#ff7f0e;stroke-linecap:square;stroke-width:1.5;\"/>\r\n   </g>\r\n   <g id=\"line2d_18\">\r\n    <path clip-path=\"url(#p1bb5c70d08)\" d=\"M 73.393324 182.970745 \r\nL 157.938778 181.66374 \r\nL 242.484233 180.390248 \r\nL 327.029688 179.083244 \r\nL 411.575142 177.809752 \r\nL 496.120597 176.502747 \r\nL 580.666051 175.229255 \r\n\" style=\"fill:none;stroke:#2ca02c;stroke-linecap:square;stroke-width:1.5;\"/>\r\n   </g>\r\n   <g id=\"line2d_19\">\r\n    <path clip-path=\"url(#p1bb5c70d08)\" d=\"M 73.393324 116.045403 \r\nL 157.938778 138.599612 \r\nL 242.484233 159.545199 \r\nL 327.029688 179.083244 \r\nL 411.575142 197.314283 \r\nL 496.120597 214.37237 \r\nL 580.666051 230.291016 \r\n\" style=\"fill:none;stroke:#d62728;stroke-linecap:square;stroke-width:1.5;\"/>\r\n   </g>\r\n   <g id=\"line2d_20\">\r\n    <path clip-path=\"url(#p1bb5c70d08)\" d=\"M 73.393324 260.352124 \r\nL 157.938778 230.659659 \r\nL 242.484233 203.648229 \r\nL 327.029688 179.083244 \r\nL 411.575142 156.763625 \r\nL 496.120597 136.488296 \r\nL 580.666051 118.056179 \r\n\" style=\"fill:none;stroke:#9467bd;stroke-linecap:square;stroke-width:1.5;\"/>\r\n   </g>\r\n   <g id=\"patch_3\">\r\n    <path d=\"M 48.029687 315 \r\nL 48.029687 43.2 \r\n\" style=\"fill:none;stroke:#000000;stroke-linecap:square;stroke-linejoin:miter;stroke-width:0.8;\"/>\r\n   </g>\r\n   <g id=\"patch_4\">\r\n    <path d=\"M 606.029688 315 \r\nL 606.029688 43.2 \r\n\" style=\"fill:none;stroke:#000000;stroke-linecap:square;stroke-linejoin:miter;stroke-width:0.8;\"/>\r\n   </g>\r\n   <g id=\"patch_5\">\r\n    <path d=\"M 48.029688 315 \r\nL 606.029688 315 \r\n\" style=\"fill:none;stroke:#000000;stroke-linecap:square;stroke-linejoin:miter;stroke-width:0.8;\"/>\r\n   </g>\r\n   <g id=\"patch_6\">\r\n    <path d=\"M 48.029688 43.2 \r\nL 606.029688 43.2 \r\n\" style=\"fill:none;stroke:#000000;stroke-linecap:square;stroke-linejoin:miter;stroke-width:0.8;\"/>\r\n   </g>\r\n   <g id=\"legend_1\">\r\n    <g id=\"patch_7\">\r\n     <path d=\"M 291.128125 310 \r\nL 362.93125 310 \r\nQ 364.93125 310 364.93125 308 \r\nL 364.93125 235.609375 \r\nQ 364.93125 233.609375 362.93125 233.609375 \r\nL 291.128125 233.609375 \r\nQ 289.128125 233.609375 289.128125 235.609375 \r\nL 289.128125 308 \r\nQ 289.128125 310 291.128125 310 \r\nz\r\n\" style=\"fill:#ffffff;opacity:0.8;stroke:#cccccc;stroke-linejoin:miter;\"/>\r\n    </g>\r\n    <g id=\"line2d_21\">\r\n     <path d=\"M 293.128125 241.707812 \r\nL 313.128125 241.707812 \r\n\" style=\"fill:none;stroke:#1f77b4;stroke-linecap:square;stroke-width:1.5;\"/>\r\n    </g>\r\n    <g id=\"line2d_22\"/>\r\n    <g id=\"text_16\">\r\n     <!-- Invest -->\r\n     <g transform=\"translate(321.128125 245.207812)scale(0.1 -0.1)\">\r\n      <defs>\r\n       <path d=\"M 628 4666 \r\nL 1259 4666 \r\nL 1259 0 \r\nL 628 0 \r\nL 628 4666 \r\nz\r\n\" id=\"DejaVuSans-49\" transform=\"scale(0.015625)\"/>\r\n       <path d=\"M 3513 2113 \r\nL 3513 0 \r\nL 2938 0 \r\nL 2938 2094 \r\nQ 2938 2591 2744 2837 \r\nQ 2550 3084 2163 3084 \r\nQ 1697 3084 1428 2787 \r\nQ 1159 2491 1159 1978 \r\nL 1159 0 \r\nL 581 0 \r\nL 581 3500 \r\nL 1159 3500 \r\nL 1159 2956 \r\nQ 1366 3272 1645 3428 \r\nQ 1925 3584 2291 3584 \r\nQ 2894 3584 3203 3211 \r\nQ 3513 2838 3513 2113 \r\nz\r\n\" id=\"DejaVuSans-6e\" transform=\"scale(0.015625)\"/>\r\n       <path d=\"M 191 3500 \r\nL 800 3500 \r\nL 1894 563 \r\nL 2988 3500 \r\nL 3597 3500 \r\nL 2284 0 \r\nL 1503 0 \r\nL 191 3500 \r\nz\r\n\" id=\"DejaVuSans-76\" transform=\"scale(0.015625)\"/>\r\n       <path d=\"M 3597 1894 \r\nL 3597 1613 \r\nL 953 1613 \r\nQ 991 1019 1311 708 \r\nQ 1631 397 2203 397 \r\nQ 2534 397 2845 478 \r\nQ 3156 559 3463 722 \r\nL 3463 178 \r\nQ 3153 47 2828 -22 \r\nQ 2503 -91 2169 -91 \r\nQ 1331 -91 842 396 \r\nQ 353 884 353 1716 \r\nQ 353 2575 817 3079 \r\nQ 1281 3584 2069 3584 \r\nQ 2775 3584 3186 3129 \r\nQ 3597 2675 3597 1894 \r\nz\r\nM 3022 2063 \r\nQ 3016 2534 2758 2815 \r\nQ 2500 3097 2075 3097 \r\nQ 1594 3097 1305 2825 \r\nQ 1016 2553 972 2059 \r\nL 3022 2063 \r\nz\r\n\" id=\"DejaVuSans-65\" transform=\"scale(0.015625)\"/>\r\n       <path d=\"M 2834 3397 \r\nL 2834 2853 \r\nQ 2591 2978 2328 3040 \r\nQ 2066 3103 1784 3103 \r\nQ 1356 3103 1142 2972 \r\nQ 928 2841 928 2578 \r\nQ 928 2378 1081 2264 \r\nQ 1234 2150 1697 2047 \r\nL 1894 2003 \r\nQ 2506 1872 2764 1633 \r\nQ 3022 1394 3022 966 \r\nQ 3022 478 2636 193 \r\nQ 2250 -91 1575 -91 \r\nQ 1294 -91 989 -36 \r\nQ 684 19 347 128 \r\nL 347 722 \r\nQ 666 556 975 473 \r\nQ 1284 391 1588 391 \r\nQ 1994 391 2212 530 \r\nQ 2431 669 2431 922 \r\nQ 2431 1156 2273 1281 \r\nQ 2116 1406 1581 1522 \r\nL 1381 1569 \r\nQ 847 1681 609 1914 \r\nQ 372 2147 372 2553 \r\nQ 372 3047 722 3315 \r\nQ 1072 3584 1716 3584 \r\nQ 2034 3584 2315 3537 \r\nQ 2597 3491 2834 3397 \r\nz\r\n\" id=\"DejaVuSans-73\" transform=\"scale(0.015625)\"/>\r\n       <path d=\"M 1172 4494 \r\nL 1172 3500 \r\nL 2356 3500 \r\nL 2356 3053 \r\nL 1172 3053 \r\nL 1172 1153 \r\nQ 1172 725 1289 603 \r\nQ 1406 481 1766 481 \r\nL 2356 481 \r\nL 2356 0 \r\nL 1766 0 \r\nQ 1100 0 847 248 \r\nQ 594 497 594 1153 \r\nL 594 3053 \r\nL 172 3053 \r\nL 172 3500 \r\nL 594 3500 \r\nL 594 4494 \r\nL 1172 4494 \r\nz\r\n\" id=\"DejaVuSans-74\" transform=\"scale(0.015625)\"/>\r\n      </defs>\r\n      <use xlink:href=\"#DejaVuSans-49\"/>\r\n      <use x=\"29.492188\" xlink:href=\"#DejaVuSans-6e\"/>\r\n      <use x=\"92.871094\" xlink:href=\"#DejaVuSans-76\"/>\r\n      <use x=\"152.050781\" xlink:href=\"#DejaVuSans-65\"/>\r\n      <use x=\"213.574219\" xlink:href=\"#DejaVuSans-73\"/>\r\n      <use x=\"265.673828\" xlink:href=\"#DejaVuSans-74\"/>\r\n     </g>\r\n    </g>\r\n    <g id=\"line2d_23\">\r\n     <path d=\"M 293.128125 256.385937 \r\nL 313.128125 256.385937 \r\n\" style=\"fill:none;stroke:#ff7f0e;stroke-linecap:square;stroke-width:1.5;\"/>\r\n    </g>\r\n    <g id=\"line2d_24\"/>\r\n    <g id=\"text_17\">\r\n     <!-- R-E -->\r\n     <g transform=\"translate(321.128125 259.885937)scale(0.1 -0.1)\">\r\n      <defs>\r\n       <path d=\"M 2841 2188 \r\nQ 3044 2119 3236 1894 \r\nQ 3428 1669 3622 1275 \r\nL 4263 0 \r\nL 3584 0 \r\nL 2988 1197 \r\nQ 2756 1666 2539 1819 \r\nQ 2322 1972 1947 1972 \r\nL 1259 1972 \r\nL 1259 0 \r\nL 628 0 \r\nL 628 4666 \r\nL 2053 4666 \r\nQ 2853 4666 3247 4331 \r\nQ 3641 3997 3641 3322 \r\nQ 3641 2881 3436 2590 \r\nQ 3231 2300 2841 2188 \r\nz\r\nM 1259 4147 \r\nL 1259 2491 \r\nL 2053 2491 \r\nQ 2509 2491 2742 2702 \r\nQ 2975 2913 2975 3322 \r\nQ 2975 3731 2742 3939 \r\nQ 2509 4147 2053 4147 \r\nL 1259 4147 \r\nz\r\n\" id=\"DejaVuSans-52\" transform=\"scale(0.015625)\"/>\r\n       <path d=\"M 628 4666 \r\nL 3578 4666 \r\nL 3578 4134 \r\nL 1259 4134 \r\nL 1259 2753 \r\nL 3481 2753 \r\nL 3481 2222 \r\nL 1259 2222 \r\nL 1259 531 \r\nL 3634 531 \r\nL 3634 0 \r\nL 628 0 \r\nL 628 4666 \r\nz\r\n\" id=\"DejaVuSans-45\" transform=\"scale(0.015625)\"/>\r\n      </defs>\r\n      <use xlink:href=\"#DejaVuSans-52\"/>\r\n      <use x=\"65.482422\" xlink:href=\"#DejaVuSans-2d\"/>\r\n      <use x=\"101.566406\" xlink:href=\"#DejaVuSans-45\"/>\r\n     </g>\r\n    </g>\r\n    <g id=\"line2d_25\">\r\n     <path d=\"M 293.128125 271.064062 \r\nL 313.128125 271.064062 \r\n\" style=\"fill:none;stroke:#2ca02c;stroke-linecap:square;stroke-width:1.5;\"/>\r\n    </g>\r\n    <g id=\"line2d_26\"/>\r\n    <g id=\"text_18\">\r\n     <!-- Salvage -->\r\n     <g transform=\"translate(321.128125 274.564062)scale(0.1 -0.1)\">\r\n      <defs>\r\n       <path d=\"M 3425 4513 \r\nL 3425 3897 \r\nQ 3066 4069 2747 4153 \r\nQ 2428 4238 2131 4238 \r\nQ 1616 4238 1336 4038 \r\nQ 1056 3838 1056 3469 \r\nQ 1056 3159 1242 3001 \r\nQ 1428 2844 1947 2747 \r\nL 2328 2669 \r\nQ 3034 2534 3370 2195 \r\nQ 3706 1856 3706 1288 \r\nQ 3706 609 3251 259 \r\nQ 2797 -91 1919 -91 \r\nQ 1588 -91 1214 -16 \r\nQ 841 59 441 206 \r\nL 441 856 \r\nQ 825 641 1194 531 \r\nQ 1563 422 1919 422 \r\nQ 2459 422 2753 634 \r\nQ 3047 847 3047 1241 \r\nQ 3047 1584 2836 1778 \r\nQ 2625 1972 2144 2069 \r\nL 1759 2144 \r\nQ 1053 2284 737 2584 \r\nQ 422 2884 422 3419 \r\nQ 422 4038 858 4394 \r\nQ 1294 4750 2059 4750 \r\nQ 2388 4750 2728 4690 \r\nQ 3069 4631 3425 4513 \r\nz\r\n\" id=\"DejaVuSans-53\" transform=\"scale(0.015625)\"/>\r\n       <path d=\"M 2194 1759 \r\nQ 1497 1759 1228 1600 \r\nQ 959 1441 959 1056 \r\nQ 959 750 1161 570 \r\nQ 1363 391 1709 391 \r\nQ 2188 391 2477 730 \r\nQ 2766 1069 2766 1631 \r\nL 2766 1759 \r\nL 2194 1759 \r\nz\r\nM 3341 1997 \r\nL 3341 0 \r\nL 2766 0 \r\nL 2766 531 \r\nQ 2569 213 2275 61 \r\nQ 1981 -91 1556 -91 \r\nQ 1019 -91 701 211 \r\nQ 384 513 384 1019 \r\nQ 384 1609 779 1909 \r\nQ 1175 2209 1959 2209 \r\nL 2766 2209 \r\nL 2766 2266 \r\nQ 2766 2663 2505 2880 \r\nQ 2244 3097 1772 3097 \r\nQ 1472 3097 1187 3025 \r\nQ 903 2953 641 2809 \r\nL 641 3341 \r\nQ 956 3463 1253 3523 \r\nQ 1550 3584 1831 3584 \r\nQ 2591 3584 2966 3190 \r\nQ 3341 2797 3341 1997 \r\nz\r\n\" id=\"DejaVuSans-61\" transform=\"scale(0.015625)\"/>\r\n       <path d=\"M 603 4863 \r\nL 1178 4863 \r\nL 1178 0 \r\nL 603 0 \r\nL 603 4863 \r\nz\r\n\" id=\"DejaVuSans-6c\" transform=\"scale(0.015625)\"/>\r\n       <path d=\"M 2906 1791 \r\nQ 2906 2416 2648 2759 \r\nQ 2391 3103 1925 3103 \r\nQ 1463 3103 1205 2759 \r\nQ 947 2416 947 1791 \r\nQ 947 1169 1205 825 \r\nQ 1463 481 1925 481 \r\nQ 2391 481 2648 825 \r\nQ 2906 1169 2906 1791 \r\nz\r\nM 3481 434 \r\nQ 3481 -459 3084 -895 \r\nQ 2688 -1331 1869 -1331 \r\nQ 1566 -1331 1297 -1286 \r\nQ 1028 -1241 775 -1147 \r\nL 775 -588 \r\nQ 1028 -725 1275 -790 \r\nQ 1522 -856 1778 -856 \r\nQ 2344 -856 2625 -561 \r\nQ 2906 -266 2906 331 \r\nL 2906 616 \r\nQ 2728 306 2450 153 \r\nQ 2172 0 1784 0 \r\nQ 1141 0 747 490 \r\nQ 353 981 353 1791 \r\nQ 353 2603 747 3093 \r\nQ 1141 3584 1784 3584 \r\nQ 2172 3584 2450 3431 \r\nQ 2728 3278 2906 2969 \r\nL 2906 3500 \r\nL 3481 3500 \r\nL 3481 434 \r\nz\r\n\" id=\"DejaVuSans-67\" transform=\"scale(0.015625)\"/>\r\n      </defs>\r\n      <use xlink:href=\"#DejaVuSans-53\"/>\r\n      <use x=\"63.476562\" xlink:href=\"#DejaVuSans-61\"/>\r\n      <use x=\"124.755859\" xlink:href=\"#DejaVuSans-6c\"/>\r\n      <use x=\"152.539062\" xlink:href=\"#DejaVuSans-76\"/>\r\n      <use x=\"211.71875\" xlink:href=\"#DejaVuSans-61\"/>\r\n      <use x=\"272.998047\" xlink:href=\"#DejaVuSans-67\"/>\r\n      <use x=\"336.474609\" xlink:href=\"#DejaVuSans-65\"/>\r\n     </g>\r\n    </g>\r\n    <g id=\"line2d_27\">\r\n     <path d=\"M 293.128125 285.742187 \r\nL 313.128125 285.742187 \r\n\" style=\"fill:none;stroke:#d62728;stroke-linecap:square;stroke-width:1.5;\"/>\r\n    </g>\r\n    <g id=\"line2d_28\"/>\r\n    <g id=\"text_19\">\r\n     <!-- NAAR -->\r\n     <g transform=\"translate(321.128125 289.242187)scale(0.1 -0.1)\">\r\n      <defs>\r\n       <path d=\"M 628 4666 \r\nL 1478 4666 \r\nL 3547 763 \r\nL 3547 4666 \r\nL 4159 4666 \r\nL 4159 0 \r\nL 3309 0 \r\nL 1241 3903 \r\nL 1241 0 \r\nL 628 0 \r\nL 628 4666 \r\nz\r\n\" id=\"DejaVuSans-4e\" transform=\"scale(0.015625)\"/>\r\n       <path d=\"M 2188 4044 \r\nL 1331 1722 \r\nL 3047 1722 \r\nL 2188 4044 \r\nz\r\nM 1831 4666 \r\nL 2547 4666 \r\nL 4325 0 \r\nL 3669 0 \r\nL 3244 1197 \r\nL 1141 1197 \r\nL 716 0 \r\nL 50 0 \r\nL 1831 4666 \r\nz\r\n\" id=\"DejaVuSans-41\" transform=\"scale(0.015625)\"/>\r\n      </defs>\r\n      <use xlink:href=\"#DejaVuSans-4e\"/>\r\n      <use x=\"74.804688\" xlink:href=\"#DejaVuSans-41\"/>\r\n      <use x=\"145.962891\" xlink:href=\"#DejaVuSans-41\"/>\r\n      <use x=\"214.371094\" xlink:href=\"#DejaVuSans-52\"/>\r\n     </g>\r\n    </g>\r\n    <g id=\"line2d_29\">\r\n     <path d=\"M 293.128125 300.420312 \r\nL 313.128125 300.420312 \r\n\" style=\"fill:none;stroke:#9467bd;stroke-linecap:square;stroke-width:1.5;\"/>\r\n    </g>\r\n    <g id=\"line2d_30\"/>\r\n    <g id=\"text_20\">\r\n     <!-- Life -->\r\n     <g transform=\"translate(321.128125 303.920312)scale(0.1 -0.1)\">\r\n      <defs>\r\n       <path d=\"M 628 4666 \r\nL 1259 4666 \r\nL 1259 531 \r\nL 3531 531 \r\nL 3531 0 \r\nL 628 0 \r\nL 628 4666 \r\nz\r\n\" id=\"DejaVuSans-4c\" transform=\"scale(0.015625)\"/>\r\n       <path d=\"M 603 3500 \r\nL 1178 3500 \r\nL 1178 0 \r\nL 603 0 \r\nL 603 3500 \r\nz\r\nM 603 4863 \r\nL 1178 4863 \r\nL 1178 4134 \r\nL 603 4134 \r\nL 603 4863 \r\nz\r\n\" id=\"DejaVuSans-69\" transform=\"scale(0.015625)\"/>\r\n       <path d=\"M 2375 4863 \r\nL 2375 4384 \r\nL 1825 4384 \r\nQ 1516 4384 1395 4259 \r\nQ 1275 4134 1275 3809 \r\nL 1275 3500 \r\nL 2222 3500 \r\nL 2222 3053 \r\nL 1275 3053 \r\nL 1275 0 \r\nL 697 0 \r\nL 697 3053 \r\nL 147 3053 \r\nL 147 3500 \r\nL 697 3500 \r\nL 697 3744 \r\nQ 697 4328 969 4595 \r\nQ 1241 4863 1831 4863 \r\nL 2375 4863 \r\nz\r\n\" id=\"DejaVuSans-66\" transform=\"scale(0.015625)\"/>\r\n      </defs>\r\n      <use xlink:href=\"#DejaVuSans-4c\"/>\r\n      <use x=\"55.712891\" xlink:href=\"#DejaVuSans-69\"/>\r\n      <use x=\"83.496094\" xlink:href=\"#DejaVuSans-66\"/>\r\n      <use x=\"118.701172\" xlink:href=\"#DejaVuSans-65\"/>\r\n     </g>\r\n    </g>\r\n   </g>\r\n  </g>\r\n  <g id=\"text_21\">\r\n   <!-- Sensitivity Analysis -->\r\n   <g transform=\"translate(260.16625 16.318125)scale(0.12 -0.12)\">\r\n    <defs>\r\n     <path d=\"M 2059 -325 \r\nQ 1816 -950 1584 -1140 \r\nQ 1353 -1331 966 -1331 \r\nL 506 -1331 \r\nL 506 -850 \r\nL 844 -850 \r\nQ 1081 -850 1212 -737 \r\nQ 1344 -625 1503 -206 \r\nL 1606 56 \r\nL 191 3500 \r\nL 800 3500 \r\nL 1894 763 \r\nL 2988 3500 \r\nL 3597 3500 \r\nL 2059 -325 \r\nz\r\n\" id=\"DejaVuSans-79\" transform=\"scale(0.015625)\"/>\r\n     <path id=\"DejaVuSans-20\" transform=\"scale(0.015625)\"/>\r\n    </defs>\r\n    <use xlink:href=\"#DejaVuSans-53\"/>\r\n    <use x=\"63.476562\" xlink:href=\"#DejaVuSans-65\"/>\r\n    <use x=\"125\" xlink:href=\"#DejaVuSans-6e\"/>\r\n    <use x=\"188.378906\" xlink:href=\"#DejaVuSans-73\"/>\r\n    <use x=\"240.478516\" xlink:href=\"#DejaVuSans-69\"/>\r\n    <use x=\"268.261719\" xlink:href=\"#DejaVuSans-74\"/>\r\n    <use x=\"307.470703\" xlink:href=\"#DejaVuSans-69\"/>\r\n    <use x=\"335.253906\" xlink:href=\"#DejaVuSans-76\"/>\r\n    <use x=\"394.433594\" xlink:href=\"#DejaVuSans-69\"/>\r\n    <use x=\"422.216797\" xlink:href=\"#DejaVuSans-74\"/>\r\n    <use x=\"461.425781\" xlink:href=\"#DejaVuSans-79\"/>\r\n    <use x=\"520.605469\" xlink:href=\"#DejaVuSans-20\"/>\r\n    <use x=\"552.392578\" xlink:href=\"#DejaVuSans-41\"/>\r\n    <use x=\"620.800781\" xlink:href=\"#DejaVuSans-6e\"/>\r\n    <use x=\"684.179688\" xlink:href=\"#DejaVuSans-61\"/>\r\n    <use x=\"745.458984\" xlink:href=\"#DejaVuSans-6c\"/>\r\n    <use x=\"773.242188\" xlink:href=\"#DejaVuSans-79\"/>\r\n    <use x=\"832.421875\" xlink:href=\"#DejaVuSans-73\"/>\r\n    <use x=\"884.521484\" xlink:href=\"#DejaVuSans-69\"/>\r\n    <use x=\"912.304688\" xlink:href=\"#DejaVuSans-73\"/>\r\n   </g>\r\n  </g>\r\n </g>\r\n <defs>\r\n  <clipPath id=\"p1bb5c70d08\">\r\n   <rect height=\"271.8\" width=\"558\" x=\"48.029687\" y=\"43.2\"/>\r\n  </clipPath>\r\n </defs>\r\n</svg>\r\n",
      "image/png": "[encoded data removed]"
     },
     "metadata": {
      "needs_background": "light"
     }
    }
   ],
   "source": [
    "Invest = 10000\n",
    "ann_rev = 4000\n",
    "ann_exp = 2000\n",
    "salvage = 1000\n",
    "MAAR = 10\n",
    "Time = 10\n",
    "\n",
    "table = sens_anal(Invest,ann_rev,ann_exp,salvage,MAAR,Time)\n",
    "table = np.array(table).transpose().tolist()\n",
    "label=['Invest','R-E','Salvage','NAAR','Life']\n",
    "names= ['-30%','-20%','-10%','0%','10%','20%','30%']\n",
    "\n",
    "fig,ax = plt.subplots(1,1,figsize=(10,5))\n",
    "for i in range(5):\n",
    "    ax.plot(names,table[i],label=label[i])\n",
    "fig.suptitle('Sensitivity Analysis')\n",
    "ax.legend()\n",
    "plt.show()"
   ]
  },
  {
   "cell_type": "code",
   "execution_count": 11,
   "metadata": {},
   "outputs": [],
   "source": [
    "# Breakeven Analysis"
   ]
  },
  {
   "source": [
    "# Depreciation\n"
   ],
   "cell_type": "markdown",
   "metadata": {}
  },
  {
   "cell_type": "code",
   "execution_count": 44,
   "metadata": {},
   "outputs": [
    {
     "output_type": "stream",
     "name": "stdout",
     "text": [
      "Year: 1 -> 75000.0\nYear: 2 -> 56250.0\nYear: 3 -> 42187.5\nYear: 4 -> 31640.62\nYear: 5 -> 23730.46\nYear: 6 -> 22486.97\nYear: 7 -> 21243.48\nYear: 8 -> 20000.0\n"
     ]
    }
   ],
   "source": [
    "# Double Declining Method\n",
    "def ddm(Book_val,Salvage,Life):\n",
    "    R = 2*(1/Life)\n",
    "    for i in range(1,Life+1):\n",
    "        DDM = round(R*Book_val,2)\n",
    "        SLM = round((Book_val-Salvage)/((Life+1)-i),2)\n",
    "        if DDM>SLM and Book_val-DDM>Salvage:\n",
    "            Book_val -=DDM\n",
    "        else:\n",
    "            Book_val -=SLM\n",
    "        print('Year:',i,'->',round(Book_val,2))\n",
    "\n",
    "\n",
    "Book_val = 100000\n",
    "Salvage = 20000\n",
    "Life  = 8\n",
    "ddm(Book_val,Salvage,Life)"
   ]
  },
  {
   "cell_type": "code",
   "execution_count": 49,
   "metadata": {},
   "outputs": [
    {
     "output_type": "stream",
     "name": "stdout",
     "text": [
      "Year:  1 6181\nYear:  2 5280\nYear:  3 4289\nYear:  4 3199\nYear:  5 2000\n"
     ]
    }
   ],
   "source": [
    "# Sinking Fund Method\n",
    "def sfm(Book_val,Salvage,MAAR,Life):\n",
    "    D = fAgF(Book_val-Salvage,MAAR,Life)\n",
    "    for i in range(Life):\n",
    "        Dn = fFgP(D,MAAR,i)\n",
    "        Book_val = round(Book_val-Dn)\n",
    "        print('Year: ',i+1,Book_val)\n",
    "\n",
    "Book_val = 7000\n",
    "Salvage = 2000\n",
    "Life = 5\n",
    "MAAR = 10\n",
    "sfm(Book_val,Salvage,MAAR,Life)"
   ]
  },
  {
   "cell_type": "code",
   "execution_count": 61,
   "metadata": {},
   "outputs": [
    {
     "output_type": "stream",
     "name": "stdout",
     "text": [
      "13500\n8300\n4400\n1800\n500\n"
     ]
    }
   ],
   "source": [
    "# SOYD\n",
    "def soyd(Book_val,Salvage,Life):\n",
    "    sof = sum(range(Life+1))\n",
    "    dp = Book_val-Salvage\n",
    "\n",
    "    for i in range(Life):\n",
    "        Book_val = round(Book_val-(((Life-i)/sof)*dp))\n",
    "        print(Book_val)\n",
    "\n",
    "Book_val = 20000\n",
    "Salvage = 500\n",
    "Life = 5\n",
    "soyd(Book_val,Salvage,Life)"
   ]
  },
  {
   "cell_type": "code",
   "execution_count": 131,
   "metadata": {},
   "outputs": [
    {
     "output_type": "stream",
     "name": "stdout",
     "text": [
      "half_year 8000.0 20.0\nddm 4800.0 32.0\nddm 2880.0 19.2\nddm 1728.0 11.52\nslm 576.0 11.52\nslm 0.0 5.76\n"
     ]
    }
   ],
   "source": [
    "# MARCS\n",
    "def marcs(Book_val,Life):\n",
    "    Rate = 2/Life\n",
    "    Total_rate = 0\n",
    "    Final_val=Book_val\n",
    "    for i in range(Life+1):\n",
    "        s_life = 0.5\n",
    "        if i==0:\n",
    "            Total_rate = round(s_life*Rate*100,4)\n",
    "            Final_val -=round(s_life*Rate*Book_val,4)\n",
    "            print('half_year',Final_val,Total_rate)\n",
    "        else:\n",
    "            DDM = round(Rate*(100-Total_rate),4)\n",
    "            SLM = round((100-Total_rate)/(Life+s_life-i),4)\n",
    "            if DDM>=SLM:\n",
    "                Final_val = round(Final_val-DDM/100*Book_val,4)\n",
    "                Total_rate += DDM\n",
    "                print('ddm',Final_val,DDM)\n",
    "            else:\n",
    "                if(i==Life):\n",
    "                    SLM= SLM/2\n",
    "                Final_val = round(Final_val-SLM/100*Book_val,4)\n",
    "                Total_rate += SLM\n",
    "                print('slm',Final_val,SLM)\n",
    "    \n",
    "Book_val = 10000\n",
    "Life = 5\n",
    "marcs(Book_val,Life)"
   ]
  },
  {
   "cell_type": "code",
   "execution_count": null,
   "metadata": {},
   "outputs": [],
   "source": []
  }
 ]
}