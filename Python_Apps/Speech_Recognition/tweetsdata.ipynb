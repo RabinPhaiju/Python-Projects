{
 "cells": [
  {
   "cell_type": "code",
   "execution_count": 85,
   "metadata": {},
   "outputs": [],
   "source": [
    "consumer_key = 'iFHlvlm9YIlSoJ5KroqmOPjXg1'\r\n",
    "consumer_secret = 'WNET5masMtraDxvz5Pqa2DW9PkIVyDIwY8h2khssdqXHIGAbui1'\r\n",
    "access_token = '2810778774-NqaiMZTTTgZRJGpPuOj2P6VcRDLGozWikynMqGR1'\r\n",
    "access_secret = 'aE8s67bCpzQi9A9tyRWqTBm7sls8PUsASVdU0SkZSEBgB1'"
   ]
  },
  {
   "cell_type": "code",
   "execution_count": 86,
   "metadata": {},
   "outputs": [],
   "source": [
    "import tweepy\r\n",
    "import pandas as pd"
   ]
  },
  {
   "cell_type": "code",
   "execution_count": 87,
   "metadata": {},
   "outputs": [],
   "source": [
    "auth = tweepy.OAuthHandler(consumer_key,consumer_secret)\r\n",
    "auth.set_access_token(access_token,access_secret)\r\n",
    "\r\n",
    "api = tweepy.API(auth)"
   ]
  },
  {
   "cell_type": "code",
   "execution_count": 88,
   "metadata": {},
   "outputs": [
    {
     "name": "stdout",
     "output_type": "stream",
     "text": [
      "['__class__', '__delattr__', '__dict__', '__dir__', '__doc__', '__eq__', '__format__', '__ge__', '__getattribute__', '__getstate__', '__gt__', '__hash__', '__init__', '__init_subclass__', '__le__', '__lt__', '__module__', '__ne__', '__new__', '__reduce__', '__reduce_ex__', '__repr__', '__setattr__', '__sizeof__', '__str__', '__subclasshook__', '__weakref__', '_api', '_json', 'author', 'contributors', 'coordinates', 'created_at', 'destroy', 'display_text_range', 'entities', 'favorite', 'favorite_count', 'favorited', 'full_text', 'geo', 'id', 'id_str', 'in_reply_to_screen_name', 'in_reply_to_status_id', 'in_reply_to_status_id_str', 'in_reply_to_user_id', 'in_reply_to_user_id_str', 'is_quote_status', 'lang', 'parse', 'parse_list', 'place', 'possibly_sensitive', 'retweet', 'retweet_count', 'retweeted', 'retweets', 'source', 'source_url', 'truncated', 'user']\n"
     ]
    }
   ],
   "source": [
    "cursor = tweepy.Cursor(api.user_timeline,id='realDonaldTrFan',tweet_mode='extended').items(1)\r\n",
    "for i in cursor:\r\n",
    "    print(dir(i))"
   ]
  },
  {
   "cell_type": "code",
   "execution_count": 89,
   "metadata": {},
   "outputs": [
    {
     "name": "stdout",
     "output_type": "stream",
     "text": [
      "HA! I found a SECRET way to Tweat even though Twitter tried to ban ME! BTW – All my followers who violently stormed MY Capitol need to report it to MY FBI ASAP!! Did someone say PARDONS?! Just call 1-800-225-5324. AND send your Capitol selfies &amp; videos to https://t.co/n9bXkRGaVL\n"
     ]
    }
   ],
   "source": [
    "cursor = tweepy.Cursor(api.user_timeline,id='realDonaldTrFan',tweet_mode='extended').items(1)\r\n",
    "for i in cursor:\r\n",
    "    print(i.full_text)"
   ]
  },
  {
   "cell_type": "code",
   "execution_count": 127,
   "metadata": {},
   "outputs": [
    {
     "name": "stdout",
     "output_type": "stream",
     "text": [
      "RT @TibetReliefFund: Why sponsorship matters \n",
      "\n",
      "Tibet Relief Fund works with ten agencies across India and Nepal to sponsor Tibetans in need…\n",
      "RT @SeetuDass: #কবীৰপৰমেশ্বৰ_চাৰিওযুগত_আহে\n",
      "কবীৰ চাহাব ত্ৰেতা যুগত মুনীন্দ্ৰ নামেৰে প্ৰকট হৈছিল।\n",
      "\n",
      "পৰমাত্মা কবীৰদেৱৰ বাণী:-\n",
      "\n",
      "হম হী মুনীন্দ্ৰ…\n"
     ]
    }
   ],
   "source": [
    "# Query\r\n",
    "cursor = tweepy.Cursor(api.search,q='Nepal',tweet_mode='extended').items(2)\r\n",
    "for i in cursor:\r\n",
    "    print(i.full_text)"
   ]
  },
  {
   "cell_type": "code",
   "execution_count": 128,
   "metadata": {},
   "outputs": [],
   "source": [
    "number_of_tweets = 200\r\n",
    "tweets =[]\r\n",
    "likes=[]\r\n",
    "time=[]\r\n",
    "\r\n",
    "for i in tweepy.Cursor(api.user_timeline,id='RONBupdates',tweet_mode='extended').items(number_of_tweets):\r\n",
    "    tweets.append(i.full_text)\r\n",
    "    likes.append(i.favorite_count)\r\n",
    "    time.append(i.created_at)"
   ]
  },
  {
   "cell_type": "code",
   "execution_count": 129,
   "metadata": {},
   "outputs": [
    {
     "data": {
      "text/html": [
       "<div>\n",
       "<style scoped>\n",
       "    .dataframe tbody tr th:only-of-type {\n",
       "        vertical-align: middle;\n",
       "    }\n",
       "\n",
       "    .dataframe tbody tr th {\n",
       "        vertical-align: top;\n",
       "    }\n",
       "\n",
       "    .dataframe thead th {\n",
       "        text-align: right;\n",
       "    }\n",
       "</style>\n",
       "<table border=\"1\" class=\"dataframe\">\n",
       "  <thead>\n",
       "    <tr style=\"text-align: right;\">\n",
       "      <th></th>\n",
       "      <th>tweets</th>\n",
       "      <th>likes</th>\n",
       "      <th>time</th>\n",
       "    </tr>\n",
       "  </thead>\n",
       "  <tbody>\n",
       "    <tr>\n",
       "      <th>0</th>\n",
       "      <td>NTC network Update: https://t.co/7IhdCC5XSq</td>\n",
       "      <td>34</td>\n",
       "      <td>2021-06-23 03:59:13</td>\n",
       "    </tr>\n",
       "    <tr>\n",
       "      <th>1</th>\n",
       "      <td>Nepali PM KP Oli's recent statement about orig...</td>\n",
       "      <td>42</td>\n",
       "      <td>2021-06-23 03:55:54</td>\n",
       "    </tr>\n",
       "    <tr>\n",
       "      <th>2</th>\n",
       "      <td>Nepali billionaire Binod Chaudhary talked abou...</td>\n",
       "      <td>180</td>\n",
       "      <td>2021-06-23 03:40:55</td>\n",
       "    </tr>\n",
       "    <tr>\n",
       "      <th>3</th>\n",
       "      <td>Class 12 Exam Update: NEB le ahile samma exam ...</td>\n",
       "      <td>117</td>\n",
       "      <td>2021-06-23 02:35:20</td>\n",
       "    </tr>\n",
       "    <tr>\n",
       "      <th>4</th>\n",
       "      <td>Wednesday Morning &amp;amp; statue of Kalika Devi ...</td>\n",
       "      <td>127</td>\n",
       "      <td>2021-06-23 02:02:20</td>\n",
       "    </tr>\n",
       "    <tr>\n",
       "      <th>...</th>\n",
       "      <td>...</td>\n",
       "      <td>...</td>\n",
       "      <td>...</td>\n",
       "    </tr>\n",
       "    <tr>\n",
       "      <th>195</th>\n",
       "      <td>It's time for RONB's extra dose of News for to...</td>\n",
       "      <td>86</td>\n",
       "      <td>2021-06-13 15:24:09</td>\n",
       "    </tr>\n",
       "    <tr>\n",
       "      <th>196</th>\n",
       "      <td>Nepal Police personnel in line to receive PPE ...</td>\n",
       "      <td>221</td>\n",
       "      <td>2021-06-13 15:05:35</td>\n",
       "    </tr>\n",
       "    <tr>\n",
       "      <th>197</th>\n",
       "      <td>The number of people in Nepal who have only re...</td>\n",
       "      <td>135</td>\n",
       "      <td>2021-06-13 14:23:39</td>\n",
       "    </tr>\n",
       "    <tr>\n",
       "      <th>198</th>\n",
       "      <td>P.S. Final approval will be given after a meet...</td>\n",
       "      <td>59</td>\n",
       "      <td>2021-06-13 13:30:01</td>\n",
       "    </tr>\n",
       "    <tr>\n",
       "      <th>199</th>\n",
       "      <td>Big News: Medical Education Commission (चिकित्...</td>\n",
       "      <td>163</td>\n",
       "      <td>2021-06-13 13:30:00</td>\n",
       "    </tr>\n",
       "  </tbody>\n",
       "</table>\n",
       "<p>200 rows × 3 columns</p>\n",
       "</div>"
      ],
      "text/plain": [
       "                                                tweets  likes  \\\n",
       "0          NTC network Update: https://t.co/7IhdCC5XSq     34   \n",
       "1    Nepali PM KP Oli's recent statement about orig...     42   \n",
       "2    Nepali billionaire Binod Chaudhary talked abou...    180   \n",
       "3    Class 12 Exam Update: NEB le ahile samma exam ...    117   \n",
       "4    Wednesday Morning &amp; statue of Kalika Devi ...    127   \n",
       "..                                                 ...    ...   \n",
       "195  It's time for RONB's extra dose of News for to...     86   \n",
       "196  Nepal Police personnel in line to receive PPE ...    221   \n",
       "197  The number of people in Nepal who have only re...    135   \n",
       "198  P.S. Final approval will be given after a meet...     59   \n",
       "199  Big News: Medical Education Commission (चिकित्...    163   \n",
       "\n",
       "                   time  \n",
       "0   2021-06-23 03:59:13  \n",
       "1   2021-06-23 03:55:54  \n",
       "2   2021-06-23 03:40:55  \n",
       "3   2021-06-23 02:35:20  \n",
       "4   2021-06-23 02:02:20  \n",
       "..                  ...  \n",
       "195 2021-06-13 15:24:09  \n",
       "196 2021-06-13 15:05:35  \n",
       "197 2021-06-13 14:23:39  \n",
       "198 2021-06-13 13:30:01  \n",
       "199 2021-06-13 13:30:00  \n",
       "\n",
       "[200 rows x 3 columns]"
      ]
     },
     "execution_count": 129,
     "metadata": {},
     "output_type": "execute_result"
    }
   ],
   "source": [
    "df = pd.DataFrame({'tweets':tweets,'likes':likes,'time':time})\r\n",
    "df"
   ]
  },
  {
   "cell_type": "code",
   "execution_count": 130,
   "metadata": {},
   "outputs": [
    {
     "data": {
      "text/html": [
       "<div>\n",
       "<style scoped>\n",
       "    .dataframe tbody tr th:only-of-type {\n",
       "        vertical-align: middle;\n",
       "    }\n",
       "\n",
       "    .dataframe tbody tr th {\n",
       "        vertical-align: top;\n",
       "    }\n",
       "\n",
       "    .dataframe thead th {\n",
       "        text-align: right;\n",
       "    }\n",
       "</style>\n",
       "<table border=\"1\" class=\"dataframe\">\n",
       "  <thead>\n",
       "    <tr style=\"text-align: right;\">\n",
       "      <th></th>\n",
       "      <th>tweets</th>\n",
       "      <th>likes</th>\n",
       "      <th>time</th>\n",
       "    </tr>\n",
       "  </thead>\n",
       "  <tbody>\n",
       "    <tr>\n",
       "      <th>0</th>\n",
       "      <td>NTC network Update: https://t.co/7IhdCC5XSq</td>\n",
       "      <td>34</td>\n",
       "      <td>2021-06-23 03:59:13</td>\n",
       "    </tr>\n",
       "    <tr>\n",
       "      <th>1</th>\n",
       "      <td>Nepali PM KP Oli's recent statement about orig...</td>\n",
       "      <td>42</td>\n",
       "      <td>2021-06-23 03:55:54</td>\n",
       "    </tr>\n",
       "    <tr>\n",
       "      <th>2</th>\n",
       "      <td>Nepali billionaire Binod Chaudhary talked abou...</td>\n",
       "      <td>180</td>\n",
       "      <td>2021-06-23 03:40:55</td>\n",
       "    </tr>\n",
       "    <tr>\n",
       "      <th>3</th>\n",
       "      <td>Class 12 Exam Update: NEB le ahile samma exam ...</td>\n",
       "      <td>117</td>\n",
       "      <td>2021-06-23 02:35:20</td>\n",
       "    </tr>\n",
       "    <tr>\n",
       "      <th>4</th>\n",
       "      <td>Wednesday Morning &amp;amp; statue of Kalika Devi ...</td>\n",
       "      <td>127</td>\n",
       "      <td>2021-06-23 02:02:20</td>\n",
       "    </tr>\n",
       "    <tr>\n",
       "      <th>...</th>\n",
       "      <td>...</td>\n",
       "      <td>...</td>\n",
       "      <td>...</td>\n",
       "    </tr>\n",
       "    <tr>\n",
       "      <th>185</th>\n",
       "      <td>It's time for RONB's extra dose of News for to...</td>\n",
       "      <td>86</td>\n",
       "      <td>2021-06-13 15:24:09</td>\n",
       "    </tr>\n",
       "    <tr>\n",
       "      <th>186</th>\n",
       "      <td>Nepal Police personnel in line to receive PPE ...</td>\n",
       "      <td>221</td>\n",
       "      <td>2021-06-13 15:05:35</td>\n",
       "    </tr>\n",
       "    <tr>\n",
       "      <th>187</th>\n",
       "      <td>The number of people in Nepal who have only re...</td>\n",
       "      <td>135</td>\n",
       "      <td>2021-06-13 14:23:39</td>\n",
       "    </tr>\n",
       "    <tr>\n",
       "      <th>188</th>\n",
       "      <td>P.S. Final approval will be given after a meet...</td>\n",
       "      <td>59</td>\n",
       "      <td>2021-06-13 13:30:01</td>\n",
       "    </tr>\n",
       "    <tr>\n",
       "      <th>189</th>\n",
       "      <td>Big News: Medical Education Commission (चिकित्...</td>\n",
       "      <td>163</td>\n",
       "      <td>2021-06-13 13:30:00</td>\n",
       "    </tr>\n",
       "  </tbody>\n",
       "</table>\n",
       "<p>190 rows × 3 columns</p>\n",
       "</div>"
      ],
      "text/plain": [
       "                                                tweets  likes  \\\n",
       "0          NTC network Update: https://t.co/7IhdCC5XSq     34   \n",
       "1    Nepali PM KP Oli's recent statement about orig...     42   \n",
       "2    Nepali billionaire Binod Chaudhary talked abou...    180   \n",
       "3    Class 12 Exam Update: NEB le ahile samma exam ...    117   \n",
       "4    Wednesday Morning &amp; statue of Kalika Devi ...    127   \n",
       "..                                                 ...    ...   \n",
       "185  It's time for RONB's extra dose of News for to...     86   \n",
       "186  Nepal Police personnel in line to receive PPE ...    221   \n",
       "187  The number of people in Nepal who have only re...    135   \n",
       "188  P.S. Final approval will be given after a meet...     59   \n",
       "189  Big News: Medical Education Commission (चिकित्...    163   \n",
       "\n",
       "                   time  \n",
       "0   2021-06-23 03:59:13  \n",
       "1   2021-06-23 03:55:54  \n",
       "2   2021-06-23 03:40:55  \n",
       "3   2021-06-23 02:35:20  \n",
       "4   2021-06-23 02:02:20  \n",
       "..                  ...  \n",
       "185 2021-06-13 15:24:09  \n",
       "186 2021-06-13 15:05:35  \n",
       "187 2021-06-13 14:23:39  \n",
       "188 2021-06-13 13:30:01  \n",
       "189 2021-06-13 13:30:00  \n",
       "\n",
       "[190 rows x 3 columns]"
      ]
     },
     "execution_count": 130,
     "metadata": {},
     "output_type": "execute_result"
    }
   ],
   "source": [
    "# remove retweets\r\n",
    "df = df[~df.tweets.str.contains(\"RT\")]\r\n",
    "df = df.reset_index(drop=True)\r\n",
    "df"
   ]
  },
  {
   "cell_type": "code",
   "execution_count": 131,
   "metadata": {},
   "outputs": [
    {
     "data": {
      "text/html": [
       "<div>\n",
       "<style scoped>\n",
       "    .dataframe tbody tr th:only-of-type {\n",
       "        vertical-align: middle;\n",
       "    }\n",
       "\n",
       "    .dataframe tbody tr th {\n",
       "        vertical-align: top;\n",
       "    }\n",
       "\n",
       "    .dataframe thead th {\n",
       "        text-align: right;\n",
       "    }\n",
       "</style>\n",
       "<table border=\"1\" class=\"dataframe\">\n",
       "  <thead>\n",
       "    <tr style=\"text-align: right;\">\n",
       "      <th></th>\n",
       "      <th>tweets</th>\n",
       "      <th>likes</th>\n",
       "      <th>time</th>\n",
       "    </tr>\n",
       "  </thead>\n",
       "  <tbody>\n",
       "    <tr>\n",
       "      <th>36</th>\n",
       "      <td>Good News &amp;amp; Big Achievement: https://t.co/...</td>\n",
       "      <td>990</td>\n",
       "      <td>2021-06-21 03:11:40</td>\n",
       "    </tr>\n",
       "    <tr>\n",
       "      <th>47</th>\n",
       "      <td>Modern Problems Modern Solutions: Newly marrie...</td>\n",
       "      <td>912</td>\n",
       "      <td>2021-06-20 08:06:12</td>\n",
       "    </tr>\n",
       "    <tr>\n",
       "      <th>116</th>\n",
       "      <td>Interesting: Nepal world kai dherai ChauChau (...</td>\n",
       "      <td>836</td>\n",
       "      <td>2021-06-17 02:30:36</td>\n",
       "    </tr>\n",
       "    <tr>\n",
       "      <th>46</th>\n",
       "      <td>Sindhuli ma Police lai Rs. 100 Ghus dina khojn...</td>\n",
       "      <td>815</td>\n",
       "      <td>2021-06-20 09:52:28</td>\n",
       "    </tr>\n",
       "    <tr>\n",
       "      <th>178</th>\n",
       "      <td>Big Achievement: https://t.co/6GRK91CJc4</td>\n",
       "      <td>764</td>\n",
       "      <td>2021-06-14 03:39:37</td>\n",
       "    </tr>\n",
       "  </tbody>\n",
       "</table>\n",
       "</div>"
      ],
      "text/plain": [
       "                                                tweets  likes  \\\n",
       "36   Good News &amp; Big Achievement: https://t.co/...    990   \n",
       "47   Modern Problems Modern Solutions: Newly marrie...    912   \n",
       "116  Interesting: Nepal world kai dherai ChauChau (...    836   \n",
       "46   Sindhuli ma Police lai Rs. 100 Ghus dina khojn...    815   \n",
       "178           Big Achievement: https://t.co/6GRK91CJc4    764   \n",
       "\n",
       "                   time  \n",
       "36  2021-06-21 03:11:40  \n",
       "47  2021-06-20 08:06:12  \n",
       "116 2021-06-17 02:30:36  \n",
       "46  2021-06-20 09:52:28  \n",
       "178 2021-06-14 03:39:37  "
      ]
     },
     "execution_count": 131,
     "metadata": {},
     "output_type": "execute_result"
    }
   ],
   "source": [
    "# most likes tweets\r\n",
    "mostlike = df.loc[df.likes.nlargest(5).index]\r\n",
    "mostlike"
   ]
  },
  {
   "cell_type": "code",
   "execution_count": 132,
   "metadata": {},
   "outputs": [],
   "source": [
    "import matplotlib.pyplot as plt\r\n",
    "import re\r\n",
    "import spacy\r\n",
    "nlp = spacy.load('en_core_web_lg')\r\n",
    "import seaborn as sns"
   ]
  },
  {
   "cell_type": "code",
   "execution_count": 133,
   "metadata": {},
   "outputs": [],
   "source": [
    "list_of_sentences = [x for x in df.tweets]"
   ]
  },
  {
   "cell_type": "code",
   "execution_count": 134,
   "metadata": {},
   "outputs": [
    {
     "data": {
      "image/png": "[encoded data removed]",
      "text/plain": [
       "<Figure size 432x288 with 1 Axes>"
      ]
     },
     "metadata": {},
     "output_type": "display_data"
    }
   ],
   "source": [
    "# sentiment analysis of overall tweets of a person.\r\n",
    "from textblob import TextBlob\r\n",
    "import matplotlib.pyplot as plt\r\n",
    "pos,neg,neu = 0,0,0\r\n",
    "\r\n",
    "for tweets in list_of_sentences:\r\n",
    "    analysis = TextBlob(tweets)\r\n",
    "    # print(analysis.sentiment)\r\n",
    "    if analysis.sentiment.polarity>0:\r\n",
    "        # print('positive')\r\n",
    "        pos +=1\r\n",
    "    elif analysis.sentiment.polarity==0:\r\n",
    "        # print('neural')\r\n",
    "        neu +=1\r\n",
    "    elif analysis.sentiment.polarity<0:\r\n",
    "        # print('negetive')\r\n",
    "        neg +=1\r\n",
    "\r\n",
    "plt.xlabel(\"tags\")\r\n",
    "plt.ylabel('polarity')\r\n",
    "plt.pie([pos,neg,neu],labels=['pos','neg','neu'],autopct=\"%1.1f%%\")\r\n",
    "plt.show()"
   ]
  },
  {
   "cell_type": "code",
   "execution_count": 135,
   "metadata": {},
   "outputs": [],
   "source": [
    "# convert to words\r\n",
    "words = [w for sentence in list_of_sentences for w in sentence.split()]\r\n",
    "# remove except alphanumeric characters\r\n",
    "lines = [re.sub(r'[^A-Za-z0-9]+','',x) for x in words]\r\n",
    "# remove empty strings\r\n",
    "lines2 = [x for x in lines if x!='']"
   ]
  },
  {
   "cell_type": "code",
   "execution_count": 136,
   "metadata": {},
   "outputs": [],
   "source": [
    "# removing stop words\r\n",
    "from nltk.stem.snowball import SnowballStemmer\r\n",
    "s_stemmer = SnowballStemmer(language='english')\r\n",
    "\r\n",
    "stem = [s_stemmer.stem(word) for word in lines2]\r\n",
    "stem2 = [word for word in stem if word not in nlp.Defaults.stop_words]"
   ]
  },
  {
   "cell_type": "code",
   "execution_count": 137,
   "metadata": {},
   "outputs": [
    {
     "name": "stderr",
     "output_type": "stream",
     "text": [
      "C:\\Users\\rabin\\anaconda3\\lib\\site-packages\\seaborn\\_decorators.py:36: FutureWarning: Pass the following variables as keyword args: x, y. From version 0.12, the only valid positional argument will be `data`, and passing other arguments without an explicit keyword will result in an error or misinterpretation.\n",
      "  warnings.warn(\n"
     ]
    },
    {
     "data": {
      "image/png": "[encoded data removed]",
      "text/plain": [
       "<Figure size 720x360 with 1 Axes>"
      ]
     },
     "metadata": {
      "needs_background": "light"
     },
     "output_type": "display_data"
    }
   ],
   "source": [
    "df2 = pd.DataFrame(stem2)\r\n",
    "df2 = df2[0].value_counts()\r\n",
    "\r\n",
    "df2 = df2[:20,]\r\n",
    "plt.figure(figsize=(10,5))\r\n",
    "sns.barplot(df2.values,df2.index,alpha=1)\r\n",
    "plt.title('Top Words')\r\n",
    "plt.ylabel('Words from tweets')\r\n",
    "plt.xlabel('Count of words')\r\n",
    "plt.show()"
   ]
  },
  {
   "cell_type": "code",
   "execution_count": 138,
   "metadata": {},
   "outputs": [
    {
     "name": "stdout",
     "output_type": "stream",
     "text": [
      "top_topics: ['today', 'police', 'area', 'number', 'icc', 'water', 'morning', 'ma', 'https', 'nepali', 'world', 'ko', 'pic', 'melamchi', 'photo', 'river', 'nepal', 'peace', 'level', 'flood', 'days', 'covid', 'cases', 'news', 'alert', 'goodnight', '19', 'case', 'new', 'amp', 'dose']\n"
     ]
    }
   ],
   "source": [
    "from nltk import word_tokenize, pos_tag\r\n",
    "from gensim import matutils, models\r\n",
    "from sklearn.feature_extraction import text\r\n",
    "from sklearn.feature_extraction.text import CountVectorizer\r\n",
    "import scipy.sparse\r\n",
    "# topic modeling of all tweets of a person.\r\n",
    "def noun_print(df):\r\n",
    "    # Let's create a function to pull out nouns from a string of text\r\n",
    "    def nouns(text):\r\n",
    "        '''Given a string of text, tokenize the text and pull out only the nouns.'''\r\n",
    "        is_noun = lambda pos: pos[:2] == 'NN'\r\n",
    "        tokenized = word_tokenize(text)\r\n",
    "        all_nouns = [word for (word, pos) in pos_tag(tokenized) if is_noun(pos)] \r\n",
    "        return ' '.join(all_nouns)\r\n",
    "\r\n",
    "    data_nouns = pd.DataFrame(df.tweets.apply(nouns))\r\n",
    "\r\n",
    "    # Re-add the additional stop words since we are recreating the document-term matrix\r\n",
    "    add_stop_words = ['like', 'im', 'know', 'just', 'dont', 'thats', 'right', 'people',\r\n",
    "                    'youre', 'got', 'gonna', 'time', 'think', 'yeah', 'said','ah']\r\n",
    "    stop_words = text.ENGLISH_STOP_WORDS.union(add_stop_words)\r\n",
    "\r\n",
    "    # Recreate a document-term matrix with only nouns\r\n",
    "    cvn = CountVectorizer(stop_words=stop_words)\r\n",
    "    data_cvn = cvn.fit_transform(data_nouns.tweets)\r\n",
    "    data_dtmn = pd.DataFrame(data_cvn.toarray(), columns=cvn.get_feature_names())\r\n",
    "    data_dtmn.index = data_nouns.index\r\n",
    "\r\n",
    "    # Create the gensim corpus\r\n",
    "    corpusn = matutils.Sparse2Corpus(scipy.sparse.csr_matrix(data_dtmn.transpose()))\r\n",
    "\r\n",
    "    # Create the vocabulary dictionary\r\n",
    "    id2wordn = dict((v, k) for k, v in cvn.vocabulary_.items())\r\n",
    "\r\n",
    "    # Create the gensim corpus\r\n",
    "    corpusn = matutils.Sparse2Corpus(scipy.sparse.csr_matrix(data_dtmn.transpose()))\r\n",
    "\r\n",
    "    # Create the vocabulary dictionary\r\n",
    "    id2wordn = dict((v, k) for k, v in cvn.vocabulary_.items())\r\n",
    "\r\n",
    "    # Let's start with 2 topics\r\n",
    "    ldan = models.LdaModel(corpus=corpusn, num_topics=2, id2word=id2wordn, passes=10)\r\n",
    "\r\n",
    "    # Let's try topics = 3\r\n",
    "    ldan = models.LdaModel(corpus=corpusn, num_topics=3, id2word=id2wordn, passes=10)\r\n",
    "\r\n",
    "    # Let's try 4 topics\r\n",
    "    ldan = models.LdaModel(corpus=corpusn, num_topics=4, id2word=id2wordn, passes=10)\r\n",
    "\r\n",
    "    # Our final LDA model (for now)\r\n",
    "    ldan = models.LdaModel(corpus=corpusn, num_topics=4, id2word=id2wordn, passes=80)\r\n",
    "\r\n",
    "    topics = []\r\n",
    "    topic = ldan.print_topics()\r\n",
    "    for top1 in topic:\r\n",
    "        for top2 in top1[1].split(' + '):\r\n",
    "            topics.append(top2[7:-1])\r\n",
    "    topics = list(set(topics))\r\n",
    "    print('top_topics:',topics)\r\n",
    "\r\n",
    "noun_print(df)\r\n"
   ]
  }
 ],
 "metadata": {
  "interpreter": {
   "hash": "a456efd1d2e2bfa10bfdad488db5626e5f8bd233a0f11ae70ce0e7717a6a7d8d"
  },
  "kernelspec": {
   "display_name": "Python 3.8.5 64-bit (conda)",
   "name": "python3"
  },
  "language_info": {
   "codemirror_mode": {
    "name": "ipython",
    "version": 3
   },
   "file_extension": ".py",
   "mimetype": "text/x-python",
   "name": "python",
   "nbconvert_exporter": "python",
   "pygments_lexer": "ipython3",
   "version": "3.8.5"
  },
  "orig_nbformat": 4
 },
 "nbformat": 4,
 "nbformat_minor": 2
}