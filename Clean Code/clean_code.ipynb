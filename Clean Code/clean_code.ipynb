{
 "cells": [
  {
   "cell_type": "markdown",
   "metadata": {},
   "source": [
    "### What is clean code?\n",
    "\n",
    "- Should be readable and meaningful\n",
    "- Should reduce cognitive load\n",
    "- Should be concise and \"to the point\"\n",
    "- Should be avoid unintuitive names, complex nesting and big code blocks\n",
    "- Should follow common best practices and patterns\n",
    "- Should be fun to write and maintain"
   ]
  },
  {
   "cell_type": "code",
   "execution_count": 1,
   "metadata": {},
   "outputs": [],
   "source": [
    "# clean code doesn't require comments/strong typing\n",
    "# types can help preventing errors and can improve readability\n",
    "\n",
    "def add(num: int, num2: int) -> int:\n",
    "    return num + num2\n",
    "\n",
    "# is equally readable as\n",
    "\n",
    "def add(num, num2):\n",
    "    return num + num2"
   ]
  }
 ],
 "metadata": {
  "kernelspec": {
   "display_name": "Python 3",
   "language": "python",
   "name": "python3"
  },
  "language_info": {
   "codemirror_mode": {
    "name": "ipython",
    "version": 3
   },
   "file_extension": ".py",
   "mimetype": "text/x-python",
   "name": "python",
   "nbconvert_exporter": "python",
   "pygments_lexer": "ipython3",
   "version": "3.10.12"
  }
 },
 "nbformat": 4,
 "nbformat_minor": 2
}
