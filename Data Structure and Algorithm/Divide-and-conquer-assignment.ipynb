{
 "cells": [
  {
   "cell_type": "markdown",
   "id": "exempt-conjunction",
   "metadata": {},
   "source": [
    "# Assignment - Divide-n-Conquer Algorithms in Python"
   ]
  },
  {
   "cell_type": "markdown",
   "id": "coated-trout",
   "metadata": {},
   "source": [
    "## Problem Statement - Polynomial Multiplication\n",
    "\n",
    "> Given two polynomials represented by two lists, write a function that efficiently multiplies given two polynomials. For example, the lists `[2, 0, 5, 7]` and `[3, 4, 2]` represent the polynomials $2 + 5x^2 + 7x^3$ and $3 + 4x + 2x^2$. \n",
    "> \n",
    "> Their product is \n",
    ">\n",
    "> $(2 \\times 3) + (2 \\times 4 + 0 \\times 3)x + (2 \\times 2 + 3 \\times 5 + 4 \\times 0)x^2 + (7 \\times 3 + 5 \\times 4 + 0 \\times 2)x^3 + (7 \\times 4 + 5 \\times 2)x^4 + (7 \\times 2)x^5$ i.e. \n",
    ">\n",
    ">$6 + 8x + 19x^2 + 41x^3 + 38x^4 + 14x^5$\n",
    "> \n",
    ">It can be represented by the list `[6, 8, 19, 41, 38, 14]`.\n"
   ]
  },
  {
   "cell_type": "markdown",
   "id": "rational-disabled",
   "metadata": {},
   "source": [
    "## The Method\n",
    "\n",
    "Here's the systematic strategy we'll apply for solving problems:\n",
    "\n",
    "1. State the problem clearly. Identify the input & output formats.\n",
    "2. Come up with some example inputs & outputs. Try to cover all edge cases.\n",
    "3. Come up with a correct solution for the problem. State it in plain English.\n",
    "4. Implement the solution and test it using example inputs. Fix bugs, if any.\n",
    "5. Analyze the algorithm's complexity and identify inefficiencies, if any.\n",
    "6. Apply the right technique to overcome the inefficiency. Repeat steps 3 to 6."
   ]
  },
  {
   "cell_type": "markdown",
   "id": "dental-sugar",
   "metadata": {},
   "source": [
    "## Solution\n",
    "\n",
    "\n",
    "### 1. State the problem clearly. Identify the input & output formats.\n",
    "\n",
    "While this problem is stated clearly enough, it's always useful to try and express in your own words, in a way that makes it most clear for you. \n",
    "\n",
    "\n",
    "**Problem**\n",
    "\n",
    "> we get two inputs as a polynomail equation in list indexing the power of x. we have to multiply these two list fo equation in order to get a single list representing the multiplied equation.\n",
    "\n",
    "\n",
    "<br/>\n",
    "\n",
    "\n",
    "**Input**\n",
    "\n",
    "1. two input are the list of numbers representing power of x in the polynomial equation.\n",
    "\n",
    "\n",
    "\n",
    "**Output**\n",
    "\n",
    "1. the output should be a single list of polynomial equation.\n",
    "\n",
    "\n",
    "<br/>\n",
    "\n",
    "Based on the above, we can now create a signature of our function:"
   ]
  },
  {
   "cell_type": "code",
   "execution_count": 7,
   "id": "numerous-necessity",
   "metadata": {},
   "outputs": [],
   "source": [
    "def multiply(poly1, poly2):\n",
    "    pass"
   ]
  },
  {
   "cell_type": "markdown",
   "id": "manual-convenience",
   "metadata": {},
   "source": [
    "### 2. Come up with some example inputs & outputs. Try to cover all edge cases.\n",
    "\n",
    "Our function should be able to handle any set of valid inputs we pass into it. List a few scenarios here:\n",
    "\n",
    "1. Inputs list can be of unequal lenght.\n",
    "2. Inputs list can be of equal lenght.\n",
    "3. List can contain zeros.\n",
    "4. List may be empty\n",
    "5. List may contain single zero.\n",
    "6. List may contain all zeros.\n",
    "7. List contain negative numbers\n",
    "\n",
    "(add more if required)\n",
    "\n",
    "\n",
    "Create a test case of each of the above scenarios. We'll express our test cases as dictionaries, to test them easily. Each dictionary will contain 2 keys: `input` (a dictionary itself containing one key for each argument to the function and `output` (the expected result from the function). "
   ]
  },
  {
   "cell_type": "code",
   "execution_count": 11,
   "id": "cloudy-groove",
   "metadata": {},
   "outputs": [],
   "source": [
    "test0 = {\n",
    "    'input': {\n",
    "        'poly1': [2, 0, 5, 7],\n",
    "        'poly2': [3, 4, 2]\n",
    "    },\n",
    "    'output': [6, 8, 19, 41, 38, 14]\n",
    "}"
   ]
  },
  {
   "cell_type": "code",
   "execution_count": 12,
   "id": "guilty-machinery",
   "metadata": {},
   "outputs": [],
   "source": [
    "test1 = {\n",
    "    'input': {\n",
    "        'poly1': [2, 1, 5, 7],\n",
    "        'poly2': [1, 2, 3, 4]\n",
    "    },\n",
    "    'output': [2,5,13,28,33,41,28]\n",
    "}"
   ]
  },
  {
   "cell_type": "code",
   "execution_count": 14,
   "id": "tutorial-uruguay",
   "metadata": {},
   "outputs": [],
   "source": [
    "test2 = {\n",
    "    'input': {\n",
    "        'poly1': [2,1,0,7],\n",
    "        'poly2': [1,0,3,4]\n",
    "    },\n",
    "    'output': [2,1,6,18,4,21,28]\n",
    "}"
   ]
  },
  {
   "cell_type": "code",
   "execution_count": 16,
   "id": "satellite-society",
   "metadata": {},
   "outputs": [],
   "source": [
    "test3 = {\n",
    "    'input': {\n",
    "        'poly1': [2,1,0,7],\n",
    "        'poly2': []\n",
    "    },\n",
    "    'output': [2,1,0,7]\n",
    "}"
   ]
  },
  {
   "cell_type": "code",
   "execution_count": 17,
   "id": "underlying-thomas",
   "metadata": {},
   "outputs": [],
   "source": [
    "test4 = {\n",
    "    'input': {\n",
    "        'poly1': [2,1,0,7],\n",
    "        'poly2': [0]\n",
    "    },\n",
    "    'output': [0]\n",
    "}"
   ]
  },
  {
   "cell_type": "code",
   "execution_count": 18,
   "id": "annoying-trade",
   "metadata": {},
   "outputs": [],
   "source": [
    "test5 = {\n",
    "    'input': {\n",
    "        'poly1': [2,1,0,7],\n",
    "        'poly2': [0,0,0,0]\n",
    "    },\n",
    "    'output': [0]\n",
    "}"
   ]
  },
  {
   "cell_type": "code",
   "execution_count": 97,
   "id": "charming-fourth",
   "metadata": {},
   "outputs": [],
   "source": [
    "test6 = {\n",
    "    'input': {\n",
    "        'poly1': [2, 79, -8, -86, 6, -29, 88, -80, 2, 21],\n",
    "        'poly2': [-26, -13, 16, -1, 3, 51, 30, 49, -48, -99]\n",
    "    },\n",
    "    'output': [-52, -2080, -787, 3602, 761, -353, 2336, 2268, 1592, -8683, -12847, 8926, 5350, 2875, -4142, -4144, 8853, -1206, -2079]\n",
    "}"
   ]
  },
  {
   "cell_type": "code",
   "execution_count": 335,
   "id": "infectious-static",
   "metadata": {},
   "outputs": [],
   "source": [
    "test7 = {\n",
    "    'input': {\n",
    "        'poly1': [2, 0, 5, 7],\n",
    "        'poly2': [3, 4, 2]\n",
    "    },\n",
    "    'output': [6, 8, 19, 41, 38, 14]\n",
    "}"
   ]
  },
  {
   "cell_type": "code",
   "execution_count": null,
   "id": "scheduled-local",
   "metadata": {},
   "outputs": [],
   "source": []
  },
  {
   "cell_type": "code",
   "execution_count": null,
   "id": "humanitarian-final",
   "metadata": {},
   "outputs": [],
   "source": []
  },
  {
   "cell_type": "markdown",
   "id": "intellectual-amsterdam",
   "metadata": {},
   "source": [
    "Let's store all the test cases in a list, for easier automated testing."
   ]
  },
  {
   "cell_type": "code",
   "execution_count": 336,
   "id": "sustainable-elizabeth",
   "metadata": {},
   "outputs": [],
   "source": [
    "tests = [test0,test1,test2,test3,test4,test5,test6,test7]"
   ]
  },
  {
   "cell_type": "code",
   "execution_count": 337,
   "id": "empty-cathedral",
   "metadata": {},
   "outputs": [
    {
     "data": {
      "text/plain": [
       "[{'input': {'poly1': [2, 0, 5, 7], 'poly2': [3, 4, 2]},\n",
       "  'output': [6, 8, 19, 41, 38, 14]},\n",
       " {'input': {'poly1': [2, 1, 5, 7], 'poly2': [1, 2, 3, 4]},\n",
       "  'output': [2, 5, 13, 28, 33, 41, 28]},\n",
       " {'input': {'poly1': [2, 1, 0, 7], 'poly2': [1, 0, 3, 4]},\n",
       "  'output': [2, 1, 6, 18, 4, 21, 28]},\n",
       " {'input': {'poly1': [2, 1, 0, 7], 'poly2': []}, 'output': [2, 1, 0, 7]},\n",
       " {'input': {'poly1': [2, 1, 0, 7], 'poly2': [0]}, 'output': [0]},\n",
       " {'input': {'poly1': [2, 1, 0, 7], 'poly2': [0, 0, 0, 0]}, 'output': [0]},\n",
       " {'input': {'poly1': [2, 0, 5, 7], 'poly2': [3, 4, 2]},\n",
       "  'output': [6, 8, 19, 41, 38, 14]},\n",
       " {'input': {'poly1': [2, 0, 5, 7], 'poly2': [3, 4, 2]},\n",
       "  'output': [6, 8, 19, 41, 38, 14]}]"
      ]
     },
     "execution_count": 337,
     "metadata": {},
     "output_type": "execute_result"
    }
   ],
   "source": [
    "tests"
   ]
  },
  {
   "cell_type": "code",
   "execution_count": null,
   "id": "voluntary-sapphire",
   "metadata": {},
   "outputs": [],
   "source": []
  },
  {
   "cell_type": "markdown",
   "id": "designing-qualification",
   "metadata": {},
   "source": [
    "### 3. Come up with a correct solution for the problem. State it in plain English.\n",
    "\n",
    "Our first goal should always be to come up with a _correct_ solution to the problem, which may not necessarily be the most _efficient_ solution. \n",
    "\n",
    "Here's the simplest solution: If you have lists `poly1` and `poly2` representing polynomials of length $m$ and $n$ respectively, the highest degree of the exponents are $m-1$ and $n-1$ respectively. Their product has the degree $(m - 1) + (n - 1)$ i.e $m + n - 2$. The list representing the product has the length $m + n - 1$. So, we can create a list `result` of length $m + n - 1$, and set \n",
    "\n",
    "`result[k]` = Sum of all the pairs `poly1[i] * poly2[j]` where `i+j = k`\n",
    "\n",
    "Example:\n",
    "\n",
    "$(2 + 5x^2 + 7x^3) \\times (3 + 4x + 2x^2)$\n",
    "\n",
    "$= (2 \\times 3) + (2 \\times 4 + 0 \\times 3)x + (2 \\times 2 + 3 \\times 5 + 4 \\times 0)x^2 + (7 \\times 3 + 5 \\times 4 + 0 \\times 2)x^3 + (7 \\times 4 + 5 \\times 2)x^4 + (7 \\times 2)x^5$\n",
    "\n",
    "$= 6 + 8x + 19x^2 + 41x^3 + 38x^4 + 14x^5$\n",
    "\n",
    "\n",
    "\n",
    "\n",
    "\n",
    "\n",
    "Explain this solution in your own words below:\n",
    "\n",
    "1. find the lenght of poly1 and poly2 as m,n respectively\n",
    "2. find the highest degree of the two polynomail as m-1 and n-1.\n",
    "3. the hightest degree of the prodct is m+n-2\n",
    "4. create a list of lenght m+n-1\n",
    "5. sum of all pairs as poly[i] * poly[j]\n",
    "\n",
    "(add more steps if required)\n",
    "\n",
    "\n",
    "Let's save and upload our work before continuing.\n",
    "\n"
   ]
  },
  {
   "cell_type": "markdown",
   "id": "perfect-boating",
   "metadata": {},
   "source": [
    "###  4. Implement the solution and test it using example inputs. Fix bugs, if any.\n",
    "\n",
    "Implement the solution"
   ]
  },
  {
   "cell_type": "code",
   "execution_count": 102,
   "id": "descending-courtesy",
   "metadata": {},
   "outputs": [],
   "source": [
    "def multiply_basic(poly1, poly2):\n",
    "    m = len(poly1)\n",
    "    n = len(poly2)\n",
    "    degree = m+n-2\n",
    "    \n",
    "    o = m+n-1\n",
    "    lst = [0]*o\n",
    "    \n",
    "    if m==0:\n",
    "        return poly2\n",
    "    elif n==0:\n",
    "        return poly1\n",
    "    elif sum(poly1) ==0 or sum(poly2)==0:\n",
    "        return [0]\n",
    "    \n",
    "    for i in range(m):\n",
    "        for j in range(n):\n",
    "            lst[i+j] += poly1[i]*poly2[j]\n",
    "    \n",
    "    return lst        "
   ]
  },
  {
   "cell_type": "markdown",
   "id": "historic-detroit",
   "metadata": {},
   "source": [
    "Test your solution using the test cases you've defined above."
   ]
  },
  {
   "cell_type": "code",
   "execution_count": 130,
   "id": "automatic-concentrate",
   "metadata": {},
   "outputs": [],
   "source": [
    "from jovian.pythondsa import evaluate_test_case"
   ]
  },
  {
   "cell_type": "code",
   "execution_count": 150,
   "id": "important-nursing",
   "metadata": {},
   "outputs": [
    {
     "name": "stdout",
     "output_type": "stream",
     "text": [
      "\n",
      "Input:\n",
      "{'poly1': [2, 1, 5, 7], 'poly2': [1, 2, 3, 4]}\n",
      "\n",
      "Expected Output:\n",
      "[2, 5, 13, 28, 33, 41, 28]\n",
      "\n",
      "\n",
      "Actual Output:\n",
      "[2, 5, 13, 28, 33, 41, 28]\n",
      "\n",
      "Execution Time:\n",
      "0.01 ms\n",
      "\n",
      "Test Result:\n",
      "\u001b[92mPASSED\u001b[0m\n",
      "\n"
     ]
    },
    {
     "data": {
      "text/plain": [
       "True"
      ]
     },
     "execution_count": 150,
     "metadata": {},
     "output_type": "execute_result"
    }
   ],
   "source": [
    "evaluate_test_case(multiply_basic,test1)[0] == test1['output']"
   ]
  },
  {
   "cell_type": "code",
   "execution_count": 151,
   "id": "union-richmond",
   "metadata": {},
   "outputs": [],
   "source": [
    "from jovian.pythondsa import evaluate_test_cases"
   ]
  },
  {
   "cell_type": "code",
   "execution_count": 348,
   "id": "defined-excerpt",
   "metadata": {},
   "outputs": [
    {
     "name": "stdout",
     "output_type": "stream",
     "text": [
      "\n",
      "\u001b[1mTEST CASE #0\u001b[0m\n",
      "\n",
      "Input:\n",
      "{'poly1': [2, 0, 5, 7], 'poly2': [3, 4, 2]}\n",
      "\n",
      "Expected Output:\n",
      "[6, 8, 19, 41, 38, 14]\n",
      "\n",
      "\n",
      "Actual Output:\n",
      "[6, 8, 19, 41, 38, 14]\n",
      "\n",
      "Execution Time:\n",
      "0.015 ms\n",
      "\n",
      "Test Result:\n",
      "\u001b[92mPASSED\u001b[0m\n",
      "\n",
      "\n",
      "\u001b[1mTEST CASE #1\u001b[0m\n",
      "\n",
      "Input:\n",
      "{'poly1': [2, 1, 5, 7], 'poly2': [1, 2, 3, 4]}\n",
      "\n",
      "Expected Output:\n",
      "[2, 5, 13, 28, 33, 41, 28]\n",
      "\n",
      "\n",
      "Actual Output:\n",
      "[2, 5, 13, 28, 33, 41, 28]\n",
      "\n",
      "Execution Time:\n",
      "0.015 ms\n",
      "\n",
      "Test Result:\n",
      "\u001b[92mPASSED\u001b[0m\n",
      "\n",
      "\n",
      "\u001b[1mTEST CASE #2\u001b[0m\n",
      "\n",
      "Input:\n",
      "{'poly1': [2, 1, 0, 7], 'poly2': [1, 0, 3, 4]}\n",
      "\n",
      "Expected Output:\n",
      "[2, 1, 6, 18, 4, 21, 28]\n",
      "\n",
      "\n",
      "Actual Output:\n",
      "[2, 1, 6, 18, 4, 21, 28]\n",
      "\n",
      "Execution Time:\n",
      "0.009 ms\n",
      "\n",
      "Test Result:\n",
      "\u001b[92mPASSED\u001b[0m\n",
      "\n",
      "\n",
      "\u001b[1mTEST CASE #3\u001b[0m\n",
      "\n",
      "Input:\n",
      "{'poly1': [2, 1, 0, 7], 'poly2': []}\n",
      "\n",
      "Expected Output:\n",
      "[2, 1, 0, 7]\n",
      "\n",
      "\n",
      "Actual Output:\n",
      "[2, 1, 0, 7]\n",
      "\n",
      "Execution Time:\n",
      "0.002 ms\n",
      "\n",
      "Test Result:\n",
      "\u001b[92mPASSED\u001b[0m\n",
      "\n",
      "\n",
      "\u001b[1mTEST CASE #4\u001b[0m\n",
      "\n",
      "Input:\n",
      "{'poly1': [2, 1, 0, 7], 'poly2': [0]}\n",
      "\n",
      "Expected Output:\n",
      "[0]\n",
      "\n",
      "\n",
      "Actual Output:\n",
      "[0]\n",
      "\n",
      "Execution Time:\n",
      "0.003 ms\n",
      "\n",
      "Test Result:\n",
      "\u001b[92mPASSED\u001b[0m\n",
      "\n",
      "\n",
      "\u001b[1mTEST CASE #5\u001b[0m\n",
      "\n",
      "Input:\n",
      "{'poly1': [2, 1, 0, 7], 'poly2': [0, 0, 0, 0]}\n",
      "\n",
      "Expected Output:\n",
      "[0]\n",
      "\n",
      "\n",
      "Actual Output:\n",
      "[0]\n",
      "\n",
      "Execution Time:\n",
      "0.003 ms\n",
      "\n",
      "Test Result:\n",
      "\u001b[92mPASSED\u001b[0m\n",
      "\n",
      "\n",
      "\u001b[1mTEST CASE #6\u001b[0m\n",
      "\n",
      "Input:\n",
      "{'poly1': [2, 0, 5, 7], 'poly2': [3, 4, 2]}\n",
      "\n",
      "Expected Output:\n",
      "[6, 8, 19, 41, 38, 14]\n",
      "\n",
      "\n",
      "Actual Output:\n",
      "[6, 8, 19, 41, 38, 14]\n",
      "\n",
      "Execution Time:\n",
      "0.011 ms\n",
      "\n",
      "Test Result:\n",
      "\u001b[92mPASSED\u001b[0m\n",
      "\n",
      "\n",
      "\u001b[1mTEST CASE #7\u001b[0m\n",
      "\n",
      "Input:\n",
      "{'poly1': [2, 0, 5, 7], 'poly2': [3, 4, 2]}\n",
      "\n",
      "Expected Output:\n",
      "[6, 8, 19, 41, 38, 14]\n",
      "\n",
      "\n",
      "Actual Output:\n",
      "[6, 8, 19, 41, 38, 14]\n",
      "\n",
      "Execution Time:\n",
      "0.006 ms\n",
      "\n",
      "Test Result:\n",
      "\u001b[92mPASSED\u001b[0m\n",
      "\n",
      "\n",
      "\u001b[1mSUMMARY\u001b[0m\n",
      "\n",
      "TOTAL: 8, \u001b[92mPASSED\u001b[0m: 8, \u001b[91mFAILED\u001b[0m: 0\n"
     ]
    },
    {
     "data": {
      "text/plain": [
       "[([6, 8, 19, 41, 38, 14], True, 0.015),\n",
       " ([2, 5, 13, 28, 33, 41, 28], True, 0.015),\n",
       " ([2, 1, 6, 18, 4, 21, 28], True, 0.009),\n",
       " ([2, 1, 0, 7], True, 0.002),\n",
       " ([0], True, 0.003),\n",
       " ([0], True, 0.003),\n",
       " ([6, 8, 19, 41, 38, 14], True, 0.011),\n",
       " ([6, 8, 19, 41, 38, 14], True, 0.006)]"
      ]
     },
     "execution_count": 348,
     "metadata": {},
     "output_type": "execute_result"
    }
   ],
   "source": [
    "evaluate_test_cases(multiply_basic, tests)"
   ]
  },
  {
   "cell_type": "code",
   "execution_count": null,
   "id": "planned-sheriff",
   "metadata": {},
   "outputs": [],
   "source": []
  },
  {
   "cell_type": "markdown",
   "id": "continent-castle",
   "metadata": {},
   "source": [
    "### 5. Analyze the algorithm's complexity and identify inefficiencies, if any.\n",
    "\n",
    "Can you analyze the time and space complexity of this algorithm?"
   ]
  },
  {
   "cell_type": "code",
   "execution_count": 156,
   "id": "apparent-school",
   "metadata": {},
   "outputs": [],
   "source": [
    "multiply_basic_time_complexity = 'O(m*n)'"
   ]
  },
  {
   "cell_type": "code",
   "execution_count": 157,
   "id": "bronze-magnet",
   "metadata": {},
   "outputs": [],
   "source": [
    "multiply_basic_space_complexity = 'O(m+n-1)'"
   ]
  },
  {
   "cell_type": "markdown",
   "id": "arabic-glasgow",
   "metadata": {},
   "source": [
    "### 6. Apply the right technique to overcome the inefficiency. Repeat steps 3 to 6.\n",
    "\n",
    "We can apply the divide and conquer technique to solve this problem more efficiently. Given two polynomials `A` and `B`, we can express each of them as a sum of two polynomials as follows:\n",
    "\n",
    "<img src=\"https://i.imgur.com/FjKQF5h.png\" width=\"480\">\n",
    "\n",
    "We need to compute the terms `A0 * B0`, `A1 * B0 + A0 * B1` and `A1 * B1`. This can obviously be done using 4 multiplications, but here's a way of doing it with just three multiplications:\n",
    "\n",
    "<img src=\"https://i.imgur.com/G3vD1GX.png\" width=\"480\">"
   ]
  },
  {
   "cell_type": "markdown",
   "id": "minimal-wages",
   "metadata": {},
   "source": [
    "### 7. Come up with a correct solution for the problem. State it in plain English.\n",
    "\n",
    "Explain the approach described above in your own words below:\n",
    "\n",
    "1. The above solution we made takes 4 multiplication, now we can make it to 3.\n",
    "2. We first split the problem into 4 parts. eg(of input size n/2)\n",
    "3. first part is the a0,a1 and second part is b0,b1,and the third part is a0b1+a1b0 and the last part a(n)b(n)\n",
    "4. we recursively call the algorithm 4 times.\n",
    "5. the four result are combined to get the polynomial multiplication. \n",
    "\n",
    "(add more steps if required)\n",
    "\n",
    "\n",
    "Let's save and upload our work before continuing."
   ]
  },
  {
   "cell_type": "markdown",
   "id": "protected-failure",
   "metadata": {},
   "source": [
    "### 8. Implement the solution and test it using example inputs. Fix bugs, if any.\n",
    "\n",
    "We are now ready to implement the solution. You may find the following functions `add`, `split` and `increase_exponent` useful.\n"
   ]
  },
  {
   "cell_type": "code",
   "execution_count": 265,
   "id": "prescription-skiing",
   "metadata": {},
   "outputs": [],
   "source": [
    "def add(poly1, poly2):\n",
    "    \"\"\"Add two polynomials\"\"\"\n",
    "    if poly1 is None:\n",
    "        len1 = 0\n",
    "    else:\n",
    "        len1 = len(poly1)\n",
    "    if poly2 is None:\n",
    "        len2 = 0\n",
    "    else:\n",
    "        len2 = len(poly2)\n",
    "        \n",
    "    result = [0] * max(len1, len2)\n",
    "    for i in range(len(result)):\n",
    "        if i < len1:\n",
    "            result[i] += poly1[i]\n",
    "        if i < len2:\n",
    "            result[i] += poly2[i]\n",
    "    return result"
   ]
  },
  {
   "cell_type": "code",
   "execution_count": 257,
   "id": "varied-performance",
   "metadata": {},
   "outputs": [
    {
     "data": {
      "text/plain": [
       "[1, 6, 6, 4]"
      ]
     },
     "execution_count": 257,
     "metadata": {},
     "output_type": "execute_result"
    }
   ],
   "source": [
    "add([1, 2, 3, 4], [0, 4, 3])"
   ]
  },
  {
   "cell_type": "code",
   "execution_count": 237,
   "id": "perfect-reasoning",
   "metadata": {},
   "outputs": [],
   "source": [
    "def subs(poly1, poly2):\n",
    "    \"\"\"Add two polynomials\"\"\"\n",
    "#     if poly1 is not None or poly2 is not None:\n",
    "    if True:\n",
    "        result = [0] * max(len(poly1), len(poly2))\n",
    "        for i in range(len(result)):\n",
    "            if i < len(poly1):\n",
    "                result[i] += poly1[i]\n",
    "            if i < len(poly2):\n",
    "                result[i] -= poly2[i]\n",
    "        return result\n",
    "#     return poly1 if len(poly1)>0 else poly2"
   ]
  },
  {
   "cell_type": "code",
   "execution_count": 238,
   "id": "enhanced-summer",
   "metadata": {},
   "outputs": [
    {
     "data": {
      "text/plain": [
       "[1, -2, 0, 4]"
      ]
     },
     "execution_count": 238,
     "metadata": {},
     "output_type": "execute_result"
    }
   ],
   "source": [
    "subs([1, 2, 3, 4], [0, 4, 3])"
   ]
  },
  {
   "cell_type": "code",
   "execution_count": 164,
   "id": "enabling-depth",
   "metadata": {},
   "outputs": [],
   "source": [
    "def split(poly1, poly2):\n",
    "    \"\"\"Split each polynomial into two smaller polynomials\"\"\"\n",
    "    mid = max(len(poly1), len(poly2)) // 2\n",
    "    return  (poly1[:mid], poly1[mid:]), (poly2[:mid], poly2[mid:])"
   ]
  },
  {
   "cell_type": "code",
   "execution_count": 165,
   "id": "decimal-going",
   "metadata": {},
   "outputs": [
    {
     "data": {
      "text/plain": [
       "(([1, 2, 3], [4]), ([0, 4, 3], [6, 7, 8, 2]))"
      ]
     },
     "execution_count": 165,
     "metadata": {},
     "output_type": "execute_result"
    }
   ],
   "source": [
    "split([1, 2, 3, 4], [0, 4, 3, 6, 7, 8, 2])"
   ]
  },
  {
   "cell_type": "code",
   "execution_count": 309,
   "id": "anticipated-trinity",
   "metadata": {},
   "outputs": [],
   "source": [
    "def increase_exponent(poly, n):\n",
    "    \"\"\"Multiply poly1 by x^n\"\"\"\n",
    "    if poly is None:\n",
    "        return [0]\n",
    "    else:\n",
    "        return ([0] * int(n)) + poly"
   ]
  },
  {
   "cell_type": "code",
   "execution_count": 311,
   "id": "musical-toddler",
   "metadata": {},
   "outputs": [
    {
     "data": {
      "text/plain": [
       "[0, 0, 0, 1, 2, 3, 4]"
      ]
     },
     "execution_count": 311,
     "metadata": {},
     "output_type": "execute_result"
    }
   ],
   "source": [
    "increase_exponent([1, 2, 3, 4], 3)"
   ]
  },
  {
   "cell_type": "markdown",
   "id": "interesting-panel",
   "metadata": {},
   "source": [
    "Implement the optimized multiplication algorithm below. You may use the some or all of the helper functions defined above."
   ]
  },
  {
   "cell_type": "code",
   "execution_count": 331,
   "id": "married-times",
   "metadata": {},
   "outputs": [],
   "source": [
    "def multiply_optimized(poly1, poly2):\n",
    "   \n",
    "    n = len(poly1)\n",
    "    m = len(poly2)\n",
    "\n",
    "    if(m == 1 and poly2[m-1] == 0 or n == 1 and poly1[n-1] == 0):\n",
    "        product = [0]\n",
    "    elif len(poly1) == 1 :\n",
    "        product = [poly1[0]* poly2[i] for i in range(len(poly2))]\n",
    "    elif len(poly2) == 1 :\n",
    "        product = [poly2[0]* poly1[i] for i in range(len(poly1))]\n",
    "    elif len(poly1) == 0:\n",
    "        return poly2\n",
    "    elif len(poly2) == 0:\n",
    "        return poly1\n",
    "    elif sum(poly1)==0 or sum(poly2)==0:\n",
    "        return [0]\n",
    "    else:\n",
    "        n = max(len(poly1),len(poly2))\n",
    "        A, B = split(poly1, poly2)\n",
    "\n",
    "        Y = multiply_basic(add(A[0],A[1]), add(B[0],B[1]))\n",
    "        U = multiply_optimized(A[0],B[0])\n",
    "        Z = multiply_optimized(A[1],B[1])\n",
    "        \n",
    "        product = add(U,add(increase_exponent(subs(Y,add(U,Z)),n//2), increase_exponent(Z,2*(n//2))))\n",
    "\n",
    "    return product"
   ]
  },
  {
   "cell_type": "code",
   "execution_count": null,
   "id": "demographic-ordinary",
   "metadata": {},
   "outputs": [],
   "source": []
  },
  {
   "cell_type": "markdown",
   "id": "similar-recruitment",
   "metadata": {},
   "source": [
    "Test your solution using the empty cells below."
   ]
  },
  {
   "cell_type": "code",
   "execution_count": 332,
   "id": "stone-caution",
   "metadata": {},
   "outputs": [
    {
     "name": "stdout",
     "output_type": "stream",
     "text": [
      "\n",
      "Input:\n",
      "{'poly1': [2, 0, 5, 7], 'poly2': [3, 4, 2]}\n",
      "\n",
      "Expected Output:\n",
      "[6, 8, 19, 41, 38, 14]\n",
      "\n",
      "\n",
      "Actual Output:\n",
      "[6, 8, 19, 41, 38, 14]\n",
      "\n",
      "Execution Time:\n",
      "0.058 ms\n",
      "\n",
      "Test Result:\n",
      "\u001b[92mPASSED\u001b[0m\n",
      "\n"
     ]
    },
    {
     "data": {
      "text/plain": [
       "True"
      ]
     },
     "execution_count": 332,
     "metadata": {},
     "output_type": "execute_result"
    }
   ],
   "source": [
    "evaluate_test_case(multiply_optimized,test0)[0] == test0['output']"
   ]
  },
  {
   "cell_type": "code",
   "execution_count": 353,
   "id": "scheduled-trail",
   "metadata": {},
   "outputs": [
    {
     "name": "stdout",
     "output_type": "stream",
     "text": [
      "\n",
      "\u001b[1mTEST CASE #0\u001b[0m\n",
      "\n",
      "Input:\n",
      "{'poly1': [2, 0, 5, 7], 'poly2': [3, 4, 2]}\n",
      "\n",
      "Expected Output:\n",
      "[6, 8, 19, 41, 38, 14]\n",
      "\n",
      "\n",
      "Actual Output:\n",
      "[6, 8, 19, 41, 38, 14]\n",
      "\n",
      "Execution Time:\n",
      "0.057 ms\n",
      "\n",
      "Test Result:\n",
      "\u001b[92mPASSED\u001b[0m\n",
      "\n",
      "\n",
      "\u001b[1mTEST CASE #1\u001b[0m\n",
      "\n",
      "Input:\n",
      "{'poly1': [2, 1, 5, 7], 'poly2': [1, 2, 3, 4]}\n",
      "\n",
      "Expected Output:\n",
      "[2, 5, 13, 28, 33, 41, 28]\n",
      "\n",
      "\n",
      "Actual Output:\n",
      "[2, 5, 13, 28, 33, 41, 28]\n",
      "\n",
      "Execution Time:\n",
      "0.058 ms\n",
      "\n",
      "Test Result:\n",
      "\u001b[92mPASSED\u001b[0m\n",
      "\n",
      "\n",
      "\u001b[1mTEST CASE #2\u001b[0m\n",
      "\n",
      "Input:\n",
      "{'poly1': [2, 1, 0, 7], 'poly2': [1, 0, 3, 4]}\n",
      "\n",
      "Expected Output:\n",
      "[2, 1, 6, 18, 4, 21, 28]\n",
      "\n",
      "\n",
      "Actual Output:\n",
      "[2, 1, 6, 18, 4, 21, 28]\n",
      "\n",
      "Execution Time:\n",
      "0.044 ms\n",
      "\n",
      "Test Result:\n",
      "\u001b[92mPASSED\u001b[0m\n",
      "\n",
      "\n",
      "\u001b[1mTEST CASE #3\u001b[0m\n",
      "\n",
      "Input:\n",
      "{'poly1': [2, 1, 0, 7], 'poly2': []}\n",
      "\n",
      "Expected Output:\n",
      "[2, 1, 0, 7]\n",
      "\n",
      "\n",
      "Actual Output:\n",
      "[2, 1, 0, 7]\n",
      "\n",
      "Execution Time:\n",
      "0.003 ms\n",
      "\n",
      "Test Result:\n",
      "\u001b[92mPASSED\u001b[0m\n",
      "\n",
      "\n",
      "\u001b[1mTEST CASE #4\u001b[0m\n",
      "\n",
      "Input:\n",
      "{'poly1': [2, 1, 0, 7], 'poly2': [0]}\n",
      "\n",
      "Expected Output:\n",
      "[0]\n",
      "\n",
      "\n",
      "Actual Output:\n",
      "[0]\n",
      "\n",
      "Execution Time:\n",
      "0.002 ms\n",
      "\n",
      "Test Result:\n",
      "\u001b[92mPASSED\u001b[0m\n",
      "\n",
      "\n",
      "\u001b[1mTEST CASE #5\u001b[0m\n",
      "\n",
      "Input:\n",
      "{'poly1': [2, 1, 0, 7], 'poly2': [0, 0, 0, 0]}\n",
      "\n",
      "Expected Output:\n",
      "[0]\n",
      "\n",
      "\n",
      "Actual Output:\n",
      "[0]\n",
      "\n",
      "Execution Time:\n",
      "0.003 ms\n",
      "\n",
      "Test Result:\n",
      "\u001b[92mPASSED\u001b[0m\n",
      "\n",
      "\n",
      "\u001b[1mTEST CASE #6\u001b[0m\n",
      "\n",
      "Input:\n",
      "{'poly1': [2, 0, 5, 7], 'poly2': [3, 4, 2]}\n",
      "\n",
      "Expected Output:\n",
      "[6, 8, 19, 41, 38, 14]\n",
      "\n",
      "\n",
      "Actual Output:\n",
      "[6, 8, 19, 41, 38, 14]\n",
      "\n",
      "Execution Time:\n",
      "0.046 ms\n",
      "\n",
      "Test Result:\n",
      "\u001b[92mPASSED\u001b[0m\n",
      "\n",
      "\n",
      "\u001b[1mTEST CASE #7\u001b[0m\n",
      "\n",
      "Input:\n",
      "{'poly1': [2, 0, 5, 7], 'poly2': [3, 4, 2]}\n",
      "\n",
      "Expected Output:\n",
      "[6, 8, 19, 41, 38, 14]\n",
      "\n",
      "\n",
      "Actual Output:\n",
      "[6, 8, 19, 41, 38, 14]\n",
      "\n",
      "Execution Time:\n",
      "0.046 ms\n",
      "\n",
      "Test Result:\n",
      "\u001b[92mPASSED\u001b[0m\n",
      "\n",
      "\n",
      "\u001b[1mSUMMARY\u001b[0m\n",
      "\n",
      "TOTAL: 8, \u001b[92mPASSED\u001b[0m: 8, \u001b[91mFAILED\u001b[0m: 0\n"
     ]
    },
    {
     "data": {
      "text/plain": [
       "[([6, 8, 19, 41, 38, 14], True, 0.057),\n",
       " ([2, 5, 13, 28, 33, 41, 28], True, 0.058),\n",
       " ([2, 1, 6, 18, 4, 21, 28], True, 0.044),\n",
       " ([2, 1, 0, 7], True, 0.003),\n",
       " ([0], True, 0.002),\n",
       " ([0], True, 0.003),\n",
       " ([6, 8, 19, 41, 38, 14], True, 0.046),\n",
       " ([6, 8, 19, 41, 38, 14], True, 0.046)]"
      ]
     },
     "execution_count": 353,
     "metadata": {},
     "output_type": "execute_result"
    }
   ],
   "source": [
    "evaluate_test_cases(multiply_optimized,tests)"
   ]
  },
  {
   "cell_type": "code",
   "execution_count": null,
   "id": "micro-electricity",
   "metadata": {},
   "outputs": [],
   "source": []
  },
  {
   "cell_type": "markdown",
   "id": "genetic-villa",
   "metadata": {},
   "source": [
    "### (Optional) 9. Analyze the algorithm's complexity and identify inefficiencies, if any.\n",
    "\n",
    "Can you analyze the time and space complexity of this algorithm? \n",
    "\n",
    "Hint: See the tree of subproblems below ([source](https://myithelpcentral.blogspot.com/2015/09/o-logn-notation-explanation-for-binary.html)). Substitute the right values for `n` and `b` to determine the time complexity.\n",
    "\n",
    "![](https://i.imgur.com/JAmZrE5.png)"
   ]
  }
 ],
 "metadata": {
  "language_info": {
   "codemirror_mode": {
    "name": "ipython",
    "version": 3
   },
   "file_extension": ".py",
   "mimetype": "text/x-python",
   "name": "python",
   "nbconvert_exporter": "python",
   "pygments_lexer": "ipython3",
   "version": "3.8.6"
  }
 },
 "nbformat": 4,
 "nbformat_minor": 5
}