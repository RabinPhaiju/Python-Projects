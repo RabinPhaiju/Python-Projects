{
 "metadata": {
  "language_info": {
   "codemirror_mode": {
    "name": "ipython",
    "version": 3
   },
   "file_extension": ".py",
   "mimetype": "text/x-python",
   "name": "python",
   "nbconvert_exporter": "python",
   "pygments_lexer": "ipython3",
   "version": "3.8.5-final"
  },
  "orig_nbformat": 2,
  "kernelspec": {
   "name": "python3",
   "display_name": "Python 3.8.5 64-bit (conda)",
   "metadata": {
    "interpreter": {
     "hash": "a456efd1d2e2bfa10bfdad488db5626e5f8bd233a0f11ae70ce0e7717a6a7d8d"
    }
   }
  }
 },
 "nbformat": 4,
 "nbformat_minor": 2,
 "cells": [
  {
   "source": [
    "### Given two strings A and B, find the minimum number of steps required to convert A to B. (each operation is counted as 1 step.) You have the following 3 operations permitted on a word:\n",
    "\n",
    "- Insert a character\n",
    "- Delete a character\n",
    "- Replace a character"
   ],
   "cell_type": "markdown",
   "metadata": {}
  },
  {
   "source": [
    "![](images/editDistance.gif)"
   ],
   "cell_type": "markdown",
   "metadata": {}
  },
  {
   "source": [
    "- Use this method to change title of page. (As seen in Eon player)"
   ],
   "cell_type": "markdown",
   "metadata": {}
  },
  {
   "cell_type": "code",
   "execution_count": 6,
   "metadata": {},
   "outputs": [
    {
     "output_type": "execute_result",
     "data": {
      "text/plain": [
       "5"
      ]
     },
     "metadata": {},
     "execution_count": 6
    }
   ],
   "source": [
    "from functools import lru_cache\n",
    "# Solution\n",
    "# input\n",
    "str_a = 'INTENTION'\n",
    "str_b = 'EXECUTION'\n",
    "\n",
    "# output\n",
    "output1 = 4\n",
    "\n",
    "\"\"\"\n",
    "    1. general case. listed above\n",
    "    2. no change is required\n",
    "    3. all the characters need to changed\n",
    "    4. equal length\n",
    "    5. unequal length\n",
    "    6. one of the strings is empty\n",
    "    7. only deletion, only addition, only swap\n",
    "    \n",
    "    Recursion:\n",
    "    - if the first character is equal, ignore from both\n",
    "    - if the first character is not qual\n",
    "        - either it has to be deleted\n",
    "            - recursively solve after ignoring first charter of str1\n",
    "        - or swapped\n",
    "            - 1 + recursively solve after ignoring the first character ofEach\n",
    "        - or a character inserted before\n",
    "            - 1 + recursively solve after ignoring the first character str2\n",
    "    \"\"\"\n",
    "\n",
    "# function signature\n",
    "@lru_cache(maxsize=32)\n",
    "def min_steps(str_a,str_b,i1= 0,i2= 0):  \n",
    "    if i1 == len(str_a): # end case\n",
    "        return len(str_b) - i2\n",
    "    elif i2 == len(str_b): # end case\n",
    "        return len(str_a) - i1\n",
    "    elif str_a[i1] == str_b[i2]:\n",
    "        return min_steps(str_a,str_b,i1+1,i2+1)\n",
    "    else:\n",
    "        return 1+ min(min_steps(str_a,str_b, i1+1, i2), # delete\n",
    "                    min_steps(str_a,  str_b, i1+1, i2+1), # swap\n",
    "                    min_steps(str_a,  str_b, i1,   i2+1)) # inserted\n",
    " \n",
    "min_steps('INTENTION','EXECUTION')"
   ]
  },
  {
   "cell_type": "code",
   "execution_count": 7,
   "metadata": {},
   "outputs": [
    {
     "output_type": "execute_result",
     "data": {
      "text/plain": [
       "5"
      ]
     },
     "metadata": {},
     "execution_count": 7
    }
   ],
   "source": [
    "def min_edit_distance_memo(str_a,str_b):\n",
    "    memo = {}\n",
    "    def recurse(i1,i2):\n",
    "        key = i1,i2\n",
    "        if key in memo:\n",
    "            return memo[key]\n",
    "        elif i1 == len(str_a):\n",
    "            memo[key] = len(str_b) - i2\n",
    "        elif i2 == len(str_b):\n",
    "            memo[key] = len(str_a) - i1\n",
    "        elif str_a[i1] == str_b[i2]:\n",
    "            memo[key] = recurse(i1+1,i2+1)\n",
    "        else:\n",
    "            memo[key] = 1+min(recurse(i1+1,i2),\n",
    "                                recurse(i1+1,i2+1),\n",
    "                                recurse(i1,i2+1))\n",
    "        return memo[key]\n",
    "    return recurse(0,0)\n",
    "\n",
    "\n",
    "min_edit_distance_memo('INTENTION','EXECUTION')"
   ]
  }
 ]
}