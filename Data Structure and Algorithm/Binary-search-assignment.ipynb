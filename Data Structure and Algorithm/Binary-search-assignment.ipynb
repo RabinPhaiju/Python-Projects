{
 "cells": [
  {
   "cell_type": "markdown",
   "id": "needed-polymer",
   "metadata": {},
   "source": [
    "# Assignment Binary Search Practice"
   ]
  },
  {
   "cell_type": "markdown",
   "id": "disciplinary-mentor",
   "metadata": {},
   "source": [
    "## Problem - Rotated Lists\n",
    "\n",
    "We'll solve the following problem step-by-step:\n",
    "\n",
    "> You are given list of numbers, obtained by rotating a sorted list an unknown number of times. Write a function to determine the minimum number of times the original sorted list was rotated to obtain the given list. Your function should have the worst-case complexity of `O(log N)`, where N is the length of the list. You can assume that all the numbers in the list are unique.\n",
    ">\n",
    "> Example: The list `[5, 6, 9, 0, 2, 3, 4]` was obtained by rotating the sorted list `[0, 2, 3, 4, 5, 6, 9]` 3 times.\n",
    ">\n",
    "> We define \"rotating a list\" as removing the last element of the list and adding it before the first element. E.g. rotating the list `[3, 2, 4, 1]` produces `[1, 3, 2, 4]`. \n",
    ">\n",
    ">\"Sorted list\" refers to a list where the elements are arranged in the increasing order  e.g. `[1, 3, 5, 7]`.\n",
    ">"
   ]
  },
  {
   "cell_type": "markdown",
   "id": "efficient-frost",
   "metadata": {},
   "source": [
    "## The Method\n",
    "\n",
    "Here's the systematic strategy we'll apply for solving problems:\n",
    "\n",
    "1. State the problem clearly. Identify the input & output formats.\n",
    "2. Come up with some example inputs & outputs. Try to cover all edge cases.\n",
    "3. Come up with a correct solution for the problem. State it in plain English.\n",
    "4. Implement the solution and test it using example inputs. Fix bugs, if any.\n",
    "5. Analyze the algorithm's complexity and identify inefficiencies, if any.\n",
    "6. Apply the right technique to overcome the inefficiency. Repeat steps 3 to 6."
   ]
  },
  {
   "cell_type": "markdown",
   "id": "accurate-ribbon",
   "metadata": {},
   "source": [
    "## Solution\n",
    "\n",
    "\n",
    "### 1. State the problem clearly. Identify the input & output formats.\n",
    "\n",
    "While this problem is stated clearly enough, it's always useful to try and express in your own words, in a way that makes it most clear for you. It's perfectly OK if your description overlaps with the original problem statement to a large extent.\n",
    "\n",
    "<br/>\n",
    "\n",
    "_**Q: Express the problem in your own words below (to edit this cell, double click on it).**_\n",
    "\n",
    "**Problem**\n",
    "\n",
    "> A sorted rotatet list is given, we have to find that how many times the list is rotated to obtain the original sorted list.\n",
    "\n",
    "<br/>\n",
    "\n",
    "_**Q: The function you write will take one input called `nums`. What does it represent? Give an example.**_\n",
    "\n",
    "**Input**\n",
    "\n",
    "1. `nums`: the nums represents a sorted rotated list. `[7,8,9,1,3,5,6]`\n",
    "\n",
    "<br/>\n",
    "\n",
    "_**Q: The function you write will return a single output called `rotations`. What does it represent? Give an example.**_\n",
    "\n",
    "**Output**\n",
    "\n",
    "3. `rotations`: It represents no. of rotation required to get a sorted list.\n",
    "    eg: `[19, 25, 29, 3, 5, 6, 7, 9, 11, 14]` need to be rotated 3 times.\n",
    "\n",
    "<br/>\n",
    "\n",
    "Based on the above, we can now create a signature of our function:"
   ]
  },
  {
   "cell_type": "code",
   "execution_count": 1,
   "id": "driven-exchange",
   "metadata": {},
   "outputs": [],
   "source": [
    "def count_rotations(nums):\n",
    "    pass"
   ]
  },
  {
   "cell_type": "markdown",
   "id": "hispanic-modeling",
   "metadata": {},
   "source": [
    "### 2. Come up with some example inputs & outputs. Try to cover all edge cases.\n",
    "\n",
    "Our function should be able to handle any set of valid inputs we pass into it. Here's a list of some possible variations we might encounter:\n",
    "\n",
    "1. A list of size 10 rotated 3 times.\n",
    "2. A list of size 8 rotated 5 times.\n",
    "3. A list that wasn't rotated at all.\n",
    "4. A list that was rotated just once. \n",
    "5. A list that was rotated `n-1` times, where `n` is the size of the list.\n",
    "6. A list that was rotated `n` times (do you get back the original list here?)\n",
    "7. An empty list.\n",
    "8. A list containing just one element.\n",
    "9. (can you think of any more?)\n",
    "\n",
    "We'll express our test cases as dictionaries, to test them easily. Each dictionary will contain 2 keys: `input` (a dictionary itself containing one key for each argument to the function and `output` (the expected result from the function). Here's an example."
   ]
  },
  {
   "cell_type": "code",
   "execution_count": 2,
   "id": "elementary-knock",
   "metadata": {},
   "outputs": [],
   "source": [
    "test = {\n",
    "    'input': {\n",
    "        'nums': [19, 25, 29, 3, 5, 6, 7, 9, 11, 14]\n",
    "    },\n",
    "    'output': 3\n",
    "}"
   ]
  },
  {
   "cell_type": "markdown",
   "id": "elder-database",
   "metadata": {},
   "source": [
    "We can test the function by passing the input to it directly or by using the `evaluate_test_case` function from `jovian`."
   ]
  },
  {
   "cell_type": "code",
   "execution_count": 3,
   "id": "bigger-jefferson",
   "metadata": {},
   "outputs": [
    {
     "output_type": "execute_result",
     "data": {
      "text/plain": [
       "(None, False)"
      ]
     },
     "metadata": {},
     "execution_count": 3
    }
   ],
   "source": [
    "nums0 = test['input']['nums']\n",
    "output0 = test['input']['nums']\n",
    "result0 = count_rotations(nums0)\n",
    "\n",
    "result0, result0 == output0"
   ]
  },
  {
   "cell_type": "code",
   "execution_count": 6,
   "id": "better-emergency",
   "metadata": {},
   "outputs": [
    {
     "output_type": "display_data",
     "data": {
      "text/plain": "<IPython.core.display.Javascript object>",
      "application/javascript": "if (window.IPython && IPython.notebook.kernel) IPython.notebook.kernel.execute('jovian.utils.jupyter.get_notebook_name_saved = lambda: \"' + IPython.notebook.notebook_name + '\"')"
     },
     "metadata": {}
    }
   ],
   "source": [
    "from jovian.pythondsa import evaluate_test_case"
   ]
  },
  {
   "cell_type": "code",
   "execution_count": 7,
   "id": "organizational-duration",
   "metadata": {},
   "outputs": [
    {
     "output_type": "stream",
     "name": "stdout",
     "text": [
      "\nInput:\n{'nums': [19, 25, 29, 3, 5, 6, 7, 9, 11, 14]}\n\nExpected Output:\n3\n\n\nActual Output:\nNone\n\nExecution Time:\n0.004 ms\n\nTest Result:\n\u001b[91mFAILED\u001b[0m\n\n"
     ]
    },
    {
     "output_type": "execute_result",
     "data": {
      "text/plain": [
       "(None, False, 0.004)"
      ]
     },
     "metadata": {},
     "execution_count": 7
    }
   ],
   "source": [
    "evaluate_test_case(count_rotations, test)"
   ]
  },
  {
   "cell_type": "markdown",
   "id": "strategic-panic",
   "metadata": {},
   "source": [
    "Let's create one test case for each of the scenarios listed above. We'll store our test cases in an array called `tests`."
   ]
  },
  {
   "cell_type": "markdown",
   "id": "twenty-jesus",
   "metadata": {},
   "source": [
    "_**Q: Create proper test cases for each of the scenarios listed above.**_"
   ]
  },
  {
   "cell_type": "code",
   "execution_count": 8,
   "id": "unable-great",
   "metadata": {},
   "outputs": [],
   "source": [
    "test0 = test"
   ]
  },
  {
   "cell_type": "code",
   "execution_count": 9,
   "id": "wicked-weekend",
   "metadata": {},
   "outputs": [],
   "source": [
    "# A list of size 8 rotated 5 times.\n",
    "test1 = {\n",
    "    'input': {\n",
    "        'nums':[7 , 9 , 11 , 12 , 13, 3, 5, 6]\n",
    "    },\n",
    "    'output': 5\n",
    "}"
   ]
  },
  {
   "cell_type": "code",
   "execution_count": 10,
   "id": "thirty-agent",
   "metadata": {},
   "outputs": [],
   "source": [
    "# A list that wasn't rotated at all.\n",
    "test2 = {\n",
    "    'input': {\n",
    "        'nums': [1,2,4,5]\n",
    "    },\n",
    "    'output': 0\n",
    "}"
   ]
  },
  {
   "cell_type": "markdown",
   "id": "traditional-staff",
   "metadata": {},
   "source": [
    "A list that was rotated just once.\n",
    "A list that was rotated n-1 times, where n is the size of the list.\n",
    "A list that was rotated n times (do you get back the original list here?)\n",
    "An empty list.\n",
    "A list containing just one element."
   ]
  },
  {
   "cell_type": "code",
   "execution_count": 11,
   "id": "martial-lease",
   "metadata": {},
   "outputs": [],
   "source": [
    "# A list that was rotated just once.\n",
    "test3 = {\n",
    "    'input': {\n",
    "        'nums': [9,1,2,3,5]\n",
    "    },\n",
    "    'output': 1\n",
    "}"
   ]
  },
  {
   "cell_type": "code",
   "execution_count": 12,
   "id": "recovered-printer",
   "metadata": {},
   "outputs": [],
   "source": [
    "# A list that was rotated n-1 times, where n is the size of the list.\n",
    "test4 = {\n",
    "    'input': {\n",
    "        'nums': [2,3,4,5,6,7,8,9,1]\n",
    "    },\n",
    "    'output': 8\n",
    "}"
   ]
  },
  {
   "cell_type": "code",
   "execution_count": 13,
   "id": "stainless-observation",
   "metadata": {},
   "outputs": [],
   "source": [
    "# A list that was rotated n times, where n is the size of the list\n",
    "test5 = {\n",
    "    'input': {\n",
    "        'nums': [3,4,5,6,7,8]\n",
    "    },\n",
    "    'output': 0\n",
    "}"
   ]
  },
  {
   "cell_type": "markdown",
   "id": "agricultural-designer",
   "metadata": {},
   "source": [
    "**HINT**: Read the question carefully to determine the correct output for the above test case."
   ]
  },
  {
   "cell_type": "code",
   "execution_count": 14,
   "id": "contemporary-classification",
   "metadata": {},
   "outputs": [],
   "source": [
    "# An empty list.\n",
    "test6 = {\n",
    "    'input': {\n",
    "        'nums': []\n",
    "    },\n",
    "    'output': 0\n",
    "}"
   ]
  },
  {
   "cell_type": "code",
   "execution_count": 15,
   "id": "accepting-fisher",
   "metadata": {},
   "outputs": [],
   "source": [
    "# A list containing just one element.\n",
    "test7 = {\n",
    "    'input': {\n",
    "        'nums': [1]\n",
    "    },\n",
    "    'output': 0\n",
    "}"
   ]
  },
  {
   "cell_type": "code",
   "execution_count": 16,
   "id": "brutal-sunrise",
   "metadata": {},
   "outputs": [],
   "source": [
    "tests = [test0, test1, test2, test3, test3, test5, test6, test7]"
   ]
  },
  {
   "cell_type": "markdown",
   "id": "coastal-corporation",
   "metadata": {},
   "source": [
    "_**Q (Optional): Include any further test cases below, for other interesting scenarios you can think of.**_"
   ]
  },
  {
   "cell_type": "code",
   "execution_count": 17,
   "id": "cutting-brother",
   "metadata": {},
   "outputs": [
    {
     "output_type": "execute_result",
     "data": {
      "text/plain": [
       "[{'input': {'nums': [19, 25, 29, 3, 5, 6, 7, 9, 11, 14]}, 'output': 3},\n",
       " {'input': {'nums': [7, 9, 11, 12, 13, 3, 5, 6]}, 'output': 5},\n",
       " {'input': {'nums': [1, 2, 4, 5]}, 'output': 0},\n",
       " {'input': {'nums': [9, 1, 2, 3, 5]}, 'output': 1},\n",
       " {'input': {'nums': [9, 1, 2, 3, 5]}, 'output': 1},\n",
       " {'input': {'nums': [3, 4, 5, 6, 7, 8]}, 'output': 0},\n",
       " {'input': {'nums': []}, 'output': 0},\n",
       " {'input': {'nums': [1]}, 'output': 0}]"
      ]
     },
     "metadata": {},
     "execution_count": 17
    }
   ],
   "source": [
    "tests"
   ]
  },
  {
   "cell_type": "code",
   "execution_count": null,
   "id": "bulgarian-comfort",
   "metadata": {},
   "outputs": [],
   "source": []
  },
  {
   "cell_type": "markdown",
   "id": "selected-muslim",
   "metadata": {},
   "source": [
    "Evaluate your function against all the test cases together using the `evaluate_test_cases` (plural) function from `jovian`."
   ]
  },
  {
   "cell_type": "code",
   "execution_count": 18,
   "id": "complex-leather",
   "metadata": {},
   "outputs": [],
   "source": [
    "from jovian.pythondsa import evaluate_test_cases"
   ]
  },
  {
   "cell_type": "code",
   "execution_count": 19,
   "id": "efficient-accident",
   "metadata": {},
   "outputs": [
    {
     "output_type": "stream",
     "name": "stdout",
     "text": [
      "\n\u001b[1mTEST CASE #0\u001b[0m\n\nInput:\n{'nums': [19, 25, 29, 3, 5, 6, 7, 9, 11, 14]}\n\nExpected Output:\n3\n\n\nActual Output:\nNone\n\nExecution Time:\n0.004 ms\n\nTest Result:\n\u001b[91mFAILED\u001b[0m\n\n\n\u001b[1mTEST CASE #1\u001b[0m\n\nInput:\n{'nums': [7, 9, 11, 12, 13, 3, 5, 6]}\n\nExpected Output:\n5\n\n\nActual Output:\nNone\n\nExecution Time:\n0.002 ms\n\nTest Result:\n\u001b[91mFAILED\u001b[0m\n\n\n\u001b[1mTEST CASE #2\u001b[0m\n\nInput:\n{'nums': [1, 2, 4, 5]}\n\nExpected Output:\n0\n\n\nActual Output:\nNone\n\nExecution Time:\n0.002 ms\n\nTest Result:\n\u001b[91mFAILED\u001b[0m\n\n\n\u001b[1mTEST CASE #3\u001b[0m\n\nInput:\n{'nums': [9, 1, 2, 3, 5]}\n\nExpected Output:\n1\n\n\nActual Output:\nNone\n\nExecution Time:\n0.002 ms\n\nTest Result:\n\u001b[91mFAILED\u001b[0m\n\n\n\u001b[1mTEST CASE #4\u001b[0m\n\nInput:\n{'nums': [9, 1, 2, 3, 5]}\n\nExpected Output:\n1\n\n\nActual Output:\nNone\n\nExecution Time:\n0.002 ms\n\nTest Result:\n\u001b[91mFAILED\u001b[0m\n\n\n\u001b[1mTEST CASE #5\u001b[0m\n\nInput:\n{'nums': [3, 4, 5, 6, 7, 8]}\n\nExpected Output:\n0\n\n\nActual Output:\nNone\n\nExecution Time:\n0.003 ms\n\nTest Result:\n\u001b[91mFAILED\u001b[0m\n\n\n\u001b[1mTEST CASE #6\u001b[0m\n\nInput:\n{'nums': []}\n\nExpected Output:\n0\n\n\nActual Output:\nNone\n\nExecution Time:\n0.06 ms\n\nTest Result:\n\u001b[91mFAILED\u001b[0m\n\n\n\u001b[1mTEST CASE #7\u001b[0m\n\nInput:\n{'nums': [1]}\n\nExpected Output:\n0\n\n\nActual Output:\nNone\n\nExecution Time:\n0.007 ms\n\nTest Result:\n\u001b[91mFAILED\u001b[0m\n\n\n\u001b[1mSUMMARY\u001b[0m\n\nTOTAL: 8, \u001b[92mPASSED\u001b[0m: 0, \u001b[91mFAILED\u001b[0m: 8\n"
     ]
    },
    {
     "output_type": "execute_result",
     "data": {
      "text/plain": [
       "[(None, False, 0.004),\n",
       " (None, False, 0.002),\n",
       " (None, False, 0.002),\n",
       " (None, False, 0.002),\n",
       " (None, False, 0.002),\n",
       " (None, False, 0.003),\n",
       " (None, False, 0.06),\n",
       " (None, False, 0.007)]"
      ]
     },
     "metadata": {},
     "execution_count": 19
    }
   ],
   "source": [
    "evaluate_test_cases(count_rotations, tests)"
   ]
  },
  {
   "cell_type": "markdown",
   "id": "abandoned-parallel",
   "metadata": {},
   "source": [
    "### 3. Come up with a correct solution for the problem. State it in plain English.\n",
    "\n",
    "Our first goal should always be to come up with a _correct_ solution to the problem, which may not necessarily be the most _efficient_ solution. Try to think of a solution before you read further. \n",
    "\n",
    "Coming up with the correct solution is quite easy, and it's based on this insight: If a list of sorted numbers is rotated `k` times, then the smallest number in the list ends up at position `k` (counting from 0). Further, it is the only number in the list which is smaller than the number before it. Thus, we simply need to **check for each number in the list whether it is smaller than the number that comes before it** (if there is a number before it). Then, our answer i.e. the number of rotations is simply the position of this number is . If we cannot find such a number, then the list wasn't rotated at all.\n",
    "\n",
    "Example: In the list `[19, 25, 29, 3, 5, 6, 7, 9, 11, 14]`, the number `3` is the only number smaller than its predecessor. It occurs at the position `3` (counting from `0`), hence the array was rotated `3` times.\n",
    "\n",
    "\n",
    "We can use the *linear search* algorithm as a first attempt to solve this problem i.e. we can perform the check for every position one by one. But first, try describing the above solution in your own words, that make it clear to you.\n",
    "\n",
    "_**Q (Optional): Describe the linear search solution explained above problem in your own words.**_\n",
    "\n",
    "1. Create a cariable position with value 0\n",
    "2. Compare the number at current position to the number beforeit\n",
    "3. IF the number is smaller that its predecessor, then return position\n",
    "4. Else, increment position and repeat till we get the condition.\n",
    "\n",
    "(add more steps if required)\n",
    "\n",
    "\n",
    "Let's save and upload our work before continuing."
   ]
  },
  {
   "cell_type": "markdown",
   "id": "polish-butterfly",
   "metadata": {},
   "source": [
    "###  4. Implement the solution and test it using example inputs. Fix bugs, if any.\n",
    "\n",
    "_**Q: Implement the solution described in step 3.**_"
   ]
  },
  {
   "cell_type": "code",
   "execution_count": 20,
   "id": "arabic-sacramento",
   "metadata": {},
   "outputs": [],
   "source": [
    "def count_rotations_linear(nums):\n",
    "    position = 0          # What is the intial value of position?\n",
    "    \n",
    "    while position<len(nums):                     # When should the loop be terminated?\n",
    "        \n",
    "        # Success criteria: check whether the number at the current position is smaller than the one before it\n",
    "        if position > 0 and nums[position]<nums[position-1]:   # How to perform the check?\n",
    "            return position\n",
    "        \n",
    "        # Move to the next position\n",
    "        position += 1\n",
    "    \n",
    "    return 0                   # What if none of the positions passed the check               "
   ]
  },
  {
   "cell_type": "markdown",
   "id": "resistant-museum",
   "metadata": {},
   "source": [
    "Let's test out the function with the first test case."
   ]
  },
  {
   "cell_type": "code",
   "execution_count": 21,
   "id": "reasonable-sister",
   "metadata": {},
   "outputs": [
    {
     "output_type": "stream",
     "name": "stdout",
     "text": [
      "\nInput:\n{'nums': [19, 25, 29, 3, 5, 6, 7, 9, 11, 14]}\n\nExpected Output:\n3\n\n\nActual Output:\n3\n\nExecution Time:\n0.009 ms\n\nTest Result:\n\u001b[92mPASSED\u001b[0m\n\n"
     ]
    }
   ],
   "source": [
    "linear_search_result = evaluate_test_case(count_rotations_linear, test)"
   ]
  },
  {
   "cell_type": "markdown",
   "id": "unknown-principal",
   "metadata": {},
   "source": [
    "Make sure your function passes the test. Fix bugs, if any. \n",
    "\n",
    "Let's test it out with all the test cases."
   ]
  },
  {
   "cell_type": "code",
   "execution_count": 22,
   "id": "wound-vision",
   "metadata": {},
   "outputs": [
    {
     "output_type": "stream",
     "name": "stdout",
     "text": [
      "\n\u001b[1mTEST CASE #0\u001b[0m\n\nInput:\n{'nums': [19, 25, 29, 3, 5, 6, 7, 9, 11, 14]}\n\nExpected Output:\n3\n\n\nActual Output:\n3\n\nExecution Time:\n0.006 ms\n\nTest Result:\n\u001b[92mPASSED\u001b[0m\n\n\n\u001b[1mTEST CASE #1\u001b[0m\n\nInput:\n{'nums': [7, 9, 11, 12, 13, 3, 5, 6]}\n\nExpected Output:\n5\n\n\nActual Output:\n5\n\nExecution Time:\n0.005 ms\n\nTest Result:\n\u001b[92mPASSED\u001b[0m\n\n\n\u001b[1mTEST CASE #2\u001b[0m\n\nInput:\n{'nums': [1, 2, 4, 5]}\n\nExpected Output:\n0\n\n\nActual Output:\n0\n\nExecution Time:\n0.004 ms\n\nTest Result:\n\u001b[92mPASSED\u001b[0m\n\n\n\u001b[1mTEST CASE #3\u001b[0m\n\nInput:\n{'nums': [9, 1, 2, 3, 5]}\n\nExpected Output:\n1\n\n\nActual Output:\n1\n\nExecution Time:\n0.003 ms\n\nTest Result:\n\u001b[92mPASSED\u001b[0m\n\n\n\u001b[1mTEST CASE #4\u001b[0m\n\nInput:\n{'nums': [9, 1, 2, 3, 5]}\n\nExpected Output:\n1\n\n\nActual Output:\n1\n\nExecution Time:\n0.003 ms\n\nTest Result:\n\u001b[92mPASSED\u001b[0m\n\n\n\u001b[1mTEST CASE #5\u001b[0m\n\nInput:\n{'nums': [3, 4, 5, 6, 7, 8]}\n\nExpected Output:\n0\n\n\nActual Output:\n0\n\nExecution Time:\n0.005 ms\n\nTest Result:\n\u001b[92mPASSED\u001b[0m\n\n\n\u001b[1mTEST CASE #6\u001b[0m\n\nInput:\n{'nums': []}\n\nExpected Output:\n0\n\n\nActual Output:\n0\n\nExecution Time:\n0.003 ms\n\nTest Result:\n\u001b[92mPASSED\u001b[0m\n\n\n\u001b[1mTEST CASE #7\u001b[0m\n\nInput:\n{'nums': [1]}\n\nExpected Output:\n0\n\n\nActual Output:\n0\n\nExecution Time:\n0.003 ms\n\nTest Result:\n\u001b[92mPASSED\u001b[0m\n\n\n\u001b[1mSUMMARY\u001b[0m\n\nTOTAL: 8, \u001b[92mPASSED\u001b[0m: 8, \u001b[91mFAILED\u001b[0m: 0\n"
     ]
    }
   ],
   "source": [
    "linear_search_results = evaluate_test_cases(count_rotations_linear, tests)"
   ]
  },
  {
   "cell_type": "markdown",
   "id": "electronic-westminster",
   "metadata": {},
   "source": [
    "### 5. Analyze the algorithm's complexity and identify inefficiencies, if any.\n",
    "\n",
    "Count the maximum number of iterations it may take for the algorithm to return the result.\n",
    "\n",
    "_**Q: What is the worst-case complexity (running time) of the algorithm expressed in the Big O Notation? Assume that the size of the list is `N` (uppercase).**_\n"
   ]
  },
  {
   "cell_type": "code",
   "execution_count": 55,
   "id": "stupid-logic",
   "metadata": {},
   "outputs": [],
   "source": [
    "linear_search_complexity = \"O(N)\""
   ]
  },
  {
   "cell_type": "markdown",
   "id": "advanced-liabilities",
   "metadata": {},
   "source": [
    "### 6. Apply the right technique to overcome the inefficiency. Repeat steps 3 to 6.\n",
    "\n",
    "As you might have guessed, we can apply _Binary Search_ to solve this problem. The key question we need to answer in binary search is: Given the middle element, how to decide if it is the answer (smallest number), or whether the answer lies to the left or right of it. \n",
    "\n",
    "If the middle element is smaller than its predecessor, then it is the answer. However, if it isn't, this check is not sufficient to determine whether the answer lies to the left or the right of it. Consider the following examples.\n",
    "\n",
    "`[7, 8, 1, 3, 4, 5, 6]` (answer lies to the left of the middle element)\n",
    "\n",
    "`[1, 2, 3, 4, 5, -1, 0]` (answer lies to the right of the middle element)\n",
    "\n",
    "Here's a check that will help us determine if the answer lies to the left or the right: _If the middle element of the list is smaller than the last element of the range, then the answer lies to the left of it. Otherwise, the answer lies to the right._\n",
    "\n",
    "Do you see why this strategy works?\n"
   ]
  },
  {
   "cell_type": "markdown",
   "id": "pregnant-store",
   "metadata": {},
   "source": [
    "### 7. Come up with a correct solution for the problem. State it in plain English.\n",
    "\n",
    "Before we implement the solution, it's useful to describe it in a way that makes most sense to you. In a coding interview, you will almost certainly be asked to describe your approach before you start writing code.\n",
    "\n",
    "_**Q (Optional): Describe the binary search solution explained above problem in your own words.**_\n",
    "\n",
    "1. First point the middle element of the list\n",
    "2. Check the predecessor is higher then middle, then it is the answer.\n",
    "3. Check it is less then the last element of list,then the answer lies on left \n",
    "    else right.\n",
    "4. If answer lies on left then, assing high to middle position else low to middle position\n",
    "5. Repeat step 2, 3, 4 \n",
    "\n",
    "(add more steps if required)\n",
    "\n",
    "Let's save and upload our work before continuing."
   ]
  },
  {
   "cell_type": "markdown",
   "id": "digital-manual",
   "metadata": {},
   "source": [
    "### 8. Implement the solution and test it using example inputs. Fix bugs, if any.\n",
    "\n",
    "*__Q: Implement the binary search solution described in step 7.__*\n"
   ]
  },
  {
   "cell_type": "code",
   "execution_count": 23,
   "id": "personalized-analyst",
   "metadata": {},
   "outputs": [],
   "source": [
    "def count_rotations_binary(nums):\n",
    "    lo = 0\n",
    "    hi = len(nums)-1\n",
    "    \n",
    "    while lo<=hi:\n",
    "        mid = (lo+hi)//2\n",
    "        mid_number = nums[mid]\n",
    "        \n",
    "        # Uncomment the next line for logging the values and fixing errors.\n",
    "        print(\"lo:\", lo, \", hi:\", hi, \", mid:\", mid, \", mid_number:\", mid_number)\n",
    "        \n",
    "        if mid > 0 and mid_number<nums[mid-1]:\n",
    "            # The middle position is the answer\n",
    "            return mid\n",
    "        \n",
    "        elif mid_number<nums[hi]:\n",
    "            # Answer lies in the left half\n",
    "            hi = mid - 1  \n",
    "        \n",
    "        else:\n",
    "            # Answer lies in the right half\n",
    "            lo = mid + 1\n",
    "    \n",
    "    return 0"
   ]
  },
  {
   "cell_type": "markdown",
   "id": "surprised-being",
   "metadata": {},
   "source": [
    "Let's test out the function with the first test case."
   ]
  },
  {
   "cell_type": "code",
   "execution_count": 71,
   "id": "veterinary-ranking",
   "metadata": {},
   "outputs": [
    {
     "name": "stdout",
     "output_type": "stream",
     "text": [
      "\n",
      "Input:\n",
      "{'nums': [19, 25, 29, 3, 5, 6, 7, 9, 11, 14]}\n",
      "\n",
      "Expected Output:\n",
      "3\n",
      "\n",
      "lo: 0 , hi: 9 , mid: 4 , mid_number: 5\n",
      "lo: 0 , hi: 3 , mid: 1 , mid_number: 25\n",
      "lo: 2 , hi: 3 , mid: 2 , mid_number: 29\n",
      "lo: 3 , hi: 3 , mid: 3 , mid_number: 3\n",
      "\n",
      "Actual Output:\n",
      "3\n",
      "\n",
      "Execution Time:\n",
      "2.777 ms\n",
      "\n",
      "Test Result:\n",
      "\u001b[92mPASSED\u001b[0m\n",
      "\n"
     ]
    }
   ],
   "source": [
    "binary_search_result = evaluate_test_case(count_rotations_binary, test)"
   ]
  },
  {
   "cell_type": "markdown",
   "id": "scheduled-expression",
   "metadata": {},
   "source": [
    "Make sure your function passes the test. Fix bugs, if any.\n",
    "\n",
    "Let's test it out with all the test cases."
   ]
  },
  {
   "cell_type": "code",
   "execution_count": 24,
   "id": "psychological-meeting",
   "metadata": {},
   "outputs": [
    {
     "output_type": "stream",
     "name": "stdout",
     "text": [
      "\n\u001b[1mTEST CASE #0\u001b[0m\nlo: 0 , hi: 9 , mid: 4 , mid_number: 5\nlo: 0 , hi: 3 , mid: 1 , mid_number: 25\nlo: 2 , hi: 3 , mid: 2 , mid_number: 29\nlo: 3 , hi: 3 , mid: 3 , mid_number: 3\n\nInput:\n{'nums': [19, 25, 29, 3, 5, 6, 7, 9, 11, 14]}\n\nExpected Output:\n3\n\n\nActual Output:\n3\n\nExecution Time:\n1.301 ms\n\nTest Result:\n\u001b[92mPASSED\u001b[0m\n\n\n\u001b[1mTEST CASE #1\u001b[0m\nlo: 0 , hi: 7 , mid: 3 , mid_number: 12\nlo: 4 , hi: 7 , mid: 5 , mid_number: 3\n\nInput:\n{'nums': [7, 9, 11, 12, 13, 3, 5, 6]}\n\nExpected Output:\n5\n\n\nActual Output:\n5\n\nExecution Time:\n0.496 ms\n\nTest Result:\n\u001b[92mPASSED\u001b[0m\n\n\n\u001b[1mTEST CASE #2\u001b[0m\nlo: 0 , hi: 3 , mid: 1 , mid_number: 2\nlo: 0 , hi: 0 , mid: 0 , mid_number: 1\n\nInput:\n{'nums': [1, 2, 4, 5]}\n\nExpected Output:\n0\n\n\nActual Output:\n0\n\nExecution Time:\n0.788 ms\n\nTest Result:\n\u001b[92mPASSED\u001b[0m\n\n\n\u001b[1mTEST CASE #3\u001b[0m\nlo: 0 , hi: 4 , mid: 2 , mid_number: 2\nlo: 0 , hi: 1 , mid: 0 , mid_number: 9\nlo: 1 , hi: 1 , mid: 1 , mid_number: 1\n\nInput:\n{'nums': [9, 1, 2, 3, 5]}\n\nExpected Output:\n1\n\n\nActual Output:\n1\n\nExecution Time:\n1.812 ms\n\nTest Result:\n\u001b[92mPASSED\u001b[0m\n\n\n\u001b[1mTEST CASE #4\u001b[0m\nlo: 0 , hi: 4 , mid: 2 , mid_number: 2\nlo: 0 , hi: 1 , mid: 0 , mid_number: 9\nlo: 1 , hi: 1 , mid: 1 , mid_number: 1\n\nInput:\n{'nums': [9, 1, 2, 3, 5]}\n\nExpected Output:\n1\n\n\nActual Output:\n1\n\nExecution Time:\n1.417 ms\n\nTest Result:\n\u001b[92mPASSED\u001b[0m\n\n\n\u001b[1mTEST CASE #5\u001b[0m\nlo: 0 , hi: 5 , mid: 2 , mid_number: 5\nlo: 0 , hi: 1 , mid: 0 , mid_number: 3\n\nInput:\n{'nums': [3, 4, 5, 6, 7, 8]}\n\nExpected Output:\n0\n\n\nActual Output:\n0\n\nExecution Time:\n0.52 ms\n\nTest Result:\n\u001b[92mPASSED\u001b[0m\n\n\n\u001b[1mTEST CASE #6\u001b[0m\n\nInput:\n{'nums': []}\n\nExpected Output:\n0\n\n\nActual Output:\n0\n\nExecution Time:\n0.004 ms\n\nTest Result:\n\u001b[92mPASSED\u001b[0m\n\n\n\u001b[1mTEST CASE #7\u001b[0m\nlo: 0 , hi: 0 , mid: 0 , mid_number: 1\n\nInput:\n{'nums': [1]}\n\nExpected Output:\n0\n\n\nActual Output:\n0\n\nExecution Time:\n0.206 ms\n\nTest Result:\n\u001b[92mPASSED\u001b[0m\n\n\n\u001b[1mSUMMARY\u001b[0m\n\nTOTAL: 8, \u001b[92mPASSED\u001b[0m: 8, \u001b[91mFAILED\u001b[0m: 0\n"
     ]
    }
   ],
   "source": [
    "binary_search_results = evaluate_test_cases(count_rotations_binary, tests)"
   ]
  },
  {
   "cell_type": "markdown",
   "id": "answering-following",
   "metadata": {},
   "source": [
    "Once again, make sure all the tests pass. Fix errors and bugs, if any.\n",
    "\n",
    "**NOTE**: During evaluation, your submission will be tested against a much larger set of test cases (not listed here). Make sure to test your solution thoroughly.\n"
   ]
  },
  {
   "cell_type": "markdown",
   "id": "fitting-forestry",
   "metadata": {},
   "source": [
    "### 9. Analyze the algorithm's complexity and identify inefficiencies, if any.\n",
    "\n",
    "_**Q: What is the worst-case complexity (running time) of the algorithm expressed in the Big O Notation? Assume that the size of the list is `N` (uppercase).**_\n",
    "\n",
    "Hint: Count the maximum number of iterations it may take for the algorithm to return the result."
   ]
  },
  {
   "cell_type": "code",
   "execution_count": 25,
   "id": "cloudy-coral",
   "metadata": {},
   "outputs": [],
   "source": [
    "binary_search_complexity = \"O(log(N))\""
   ]
  },
  {
   "cell_type": "markdown",
   "id": "underlying-teens",
   "metadata": {},
   "source": [
    "Is binary search the optimal solution to the problem? How can you prove it? Discuss in the forums.\n",
    "\n",
    "Let's save our work before continuing."
   ]
  },
  {
   "cell_type": "code",
   "execution_count": 26,
   "id": "consolidated-trash",
   "metadata": {},
   "outputs": [],
   "source": [
    "from jovian.pythondsa import binary_search"
   ]
  },
  {
   "cell_type": "code",
   "execution_count": 28,
   "id": "exceptional-standard",
   "metadata": {},
   "outputs": [],
   "source": [
    "??binary_search"
   ]
  },
  {
   "cell_type": "markdown",
   "id": "informal-addition",
   "metadata": {},
   "source": [
    "_**Q (Optional): Implement the `count_rotations` function using the generic `binary_search` function.**_\n",
    "\n",
    "Hint: You'll need to define the condition which returns `\"found\"`, `\"left\"` or `\"right\"` by performing the appropriate check on the middle position in the range."
   ]
  },
  {
   "cell_type": "code",
   "execution_count": null,
   "id": "senior-promotion",
   "metadata": {},
   "outputs": [],
   "source": [
    "def count_rotations_generic(nums):\n",
    "    def condition(mid):\n",
    "        pass # replace this with your code\n",
    "        \n",
    "    return binary_search(0, len(nums)-1, condition)"
   ]
  },
  {
   "cell_type": "code",
   "execution_count": null,
   "id": "lucky-clothing",
   "metadata": {},
   "outputs": [],
   "source": [
    "evaluate_test_case(count_rotations_generic, test)"
   ]
  },
  {
   "cell_type": "code",
   "execution_count": null,
   "id": "stopped-norman",
   "metadata": {},
   "outputs": [],
   "source": [
    "evaluate_test_cases(count_rotations_generic, test)"
   ]
  },
  {
   "cell_type": "code",
   "execution_count": null,
   "id": "diverse-drinking",
   "metadata": {},
   "outputs": [],
   "source": [
    "jovian.commit()"
   ]
  },
  {
   "cell_type": "markdown",
   "id": "brief-doubt",
   "metadata": {},
   "source": [
    "### Optional Bonus 2: Handling repeating numbers\n",
    "\n",
    "So far we've assumed that the numbers in the list are unique. What if the numbers can repeat? E.g. `[5, 6, 6, 9, 9, 9, 0, 0, 2, 3, 3, 3, 3, 4, 4]`. Can you modify your solution to handle this special case?\n",
    "\n",
    "\n",
    "_**Q (Optional): Create additional test cases where the list can contain repeating numbers**_"
   ]
  },
  {
   "cell_type": "code",
   "execution_count": null,
   "id": "stretch-craps",
   "metadata": {},
   "outputs": [],
   "source": [
    "extended_tests = list(tests)"
   ]
  },
  {
   "cell_type": "code",
   "execution_count": null,
   "id": "loose-chicago",
   "metadata": {},
   "outputs": [],
   "source": [
    "extended_test.append({\n",
    "    # add your test case here\n",
    "})"
   ]
  },
  {
   "cell_type": "code",
   "execution_count": null,
   "id": "liberal-pregnancy",
   "metadata": {},
   "outputs": [],
   "source": [
    "extended_test.append({\n",
    "    # add your test case here\n",
    "})"
   ]
  },
  {
   "cell_type": "code",
   "execution_count": null,
   "id": "frequent-bibliography",
   "metadata": {},
   "outputs": [],
   "source": [
    "# add more test cases if required"
   ]
  },
  {
   "cell_type": "code",
   "execution_count": null,
   "id": "baking-syracuse",
   "metadata": {},
   "outputs": [],
   "source": [
    "jovian.commit()"
   ]
  },
  {
   "cell_type": "markdown",
   "id": "younger-shell",
   "metadata": {},
   "source": [
    "_**Q (Optional): Modify your solution (if required) to handle the case where the list can contain repeating numbers.**_"
   ]
  },
  {
   "cell_type": "code",
   "execution_count": null,
   "id": "seven-implementation",
   "metadata": {},
   "outputs": [],
   "source": [
    "def count_rotations_generic(nums):\n",
    "    pass # replace this with your code"
   ]
  },
  {
   "cell_type": "markdown",
   "id": "heavy-russell",
   "metadata": {},
   "source": [
    "Test your function to make sure it works properly."
   ]
  },
  {
   "cell_type": "code",
   "execution_count": null,
   "id": "pending-borough",
   "metadata": {},
   "outputs": [],
   "source": []
  },
  {
   "cell_type": "code",
   "execution_count": null,
   "id": "attended-american",
   "metadata": {},
   "outputs": [],
   "source": []
  },
  {
   "cell_type": "markdown",
   "id": "ahead-aaron",
   "metadata": {},
   "source": [
    "### Optional Bonus 3: Searching in a Rotated List\n",
    "\n",
    "Here's a slightly advanced extension to this problem:\n",
    "\n",
    "> You are given list of numbers, obtained by rotating a sorted list an unknown number of times. You are also given a target number. Write a function to find the position of the target number within the rotated list. You can assume that all the numbers in the list are unique.\n",
    ">\n",
    "> Example: In the rotated sorted list `[5, 6, 9, 0, 2, 3, 4]`, the target number `2` occurs at position `5`."
   ]
  },
  {
   "cell_type": "markdown",
   "id": "occasional-landing",
   "metadata": {},
   "source": [
    "**Q (Optional): Create some test cases for the above problem.**"
   ]
  },
  {
   "cell_type": "code",
   "execution_count": null,
   "id": "injured-steering",
   "metadata": {},
   "outputs": [],
   "source": [
    "tests2 = []"
   ]
  },
  {
   "cell_type": "code",
   "execution_count": null,
   "id": "fleet-southeast",
   "metadata": {},
   "outputs": [],
   "source": [
    "# add test cases here"
   ]
  },
  {
   "cell_type": "code",
   "execution_count": null,
   "id": "framed-jewel",
   "metadata": {},
   "outputs": [],
   "source": []
  },
  {
   "cell_type": "markdown",
   "id": "metric-holder",
   "metadata": {},
   "source": [
    "**Q (Optional): Implement a solution to the above problem using binary search.**\n",
    "\n",
    "_HINT:_ One way to solve this problem is to identify two sorted subarrays within the given array (using the `count_rotations_binary` function defined above), then perform a binary search on each subarray to determine the position of the target element. Another way is to modify `count_rotations_binary` to solve the problem directly."
   ]
  },
  {
   "cell_type": "code",
   "execution_count": null,
   "id": "acoustic-elite",
   "metadata": {},
   "outputs": [],
   "source": [
    "def find_element(nums, target):\n",
    "    pass "
   ]
  },
  {
   "cell_type": "markdown",
   "id": "israeli-roulette",
   "metadata": {},
   "source": [
    "Test your solution using the cells below."
   ]
  },
  {
   "cell_type": "code",
   "execution_count": null,
   "id": "alone-statistics",
   "metadata": {},
   "outputs": [],
   "source": []
  }
 ],
 "metadata": {
  "language_info": {
   "codemirror_mode": {
    "name": "ipython",
    "version": 3
   },
   "file_extension": ".py",
   "mimetype": "text/x-python",
   "name": "python",
   "nbconvert_exporter": "python",
   "pygments_lexer": "ipython3",
   "version": "3.9.1-final"
  },
  "kernelspec": {
   "name": "python3",
   "display_name": "Python 3.9.1 64-bit ('venv1')",
   "metadata": {
    "interpreter": {
     "hash": "6dbcfa4acfde829108fd9fed7b4c7e3cf5b89483651b78d4b8e08d6c4461514a"
    }
   }
  }
 },
 "nbformat": 4,
 "nbformat_minor": 5
}