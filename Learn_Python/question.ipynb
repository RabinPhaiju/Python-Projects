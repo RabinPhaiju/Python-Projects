{
 "metadata": {
  "language_info": {
   "codemirror_mode": {
    "name": "ipython",
    "version": 3
   },
   "file_extension": ".py",
   "mimetype": "text/x-python",
   "name": "python",
   "nbconvert_exporter": "python",
   "pygments_lexer": "ipython3",
   "version": "3.9.1"
  },
  "orig_nbformat": 2,
  "kernelspec": {
   "name": "python3",
   "display_name": "Python 3.9.1 64-bit ('venv1': venv)"
  },
  "interpreter": {
   "hash": "6dbcfa4acfde829108fd9fed7b4c7e3cf5b89483651b78d4b8e08d6c4461514a"
  }
 },
 "nbformat": 4,
 "nbformat_minor": 2,
 "cells": [
  {
   "source": [
    "## Write a program that accepts a sequence of whitespace separated words as input and prints the words after removing all duplicatewords and sorting them alphanumerically."
   ],
   "cell_type": "markdown",
   "metadata": {}
  },
  {
   "cell_type": "code",
   "execution_count": 1,
   "metadata": {},
   "outputs": [
    {
     "output_type": "stream",
     "name": "stdout",
     "text": [
      "9 "
     ]
    }
   ],
   "source": [
    "x = input('Enter a sequence of white space words')\n",
    "x = x.split(\" \")\n",
    "x = list(set(x))\n",
    "for x in sorted(x):\n",
    "    print(x,end=\" \")"
   ]
  },
  {
   "source": [
    "## With a given tuple (1,2,3,4,5,6,7,8,9,10), write a program to print\n",
    "the first half values in one line and the last half values in one line.\n"
   ],
   "cell_type": "markdown",
   "metadata": {}
  },
  {
   "cell_type": "code",
   "execution_count": 2,
   "metadata": {},
   "outputs": [
    {
     "output_type": "stream",
     "name": "stdout",
     "text": [
      "(1, 2, 3, 4, 5)\n(6, 7, 8, 9, 10)\n"
     ]
    }
   ],
   "source": [
    "t1 = (1,2,3,4,5,6,7,8,9,10)\n",
    "print(t1[0:len(t1)//2])\n",
    "print(t1[5:len(t1)])"
   ]
  },
  {
   "source": [
    "## Given five positive integers, find the minimum and maximum values that can be  calculated by summing exactly four of the five integers. Then print the respective minimum and maximum values as a single line of two space-separated long integers."
   ],
   "cell_type": "markdown",
   "metadata": {}
  },
  {
   "cell_type": "code",
   "execution_count": 7,
   "metadata": {},
   "outputs": [
    {
     "output_type": "stream",
     "name": "stdout",
     "text": [
      "14 10\n"
     ]
    }
   ],
   "source": [
    "mylist = [2,1,3,4,5]\n",
    "mylist.sort()\n",
    "print(f\"{sum(mylist[1:])} {sum(mylist[:-1])}\")"
   ]
  },
  {
   "cell_type": "code",
   "execution_count": 1,
   "metadata": {},
   "outputs": [
    {
     "output_type": "stream",
     "name": "stdout",
     "text": [
      "[1, 0, 0, 0, 0, 0]\n[0, 0, 0, 1, 1, 1]\n[0, 0, 0, 0, 1, 0]\n[1, 1, 0, 0, 1, 0]\n[1, 0, 0, 0, 0, 0]\n[1, 0, 0, 0, 0, 1]\n"
     ]
    }
   ],
   "source": [
    "isConnected = [\n",
    "    (-1,0),\n",
    "    (0,-1),\n",
    "    (1,0),\n",
    "    (0,1)\n",
    "]\n",
    "island = [\n",
    "    [1, 0, 0, 0, 0, 0],\n",
    "    [0, 1, 0, 1, 1, 1],\n",
    "    [0, 0, 1, 0, 1, 0],\n",
    "    [1, 1, 0, 0, 1, 0],\n",
    "    [1, 0, 1, 1, 0, 0],\n",
    "    [1, 0, 0, 0, 0, 1]\n",
    "]\n",
    "# question:\n",
    "# in the matrix, 1->land, 0-> water, edges of the matrix is border,\n",
    "# if the land is connected, to border or other land that is connected to border, \n",
    "# then that group of connected lands are island.\n",
    "# note:lands cannot be connected diagonally.\n",
    "# task:remove those lands which are not connected to border/land(land ->which is linked to border).\n",
    "output = [\n",
    "    [1, 0, 0, 0, 0, 0],\n",
    "    [0, 0, 0, 1, 1, 1],\n",
    "    [0, 0, 0, 0, 1, 0],\n",
    "    [1, 1, 0, 0, 1, 0],\n",
    "    [1, 0, 0, 0, 0, 0],\n",
    "    [1, 0, 0, 0, 0, 1]\n",
    "]\n",
    "\n",
    "border = dict()\n",
    "for i,row in enumerate(island):\n",
    "    for j,value in enumerate(row):\n",
    "        if value ==1:\n",
    "            if i==0 or i==len(island)-1:\n",
    "                if f'{i}{j}' not in border:\n",
    "                    border[f'{i}{j}'] = True\n",
    "            if(row[0]==1 or row[-1]==1)and (j==0 or j==len(row)-1):\n",
    "                if f'{i}{j}' not in border:\n",
    "                    border[f'{i}{j}'] = True\n",
    "\n",
    "def findIsland():\n",
    "    for i in range(1,len(island)-1):\n",
    "        for j,value in enumerate(island[i]):\n",
    "            if value==1 and f'{i}{j}' not in border:\n",
    "                for (x,y) in isConnected:\n",
    "                    x_new = x+i\n",
    "                    y_new = y+j\n",
    "                    if f'{x_new}{y_new}' in border:\n",
    "                        border[f'{i}{j}'] = True\n",
    "                        findIsland()\n",
    "\n",
    "findIsland()\n",
    "for i,row in enumerate(island):\n",
    "    for j,value in enumerate(row):\n",
    "        if f'{i}{j}' not in border:\n",
    "            island[i][j] = 0\n",
    "\n",
    "for row in island:\n",
    "    print(row)\n"
   ]
  },
  {
   "cell_type": "code",
   "execution_count": null,
   "metadata": {},
   "outputs": [],
   "source": []
  }
 ]
}