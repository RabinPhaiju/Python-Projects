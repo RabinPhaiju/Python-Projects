{
 "metadata": {
  "language_info": {
   "codemirror_mode": {
    "name": "ipython",
    "version": 3
   },
   "file_extension": ".py",
   "mimetype": "text/x-python",
   "name": "python",
   "nbconvert_exporter": "python",
   "pygments_lexer": "ipython3",
   "version": "3.8.5-final"
  },
  "orig_nbformat": 2,
  "kernelspec": {
   "name": "python3",
   "display_name": "Python 3",
   "language": "python"
  }
 },
 "nbformat": 4,
 "nbformat_minor": 2,
 "cells": [
  {
   "source": [
    "## Write a program that accepts a sequence of whitespace separated words as input and prints the words after removing all duplicatewords and sorting them alphanumerically."
   ],
   "cell_type": "markdown",
   "metadata": {}
  },
  {
   "cell_type": "code",
   "execution_count": 5,
   "metadata": {},
   "outputs": [
    {
     "output_type": "stream",
     "name": "stdout",
     "text": [
      "hello "
     ]
    }
   ],
   "source": [
    "x = input('Enter a sequence of white space words')\n",
    "x = x.split(\" \")\n",
    "x = list(set(x))\n",
    "for x in sorted(x):\n",
    "    print(x,end=\" \")"
   ]
  },
  {
   "source": [
    "## With a given tuple (1,2,3,4,5,6,7,8,9,10), write a program to print\n",
    "the first half values in one line and the last half values in one line.\n"
   ],
   "cell_type": "markdown",
   "metadata": {}
  },
  {
   "cell_type": "code",
   "execution_count": 6,
   "metadata": {},
   "outputs": [
    {
     "output_type": "stream",
     "name": "stdout",
     "text": [
      "(1, 2, 3, 4, 5)\n(6, 7, 8, 9, 10)\n"
     ]
    }
   ],
   "source": [
    "t1 = (1,2,3,4,5,6,7,8,9,10)\n",
    "print(t1[0:len(t1)//2])\n",
    "print(t1[5:len(t1)])"
   ]
  },
  {
   "source": [
    "## Given five positive integers, find the minimum and maximum values that can be  calculated by summing exactly four of the five integers. Then print the respectiveminimum and maximum values as a single line of two space-separated long integers."
   ],
   "cell_type": "markdown",
   "metadata": {}
  },
  {
   "cell_type": "code",
   "execution_count": 7,
   "metadata": {},
   "outputs": [
    {
     "output_type": "stream",
     "name": "stdout",
     "text": [
      "14 10\n"
     ]
    }
   ],
   "source": [
    "mylist = [2,1,3,4,5]\n",
    "mylist.sort()\n",
    "print(f\"{sum(mylist[1:])} {sum(mylist[:-1])}\")"
   ]
  },
  {
   "cell_type": "code",
   "execution_count": null,
   "metadata": {},
   "outputs": [],
   "source": []
  }
 ]
}