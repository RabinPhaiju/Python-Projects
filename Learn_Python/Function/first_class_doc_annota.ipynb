{
 "metadata": {
  "language_info": {
   "codemirror_mode": {
    "name": "ipython",
    "version": 3
   },
   "file_extension": ".py",
   "mimetype": "text/x-python",
   "name": "python",
   "nbconvert_exporter": "python",
   "pygments_lexer": "ipython3",
   "version": "3.9.1"
  },
  "orig_nbformat": 2,
  "kernelspec": {
   "name": "python391jvsc74a57bd06dbcfa4acfde829108fd9fed7b4c7e3cf5b89483651b78d4b8e08d6c4461514a",
   "display_name": "Python 3.9.1 64-bit ('venv1': venv)"
  }
 },
 "nbformat": 4,
 "nbformat_minor": 2,
 "cells": [
  {
   "source": [
    "# First class objects\n",
    "    - can be passed to a function as an argument\n",
    "    - can be returned from a function\n",
    "    - can be assigned to a variable.\n",
    "    - can be stored in a data structure(list,tuple,dictionary,etc.)\n",
    "    - function(fucntion) are first class function."
   ],
   "cell_type": "markdown",
   "metadata": {}
  },
  {
   "source": [
    "# Doc strings -> PEP257\n",
    "* It has to be first line in the function.\n",
    "* Where documentation are stored.\n",
    "    - doc are objects.\n",
    "    - In the function's __ __ doc__ __ property"
   ],
   "cell_type": "markdown",
   "metadata": {}
  },
  {
   "source": [
    "def func(a):\n",
    "    # \"square the function argument . Single line documentation\"\n",
    "    \"\"\"square the function argument . Single line documentation\"\"\"\n",
    "    return a*a\n",
    "\n",
    "help(func)"
   ],
   "cell_type": "code",
   "metadata": {},
   "execution_count": 10,
   "outputs": [
    {
     "output_type": "stream",
     "name": "stdout",
     "text": [
      "Help on function func in module __main__:\n\nfunc(a)\n    square the function argument . Single line documentation\n\n"
     ]
    }
   ]
  },
  {
   "cell_type": "code",
   "execution_count": 1,
   "metadata": {},
   "outputs": [
    {
     "output_type": "stream",
     "name": "stdout",
     "text": [
      "Help on function func1 in module __main__:\n\nfunc1(a)\n    This function square,\n    the argument passed.\n\n"
     ]
    }
   ],
   "source": [
    "def func1(a):\n",
    "    # the comment is not first part of the function \n",
    "    \"\"\"\n",
    "    This function square,\n",
    "    the argument passed.\"\"\"\n",
    "    return a*a\n",
    "\n",
    "help(func1)"
   ]
  },
  {
   "cell_type": "code",
   "execution_count": 12,
   "metadata": {},
   "outputs": [
    {
     "output_type": "execute_result",
     "data": {
      "text/plain": [
       "'square the function argument . Single line documentation'"
      ]
     },
     "metadata": {},
     "execution_count": 12
    }
   ],
   "source": [
    "func.__doc__"
   ]
  },
  {
   "source": [
    "# Function Annotation\n",
    "    - adding documentation in another way PEP 3107\n",
    "    - this is not stored in __ __doc__  __\n",
    "    - It is stored in __ __anotations__ __ \n",
    "    - It is dictionary"
   ],
   "cell_type": "markdown",
   "metadata": {}
  },
  {
   "cell_type": "code",
   "execution_count": 23,
   "metadata": {},
   "outputs": [
    {
     "output_type": "stream",
     "name": "stdout",
     "text": [
      "Help on function my_func in module __main__:\n\nmy_func(a: 'string', b: 'integer >0') -> 'string'\n\n"
     ]
    }
   ],
   "source": [
    "def my_func(a:'string',b:'integer > 0') ->'string':\n",
    "    return a+b\n",
    "\n",
    "help(my_func)\n",
    "my_func.__doc__ # empty"
   ]
  },
  {
   "cell_type": "code",
   "execution_count": 24,
   "metadata": {},
   "outputs": [],
   "source": [
    "def my_func(a:str='abc',b:int=1)-> str:\n",
    "    pass"
   ]
  },
  {
   "cell_type": "code",
   "execution_count": 15,
   "metadata": {},
   "outputs": [
    {
     "output_type": "execute_result",
     "data": {
      "text/plain": [
       "{'a': str,\n",
       " 'args': 'additional parameters',\n",
       " 'b': int,\n",
       " 'kwargs': 'additional keyword only params',\n",
       " 'return': 'something'}"
      ]
     },
     "metadata": {},
     "execution_count": 15
    }
   ],
   "source": [
    "def my_func(a:str='abc',\n",
    "        *args:'additional parameters',\n",
    "        b:int=1,\n",
    "        **kwargs:'additional keyword only params')->'something':\n",
    "        pass\n",
    "my_func.__annotations__"
   ]
  },
  {
   "cell_type": "code",
   "execution_count": null,
   "metadata": {},
   "outputs": [],
   "source": [
    "# B is initialize when the function is defined. so the value of b is same."
   ]
  },
  {
   "cell_type": "code",
   "execution_count": 11,
   "metadata": {},
   "outputs": [
    {
     "output_type": "stream",
     "name": "stdout",
     "text": [
      "10\naaaaaaaaaa\n"
     ]
    }
   ],
   "source": [
    "x = 5\n",
    "y = 10\n",
    "def my_func(a:'some character',b= max(x,y))-> \"character a repeated \"+str(max(x,y))+' times':\n",
    "    print(b)\n",
    "    print(a*max(x,y))\n",
    "\n",
    "\n",
    "my_func('a')"
   ]
  },
  {
   "cell_type": "code",
   "execution_count": 12,
   "metadata": {},
   "outputs": [
    {
     "output_type": "execute_result",
     "data": {
      "text/plain": [
       "{'a': 'some character', 'return': 'character a repeated 10 times'}"
      ]
     },
     "metadata": {},
     "execution_count": 12
    }
   ],
   "source": [
    "my_func.__annotations__"
   ]
  },
  {
   "cell_type": "code",
   "execution_count": 13,
   "metadata": {},
   "outputs": [
    {
     "output_type": "stream",
     "name": "stdout",
     "text": [
      "10\naaaaaaaaaaaaaaaaaaaa\n"
     ]
    }
   ],
   "source": [
    "x = 20\n",
    "my_func('a')"
   ]
  },
  {
   "cell_type": "code",
   "execution_count": 14,
   "metadata": {},
   "outputs": [
    {
     "output_type": "execute_result",
     "data": {
      "text/plain": [
       "{'a': 'some character', 'return': 'character a repeated 10 times'}"
      ]
     },
     "metadata": {},
     "execution_count": 14
    }
   ],
   "source": [
    "my_func.__annotations__"
   ]
  }
 ]
}