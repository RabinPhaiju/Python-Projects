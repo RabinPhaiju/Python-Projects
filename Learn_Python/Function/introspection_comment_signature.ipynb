{
 "metadata": {
  "language_info": {
   "codemirror_mode": {
    "name": "ipython",
    "version": 3
   },
   "file_extension": ".py",
   "mimetype": "text/x-python",
   "name": "python",
   "nbconvert_exporter": "python",
   "pygments_lexer": "ipython3",
   "version": "3.9.1"
  },
  "orig_nbformat": 2,
  "kernelspec": {
   "name": "python391jvsc74a57bd06dbcfa4acfde829108fd9fed7b4c7e3cf5b89483651b78d4b8e08d6c4461514a",
   "display_name": "Python 3.9.1 64-bit ('venv1': venv)"
  }
 },
 "nbformat": 4,
 "nbformat_minor": 2,
 "cells": [
  {
   "source": [
    "# Function Introspection"
   ],
   "cell_type": "markdown",
   "metadata": {}
  },
  {
   "cell_type": "code",
   "execution_count": 1,
   "metadata": {},
   "outputs": [
    {
     "output_type": "stream",
     "name": "stdout",
     "text": [
      "['__annotations__', '__call__', '__class__', '__closure__', '__code__', '__defaults__', '__delattr__', '__dict__', '__dir__', '__doc__', '__eq__', '__format__', '__ge__', '__get__', '__getattribute__', '__globals__', '__gt__', '__hash__', '__init__', '__init_subclass__', '__kwdefaults__', '__le__', '__lt__', '__module__', '__name__', '__ne__', '__new__', '__qualname__', '__reduce__', '__reduce_ex__', '__repr__', '__setattr__', '__sizeof__', '__str__', '__subclasshook__', 'category']\n"
     ]
    }
   ],
   "source": [
    "def my_func(a,b=10,*args,**kwargs):\n",
    "    c = a+b\n",
    "    return c\n",
    "\n",
    "my_func.category = 'math'\n",
    "\n",
    "print(dir(my_func))"
   ]
  },
  {
   "cell_type": "code",
   "execution_count": 2,
   "metadata": {},
   "outputs": [
    {
     "output_type": "execute_result",
     "data": {
      "text/plain": [
       "'my_func'"
      ]
     },
     "metadata": {},
     "execution_count": 2
    }
   ],
   "source": [
    "my_func.__name__ # name of the function"
   ]
  },
  {
   "cell_type": "code",
   "execution_count": 3,
   "metadata": {},
   "outputs": [
    {
     "output_type": "execute_result",
     "data": {
      "text/plain": [
       "(10,)"
      ]
     },
     "metadata": {},
     "execution_count": 3
    }
   ],
   "source": [
    "my_func.__defaults__"
   ]
  },
  {
   "cell_type": "code",
   "execution_count": 5,
   "metadata": {},
   "outputs": [
    {
     "output_type": "execute_result",
     "data": {
      "text/plain": [
       "('a', 'b', 'args', 'kwargs', 'c')"
      ]
     },
     "metadata": {},
     "execution_count": 5
    }
   ],
   "source": [
    "my_func.__code__.co_varnames"
   ]
  },
  {
   "cell_type": "code",
   "execution_count": 6,
   "metadata": {},
   "outputs": [
    {
     "output_type": "execute_result",
     "data": {
      "text/plain": [
       "2"
      ]
     },
     "metadata": {},
     "execution_count": 6
    }
   ],
   "source": [
    "my_func.__code__.co_argcount # count the arguments only positional arguments"
   ]
  },
  {
   "cell_type": "code",
   "execution_count": 2,
   "metadata": {},
   "outputs": [
    {
     "output_type": "execute_result",
     "data": {
      "text/plain": [
       "True"
      ]
     },
     "metadata": {},
     "execution_count": 2
    }
   ],
   "source": [
    "from inspect import isfunction,ismethod,isroutine\n",
    "import inspect\n",
    "\n",
    "isfunction(my_func)"
   ]
  },
  {
   "cell_type": "code",
   "execution_count": 11,
   "metadata": {},
   "outputs": [
    {
     "output_type": "execute_result",
     "data": {
      "text/plain": [
       "'def my_func(a,b=10,*args,**kwargs):\\n    c = a+b\\n    return c\\n'"
      ]
     },
     "metadata": {},
     "execution_count": 11
    }
   ],
   "source": [
    "inspect.getsource(my_func)"
   ]
  },
  {
   "cell_type": "code",
   "execution_count": 12,
   "metadata": {},
   "outputs": [
    {
     "output_type": "execute_result",
     "data": {
      "text/plain": [
       "<module '__main__'>"
      ]
     },
     "metadata": {},
     "execution_count": 12
    }
   ],
   "source": [
    "inspect.getmodule(my_func)"
   ]
  },
  {
   "source": [
    "# function comment\n",
    "- ## we can check if there are remaining todos in the code"
   ],
   "cell_type": "markdown",
   "metadata": {}
  },
  {
   "cell_type": "code",
   "execution_count": 3,
   "metadata": {},
   "outputs": [
    {
     "output_type": "execute_result",
     "data": {
      "text/plain": [
       "'# Function comments\\n# TODO: do the sum\\n'"
      ]
     },
     "metadata": {},
     "execution_count": 3
    }
   ],
   "source": [
    "# Function comments\n",
    "# TODO: do the sum\n",
    "def my_func(a:'string'=90, b=1):\n",
    "    # comment inside my_func\n",
    "    pass\n",
    "\n",
    "inspect.getcomments(my_func)"
   ]
  },
  {
   "source": [
    "# function signatures"
   ],
   "cell_type": "markdown",
   "metadata": {}
  },
  {
   "cell_type": "code",
   "execution_count": 4,
   "metadata": {},
   "outputs": [
    {
     "output_type": "execute_result",
     "data": {
      "text/plain": [
       "<Signature (a: 'a string', b: int = 1, *args: 'additional positinal args', kw1: 'first keyword-only arg', kw2: 'second keyword-only arg' = 10, **kargs: 'additional keyword-only args') -> str>"
      ]
     },
     "metadata": {},
     "execution_count": 4
    }
   ],
   "source": [
    "def my_func(a:'a string',\n",
    "    b:int=1,\n",
    "    *args:'additional positinal args',\n",
    "    kw1 :'first keyword-only arg',\n",
    "    kw2:'second keyword-only arg'=10,\n",
    "    **kargs:'additional keyword-only args')->str:\n",
    "        \"\"\"do somethings \"\"\"\n",
    "        pass\n",
    "\n",
    "inspect.signature(my_func) "
   ]
  },
  {
   "cell_type": "code",
   "execution_count": 5,
   "metadata": {},
   "outputs": [
    {
     "output_type": "stream",
     "name": "stdout",
     "text": [
      "Name : a\nDefault : <class 'inspect._empty'>\nAnnotation : a string\nKind : POSITIONAL_OR_KEYWORD\n-----------------------------------\nName : b\nDefault : 1\nAnnotation : <class 'int'>\nKind : POSITIONAL_OR_KEYWORD\n-----------------------------------\nName : args\nDefault : <class 'inspect._empty'>\nAnnotation : additional positinal args\nKind : VAR_POSITIONAL\n-----------------------------------\nName : kw1\nDefault : <class 'inspect._empty'>\nAnnotation : first keyword-only arg\nKind : KEYWORD_ONLY\n-----------------------------------\nName : kw2\nDefault : 10\nAnnotation : second keyword-only arg\nKind : KEYWORD_ONLY\n-----------------------------------\nName : kargs\nDefault : <class 'inspect._empty'>\nAnnotation : additional keyword-only args\nKind : VAR_KEYWORD\n-----------------------------------\n"
     ]
    }
   ],
   "source": [
    "for param in inspect.signature(my_func).parameters.values():\n",
    "    print('Name :',param.name)\n",
    "    print('Default :',param.default)\n",
    "    print('Annotation :',param.annotation)\n",
    "    print('Kind :',param.kind)\n",
    "    print('-----------------------------------')"
   ]
  }
 ]
}