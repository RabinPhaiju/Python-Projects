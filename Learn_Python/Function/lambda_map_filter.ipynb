{
 "metadata": {
  "language_info": {
   "codemirror_mode": {
    "name": "ipython",
    "version": 3
   },
   "file_extension": ".py",
   "mimetype": "text/x-python",
   "name": "python",
   "nbconvert_exporter": "python",
   "pygments_lexer": "ipython3",
   "version": "3.9.1"
  },
  "orig_nbformat": 2,
  "kernelspec": {
   "name": "python391jvsc74a57bd06dbcfa4acfde829108fd9fed7b4c7e3cf5b89483651b78d4b8e08d6c4461514a",
   "display_name": "Python 3.9.1 64-bit ('venv1': venv)",
   "language": "python"
  }
 },
 "nbformat": 4,
 "nbformat_minor": 2,
 "cells": [
  {
   "cell_type": "code",
   "execution_count": 1,
   "metadata": {},
   "outputs": [
    {
     "output_type": "stream",
     "name": "stdout",
     "text": [
      "6\n(1, 4, 9)\n"
     ]
    }
   ],
   "source": [
    "# lambda function\n",
    "\n",
    "def function(x, y, z):\n",
    "    return x+y+z\n",
    "\n",
    "print(function(1, 2, 3))\n",
    "\n",
    "fun = lambda x, y, z: (x**2, y**2,z**2)\n",
    "\n",
    "print(fun(1, 2, 3))"
   ]
  },
  {
   "cell_type": "code",
   "execution_count": 4,
   "metadata": {},
   "outputs": [
    {
     "output_type": "stream",
     "name": "stdout",
     "text": [
      "[2, 8, 10, 18]\n[2, 8, 10, 18]\n[2, 8, 10, 18]\n"
     ]
    }
   ],
   "source": [
    "sequence = [1,4,5,9]\n",
    "\n",
    "print([ x*2 for x in sequence])\n",
    "\n",
    "print([(lambda x:x*2)(x) for x in sequence])\n",
    "print(list(map(lambda x:x*2,sequence)))"
   ]
  },
  {
   "cell_type": "code",
   "execution_count": 6,
   "metadata": {},
   "outputs": [
    {
     "output_type": "stream",
     "name": "stdout",
     "text": [
      "[0, 1, 2, 3, 4, 5, 6, 7, 8, 9]\n[11, 12, 13, 14, 15, 16, 17, 18, 19, 20, 21]\n[0, 12, 26, 42, 60, 80, 102, 126, 152, 180]\n"
     ]
    }
   ],
   "source": [
    "# Map - maps takes a function and a iterable (eg: list)\n",
    "# Map is alternative to list comprehensive but list comprehension is faster.\n",
    "# map dont filter but it computes.\n",
    "\n",
    "l = list(range(10))\n",
    "l2 = list(range(11,22))\n",
    "print(l)\n",
    "print(l2)\n",
    "\n",
    "square = lambda x,y: x*y\n",
    "print(list(map(square, l,l2)))"
   ]
  },
  {
   "cell_type": "code",
   "execution_count": 9,
   "metadata": {},
   "outputs": [
    {
     "output_type": "stream",
     "name": "stdout",
     "text": [
      "[2, 4, 6, 8]\n"
     ]
    }
   ],
   "source": [
    "# filter don't compute, it only filter \n",
    "# takes function and a list as argument of filter()\n",
    "\n",
    "print(list(filter(lambda x : x%2 ==0, [1,2,3 ,4, 5, 6, 7, 8])))"
   ]
  },
  {
   "cell_type": "code",
   "execution_count": 11,
   "metadata": {},
   "outputs": [
    {
     "output_type": "stream",
     "name": "stdout",
     "text": [
      "Reducers 30\n"
     ]
    }
   ],
   "source": [
    "# Reducers\n",
    "import functools as f\n",
    "import operator as o\n",
    "li=[3,4,6,4,6,7]\n",
    "sum= f.reduce(o.add, li)\n",
    "print('Reducers',sum)"
   ]
  },
  {
   "cell_type": "code",
   "execution_count": null,
   "metadata": {},
   "outputs": [],
   "source": [
    "# Accumulator\n",
    "import itertools as i\n",
    "list1 = [3,7,4,7]\n",
    "print(' The summation of list 1 is :')\n",
    "print(list(i.accumulate(list1,lambda x,y:x+y))) # sum at every loop and print\n"
   ]
  },
  {
   "cell_type": "code",
   "execution_count": 12,
   "metadata": {},
   "outputs": [
    {
     "output_type": "stream",
     "name": "stdout",
     "text": [
      "[1, 4, 9]\n"
     ]
    }
   ],
   "source": [
    "print(list(map((lambda x: x*x), [1,2,3])))"
   ]
  }
 ]
}