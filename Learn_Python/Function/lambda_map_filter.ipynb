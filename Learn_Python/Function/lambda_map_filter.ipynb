{
 "metadata": {
  "language_info": {
   "codemirror_mode": {
    "name": "ipython",
    "version": 3
   },
   "file_extension": ".py",
   "mimetype": "text/x-python",
   "name": "python",
   "nbconvert_exporter": "python",
   "pygments_lexer": "ipython3",
   "version": "3.9.1-final"
  },
  "orig_nbformat": 2,
  "kernelspec": {
   "name": "python3",
   "display_name": "Python 3",
   "language": "python"
  }
 },
 "nbformat": 4,
 "nbformat_minor": 2,
 "cells": [
  {
   "cell_type": "code",
   "execution_count": 2,
   "metadata": {},
   "outputs": [
    {
     "output_type": "stream",
     "name": "stdout",
     "text": [
      "6\n6\n"
     ]
    }
   ],
   "source": [
    "# lambda function\n",
    "\n",
    "def function(x, y, z):\n",
    "    return x+y+z\n",
    "\n",
    "print(function(1, 2, 3))\n",
    "\n",
    "fun = lambda x, y, z: (x+ y+ z)\n",
    "\n",
    "print(fun(1, 2, 3))"
   ]
  },
  {
   "cell_type": "code",
   "execution_count": 6,
   "metadata": {},
   "outputs": [
    {
     "output_type": "stream",
     "name": "stdout",
     "text": [
      "[0, 1, 2, 3, 4, 5, 6, 7, 8, 9]\n[11, 12, 13, 14, 15, 16, 17, 18, 19, 20, 21]\n[0, 12, 26, 42, 60, 80, 102, 126, 152, 180]\n"
     ]
    }
   ],
   "source": [
    "# Map - maps takes a function and a iterable (eg: list)\n",
    "# map dont filter but it computes.\n",
    "\n",
    "l = list(range(10))\n",
    "l2 = list(range(11,22))\n",
    "print(l)\n",
    "print(l2)\n",
    "\n",
    "square = lambda x,y: x*y\n",
    "print(list(map(square, l,l2)))"
   ]
  },
  {
   "cell_type": "code",
   "execution_count": 9,
   "metadata": {},
   "outputs": [
    {
     "output_type": "stream",
     "name": "stdout",
     "text": [
      "[2, 4, 6, 8]\n"
     ]
    }
   ],
   "source": [
    "# filter don't compute, it only filter \n",
    "# takes function and a list as argument of filter()\n",
    "\n",
    "print(list(filter(lambda x : x%2 ==0, [1,2,3 ,4, 5, 6, 7, 8])))"
   ]
  },
  {
   "cell_type": "code",
   "execution_count": 11,
   "metadata": {},
   "outputs": [
    {
     "output_type": "stream",
     "name": "stdout",
     "text": [
      "Reducers 30\n"
     ]
    }
   ],
   "source": [
    "# Reducers\n",
    "import functools as f\n",
    "import operator as o\n",
    "li=[3,4,6,4,6,7]\n",
    "sum= f.reduce(o.add, li)\n",
    "print('Reducers',sum)"
   ]
  },
  {
   "cell_type": "code",
   "execution_count": null,
   "metadata": {},
   "outputs": [],
   "source": [
    "# Accumulator\n",
    "import itertools as i\n",
    "list1 = [3,7,4,7]\n",
    "print(' The summation of list 1 is :')\n",
    "print(list(i.accumulate(list1,lambda x,y:x+y))) # sum at every loop and print\n"
   ]
  },
  {
   "cell_type": "code",
   "execution_count": 12,
   "metadata": {},
   "outputs": [
    {
     "output_type": "stream",
     "name": "stdout",
     "text": [
      "[1, 4, 9]\n"
     ]
    }
   ],
   "source": [
    "print(list(map((lambda x: x*x), [1,2,3])))"
   ]
  }
 ]
}