{
 "metadata": {
  "language_info": {
   "codemirror_mode": {
    "name": "ipython",
    "version": 3
   },
   "file_extension": ".py",
   "mimetype": "text/x-python",
   "name": "python",
   "nbconvert_exporter": "python",
   "pygments_lexer": "ipython3",
   "version": "3.8.5"
  },
  "orig_nbformat": 2,
  "kernelspec": {
   "name": "python385jvsc74a57bd0a456efd1d2e2bfa10bfdad488db5626e5f8bd233a0f11ae70ce0e7717a6a7d8d",
   "display_name": "Python 3.8.5 64-bit ('base': conda)"
  }
 },
 "nbformat": 4,
 "nbformat_minor": 2,
 "cells": [
  {
   "source": [
    "* args and kwargs are not keyword of python\n",
    "* *args -0 t any number of positional arguments\n",
    "* **kwargs - 0 to any number of keyword arguments\n",
    "## *args returns tuple\n",
    "## **kwargs returns dict"
   ],
   "cell_type": "markdown",
   "metadata": {}
  },
  {
   "cell_type": "code",
   "execution_count": 23,
   "metadata": {},
   "outputs": [
    {
     "output_type": "stream",
     "name": "stdout",
     "text": [
      "10 20 ()\n10 20 ('x', 'y', 'z')\n"
     ]
    }
   ],
   "source": [
    "def func1(a,b,*args):\n",
    "    # args and *kwargs  are optional arguments\n",
    "    print(a,b,args)\n",
    "\n",
    "func1(10,20)\n",
    "func1(10,20,'x','y','z')\n"
   ]
  },
  {
   "cell_type": "code",
   "execution_count": 13,
   "metadata": {},
   "outputs": [
    {
     "output_type": "stream",
     "name": "stdout",
     "text": [
      "<class 'tuple'> 18\n<class 'tuple'> 134\n"
     ]
    }
   ],
   "source": [
    "# avg function\n",
    "def avg(*args):\n",
    "    # args are tuple\n",
    "    count = len(args)\n",
    "    total = sum(args)\n",
    "    print(count and (total/count)) # if count is 0 print(0). if count !=0 print(total/count)\n",
    "\n",
    "adder(1,2,4,5,6)\n",
    "\n",
    "a = [3,5,77,43,6]\n",
    "adder(*a)"
   ]
  },
  {
   "cell_type": "code",
   "execution_count": 5,
   "metadata": {},
   "outputs": [
    {
     "output_type": "stream",
     "name": "stdout",
     "text": [
      "<class 'list'>\n"
     ]
    }
   ],
   "source": [
    "b,*a = 1,2,4,5,6\n",
    "print(type(a))"
   ]
  },
  {
   "cell_type": "code",
   "execution_count": 8,
   "metadata": {},
   "outputs": [
    {
     "output_type": "error",
     "ename": "TypeError",
     "evalue": "func1() missing 1 required keyword-only argument: 'd'",
     "traceback": [
      "\u001b[1;31m---------------------------------------------------------------------------\u001b[0m",
      "\u001b[1;31mTypeError\u001b[0m                                 Traceback (most recent call last)",
      "\u001b[1;32m<ipython-input-8-94558f2da4f4>\u001b[0m in \u001b[0;36m<module>\u001b[1;34m\u001b[0m\n\u001b[0;32m      2\u001b[0m \u001b[1;32mdef\u001b[0m \u001b[0mfunc1\u001b[0m\u001b[1;33m(\u001b[0m\u001b[0ma\u001b[0m\u001b[1;33m,\u001b[0m\u001b[0mb\u001b[0m\u001b[1;33m,\u001b[0m\u001b[1;33m*\u001b[0m\u001b[0margs\u001b[0m\u001b[1;33m,\u001b[0m\u001b[0md\u001b[0m\u001b[1;33m)\u001b[0m\u001b[1;33m:\u001b[0m\u001b[1;33m\u001b[0m\u001b[1;33m\u001b[0m\u001b[0m\n\u001b[0;32m      3\u001b[0m     \u001b[0mprint\u001b[0m\u001b[1;33m(\u001b[0m\u001b[0margs\u001b[0m\u001b[1;33m)\u001b[0m\u001b[1;33m\u001b[0m\u001b[1;33m\u001b[0m\u001b[0m\n\u001b[1;32m----> 4\u001b[1;33m \u001b[0mfunc1\u001b[0m\u001b[1;33m(\u001b[0m\u001b[1;36m1\u001b[0m\u001b[1;33m,\u001b[0m\u001b[1;36m2\u001b[0m\u001b[1;33m,\u001b[0m\u001b[1;36m3\u001b[0m\u001b[1;33m,\u001b[0m\u001b[1;36m4\u001b[0m\u001b[1;33m,\u001b[0m\u001b[1;36m5\u001b[0m\u001b[1;33m,\u001b[0m\u001b[1;36m6\u001b[0m\u001b[1;33m)\u001b[0m\u001b[1;33m\u001b[0m\u001b[1;33m\u001b[0m\u001b[0m\n\u001b[0m",
      "\u001b[1;31mTypeError\u001b[0m: func1() missing 1 required keyword-only argument: 'd'"
     ]
    }
   ],
   "source": [
    "# general unpacking as diff from *args\n",
    "# we cannot add more positional arguments after *args.\n",
    "# for this, that arguments must me keyword | named argument.\n",
    "def func1(a,b,*args,d):\n",
    "    print(args)\n",
    "func1(1,2,3,4,5,6)"
   ]
  },
  {
   "cell_type": "code",
   "execution_count": 44,
   "metadata": {},
   "outputs": [
    {
     "output_type": "stream",
     "name": "stdout",
     "text": [
      "(3, 4, 5)\n"
     ]
    }
   ],
   "source": [
    "# general unpacking as diff from *args ----- keyword argument ------\n",
    "# a and d are mandatory argument\n",
    "# args is optional\n",
    "# b is optional\n",
    "def func1(a,b=1,*args,d=10):\n",
    "    print(args)\n",
    "func1(1,2,3,4,5,d=6)"
   ]
  },
  {
   "cell_type": "code",
   "execution_count": 43,
   "metadata": {},
   "outputs": [
    {
     "output_type": "stream",
     "name": "stdout",
     "text": [
      "1 4 3 ('x', 'y', 'z')\n1 2 3 ()\n1 ('x', 'y', 'z', 2, 4) 22 3 5\n"
     ]
    }
   ],
   "source": [
    "def fun(a,b=2,c=3,*args):\n",
    "    print(a,b,c,args)\n",
    "\n",
    "fun(1,4,3,'x','y','z')\n",
    "fun(1)\n",
    "# fun(1,c=33,'x','y','z')\n",
    "# cannot use default value here. to use default value the function must be like.\n",
    "def func(a,*args,b=22,c=3,d):\n",
    "    print(a,args,b,c,d)\n",
    "\n",
    "func(1,'x','y','z',2,4,d=5)"
   ]
  },
  {
   "cell_type": "code",
   "execution_count": 5,
   "metadata": {},
   "outputs": [],
   "source": [
    "def cheeseshop(kind, *argsss, **kwargsss):\n",
    "    print(\"-- Do you have any\", kind, \"?\")\n",
    "    print(\"-- I'm sorry, we're all out of\", kind)\n",
    "    for arg in argsss:\n",
    "        print(arg)\n",
    "    print(\"-\" * 40)\n",
    "    for kw in kwargsss:\n",
    "        print(kw, \":\", kwargsss[kw])"
   ]
  },
  {
   "cell_type": "code",
   "execution_count": 48,
   "metadata": {},
   "outputs": [
    {
     "output_type": "stream",
     "name": "stdout",
     "text": [
      "1 2 ('x', 'y', 'z') 1 2 {'x': 10, 'y': 20}\n1 2 ('x', 'y', 'z') 10 20 {'x': 10, 'y': 20}\n"
     ]
    }
   ],
   "source": [
    "def func(a,b,*args,c=1,d=2,**kwargs):\n",
    "    # no parameter can come after **kwargs.\n",
    "    print(a,b,args,c,d,kwargs)\n",
    "\n",
    "func(1,2,'x','y','z',x = 10,y=20)\n",
    "func(1,2,'x','y','z',c =10,d=20,x = 10,y=20)"
   ]
  },
  {
   "cell_type": "code",
   "execution_count": 6,
   "metadata": {},
   "outputs": [
    {
     "output_type": "stream",
     "name": "stdout",
     "text": [
      "-- Do you have any rabin ?\n-- I'm sorry, we're all out of rabin\nLimburger\nIt's very runny, sir.\nIt's really very, VERY runny, sir.\n----------------------------------------\nshopkeeper : Michael Palin\nclient : John Cleese\nsketch : Cheese Shop Sketch\n"
     ]
    }
   ],
   "source": [
    "cheeseshop(\"rabin\", \"Limburger\", \"It's very runny, sir.\",\"It's really very, VERY runny, sir.\",\n",
    "           shopkeeper=\"Michael Palin\",\n",
    "           client=\"John Cleese\",\n",
    "           sketch=\"Cheese Shop Sketch\")"
   ]
  },
  {
   "cell_type": "code",
   "execution_count": 10,
   "metadata": {},
   "outputs": [
    {
     "output_type": "stream",
     "name": "stdout",
     "text": [
      "21\n"
     ]
    }
   ],
   "source": [
    "def adderss(**kwargs):\n",
    "    print((kwargs['x']*2)+ (kwargs['y']*5)+(kwargs['z']*3))\n",
    "\n",
    "adderss(x=1,y=2,z=3)"
   ]
  },
  {
   "cell_type": "code",
   "execution_count": 18,
   "metadata": {},
   "outputs": [
    {
     "output_type": "stream",
     "name": "stdout",
     "text": [
      "<class 'dict'>\napple 200\ngrapes 300\nwatermelon 20\n"
     ]
    }
   ],
   "source": [
    "# --------- dictionary unpacking (Keyword Argument) -------------\n",
    "# no parameter can come after **kwargs.\n",
    "\n",
    "def add_to_basket(**kwargs):\n",
    "    print(type(kwargs))\n",
    "    if kwargs is not None:\n",
    "        for key, value in kwargs.items():\n",
    "            print(key, value)\n",
    "\n",
    "# add_to_basket(apple=100, grapes=200, orange=20)\n",
    "\n",
    "price_of_food = {\n",
    "    'apple': 200,\n",
    "    'grapes': 300,\n",
    "    'watermelon': 20\n",
    "}\n",
    "\n",
    "add_to_basket(**price_of_food)\n",
    "\n"
   ]
  },
  {
   "cell_type": "code",
   "execution_count": 19,
   "metadata": {},
   "outputs": [
    {
     "output_type": "stream",
     "name": "stdout",
     "text": [
      "1\n2\n4\n{'x': 100, 'y': 200}\n"
     ]
    }
   ],
   "source": [
    "def func(a,b,*,d,**kwargs):\n",
    "    print(a)\n",
    "    print(b)\n",
    "    print(d)\n",
    "    print(kwargs)\n",
    "\n",
    "func(1,2,x=100,y=200,d=4)"
   ]
  },
  {
   "source": [
    "## packing and unpacking"
   ],
   "cell_type": "markdown",
   "metadata": {}
  },
  {
   "cell_type": "code",
   "execution_count": 5,
   "metadata": {},
   "outputs": [
    {
     "output_type": "stream",
     "name": "stdout",
     "text": [
      "1 2 3\n"
     ]
    }
   ],
   "source": [
    "a,b,c = [1,2,3,] # list unpacking\n",
    "print(a,b,c)"
   ]
  },
  {
   "cell_type": "code",
   "execution_count": 3,
   "metadata": {},
   "outputs": [
    {
     "output_type": "stream",
     "name": "stdout",
     "text": [
      "10 20 40\n10 {1, 2} ['a', 'b']\n"
     ]
    }
   ],
   "source": [
    "a,b,c = 10,20,40 # tuple unpacking\n",
    "print(a,b,c)\n",
    "a,b,c = 10,{1,2},['a','b']\n",
    "print(a,b,c)"
   ]
  },
  {
   "cell_type": "code",
   "execution_count": 4,
   "metadata": {},
   "outputs": [
    {
     "output_type": "stream",
     "name": "stdout",
     "text": [
      "x y z\n"
     ]
    }
   ],
   "source": [
    "a,b,c = 'xyz' # strings unpacking\n",
    "print(a,b,c)"
   ]
  },
  {
   "cell_type": "code",
   "execution_count": 11,
   "metadata": {},
   "outputs": [
    {
     "output_type": "stream",
     "name": "stdout",
     "text": [
      "20 10\n"
     ]
    }
   ],
   "source": [
    "#swap\n",
    "a,b = 10,20\n",
    "b,a = a,b\n",
    "# python evaluate first in the right and create tuple in the memory\n",
    "# first element of tuple is the address which is what b is pointing to.\n",
    "# second element (a) which is memory address which adress a is pointing to.\n",
    "# then is does the assignment, it doesn't look for the values, it look for the copies of memory address.\n",
    "print(a,b)"
   ]
  },
  {
   "cell_type": "code",
   "execution_count": 1,
   "metadata": {},
   "outputs": [
    {
     "output_type": "stream",
     "name": "stdout",
     "text": [
      "apple\npapaya\norange\nwatermelon\n"
     ]
    }
   ],
   "source": [
    "# unpacking arguments\n",
    "\n",
    "def add_to_food(*args):\n",
    "    if args is not None:\n",
    "        for i in args:\n",
    "            print(i)\n",
    "food = ['apple', 'papaya', 'orange', 'watermelon']\n",
    "add_to_food(*food)"
   ]
  },
  {
   "cell_type": "code",
   "execution_count": 8,
   "metadata": {},
   "outputs": [
    {
     "output_type": "stream",
     "name": "stdout",
     "text": [
      "key1 key2 key3 key4 key5 key6\n1 2 3 4 5 6\n"
     ]
    }
   ],
   "source": [
    "# unpacking set and dictionaries\n",
    "d = {'key1':1,'key2':2,'key3':3,'key4':4,'key5':5,'key6':6} # dictionary is unordered.\n",
    "a,b,c,d,e,f = d\n",
    "print(a,b,c,d,e,f)\n",
    "# here dict is not orderd so, a may not point the first element of the dict.\n",
    "d = {'key1':1,'key2':2,'key3':3,'key4':4,'key5':5,'key6':6}\n",
    "a,b,c,d,e,f = d.values()\n",
    "print(a,b,c,d,e,f)"
   ]
  },
  {
   "cell_type": "code",
   "execution_count": 64,
   "metadata": {},
   "outputs": [
    {
     "output_type": "stream",
     "name": "stdout",
     "text": [
      "a-> a\nb-> b\nc-> d\nd-> e\ne-> f\nf-> c\n"
     ]
    }
   ],
   "source": [
    "# unpacking sets\n",
    "# set -> unordered\n",
    "s = {'a','b','c','d','e','f'}\n",
    "a,b,c,d,e,f = s\n",
    "print('a->',a)\n",
    "print('b->',b)\n",
    "print('c->',c)\n",
    "print('d->',d)\n",
    "print('e->',e)\n",
    "print('f->',f)\n",
    "# here set is not ordered, so, 'c may not point to the third element of set."
   ]
  },
  {
   "source": [
    "# * extended unpacking\n",
    "    - * can be used once in left.\n",
    "    - but, multiple * can be used in left side if next * is inside list/tuple/set\n",
    "        - a,*b,(d,*e) = [1,2,3,[4,5,6]]"
   ],
   "cell_type": "markdown",
   "metadata": {}
  },
  {
   "cell_type": "code",
   "execution_count": 33,
   "metadata": {},
   "outputs": [
    {
     "output_type": "stream",
     "name": "stdout",
     "text": [
      "1 2 6\n<class 'list'> [3, 4, 5]\n"
     ]
    }
   ],
   "source": [
    "# list\n",
    "a,b,*c,d = [1,2,3,4,5,6]\n",
    "print(a,b,d)\n",
    "print(type(c),c) # c is list"
   ]
  },
  {
   "cell_type": "code",
   "execution_count": 34,
   "metadata": {},
   "outputs": [
    {
     "output_type": "stream",
     "name": "stdout",
     "text": [
      "1 6\n<class 'list'> [2, 3, 4, 5]\n"
     ]
    }
   ],
   "source": [
    "# tuple\n",
    "a ,*b,c = 1,2,3,4,5,6\n",
    "print(a,c)\n",
    "print(type(b),b) # b is list"
   ]
  },
  {
   "cell_type": "code",
   "execution_count": 35,
   "metadata": {},
   "outputs": [
    {
     "output_type": "stream",
     "name": "stdout",
     "text": [
      "a f\n<class 'list'> ['b', 'c', 'd', 'e']\n"
     ]
    }
   ],
   "source": [
    "# string\n",
    "a,*b,c = 'abcdef'\n",
    "print(a,c)\n",
    "print(type(b),b) # b is list"
   ]
  },
  {
   "cell_type": "code",
   "execution_count": 38,
   "metadata": {},
   "outputs": [
    {
     "output_type": "stream",
     "name": "stdout",
     "text": [
      "1 6\n<class 'list'> [2, 3, 4, 5]\n"
     ]
    }
   ],
   "source": [
    "# set -> usually it is not done.\n",
    "a,*b,c = {1,2,3,4,5,6}\n",
    "print(a,c)\n",
    "print(type(b),b) # b is list"
   ]
  },
  {
   "cell_type": "code",
   "execution_count": 56,
   "metadata": {},
   "outputs": [
    {
     "output_type": "stream",
     "name": "stdout",
     "text": [
      "{1, 2, 3, 4, 5, 6}\n{1, 2, 3, 4, 5, 6}\n"
     ]
    }
   ],
   "source": [
    "s1 = {1,2,3}\n",
    "s2 = {4,5,6}\n",
    "s3 = s1.union(s2)\n",
    "print(s3)\n",
    "s4 = {*s1,*s2}\n",
    "print(s4)"
   ]
  },
  {
   "cell_type": "code",
   "execution_count": 36,
   "metadata": {},
   "outputs": [
    {
     "output_type": "stream",
     "name": "stdout",
     "text": [
      "[1, 2, 3, 4, 5, 6]\n"
     ]
    }
   ],
   "source": [
    "# same for list , tuple and set\n",
    "l1 = [1,2,3]\n",
    "l2 = [4,5,6]\n",
    "lst = [*l1,*l2]\n",
    "print(lst)"
   ]
  },
  {
   "cell_type": "code",
   "execution_count": 41,
   "metadata": {},
   "outputs": [
    {
     "output_type": "stream",
     "name": "stdout",
     "text": [
      "a b\n<class 'list'> ['c', 'd', 'e']\n"
     ]
    }
   ],
   "source": [
    "# dictionary\n",
    "d = {'a':1,'b':2,'c':3,'d':4,\"e\":5}\n",
    "a,b,*c = d\n",
    "print(a,b)\n",
    "print(type(c),c) # c is list"
   ]
  },
  {
   "cell_type": "code",
   "execution_count": 45,
   "metadata": {},
   "outputs": [
    {
     "output_type": "stream",
     "name": "stdout",
     "text": [
      "{'a', 'd', 'b', 'c', 'e'}\n"
     ]
    }
   ],
   "source": [
    "d1 = {'a':1,'b':2}\n",
    "d2= {'c':3,'d':4,\"e\":5}\n",
    "d3 = {*d1,*d2}\n",
    "print(d3)"
   ]
  },
  {
   "source": [
    "# ** unpacking"
   ],
   "cell_type": "markdown",
   "metadata": {}
  },
  {
   "cell_type": "code",
   "execution_count": 46,
   "metadata": {},
   "outputs": [
    {
     "output_type": "stream",
     "name": "stdout",
     "text": [
      "{'a': 1, 'b': 2, 'c': 3, 'd': 4, 'e': 5}\n{'f': 6, 'c': 3, 'd': 4, 'e': 5}\n"
     ]
    }
   ],
   "source": [
    "d1 = {'a':1,'b':2}\n",
    "d2= {'c':3,'d':4,\"e\":5}\n",
    "d3 = {**d1,**d2}\n",
    "print(d3)\n",
    "d4 = {'f':6,**d2}\n",
    "print(d4)"
   ]
  },
  {
   "source": [
    "# nested unpacking"
   ],
   "cell_type": "markdown",
   "metadata": {}
  },
  {
   "cell_type": "code",
   "execution_count": 50,
   "metadata": {},
   "outputs": [
    {
     "output_type": "stream",
     "name": "stdout",
     "text": [
      "[4, 5, 6]\n[2, 3]\n"
     ]
    }
   ],
   "source": [
    "lst = [1,2,3,[4,5,6]]\n",
    "*a,d = lst\n",
    "print(d)\n",
    "e,*f = a\n",
    "print(f)"
   ]
  },
  {
   "cell_type": "code",
   "execution_count": 51,
   "metadata": {},
   "outputs": [
    {
     "output_type": "stream",
     "name": "stdout",
     "text": [
      "1 2 3 4\n"
     ]
    }
   ],
   "source": [
    "a,b,(c,d) = [1,2,[3,4]]\n",
    "print(a,b,c,d)"
   ]
  },
  {
   "cell_type": "code",
   "execution_count": 52,
   "metadata": {},
   "outputs": [
    {
     "output_type": "stream",
     "name": "stdout",
     "text": [
      "1 [2, 3] x y z\n"
     ]
    }
   ],
   "source": [
    "a,*b,(c,d,e) = [1,2,3,'xyz']\n",
    "print(a,b,c,d,e)"
   ]
  },
  {
   "cell_type": "code",
   "execution_count": 54,
   "metadata": {},
   "outputs": [
    {
     "output_type": "stream",
     "name": "stdout",
     "text": [
      "1 [2, 3] 4 [5, 6]\n"
     ]
    }
   ],
   "source": [
    "a,*b,(c,*d) = [1,2,3,[4,5,6]]\n",
    "print(a,b,c,d)"
   ]
  },
  {
   "source": [
    "![](../../Python_Deep_Dive/Deep_Dive_Part-1/files/args_func.png)"
   ],
   "cell_type": "markdown",
   "metadata": {}
  },
  {
   "source": [
    "* eg:\n",
    "    - def func(a,b=10)\n",
    "    - def func(a, b, *agrs)\n",
    "    - def func(a,b,8args,kw1,kw2=100)\n",
    "    - def func(a,b=10,*,kw1,kw2=100)\n",
    "    - def func(a,b,*args,kw1,kw2=100,**kwargs)\n",
    "    - def func(a,b=10,*,kw1,kw2=100,**kwargs)\n",
    "    - def func(*args)\n",
    "    - def func(**kwargs)\n",
    "    - def func(*args,**kwargs)"
   ],
   "cell_type": "markdown",
   "metadata": {}
  },
  {
   "cell_type": "code",
   "execution_count": 21,
   "metadata": {},
   "outputs": [
    {
     "output_type": "stream",
     "name": "stdout",
     "text": [
      "1-2-3-4\n"
     ]
    }
   ],
   "source": [
    "print(1,2,3,4,sep='-')"
   ]
  },
  {
   "source": [
    "# default parameter problem and solution\n",
    "    - mutable in parameter"
   ],
   "cell_type": "markdown",
   "metadata": {}
  },
  {
   "cell_type": "code",
   "execution_count": 59,
   "metadata": {},
   "outputs": [
    {
     "output_type": "stream",
     "name": "stdout",
     "text": [
      "2021-05-13 05:13:24.669133:message_1\n2021-05-13 05:13:24.669133:message_2\n"
     ]
    }
   ],
   "source": [
    "from datetime import datetime\n",
    "\n",
    "def log(msg,*,dt = datetime.utcnow()):\n",
    "    print(f'{dt}:{msg}')\n",
    "\n",
    "log('message_1')\n",
    "log('message_2')"
   ]
  },
  {
   "cell_type": "code",
   "execution_count": 58,
   "metadata": {},
   "outputs": [
    {
     "output_type": "stream",
     "name": "stdout",
     "text": [
      "2021-05-13 05:13:17.599094:msg_1\n2021-05-13 05:13:17.599094:msg_2\n"
     ]
    }
   ],
   "source": [
    "# the datetime is same because, the dt is defined when the function is defined. so. dt is object which is defined.\n",
    "def log(msg,*,dt = None):\n",
    "    dt = datetime.utcnow()\n",
    "    print(f'{dt}:{msg}')\n",
    "\n",
    "log('msg_1')\n",
    "log('msg_2')\n"
   ]
  },
  {
   "cell_type": "code",
   "execution_count": 60,
   "metadata": {},
   "outputs": [
    {
     "output_type": "execute_result",
     "data": {
      "text/plain": [
       "['apple 2 units', 'banana 3 dozen']"
      ]
     },
     "metadata": {},
     "execution_count": 60
    }
   ],
   "source": [
    "def add_item(name,quantity,unit,grocery_list):\n",
    "    grocery_list.append(f'{name} {quantity} {unit}')\n",
    "    return grocery_list # list is mutable so, return is not required.\n",
    "\n",
    "\n",
    "store1 = []\n",
    "store2 = []\n",
    "\n",
    "add_item('apple',2,'units',store1)\n",
    "add_item('banana',3,'dozen',store1)\n"
   ]
  },
  {
   "cell_type": "code",
   "execution_count": 61,
   "metadata": {},
   "outputs": [
    {
     "output_type": "execute_result",
     "data": {
      "text/plain": [
       "['python 1 unit']"
      ]
     },
     "metadata": {},
     "execution_count": 61
    }
   ],
   "source": [
    "add_item('python',1,'unit',store2)"
   ]
  },
  {
   "cell_type": "code",
   "execution_count": 91,
   "metadata": {},
   "outputs": [],
   "source": [
    "def add_item(name,quantity,unit,grocery_list=[]):\n",
    "    if list.__len__:\n",
    "        print('emty',id(list))\n",
    "    grocery_list.append(f'{name} {quantity} {unit}')\n",
    "    return grocery_list # list is mutable so, return is not required."
   ]
  },
  {
   "cell_type": "code",
   "execution_count": 92,
   "metadata": {},
   "outputs": [
    {
     "output_type": "stream",
     "name": "stdout",
     "text": [
      "emty 140713996684144\nemty 140713996684144\n"
     ]
    },
    {
     "output_type": "execute_result",
     "data": {
      "text/plain": [
       "['banana 3 dozen', 'banana 3 dozen']"
      ]
     },
     "metadata": {},
     "execution_count": 92
    }
   ],
   "source": [
    "store11 = add_item('banana',3,'dozen')\n",
    "add_item('banana',3,'dozen',store11)"
   ]
  },
  {
   "cell_type": "code",
   "execution_count": 93,
   "metadata": {},
   "outputs": [
    {
     "output_type": "stream",
     "name": "stdout",
     "text": [
      "emty 140713996684144\n"
     ]
    }
   ],
   "source": [
    "store22 = add_item('python',3,'dozen')"
   ]
  },
  {
   "cell_type": "code",
   "execution_count": 94,
   "metadata": {},
   "outputs": [
    {
     "output_type": "stream",
     "name": "stdout",
     "text": [
      "['banana 3 dozen', 'banana 3 dozen', 'python 3 dozen']\n['banana 3 dozen', 'banana 3 dozen', 'python 3 dozen']\n"
     ]
    }
   ],
   "source": [
    "print(store11)\n",
    "print(store22)"
   ]
  },
  {
   "cell_type": "code",
   "execution_count": 95,
   "metadata": {},
   "outputs": [],
   "source": [
    "#soln\n",
    "def add_item(name,quantity,unit,grocery_list=None):\n",
    "    if not grocery_list:\n",
    "        grocery_list =[]\n",
    "    grocery_list.append(f'{name} {quantity} {unit}')\n",
    "    return grocery_list # list is mutable so, return is not required."
   ]
  },
  {
   "cell_type": "code",
   "execution_count": 96,
   "metadata": {},
   "outputs": [
    {
     "output_type": "execute_result",
     "data": {
      "text/plain": [
       "['banana 3 dozen', 'apdf 3 dozen']"
      ]
     },
     "metadata": {},
     "execution_count": 96
    }
   ],
   "source": [
    "store11 = add_item('banana',3,'dozen')\n",
    "add_item('apdf',3,'dozen',store11)"
   ]
  },
  {
   "cell_type": "code",
   "execution_count": 97,
   "metadata": {},
   "outputs": [],
   "source": [
    "store22 = add_item('python',3,'dozen')"
   ]
  },
  {
   "cell_type": "code",
   "execution_count": 98,
   "metadata": {},
   "outputs": [
    {
     "output_type": "stream",
     "name": "stdout",
     "text": [
      "['banana 3 dozen', 'apdf 3 dozen']\n['python 3 dozen']\n"
     ]
    }
   ],
   "source": [
    "print(store11)\n",
    "print(store22)"
   ]
  },
  {
   "cell_type": "code",
   "execution_count": null,
   "metadata": {},
   "outputs": [],
   "source": []
  }
 ]
}