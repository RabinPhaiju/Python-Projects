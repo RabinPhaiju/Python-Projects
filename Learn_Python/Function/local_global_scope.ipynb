{
 "metadata": {
  "language_info": {
   "codemirror_mode": {
    "name": "ipython",
    "version": 3
   },
   "file_extension": ".py",
   "mimetype": "text/x-python",
   "name": "python",
   "nbconvert_exporter": "python",
   "pygments_lexer": "ipython3",
   "version": "3.9.1"
  },
  "orig_nbformat": 2,
  "kernelspec": {
   "name": "python391jvsc74a57bd06dbcfa4acfde829108fd9fed7b4c7e3cf5b89483651b78d4b8e08d6c4461514a",
   "display_name": "Python 3.9.1 64-bit ('venv1': venv)"
  }
 },
 "nbformat": 4,
 "nbformat_minor": 2,
 "cells": [
  {
   "source": [
    "# Scope and namespaces\n",
    "- When an object is assigned to a variable\n",
    "    * a = 10 -> that variabe points to same object.\n",
    "    - That object can be accessed using that name in various part of our code.\n",
    "- ## But not just anywhere.\n",
    "    - That variable name and binding only exist in specific parts of our code. (lexical scope)\n",
    "    - These name / binding are stored in namespaces\n",
    "    - Every scope has namespaces"
   ],
   "cell_type": "markdown",
   "metadata": {}
  },
  {
   "source": [
    "## Global Scope\n",
    "- The global scope is essentially the module scope.\n",
    "- It span a single file only.\n",
    "- There are no concept of truely global scope in python, except to the built-in global object:\n",
    "    - True, False, None, dict,list,print\n",
    "- The built-in and global variables can be used anywhere inside our module.\n",
    "\n",
    "### Global scope are nested inside the built-in scope.\n",
    "- If you regerence a variable name inside a scope and python does not find it in that scope's namespace.\n",
    "- It will look it in an exclosing scope's namespace.\n"
   ],
   "cell_type": "markdown",
   "metadata": {}
  },
  {
   "cell_type": "code",
   "execution_count": 2,
   "metadata": {},
   "outputs": [
    {
     "output_type": "stream",
     "name": "stdout",
     "text": [
      "True\n"
     ]
    }
   ],
   "source": [
    "# eg: in module1.py\n",
    "print(True)\n",
    "# Python doesnot find True and print in the current scope.\n",
    "# So, It looks for them in the eclosing scope(buit-in)\n",
    "# Finds them there."
   ]
  },
  {
   "cell_type": "code",
   "execution_count": 3,
   "metadata": {},
   "outputs": [
    {
     "output_type": "error",
     "ename": "NameError",
     "evalue": "name 'a' is not defined",
     "traceback": [
      "\u001b[1;31m---------------------------------------------------------------------------\u001b[0m",
      "\u001b[1;31mNameError\u001b[0m                                 Traceback (most recent call last)",
      "\u001b[1;32m<ipython-input-3-46522eae658d>\u001b[0m in \u001b[0;36m<module>\u001b[1;34m\u001b[0m\n\u001b[0;32m      1\u001b[0m \u001b[1;31m# eg: module2.py\u001b[0m\u001b[1;33m\u001b[0m\u001b[1;33m\u001b[0m\u001b[1;33m\u001b[0m\u001b[0m\n\u001b[1;32m----> 2\u001b[1;33m \u001b[0mprint\u001b[0m\u001b[1;33m(\u001b[0m\u001b[0ma\u001b[0m\u001b[1;33m)\u001b[0m\u001b[1;33m\u001b[0m\u001b[1;33m\u001b[0m\u001b[0m\n\u001b[0m\u001b[0;32m      3\u001b[0m \u001b[1;31m# Python does not find a or print on the current (module/global) scope.\u001b[0m\u001b[1;33m\u001b[0m\u001b[1;33m\u001b[0m\u001b[1;33m\u001b[0m\u001b[0m\n\u001b[0;32m      4\u001b[0m \u001b[1;31m# So,it looks for them in the enclosing scope(built-in)\u001b[0m\u001b[1;33m\u001b[0m\u001b[1;33m\u001b[0m\u001b[1;33m\u001b[0m\u001b[0m\n\u001b[0;32m      5\u001b[0m \u001b[1;31m# Finds print but not a. -> run-time error.\u001b[0m\u001b[1;33m\u001b[0m\u001b[1;33m\u001b[0m\u001b[1;33m\u001b[0m\u001b[0m\n",
      "\u001b[1;31mNameError\u001b[0m: name 'a' is not defined"
     ]
    }
   ],
   "source": [
    "# eg: module2.py\n",
    "print(a)\n",
    "# Python does not find a or print on the current (module/global) scope.\n",
    "# So,it looks for them in the enclosing scope(built-in)\n",
    "# Finds print but not a. -> run-time error."
   ]
  },
  {
   "cell_type": "code",
   "execution_count": 1,
   "metadata": {},
   "outputs": [],
   "source": [
    "# eg: module3.py\n",
    "print = lambda x: 'hello {0}!'.format(x)\n",
    "\n",
    "s = print('world') # python does call built-in print. python use the global print\n",
    "s\n",
    "# Python finds print in the module and Use it.\n",
    "# usually we dont do that beacuse we need print function. ( we can delete that code.)\n",
    "del print"
   ]
  },
  {
   "source": [
    "## Local Scope\n",
    "- When we create functions, we can create variables names inside those functions.\n",
    "- a=10 -> Variable \n",
    "- Variable defined inside a function are assigned to that scope.\n",
    "- When a function is created, new scope is not created.\n",
    "- Every time the function is called, a new scope is created in namespace.\n",
    "- The actual object the varialbe references could be different each time the function is called. That why recursion works."
   ],
   "cell_type": "markdown",
   "metadata": {}
  },
  {
   "source": [
    "a = 10\n",
    "def afun(b):\n",
    "    a = 2\n",
    "    # a,b are available inside this function.\n",
    "    # when python look at the function at COMPILE TIME, python encounter a,b are it makes determination, this func a,b are local variables, it does not create the scope or namespaces. untill call. but it predetermine at compile time , that a,b will be created in local namespaces.\n",
    "    print(a+b)\n",
    "\n",
    "afun(2)\n",
    "# when the function runs, now python create scope, as it running. we have two variables a,b\n",
    "# once the function exist, the scope goes away.\n",
    "afun(3)\n",
    "# python create new scope and create variables a,b in local namespaces. and it binds to the variables.\n",
    "# we have different scope every time a function is called.\n",
    "# scope is not defined when a function is created."
   ],
   "cell_type": "code",
   "metadata": {},
   "execution_count": 1,
   "outputs": [
    {
     "output_type": "stream",
     "name": "stdout",
     "text": [
      "4\n"
     ]
    }
   ]
  },
  {
   "cell_type": "code",
   "execution_count": 2,
   "metadata": {},
   "outputs": [
    {
     "output_type": "stream",
     "name": "stdout",
     "text": [
      "15\n"
     ]
    }
   ],
   "source": [
    "a = 10\n",
    "def afun():\n",
    "    global a\n",
    "    a += 5\n",
    "    # first search in the local then global\n",
    "    # modifying global variables is not good practice.\n",
    "    print(a)\n",
    "\n",
    "afun()"
   ]
  },
  {
   "source": [
    "## Nested Scopes\n",
    "- Scopes are often nested.\n",
    "- python first search in the local scope if not found then, (search in the upper enclosing scopes) in  current module, then built-in names then not find we get error.\n",
    "- When we call the function again we get new local scope for that function.\n",
    "- "
   ],
   "cell_type": "markdown",
   "metadata": {}
  },
  {
   "cell_type": "code",
   "execution_count": 5,
   "metadata": {},
   "outputs": [
    {
     "output_type": "stream",
     "name": "stdout",
     "text": [
      "True\n10\n300\n"
     ]
    }
   ],
   "source": [
    "# eg: module4.py\n",
    "a = 10 # in global scope of module4.py\n",
    "\n",
    "def my_func(b): # will be in global scope.\n",
    "    print(True) # \n",
    "    print(a)    # in local we dont find a, so we will find out in run-time.\n",
    "    print(b)    # b will be in local\n",
    "\n",
    "my_func(300) # local scope is created.\n",
    "# we pass 300 as an arugment to my_func. Now python will assign 300 to b.\n",
    "# it create b and bind 300 to b in local name spaces.\n",
    "# now, we print True, it will go and find in local scope and dont find, and go to up 1 and find in local scope.(same for a)\n",
    "# it find b and print 300\n",
    "\n",
    "# Reference couting...\n",
    "# once the function ends, all the binding go away. local and namespaces are destroyed.\n",
    "# when we call the function if it is not created then created and it refereces increment by 1. But may be already existed then increment by 1. and point arugment to point b."
   ]
  },
  {
   "source": [
    "## Non local scopes.\n",
    "- nested."
   ],
   "cell_type": "markdown",
   "metadata": {}
  },
  {
   "cell_type": "code",
   "execution_count": 6,
   "metadata": {},
   "outputs": [
    {
     "output_type": "stream",
     "name": "stdout",
     "text": [
      "10 20\n"
     ]
    }
   ],
   "source": [
    "b= 20\n",
    "def outer_func(): # in global scope\n",
    "    a=10 # in local(outer_func) scope \n",
    "\n",
    "    def inner_func(): # in local(outer_func) scope\n",
    "        print(a,b) # in local (inner_func) scope\n",
    "        # python will search in local_inner_func and look up  enclpsing scope -> outer_func if not found then look up till global scope to built-in.\n",
    "\n",
    "    inner_func()\n",
    "\n",
    "outer_func() # we call outer_func, inner_func is created and called.\n"
   ]
  },
  {
   "cell_type": "code",
   "execution_count": 10,
   "metadata": {},
   "outputs": [
    {
     "output_type": "stream",
     "name": "stdout",
     "text": [
      "world\n"
     ]
    }
   ],
   "source": [
    "# modifying nonlocal variables.\n",
    "def outer_func():\n",
    "    x = 'hello'\n",
    "\n",
    "    def inner_func():\n",
    "        nonlocal x\n",
    "        # when python is told a variable is nonlocal.\n",
    "        # it will look for it in the enclosing local scopes chain until it first encounters the specified variable name.\n",
    "        # Beware : it will only look in local scopes. it will not look in the global scope.\n",
    "        x ='world'\n",
    "    \n",
    "    inner_func()\n",
    "    print(x)\n",
    "\n",
    "outer_func()"
   ]
  },
  {
   "cell_type": "code",
   "execution_count": 18,
   "metadata": {},
   "outputs": [
    {
     "output_type": "stream",
     "name": "stdout",
     "text": [
      "python\nworld\nhello\n"
     ]
    }
   ],
   "source": [
    "def outer():\n",
    "    x = 'hello'\n",
    "    def inner1():\n",
    "        x = 'python'\n",
    "        def inner2():\n",
    "            nonlocal x # refer to very inner1 eclosing local scope.\n",
    "            x = 'world'\n",
    "        print(x)\n",
    "        inner2()\n",
    "        print(x)\n",
    "    \n",
    "    inner1()\n",
    "    print(x)\n",
    "outer()"
   ]
  },
  {
   "cell_type": "code",
   "execution_count": 19,
   "metadata": {},
   "outputs": [
    {
     "output_type": "stream",
     "name": "stdout",
     "text": [
      "python\nworld\nworld\n"
     ]
    }
   ],
   "source": [
    "def outer():\n",
    "    x = 'hello'\n",
    "    def inner1():\n",
    "        nonlocal x # refer to outer local scope.\n",
    "        x = 'python'\n",
    "        def inner2():\n",
    "            nonlocal x # refer to inner1 local scope.\n",
    "            x = 'world'\n",
    "        print(x) # python\n",
    "        inner2() # change to 'world'\n",
    "        print(x) # world\n",
    "    \n",
    "    inner1()\n",
    "    print(x) # world\n",
    "outer()"
   ]
  },
  {
   "cell_type": "code",
   "execution_count": 20,
   "metadata": {},
   "outputs": [
    {
     "output_type": "stream",
     "name": "stdout",
     "text": [
      "python\npython\npython\nworld\n"
     ]
    }
   ],
   "source": [
    "x = 100\n",
    "def outer():\n",
    "    x = 'hello'\n",
    "    def inner1():\n",
    "        nonlocal x # refer to outer local scope.\n",
    "        x = 'python'\n",
    "        def inner2():\n",
    "            global x # refer to module local scope.\n",
    "            x = 'world'\n",
    "        print(x) # python\n",
    "        inner2() # change to 'world'\n",
    "        print(x) # python\n",
    "    \n",
    "    inner1()\n",
    "    print(x) # python\n",
    "outer()\n",
    "print(x) # world"
   ]
  }
 ]
}