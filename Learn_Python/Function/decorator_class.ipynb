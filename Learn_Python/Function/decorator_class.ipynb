{
 "metadata": {
  "language_info": {
   "codemirror_mode": {
    "name": "ipython",
    "version": 3
   },
   "file_extension": ".py",
   "mimetype": "text/x-python",
   "name": "python",
   "nbconvert_exporter": "python",
   "pygments_lexer": "ipython3",
   "version": "3.9.1"
  },
  "orig_nbformat": 2,
  "kernelspec": {
   "name": "python391jvsc74a57bd06dbcfa4acfde829108fd9fed7b4c7e3cf5b89483651b78d4b8e08d6c4461514a",
   "display_name": "Python 3.9.1 64-bit ('venv1')"
  }
 },
 "nbformat": 4,
 "nbformat_minor": 2,
 "cells": [
  {
   "source": [
    "# Decorating Classes"
   ],
   "cell_type": "markdown",
   "metadata": {}
  },
  {
   "cell_type": "code",
   "execution_count": 1,
   "metadata": {},
   "outputs": [
    {
     "output_type": "execute_result",
     "data": {
      "text/plain": [
       "3"
      ]
     },
     "metadata": {},
     "execution_count": 1
    }
   ],
   "source": [
    "from fractions import Fraction\n",
    "f = Fraction(2,3)\n",
    "f.denominator"
   ]
  },
  {
   "cell_type": "code",
   "execution_count": 2,
   "metadata": {},
   "outputs": [
    {
     "output_type": "error",
     "ename": "AttributeError",
     "evalue": "'Fraction' object has no attribute 'speak'",
     "traceback": [
      "\u001b[1;31m---------------------------------------------------------------------------\u001b[0m",
      "\u001b[1;31mAttributeError\u001b[0m                            Traceback (most recent call last)",
      "\u001b[1;32m<ipython-input-2-592cdbdefb73>\u001b[0m in \u001b[0;36m<module>\u001b[1;34m\u001b[0m\n\u001b[1;32m----> 1\u001b[1;33m \u001b[0mf\u001b[0m\u001b[1;33m.\u001b[0m\u001b[0mspeak\u001b[0m\u001b[1;33m\u001b[0m\u001b[1;33m\u001b[0m\u001b[0m\n\u001b[0m",
      "\u001b[1;31mAttributeError\u001b[0m: 'Fraction' object has no attribute 'speak'"
     ]
    }
   ],
   "source": [
    "f.speak('hello')"
   ]
  },
  {
   "cell_type": "code",
   "execution_count": 14,
   "metadata": {},
   "outputs": [
    {
     "output_type": "stream",
     "name": "stdout",
     "text": [
      "Fraction says hello\n"
     ]
    },
    {
     "output_type": "execute_result",
     "data": {
      "text/plain": [
       "'Fraction says hello world'"
      ]
     },
     "metadata": {},
     "execution_count": 14
    }
   ],
   "source": [
    "Fraction.speak = lambda self,message:f'Fraction says {message}'\n",
    "\n",
    "print(f.speak('hello'))\n",
    "f2 = Fraction(3,4)\n",
    "f2.speak('hello world')\n",
    "# add attribute dynamically at run-time.\n",
    "# monkey patching."
   ]
  },
  {
   "cell_type": "code",
   "execution_count": 11,
   "metadata": {},
   "outputs": [
    {
     "output_type": "stream",
     "name": "stdout",
     "text": [
      "False\nTrue\n"
     ]
    }
   ],
   "source": [
    "# we can add atrribute in a class\n",
    "Fraction.is_integral = lambda self:self.denominator ==1\n",
    "\n",
    "f1 = Fraction(2,3)\n",
    "f2 = Fraction(8,1)\n",
    "\n",
    "print(f1.is_integral())\n",
    "print(f2.is_integral())"
   ]
  },
  {
   "cell_type": "code",
   "execution_count": 21,
   "metadata": {},
   "outputs": [
    {
     "output_type": "stream",
     "name": "stdout",
     "text": [
      "Fraction says jello\n"
     ]
    },
    {
     "output_type": "execute_result",
     "data": {
      "text/plain": [
       "'Person says i am a class'"
      ]
     },
     "metadata": {},
     "execution_count": 21
    }
   ],
   "source": [
    "# we can add atrribute in a class using function / as decorator\n",
    "def dec_speak(cls):\n",
    "    cls.speak = lambda self,message:f'{self.__class__.__name__} says {message}'\n",
    "    return cls\n",
    "\n",
    "Fraction = dec_speak(Fraction)\n",
    "f1 = Fraction(2,3)\n",
    "print(f1.speak('jello'))\n",
    "\n",
    "class Person:\n",
    "    pass\n",
    "\n",
    "Person = dec_speak(Person)\n",
    "p = Person()\n",
    "p.speak('i am a class')"
   ]
  },
  {
   "source": [
    "# Example 0"
   ],
   "cell_type": "markdown",
   "metadata": {}
  },
  {
   "cell_type": "code",
   "execution_count": 1,
   "metadata": {},
   "outputs": [
    {
     "output_type": "stream",
     "name": "stdout",
     "text": [
      "decorated function called 10 20\nHello World\n"
     ]
    }
   ],
   "source": [
    "def my_dec(a,b):\n",
    "    def dec(fn):\n",
    "        def inner(*args,**kwargs):\n",
    "            print(f'decorated function called {a} {b}')\n",
    "            return fn(*args,**kwargs)\n",
    "        return inner\n",
    "    return dec\n",
    "\n",
    "\n",
    "@my_dec(10,20) # this is decorator factory.\n",
    "def my_func(s):\n",
    "    print('Hello',s)\n",
    "\n",
    "my_func('World')"
   ]
  },
  {
   "cell_type": "code",
   "execution_count": 4,
   "metadata": {},
   "outputs": [
    {
     "output_type": "stream",
     "name": "stdout",
     "text": [
      "decorated function called 10 20\nHello World\n"
     ]
    }
   ],
   "source": [
    "class MyClass: # factory\n",
    "    def __init__(self,a,b):\n",
    "        self.a = a\n",
    "        self.b = b\n",
    "    \n",
    "    def __call__(self,fn): # decorator\n",
    "        def inner(*args,**kwargs):\n",
    "            print(f'decorated function called {self.a} {self.b}')\n",
    "            return fn(*args,**kwargs)\n",
    "        return inner\n",
    "\n",
    "@MyClass(10,20)\n",
    "def my_func(s):\n",
    "    print('Hello',s)\n",
    "\n",
    "my_func(\"World\")"
   ]
  },
  {
   "cell_type": "code",
   "execution_count": 3,
   "metadata": {},
   "outputs": [
    {
     "output_type": "stream",
     "name": "stdout",
     "text": [
      "decorated function called 11 22\ndecorated function called 10 20\nHello World!\n"
     ]
    }
   ],
   "source": [
    "obj = MyClass(11,22)\n",
    "my_func = obj(my_func)\n",
    "my_func('World!')"
   ]
  },
  {
   "source": [
    "# Example 1"
   ],
   "cell_type": "markdown",
   "metadata": {}
  },
  {
   "cell_type": "code",
   "execution_count": 34,
   "metadata": {},
   "outputs": [
    {
     "output_type": "execute_result",
     "data": {
      "text/plain": [
       "['time: 2021-06-03 04:27:17.311628+00:00',\n",
       " 'Class: Person',\n",
       " 'id: 0x24dc168b490',\n",
       " 'name:rabin',\n",
       " 'dob:94']"
      ]
     },
     "metadata": {},
     "execution_count": 34
    }
   ],
   "source": [
    "from datetime import datetime,timezone\n",
    "\n",
    "def info(self):\n",
    "        results = []\n",
    "        results.append(f'time: {datetime.now(timezone.utc)}')\n",
    "        results.append(f'Class: {self.__class__.__name__}')\n",
    "        results.append(f'id: {hex(id(self))}')\n",
    "        for k,v in vars(self).items():\n",
    "            results.append(f'{k}:{v}')\n",
    "        return results\n",
    "\n",
    "\n",
    "def debug_info(cls):\n",
    "    cls.debug = info\n",
    "    return cls\n",
    "\n",
    "\n",
    "@debug_info\n",
    "class Person:\n",
    "    def __init__(self,name,dob):\n",
    "        self.name = name\n",
    "        self.dob = dob\n",
    "    \n",
    "    def say_hi(self):\n",
    "        return 'Hello there'\n",
    "    \n",
    "p = Person('rabin',94)\n",
    "p.debug()"
   ]
  },
  {
   "cell_type": "code",
   "execution_count": 43,
   "metadata": {},
   "outputs": [
    {
     "output_type": "execute_result",
     "data": {
      "text/plain": [
       "['time: 2021-06-03 04:32:52.960635+00:00',\n",
       " 'Class: Automobile',\n",
       " 'id: 0x24dc1756160',\n",
       " 'make:Ford',\n",
       " 'model:Model T',\n",
       " 'year:1908',\n",
       " 'top_speed:45',\n",
       " '_speed:0']"
      ]
     },
     "metadata": {},
     "execution_count": 43
    }
   ],
   "source": [
    "@debug_info\n",
    "class Automobile:\n",
    "    def __init__(self,make,model,year,top_speed):\n",
    "        self.make = make\n",
    "        self.model = model\n",
    "        self.year = year\n",
    "        self.top_speed = top_speed\n",
    "        self._speed = 0\n",
    "    \n",
    "    @property\n",
    "    def speed(self):\n",
    "        return self._speed\n",
    "    \n",
    "    @speed.setter\n",
    "    def speed(self,new_speed):\n",
    "        if new_speed>self.top_speed:\n",
    "            raise ValueError('speed cannot exceed top_speed')\n",
    "        else:\n",
    "            self._speed = new_speed\n",
    "\n",
    "\n",
    "\n",
    "favorite = Automobile('Ford','Model T',1908,45)\n",
    "favorite.debug()"
   ]
  },
  {
   "cell_type": "code",
   "execution_count": 44,
   "metadata": {},
   "outputs": [
    {
     "output_type": "error",
     "ename": "ValueError",
     "evalue": "speed cannot exceed top_speed",
     "traceback": [
      "\u001b[1;31m---------------------------------------------------------------------------\u001b[0m",
      "\u001b[1;31mValueError\u001b[0m                                Traceback (most recent call last)",
      "\u001b[1;32m<ipython-input-44-3878552ac3eb>\u001b[0m in \u001b[0;36m<module>\u001b[1;34m\u001b[0m\n\u001b[1;32m----> 1\u001b[1;33m \u001b[0mfavorite\u001b[0m\u001b[1;33m.\u001b[0m\u001b[0mspeed\u001b[0m \u001b[1;33m=\u001b[0m \u001b[1;36m89\u001b[0m\u001b[1;33m\u001b[0m\u001b[1;33m\u001b[0m\u001b[0m\n\u001b[0m",
      "\u001b[1;32m<ipython-input-43-bb04c1775df5>\u001b[0m in \u001b[0;36mspeed\u001b[1;34m(self, new_speed)\u001b[0m\n\u001b[0;32m     15\u001b[0m     \u001b[1;32mdef\u001b[0m \u001b[0mspeed\u001b[0m\u001b[1;33m(\u001b[0m\u001b[0mself\u001b[0m\u001b[1;33m,\u001b[0m\u001b[0mnew_speed\u001b[0m\u001b[1;33m)\u001b[0m\u001b[1;33m:\u001b[0m\u001b[1;33m\u001b[0m\u001b[1;33m\u001b[0m\u001b[0m\n\u001b[0;32m     16\u001b[0m         \u001b[1;32mif\u001b[0m \u001b[0mnew_speed\u001b[0m\u001b[1;33m>\u001b[0m\u001b[0mself\u001b[0m\u001b[1;33m.\u001b[0m\u001b[0mtop_speed\u001b[0m\u001b[1;33m:\u001b[0m\u001b[1;33m\u001b[0m\u001b[1;33m\u001b[0m\u001b[0m\n\u001b[1;32m---> 17\u001b[1;33m             \u001b[1;32mraise\u001b[0m \u001b[0mValueError\u001b[0m\u001b[1;33m(\u001b[0m\u001b[1;34m'speed cannot exceed top_speed'\u001b[0m\u001b[1;33m)\u001b[0m\u001b[1;33m\u001b[0m\u001b[1;33m\u001b[0m\u001b[0m\n\u001b[0m\u001b[0;32m     18\u001b[0m         \u001b[1;32melse\u001b[0m\u001b[1;33m:\u001b[0m\u001b[1;33m\u001b[0m\u001b[1;33m\u001b[0m\u001b[0m\n\u001b[0;32m     19\u001b[0m             \u001b[0mself\u001b[0m\u001b[1;33m.\u001b[0m\u001b[0m_speed\u001b[0m \u001b[1;33m=\u001b[0m \u001b[0mnew_speed\u001b[0m\u001b[1;33m\u001b[0m\u001b[1;33m\u001b[0m\u001b[0m\n",
      "\u001b[1;31mValueError\u001b[0m: speed cannot exceed top_speed"
     ]
    }
   ],
   "source": [
    "favorite.speed = 89"
   ]
  },
  {
   "cell_type": "code",
   "execution_count": 45,
   "metadata": {},
   "outputs": [
    {
     "output_type": "execute_result",
     "data": {
      "text/plain": [
       "['time: 2021-06-03 04:33:39.503594+00:00',\n",
       " 'Class: Automobile',\n",
       " 'id: 0x24dc1756160',\n",
       " 'make:Ford',\n",
       " 'model:Model T',\n",
       " 'year:1908',\n",
       " 'top_speed:45',\n",
       " '_speed:40']"
      ]
     },
     "metadata": {},
     "execution_count": 45
    }
   ],
   "source": [
    "favorite.speed = 40\n",
    "favorite.debug()"
   ]
  },
  {
   "source": [
    "# Example 2"
   ],
   "cell_type": "markdown",
   "metadata": {}
  },
  {
   "cell_type": "code",
   "execution_count": 99,
   "metadata": {},
   "outputs": [],
   "source": [
    "\n",
    "def complete_ordering(cls): # this is not the good idea. we can improve this.\n",
    "    if '__eq__' in dir(cls) and '__lt__' in dir(cls):\n",
    "        cls.__le__ = lambda self,other: self < other or self == other\n",
    "        cls.__gt__ = lambda self,other: not(self < other) and not(self == other)\n",
    "        cls.__ne__ = lambda self,other: not(self == other)\n",
    "    return cls"
   ]
  },
  {
   "cell_type": "code",
   "execution_count": 103,
   "metadata": {},
   "outputs": [],
   "source": [
    "from math import sqrt\n",
    "from functools import total_ordering\n",
    "\n",
    "# @complete_ordering # it can be used but in python we already have better one.\n",
    "@total_ordering # it just need is __eq__ and (__lt__ or __gt__)\n",
    "class Point:\n",
    "    def __init__(self,x,y):\n",
    "        self.x = x\n",
    "        self.y = y\n",
    "    \n",
    "    def __abs__(self):\n",
    "        return sqrt(self.x**2 + self.y**2)\n",
    "    \n",
    "    def __eq__(self,other):\n",
    "        if isinstance(other,Point):\n",
    "            return (self.x ==other.x and self.y == other.y)\n",
    "        else:\n",
    "            return False\n",
    "\n",
    "    def __lt__(self,other):\n",
    "        if isinstance(other,Point):\n",
    "            return abs(self)<abs(other)\n",
    "        else:\n",
    "            return NotImplemented\n",
    "    \n",
    "    def __repr__(self):\n",
    "        return f'Point({self.x},{self.y})'\n",
    "    \n",
    "    # def __le__(self,other):\n",
    "    # def __gt__(self,other):\n",
    "    # def __ge__(self,other):\n",
    "    # def __ne__(self,other):\n",
    "    ##### we need to create the following methods. BUTTT we can use DECORATOR. so that every class can use it. by using equal and less_than.\n",
    "    # a<=b iff a<b or a==b\n",
    "    # a>b iff not(a<b) and a!=b\n",
    "    # a>=b iff not (a<b)\n",
    "    \n",
    "\n",
    "p1,p2,p3 = Point(2,3),Point(2,3),Point(0,0)"
   ]
  },
  {
   "cell_type": "code",
   "execution_count": 104,
   "metadata": {},
   "outputs": [
    {
     "output_type": "stream",
     "name": "stdout",
     "text": [
      "3.605551275463989\nFalse\nTrue\nTrue\nTrue\n"
     ]
    }
   ],
   "source": [
    "print(abs(p1))\n",
    "print(p1 is p2)\n",
    "print(p1 == p2)\n",
    "print(p3<p1)\n",
    "print(p1>p3) # even if we have not implemented greater_then, python will look for if there is less_then python handle it."
   ]
  },
  {
   "cell_type": "code",
   "execution_count": 105,
   "metadata": {},
   "outputs": [
    {
     "output_type": "stream",
     "name": "stdout",
     "text": [
      "True\nTrue\nFalse\n"
     ]
    }
   ],
   "source": [
    "print(p1>=p2)\n",
    "print(p2<=p1)\n",
    "print(p1!=p2)"
   ]
  }
 ]
}