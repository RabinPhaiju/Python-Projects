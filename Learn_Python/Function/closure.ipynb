{
 "metadata": {
  "language_info": {
   "codemirror_mode": {
    "name": "ipython",
    "version": 3
   },
   "file_extension": ".py",
   "mimetype": "text/x-python",
   "name": "python",
   "nbconvert_exporter": "python",
   "pygments_lexer": "ipython3",
   "version": "3.9.1"
  },
  "orig_nbformat": 2,
  "kernelspec": {
   "name": "python391jvsc74a57bd06dbcfa4acfde829108fd9fed7b4c7e3cf5b89483651b78d4b8e08d6c4461514a",
   "display_name": "Python 3.9.1 64-bit ('venv1': venv)"
  }
 },
 "nbformat": 4,
 "nbformat_minor": 2,
 "cells": [
  {
   "source": [
    "# Closures and Free Variables\n",
    "- closure is as a function plus an extended scope that contains a free Variables.\n",
    "- The free variable's value in the object/cell points to-so that could change over time.\n",
    "- Every time the function in the closure is called and the free variable is referenced, python looks up the cell object, and then whatever the cell is pointing to.."
   ],
   "cell_type": "markdown",
   "metadata": {}
  },
  {
   "cell_type": "code",
   "execution_count": 72,
   "metadata": {},
   "outputs": [
    {
     "output_type": "stream",
     "name": "stdout",
     "text": [
      "hello 8 times\n"
     ]
    }
   ],
   "source": [
    "# hoc\n",
    "def outer(word):\n",
    "\n",
    "\n",
    "    times = 8\n",
    "    def inner():\n",
    "        print(word,times,'times')\n",
    "        # times refers to the outer scope. the non-local variable times is called free variable.\n",
    "\n",
    "\n",
    "    return inner # when we consider inner_func , we really look at: inner_func and the free variable word. they have to be bound together, called closure.\n",
    "\n",
    "\n",
    "f = outer('hello')\n",
    "# when we return inner, we are actually returning the closure.\n",
    "f() # when we call f(), python determined the value of x in the extended scope.\n",
    "# But, outer had finished running before we called f(), it's scope was gone. that because of scope.\n"
   ]
  },
  {
   "source": [
    "## Python cells and multi-scoped variables."
   ],
   "cell_type": "markdown",
   "metadata": {}
  },
  {
   "cell_type": "code",
   "execution_count": 73,
   "metadata": {},
   "outputs": [
    {
     "output_type": "stream",
     "name": "stdout",
     "text": [
      "python\n"
     ]
    }
   ],
   "source": [
    "def outer():\n",
    "    x = 'python' # here the value of x is shared between two scopes -> outer and closure.\n",
    "    def inner():\n",
    "        print(x)\n",
    "    return inner # the label x is in two different scopes, but always reference the same 'value'\n",
    "\n",
    "fn = outer()\n",
    "fn()\n",
    "# python does this by creating a cell as an intermediary object/cell."
   ]
  },
  {
   "source": [
    "- a cell in memory address point to another memory containing str 'python'\n",
    "- the cell is pointed by variable x from outer function as well as pointed by variable x from inner function.\n",
    "- There is nothing new, this is same as non-local variables.\n",
    "##\n",
    "- in effect, both variables x (in outer and inner), point to the same cell.\n",
    "- When requesting the value of the variable, python will, \"double-hop\" to get the final value.\n",
    "- When we call the returned function from closure. it get track or remember the cell. which is not yet garbage collected."
   ],
   "cell_type": "markdown",
   "metadata": {}
  },
  {
   "source": [
    "![](files/closure.png)"
   ],
   "cell_type": "markdown",
   "metadata": {}
  },
  {
   "source": [
    "## introspection"
   ],
   "cell_type": "markdown",
   "metadata": {}
  },
  {
   "cell_type": "code",
   "execution_count": 74,
   "metadata": {},
   "outputs": [
    {
     "output_type": "stream",
     "name": "stdout",
     "text": [
      "python rocks!\n"
     ]
    }
   ],
   "source": [
    "def outer():\n",
    "    a = 100\n",
    "    x = 'python'\n",
    "    def inner():\n",
    "        a = 10 #local variable\n",
    "        print(f'{x} rocks!')\n",
    "    return inner\n",
    "\n",
    "fn = outer()\n",
    "fn()"
   ]
  },
  {
   "cell_type": "code",
   "execution_count": 75,
   "metadata": {},
   "outputs": [
    {
     "output_type": "execute_result",
     "data": {
      "text/plain": [
       "('x',)"
      ]
     },
     "metadata": {},
     "execution_count": 75
    }
   ],
   "source": [
    "fn.__code__.co_freevars"
   ]
  },
  {
   "cell_type": "code",
   "execution_count": 76,
   "metadata": {},
   "outputs": [
    {
     "output_type": "execute_result",
     "data": {
      "text/plain": [
       "(<cell at 0x000001F6370EC610: str object at 0x000001F6333EE4B0>,)"
      ]
     },
     "metadata": {},
     "execution_count": 76
    }
   ],
   "source": [
    "fn.__closure__ # cell at address point to str object to another address."
   ]
  },
  {
   "source": [
    "## Modifying free variables."
   ],
   "cell_type": "markdown",
   "metadata": {}
  },
  {
   "cell_type": "code",
   "execution_count": 77,
   "metadata": {},
   "outputs": [
    {
     "output_type": "stream",
     "name": "stdout",
     "text": [
      "1\n"
     ]
    },
    {
     "output_type": "execute_result",
     "data": {
      "text/plain": [
       "2"
      ]
     },
     "metadata": {},
     "execution_count": 77
    }
   ],
   "source": [
    "def counter():\n",
    "\n",
    "\n",
    "    count = 0\n",
    "    def inc():\n",
    "        nonlocal count\n",
    "        count +=1\n",
    "        return count\n",
    "    \n",
    "\n",
    "    return inc\n",
    "\n",
    "\n",
    "fn = counter()\n",
    "print(fn()) # count's reference changed from the object 0 to the object 1\n",
    "fn()"
   ]
  },
  {
   "source": [
    "## Multiple instances of closures\n",
    "- every time a function is called, a new scope is created.\n",
    "- same as, if that function generates a closures, a new closures is created every time as well."
   ],
   "cell_type": "markdown",
   "metadata": {}
  },
  {
   "cell_type": "code",
   "execution_count": 78,
   "metadata": {},
   "outputs": [
    {
     "output_type": "stream",
     "name": "stdout",
     "text": [
      "(<cell at 0x000001F636B3F4C0: int object at 0x000001F630C56910>,)\n(<cell at 0x000001F636B224F0: int object at 0x000001F630C56910>,)\n"
     ]
    }
   ],
   "source": [
    "def counter():\n",
    "\n",
    "\n",
    "    count = 0\n",
    "    def inc():\n",
    "        nonlocal count\n",
    "        count +=1\n",
    "        return count\n",
    "    \n",
    "\n",
    "    return inc\n",
    "\n",
    "\n",
    "fn1 = counter()\n",
    "fn2 = counter()\n",
    "# fn1()\n",
    "print(fn1.__closure__)\n",
    "print(fn2.__closure__)"
   ]
  },
  {
   "cell_type": "code",
   "execution_count": 79,
   "metadata": {},
   "outputs": [],
   "source": [
    "# The cells are different."
   ]
  },
  {
   "source": [
    "## Shared Extended Scopes"
   ],
   "cell_type": "markdown",
   "metadata": {}
  },
  {
   "cell_type": "code",
   "execution_count": 80,
   "metadata": {},
   "outputs": [
    {
     "output_type": "stream",
     "name": "stdout",
     "text": [
      "1\n2\n3\n(<cell at 0x000001F636EECA60: int object at 0x000001F630C56970>,)\n(<cell at 0x000001F636EECA60: int object at 0x000001F630C56970>,)\n"
     ]
    }
   ],
   "source": [
    "def outer():\n",
    "    count = 0\n",
    "\n",
    "    def inc1():\n",
    "        nonlocal count # count is free variable-bound to count in the extended scope.\n",
    "        count +=1\n",
    "        return count\n",
    "    \n",
    "    def inc2():\n",
    "        nonlocal count # count is free variable-bound to the same count.\n",
    "        count +=1\n",
    "        return count\n",
    "    \n",
    "    return inc1,inc2\n",
    "\n",
    "f1,f2 = outer()\n",
    "\n",
    "print(f1())\n",
    "print(f1())\n",
    "print(f2())\n",
    "\n",
    "print(f1.__closure__)\n",
    "print(f2.__closure__)"
   ]
  },
  {
   "cell_type": "code",
   "execution_count": 81,
   "metadata": {},
   "outputs": [
    {
     "output_type": "stream",
     "name": "stdout",
     "text": [
      "11\n12\n13\n"
     ]
    }
   ],
   "source": [
    "# we might think shared extended scope is hightly unusual, but it's not.\n",
    "\n",
    "def adder(n):\n",
    "    def inner(x):\n",
    "        return x + n\n",
    "    \n",
    "    return inner\n",
    "\n",
    "add_1 = adder(1) # three diff closures, no shared scopes.\n",
    "add_2 = adder(2)\n",
    "add_3 = adder(3)\n",
    "\n",
    "print(add_1(10))\n",
    "print(add_2(10))\n",
    "print(add_3(10))"
   ]
  },
  {
   "cell_type": "code",
   "execution_count": 82,
   "metadata": {},
   "outputs": [
    {
     "output_type": "stream",
     "name": "stdout",
     "text": [
      "13\n13\n13\n"
     ]
    }
   ],
   "source": [
    "# a function is a function.\n",
    "# a function become closure if it contain free-variables.\n",
    "# lamda is not-necessary to be a closure and vice-versa.\n",
    "# just closure have a extended scope.\n",
    "# eg:\n",
    "adders = []\n",
    "for n in range(1,4):\n",
    "    adders.append(lambda x:x+n) # n is free variables so, it becomes now closures.\n",
    "    # n =1: the free variable in the lamda is n, add it is bound to the n we created in the loop.\n",
    "    # n =2: the free variable in the lamda is n, add it is bound to the (same) n we created in the loop.\n",
    "    # n =3: the free variable in the lamda is n, add it is bound to the (same) n we created in the loop.\n",
    "    # point/bound to the same cell, and the cell point to the n.\n",
    "\n",
    "print(adders[0](10)) # the n is evaluated when adders[0] is called.\n",
    "print(adders[1](10))\n",
    "print(adders[2](10))"
   ]
  },
  {
   "source": [
    "## Nested Closure"
   ],
   "cell_type": "markdown",
   "metadata": {}
  },
  {
   "cell_type": "code",
   "execution_count": 83,
   "metadata": {},
   "outputs": [
    {
     "output_type": "stream",
     "name": "stdout",
     "text": [
      "('n',)\n('current', 'n')\n"
     ]
    },
    {
     "output_type": "execute_result",
     "data": {
      "text/plain": [
       "102"
      ]
     },
     "metadata": {},
     "execution_count": 83
    }
   ],
   "source": [
    "def increment(n):\n",
    "    # inner and n is closure\n",
    "    def inner(start):\n",
    "        current = start\n",
    "        # inc , current , n is a closure\n",
    "\n",
    "        def inc():\n",
    "            nonlocal current # free variable.\n",
    "            current +=n # non local so, free variable.\n",
    "            return current\n",
    "        return inc\n",
    "    return inner\n",
    "\n",
    "fn = increment(2) # inner\n",
    "print(fn.__code__.co_freevars)\n",
    "\n",
    "inc_2 = fn(100) # inc\n",
    "print(inc_2.__code__.co_freevars)\n",
    "\n",
    "inc_2()"
   ]
  },
  {
   "source": [
    "## Closure Application 1"
   ],
   "cell_type": "markdown",
   "metadata": {}
  },
  {
   "cell_type": "code",
   "execution_count": 84,
   "metadata": {},
   "outputs": [],
   "source": [
    "# normal class\n",
    "class Avrager:\n",
    "    def __init__(self):\n",
    "        self.number = []\n",
    "    \n",
    "    def add(self,number):\n",
    "        self.number.append(number)\n",
    "        total = sum(self.number) # every time we have to calculate its not efficient\n",
    "        count = len(self.number)\n",
    "        return total/count"
   ]
  },
  {
   "cell_type": "code",
   "execution_count": 85,
   "metadata": {},
   "outputs": [
    {
     "output_type": "execute_result",
     "data": {
      "text/plain": [
       "10.0"
      ]
     },
     "metadata": {},
     "execution_count": 85
    }
   ],
   "source": [
    "a = Avrager()\n",
    "a.add(10)"
   ]
  },
  {
   "cell_type": "code",
   "execution_count": 86,
   "metadata": {},
   "outputs": [
    {
     "output_type": "execute_result",
     "data": {
      "text/plain": [
       "30.0"
      ]
     },
     "metadata": {},
     "execution_count": 86
    }
   ],
   "source": [
    "a.add(50)"
   ]
  },
  {
   "cell_type": "code",
   "execution_count": 87,
   "metadata": {},
   "outputs": [],
   "source": [
    "def averager():\n",
    "    numbers =[]\n",
    "    def add(number):\n",
    "        numbers.append(number)\n",
    "        total = sum(numbers)\n",
    "        count = len(numbers)\n",
    "        return total/count\n",
    "    return add"
   ]
  },
  {
   "cell_type": "code",
   "execution_count": 88,
   "metadata": {},
   "outputs": [
    {
     "output_type": "execute_result",
     "data": {
      "text/plain": [
       "10.0"
      ]
     },
     "metadata": {},
     "execution_count": 88
    }
   ],
   "source": [
    "a = averager()\n",
    "a(10)"
   ]
  },
  {
   "cell_type": "code",
   "execution_count": 89,
   "metadata": {},
   "outputs": [
    {
     "output_type": "execute_result",
     "data": {
      "text/plain": [
       "15.0"
      ]
     },
     "metadata": {},
     "execution_count": 89
    }
   ],
   "source": [
    "a(20)"
   ]
  },
  {
   "cell_type": "code",
   "execution_count": 90,
   "metadata": {},
   "outputs": [
    {
     "output_type": "execute_result",
     "data": {
      "text/plain": [
       "10.0"
      ]
     },
     "metadata": {},
     "execution_count": 90
    }
   ],
   "source": [
    "b = averager()\n",
    "b(10)"
   ]
  },
  {
   "cell_type": "code",
   "execution_count": 91,
   "metadata": {},
   "outputs": [
    {
     "output_type": "stream",
     "name": "stdout",
     "text": [
      "(<cell at 0x000001F636EEC6D0: list object at 0x000001F636F9CAC0>,)\n(<cell at 0x000001F636EEC250: list object at 0x000001F636FBC440>,)\n"
     ]
    }
   ],
   "source": [
    "print(a.__closure__)\n",
    "print(b.__closure__)"
   ]
  },
  {
   "cell_type": "code",
   "execution_count": 92,
   "metadata": {},
   "outputs": [],
   "source": [
    "# fix using closure\n",
    "def averager():\n",
    "    total,count = 0,0\n",
    "    def add(number):\n",
    "        nonlocal total,count\n",
    "        total += number\n",
    "        count +=1\n",
    "        return total/count\n",
    "    return add\n",
    "\n",
    "# fixing in class\n",
    "class Averager:\n",
    "    def __init__(self):\n",
    "        self.total,self.count = 0,0\n",
    "    \n",
    "    def add(self,number):\n",
    "        self.total += number\n",
    "        self.count +=1\n",
    "        return self.total/self.count\n",
    "\n",
    "# these two are same."
   ]
  },
  {
   "cell_type": "code",
   "execution_count": 93,
   "metadata": {},
   "outputs": [
    {
     "output_type": "execute_result",
     "data": {
      "text/plain": [
       "(<cell at 0x000001F637120D90: int object at 0x000001F630C56910>,\n",
       " <cell at 0x000001F637120310: int object at 0x000001F630C56910>)"
      ]
     },
     "metadata": {},
     "execution_count": 93
    }
   ],
   "source": [
    "a = averager()\n",
    "a.__closure__"
   ]
  },
  {
   "cell_type": "code",
   "execution_count": 94,
   "metadata": {},
   "outputs": [
    {
     "output_type": "execute_result",
     "data": {
      "text/plain": [
       "15.0"
      ]
     },
     "metadata": {},
     "execution_count": 94
    }
   ],
   "source": [
    "a(10)\n",
    "a(20)"
   ]
  },
  {
   "cell_type": "code",
   "execution_count": 95,
   "metadata": {},
   "outputs": [],
   "source": [
    "from time import perf_counter"
   ]
  },
  {
   "cell_type": "code",
   "execution_count": 96,
   "metadata": {},
   "outputs": [
    {
     "output_type": "stream",
     "name": "stdout",
     "text": [
      "3468.033787\n3468.0344829\n"
     ]
    }
   ],
   "source": [
    "print(perf_counter())\n",
    "print(perf_counter())"
   ]
  },
  {
   "cell_type": "code",
   "execution_count": 97,
   "metadata": {},
   "outputs": [],
   "source": [
    "class Timer:\n",
    "    def __init__(self):\n",
    "        self.start = perf_counter()\n",
    "\n",
    "    def __call__(self):\n",
    "        return perf_counter()-self.start\n",
    "    \n",
    "def TIMER():\n",
    "    start = perf_counter()\n",
    "    def poll():\n",
    "        return perf_counter()-start\n",
    "    return poll\n",
    "#both are same."
   ]
  },
  {
   "cell_type": "code",
   "execution_count": 98,
   "metadata": {},
   "outputs": [],
   "source": [
    "t1 = Timer()"
   ]
  },
  {
   "cell_type": "code",
   "execution_count": 99,
   "metadata": {},
   "outputs": [
    {
     "output_type": "execute_result",
     "data": {
      "text/plain": [
       "0.022681899999952293"
      ]
     },
     "metadata": {},
     "execution_count": 99
    }
   ],
   "source": [
    "t1()"
   ]
  },
  {
   "cell_type": "code",
   "execution_count": 100,
   "metadata": {},
   "outputs": [
    {
     "output_type": "execute_result",
     "data": {
      "text/plain": [
       "0.054467899999963265"
      ]
     },
     "metadata": {},
     "execution_count": 100
    }
   ],
   "source": [
    "t1()"
   ]
  },
  {
   "cell_type": "code",
   "execution_count": 101,
   "metadata": {},
   "outputs": [
    {
     "output_type": "execute_result",
     "data": {
      "text/plain": [
       "8.969999998953426e-05"
      ]
     },
     "metadata": {},
     "execution_count": 101
    }
   ],
   "source": [
    "t2 = TIMER()\n",
    "t2()"
   ]
  },
  {
   "source": [
    "## NOTE\n",
    "- In general if you have classes that are preety straight forward there's only one call you are intrested in. Even if you have more thaan one value being stored. We can rewrite it as a closure and often times the code will be simple."
   ],
   "cell_type": "markdown",
   "metadata": {}
  },
  {
   "source": [
    "## Closure Application 2\n",
    "- Adding functionality to simple function"
   ],
   "cell_type": "markdown",
   "metadata": {}
  },
  {
   "cell_type": "code",
   "execution_count": 102,
   "metadata": {},
   "outputs": [
    {
     "output_type": "execute_result",
     "data": {
      "text/plain": [
       "1"
      ]
     },
     "metadata": {},
     "execution_count": 102
    }
   ],
   "source": [
    "# This is the much easier nested closure.\n",
    "\n",
    "def counter(initial_value=0):\n",
    "    def inc(increment=1):\n",
    "        nonlocal initial_value\n",
    "        initial_value +=increment\n",
    "        return initial_value\n",
    "    return inc # inc is closure\n",
    "\n",
    "counter1 = counter(0)\n",
    "counter1()"
   ]
  },
  {
   "cell_type": "code",
   "execution_count": 103,
   "metadata": {},
   "outputs": [
    {
     "output_type": "execute_result",
     "data": {
      "text/plain": [
       "2"
      ]
     },
     "metadata": {},
     "execution_count": 103
    }
   ],
   "source": [
    "counter1()"
   ]
  },
  {
   "cell_type": "code",
   "execution_count": 104,
   "metadata": {},
   "outputs": [],
   "source": [
    "# hoc -> taking function as a paremeter.\n",
    "def counter(fn,counters):\n",
    "    cnt = 0\n",
    "\n",
    "    def inner(*args,**kwargs):\n",
    "        nonlocal cnt\n",
    "        cnt +=1\n",
    "        counters[fn.__name__] = cnt # no need to specify non-local counter.\n",
    "        return fn(*args,**kwargs)\n",
    "    return inner\n",
    "\n",
    "def add(a,b):\n",
    "    return a+b\n",
    "\n",
    "def mul(a,b):\n",
    "    return a*b"
   ]
  },
  {
   "cell_type": "code",
   "execution_count": 105,
   "metadata": {},
   "outputs": [
    {
     "output_type": "execute_result",
     "data": {
      "text/plain": [
       "(<cell at 0x000001F6370A8D60: int object at 0x000001F630C56910>,\n",
       " <cell at 0x000001F6370A80A0: dict object at 0x000001F636A81640>,\n",
       " <cell at 0x000001F6370A8FD0: function object at 0x000001F636AE6700>)"
      ]
     },
     "metadata": {},
     "execution_count": 105
    }
   ],
   "source": [
    "c = dict()\n",
    "add = counter(add,c)\n",
    "add.__closure__"
   ]
  },
  {
   "cell_type": "code",
   "execution_count": 106,
   "metadata": {},
   "outputs": [
    {
     "output_type": "execute_result",
     "data": {
      "text/plain": [
       "('cnt', 'counters', 'fn')"
      ]
     },
     "metadata": {},
     "execution_count": 106
    }
   ],
   "source": [
    "counter_add.__code__.co_freevars"
   ]
  },
  {
   "cell_type": "code",
   "execution_count": 107,
   "metadata": {},
   "outputs": [
    {
     "output_type": "execute_result",
     "data": {
      "text/plain": [
       "30"
      ]
     },
     "metadata": {},
     "execution_count": 107
    }
   ],
   "source": [
    "add(10,20)\n",
    "add(10,20)"
   ]
  },
  {
   "cell_type": "code",
   "execution_count": 108,
   "metadata": {},
   "outputs": [
    {
     "output_type": "execute_result",
     "data": {
      "text/plain": [
       "10"
      ]
     },
     "metadata": {},
     "execution_count": 108
    }
   ],
   "source": [
    "mul = counter(mul,c)\n",
    "mul(2,5)\n",
    "mul(2,5)\n",
    "mul(2,5)"
   ]
  },
  {
   "cell_type": "code",
   "execution_count": 109,
   "metadata": {},
   "outputs": [
    {
     "output_type": "execute_result",
     "data": {
      "text/plain": [
       "{'add': 2, 'mul': 3}"
      ]
     },
     "metadata": {},
     "execution_count": 109
    }
   ],
   "source": [
    "c"
   ]
  },
  {
   "cell_type": "code",
   "execution_count": 110,
   "metadata": {},
   "outputs": [],
   "source": [
    "# using closure to find factorial\n",
    "def fact(n):\n",
    "    product = 1\n",
    "    for i in range(2,n+1):\n",
    "        product *=i\n",
    "    return product"
   ]
  },
  {
   "cell_type": "code",
   "execution_count": 111,
   "metadata": {},
   "outputs": [
    {
     "output_type": "execute_result",
     "data": {
      "text/plain": [
       "24"
      ]
     },
     "metadata": {},
     "execution_count": 111
    }
   ],
   "source": [
    "fact = counter(fact,c)\n",
    "fact(3)\n",
    "fact(3)\n",
    "fact(2)\n",
    "fact(4)"
   ]
  },
  {
   "cell_type": "code",
   "execution_count": 112,
   "metadata": {},
   "outputs": [
    {
     "output_type": "execute_result",
     "data": {
      "text/plain": [
       "{'add': 2, 'mul': 3, 'fact': 4}"
      ]
     },
     "metadata": {},
     "execution_count": 112
    }
   ],
   "source": [
    "c"
   ]
  },
  {
   "cell_type": "code",
   "execution_count": 113,
   "metadata": {},
   "outputs": [
    {
     "output_type": "execute_result",
     "data": {
      "text/plain": [
       "(<cell at 0x000001F6370A8BE0: int object at 0x000001F630C56990>,\n",
       " <cell at 0x000001F6370A8C10: dict object at 0x000001F636A81640>,\n",
       " <cell at 0x000001F6370A8F10: function object at 0x000001F636AE6160>)"
      ]
     },
     "metadata": {},
     "execution_count": 113
    }
   ],
   "source": [
    "fact.__closure__"
   ]
  }
 ]
}