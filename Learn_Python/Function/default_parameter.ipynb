{
 "metadata": {
  "language_info": {
   "codemirror_mode": {
    "name": "ipython",
    "version": 3
   },
   "file_extension": ".py",
   "mimetype": "text/x-python",
   "name": "python",
   "nbconvert_exporter": "python",
   "pygments_lexer": "ipython3",
   "version": "3.9.1-final"
  },
  "orig_nbformat": 2,
  "kernelspec": {
   "name": "python3",
   "display_name": "Python 3",
   "language": "python"
  }
 },
 "nbformat": 4,
 "nbformat_minor": 2,
 "cells": [
  {
   "cell_type": "code",
   "execution_count": 1,
   "metadata": {},
   "outputs": [
    {
     "output_type": "execute_result",
     "data": {
      "text/plain": [
       "100"
      ]
     },
     "metadata": {},
     "execution_count": 1
    }
   ],
   "source": [
    "price_of_food = {\n",
    "    'apple': 100,\n",
    "    'grapes': 300,\n",
    "    'watermelon': 20\n",
    "}\n",
    "price_of_food['apple']"
   ]
  },
  {
   "cell_type": "code",
   "execution_count": 2,
   "metadata": {},
   "outputs": [],
   "source": [
    "# shopkeeper started giving 50% discount\n",
    "def discount(food, discount_rate=0.10):\n",
    "    \"\"\"\n",
    "    this functions returns the discounted value\n",
    "    \"\"\"\n",
    "    market_price = price_of_food[food]\n",
    "    discount_amount = market_price * discount_rate\n",
    "    price = market_price - discount_amount\n",
    "    return price"
   ]
  },
  {
   "cell_type": "code",
   "execution_count": 3,
   "metadata": {},
   "outputs": [
    {
     "output_type": "stream",
     "name": "stdout",
     "text": [
      "\n    this functions returns the discounted value\n    \n50.0\n"
     ]
    }
   ],
   "source": [
    "print(discount.__doc__)\n",
    "print(discount('apple', 0.5))\n"
   ]
  },
  {
   "cell_type": "code",
   "execution_count": null,
   "metadata": {},
   "outputs": [],
   "source": []
  }
 ]
}