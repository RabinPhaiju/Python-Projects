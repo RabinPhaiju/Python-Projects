{
 "metadata": {
  "language_info": {
   "codemirror_mode": {
    "name": "ipython",
    "version": 3
   },
   "file_extension": ".py",
   "mimetype": "text/x-python",
   "name": "python",
   "nbconvert_exporter": "python",
   "pygments_lexer": "ipython3",
   "version": "3.9.1"
  },
  "orig_nbformat": 2,
  "kernelspec": {
   "name": "python391jvsc74a57bd06dbcfa4acfde829108fd9fed7b4c7e3cf5b89483651b78d4b8e08d6c4461514a",
   "display_name": "Python 3.9.1 64-bit ('venv1': venv)",
   "language": "python"
  }
 },
 "nbformat": 4,
 "nbformat_minor": 2,
 "cells": [
  {
   "source": [
    "* Functions returns and takes functions"
   ],
   "cell_type": "markdown",
   "metadata": {}
  },
  {
   "cell_type": "code",
   "execution_count": 8,
   "metadata": {},
   "outputs": [
    {
     "output_type": "stream",
     "name": "stdout",
     "text": [
      "[0, 1, 4, 9, 16, 25, 36, 49, 64, 81]\n"
     ]
    }
   ],
   "source": [
    "sq = list(map(lambda x:x*x, list(range(10))))\n",
    "# map returns a map , so we can save it in list or tuple\n",
    "print(sq)"
   ]
  },
  {
   "cell_type": "code",
   "execution_count": 28,
   "metadata": {},
   "outputs": [
    {
     "output_type": "stream",
     "name": "stdout",
     "text": [
      "[2, 4, 6, 8]\n"
     ]
    }
   ],
   "source": [
    "# Filter Is even\n",
    "# filter and map are same but\n",
    "# map returns list with actual return value\n",
    "# filter remove is the return is false from the list\n",
    "\n",
    "print(list(filter(lambda x : x%2==0, list(range(1,10)))))"
   ]
  },
  {
   "cell_type": "code",
   "execution_count": 32,
   "metadata": {},
   "outputs": [
    {
     "output_type": "stream",
     "name": "stdout",
     "text": [
      "this is odd\n"
     ]
    }
   ],
   "source": [
    "\n",
    "# return function ODD EVEN\n",
    "def odd_even(n):\n",
    "    def odd():\n",
    "        return 'this is odd'\n",
    "\n",
    "    def even():\n",
    "        return 'this is even'\n",
    "\n",
    "    if n % 2 == 0:\n",
    "        return even\n",
    "    return odd\n",
    "\n",
    "fun = odd_even(3)\n",
    "# returns function saved in fun\n",
    "print(fun())"
   ]
  },
  {
   "cell_type": "code",
   "execution_count": 1,
   "metadata": {},
   "outputs": [
    {
     "output_type": "stream",
     "name": "stdout",
     "text": [
      "6\n"
     ]
    }
   ],
   "source": [
    "def adder(x,y):\n",
    "    return x+y\n",
    "\n",
    "def something():\n",
    "    return adder\n",
    "\n",
    "new_adder = something()\n",
    "print(new_adder(2,4))"
   ]
  },
  {
   "cell_type": "code",
   "execution_count": 6,
   "metadata": {},
   "outputs": [
    {
     "output_type": "stream",
     "name": "stdout",
     "text": [
      "{'name': 'Rabin', 'age': 27}\n{'name': 'Rabin', 'age': 27}\n{'name': 'Rabin', 'age': 27}\n"
     ]
    }
   ],
   "source": [
    "from operator import itemgetter\n",
    "#First class function\n",
    "def search(sequence,exptected,finder):\n",
    "    for elem in sequence:\n",
    "        if finder(elem) == exptected:\n",
    "            return elem\n",
    "    raise RuntimeError(f\"Could not find an element with {exptected}\")\n",
    "\n",
    "friends = [\n",
    "    {\"name\":\"Rabin\",'age':27},\n",
    "    {\"name\":\"sabin\",\"age\":25}\n",
    "]\n",
    "\n",
    "def get_friend_name(friend):\n",
    "    return friend['name']\n",
    "\n",
    "print(search(friends,'Rabin',get_friend_name))\n",
    "\n",
    "print(search(friends,'Rabin',lambda x: x['name']))\n",
    "\n",
    "print(search(friends,'Rabin',itemgetter('name')))"
   ]
  },
  {
   "cell_type": "code",
   "execution_count": null,
   "metadata": {},
   "outputs": [],
   "source": []
  }
 ]
}