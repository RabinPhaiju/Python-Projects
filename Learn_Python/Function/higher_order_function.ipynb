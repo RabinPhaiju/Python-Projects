{
 "metadata": {
  "language_info": {
   "codemirror_mode": {
    "name": "ipython",
    "version": 3
   },
   "file_extension": ".py",
   "mimetype": "text/x-python",
   "name": "python",
   "nbconvert_exporter": "python",
   "pygments_lexer": "ipython3",
   "version": "3.9.1"
  },
  "orig_nbformat": 2,
  "kernelspec": {
   "name": "python391jvsc74a57bd06dbcfa4acfde829108fd9fed7b4c7e3cf5b89483651b78d4b8e08d6c4461514a",
   "display_name": "Python 3.9.1 64-bit ('venv1': venv)"
  }
 },
 "nbformat": 4,
 "nbformat_minor": 2,
 "cells": [
  {
   "source": [
    "# Higher Order function\n",
    "## Functions returns and takes functions as parameter.\n",
    "    - map\n",
    "    - filter\n",
    "    - reduce\n",
    "    - accumulate\n",
    "    - sorted\n",
    "- Map and filter have mordern alternative like -> list comprehensions and generator functions."
   ],
   "cell_type": "markdown",
   "metadata": {}
  },
  {
   "source": [
    "# Map\n",
    "    - map returns a map , so we can save it in list or tuple\n",
    "    - Map - maps takes a function and multiple iterable (eg: list)\n",
    "    - Map is alternative to list comprehensive but list comprehension is faster.\n",
    "    - map dont filter but it computes."
   ],
   "cell_type": "markdown",
   "metadata": {}
  },
  {
   "cell_type": "code",
   "execution_count": 34,
   "metadata": {},
   "outputs": [
    {
     "output_type": "stream",
     "name": "stdout",
     "text": [
      "<map object at 0x00000167E00E2A00>\n0\n1\n4\n9\n16\n25\n36\n49\n64\n81\n"
     ]
    }
   ],
   "source": [
    "sq = map(lambda x:x*x, list(range(10)))\n",
    "# in Python-3 map return generator, map is calculated when it is called.\n",
    "print(sq)\n",
    "for i in sq:\n",
    "    print(i)"
   ]
  },
  {
   "cell_type": "code",
   "execution_count": 32,
   "metadata": {},
   "outputs": [
    {
     "output_type": "stream",
     "name": "stdout",
     "text": [
      "[0, 1, 4, 9, 16, 25, 36, 49, 64, 81]\n[0, 1, 4, 9, 16, 25, 36, 49, 64, 81]\n"
     ]
    }
   ],
   "source": [
    "sq = list(map(lambda x:x*x, list(range(10))))\n",
    "print(sq)\n",
    "# alternative list comprehension\n",
    "print([x*x for x in range(10)])"
   ]
  },
  {
   "cell_type": "code",
   "execution_count": 15,
   "metadata": {},
   "outputs": [
    {
     "output_type": "stream",
     "name": "stdout",
     "text": [
      "[5, 7, 9]\n[5, 7, 9]\n"
     ]
    }
   ],
   "source": [
    "# add two list in map function\n",
    "li = [1,2,3]\n",
    "lli = [4,5,6,7]\n",
    "print(list(map(lambda x,y:x+y,li,lli)))\n",
    "# alternative list comprehension\n",
    "print([ x+y for x,y in zip(li,lli)])"
   ]
  },
  {
   "source": [
    "# Filter\n",
    "    - Filter Is even\n",
    "    - filter and map are same but\n",
    "    - map returns list with actual return value\n",
    "    - filter remove is the return is false from the list\n",
    "    - filter takes a single iterable."
   ],
   "cell_type": "markdown",
   "metadata": {}
  },
  {
   "cell_type": "code",
   "execution_count": 35,
   "metadata": {},
   "outputs": [
    {
     "output_type": "stream",
     "name": "stdout",
     "text": [
      "[2, 4, 6, 8]\n[2, 4, 6, 8]\n[1, 4, 'a', True]\n"
     ]
    }
   ],
   "source": [
    "print(list(filter(lambda x : x%2==0, list(range(1,10)))))\n",
    "# alternative list comprehension\n",
    "print([x for x in range(1,10) if x%2==0])\n",
    "\n",
    "print(list(filter(None,[1,0,4,'a','',None,True,False])))"
   ]
  },
  {
   "cell_type": "code",
   "execution_count": 28,
   "metadata": {},
   "outputs": [
    {
     "output_type": "stream",
     "name": "stdout",
     "text": [
      "[4, 6, 8, 10]\n[4, 6, 8, 10]\n"
     ]
    }
   ],
   "source": [
    "# map and filer at once to find even number after sum two list\n",
    "li = range(10)\n",
    "lii = range(11,20)\n",
    "print(list(filter(lambda x:x%2==0,map(lambda x,y:x+y,li,lli))))\n",
    "# alternative list comprehension\n",
    "print([ x+y for x,y in zip(li,lli) if (x+y)%2==0])"
   ]
  },
  {
   "source": [
    "# Reducers"
   ],
   "cell_type": "markdown",
   "metadata": {}
  },
  {
   "cell_type": "code",
   "execution_count": 63,
   "metadata": {},
   "outputs": [
    {
     "output_type": "stream",
     "name": "stdout",
     "text": [
      "sum is: 30\nmax is: 7\nproduct-!: 105\nproduct-!: 1\nsum is: 31\n"
     ]
    }
   ],
   "source": [
    "import functools as f\n",
    "\n",
    "li=[3,4,6,4,6,7]\n",
    "print('sum is:',f.reduce(lambda x,y: x+y, li))\n",
    "\n",
    "print('max is:',f.reduce(lambda x,y:max(x,y),li))\n",
    "\n",
    "print('product-!:',f.reduce(lambda x,y:x*y,[1,3,5,7]))\n",
    "\n",
    "print('product-!:',f.reduce(lambda x,y:x*y,[],1)) # use initializer as 1. 1 is added in front of the list.\n",
    "\n",
    "print('sum is:',f.reduce(lambda x,y: x+y, li,1)) # the ans must be 30 but, the init added 1 and makes 31."
   ]
  },
  {
   "cell_type": "code",
   "execution_count": 60,
   "metadata": {},
   "outputs": [
    {
     "output_type": "stream",
     "name": "stdout",
     "text": [
      "True\nTrue\nFalse\n"
     ]
    }
   ],
   "source": [
    "# Any\n",
    "print(any([1,False,False]))\n",
    "# using our own methods\n",
    "print(f.reduce(lambda x,y:bool(x) or bool(y),[1,False,False]))\n",
    "\n",
    "print(any([0,False,False]))"
   ]
  },
  {
   "cell_type": "code",
   "execution_count": 61,
   "metadata": {},
   "outputs": [
    {
     "output_type": "stream",
     "name": "stdout",
     "text": [
      "False\nFalse\nTrue\n"
     ]
    }
   ],
   "source": [
    "# All\n",
    "print(all([1,False,False]))\n",
    "# using our own methods\n",
    "print(f.reduce(lambda x,y:bool(x) and bool(y),[1,False,False]))\n",
    "\n",
    "print(any([1,True,2]))"
   ]
  },
  {
   "cell_type": "code",
   "execution_count": 57,
   "metadata": {},
   "outputs": [
    {
     "output_type": "execute_result",
     "data": {
      "text/plain": [
       "True"
      ]
     },
     "metadata": {},
     "execution_count": 57
    }
   ],
   "source": [
    "# bool\n",
    "bool('s2')"
   ]
  },
  {
   "source": [
    "# Partial function"
   ],
   "cell_type": "markdown",
   "metadata": {}
  },
  {
   "cell_type": "code",
   "execution_count": 66,
   "metadata": {},
   "outputs": [
    {
     "output_type": "stream",
     "name": "stdout",
     "text": [
      "10 20 30\n"
     ]
    }
   ],
   "source": [
    "from functools import partial\n",
    "\n",
    "def my_func(a,b,c):\n",
    "    print(a,b,c)\n",
    "\n",
    "f = partial(my_func,10)\n",
    "f(20,30)"
   ]
  },
  {
   "cell_type": "code",
   "execution_count": 72,
   "metadata": {},
   "outputs": [
    {
     "output_type": "stream",
     "name": "stdout",
     "text": [
      "10 20 (40, 50) a p {'h': 99}\n"
     ]
    }
   ],
   "source": [
    "def my_func(a,b,*args,k1,k2,**kwargs):\n",
    "    print(a,b,args,k1,k2,kwargs)\n",
    "\n",
    "f = partial(my_func,10,k1='a')\n",
    "f(20,40,50,k2='p',h=99)"
   ]
  },
  {
   "source": [
    "# Operator Module"
   ],
   "cell_type": "markdown",
   "metadata": {}
  },
  {
   "cell_type": "code",
   "execution_count": 77,
   "metadata": {},
   "outputs": [
    {
     "output_type": "execute_result",
     "data": {
      "text/plain": [
       "30"
      ]
     },
     "metadata": {},
     "execution_count": 77
    }
   ],
   "source": [
    "import operator as o\n",
    "# add,mul,pow,mod,floordiv,neg, lt,le,gt,ge,eq,ne,is_,is_not,and_,or_,not_\n",
    "# concat,contains(s,val),countOf(s,val),getitem(s,i),setitem(s,i,val),delitem(s,i),\n",
    "o.mul(5,6)"
   ]
  },
  {
   "source": [
    "# Accumulator"
   ],
   "cell_type": "markdown",
   "metadata": {}
  },
  {
   "cell_type": "code",
   "execution_count": 2,
   "metadata": {},
   "outputs": [
    {
     "output_type": "stream",
     "name": "stdout",
     "text": [
      " The summation of list 1 is :\n[3, 10, 14, 21]\n"
     ]
    }
   ],
   "source": [
    "import itertools as i\n",
    "list1 = [3,7,4,7]\n",
    "print(' The summation of list 1 is :')\n",
    "print(list(i.accumulate(list1,lambda x,y:x+y))) # sum at every loop and print\n"
   ]
  },
  {
   "source": [
    "# zip"
   ],
   "cell_type": "markdown",
   "metadata": {}
  },
  {
   "cell_type": "code",
   "execution_count": 21,
   "metadata": {},
   "outputs": [
    {
     "output_type": "stream",
     "name": "stdout",
     "text": [
      "[(1, 10, 'p'), (2, 20, 'y'), (3, 30, 't'), (4, 40, 'h')]\n"
     ]
    }
   ],
   "source": [
    "l1 = [1,2,3,4]\n",
    "l2 = [10,20,30,40]\n",
    "l3 = 'python'\n",
    "print(list(zip(l1,l2,l3)))"
   ]
  },
  {
   "cell_type": "code",
   "execution_count": 32,
   "metadata": {},
   "outputs": [
    {
     "output_type": "stream",
     "name": "stdout",
     "text": [
      "this is odd\n"
     ]
    }
   ],
   "source": [
    "# return function ODD EVEN\n",
    "def odd_even(n):\n",
    "    def odd():\n",
    "        return 'this is odd'\n",
    "\n",
    "    def even():\n",
    "        return 'this is even'\n",
    "\n",
    "    if n % 2 == 0:\n",
    "        return even\n",
    "    return odd\n",
    "\n",
    "fun = odd_even(3)\n",
    "# returns function saved in fun\n",
    "print(fun())"
   ]
  },
  {
   "cell_type": "code",
   "execution_count": 1,
   "metadata": {},
   "outputs": [
    {
     "output_type": "stream",
     "name": "stdout",
     "text": [
      "6\n"
     ]
    }
   ],
   "source": [
    "def adder(x,y):\n",
    "    return x+y\n",
    "\n",
    "def something():\n",
    "    return adder\n",
    "\n",
    "new_adder = something()\n",
    "print(new_adder(2,4))"
   ]
  },
  {
   "cell_type": "code",
   "execution_count": 6,
   "metadata": {},
   "outputs": [
    {
     "output_type": "stream",
     "name": "stdout",
     "text": [
      "{'name': 'Rabin', 'age': 27}\n{'name': 'Rabin', 'age': 27}\n{'name': 'Rabin', 'age': 27}\n"
     ]
    }
   ],
   "source": [
    "from operator import itemgetter\n",
    "#First class function\n",
    "def search(sequence,exptected,finder):\n",
    "    for elem in sequence:\n",
    "        if finder(elem) == exptected:\n",
    "            return elem\n",
    "    raise RuntimeError(f\"Could not find an element with {exptected}\")\n",
    "\n",
    "friends = [\n",
    "    {\"name\":\"Rabin\",'age':27},\n",
    "    {\"name\":\"sabin\",\"age\":25}\n",
    "]\n",
    "\n",
    "def get_friend_name(friend):\n",
    "    return friend['name']\n",
    "\n",
    "print(search(friends,'Rabin',get_friend_name))\n",
    "\n",
    "print(search(friends,'Rabin',lambda x: x['name']))\n",
    "\n",
    "print(search(friends,'Rabin',itemgetter('name')))"
   ]
  },
  {
   "cell_type": "code",
   "execution_count": null,
   "metadata": {},
   "outputs": [],
   "source": []
  }
 ]
}