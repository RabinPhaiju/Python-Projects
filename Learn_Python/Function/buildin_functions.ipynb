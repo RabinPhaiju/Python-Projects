{
 "metadata": {
  "language_info": {
   "codemirror_mode": {
    "name": "ipython",
    "version": 3
   },
   "file_extension": ".py",
   "mimetype": "text/x-python",
   "name": "python",
   "nbconvert_exporter": "python",
   "pygments_lexer": "ipython3",
   "version": "3.9.1-final"
  },
  "orig_nbformat": 2,
  "kernelspec": {
   "name": "python3",
   "display_name": "Python 3",
   "language": "python"
  }
 },
 "nbformat": 4,
 "nbformat_minor": 2,
 "cells": [
  {
   "source": [
    "![](files/builtin_function.png)"
   ],
   "cell_type": "markdown",
   "metadata": {}
  },
  {
   "source": [
    "1. use space over tabs (4 space = 1 indentdation)"
   ],
   "cell_type": "markdown",
   "metadata": {}
  },
  {
   "source": [
    "2.  bin(x)\n",
    "    - convert an integer number to a binary string\n",
    "      - hex(255)\n",
    "      - oct(8)"
   ],
   "cell_type": "markdown",
   "metadata": {}
  },
  {
   "source": [
    "3.  @classmethod\n",
    "    - The @classmethod form is a function decorator"
   ],
   "cell_type": "markdown",
   "metadata": {}
  },
  {
   "source": [
    "4.  count()\n",
    "    - list.count()\n",
    "    - tuple.count()"
   ],
   "cell_type": "markdown",
   "metadata": {}
  },
  {
   "cell_type": "code",
   "execution_count": 2,
   "metadata": {},
   "outputs": [
    {
     "output_type": "execute_result",
     "data": {
      "text/plain": [
       "3"
      ]
     },
     "metadata": {},
     "execution_count": 2
    }
   ],
   "source": [
    "# 5 eval\n",
    "eval('2+1')"
   ]
  },
  {
   "source": [
    "6.  Enumerate\n",
    "    - list(enumerate(list, start=1))"
   ],
   "cell_type": "markdown",
   "metadata": {}
  },
  {
   "cell_type": "code",
   "execution_count": 13,
   "metadata": {},
   "outputs": [
    {
     "output_type": "stream",
     "name": "stdout",
     "text": [
      "The filtered vowels are:\na\ne\ni\no\n"
     ]
    }
   ],
   "source": [
    "# 7.  filter(function, iterable)\n",
    "letters = ['a', 'b', 'd', 'e', 'i', 'j', 'o'] # function that filters vowels\n",
    "def filterVowels(letter): \n",
    "    return True if letter in ['a', 'e', 'i', 'o', 'u'] else False\n",
    "\n",
    "filteredVowels = filter(filterVowels, letters)\n",
    "\n",
    "print('The filtered vowels are:')\n",
    "for vowel in filteredVowels:\n",
    "    print(vowel)"
   ]
  },
  {
   "cell_type": "code",
   "execution_count": 14,
   "metadata": {},
   "outputs": [
    {
     "output_type": "execute_result",
     "data": {
      "text/plain": [
       "1.23"
      ]
     },
     "metadata": {},
     "execution_count": 14
    }
   ],
   "source": [
    "float('+1.23')"
   ]
  },
  {
   "cell_type": "code",
   "execution_count": 15,
   "metadata": {},
   "outputs": [
    {
     "output_type": "stream",
     "name": "stdout",
     "text": [
      "c, b, a\nc, b, a\n"
     ]
    }
   ],
   "source": [
    "# 10. Format\n",
    "print('{2}, {1}, {0}'.format('a', 'b', 'c'))\n",
    "print('{2}, {1}, {0}'.format(*'abc')) # unpacking argument sequence"
   ]
  },
  {
   "cell_type": "code",
   "execution_count": 16,
   "metadata": {},
   "outputs": [
    {
     "output_type": "execute_result",
     "data": {
      "text/plain": [
       "frozenset({'a', 'e', 'i', 'o', 'u'})"
      ]
     },
     "metadata": {},
     "execution_count": 16
    }
   ],
   "source": [
    "# 11. Frozen ->immutable\n",
    "vowels = ('a', 'e', 'i', 'o', 'u')\n",
    "frozenset(vowels)"
   ]
  },
  {
   "cell_type": "code",
   "execution_count": 20,
   "metadata": {},
   "outputs": [
    {
     "output_type": "execute_result",
     "data": {
      "text/plain": [
       "<map at 0x21dcb107130>"
      ]
     },
     "metadata": {},
     "execution_count": 20
    }
   ],
   "source": [
    "def func(x):\n",
    "    print(x)\n",
    "\n",
    "map(func, ['apple', 'banana', 'cherry'])"
   ]
  },
  {
   "cell_type": "code",
   "execution_count": 22,
   "metadata": {},
   "outputs": [
    {
     "output_type": "execute_result",
     "data": {
      "text/plain": [
       "1"
      ]
     },
     "metadata": {},
     "execution_count": 22
    }
   ],
   "source": [
    "list = [1,2,3,4]\n",
    "max(list)\n",
    "min(list)"
   ]
  },
  {
   "cell_type": "code",
   "execution_count": 23,
   "metadata": {},
   "outputs": [
    {
     "output_type": "execute_result",
     "data": {
      "text/plain": [
       "[4, 3, 2, 1]"
      ]
     },
     "metadata": {},
     "execution_count": 23
    }
   ],
   "source": [
    "# 15. list.reverse()\n",
    "[1,2,3,4][::-1]"
   ]
  },
  {
   "cell_type": "code",
   "execution_count": 24,
   "metadata": {},
   "outputs": [
    {
     "output_type": "stream",
     "name": "stdout",
     "text": [
      "yh\n"
     ]
    }
   ],
   "source": [
    "# 16. Slice\n",
    "#- The slice() function returns a slice object that can use used to slice strings, lists, tuple etc.\n",
    "# - slice(start, stop, step)\n",
    "py_string = 'Python'\n",
    "print(py_string[1:5:2])\n"
   ]
  },
  {
   "cell_type": "code",
   "execution_count": null,
   "metadata": {},
   "outputs": [],
   "source": []
  }
 ]
}