{
 "metadata": {
  "language_info": {
   "codemirror_mode": {
    "name": "ipython",
    "version": 3
   },
   "file_extension": ".py",
   "mimetype": "text/x-python",
   "name": "python",
   "nbconvert_exporter": "python",
   "pygments_lexer": "ipython3",
   "version": "3.9.1-final"
  },
  "orig_nbformat": 2,
  "kernelspec": {
   "name": "python3",
   "display_name": "Python 3",
   "language": "python"
  }
 },
 "nbformat": 4,
 "nbformat_minor": 2,
 "cells": [
  {
   "cell_type": "code",
   "execution_count": 1,
   "metadata": {},
   "outputs": [
    {
     "output_type": "stream",
     "name": "stdout",
     "text": [
      "*\n**\n***\n****\n*****\n******\n*******\n********\n*********\n**********\n"
     ]
    }
   ],
   "source": [
    "# 1. Write a function to generate following pattern that takes number of rows as parameter (default to 5)\n",
    "# *\n",
    "# **\n",
    "# ***\n",
    "# ****\n",
    "# *****\n",
    "\n",
    "def pattern(n):\n",
    "    for i in range(n):\n",
    "        print('*' * (i + 1))\n",
    "\n",
    "\n",
    "pattern(10)"
   ]
  },
  {
   "cell_type": "code",
   "execution_count": 2,
   "metadata": {},
   "outputs": [
    {
     "output_type": "stream",
     "name": "stdout",
     "text": [
      "{'orange': 100, 'watermelon': 200, 'papaya': 300}\n"
     ]
    }
   ],
   "source": [
    "# 2. Write a function to covert following list of tuples into dictionary.\n",
    "price = [('orange', 100), ('watermelon', 200), ('papaya', 300)]\n",
    "\n",
    "\n",
    "def dictionary(l):\n",
    "    return dict(l)\n",
    "\n",
    "\n",
    "print(dictionary(price))"
   ]
  },
  {
   "cell_type": "code",
   "execution_count": 4,
   "metadata": {},
   "outputs": [
    {
     "output_type": "stream",
     "name": "stdout",
     "text": [
      "[0, 1, 'prime', 'prime', 4, 'prime', 6, 'prime', 8, 9, 10, 'prime', 12, 'prime', 14, 15, 16, 'prime', 18, 'prime']\n"
     ]
    }
   ],
   "source": [
    "# 3. Replace prime numbers with 'prime' string in a given list of integers\n",
    "# using lambda function. (you can use separate function to check for prime)\n",
    "\n",
    "def is_prime(n):\n",
    "    if n == 0 or n == 1:\n",
    "        return False\n",
    "\n",
    "    for i in range(2, n):\n",
    "        if n % i == 0:\n",
    "            return False\n",
    "\n",
    "    return True\n",
    "\n",
    "test_list_1 = list(range(20))\n",
    "test_list_1 = list(map(lambda x: 'prime' if is_prime(x) else x, test_list_1))\n",
    "print(test_list_1)"
   ]
  },
  {
   "cell_type": "code",
   "execution_count": 5,
   "metadata": {},
   "outputs": [
    {
     "output_type": "stream",
     "name": "stdout",
     "text": [
      "[0, 1, 4, 6, 8, 9, 10, 12, 14, 15, 16, 18]\n[0, 1, 4, 6, 8, 9, 10, 12, 14, 15, 16, 18]\n"
     ]
    }
   ],
   "source": [
    "# 4. write a function that takes list of numbers as input and returns a new\n",
    "# list removing all prime numbers. (try using the same prime function)\n",
    "\n",
    "test_list_2 = list(range(20))\n",
    "\n",
    "\n",
    "def remove_prime(l):\n",
    "    a = []\n",
    "\n",
    "    for i in l:\n",
    "        if not is_prime(i):\n",
    "            a.append(i)\n",
    "\n",
    "    return a\n",
    "\n",
    "\n",
    "print(remove_prime(test_list_2))\n",
    "\n",
    "# can also be done using filter function\n",
    "print(list(filter(lambda x: not is_prime(x), test_list_2)))"
   ]
  },
  {
   "cell_type": "code",
   "execution_count": 6,
   "metadata": {},
   "outputs": [
    {
     "output_type": "stream",
     "name": "stdout",
     "text": [
      "sum =  21\n"
     ]
    }
   ],
   "source": [
    "# 5. A function takes two lists as arguments\n",
    "# say, list_1 = [1,2,3,4] and list_2 = [1, 1] where, len(list_1) > len(list_2).\n",
    "# Slide list_2 over list_1 from left to right (one step at a time) till the end.\n",
    "#  Calculate the sum of the sum of the overlapped numbers of list_1 and list_2.\n",
    "# list_1 and list_2 can be of any length and can contain any numbers.\n",
    "\n",
    "list_1 = [1, 2, 3, 4]\n",
    "list_2 = [1, 1]\n",
    "\n",
    "sum = 0\n",
    "\n",
    "for x in range(len(list_1) - len(list_2) + 1):\n",
    "    for y in range(len(list_2)):\n",
    "        sum += list_1[x + y] + list_2[y]\n",
    "\n",
    "print('sum = ', sum)"
   ]
  },
  {
   "cell_type": "code",
   "execution_count": null,
   "metadata": {},
   "outputs": [],
   "source": []
  }
 ]
}