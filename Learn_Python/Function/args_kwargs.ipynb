{
 "metadata": {
  "language_info": {
   "codemirror_mode": {
    "name": "ipython",
    "version": 3
   },
   "file_extension": ".py",
   "mimetype": "text/x-python",
   "name": "python",
   "nbconvert_exporter": "python",
   "pygments_lexer": "ipython3",
   "version": "3.8.5-final"
  },
  "orig_nbformat": 2,
  "kernelspec": {
   "name": "python3",
   "display_name": "Python 3",
   "language": "python"
  }
 },
 "nbformat": 4,
 "nbformat_minor": 2,
 "cells": [
  {
   "source": [
    "- args and kwargs are not keyword of python\n",
    "- *args -0 t any number of positional arguments\n",
    "- **kwargs - 0 to any number of keyword arguments\n",
    "### *args returns tuple\n",
    "### **kwargs returns dict"
   ],
   "cell_type": "markdown",
   "metadata": {}
  },
  {
   "cell_type": "code",
   "execution_count": 5,
   "metadata": {},
   "outputs": [],
   "source": [
    "def cheeseshop(kind, *argsss, **kwargsss):\n",
    "    print(\"-- Do you have any\", kind, \"?\")\n",
    "    print(\"-- I'm sorry, we're all out of\", kind)\n",
    "    for arg in argsss:\n",
    "        print(arg)\n",
    "    print(\"-\" * 40)\n",
    "    for kw in kwargsss:\n",
    "        print(kw, \":\", kwargsss[kw])"
   ]
  },
  {
   "cell_type": "code",
   "execution_count": 6,
   "metadata": {},
   "outputs": [
    {
     "output_type": "stream",
     "name": "stdout",
     "text": [
      "-- Do you have any rabin ?\n-- I'm sorry, we're all out of rabin\nLimburger\nIt's very runny, sir.\nIt's really very, VERY runny, sir.\n----------------------------------------\nshopkeeper : Michael Palin\nclient : John Cleese\nsketch : Cheese Shop Sketch\n"
     ]
    }
   ],
   "source": [
    "cheeseshop(\"rabin\", \"Limburger\", \"It's very runny, sir.\",\"It's really very, VERY runny, sir.\",\n",
    "           shopkeeper=\"Michael Palin\",\n",
    "           client=\"John Cleese\",\n",
    "           sketch=\"Cheese Shop Sketch\")"
   ]
  },
  {
   "cell_type": "code",
   "execution_count": 7,
   "metadata": {},
   "outputs": [
    {
     "output_type": "stream",
     "name": "stdout",
     "text": [
      "21\n"
     ]
    }
   ],
   "source": [
    "def adderss(**kwargs):\n",
    "    print((kwargs['x']*2)+ (kwargs['y']*5)+(kwargs['z']*3))\n",
    "\n",
    "adderss(x=1,y=2,z=3)"
   ]
  },
  {
   "cell_type": "code",
   "execution_count": 8,
   "metadata": {},
   "outputs": [
    {
     "output_type": "stream",
     "name": "stdout",
     "text": [
      "18\n134\n"
     ]
    }
   ],
   "source": [
    "# adder function\n",
    "def adder(*args):\n",
    "    print(sum(args))\n",
    "\n",
    "adder(1,2,4,5,6)\n",
    "adder(3,5,77,43,6)"
   ]
  },
  {
   "source": [
    "## packing and unpacking"
   ],
   "cell_type": "markdown",
   "metadata": {}
  },
  {
   "cell_type": "code",
   "execution_count": 1,
   "metadata": {},
   "outputs": [
    {
     "output_type": "stream",
     "name": "stdout",
     "text": [
      "apple\npapaya\norange\nwatermelon\n"
     ]
    }
   ],
   "source": [
    "# unpacking arguments\n",
    "\n",
    "def add_to_food(*args):\n",
    "    if args is not None:\n",
    "        for i in args:\n",
    "            print(i)\n",
    "food = ['apple', 'papaya', 'orange', 'watermelon']\n",
    "add_to_food(*food)"
   ]
  },
  {
   "cell_type": "code",
   "execution_count": 2,
   "metadata": {},
   "outputs": [
    {
     "output_type": "stream",
     "name": "stdout",
     "text": [
      "apple 200\ngrapes 300\nwatermelon 20\n"
     ]
    }
   ],
   "source": [
    "# --------- dictionary unpacking (Keyword Argument) -------------\n",
    "\n",
    "def add_to_basket(**kwargs):\n",
    "    if kwargs is not None:\n",
    "        for key, value in kwargs.items():\n",
    "            print(key, value)\n",
    "\n",
    "# add_to_basket(apple=100, grapes=200, orange=20)\n",
    "\n",
    "price_of_food = {\n",
    "    'apple': 200,\n",
    "    'grapes': 300,\n",
    "    'watermelon': 20\n",
    "}\n",
    "\n",
    "add_to_basket(**price_of_food)\n",
    "\n"
   ]
  }
 ]
}