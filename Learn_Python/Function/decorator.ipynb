{
 "metadata": {
  "language_info": {
   "codemirror_mode": {
    "name": "ipython",
    "version": 3
   },
   "file_extension": ".py",
   "mimetype": "text/x-python",
   "name": "python",
   "nbconvert_exporter": "python",
   "pygments_lexer": "ipython3",
   "version": "3.9.1"
  },
  "orig_nbformat": 2,
  "kernelspec": {
   "name": "python391jvsc74a57bd06dbcfa4acfde829108fd9fed7b4c7e3cf5b89483651b78d4b8e08d6c4461514a",
   "display_name": "Python 3.9.1 64-bit ('venv1')"
  }
 },
 "nbformat": 4,
 "nbformat_minor": 2,
 "cells": [
  {
   "source": [
    "# decorator\n",
    "- after learning closure. We essentially modified our add function by wrapping it inside another function that added some more funtionality to it.\n",
    "- We also say that we decorated our add function with the function couter.\n",
    "- counter was a decorator.\n",
    "### In general a decorator function:\n",
    "    - takes a function as an argument\n",
    "    - returns a closure.\n",
    "    - the closure usually accpets any combination if parameters.\n",
    "    - run some code in the inner function (closure)\n",
    "    - the closure function calls the original function using the arguments passed to the closure.\n",
    "    - returns whatever is returns by the function call."
   ],
   "cell_type": "markdown",
   "metadata": {}
  },
  {
   "cell_type": "code",
   "execution_count": 24,
   "metadata": {},
   "outputs": [
    {
     "output_type": "stream",
     "name": "stdout",
     "text": [
      "Function add was called 1 times\n"
     ]
    },
    {
     "output_type": "execute_result",
     "data": {
      "text/plain": [
       "8"
      ]
     },
     "metadata": {},
     "execution_count": 24
    }
   ],
   "source": [
    "def counter(fn):\n",
    "    count = 0\n",
    "\n",
    "    def inner(*args,**kwargs):\n",
    "        nonlocal count\n",
    "        count += 1\n",
    "        print(f'Function {fn.__name__} was called {count} times')\n",
    "        return fn(*args,**kwargs)\n",
    "    return inner\n",
    "\n",
    "def add(a,b=2):\n",
    "    return a+b\n",
    "\n",
    "add = counter(add)\n",
    "add(6)"
   ]
  },
  {
   "cell_type": "code",
   "execution_count": 25,
   "metadata": {},
   "outputs": [
    {
     "output_type": "stream",
     "name": "stdout",
     "text": [
      "Function mul was called 1 times\ninner\n"
     ]
    },
    {
     "output_type": "execute_result",
     "data": {
      "text/plain": [
       "6"
      ]
     },
     "metadata": {},
     "execution_count": 25
    }
   ],
   "source": [
    "@counter\n",
    "def mul(a,b=2):\n",
    "    \"\"\"returns the product of 2 and a integer\"\"\"\n",
    "    print(mul.__name__) # inner -> not mult->mult name changed when we decorated it.\n",
    "    return a*b\n",
    "\n",
    "mul(3)"
   ]
  },
  {
   "cell_type": "code",
   "execution_count": 26,
   "metadata": {},
   "outputs": [
    {
     "output_type": "stream",
     "name": "stdout",
     "text": [
      "Help on function inner in module __main__:\n\ninner(*args, **kwargs)\n\nNone\n"
     ]
    },
    {
     "output_type": "execute_result",
     "data": {
      "text/plain": [
       "<Signature (*args, **kwargs)>"
      ]
     },
     "metadata": {},
     "execution_count": 26
    }
   ],
   "source": [
    "import inspect\n",
    "print(help(mul))# its not mult -> so we lost the doc, signature.\n",
    "inspect.signature(mul)"
   ]
  },
  {
   "source": [
    "# to fix it.\n",
    "- the functools module has a wraps function that we can use to tfix the metadata of our inner function in our decorator.\n",
    "- wraps function is itself a decorator."
   ],
   "cell_type": "markdown",
   "metadata": {}
  },
  {
   "cell_type": "code",
   "execution_count": 27,
   "metadata": {},
   "outputs": [
    {
     "output_type": "stream",
     "name": "stdout",
     "text": [
      "Function mul was called 1 times\n8\nHelp on function mul in module __main__:\n\nmul(a, b=2)\n    returns the product of 2 and a integer\n\nNone\n"
     ]
    },
    {
     "output_type": "execute_result",
     "data": {
      "text/plain": [
       "<Signature (a, b=2)>"
      ]
     },
     "metadata": {},
     "execution_count": 27
    }
   ],
   "source": [
    "from functools import wraps\n",
    "\n",
    "def counter(fn):\n",
    "    count = 0\n",
    "\n",
    "    @wraps(fn) # using decorator # we dont have to use @waros, but it will make debugging easier. # can be used closure too. ( done in before return inner.)\n",
    "    def inner(*args,**kwargs):\n",
    "        nonlocal count\n",
    "        count += 1\n",
    "        print(f'Function {fn.__name__} was called {count} times')\n",
    "        return fn(*args,**kwargs)\n",
    "    # inner.__name__ = fn.__name__ # overridding the function\n",
    "    # inner.__doc__ = fn.__doc__ # overridding the function\n",
    "    # the function overring dont solve the function signature so,\n",
    "    # inner = wraps(fn)(inner) # using closure\n",
    "    return inner\n",
    "\n",
    "def add(a,b=2):\n",
    "    return a+b\n",
    "\n",
    "\n",
    "@counter\n",
    "def mul(a,b=2):\n",
    "    \"\"\"returns the product of 2 and a integer\"\"\"\n",
    "    return a*b\n",
    "print(mul(4))\n",
    "print(help(mul))\n",
    "inspect.signature(mul)"
   ]
  },
  {
   "source": [
    "# decorator Application @timed"
   ],
   "cell_type": "markdown",
   "metadata": {}
  },
  {
   "cell_type": "code",
   "execution_count": 115,
   "metadata": {},
   "outputs": [],
   "source": [
    "def timed(fn,n=10):\n",
    "    from time import perf_counter\n",
    "    from functools import wraps\n",
    "\n",
    "    @wraps(fn)\n",
    "    def inner(*args,**kwargs):\n",
    "        total_elapsed = 0\n",
    "        total_count = 0\n",
    "\n",
    "        for i in range(n):\n",
    "            start = perf_counter()\n",
    "            result = fn(*args,**kwargs)\n",
    "            end = perf_counter()\n",
    "            elapsed = end -start\n",
    "\n",
    "            total_elapsed +=elapsed\n",
    "            total_count +=1\n",
    "\n",
    "        args_ = [str(a) for a in args]\n",
    "        kwargs_ = [f'{k}={v}' for k,v in kwargs.items()]\n",
    "        all_args = args_ + kwargs_\n",
    "        args_str = ','.join(all_args)\n",
    "        total_avg = total_elapsed/total_count\n",
    "\n",
    "        print(f'{fn.__name__} ({args_str}) took {total_avg:.6f}s to run')\n",
    "        return result\n",
    "    return inner\n",
    "\n",
    "# @timed\n",
    "def fibo_recursive(n):\n",
    "    if n<=2:\n",
    "        return 1\n",
    "    else:\n",
    "        return fibo_recursive(n-1)+fibo_recursive(n-2)\n",
    "\n",
    "@timed\n",
    "def calc_fibo_recursive(n):\n",
    "    return fibo_recursive(n)\n",
    "\n",
    "@timed\n",
    "def fib_loop(n):\n",
    "    f1,f2 = 1,1\n",
    "    for i in range(3,n+1):\n",
    "        f1,f2 = f2,f1+f2\n",
    "    return f2\n",
    "\n",
    "# python reduce is slower then for loop.\n",
    "# if python have something, means not need to use it."
   ]
  },
  {
   "cell_type": "code",
   "execution_count": 77,
   "metadata": {},
   "outputs": [
    {
     "output_type": "stream",
     "name": "stdout",
     "text": [
      "calc_fibo_recursive (32) took 0.687525s to run\n",
      "2178309\n",
      "calc_fibo_recursive (33) took 1.081854s to run\n",
      "3524578\n",
      "calc_fibo_recursive (34) took 1.684864s to run\n",
      "5702887\n"
     ]
    }
   ],
   "source": [
    "print(calc_fibo_recursive(32))\n",
    "print(calc_fibo_recursive(33))"
   ]
  },
  {
   "cell_type": "code",
   "execution_count": 93,
   "metadata": {},
   "outputs": [
    {
     "output_type": "stream",
     "name": "stdout",
     "text": [
      "fib_loop (32) took 0.000005s to run\n"
     ]
    },
    {
     "output_type": "execute_result",
     "data": {
      "text/plain": [
       "2178309"
      ]
     },
     "metadata": {},
     "execution_count": 93
    }
   ],
   "source": [
    "fib_loop(32) # faster then recursion"
   ]
  },
  {
   "cell_type": "code",
   "execution_count": 95,
   "metadata": {},
   "outputs": [
    {
     "output_type": "stream",
     "name": "stdout",
     "text": [
      "fib_loop (32) took 0.000003s to run\nfib_loop (32) took 0.000002s to run\nfib_loop (32) took 0.000017s to run\nfib_loop (32) took 0.000002s to run\nfib_loop (32) took 0.000003s to run\nfib_loop (32) took 0.000005s to run\nfib_loop (32) took 0.000004s to run\nfib_loop (32) took 0.000003s to run\nfib_loop (32) took 0.000004s to run\nfib_loop (32) took 0.000004s to run\nfib_loop (32) took 0.000004s to run\nfib_loop (32) took 0.000004s to run\nfib_loop (32) took 0.000004s to run\nfib_loop (32) took 0.000004s to run\nfib_loop (32) took 0.000004s to run\nfib_loop (32) took 0.000155s to run\n"
     ]
    },
    {
     "output_type": "execute_result",
     "data": {
      "text/plain": [
       "2178309"
      ]
     },
     "metadata": {},
     "execution_count": 95
    }
   ],
   "source": [
    "# the problem here is, we cannot say the no.of loop in the decorator. it is fixed to 10.\n",
    "# the soln is parameter decorator.\n",
    "# Either we use closure like:\n",
    "fib_loop = timed(fib_loop,15) # we cannot use @timed\n",
    "fib_loop(32)"
   ]
  },
  {
   "source": [
    "# decorator Application (Logger,Stacked Decorators)\n",
    "- Nested decorator"
   ],
   "cell_type": "markdown",
   "metadata": {}
  },
  {
   "cell_type": "code",
   "execution_count": 123,
   "metadata": {},
   "outputs": [
    {
     "output_type": "stream",
     "name": "stdout",
     "text": [
      "fact1 (3) took 0.000008s to run\n2021-06-02 12:06:26.042689+00:00 : called fact1\n"
     ]
    },
    {
     "output_type": "execute_result",
     "data": {
      "text/plain": [
       "6"
      ]
     },
     "metadata": {},
     "execution_count": 123
    }
   ],
   "source": [
    "def logged(fn):\n",
    "    from functools import wraps\n",
    "    from datetime import datetime\n",
    "\n",
    "    @wraps(fn)\n",
    "    def inner(*args,**kwargs):\n",
    "        run_dt = datetime.now(timezone.utc)\n",
    "        result = fn(*args,**kwargs)\n",
    "\n",
    "        print(f'{run_dt} : called {fn.__name__}')\n",
    "        return result\n",
    "    return inner\n",
    "\n",
    "def timed(fn):\n",
    "    from time import perf_counter\n",
    "    from functools import wraps\n",
    "\n",
    "    @wraps(fn)\n",
    "    def inner(*args,**kwargs):\n",
    "      \n",
    "        start = perf_counter()\n",
    "        result = fn(*args,**kwargs)\n",
    "        end = perf_counter()\n",
    "        elapsed = end -start\n",
    "\n",
    "        args_ = [str(a) for a in args]\n",
    "        kwargs_ = [f'{k}={v}' for k,v in kwargs.items()]\n",
    "        all_args = args_ + kwargs_\n",
    "        args_str = ','.join(all_args)\n",
    "\n",
    "        print(f'{fn.__name__} ({args_str}) took {elapsed:.6f}s to run')\n",
    "        return result\n",
    "    return inner\n",
    "\n",
    "\n",
    "@logged\n",
    "@timed\n",
    "def fact(n):\n",
    "    from functools import reduce\n",
    "    return reduce(lambda x,y:x*y,range(1,n+1))\n",
    "\n",
    "# using closure\n",
    "def fact1(n):\n",
    "    from functools import reduce\n",
    "    return reduce(lambda x,y:x*y,range(1,n+1))\n",
    "fact1 = logged(timed(fact1))\n",
    "fact1(3)"
   ]
  },
  {
   "cell_type": "code",
   "execution_count": 124,
   "metadata": {},
   "outputs": [
    {
     "output_type": "stream",
     "name": "stdout",
     "text": [
      "fact (3) took 0.000012s to run\n2021-06-02 12:06:28.968641+00:00 : called fact\n"
     ]
    },
    {
     "output_type": "execute_result",
     "data": {
      "text/plain": [
       "6"
      ]
     },
     "metadata": {},
     "execution_count": 124
    }
   ],
   "source": [
    "fact(3)"
   ]
  },
  {
   "source": [
    "# Decorator Application (Memoization)\n",
    "- It allows us to build cache of the function values of the returned values, based on the input parameters.\n",
    "- Decrease the computational time."
   ],
   "cell_type": "markdown",
   "metadata": {}
  },
  {
   "cell_type": "code",
   "execution_count": 142,
   "metadata": {},
   "outputs": [
    {
     "output_type": "stream",
     "name": "stdout",
     "text": [
      "calculating fib 10\ncalculating fib 9\ncalculating fib 8\ncalculating fib 7\ncalculating fib 6\ncalculating fib 5\ncalculating fib 4\ncalculating fib 3\ncalculating fib 2\ncalculating fib 1\ncalculating fib 2\ncalculating fib 3\ncalculating fib 2\ncalculating fib 1\ncalculating fib 4\ncalculating fib 3\ncalculating fib 2\ncalculating fib 1\ncalculating fib 2\ncalculating fib 5\ncalculating fib 4\ncalculating fib 3\ncalculating fib 2\ncalculating fib 1\ncalculating fib 2\ncalculating fib 3\ncalculating fib 2\ncalculating fib 1\ncalculating fib 6\ncalculating fib 5\ncalculating fib 4\ncalculating fib 3\ncalculating fib 2\ncalculating fib 1\ncalculating fib 2\ncalculating fib 3\ncalculating fib 2\ncalculating fib 1\ncalculating fib 4\ncalculating fib 3\ncalculating fib 2\ncalculating fib 1\ncalculating fib 2\ncalculating fib 7\ncalculating fib 6\ncalculating fib 5\ncalculating fib 4\ncalculating fib 3\ncalculating fib 2\ncalculating fib 1\ncalculating fib 2\ncalculating fib 3\ncalculating fib 2\ncalculating fib 1\ncalculating fib 4\ncalculating fib 3\ncalculating fib 2\ncalculating fib 1\ncalculating fib 2\ncalculating fib 5\ncalculating fib 4\ncalculating fib 3\ncalculating fib 2\ncalculating fib 1\ncalculating fib 2\ncalculating fib 3\ncalculating fib 2\ncalculating fib 1\ncalculating fib 8\ncalculating fib 7\ncalculating fib 6\ncalculating fib 5\ncalculating fib 4\ncalculating fib 3\ncalculating fib 2\ncalculating fib 1\ncalculating fib 2\ncalculating fib 3\ncalculating fib 2\ncalculating fib 1\ncalculating fib 4\ncalculating fib 3\ncalculating fib 2\ncalculating fib 1\ncalculating fib 2\ncalculating fib 5\ncalculating fib 4\ncalculating fib 3\ncalculating fib 2\ncalculating fib 1\ncalculating fib 2\ncalculating fib 3\ncalculating fib 2\ncalculating fib 1\ncalculating fib 6\ncalculating fib 5\ncalculating fib 4\ncalculating fib 3\ncalculating fib 2\ncalculating fib 1\ncalculating fib 2\ncalculating fib 3\ncalculating fib 2\ncalculating fib 1\ncalculating fib 4\ncalculating fib 3\ncalculating fib 2\ncalculating fib 1\ncalculating fib 2\n"
     ]
    },
    {
     "output_type": "execute_result",
     "data": {
      "text/plain": [
       "55"
      ]
     },
     "metadata": {},
     "execution_count": 142
    }
   ],
   "source": [
    "def calc_fib(n):\n",
    "    print('calculating fib',n)\n",
    "    return 1 if n<3 else calc_fib(n-1)+calc_fib(n-2)\n",
    "\n",
    "calc_fib(10)"
   ]
  },
  {
   "cell_type": "code",
   "execution_count": 146,
   "metadata": {},
   "outputs": [
    {
     "output_type": "stream",
     "name": "stdout",
     "text": [
      "Calculating fib 10\nCalculating fib 9\nCalculating fib 8\nCalculating fib 7\nCalculating fib 6\nCalculating fib 5\nCalculating fib 4\nCalculating fib 3\nCalculating fib 10\nCalculating fib 9\nCalculating fib 8\nCalculating fib 7\nCalculating fib 6\nCalculating fib 5\nCalculating fib 4\nCalculating fib 3\n"
     ]
    },
    {
     "output_type": "execute_result",
     "data": {
      "text/plain": [
       "55"
      ]
     },
     "metadata": {},
     "execution_count": 146
    }
   ],
   "source": [
    "# lets first use class to cache or store the calculated value in dict.\n",
    "class Fib:\n",
    "    def __init__(self):\n",
    "        self.cache = {1:1,2:1}\n",
    "\n",
    "    def fib(self,n):\n",
    "        if n not in self.cache:\n",
    "            print('Calculating fib',n)\n",
    "            self.cache[n] = self.fib(n-1)+self.fib(n-2)\n",
    "        return self.cache[n]\n",
    "\n",
    "    def __call__(self,n):\n",
    "        return self.fib(n)\n",
    "\n",
    "fi = Fib()\n",
    "fi(10)\n",
    "# but the prob is is we create another object then it will calculate again.\n",
    "fj = Fib()\n",
    "fj(10)"
   ]
  },
  {
   "cell_type": "code",
   "execution_count": 147,
   "metadata": {},
   "outputs": [
    {
     "output_type": "stream",
     "name": "stdout",
     "text": [
      "calculating fib  10\ncalculating fib  9\ncalculating fib  8\ncalculating fib  7\ncalculating fib  6\ncalculating fib  5\ncalculating fib  4\ncalculating fib  3\ncalculating fib  10\ncalculating fib  9\ncalculating fib  8\ncalculating fib  7\ncalculating fib  6\ncalculating fib  5\ncalculating fib  4\ncalculating fib  3\n"
     ]
    },
    {
     "output_type": "execute_result",
     "data": {
      "text/plain": [
       "55"
      ]
     },
     "metadata": {},
     "execution_count": 147
    }
   ],
   "source": [
    "# lets use closure to cache the calcualted value\n",
    "def fib():\n",
    "    cache = {1:1,2:1}\n",
    "\n",
    "    def inner(n):\n",
    "        if n not in cache:\n",
    "            print('calculating fib ',n)\n",
    "            cache[n] = inner(n-1)+inner(n-2)\n",
    "        return cache[n]\n",
    "    return inner\n",
    "\n",
    "f = fib()\n",
    "f(10)\n",
    "# but the prob is is we create another object then it will calculate again.\n",
    "ff = fib()\n",
    "ff(10)"
   ]
  },
  {
   "cell_type": "code",
   "execution_count": 161,
   "metadata": {},
   "outputs": [
    {
     "output_type": "stream",
     "name": "stdout",
     "text": [
      "calculating fib 10\ncalculating fib 9\ncalculating fib 8\ncalculating fib 7\ncalculating fib 6\ncalculating fib 5\ncalculating fib 4\ncalculating fib 3\ncalculating fib 2\ncalculating fib 1\n55\n34\ncalculating fib 11\n89\ncalculating fact  7\ncalculating fact  6\ncalculating fact  5\ncalculating fact  4\ncalculating fact  3\ncalculating fact  2\ncalculating fact  1\n5040\n720\n6\n"
     ]
    }
   ],
   "source": [
    "# lets do it with decorator\n",
    "def memoize(fn):\n",
    "    cache = dict() # no limit in cache. we can say 1000 records in cache and then remove least recently used. but hehe,  its built-in.\n",
    "\n",
    "    def inner(n): # but the prob is we dont handle *args and **kwargs. here args can be used.\n",
    "        if n not in cache:\n",
    "            cache[n] = fn(n) # cache[args] , a tuple can be key to a dictionary, but it depends on what is in that tuple. it is more reliable if we hash it.\n",
    "        return cache[n]\n",
    "    return inner\n",
    "\n",
    "@memoize\n",
    "def calc_fib(n):\n",
    "    print('calculating fib',n)\n",
    "    return 1 if n<3 else calc_fib(n-1)+calc_fib(n-2)\n",
    "\n",
    "print(calc_fib(10))\n",
    "print(calc_fib(9)) # here same cache is used.\n",
    "print(calc_fib(11))\n",
    "\n",
    "@memoize\n",
    "def calc_fact(n):\n",
    "    print('calculating fact ',n)\n",
    "    return 1 if n<2 else calc_fact(n-1)*n\n",
    "\n",
    "print(calc_fact(7))\n",
    "print(calc_fact(6))\n",
    "print(calc_fact(3))"
   ]
  },
  {
   "cell_type": "code",
   "execution_count": 172,
   "metadata": {},
   "outputs": [
    {
     "output_type": "stream",
     "name": "stdout",
     "text": [
      "Calculating fib 8\nCalculating fib 7\nCalculating fib 6\nCalculating fib 5\nCalculating fib 4\nCalculating fib 3\nCalculating fib 2\nCalculating fib 1\n21\n3\nCalculating fib 22\nCalculating fib 21\nCalculating fib 20\nCalculating fib 19\nCalculating fib 18\nCalculating fib 17\nCalculating fib 16\nCalculating fib 15\nCalculating fib 14\nCalculating fib 13\nCalculating fib 12\nCalculating fib 11\nCalculating fib 10\nCalculating fib 9\n17711\nCalculating fib 8\nCalculating fib 7\nCalculating fib 6\nCalculating fib 5\nCalculating fib 4\nCalculating fib 3\nCalculating fib 2\nCalculating fib 1\n21\n"
     ]
    }
   ],
   "source": [
    "# let use lru_cache\n",
    "from functools import lru_cache\n",
    "\n",
    "@lru_cache(maxsize=8) # default size is 128 -> 2^size\n",
    "def fib(n):\n",
    "    print('Calculating fib',n)\n",
    "    return 1 if n<3 else fib(n-1)+fib(n-2)\n",
    "\n",
    "print(fib(8))\n",
    "print(fib(4))\n",
    "print(fib(22))\n",
    "print(fib(8))"
   ]
  },
  {
   "source": [
    "# Decorators with parameter"
   ],
   "cell_type": "markdown",
   "metadata": {}
  },
  {
   "cell_type": "code",
   "execution_count": 193,
   "metadata": {},
   "outputs": [],
   "source": [
    "def timed(n=10):\n",
    "    def outer(fn):\n",
    "        from time import perf_counter\n",
    "        from functools import wraps\n",
    "\n",
    "        @wraps(fn)\n",
    "        def inner(*args,**kwargs):\n",
    "            total_elapsed,total_count = 0,0\n",
    "\n",
    "            for i in range(n):\n",
    "                start = perf_counter()\n",
    "                result = fn(*args,**kwargs)\n",
    "                end = perf_counter()\n",
    "                elapsed = end -start\n",
    "\n",
    "                total_elapsed +=elapsed\n",
    "                total_count +=1\n",
    "\n",
    "            total_avg = total_elapsed/total_count\n",
    "            print(f'{fn.__name__} took {total_avg:.6f}s to run')\n",
    "            return result\n",
    "        return inner\n",
    "    return outer\n",
    " \n",
    "def fibo_recursive(n):\n",
    "    return 1 if n<3 else fibo_recursive(n-1)+fibo_recursive(n-2)\n",
    "\n",
    "@timed(4) # @timed is a decorator factory.\n",
    "def calc_fibo_recursive(n): \n",
    "    return fibo_recursive(n)\n"
   ]
  },
  {
   "cell_type": "code",
   "execution_count": 195,
   "metadata": {},
   "outputs": [
    {
     "output_type": "stream",
     "name": "stdout",
     "text": [
      "calc_fibo_recursive took 0.003272s to run\n"
     ]
    },
    {
     "output_type": "execute_result",
     "data": {
      "text/plain": [
       "6765"
      ]
     },
     "metadata": {},
     "execution_count": 195
    }
   ],
   "source": [
    "calc_fibo_recursive(20)"
   ]
  },
  {
   "source": [
    "## Decorator Factories\n",
    "    - The timed function is not itself a Decorator. Instead it returns a Decorator when called.\n",
    "    - any argument passed to timed eg: 'n', can be referenced (as free variable) inside out decorator.\n",
    "- ### we call this timed function a decorator factory function because when we call it, it returns a decorator."
   ],
   "cell_type": "markdown",
   "metadata": {}
  },
  {
   "cell_type": "code",
   "execution_count": 19,
   "metadata": {},
   "outputs": [
    {
     "output_type": "stream",
     "name": "stdout",
     "text": [
      "admin: 1234\nNo user permission for rabin\n"
     ]
    }
   ],
   "source": [
    "import functools\n",
    "\n",
    "user = {'username':'rabin','access_level':'admin'}\n",
    "\n",
    "def make_secure(access_level):\n",
    "    def decorator(func):\n",
    "        @functools.wraps(func)\n",
    "        def wrapper(*args,**kwargs):\n",
    "            return func(*args,**kwargs) if user['access_level']==access_level else f\"No {access_level} permission for {user['username']}\"\n",
    "        return wrapper\n",
    "    return decorator\n",
    "\n",
    "@make_secure('admin')\n",
    "def get_admin_password():\n",
    "    return \"admin: 1234\"\n",
    "\n",
    "@make_secure('user')\n",
    "def get_dashboard_password():\n",
    "    return \"dashboard: password\"\n",
    "\n",
    "\n",
    "print(get_admin_password())\n",
    "print(get_dashboard_password())"
   ]
  },
  {
   "source": [
    "# Decorator Application - Single Dispatch Generic Functions.\n",
    "- usecase:\n",
    "    - format html data"
   ],
   "cell_type": "markdown",
   "metadata": {}
  },
  {
   "cell_type": "code",
   "execution_count": 39,
   "metadata": {},
   "outputs": [],
   "source": [
    "from html import escape\n",
    "from decimal import Decimal\n",
    "\n",
    "def html_escape(arg):\n",
    "    return escape(str(arg))\n",
    "\n",
    "def html_int(a):\n",
    "    return f'{a} <i> {str(hex(a))} </i>'\n",
    "\n",
    "def html_real(a):\n",
    "    return '0:.2f'.format(round(a,2))\n",
    "\n",
    "def html_str(s):\n",
    "    return html_escape(s).replace('\\n','<br/>\\n')\n",
    "\n",
    "def html_list(l):\n",
    "    items = (f'<li>{htmlize(item)}</li>' for item in l)\n",
    "    return '<ul>\\n'+'\\n'.join(items) + '\\n</ul>'\n",
    "\n",
    "def html_dict(d):\n",
    "    items = (f'<li>{k}={htmlize(v)}</li>' for k,v in d.items())\n",
    "    return '<ul>\\n'+'\\n'.join(items)+'\\n</ul>'\n",
    "\n",
    "def html_set(arg):\n",
    "    return html_list(arg)"
   ]
  },
  {
   "cell_type": "code",
   "execution_count": 37,
   "metadata": {},
   "outputs": [],
   "source": [
    "def htmlize(arg):\n",
    "    registry={\n",
    "        object: html_escape,\n",
    "        int: html_int,\n",
    "        float: html_real,\n",
    "        Decimal: html_real,\n",
    "        str: html_str,\n",
    "        list: html_list,\n",
    "        tuple: html_list,\n",
    "        set: html_set,\n",
    "        dict: \n",
    "        html_dict\n",
    "    }\n",
    "    fn = registry.get(type(arg),registry[object])\n",
    "    return fn(arg)"
   ]
  },
  {
   "cell_type": "code",
   "execution_count": 38,
   "metadata": {},
   "outputs": [
    {
     "output_type": "stream",
     "name": "stdout",
     "text": [
      "255 <i> 0xff </i>\n<ul>\n<li>this is the <br/>\nmultiline strong</li>\n<li><ul>\n<li>1 <i> 0x1 </i></li>\n<li>2 <i> 0x2 </i></li>\n<li>3 <i> 0x3 </i></li>\n</ul></li>\n<li>100 <i> 0x64 </i></li>\n</ul>\n"
     ]
    }
   ],
   "source": [
    "print(html_int(255))\n",
    "print(htmlize([\"\"\"this is the \n",
    "multiline strong\"\"\",{1,2,3},100]))"
   ]
  },
  {
   "cell_type": "code",
   "execution_count": 30,
   "metadata": {},
   "outputs": [
    {
     "output_type": "execute_result",
     "data": {
      "text/plain": [
       "'100 <i> 0x64 </i>'"
      ]
     },
     "metadata": {},
     "execution_count": 30
    }
   ],
   "source": [
    "htmlize(100)"
   ]
  },
  {
   "source": [
    "## we have hard coded our registry.\n",
    "## It is done, but what if we have add new custom type to that registry dictionary."
   ],
   "cell_type": "markdown",
   "metadata": {}
  },
  {
   "cell_type": "code",
   "execution_count": 91,
   "metadata": {},
   "outputs": [],
   "source": [
    "def singledispatch(fn):\n",
    "    registry = {}\n",
    "\n",
    "    registry[object]= fn\n",
    "    def decorator(arg):\n",
    "        return registry.get(type(arg),registry[object])(arg)\n",
    "\n",
    "    def register(type_): # parameterized decorator inside decorator\n",
    "        def inner(fn):\n",
    "            registry[type_] = fn\n",
    "            return fn\n",
    "        return inner\n",
    "    \n",
    "    def dispatch(type_):\n",
    "        return registry.get(type_,registry[object])\n",
    "\n",
    "    decorator.register = register\n",
    "    decorator.dispatch = dispatch\n",
    "    # add attribute dynamically at run-time.\n",
    "    # monkey patching.\n",
    "    return decorator"
   ]
  },
  {
   "cell_type": "code",
   "execution_count": 92,
   "metadata": {},
   "outputs": [
    {
     "output_type": "execute_result",
     "data": {
      "text/plain": [
       "'100'"
      ]
     },
     "metadata": {},
     "execution_count": 92
    }
   ],
   "source": [
    "@singledispatch\n",
    "def htmlize(a):\n",
    "    return escape(str(a))\n",
    "\n",
    "htmlize(100)"
   ]
  },
  {
   "cell_type": "code",
   "execution_count": 93,
   "metadata": {},
   "outputs": [],
   "source": [
    "@htmlize.register(int)\n",
    "def html_int(a):\n",
    "    return f'{a} <i> {str(hex(a))} </i>'"
   ]
  },
  {
   "cell_type": "code",
   "execution_count": 94,
   "metadata": {},
   "outputs": [
    {
     "output_type": "execute_result",
     "data": {
      "text/plain": [
       "'100 <i> 0x64 </i>'"
      ]
     },
     "metadata": {},
     "execution_count": 94
    }
   ],
   "source": [
    "htmlize(100)"
   ]
  },
  {
   "cell_type": "code",
   "execution_count": 95,
   "metadata": {},
   "outputs": [],
   "source": [
    "@htmlize.register(set)\n",
    "@htmlize.register(tuple)\n",
    "@htmlize.register(list)\n",
    "def html_sequence(l):\n",
    "    items = (f'<li>{htmlize(item)}</li>' for item in l)\n",
    "    return '<ul>\\n'+'\\n'.join(items) + '\\n</ul>'"
   ]
  },
  {
   "cell_type": "code",
   "execution_count": 103,
   "metadata": {},
   "outputs": [
    {
     "output_type": "stream",
     "name": "stdout",
     "text": [
      "<ul>\n<li>1 <i> 0x1 </i></li>\n<li>2 <i> 0x2 </i></li>\n<li>3 <i> 0x3 </i></li>\n</ul>\n"
     ]
    }
   ],
   "source": [
    "print(htmlize({1,2,3}))"
   ]
  },
  {
   "cell_type": "code",
   "execution_count": 107,
   "metadata": {},
   "outputs": [],
   "source": [
    "from numbers import Integral\n",
    "@htmlize.register(int)\n",
    "@htmlize.register(Integral)\n",
    "def html_int(a):\n",
    "    return f'{a} <i> {str(hex(a))} </i>'"
   ]
  },
  {
   "cell_type": "code",
   "execution_count": 108,
   "metadata": {},
   "outputs": [
    {
     "output_type": "stream",
     "name": "stdout",
     "text": [
      "10 <i> 0xa </i>\n"
     ]
    }
   ],
   "source": [
    "print(htmlize(10))"
   ]
  },
  {
   "cell_type": "code",
   "execution_count": 100,
   "metadata": {},
   "outputs": [
    {
     "output_type": "execute_result",
     "data": {
      "text/plain": [
       "<function __main__.html_integral(i)>"
      ]
     },
     "metadata": {},
     "execution_count": 100
    }
   ],
   "source": [
    "htmlize.dispatch(Integral)"
   ]
  },
  {
   "source": [
    "## Here the problem is that:\n",
    "# 10 is int as well as integer. In the decorator, we use type() to check and return the function that matches the type of argument we passed."
   ],
   "cell_type": "code",
   "metadata": {},
   "execution_count": 116,
   "outputs": []
  },
  {
   "cell_type": "code",
   "execution_count": 119,
   "metadata": {},
   "outputs": [
    {
     "output_type": "stream",
     "name": "stdout",
     "text": [
      "True\nFalse\n"
     ]
    }
   ],
   "source": [
    "# Same as in sequence.\n",
    "from collections.abc import Sequence\n",
    "print(isinstance([1,2],Sequence))\n",
    "# BUT\n",
    "print(type([1,2]) is Sequence)\n",
    "# So, we have to use, isinstance in the decorator."
   ]
  },
  {
   "source": [
    "## Fixing the type to isinstance using built-in singledispatch"
   ],
   "cell_type": "markdown",
   "metadata": {}
  },
  {
   "cell_type": "code",
   "execution_count": 1,
   "metadata": {},
   "outputs": [
    {
     "output_type": "execute_result",
     "data": {
      "text/plain": [
       "mappingproxy({object: <function __main__.htmlize(a)>})"
      ]
     },
     "metadata": {},
     "execution_count": 1
    }
   ],
   "source": [
    "from functools import singledispatch\n",
    "from numbers import Integral\n",
    "from collections.abc import Sequence\n",
    "from html import escape\n",
    "\n",
    "@singledispatch\n",
    "def htmlize(a): # will be default function.\n",
    "    return escape(str(a))\n",
    "\n",
    "htmlize.registry"
   ]
  },
  {
   "cell_type": "code",
   "execution_count": 2,
   "metadata": {},
   "outputs": [],
   "source": [
    "@htmlize.register(Integral)\n",
    "def htmlize_integral_number(a):\n",
    "    return f'{a} <i>{str(hex(a))} </i>'"
   ]
  },
  {
   "cell_type": "code",
   "execution_count": 3,
   "metadata": {},
   "outputs": [
    {
     "output_type": "stream",
     "name": "stdout",
     "text": [
      "<class 'int'>\nTrue\nTrue\nTrue\n"
     ]
    }
   ],
   "source": [
    "htmlize(10)\n",
    "# so here\n",
    "print(type(10))\n",
    "print(isinstance(10,int))\n",
    "print(isinstance(10,Integral))\n",
    "# same with the boolean\n",
    "print(isinstance(True,Integral))"
   ]
  },
  {
   "cell_type": "code",
   "execution_count": 4,
   "metadata": {},
   "outputs": [],
   "source": [
    "@htmlize.register(Sequence)\n",
    "def html_sequence(l):\n",
    "    items = (f'<li>{htmlize(item)}</li>' for item in l)\n",
    "    return '<ul>\\n'+'\\n'.join(items) + '\\n</ul>'"
   ]
  },
  {
   "cell_type": "code",
   "execution_count": 5,
   "metadata": {},
   "outputs": [
    {
     "output_type": "stream",
     "name": "stdout",
     "text": [
      "<ul>\n<li>1 <i>0x1 </i></li>\n<li>2 <i>0x2 </i></li>\n<li>3 <i>0x3 </i></li>\n</ul>\n<class 'list'>\nTrue\nTrue\nFalse\n"
     ]
    }
   ],
   "source": [
    "print(htmlize([1,2,3]))\n",
    "\n",
    "print(type([1,2]))\n",
    "print(isinstance([1,2],Sequence))\n",
    "print(isinstance((1,2),Sequence))\n",
    "\n",
    "print(isinstance({1,2},Sequence)) # set"
   ]
  },
  {
   "cell_type": "code",
   "execution_count": 17,
   "metadata": {},
   "outputs": [],
   "source": [
    "# if we want to do specific for tuples\n",
    "@htmlize.register(tuple)\n",
    "def html_tuple(t):\n",
    "    items = (escape(str(item)) for item in t)\n",
    "    return f'({\", \".join(items)})'"
   ]
  },
  {
   "cell_type": "code",
   "execution_count": 20,
   "metadata": {},
   "outputs": [
    {
     "output_type": "execute_result",
     "data": {
      "text/plain": [
       "'(1, 2)'"
      ]
     },
     "metadata": {},
     "execution_count": 20
    }
   ],
   "source": [
    "htmlize((1,2))"
   ]
  },
  {
   "cell_type": "code",
   "execution_count": 14,
   "metadata": {},
   "outputs": [
    {
     "output_type": "stream",
     "name": "stdout",
     "text": [
      "\"python\": is sequence-> True\n"
     ]
    }
   ],
   "source": [
    "print('\"python\": is sequence->',isinstance('python',Sequence))\n",
    "# htmlize('python') # Max exceed error.\n",
    "# we dont want to handle string\n",
    "@htmlize.register(str)\n",
    "def html_str(s):\n",
    "    return escape(s).replace('\\n','<br/>\\n')"
   ]
  },
  {
   "cell_type": "code",
   "execution_count": 15,
   "metadata": {},
   "outputs": [
    {
     "output_type": "execute_result",
     "data": {
      "text/plain": [
       "'python 1&lt;10'"
      ]
     },
     "metadata": {},
     "execution_count": 15
    }
   ],
   "source": [
    "htmlize('python 1<10')"
   ]
  },
  {
   "source": [
    "## The best approach is to use function name\n",
    "- def _():\n",
    "- So, that we cannot call the function directly.\n",
    "- We should use htmlizer"
   ],
   "cell_type": "markdown",
   "metadata": {}
  },
  {
   "cell_type": "code",
   "execution_count": 21,
   "metadata": {},
   "outputs": [
    {
     "output_type": "execute_result",
     "data": {
      "text/plain": [
       "mappingproxy({object: <function __main__.htmlize(a)>})"
      ]
     },
     "metadata": {},
     "execution_count": 21
    }
   ],
   "source": [
    "from functools import singledispatch\n",
    "from numbers import Integral\n",
    "from collections.abc import Sequence\n",
    "from html import escape\n",
    "\n",
    "@singledispatch\n",
    "def htmlize(a): # will be default function.\n",
    "    return escape(str(a))\n",
    "\n",
    "htmlize.registry"
   ]
  },
  {
   "cell_type": "code",
   "execution_count": 35,
   "metadata": {},
   "outputs": [],
   "source": [
    "@htmlize.register(Integral)\n",
    "def _(a): return f'{a} <i>{str(hex(a))} </i>'\n",
    "\n",
    "@htmlize.register(Sequence)\n",
    "def _(l): # look for function lable pointing-> memory address as refrence. all function have diff address.\n",
    "    items = (f'<li>{htmlize(item)}</li>' for item in l)\n",
    "    return '<ul>\\n'+'\\n'.join(items) + '\\n</ul>'\n",
    "\n",
    "@htmlize.register(tuple)\n",
    "def _(t):\n",
    "    items = (escape(str(item)) for item in t)\n",
    "    return f'({\", \".join(items)})'\n",
    "\n",
    "@htmlize.register(set)\n",
    "def _(s):\n",
    "    items = (escape(str(item)) for item in s)\n",
    "    return f'({\"- \".join(items)})'\n",
    "\n",
    "@htmlize.register(str)\n",
    "def _(s): return escape(s).replace('\\n','<br/>\\n')"
   ]
  },
  {
   "cell_type": "code",
   "execution_count": 34,
   "metadata": {},
   "outputs": [
    {
     "output_type": "execute_result",
     "data": {
      "text/plain": [
       "mappingproxy({object: <function __main__.htmlize(a)>,\n",
       "              numbers.Integral: <function __main__._(a)>,\n",
       "              collections.abc.Sequence: <function __main__._(l)>,\n",
       "              tuple: <function __main__._(t)>,\n",
       "              str: <function __main__._(s)>,\n",
       "              set: <function __main__._(s)>})"
      ]
     },
     "metadata": {},
     "execution_count": 34
    }
   ],
   "source": [
    "htmlize.registry"
   ]
  },
  {
   "cell_type": "code",
   "execution_count": 33,
   "metadata": {},
   "outputs": [
    {
     "output_type": "stream",
     "name": "stdout",
     "text": [
      "<ul>\n<li>1 <i>0x1 </i></li>\n<li>2 <i>0x2 </i></li>\n<li>3 <i>0x3 </i></li>\n</ul>\n(8- 1- 9)\n"
     ]
    }
   ],
   "source": [
    "print(htmlize([1,2,3]))\n",
    "print(htmlize({1,8,9}))"
   ]
  }
 ]
}