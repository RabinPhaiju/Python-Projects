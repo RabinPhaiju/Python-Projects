{
 "metadata": {
  "language_info": {
   "codemirror_mode": {
    "name": "ipython",
    "version": 3
   },
   "file_extension": ".py",
   "mimetype": "text/x-python",
   "name": "python",
   "nbconvert_exporter": "python",
   "pygments_lexer": "ipython3",
   "version": "3.9.1"
  },
  "orig_nbformat": 2,
  "kernelspec": {
   "name": "python391jvsc74a57bd06dbcfa4acfde829108fd9fed7b4c7e3cf5b89483651b78d4b8e08d6c4461514a",
   "display_name": "Python 3.9.1 64-bit ('venv1': venv)"
  }
 },
 "nbformat": 4,
 "nbformat_minor": 2,
 "cells": [
  {
   "cell_type": "code",
   "execution_count": 1,
   "metadata": {},
   "outputs": [
    {
     "output_type": "stream",
     "name": "stdout",
     "text": [
      "6\n(1, 4, 9)\n"
     ]
    }
   ],
   "source": [
    "# lambda function\n",
    "\n",
    "def function(x, y, z):\n",
    "    return x+y+z\n",
    "\n",
    "print(function(1, 2, 3))\n",
    "\n",
    "fun = lambda x, y, z: (x**2, y**2,z**2)\n",
    "\n",
    "print(fun(1, 2, 3))"
   ]
  },
  {
   "cell_type": "code",
   "execution_count": 4,
   "metadata": {},
   "outputs": [
    {
     "output_type": "stream",
     "name": "stdout",
     "text": [
      "[2, 8, 10, 18]\n[2, 8, 10, 18]\n[2, 8, 10, 18]\n"
     ]
    }
   ],
   "source": [
    "sequence = [1,4,5,9]\n",
    "\n",
    "print([ x*2 for x in sequence])\n",
    "\n",
    "print([(lambda x:x*2)(x) for x in sequence])\n",
    "print(list(map(lambda x:x*2,sequence)))"
   ]
  },
  {
   "cell_type": "code",
   "execution_count": 10,
   "metadata": {},
   "outputs": [
    {
     "output_type": "execute_result",
     "data": {
      "text/plain": [
       "'54321'"
      ]
     },
     "metadata": {},
     "execution_count": 10
    }
   ],
   "source": [
    "reverse = lambda s:(s[::-1].upper())\n",
    "reverse('12345')\n",
    "# Lamda function are NOT equivalent to closures."
   ]
  },
  {
   "cell_type": "code",
   "execution_count": 15,
   "metadata": {},
   "outputs": [
    {
     "output_type": "stream",
     "name": "stdout",
     "text": [
      "9\n10\n"
     ]
    }
   ],
   "source": [
    "# Passing as an argument to another function\n",
    "def apply_func(x,fn):\n",
    "    return fn(x)\n",
    "\n",
    "print(apply_func(3,lambda x:x**2))\n",
    "print(apply_func(5,lambda x:x +5))"
   ]
  },
  {
   "cell_type": "code",
   "execution_count": 19,
   "metadata": {},
   "outputs": [
    {
     "output_type": "stream",
     "name": "stdout",
     "text": [
      "9\n20\n39\n"
     ]
    }
   ],
   "source": [
    "def apply_func(fn,*args,**kwargs):\n",
    "    return fn(*args,*kwargs)\n",
    "\n",
    "print(apply_func(lambda x:x**2,3))\n",
    "print(apply_func(lambda a,b:a*b,4,5))\n",
    "print(apply_func(lambda *args:sum(args),4,5,6,7,8,9))"
   ]
  },
  {
   "cell_type": "code",
   "execution_count": null,
   "metadata": {},
   "outputs": [],
   "source": [
    "# Limitation\n",
    "    - has to be single expression\n",
    "    - no assignment.\n",
    "    - no annotations\n",
    "    - "
   ]
  },
  {
   "source": [
    "# sorted"
   ],
   "cell_type": "markdown",
   "metadata": {}
  },
  {
   "cell_type": "code",
   "execution_count": 20,
   "metadata": {},
   "outputs": [
    {
     "output_type": "execute_result",
     "data": {
      "text/plain": [
       "['B', 'D', 'a', 'c']"
      ]
     },
     "metadata": {},
     "execution_count": 20
    }
   ],
   "source": [
    "l = ['c','D','B','a']\n",
    "sorted(l)"
   ]
  },
  {
   "cell_type": "code",
   "execution_count": 22,
   "metadata": {},
   "outputs": [
    {
     "output_type": "execute_result",
     "data": {
      "text/plain": [
       "['a', 'B', 'c', 'D']"
      ]
     },
     "metadata": {},
     "execution_count": 22
    }
   ],
   "source": [
    "sorted(l,key=lambda s:s.upper())"
   ]
  },
  {
   "cell_type": "code",
   "execution_count": 23,
   "metadata": {},
   "outputs": [
    {
     "output_type": "execute_result",
     "data": {
      "text/plain": [
       "['abc', 'def', 'ghi']"
      ]
     },
     "metadata": {},
     "execution_count": 23
    }
   ],
   "source": [
    "d = {'def':300,'abc':200,'ghi':100}\n",
    "sorted(d)"
   ]
  },
  {
   "cell_type": "code",
   "execution_count": 32,
   "metadata": {},
   "outputs": [
    {
     "output_type": "execute_result",
     "data": {
      "text/plain": [
       "['ghi', 'abc', 'def']"
      ]
     },
     "metadata": {},
     "execution_count": 32
    }
   ],
   "source": [
    "sorted(d,key=lambda e:d[e])"
   ]
  },
  {
   "cell_type": "code",
   "execution_count": 34,
   "metadata": {},
   "outputs": [
    {
     "output_type": "error",
     "ename": "TypeError",
     "evalue": "'<' not supported between instances of 'complex' and 'complex'",
     "traceback": [
      "\u001b[1;31m---------------------------------------------------------------------------\u001b[0m",
      "\u001b[1;31mTypeError\u001b[0m                                 Traceback (most recent call last)",
      "\u001b[1;32m<ipython-input-34-03572d0cd2bc>\u001b[0m in \u001b[0;36m<module>\u001b[1;34m\u001b[0m\n\u001b[0;32m      4\u001b[0m \u001b[0mcl\u001b[0m \u001b[1;33m=\u001b[0m \u001b[1;33m[\u001b[0m\u001b[1;36m3\u001b[0m\u001b[1;33m+\u001b[0m\u001b[1;36m3j\u001b[0m\u001b[1;33m,\u001b[0m\u001b[1;36m1\u001b[0m\u001b[1;33m-\u001b[0m\u001b[1;36m1j\u001b[0m\u001b[1;33m,\u001b[0m\u001b[1;36m0\u001b[0m\u001b[1;33m,\u001b[0m\u001b[1;36m3\u001b[0m\u001b[1;33m+\u001b[0m\u001b[1;36m0j\u001b[0m\u001b[1;33m]\u001b[0m\u001b[1;33m\u001b[0m\u001b[1;33m\u001b[0m\u001b[0m\n\u001b[0;32m      5\u001b[0m \u001b[1;33m\u001b[0m\u001b[0m\n\u001b[1;32m----> 6\u001b[1;33m \u001b[0msorted\u001b[0m\u001b[1;33m(\u001b[0m\u001b[0mcl\u001b[0m\u001b[1;33m)\u001b[0m\u001b[1;33m\u001b[0m\u001b[1;33m\u001b[0m\u001b[0m\n\u001b[0m",
      "\u001b[1;31mTypeError\u001b[0m: '<' not supported between instances of 'complex' and 'complex'"
     ]
    }
   ],
   "source": [
    "def dist_sq(x):\n",
    "    return (x.real)**2 + (x.imag)**2\n",
    "    \n",
    "cl = [3+3j,1-1j,0,3+0j]\n",
    "\n",
    "sorted(cl)"
   ]
  },
  {
   "cell_type": "code",
   "execution_count": 35,
   "metadata": {},
   "outputs": [
    {
     "output_type": "execute_result",
     "data": {
      "text/plain": [
       "[0, (1-1j), (3+0j), (3+3j)]"
      ]
     },
     "metadata": {},
     "execution_count": 35
    }
   ],
   "source": [
    "sorted(cl,key=dist_sq)"
   ]
  },
  {
   "cell_type": "code",
   "execution_count": 36,
   "metadata": {},
   "outputs": [
    {
     "output_type": "execute_result",
     "data": {
      "text/plain": [
       "['Chapman', 'Cheese', 'Gilliam', 'Idle', 'Jones', 'Palin']"
      ]
     },
     "metadata": {},
     "execution_count": 36
    }
   ],
   "source": [
    "l = ['Cheese','Idle','Palin','Chapman','Gilliam','Jones']\n",
    "sorted(l)"
   ]
  },
  {
   "cell_type": "code",
   "execution_count": 38,
   "metadata": {},
   "outputs": [
    {
     "output_type": "execute_result",
     "data": {
      "text/plain": [
       "['Cheese', 'Idle', 'Gilliam', 'Palin', 'Chapman', 'Jones']"
      ]
     },
     "metadata": {},
     "execution_count": 38
    }
   ],
   "source": [
    "# sort by the last character of the item in list\n",
    "sorted(l,key=lambda s:s[-1])"
   ]
  },
  {
   "source": [
    "# Randomizing an Iterable using Sorted"
   ],
   "cell_type": "markdown",
   "metadata": {}
  },
  {
   "cell_type": "code",
   "execution_count": 143,
   "metadata": {},
   "outputs": [
    {
     "output_type": "execute_result",
     "data": {
      "text/plain": [
       "[1, 3, 2, 10, 6, 4, 9, 8, 7, 5]"
      ]
     },
     "metadata": {},
     "execution_count": 143
    }
   ],
   "source": [
    "import random\n",
    "\n",
    "l = [1,2,3,4,5,6,7,8,9,10]\n",
    "sorted(l,key=lambda x:random.random())"
   ]
  }
 ]
}