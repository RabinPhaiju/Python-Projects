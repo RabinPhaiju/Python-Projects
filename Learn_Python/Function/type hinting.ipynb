{
 "metadata": {
  "language_info": {
   "codemirror_mode": {
    "name": "ipython",
    "version": 3
   },
   "file_extension": ".py",
   "mimetype": "text/x-python",
   "name": "python",
   "nbconvert_exporter": "python",
   "pygments_lexer": "ipython3",
   "version": "3.9.1"
  },
  "orig_nbformat": 2,
  "kernelspec": {
   "name": "python391jvsc74a57bd06dbcfa4acfde829108fd9fed7b4c7e3cf5b89483651b78d4b8e08d6c4461514a",
   "display_name": "Python 3.9.1 64-bit ('venv1': venv)",
   "language": "python"
  }
 },
 "nbformat": 4,
 "nbformat_minor": 2,
 "cells": [
  {
   "cell_type": "code",
   "execution_count": 11,
   "metadata": {},
   "outputs": [
    {
     "output_type": "stream",
     "name": "stdout",
     "text": [
      "2.0\nYour name is rabin and age is 26 with sallary 40000\n"
     ]
    }
   ],
   "source": [
    "from typing import List\n",
    "\n",
    "def list_avg(sequence:list)->float:\n",
    "    return sum(sequence)/len(sequence)\n",
    "\n",
    "def person(name:str,age:int,sallary:float)->str:\n",
    "    return f\"Your name is {name} and age is {age} with sallary {sallary}\"\n",
    "\n",
    "print(list_avg([1,2,3]))\n",
    "per = person('rabin',26,40000)\n",
    "print(per)"
   ]
  },
  {
   "cell_type": "code",
   "execution_count": null,
   "metadata": {},
   "outputs": [],
   "source": []
  }
 ]
}