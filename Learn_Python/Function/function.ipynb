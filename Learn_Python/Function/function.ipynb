{
 "metadata": {
  "language_info": {
   "codemirror_mode": {
    "name": "ipython",
    "version": 3
   },
   "file_extension": ".py",
   "mimetype": "text/x-python",
   "name": "python",
   "nbconvert_exporter": "python",
   "pygments_lexer": "ipython3",
   "version": "3.8.5"
  },
  "orig_nbformat": 2,
  "kernelspec": {
   "name": "python385jvsc74a57bd0a456efd1d2e2bfa10bfdad488db5626e5f8bd233a0f11ae70ce0e7717a6a7d8d",
   "display_name": "Python 3.8.5 64-bit (conda)"
  }
 },
 "nbformat": 4,
 "nbformat_minor": 2,
 "cells": [
  {
   "source": [
    "### every function returns something, if nothing is return then 'None' is returned\n"
   ],
   "cell_type": "markdown",
   "metadata": {}
  },
  {
   "cell_type": "code",
   "execution_count": 5,
   "metadata": {},
   "outputs": [
    {
     "output_type": "stream",
     "name": "stdout",
     "text": [
      "aa\n"
     ]
    }
   ],
   "source": [
    "def number_adder(a:int,b:int)->int:\n",
    "    ''':int are just documentation that the functions need what parameter what will return. But it doesnt stop them to pass other things.'''\n",
    "    return a*b\n",
    "\n",
    "print(number_adder('a',2))"
   ]
  },
  {
   "cell_type": "code",
   "execution_count": 2,
   "metadata": {},
   "outputs": [
    {
     "output_type": "stream",
     "name": "stdout",
     "text": [
      "addes two number\n35\n"
     ]
    }
   ],
   "source": [
    "# default parameter\n",
    "def adder(n1=5, n2):\n",
    "    \"\"\"addes two number\"\"\"\n",
    "    return n1 + n2\n",
    "\n",
    "print(adder.__doc__)\n",
    "print(adder(12, 23))"
   ]
  },
  {
   "cell_type": "code",
   "execution_count": 12,
   "metadata": {},
   "outputs": [
    {
     "output_type": "stream",
     "name": "stdout",
     "text": [
      "\n    this functions returns the discounted value\n    \n50.0\n"
     ]
    }
   ],
   "source": [
    "price_of_food = {\n",
    "    'apple': 100,\n",
    "    'grapes': 300,\n",
    "    'watermelon': 20\n",
    "}\n",
    "price_of_food['apple']\n",
    "\n",
    "# shopkeeper started giving 50% discount\n",
    "def discount(food, discount_rate=0.10):\n",
    "    \"\"\"\n",
    "    this functions returns the discounted value\n",
    "    \"\"\"\n",
    "    market_price = price_of_food[food]\n",
    "    discount_amount = market_price * discount_rate\n",
    "    price = market_price - discount_amount\n",
    "    return price\n",
    "\n",
    "print(discount.__doc__)\n",
    "print(discount('apple', 0.5))\n"
   ]
  },
  {
   "cell_type": "code",
   "execution_count": 8,
   "metadata": {},
   "outputs": [
    {
     "output_type": "stream",
     "name": "stdout",
     "text": [
      "3\n"
     ]
    }
   ],
   "source": [
    "# positional argument\n",
    "def adder(x,y):\n",
    "    print(x+y)\n",
    "\n",
    "adder(1,2)"
   ]
  },
  {
   "cell_type": "code",
   "execution_count": 9,
   "metadata": {},
   "outputs": [
    {
     "output_type": "stream",
     "name": "stdout",
     "text": [
      "3\n"
     ]
    }
   ],
   "source": [
    "# named argument\n",
    "def adder1(x,y):\n",
    "    print(x+y)\n",
    "\n",
    "adder1(y=1,x=2)"
   ]
  },
  {
   "cell_type": "code",
   "execution_count": 9,
   "metadata": {},
   "outputs": [
    {
     "output_type": "stream",
     "name": "stdout",
     "text": [
      "1 2 3 6\n1 3 2 6\n1 2 3 6\n"
     ]
    }
   ],
   "source": [
    "# posotional and named argument in same function\n",
    "def adder2(x,y,z):\n",
    "    print(x,y,z,x+y+z)\n",
    "\n",
    "adder2(1,2,z=3) # correct\n",
    "adder2(1,z=2,y=3) # correct\n",
    "adder2(1,2,3) # correct\n",
    "# adder2(x=1,2,3) # in-correct\n",
    "# adder2(1,y=2,3) # in-correct\n",
    "# Once you use a named argument, all arguments thereafter must be named too."
   ]
  },
  {
   "source": [
    "# keyword argument ------------------\n",
    "def adder(n1, n2=1, n3=2):\n",
    "    print(f'n1={n1}, n2={n2}, n3={n3}')\n",
    "    return n1 + n2 + n3\n",
    "\n",
    "print(adder(n2=2, n1=4, n3=6))\n",
    "print(adder(n1=2, n3=2))\n",
    "print(adder(1))"
   ],
   "cell_type": "code",
   "metadata": {},
   "execution_count": 11,
   "outputs": [
    {
     "output_type": "stream",
     "name": "stdout",
     "text": [
      "n1=4, n2=2, n3=6\n12\nn1=2, n2=1, n3=2\n5\nn1=1, n2=1, n3=2\n4\n"
     ]
    }
   ]
  },
  {
   "cell_type": "code",
   "execution_count": 3,
   "metadata": {},
   "outputs": [
    {
     "output_type": "stream",
     "name": "stdout",
     "text": [
      "120\n"
     ]
    }
   ],
   "source": [
    "# recursion\n",
    "def factorial(n):\n",
    "    if n <= 1:\n",
    "        return 1\n",
    "    return n * factorial(n - 1)\n",
    "\n",
    "print(factorial(5))"
   ]
  },
  {
   "cell_type": "code",
   "execution_count": 4,
   "metadata": {},
   "outputs": [
    {
     "output_type": "stream",
     "name": "stdout",
     "text": [
      "[1, 4, 5, 10, 20]\n10\n"
     ]
    }
   ],
   "source": [
    "def something(arg, b):\n",
    "    arg.append(10)\n",
    "    arg.append(20)\n",
    "    b = 20 # search 1st in local and then global\n",
    "\n",
    "\n",
    "b = 10\n",
    "a = [1, 4, 5]\n",
    "something(a, b)\n",
    "print(a)\n",
    "print(b)"
   ]
  },
  {
   "cell_type": "code",
   "execution_count": 5,
   "metadata": {},
   "outputs": [
    {
     "output_type": "stream",
     "name": "stdout",
     "text": [
      "total is 30\n0\n"
     ]
    }
   ],
   "source": [
    "# global inside function\n",
    "total = 0\n",
    "\n",
    "def adder(arg1, arg2):\n",
    "    # global total\n",
    "    total = arg1 + arg2\n",
    "    print(f'total is {total}')\n",
    "\n",
    "adder(10, 20)\n",
    "print(total)"
   ]
  },
  {
   "cell_type": "code",
   "execution_count": 6,
   "metadata": {},
   "outputs": [
    {
     "output_type": "stream",
     "name": "stdout",
     "text": [
      "new\n"
     ]
    }
   ],
   "source": [
    "# function overloading -> no function overloading in python\n",
    "\n",
    "def test():\n",
    "    print(\"old\")\n",
    "\n",
    "def test():\n",
    "    print('new')\n",
    "\n",
    "test()\n",
    "\n",
    "def tests():\n",
    "    \"test\"\n",
    "\n",
    "tests()"
   ]
  },
  {
   "cell_type": "code",
   "execution_count": 1,
   "metadata": {},
   "outputs": [
    {
     "output_type": "stream",
     "name": "stdout",
     "text": [
      "i am outer\nNone\n"
     ]
    }
   ],
   "source": [
    "# nested function\n",
    "def outer():\n",
    "    print('i am outer')\n",
    "\n",
    "    def inner():\n",
    "        print(' i am inner')\n",
    "\n",
    "print(outer())"
   ]
  },
  {
   "cell_type": "code",
   "execution_count": null,
   "metadata": {},
   "outputs": [],
   "source": []
  },
  {
   "source": [
    "# Function cache"
   ],
   "cell_type": "markdown",
   "metadata": {}
  },
  {
   "source": [
    "# Example"
   ],
   "cell_type": "markdown",
   "metadata": {}
  },
  {
   "cell_type": "code",
   "execution_count": 1,
   "metadata": {},
   "outputs": [
    {
     "output_type": "stream",
     "name": "stdout",
     "text": [
      "apple added to list\nwatermelon added to list\n['apple', 'watermelon']\n"
     ]
    }
   ],
   "source": [
    "list_to_buy = list()\n",
    "# list should always be available\n",
    "\n",
    "def add_food(food):\n",
    "    if food not in list_to_buy:\n",
    "        print('{} added to list'.format(food))\n",
    "        list_to_buy.append(food)\n",
    "    else:\n",
    "        print('{} already added to list'.format(food))\n",
    "\n",
    "\n",
    "def remove_food(food):\n",
    "    if food in list_to_buy:\n",
    "        print('{} remove from list'.format(food))\n",
    "        list_to_buy.remove(food)\n",
    "    else:\n",
    "        print('{} not in list'.format(food))\n",
    "\n",
    "\n",
    "food = add_food\n",
    "list_to_buy = list()\n",
    "\n",
    "food('apple')\n",
    "food('watermelon')\n",
    "# remove_food('apple')\n",
    "print(list_to_buy)\n"
   ]
  },
  {
   "cell_type": "code",
   "execution_count": 2,
   "metadata": {},
   "outputs": [
    {
     "output_type": "stream",
     "name": "stdout",
     "text": [
      "1746728424368 140723577041792 1746728505536\n1746728424368 140723577044992 1746728505536\norange added to list\n100\n1746728424368 140723577041792 1746728505536\n"
     ]
    }
   ],
   "source": [
    "def add_food(f, my_list, price):\n",
    "    food = f\n",
    "    print(id(food), id(price), id(my_list))\n",
    "    price = 200\n",
    "\n",
    "    print(id(food), id(price), id(my_list))\n",
    "    if food not in my_list:\n",
    "        my_list.append(food)\n",
    "        print('{} added to list'.format(food))\n",
    "    else:\n",
    "        print('{} already in the list'.format(food))\n",
    "\n",
    "\n",
    "list_to_buy = list()\n",
    "price = 100\n",
    "food = 'orange'\n",
    "\n",
    "add_food(food, list_to_buy, price)  # pass by reference\n",
    "# list act as object when pass to a function is pass by reference\n",
    "# print(list_to_buy)\n",
    "print(price)\n",
    "# but price is passed as value\n",
    "print(id(food), id(price), id(list_to_buy))\n",
    "\n",
    "# integer, string are e-mutable so passed as value\n",
    "# list  are mutable so passed as reference\n"
   ]
  }
 ]
}