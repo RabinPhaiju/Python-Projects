{
 "metadata": {
  "language_info": {
   "codemirror_mode": {
    "name": "ipython",
    "version": 3
   },
   "file_extension": ".py",
   "mimetype": "text/x-python",
   "name": "python",
   "nbconvert_exporter": "python",
   "pygments_lexer": "ipython3",
   "version": "3.8.5-final"
  },
  "orig_nbformat": 2,
  "kernelspec": {
   "name": "python3",
   "display_name": "Python 3",
   "language": "python"
  }
 },
 "nbformat": 4,
 "nbformat_minor": 2,
 "cells": [
  {
   "source": [
    "### every function returns something, if nothing is return then '''None''' is returned\n"
   ],
   "cell_type": "markdown",
   "metadata": {}
  },
  {
   "cell_type": "code",
   "execution_count": 2,
   "metadata": {},
   "outputs": [
    {
     "output_type": "stream",
     "name": "stdout",
     "text": [
      "addes two number\n35\n"
     ]
    }
   ],
   "source": [
    "def adder(n1, n2):\n",
    "    \"\"\"addes two number\"\"\"\n",
    "    return n1 + n2\n",
    "\n",
    "print(adder.__doc__)\n",
    "print(adder(12, 23))"
   ]
  },
  {
   "cell_type": "code",
   "execution_count": 7,
   "metadata": {},
   "outputs": [
    {
     "output_type": "error",
     "ename": "IndentationError",
     "evalue": "expected an indented block (<ipython-input-7-7c68ed61d6d2>, line 2)",
     "traceback": [
      "\u001b[1;36m  File \u001b[1;32m\"<ipython-input-7-7c68ed61d6d2>\"\u001b[1;36m, line \u001b[1;32m2\u001b[0m\n\u001b[1;33m    # after : there must be intendation other wise there will be intendention error\u001b[0m\n\u001b[1;37m                                                                                   ^\u001b[0m\n\u001b[1;31mIndentationError\u001b[0m\u001b[1;31m:\u001b[0m expected an indented block\n"
     ]
    }
   ],
   "source": [
    "def test(x,y):\n",
    "# after : there must be intendation other wise there will be intendention error"
   ]
  },
  {
   "cell_type": "code",
   "execution_count": 8,
   "metadata": {},
   "outputs": [
    {
     "output_type": "stream",
     "name": "stdout",
     "text": [
      "3\n"
     ]
    }
   ],
   "source": [
    "# positional argument\n",
    "def adder(x,y):\n",
    "    print(x+y)\n",
    "\n",
    "adder(1,2)"
   ]
  },
  {
   "cell_type": "code",
   "execution_count": 9,
   "metadata": {},
   "outputs": [
    {
     "output_type": "stream",
     "name": "stdout",
     "text": [
      "3\n"
     ]
    }
   ],
   "source": [
    "# named argument\n",
    "def adder1(x,y):\n",
    "    print(x+y)\n",
    "\n",
    "adder1(y=1,x=2)"
   ]
  },
  {
   "cell_type": "code",
   "execution_count": 10,
   "metadata": {},
   "outputs": [
    {
     "output_type": "stream",
     "name": "stdout",
     "text": [
      "6\n"
     ]
    }
   ],
   "source": [
    "# posotional and named argument in same function\n",
    "def adder2(x,y,z):\n",
    "    print(x+y+z)\n",
    "\n",
    "adder2(1,2,z=3) # correct\n"
   ]
  },
  {
   "source": [
    "# keyword argument ------------------\n",
    "def adder(n1, n2, n3):\n",
    "    print(f'n1={n1}, n2={n2}, n3={n3}')\n",
    "    return n1 + n2 + n3\n",
    "\n",
    "print(adder(n2=2, n1=4, n3=6))\n",
    "print(adder(1, n3=3, n2=2))"
   ],
   "cell_type": "code",
   "metadata": {},
   "execution_count": 2,
   "outputs": [
    {
     "output_type": "stream",
     "name": "stdout",
     "text": [
      "n1=4, n2=2, n3=6\n12\nn1=1, n2=2, n3=3\n6\n"
     ]
    }
   ]
  },
  {
   "cell_type": "code",
   "execution_count": 3,
   "metadata": {},
   "outputs": [
    {
     "output_type": "stream",
     "name": "stdout",
     "text": [
      "120\n"
     ]
    }
   ],
   "source": [
    "# recursion\n",
    "def factorial(n):\n",
    "    if n <= 1:\n",
    "        return 1\n",
    "    return n * factorial(n - 1)\n",
    "\n",
    "print(factorial(5))"
   ]
  },
  {
   "cell_type": "code",
   "execution_count": 4,
   "metadata": {},
   "outputs": [
    {
     "output_type": "stream",
     "name": "stdout",
     "text": [
      "[1, 4, 5, 10, 20]\n10\n"
     ]
    }
   ],
   "source": [
    "def something(arg, b):\n",
    "    arg.append(10)\n",
    "    arg.append(20)\n",
    "    b = 20 # search 1st in local and then global\n",
    "\n",
    "\n",
    "b = 10\n",
    "a = [1, 4, 5]\n",
    "something(a, b)\n",
    "print(a)\n",
    "print(b)"
   ]
  },
  {
   "cell_type": "code",
   "execution_count": 5,
   "metadata": {},
   "outputs": [
    {
     "output_type": "stream",
     "name": "stdout",
     "text": [
      "total is 30\n0\n"
     ]
    }
   ],
   "source": [
    "# global inside function\n",
    "total = 0\n",
    "\n",
    "def adder(arg1, arg2):\n",
    "    # global total\n",
    "    total = arg1 + arg2\n",
    "    print(f'total is {total}')\n",
    "\n",
    "adder(10, 20)\n",
    "print(total)"
   ]
  },
  {
   "cell_type": "code",
   "execution_count": 6,
   "metadata": {},
   "outputs": [
    {
     "output_type": "stream",
     "name": "stdout",
     "text": [
      "new\n"
     ]
    }
   ],
   "source": [
    "# function overloading -> no function overloading in python\n",
    "\n",
    "def test():\n",
    "    print(\"old\")\n",
    "\n",
    "def test():\n",
    "    print('new')\n",
    "\n",
    "test()\n",
    "\n",
    "def tests():\n",
    "    \"test\"\n",
    "\n",
    "tests()"
   ]
  },
  {
   "cell_type": "code",
   "execution_count": 11,
   "metadata": {},
   "outputs": [
    {
     "output_type": "stream",
     "name": "stdout",
     "text": [
      "i am outer\nNone\n"
     ]
    }
   ],
   "source": [
    "# nested function\n",
    "def outer():\n",
    "    print('i am outer')\n",
    "\n",
    "    def inner():\n",
    "        print(' i am inner')\n",
    "\n",
    "print(outer())"
   ]
  }
 ]
}