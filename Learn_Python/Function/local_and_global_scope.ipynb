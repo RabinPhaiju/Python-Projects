{
 "metadata": {
  "language_info": {
   "codemirror_mode": {
    "name": "ipython",
    "version": 3
   },
   "file_extension": ".py",
   "mimetype": "text/x-python",
   "name": "python",
   "nbconvert_exporter": "python",
   "pygments_lexer": "ipython3",
   "version": "3.9.1-final"
  },
  "orig_nbformat": 2,
  "kernelspec": {
   "name": "python3",
   "display_name": "Python 3",
   "language": "python"
  }
 },
 "nbformat": 4,
 "nbformat_minor": 2,
 "cells": [
  {
   "cell_type": "code",
   "execution_count": 14,
   "metadata": {},
   "outputs": [
    {
     "output_type": "stream",
     "name": "stdout",
     "text": [
      "5\n"
     ]
    }
   ],
   "source": [
    "a = 10\n",
    "def afun():\n",
    "    a = 5\n",
    "    # first search in the local then global\n",
    "    print(a)\n",
    "\n",
    "afun()"
   ]
  },
  {
   "cell_type": "code",
   "execution_count": 15,
   "metadata": {},
   "outputs": [
    {
     "output_type": "stream",
     "name": "stdout",
     "text": [
      "15\n"
     ]
    }
   ],
   "source": [
    "a = 10\n",
    "def afun():\n",
    "    global a\n",
    "    a += 5\n",
    "    # first search in the local then global\n",
    "    print(a)\n",
    "\n",
    "afun()"
   ]
  },
  {
   "cell_type": "code",
   "execution_count": 16,
   "metadata": {},
   "outputs": [
    {
     "output_type": "stream",
     "name": "stdout",
     "text": [
      "12\n"
     ]
    }
   ],
   "source": [
    "# modifying global variable is not good practice,\n",
    "# we can use the function as adder and return the added value instead\n",
    "aa = 10\n",
    "def adder():\n",
    "    return aa+2\n",
    "\n",
    "print(adder())"
   ]
  },
  {
   "cell_type": "code",
   "execution_count": 7,
   "metadata": {},
   "outputs": [
    {
     "output_type": "stream",
     "name": "stdout",
     "text": [
      "skeleton\n"
     ]
    }
   ],
   "source": [
    "enemies = ['skeleton','zombie','alien']\n",
    "if True:\n",
    "    enemy = enemies[0]\n",
    "\n",
    "print(enemy)"
   ]
  },
  {
   "cell_type": "code",
   "execution_count": null,
   "metadata": {},
   "outputs": [],
   "source": [
    " # Constand global variables\n",
    " PI = 3.14\n",
    " # conventiont of constant variable is to make a UPPER CASE"
   ]
  }
 ]
}