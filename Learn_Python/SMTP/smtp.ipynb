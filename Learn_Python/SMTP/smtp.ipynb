{
 "metadata": {
  "language_info": {
   "codemirror_mode": {
    "name": "ipython",
    "version": 3
   },
   "file_extension": ".py",
   "mimetype": "text/x-python",
   "name": "python",
   "nbconvert_exporter": "python",
   "pygments_lexer": "ipython3",
   "version": "3.9.1-final"
  },
  "orig_nbformat": 2,
  "kernelspec": {
   "name": "python3",
   "display_name": "Python 3.9.1 64-bit ('venv1')",
   "metadata": {
    "interpreter": {
     "hash": "6dbcfa4acfde829108fd9fed7b4c7e3cf5b89483651b78d4b8e08d6c4461514a"
    }
   }
  }
 },
 "nbformat": 4,
 "nbformat_minor": 2,
 "cells": [
  {
   "cell_type": "code",
   "execution_count": 6,
   "metadata": {},
   "outputs": [],
   "source": [
    "import smtplib\n",
    "# use pythonanywhere to schedule python task"
   ]
  },
  {
   "cell_type": "code",
   "execution_count": 3,
   "metadata": {},
   "outputs": [],
   "source": [
    "my_email = 'rabinphaiju@gmail.com'\n",
    "password = 'kdslfkjdslf'"
   ]
  },
  {
   "cell_type": "code",
   "execution_count": 1,
   "metadata": {},
   "outputs": [],
   "source": [
    "with smtplib.SMTP('smtp.mail.yahoo.com') as connection:\n",
    "    connection.starttls()\n",
    "    connection.login(user=my_email,password=password)\n",
    "    connection.sendmail(\n",
    "        from_addr=my_email,\n",
    "        to_addrs='lsdkhfl@gmail.com',\n",
    "        msg='Subject:hello\\n\\n This is the message body'\n",
    "    )"
   ]
  }
 ]
}