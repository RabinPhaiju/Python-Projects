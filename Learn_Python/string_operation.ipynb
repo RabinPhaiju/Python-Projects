{
 "cells": [
  {
   "cell_type": "markdown",
   "metadata": {},
   "source": [
    "# String"
   ]
  },
  {
   "cell_type": "code",
   "execution_count": 1,
   "metadata": {},
   "outputs": [
    {
     "name": "stdout",
     "output_type": "stream",
     "text": [
      "aaabbb\n",
      "<class 'str'>\n",
      " <class 'str'>\n",
      "Welcome To Python World\n"
     ]
    }
   ],
   "source": [
    "# 1. String concatenation\n",
    "print('aaa'+'bbb')\n",
    "eg_str = 'welcome to python world'\n",
    "print(type(\"string\"))\n",
    "print(\"\", type(\"\"))\n",
    "print(eg_str.title())"
   ]
  },
  {
   "cell_type": "code",
   "execution_count": 2,
   "metadata": {},
   "outputs": [
    {
     "name": "stdout",
     "output_type": "stream",
     "text": [
      "isalpha True\n",
      "isalnum True\n",
      "isnumeric False\n",
      "isspace False\n",
      "istitle True\n",
      "startswith False\n",
      "endswith False\n"
     ]
    }
   ],
   "source": [
    "# String operation\n",
    "text = 'Rabin'\n",
    "print('isalpha',text.isalpha())\n",
    "print('isalnum',text.isalnum())\n",
    "print('isnumeric',text.isnumeric())\n",
    "print('isspace',text.isspace())\n",
    "print('istitle',text.istitle())\n",
    "print('startswith',text.startswith('H'))\n",
    "print('endswith',text.endswith('d'))"
   ]
  },
  {
   "cell_type": "code",
   "execution_count": 3,
   "metadata": {},
   "outputs": [
    {
     "name": "stdout",
     "output_type": "stream",
     "text": [
      "1 , 2 , 3 , 4\n",
      "*****hello\n",
      "hello*****\n",
      "=======hello========\n",
      "['my', 'name', 'is', 'rabin']\n",
      "my name is rabin\n",
      "MY NAME IS RABIN\n",
      "9\n",
      "10\n",
      "10\n"
     ]
    }
   ],
   "source": [
    "print(' , '.join(['1', '2', '3', '4']))\n",
    "\n",
    "print('hello'.rjust(10,'*'))\n",
    "print('hello'.ljust(10,'*'))\n",
    "print('hello'.center(20,'='))\n",
    "\n",
    "text = 'my name is rabin'\n",
    "print(text.split(' '))\n",
    "print(text.replace('Hello', 'Bye'))\n",
    "print(text.upper())\n",
    "text = ' some text '\n",
    "print(len(text.strip()))\n",
    "print(len(text.rstrip()))\n",
    "print(len(text.lstrip()))"
   ]
  },
  {
   "cell_type": "code",
   "execution_count": 4,
   "metadata": {},
   "outputs": [
    {
     "name": "stdout",
     "output_type": "stream",
     "text": [
      "decimal -> hex a\n",
      "deciaml -> binary 111\n",
      "deciaml -> binary 10\n",
      "0b100010\n",
      "0x2d\n",
      "0o12\n",
      "0xa9\n"
     ]
    }
   ],
   "source": [
    "# Type Conversion\n",
    "\n",
    "print('decimal -> hex', format(10, 'x'))\n",
    "print('deciaml -> binary', format(7, 'b'))\n",
    "print('deciaml -> binary', format(8, 'o'))\n",
    "\n",
    "print(bin(34))\n",
    "print(hex(45))\n",
    "print(oct(10))\n",
    "print(hex(0b10101001))"
   ]
  },
  {
   "cell_type": "code",
   "execution_count": 5,
   "metadata": {},
   "outputs": [
    {
     "name": "stdout",
     "output_type": "stream",
     "text": [
      "my name is rabin\n"
     ]
    }
   ],
   "source": [
    "# f string\n",
    "name= 'rabin'\n",
    "print(f\"my name is {name}\")"
   ]
  },
  {
   "cell_type": "code",
   "execution_count": 6,
   "metadata": {},
   "outputs": [
    {
     "name": "stdout",
     "output_type": "stream",
     "text": [
      "This is the string Inserted\n",
      "The fox fox fox \n",
      "The fox brown quick \n",
      "The quick brown fox \n"
     ]
    }
   ],
   "source": [
    "# Print formatting\n",
    "\n",
    "print('This is the string {}'.format('Inserted'))\n",
    "print('The {0} {0} {0} '.format('fox', 'brown', 'quick'))\n",
    "print('The {} {} {} '.format('fox', 'brown', 'quick'))\n",
    "print('The {q} {b} {f} '.format(f = 'fox', b = 'brown', q= 'quick'))"
   ]
  }
 ],
 "metadata": {
  "kernelspec": {
   "display_name": "Python 3.8.5 64-bit ('base': conda)",
   "name": "python385jvsc74a57bd0a456efd1d2e2bfa10bfdad488db5626e5f8bd233a0f11ae70ce0e7717a6a7d8d"
  },
  "language_info": {
   "codemirror_mode": {
    "name": "ipython",
    "version": 3
   },
   "file_extension": ".py",
   "mimetype": "text/x-python",
   "name": "python",
   "nbconvert_exporter": "python",
   "pygments_lexer": "ipython3",
   "version": "3.8.5"
  },
  "orig_nbformat": 2
 },
 "nbformat": 4,
 "nbformat_minor": 2
}
