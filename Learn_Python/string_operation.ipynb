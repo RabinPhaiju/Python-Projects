{
 "metadata": {
  "language_info": {
   "codemirror_mode": {
    "name": "ipython",
    "version": 3
   },
   "file_extension": ".py",
   "mimetype": "text/x-python",
   "name": "python",
   "nbconvert_exporter": "python",
   "pygments_lexer": "ipython3",
   "version": "3.8.5"
  },
  "orig_nbformat": 2,
  "kernelspec": {
   "name": "python385jvsc74a57bd0a456efd1d2e2bfa10bfdad488db5626e5f8bd233a0f11ae70ce0e7717a6a7d8d",
   "display_name": "Python 3.8.5 64-bit ('base': conda)"
  }
 },
 "nbformat": 4,
 "nbformat_minor": 2,
 "cells": [
  {
   "source": [
    "# String"
   ],
   "cell_type": "markdown",
   "metadata": {}
  },
  {
   "cell_type": "code",
   "execution_count": 1,
   "metadata": {},
   "outputs": [
    {
     "output_type": "stream",
     "name": "stdout",
     "text": [
      "aaabbb\n<class 'str'>\n <class 'str'>\nWelcome To Python World\n"
     ]
    }
   ],
   "source": [
    "# 1. String concatination\n",
    "print('aaa'+'bbb')\n",
    "eg_str = 'welcome to python world'\n",
    "print(type(\"string\"))\n",
    "print(\"\", type(\"\"))\n",
    "print(eg_str.title())"
   ]
  },
  {
   "cell_type": "code",
   "execution_count": 2,
   "metadata": {},
   "outputs": [
    {
     "output_type": "stream",
     "name": "stdout",
     "text": [
      "isalpha True\nisalnum True\nisnumeric False\nisspace False\nistitle True\nstartswith False\nendswith False\n"
     ]
    }
   ],
   "source": [
    "# String operation\n",
    "text = 'Rabin'\n",
    "print('isalpha',text.isalpha())\n",
    "print('isalnum',text.isalnum())\n",
    "print('isnumeric',text.isnumeric())\n",
    "print('isspace',text.isspace())\n",
    "print('istitle',text.istitle())\n",
    "print('startswith',text.startswith('H'))\n",
    "print('endswith',text.endswith('d'))"
   ]
  },
  {
   "cell_type": "code",
   "execution_count": 3,
   "metadata": {},
   "outputs": [
    {
     "output_type": "stream",
     "name": "stdout",
     "text": [
      "1 , 2 , 3 , 4\n*****hello\nhello*****\n=======hello========\n['my', 'name', 'is', 'rabin']\nmy name is rabin\nMY NAME IS RABIN\n9\n10\n10\n"
     ]
    }
   ],
   "source": [
    "print(' , '.join(['1', '2', '3', '4']))\n",
    "\n",
    "print('hello'.rjust(10,'*'))\n",
    "print('hello'.ljust(10,'*'))\n",
    "print('hello'.center(20,'='))\n",
    "\n",
    "text = 'my name is rabin'\n",
    "print(text.split(' '))\n",
    "print(text.replace('Hello', 'Bye'))\n",
    "print(text.upper())\n",
    "text = ' some text '\n",
    "print(len(text.strip()))\n",
    "print(len(text.rstrip()))\n",
    "print(len(text.lstrip()))"
   ]
  },
  {
   "cell_type": "code",
   "execution_count": 4,
   "metadata": {},
   "outputs": [
    {
     "output_type": "stream",
     "name": "stdout",
     "text": [
      "decimal -> hex a\ndeciaml -> binary 111\ndeciaml -> binary 10\n0b100010\n0x2d\n0o12\n0xa9\n"
     ]
    }
   ],
   "source": [
    "# Type Conversion\n",
    "\n",
    "print('decimal -> hex', format(10, 'x'))\n",
    "print('deciaml -> binary', format(7, 'b'))\n",
    "print('deciaml -> binary', format(8, 'o'))\n",
    "\n",
    "print(bin(34))\n",
    "print(hex(45))\n",
    "print(oct(10))\n",
    "print(hex(0b10101001))"
   ]
  },
  {
   "cell_type": "code",
   "execution_count": 5,
   "metadata": {},
   "outputs": [
    {
     "output_type": "stream",
     "name": "stdout",
     "text": [
      "my name is rabin\n"
     ]
    }
   ],
   "source": [
    "# f string\n",
    "name= 'rabin'\n",
    "print(f\"my name is {name}\")"
   ]
  },
  {
   "cell_type": "code",
   "execution_count": 6,
   "metadata": {},
   "outputs": [
    {
     "output_type": "stream",
     "name": "stdout",
     "text": [
      "This is the string Inserted\nThe fox fox fox \nThe fox brown quick \nThe quick brown fox \n"
     ]
    }
   ],
   "source": [
    "# Print formatting\n",
    "\n",
    "print('This is the string {}'.format('Inserted'))\n",
    "print('The {0} {0} {0} '.format('fox', 'brown', 'quick'))\n",
    "print('The {} {} {} '.format('fox', 'brown', 'quick'))\n",
    "print('The {q} {b} {f} '.format(f = 'fox', b = 'brown', q= 'quick'))"
   ]
  }
 ]
}