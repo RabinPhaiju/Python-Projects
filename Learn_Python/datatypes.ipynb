{
 "metadata": {
  "language_info": {
   "codemirror_mode": {
    "name": "ipython",
    "version": 3
   },
   "file_extension": ".py",
   "mimetype": "text/x-python",
   "name": "python",
   "nbconvert_exporter": "python",
   "pygments_lexer": "ipython3",
   "version": "3.8.5-final"
  },
  "orig_nbformat": 2,
  "kernelspec": {
   "name": "python3",
   "display_name": "Python 3",
   "language": "python"
  }
 },
 "nbformat": 4,
 "nbformat_minor": 2,
 "cells": [
  {
   "source": [
    "## Data types -> numbers,operations,type conversion,f-string\n",
    "* type error, type checking,type conversion"
   ],
   "cell_type": "markdown",
   "metadata": {}
  },
  {
   "cell_type": "code",
   "execution_count": 1,
   "metadata": {},
   "outputs": [
    {
     "output_type": "execute_result",
     "data": {
      "text/plain": [
       "'123456'"
      ]
     },
     "metadata": {},
     "execution_count": 1
    }
   ],
   "source": [
    "# 1.  concatination\n",
    "\"123\" + \"456\""
   ]
  },
  {
   "cell_type": "code",
   "execution_count": 3,
   "metadata": {},
   "outputs": [
    {
     "output_type": "stream",
     "name": "stdout",
     "text": [
      "10\n10\n<class 'int'>\n10\n10\n"
     ]
    }
   ],
   "source": [
    "# 1. Integer\n",
    "eg_int = 10\n",
    "print(str(eg_int))\n",
    "print(int(\"10\"))\n",
    "print(type(10**10))\n",
    "print(int('0b1010', 2))\n",
    "print(int('0o12', 8))"
   ]
  },
  {
   "cell_type": "code",
   "execution_count": 5,
   "metadata": {},
   "outputs": [
    {
     "output_type": "stream",
     "name": "stdout",
     "text": [
      "binary -> decimal 7\n<class 'int'>\n"
     ]
    }
   ],
   "source": [
    "# 2. Binary\n",
    "print('binary -> decimal', 0b111)\n",
    "print(type(0b111))"
   ]
  },
  {
   "cell_type": "code",
   "execution_count": 8,
   "metadata": {},
   "outputs": [
    {
     "output_type": "stream",
     "name": "stdout",
     "text": [
      "octal -> decimal 9\n<class 'int'>\n"
     ]
    }
   ],
   "source": [
    "# 3. Octal\n",
    "print('octal -> decimal', 0o11)\n",
    "print(type(0o10))"
   ]
  },
  {
   "cell_type": "code",
   "execution_count": 9,
   "metadata": {},
   "outputs": [
    {
     "output_type": "stream",
     "name": "stdout",
     "text": [
      "hexadecimal -> decimal 11\n<class 'int'>\n"
     ]
    }
   ],
   "source": [
    "# 4. Hexadecimal\n",
    "print('hexadecimal -> decimal', 0xb)\n",
    "print(type(0xb))"
   ]
  },
  {
   "cell_type": "code",
   "execution_count": 11,
   "metadata": {},
   "outputs": [
    {
     "output_type": "stream",
     "name": "stdout",
     "text": [
      "<class 'float'>\n10.4\n"
     ]
    }
   ],
   "source": [
    "# 5. Float\n",
    "print(type(3.1415))\n",
    "print(float(\"10.4\"))\n",
    "eg_float = 10.01"
   ]
  },
  {
   "cell_type": "code",
   "execution_count": 3,
   "metadata": {},
   "outputs": [
    {
     "output_type": "stream",
     "name": "stdout",
     "text": [
      "<class 'str'>\n <class 'str'>\nWelcome To Python World\n"
     ]
    }
   ],
   "source": [
    "# String\n",
    "eg_str = 'welcome to python world'\n",
    "print(type(\"string\"))\n",
    "print(\"\", type(\"\"))\n",
    "print(eg_str.title())"
   ]
  },
  {
   "cell_type": "code",
   "execution_count": 1,
   "metadata": {},
   "outputs": [
    {
     "output_type": "stream",
     "name": "stdout",
     "text": [
      "isalpha True\nisalnum True\nisnumeric False\nisspace False\nistitle True\nstartswith False\nendswith False\n"
     ]
    }
   ],
   "source": [
    "# String operation\n",
    "text = 'Rabin'\n",
    "print('isalpha',text.isalpha())\n",
    "print('isalnum',text.isalnum())\n",
    "print('isnumeric',text.isnumeric())\n",
    "print('isspace',text.isspace())\n",
    "print('istitle',text.istitle())\n",
    "print('startswith',text.startswith('H'))\n",
    "print('endswith',text.endswith('d'))"
   ]
  },
  {
   "cell_type": "code",
   "execution_count": 21,
   "metadata": {},
   "outputs": [
    {
     "output_type": "stream",
     "name": "stdout",
     "text": [
      "1 , 2 , 3 , 4\n*****hello\nhello*****\n=======hello========\n['my', 'name', 'is', 'rabin']\nmy name is rabin\nMY NAME IS RABIN\n9\n10\n10\n"
     ]
    }
   ],
   "source": [
    "print(' , '.join(['1', '2', '3', '4']))\n",
    "\n",
    "print('hello'.rjust(10,'*'))\n",
    "print('hello'.ljust(10,'*'))\n",
    "print('hello'.center(20,'='))\n",
    "\n",
    "text = 'my name is rabin'\n",
    "print(text.split(' '))\n",
    "print(text.replace('Hello', 'Bye'))\n",
    "print(text.upper())\n",
    "text = ' some text '\n",
    "print(len(text.strip()))\n",
    "print(len(text.rstrip()))\n",
    "print(len(text.lstrip()))"
   ]
  },
  {
   "cell_type": "code",
   "execution_count": 22,
   "metadata": {},
   "outputs": [],
   "source": [
    "# Complex\n",
    "eg_complex = 2 + 3j\n",
    "\n",
    "# Boolean\n",
    "eg_bool = True\n",
    "\n",
    "# None\n",
    "eg_None = None"
   ]
  },
  {
   "cell_type": "code",
   "execution_count": 23,
   "metadata": {},
   "outputs": [
    {
     "output_type": "stream",
     "name": "stdout",
     "text": [
      "decimal -> hex a\ndeciaml -> binary 111\ndeciaml -> binary 10\n0b100010\n0x2d\n0o12\n0xa9\n"
     ]
    }
   ],
   "source": [
    "# Type Conversion\n",
    "\n",
    "print('decimal -> hex', format(10, 'x'))\n",
    "print('deciaml -> binary', format(7, 'b'))\n",
    "print('deciaml -> binary', format(8, 'o'))\n",
    "\n",
    "print(bin(34))\n",
    "print(hex(45))\n",
    "print(oct(10))\n",
    "print(hex(0b10101001))"
   ]
  },
  {
   "cell_type": "code",
   "execution_count": 25,
   "metadata": {},
   "outputs": [
    {
     "output_type": "stream",
     "name": "stdout",
     "text": [
      "my name is rabin\n"
     ]
    }
   ],
   "source": [
    "# f string\n",
    "name= 'rabin'\n",
    "print(f\"my name is {name}\")"
   ]
  },
  {
   "cell_type": "code",
   "execution_count": 26,
   "metadata": {},
   "outputs": [
    {
     "output_type": "stream",
     "name": "stdout",
     "text": [
      "This is the string Inserted\nThe fox fox fox \nThe fox brown quick \nThe quick brown fox \n"
     ]
    }
   ],
   "source": [
    "# Print formatting\n",
    "\n",
    "print('This is the string {}'.format('Inserted'))\n",
    "print('The {0} {0} {0} '.format('fox', 'brown', 'quick'))\n",
    "print('The {} {} {} '.format('fox', 'brown', 'quick'))\n",
    "print('The {q} {b} {f} '.format(f = 'fox', b = 'brown', q= 'quick'))"
   ]
  },
  {
   "cell_type": "code",
   "execution_count": 27,
   "metadata": {},
   "outputs": [
    {
     "output_type": "stream",
     "name": "stdout",
     "text": [
      "the result was 0.129\n"
     ]
    }
   ],
   "source": [
    "# Float formatting\n",
    "\n",
    "print('the result was {r:0.3f}'.format(r = 100/777))"
   ]
  },
  {
   "cell_type": "code",
   "execution_count": 28,
   "metadata": {},
   "outputs": [
    {
     "output_type": "error",
     "ename": "SyntaxError",
     "evalue": "illegal target for annotation (<ipython-input-28-a0ccd632b610>, line 3)",
     "traceback": [
      "\u001b[1;36m  File \u001b[1;32m\"<ipython-input-28-a0ccd632b610>\"\u001b[1;36m, line \u001b[1;32m3\u001b[0m\n\u001b[1;33m    int(8/3) :-round the number\u001b[0m\n\u001b[1;37m    ^\u001b[0m\n\u001b[1;31mSyntaxError\u001b[0m\u001b[1;31m:\u001b[0m illegal target for annotation\n"
     ]
    }
   ],
   "source": [
    "# number manipulation\n",
    "\n",
    "int(8/3) :-round the number\n",
    "round(8/3) = 2.666\n",
    "round(8/3,2) = 2.67\n",
    "int(4/2) = 2.0\n",
    "8//2 = 2 :- floor division\n",
    "score -= 1\n",
    "score += 1\n",
    "score /= 1\n",
    "score *= 1"
   ]
  },
  {
   "cell_type": "code",
   "execution_count": null,
   "metadata": {},
   "outputs": [],
   "source": [
    "math operations\n",
    "\n",
    "    - 3 ** 5 exponent\n",
    "    - 3 * 5 times\n",
    "    - 3 / 5 divide\n",
    "    - 3 / 5 floor divide\n",
    "    - 3 + 5 sum\n",
    "    - 3 - 5 diff\n"
   ]
  }
 ]
}