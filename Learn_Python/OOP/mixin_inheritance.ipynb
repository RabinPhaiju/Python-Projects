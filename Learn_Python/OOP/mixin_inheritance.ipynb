{
 "metadata": {
  "language_info": {
   "codemirror_mode": {
    "name": "ipython",
    "version": 3
   },
   "file_extension": ".py",
   "mimetype": "text/x-python",
   "name": "python",
   "nbconvert_exporter": "python",
   "pygments_lexer": "ipython3",
   "version": "3.9.1-final"
  },
  "orig_nbformat": 2,
  "kernelspec": {
   "name": "python3",
   "display_name": "Python 3.9.1 64-bit ('venv1')",
   "metadata": {
    "interpreter": {
     "hash": "6dbcfa4acfde829108fd9fed7b4c7e3cf5b89483651b78d4b8e08d6c4461514a"
    }
   }
  }
 },
 "nbformat": 4,
 "nbformat_minor": 2,
 "cells": [
  {
   "cell_type": "code",
   "execution_count": 1,
   "metadata": {},
   "outputs": [
    {
     "output_type": "stream",
     "name": "stdout",
     "text": [
      "Teacher rabin , Associate Professor\n"
     ]
    }
   ],
   "source": [
    "class Teacher:\n",
    "    def __init__(self,name,qual,exp):\n",
    "        self.name = name\n",
    "        self.qual = qual\n",
    "        self.exp = exp\n",
    "    \n",
    "    @property   \n",
    "    def position(self):\n",
    "        if self.exp >10:\n",
    "            return 'Associate Professor'\n",
    "        elif self.exp>8:\n",
    "            return 'SEnior Elcturer'\n",
    "        elif self.exp>5:\n",
    "            return 'Lecturer'\n",
    "        else:\n",
    "            return \"assistant Lecturer\"\n",
    "        \n",
    "    def __str__(self):\n",
    "        return f'Teacher {self.name} , {self.position}'\n",
    "\n",
    "t1 = Teacher('rabin','bachlor',12)\n",
    "print(t1)"
   ]
  },
  {
   "cell_type": "code",
   "execution_count": 2,
   "metadata": {},
   "outputs": [],
   "source": [
    "class TeacherMixin:\n",
    "    def __init__(self, name, qual, exp,subject):\n",
    "        super().__init__(name, qual, exp)\n",
    "        self.subject = subject\n",
    "    \n",
    "    @property\n",
    "    def position(self):\n",
    "        if self.qual == 'Phd':\n",
    "            return 'Professor'\n",
    "        return super().position\n",
    "        \n",
    "    def __str__(self):\n",
    "        return self.subject + ' ' + super().__str__()\n"
   ]
  },
  {
   "cell_type": "code",
   "execution_count": 3,
   "metadata": {},
   "outputs": [],
   "source": [
    "# Single Inheritance\n",
    "# interitance from left to right.\n",
    "# the right most class is base class.\n",
    "# args and kwargs in multiple inheritance\n",
    "class PhdMixin:\n",
    "    def __init__(self,expertise ,*args,**kwargs):\n",
    "        self.expertise = expertise\n",
    "        super().__init__(*args,**kwargs)\n",
    "    \n",
    "    def __str__(self):\n",
    "        return 'Phd '+super().__str__() + ' expertise in '+self.expertise"
   ]
  },
  {
   "cell_type": "code",
   "execution_count": 4,
   "metadata": {},
   "outputs": [
    {
     "output_type": "stream",
     "name": "stdout",
     "text": [
      "Phd English Teacher Ram , Professor expertise in Vocabulary\n"
     ]
    }
   ],
   "source": [
    "class PhdEnglishTeacher(PhdMixin,TeacherMixin,Teacher):\n",
    "    pass\n",
    "\n",
    "phd_eng = PhdEnglishTeacher('Vocabulary','Ram','Phd',10,'English')\n",
    "print(phd_eng)"
   ]
  },
  {
   "cell_type": "code",
   "execution_count": 5,
   "metadata": {},
   "outputs": [
    {
     "output_type": "stream",
     "name": "stdout",
     "text": [
      "Phd Math Teacher Rabin , Professor expertise in Data Science\n"
     ]
    }
   ],
   "source": [
    "class PhdMathTeacher(PhdMixin,TeacherMixin,Teacher):\n",
    "    pass\n",
    "\n",
    "phd_eng = PhdMathTeacher('Data Science','Rabin','Phd',20,'Math')\n",
    "print(phd_eng)"
   ]
  }
 ]
}