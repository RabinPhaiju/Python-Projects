{
 "metadata": {
  "language_info": {
   "codemirror_mode": {
    "name": "ipython",
    "version": 3
   },
   "file_extension": ".py",
   "mimetype": "text/x-python",
   "name": "python",
   "nbconvert_exporter": "python",
   "pygments_lexer": "ipython3",
   "version": "3.9.1-final"
  },
  "orig_nbformat": 2,
  "kernelspec": {
   "name": "python3",
   "display_name": "Python 3.9.1 64-bit ('venv1')",
   "metadata": {
    "interpreter": {
     "hash": "6dbcfa4acfde829108fd9fed7b4c7e3cf5b89483651b78d4b8e08d6c4461514a"
    }
   }
  }
 },
 "nbformat": 4,
 "nbformat_minor": 2,
 "cells": [
  {
   "source": [
    "- Why need OOP -> for encapsulation, inheritance, polymorphism\n",
    "- encapsulation ->getters and setters -> property\n",
    "- inheritance -> user -> student and teacher have same common attribute\n",
    "- polymorphism -> some functionality for specific user"
   ],
   "cell_type": "markdown",
   "metadata": {}
  },
  {
   "cell_type": "code",
   "execution_count": 17,
   "metadata": {},
   "outputs": [
    {
     "output_type": "stream",
     "name": "stdout",
     "text": [
      "Teacher rabin , Associate Professor\n"
     ]
    }
   ],
   "source": [
    "class Teacher:\n",
    "    def __init__(self,name,qual,exp):\n",
    "        self.name = name\n",
    "        self.qual = qual\n",
    "        self.exp = exp\n",
    "    \n",
    "    @property   \n",
    "    def position(self):\n",
    "        if self.exp >10:\n",
    "            return 'Associate Professor'\n",
    "        elif self.exp>8:\n",
    "            return 'SEnior Elcturer'\n",
    "        elif self.exp>5:\n",
    "            return 'Lecturer'\n",
    "        else:\n",
    "            return \"assistant Lecturer\"\n",
    "        \n",
    "    @staticmethod\n",
    "    def test():\n",
    "        return 'teacher class test'\n",
    "        \n",
    "    def __str__(self):\n",
    "        return f'Teacher {self.name} , {self.position}'\n",
    "\n",
    "\n",
    "t1 = Teacher('rabin','12',12)\n",
    "print(t1)\n"
   ]
  },
  {
   "cell_type": "code",
   "execution_count": 18,
   "metadata": {},
   "outputs": [
    {
     "output_type": "stream",
     "name": "stdout",
     "text": [
      "Math Teacher arun , Associate Professor\nteacher class test\n"
     ]
    }
   ],
   "source": [
    "# single inheritance\n",
    "class MathTeacher(Teacher):\n",
    "    def __init__(self, name, qual, exp):\n",
    "        super().__init__(name, qual, exp)\n",
    "        self.subject = 'math'\n",
    "    \n",
    "    @property\n",
    "    def position(self):\n",
    "        if self.qual == 'Phd':\n",
    "            return 'Professor'\n",
    "        return super().position\n",
    "        \n",
    "    def __str__(self):\n",
    "        return 'Math '+super().__str__()\n",
    "    \n",
    "\n",
    "mt = MathTeacher('arun','Phds',12)\n",
    "print(mt)\n",
    "print(mt.test())"
   ]
  },
  {
   "cell_type": "code",
   "execution_count": 19,
   "metadata": {},
   "outputs": [
    {
     "output_type": "stream",
     "name": "stdout",
     "text": [
      "Phd Math Teacher Dr Ram , Professor expertise in Data science\n"
     ]
    }
   ],
   "source": [
    "# Multi - Level inheritance\n",
    "class PhdMathTeacher(MathTeacher):\n",
    "    def __init__(self,name,exp,expertise):\n",
    "        super().__init__(name,'Phd',exp)\n",
    "        self.expertise = expertise\n",
    "\n",
    "    def __str__(self):\n",
    "        return 'Phd '+super().__str__() + ' expertise in '+self.expertise\n",
    "\n",
    "pmt = PhdMathTeacher(name='Dr Ram',exp='11',expertise = 'Data science')\n",
    "print(pmt)"
   ]
  }
 ]
}