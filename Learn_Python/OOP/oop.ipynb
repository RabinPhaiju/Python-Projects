{
 "metadata": {
  "language_info": {
   "codemirror_mode": {
    "name": "ipython",
    "version": 3
   },
   "file_extension": ".py",
   "mimetype": "text/x-python",
   "name": "python",
   "nbconvert_exporter": "python",
   "pygments_lexer": "ipython3",
   "version": "3.9.1-final"
  },
  "orig_nbformat": 2,
  "kernelspec": {
   "name": "python3",
   "display_name": "Python 3",
   "language": "python"
  }
 },
 "nbformat": 4,
 "nbformat_minor": 2,
 "cells": [
  {
   "cell_type": "code",
   "execution_count": null,
   "metadata": {},
   "outputs": [],
   "source": [
    "# try to model a real world object\n",
    "# classes and object"
   ]
  },
  {
   "cell_type": "code",
   "execution_count": 33,
   "metadata": {},
   "outputs": [
    {
     "output_type": "stream",
     "name": "stdout",
     "text": [
      "rabin\nTrue\nhello rabin and Gold\nall\nconverting to string\nrabin Gold\n-------------\nconverting to string\nrabin Gold\nconverting to string\nrabin Gold\n-------------\nTrue\n----------\nconverting to string\nconverting to string\n[rabin Gold, rabin Gold]\n"
     ]
    }
   ],
   "source": [
    "class Customer:\n",
    "    verified=True\n",
    "    def __init__(self,name,membership_type):\n",
    "        \"\"\"constructor\"\"\"\n",
    "        self.name = name\n",
    "        self.membership_type = membership_type\n",
    "    \n",
    "    def upgrade_membership(self,new_membership):\n",
    "        # values can be updated directly thought object.value = new_value\n",
    "        # but\n",
    "        # using methods, we can invoke an API,update database,calculate cost etc\n",
    "        self.membership_type = new_membership\n",
    "    \n",
    "    def read_customer(self):\n",
    "        return (f\"hello {self.name} and {self.membership_type}\")\n",
    "    \n",
    "    def read_all():\n",
    "        \"\"\"static methods\"\"\"\n",
    "        print('all')\n",
    "    \n",
    "    def __str__(self):\n",
    "        \"\"\"converting to a string on calling a object directly\"\"\"\n",
    "        print('converting to string')\n",
    "        return self.name + \" \" + self.membership_type\n",
    "    \n",
    "    def __eq__(self,other):\n",
    "        \"\"\"compare two users atribute\"\"\"\n",
    "        if self.name == other.name and self.membership_type == other.membership_type:\n",
    "            return True\n",
    "        else:\n",
    "            return False\n",
    "\n",
    "    def print_all_customers(customers):\n",
    "        for customer in customers:\n",
    "            print(customer)\n",
    "        \n",
    "    # __hash__ = None\n",
    "\n",
    "    __repr__ = __str__\n",
    "\n",
    "customers = [ Customer('rabin','Gold'),\n",
    "            Customer('rabin','Gold')]\n",
    "\n",
    "print(customers[0].name)\n",
    "# customers[0].upgrade_membership('Silver')\n",
    "print(customers[0].verified)\n",
    "\n",
    "print(customers[0].read_customer())\n",
    "Customer.read_all()\n",
    "print(customers[1])\n",
    "print('-------------')\n",
    "Customer.print_all_customers(customers)\n",
    "print('-------------')\n",
    "print(customers[0] == customers[1])\n",
    "\n",
    "print('----------')\n",
    "print(customers)"
   ]
  },
  {
   "cell_type": "code",
   "execution_count": 44,
   "metadata": {},
   "outputs": [
    {
     "output_type": "stream",
     "name": "stdout",
     "text": [
      "setting name\nsetting name\n-------------\ngetting name\nrabin\n"
     ]
    }
   ],
   "source": [
    "# Why need OOP -> for encapsulation, inheritance, polymorphism\n",
    "# encapsulation ->getters and setters -> property\n",
    "# inheritance -> user -> student and teacher have same common attribute\n",
    "# polymorphism -> some functionality for specific user\n",
    "\n",
    "class User:\n",
    "    def __init__(self, name,age):\n",
    "        self.name = name\n",
    "        self.age = age\n",
    "    \n",
    "    def __str__(self):\n",
    "        \"\"\"converting to a string on calling a object directly\"\"\"\n",
    "        print('converting to string')\n",
    "        return self.name + \" \" + self.age\n",
    "\n",
    "    @property\n",
    "    def name(self):\n",
    "        print('getting name')\n",
    "        return self._name\n",
    "        # this is private\n",
    "    \n",
    "    @name.setter\n",
    "    def name(self,name):\n",
    "        print('setting name')\n",
    "        self._name = name\n",
    "    \n",
    "    @name.deleter\n",
    "    def name(self):\n",
    "        del self._name\n",
    "\n",
    "    \n",
    "users = [User('rabin',29),User('rabina',28)]\n",
    "print('-------------')\n",
    "print(users[0].name)\n",
    "    "
   ]
  },
  {
   "cell_type": "code",
   "execution_count": 59,
   "metadata": {},
   "outputs": [
    {
     "output_type": "stream",
     "name": "stdout",
     "text": [
      "car has 200 milage\n4 wheels\n"
     ]
    }
   ],
   "source": [
    "# inheritance\n",
    "## Type -> single,multiple,multi-level\n",
    "# multiple -> parent1 and parent2 are inheritaed to son\n",
    "# multi-level -> parent -> son -> grandson\n",
    "class Vehicle:\n",
    "    def __init__(self,name,milage):\n",
    "        self.name = name\n",
    "        self.milage = milage\n",
    "    \n",
    "    def show(self):\n",
    "        return (f\"{self.name} has {self.milage} milage\")\n",
    "\n",
    "\n",
    "v1 = Vehicle('rabin',100)\n",
    "\n",
    "class Car(Vehicle):\n",
    "    def __init__(self,name,milage,wheel):\n",
    "        super().__init__(name,milage)\n",
    "        self.wheel = wheel\n",
    "\n",
    "    def show_car(self):\n",
    "        return (f\"{self.wheel} wheels\")\n",
    "\n",
    "c1 = Car('car',200,4)\n",
    "print(c1.show())\n",
    "print(c1.show_car())"
   ]
  },
  {
   "cell_type": "code",
   "execution_count": 52,
   "metadata": {},
   "outputs": [
    {
     "output_type": "stream",
     "name": "stdout",
     "text": [
      "I am user\nI am user\nI am teacher\n"
     ]
    }
   ],
   "source": [
    "# polymorphism\n",
    "class User:\n",
    "    def log(self):\n",
    "        print(self)\n",
    "\n",
    "\n",
    "class Teacher(User):\n",
    "    def log(self):\n",
    "        print('I am teacher')\n",
    "\n",
    "class Customer(User):\n",
    "    name = 'rabin'\n",
    "    def log(self):\n",
    "        print('I am user')\n",
    "\n",
    "users = [Customer(),Customer(),Teacher()]\n",
    "\n",
    "for user in users:\n",
    "    user.log()\n",
    "\n"
   ]
  },
  {
   "cell_type": "code",
   "execution_count": 65,
   "metadata": {},
   "outputs": [
    {
     "output_type": "stream",
     "name": "stdout",
     "text": [
      "Ram 10 5 Ram 10\n2021-02-18\n(30, 4, 17)\n2021-02-18\nRam - (30, 4, 17)\n2021-02-18\nRam - (30, 4, 17)\n"
     ]
    }
   ],
   "source": [
    "from datetime import date\n",
    "import math\n",
    "class Student:\n",
    "    def __init__(self,name,sclass,roll,dob):\n",
    "        #object variable\n",
    "        self.name = name\n",
    "        self.sclass = sclass\n",
    "        self.roll = roll\n",
    "        self.dob = dob\n",
    "    \n",
    "    def get_name(self):\n",
    "        return self.name\n",
    "    \n",
    "    def get_sclass(self):\n",
    "        return self.sclass\n",
    "    \n",
    "    @property\n",
    "    def get_age(self):\n",
    "        # @property make  method variable\n",
    "        print(date.today())\n",
    "        delta =  date.today()-self.dob\n",
    "        year= delta.days//365\n",
    "        month =  math.floor(((delta.days/365) - year)*12)\n",
    "        days = math.floor((((delta.days/365) - year)*12 - month)*30)\n",
    "        return year,month,days\n",
    "    \n",
    "    def __str__(self):\n",
    "        return f'{self.name} - {self.get_age}'\n",
    "    \n",
    "\n",
    "std = Student('Ram',10,5,date(1990,10,10))\n",
    "print(std.name,std.sclass,std.roll,std.get_name(),std.get_sclass())\n",
    "print(std.get_age)\n",
    "print(std)\n",
    "#internlly type cast to str\n",
    "print(str(std))"
   ]
  },
  {
   "cell_type": "code",
   "execution_count": 34,
   "metadata": {},
   "outputs": [
    {
     "output_type": "stream",
     "name": "stdout",
     "text": [
      "<__main__.Student object at 0x03B99418>\n['ram', 'shyam']\n[10, 11]\n"
     ]
    }
   ],
   "source": [
    "class Teacher:\n",
    "    def __init__(self,name,stds):\n",
    "        self.name = name\n",
    "        students = []\n",
    "        for std in stds:\n",
    "            std_obj = Student(\n",
    "                std['name'],\n",
    "                std['sclass'],\n",
    "                std['roll']\n",
    "            )\n",
    "            students.append(std_obj)\n",
    "        print(std_obj)\n",
    "        self.stds = students\n",
    "    \n",
    "    def students_name(self):\n",
    "        return [std.name for std in self.stds]\n",
    "        \n",
    "    def get_std_class(self):\n",
    "        return [std.sclass for std in self.stds]\n",
    "\n",
    "\n",
    "t1 = Teacher('neut1',[{\"name\":\"ram\",\"sclass\":10,\"roll\":3},{\"name\":\"shyam\",\"sclass\":11,\"roll\":4}])\n",
    "\n",
    "print(t1.students_name())\n",
    "print(t1.get_std_class())\n"
   ]
  },
  {
   "cell_type": "code",
   "execution_count": 38,
   "metadata": {},
   "outputs": [
    {
     "output_type": "execute_result",
     "data": {
      "text/plain": [
       "'High'"
      ]
     },
     "metadata": {},
     "execution_count": 38
    }
   ],
   "source": [
    "# Product\n",
    "# youtube py'con\n",
    "# real python\n",
    "class Product:\n",
    "    def __init__(self,price,name,code,category):\n",
    "        self.name = name\n",
    "        self.price  = price\n",
    "        self.code = code\n",
    "        self.category = category\n",
    "    \n",
    "    def price_level(self):\n",
    "        return 'High' if self.price>1000 else 'Medium' if self.price>100 else 'Low'\n",
    "\n",
    "p1 = Product(1001,'apple',100,'fruits')\n",
    "p1.price_level()\n"
   ]
  },
  {
   "cell_type": "code",
   "execution_count": 9,
   "metadata": {},
   "outputs": [
    {
     "output_type": "execute_result",
     "data": {
      "text/plain": [
       "8"
      ]
     },
     "metadata": {},
     "execution_count": 9
    }
   ],
   "source": [
    "# eg\n",
    "class Student:\n",
    "    def __init__(self,name,roll,sem):\n",
    "        self.name = name\n",
    "        self.roll = roll\n",
    "        self.sem = sem\n",
    "        self.marks = 0\n",
    "    \n",
    "    @classmethod\n",
    "    def semI_factory(cls,name,roll):\n",
    "        # convert to class methods to call directly\n",
    "        obj = cls(name = name , roll = roll, sem = 'I')\n",
    "        return obj\n",
    "    \n",
    "    @classmethod\n",
    "    def semII_factory(cls,name,roll):\n",
    "        obj = cls(name = name,roll = roll,sem = 'II')\n",
    "        return obj\n",
    "    \n",
    "    def get_name(self):\n",
    "        return self.name\n",
    "    \n",
    "    @staticmethod\n",
    "    def max_sem():\n",
    "        # static method is not copied if objects are created\n",
    "        return 8\n",
    "\n",
    "std = Student('ram',10,'I')\n",
    "ram_I = Student.semI_factory('ram',10)\n",
    "ram_II = Student.semII_factory('shyam',11)\n",
    "\n",
    "ram_I.get_name()\n",
    "Student.max_sem()"
   ]
  },
  {
   "cell_type": "code",
   "execution_count": 13,
   "metadata": {},
   "outputs": [
    {
     "output_type": "stream",
     "name": "stdout",
     "text": [
      "Inhale, exhale.\ndoing this under water\nHelp on Animal in module __main__ object:\n\nclass Animal(builtins.object)\n |  Methods defined here:\n |  \n |  __init__(self)\n |      Initialize self.  See help(type(self)) for accurate signature.\n |  \n |  breathe(self)\n |  \n |  ----------------------------------------------------------------------\n |  Data descriptors defined here:\n |  \n |  __dict__\n |      dictionary for instance variables (if defined)\n |  \n |  __weakref__\n |      list of weak references to the object (if defined)\n\n"
     ]
    }
   ],
   "source": [
    "# inheritance\n",
    "class Animal:\n",
    "    def __init__(self):\n",
    "        self.num_eyes = 2\n",
    "    \n",
    "    def breathe(self):\n",
    "        print('Inhale, exhale.')\n",
    "    \n",
    "\n",
    "class Fish(Animal):\n",
    "    \"\"\"This is animal class\"\"\"\n",
    "    def __init__(self):\n",
    "        super().__init__()\n",
    "\n",
    "    def breathe(self):\n",
    "        super().breathe()\n",
    "        print(\"doing this under water\")\n",
    "\n",
    "    def swin(self):\n",
    "        print('swimming')\n",
    "    \n",
    "nemo = Fish()\n",
    "nemo.breathe()\n",
    "nemo.num_eyes\n",
    "help(Animal())\n",
    "\n",
    "cow = Animal()\n"
   ]
  },
  {
   "cell_type": "code",
   "execution_count": 5,
   "metadata": {},
   "outputs": [
    {
     "output_type": "stream",
     "name": "stdout",
     "text": [
      "Help on built-in function isinstance in module builtins:\n\nisinstance(obj, class_or_tuple, /)\n    Return whether an object is an instance of a class or of a subclass thereof.\n    \n    A tuple, as in ``isinstance(x, (A, B, ...))``, may be given as the target to\n    check against. This is equivalent to ``isinstance(x, A) or isinstance(x, B)\n    or ...`` etc.\n\n"
     ]
    }
   ],
   "source": [
    "help(isinstance)"
   ]
  },
  {
   "cell_type": "code",
   "execution_count": 14,
   "metadata": {},
   "outputs": [
    {
     "output_type": "stream",
     "name": "stdout",
     "text": [
      "True\nFalse\n"
     ]
    },
    {
     "output_type": "execute_result",
     "data": {
      "text/plain": [
       "False"
      ]
     },
     "metadata": {},
     "execution_count": 14
    }
   ],
   "source": [
    "print(isinstance(nemo,Animal))\n",
    "print(isinstance(cow,Fish))\n",
    "isinstance(std,Fish)"
   ]
  },
  {
   "cell_type": "code",
   "execution_count": 23,
   "metadata": {},
   "outputs": [
    {
     "output_type": "stream",
     "name": "stdout",
     "text": [
      "list\ndict\ntuple\nsome things else\n"
     ]
    }
   ],
   "source": [
    "# datatpye validation\n",
    "def some_random(x):\n",
    "    if(isinstance(x,list)):\n",
    "        print('list')\n",
    "    elif(isinstance(x,dict)):\n",
    "        print('dict')\n",
    "    elif(isinstance(x,tuple)):\n",
    "        print('tuple')\n",
    "    else:\n",
    "        print('some things else')\n",
    "    \n",
    "some_random([1,2])\n",
    "some_random({1:1})\n",
    "y = 1,2,3\n",
    "some_random(y)\n",
    "some_random(1)"
   ]
  },
  {
   "cell_type": "code",
   "execution_count": 78,
   "metadata": {},
   "outputs": [
    {
     "output_type": "stream",
     "name": "stdout",
     "text": [
      "Points (2, 4)\nPoints (2, 8)\n8\nTrue\n"
     ]
    }
   ],
   "source": [
    "class Point:\n",
    "    def __init__(self,x,y):\n",
    "        self.x = x\n",
    "        self.y = y\n",
    "    \n",
    "    def __sub__(self, obj):\n",
    "        return ((self.x - obj.x)**2 + (self.y - obj.y)**2)**1//2\n",
    "    \n",
    "    def __eq__(self,obj):\n",
    "        return True if self.x == obj.x else False\n",
    "    \n",
    "    def __str__(self):\n",
    "        return f'Points ({self.x}, {self.y})'\n",
    "\n",
    "p1 = Point(2,4)\n",
    "p2 = Point(2,8)\n",
    "print(p1)\n",
    "print(p2)\n",
    "print(p2 - p1)\n",
    "print(p1==p2)"
   ]
  },
  {
   "cell_type": "code",
   "execution_count": 87,
   "metadata": {},
   "outputs": [
    {
     "output_type": "execute_result",
     "data": {
      "text/plain": [
       "8"
      ]
     },
     "metadata": {},
     "execution_count": 87
    }
   ],
   "source": [
    "class Line:\n",
    "    def __init__(self,point1,point2):\n",
    "        self.point1 = point1\n",
    "        self.point2 = point2\n",
    "    \n",
    "    @property\n",
    "    def distance(self):\n",
    "        return self.point1 - self.point2\n",
    "\n",
    "p1 = Point(2,4)\n",
    "p2 = Point(2,8)\n",
    "line = Line(p1,p2)\n",
    "line.distance"
   ]
  },
  {
   "cell_type": "code",
   "execution_count": 125,
   "metadata": {},
   "outputs": [
    {
     "output_type": "stream",
     "name": "stdout",
     "text": [
      "1i ,2j\n3i ,5j\n..here..\n2.5\n3i ,5j\n"
     ]
    }
   ],
   "source": [
    "class Complex:\n",
    "    \"\"\"Custom complex class, xyz... \"\"\"\n",
    "    def __init__(self,real,imag):\n",
    "        self.real = real\n",
    "        self.imag = imag\n",
    "    \n",
    "    def __add__(self,other):\n",
    "        return Complex(self.real+other.real,self.imag+other.imag)\n",
    "    \n",
    "    def __sub__(self,other):\n",
    "        return Complex(self.real - other.real,self.imag - other.imag)\n",
    "    \n",
    "    def __iadd__(self,other):\n",
    "        print('iadd')\n",
    "        self.real += other.real\n",
    "        self.imag += other.imag\n",
    "        return self\n",
    "    \n",
    "    def __isub__(self,other):\n",
    "        self.real -= other.real\n",
    "        self.imag -= other.imag\n",
    "        return self\n",
    "\n",
    "    def __abs__(self):\n",
    "        print('..here..')\n",
    "        return ((self.real)**2 +(self.imag)**2)**1/2\n",
    "    \n",
    "    def __str__(self):\n",
    "        return f\"{self.real}i ,{self.imag}j\"\n",
    "    \n",
    "c1 = Complex(1,2)\n",
    "c2 = Complex(2,3)\n",
    "print(c1)\n",
    "print(c1+c2)\n",
    "print(abs(c1))\n",
    "c1 = c1+c2\n",
    "print(c1)\n",
    "\n"
   ]
  },
  {
   "cell_type": "code",
   "execution_count": 127,
   "metadata": {},
   "outputs": [
    {
     "output_type": "execute_result",
     "data": {
      "text/plain": [
       "True"
      ]
     },
     "metadata": {},
     "execution_count": 127
    }
   ],
   "source": [
    "c = Complex(3,4)\n",
    "hasattr(c,'real')"
   ]
  },
  {
   "cell_type": "code",
   "execution_count": 129,
   "metadata": {},
   "outputs": [
    {
     "output_type": "execute_result",
     "data": {
      "text/plain": [
       "3"
      ]
     },
     "metadata": {},
     "execution_count": 129
    }
   ],
   "source": [
    "getattr(c,'real')"
   ]
  },
  {
   "cell_type": "code",
   "execution_count": 131,
   "metadata": {},
   "outputs": [
    {
     "output_type": "execute_result",
     "data": {
      "text/plain": [
       "2"
      ]
     },
     "metadata": {},
     "execution_count": 131
    }
   ],
   "source": [
    "setattr(c,'real',2)\n",
    "getattr(c,'real')"
   ]
  },
  {
   "cell_type": "code",
   "execution_count": 153,
   "metadata": {},
   "outputs": [
    {
     "output_type": "stream",
     "name": "stdout",
     "text": [
      "[4, 7, 3]\n"
     ]
    }
   ],
   "source": [
    "class Stack:\n",
    "    def __init__(self):\n",
    "        self.stack = []\n",
    "\n",
    "    def push(self,x):\n",
    "        self.stack.append(x)\n",
    "\n",
    "    @property\n",
    "    def pop(self):\n",
    "        if len(self.stack)!=0:\n",
    "            self.stack.pop()\n",
    "            \n",
    "    def __str__(self):\n",
    "        return f\"{self.stack}\"\n",
    "\n",
    "s1 = Stack()\n",
    "s1.push(4)\n",
    "s1.push(7)\n",
    "s1.push(3)\n",
    "# s1.pop\n",
    "print(s1)"
   ]
  }
 ]
}