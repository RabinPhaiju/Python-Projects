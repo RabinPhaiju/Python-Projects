{
 "metadata": {
  "language_info": {
   "codemirror_mode": {
    "name": "ipython",
    "version": 3
   },
   "file_extension": ".py",
   "mimetype": "text/x-python",
   "name": "python",
   "nbconvert_exporter": "python",
   "pygments_lexer": "ipython3",
   "version": "3.9.1-final"
  },
  "orig_nbformat": 2,
  "kernelspec": {
   "name": "python3",
   "display_name": "Python 3",
   "language": "python"
  }
 },
 "nbformat": 4,
 "nbformat_minor": 2,
 "cells": [
  {
   "cell_type": "code",
   "execution_count": null,
   "metadata": {},
   "outputs": [],
   "source": [
    "# try to model a real world object\n",
    "# classes and object"
   ]
  },
  {
   "cell_type": "code",
   "execution_count": 33,
   "metadata": {},
   "outputs": [
    {
     "output_type": "stream",
     "name": "stdout",
     "text": [
      "rabin\nTrue\nhello rabin and Gold\nall\nconverting to string\nrabin Gold\n-------------\nconverting to string\nrabin Gold\nconverting to string\nrabin Gold\n-------------\nTrue\n----------\nconverting to string\nconverting to string\n[rabin Gold, rabin Gold]\n"
     ]
    }
   ],
   "source": [
    "class Customer:\n",
    "    verified=True\n",
    "    def __init__(self,name,membership_type):\n",
    "        \"\"\"constructor\"\"\"\n",
    "        self.name = name\n",
    "        self.membership_type = membership_type\n",
    "    \n",
    "    def upgrade_membership(self,new_membership):\n",
    "        # values can be updated directly thought object.value = new_value\n",
    "        # but\n",
    "        # using methods, we can invoke an API,update database,calculate cost etc\n",
    "        self.membership_type = new_membership\n",
    "    \n",
    "    def read_customer(self):\n",
    "        return (f\"hello {self.name} and {self.membership_type}\")\n",
    "    \n",
    "    def read_all():\n",
    "        \"\"\"static methods\"\"\"\n",
    "        print('all')\n",
    "    \n",
    "    def __str__(self):\n",
    "        \"\"\"converting to a string on calling a object directly\"\"\"\n",
    "        print('converting to string')\n",
    "        return self.name + \" \" + self.membership_type\n",
    "    \n",
    "    def __eq__(self,other):\n",
    "        \"\"\"compare two users atribute\"\"\"\n",
    "        if self.name == other.name and self.membership_type == other.membership_type:\n",
    "            return True\n",
    "        else:\n",
    "            return False\n",
    "\n",
    "    def print_all_customers(customers):\n",
    "        for customer in customers:\n",
    "            print(customer)\n",
    "        \n",
    "    # __hash__ = None\n",
    "\n",
    "    __repr__ = __str__\n",
    "\n",
    "customers = [ Customer('rabin','Gold'),\n",
    "            Customer('rabin','Gold')]\n",
    "\n",
    "print(customers[0].name)\n",
    "# customers[0].upgrade_membership('Silver')\n",
    "print(customers[0].verified)\n",
    "\n",
    "print(customers[0].read_customer())\n",
    "Customer.read_all()\n",
    "print(customers[1])\n",
    "print('-------------')\n",
    "Customer.print_all_customers(customers)\n",
    "print('-------------')\n",
    "print(customers[0] == customers[1])\n",
    "\n",
    "print('----------')\n",
    "print(customers)"
   ]
  },
  {
   "cell_type": "code",
   "execution_count": 44,
   "metadata": {},
   "outputs": [
    {
     "output_type": "stream",
     "name": "stdout",
     "text": [
      "setting name\nsetting name\n-------------\ngetting name\nrabin\n"
     ]
    }
   ],
   "source": [
    "# Why need OOP -> for encapsulation, inheritance, polymorphism\n",
    "# encapsulation ->getters and setters -> property\n",
    "# inheritance -> user -> student and teacher have same common attribute\n",
    "# polymorphism -> some functionality for specific user\n",
    "\n",
    "class User:\n",
    "    def __init__(self, name,age):\n",
    "        self.name = name\n",
    "        self.age = age\n",
    "    \n",
    "    def __str__(self):\n",
    "        \"\"\"converting to a string on calling a object directly\"\"\"\n",
    "        print('converting to string')\n",
    "        return self.name + \" \" + self.age\n",
    "\n",
    "    @property\n",
    "    def name(self):\n",
    "        print('getting name')\n",
    "        return self._name\n",
    "        # this is private\n",
    "    \n",
    "    @name.setter\n",
    "    def name(self,name):\n",
    "        print('setting name')\n",
    "        self._name = name\n",
    "    \n",
    "    @name.deleter\n",
    "    def name(self):\n",
    "        del self._name\n",
    "\n",
    "    \n",
    "users = [User('rabin',29),User('rabina',28)]\n",
    "print('-------------')\n",
    "print(users[0].name)\n",
    "    "
   ]
  },
  {
   "cell_type": "code",
   "execution_count": 59,
   "metadata": {},
   "outputs": [
    {
     "output_type": "stream",
     "name": "stdout",
     "text": [
      "car has 200 milage\n4 wheels\n"
     ]
    }
   ],
   "source": [
    "# inheritance\n",
    "## Type -> single,multiple,multi-level\n",
    "# multiple -> parent1 and parent2 are inheritaed to son\n",
    "# multi-level -> parent -> son -> grandson\n",
    "class Vehicle:\n",
    "    def __init__(self,name,milage):\n",
    "        self.name = name\n",
    "        self.milage = milage\n",
    "    \n",
    "    def show(self):\n",
    "        return (f\"{self.name} has {self.milage} milage\")\n",
    "\n",
    "\n",
    "v1 = Vehicle('rabin',100)\n",
    "\n",
    "class Car(Vehicle):\n",
    "    def __init__(self,name,milage,wheel):\n",
    "        super().__init__(name,milage)\n",
    "        self.wheel = wheel\n",
    "\n",
    "    def show_car(self):\n",
    "        return (f\"{self.wheel} wheels\")\n",
    "\n",
    "c1 = Car('car',200,4)\n",
    "print(c1.show())\n",
    "print(c1.show_car())"
   ]
  },
  {
   "cell_type": "code",
   "execution_count": 52,
   "metadata": {},
   "outputs": [
    {
     "output_type": "stream",
     "name": "stdout",
     "text": [
      "I am user\nI am user\nI am teacher\n"
     ]
    }
   ],
   "source": [
    "# polymorphism\n",
    "class User:\n",
    "    def log(self):\n",
    "        print(self)\n",
    "\n",
    "\n",
    "class Teacher(User):\n",
    "    def log(self):\n",
    "        print('I am teacher')\n",
    "\n",
    "class Customer(User):\n",
    "    name = 'rabin'\n",
    "    def log(self):\n",
    "        print('I am user')\n",
    "\n",
    "users = [Customer(),Customer(),Teacher()]\n",
    "\n",
    "for user in users:\n",
    "    user.log()\n",
    "\n"
   ]
  },
  {
   "cell_type": "code",
   "execution_count": null,
   "metadata": {},
   "outputs": [],
   "source": []
  }
 ]
}