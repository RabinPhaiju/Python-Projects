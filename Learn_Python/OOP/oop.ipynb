{
 "cells": [
  {
   "cell_type": "code",
   "execution_count": 11,
   "metadata": {},
   "outputs": [
    {
     "name": "stdout",
     "output_type": "stream",
     "text": [
      "<class 'int'>\n",
      "<class 'float'>\n",
      "<class 'str'>\n"
     ]
    }
   ],
   "source": [
    "### Everything is an object in python\n",
    "print(type(10))\n",
    "print(type(10.5))\n",
    "print(type('daf'))"
   ]
  },
  {
   "cell_type": "markdown",
   "metadata": {},
   "source": [
    "### create own data types use class"
   ]
  },
  {
   "cell_type": "markdown",
   "metadata": {},
   "source": [
    "# OOP pillars\n",
    "- Encapsulation\n",
    "  - packs data and methods in a class\n",
    "- Abstraction\n",
    "  - hides internal details\n",
    "  - shows only essential details (don't know how its implemented) eg: methods\n",
    "- Inheritance\n",
    "  - new object to take on the properties of an existing object\n",
    "- Polymorphism\n",
    "  - ability of multi form\n",
    "  - eg: for loop -> takes string, list, object\n",
    "  - eg: function that takes a class_object and call its methods"
   ]
  },
  {
   "cell_type": "code",
   "execution_count": 47,
   "metadata": {},
   "outputs": [
    {
     "name": "stdout",
     "output_type": "stream",
     "text": [
      "200\n",
      "60\n",
      "--------------\n",
      "False\n",
      "False\n",
      "True\n",
      "--------------\n",
      "20\n",
      "22\n",
      "--------------\n",
      "Rectange: width=10, height=22\n"
     ]
    },
    {
     "data": {
      "text/plain": [
       "Rectange(10,20)"
      ]
     },
     "execution_count": 47,
     "metadata": {},
     "output_type": "execute_result"
    }
   ],
   "source": [
    "# There is not private variable, dont force user to use getter and setter unless there is not logic.\n",
    "class Rectangle:\n",
    "    # private variable\n",
    "    _name = 'rectangle'\n",
    "    def __init__(self,width,height):\n",
    "        # when init the new object, now they cannot set negative numbers.\n",
    "        # Because when they set new attribute the goes through setters.\n",
    "        # Public variable\n",
    "        self.width = width\n",
    "        self.height = height\n",
    "    \n",
    "    @property\n",
    "    def width(self):\n",
    "        return self._width\n",
    "    \n",
    "    @width.setter\n",
    "    def width(self,width):\n",
    "        if width<=0:\n",
    "            raise ValueError('Width must be positive')\n",
    "        else:\n",
    "            self._width = width\n",
    "    @property\n",
    "    def height(self):\n",
    "        return self._height\n",
    "    \n",
    "    @height.setter\n",
    "    def height(self,height):\n",
    "        if height<=0:\n",
    "            raise ValueError('Width must be positive')\n",
    "        else:\n",
    "            self._height = height\n",
    "    \n",
    "    def area(self):\n",
    "        # here self.width calls the widht property and return self._width\n",
    "        return self.width*self.height\n",
    "    \n",
    "    def perimeter(self):\n",
    "        return (self._width+self._height)*2\n",
    "    \n",
    "    def __str__(self):\n",
    "        return f\"Rectangle: width={self._width}, height={self._height}\"\n",
    "    \n",
    "    def __repr__(self):\n",
    "        return f\"Rectangle({self._width},{self._height})\"\n",
    "    \n",
    "    def __eq__(self,other):\n",
    "        if isinstance(other,Rectangle):\n",
    "            return self._width == other._width and self._height == other._height\n",
    "        else:\n",
    "            return False\n",
    "        \n",
    "    def __lt__(self,other):\n",
    "        if isinstance(other,Rectangle):\n",
    "            return self.area() < other.area()\n",
    "        else:\n",
    "            NotImplemented\n",
    "    \n",
    "    def __gt__(self,other):\n",
    "        if isinstance(other,Rectangle):\n",
    "            return self.area() > other.area()\n",
    "        else:\n",
    "            NotImplemented\n",
    "        \n",
    "r1 = Rectangle(10,20)\n",
    "r2 = Rectangle(10,20)\n",
    "# r3 = Rectangle(-10,20)\n",
    "\n",
    "print(r1.area())\n",
    "print(r2.perimeter())\n",
    "print('--------------')\n",
    "print(r1<r2)\n",
    "print(r1>r2)\n",
    "print(r1==r2)\n",
    "print('--------------')\n",
    "print(r1.height)\n",
    "r1.height=22\n",
    "print(r1.height)\n",
    "# r1.height = -10 it will not work now.\n",
    "print('--------------')\n",
    "print(r1)\n",
    "r2\n",
    "    "
   ]
  },
  {
   "cell_type": "code",
   "execution_count": null,
   "metadata": {},
   "outputs": [],
   "source": [
    "# try to model a real world object\n",
    "# classes and object"
   ]
  },
  {
   "cell_type": "code",
   "execution_count": 18,
   "metadata": {},
   "outputs": [
    {
     "name": "stdout",
     "output_type": "stream",
     "text": [
      "rabin\n",
      "True\n",
      "hello rabin and Gold\n",
      "all\n",
      "converting to string\n",
      "rabin--- Gold\n",
      "-------------\n",
      "converting to string\n",
      "rabin--- Gold\n",
      "converting to string\n",
      "rabin--- Gold\n",
      "-------------\n",
      "True\n",
      "100 is not instance of class Customer\n",
      "False\n",
      "--------------\n",
      "less\n",
      "None\n",
      "----------\n",
      "[(rabin and Gold), (rabin and Gold)]\n"
     ]
    },
    {
     "data": {
      "text/plain": [
       "(rabin and Gold)"
      ]
     },
     "execution_count": 18,
     "metadata": {},
     "output_type": "execute_result"
    }
   ],
   "source": [
    "class Customer:\n",
    "    verified=True\n",
    "    def __init__(self,name,membership_type):\n",
    "        \"\"\"constructor\"\"\"\n",
    "        self.name = name\n",
    "        self.membership_type = membership_type\n",
    "    \n",
    "    def upgrade_membership(self,new_membership):\n",
    "        # values can be updated directly thought object.value = new_value\n",
    "        # but\n",
    "        # using methods, we can invoke an API,update database,calculate cost etc\n",
    "        self.membership_type = new_membership\n",
    "    \n",
    "    def read_customer(self):\n",
    "        return (f\"hello {self.name} and {self.membership_type}\")\n",
    "    \n",
    "    def read_all():\n",
    "        \"\"\"static methods\"\"\"\n",
    "        print('all')\n",
    "    \n",
    "    def __str__(self):\n",
    "        \"\"\"When object is print directly __str__ is called to print string\"\"\"\n",
    "        print('converting to string')\n",
    "        return self.name + \"--- \" + self.membership_type\n",
    "    \n",
    "    def __repr__(self):\n",
    "        return f\"({self.name} and {self.membership_type})\"\n",
    "    \n",
    "    def __eq__(self,other):\n",
    "        \"\"\"compare two users atribute\"\"\"\n",
    "        if isinstance(other,Customer):\n",
    "            return self.name == other.name and self.membership_type == other.membership_type\n",
    "        else:\n",
    "            print(f\"{other} is not instance of class Customer\")\n",
    "            return False\n",
    "    def __lt__(self,other):\n",
    "        if isinstance(other,Customer):\n",
    "            print('less')\n",
    "            # may be area\n",
    "        else:\n",
    "            return NotImplemented\n",
    "\n",
    "    def print_all_customers(customers):\n",
    "        for customer in customers:\n",
    "            print(customer)\n",
    "        \n",
    "    # __hash__ = None\n",
    "\n",
    "    # __repr__ = __str__\n",
    "    # if both __str__ and __repr__ are present __str__ is called when we print object.\n",
    "    # when we call object __repr__ is called.\n",
    "    #If __str__ is absent and __repr__ is present and object is printed then __repr__ is called.\n",
    "\n",
    "customers = [ Customer('rabin','Gold'),\n",
    "            Customer('rabin','Gold')]\n",
    "\n",
    "print(customers[0].name)\n",
    "# customers[0].upgrade_membership('Silver')\n",
    "print(customers[0].verified)\n",
    "\n",
    "print(customers[0].read_customer())\n",
    "Customer.read_all()\n",
    "print(customers[1])\n",
    "print('-------------')\n",
    "Customer.print_all_customers(customers)\n",
    "print('-------------')\n",
    "print(customers[0] == customers[1])\n",
    "print(customers[0]==100)\n",
    "print('--------------')\n",
    "print(customers[0]<customers[1])\n",
    "\n",
    "print('----------')\n",
    "print(customers)\n",
    "customers[0]"
   ]
  },
  {
   "cell_type": "code",
   "execution_count": 44,
   "metadata": {},
   "outputs": [
    {
     "name": "stdout",
     "output_type": "stream",
     "text": [
      "setting name\n",
      "setting name\n",
      "-------------\n",
      "getting name\n",
      "rabin\n"
     ]
    }
   ],
   "source": [
    "class User:\n",
    "    def __init__(self, name,age):\n",
    "        self.name = name\n",
    "        self.age = age\n",
    "    \n",
    "    def __str__(self):\n",
    "        \"\"\"converting to a string on calling a object directly\"\"\"\n",
    "        print('converting to string')\n",
    "        return self.name + \" \" + self.age\n",
    "\n",
    "    @property\n",
    "    def name(self):\n",
    "        print('getting name')\n",
    "        return self._name\n",
    "        # this is private\n",
    "    \n",
    "    @name.setter\n",
    "    def name(self,name):\n",
    "        print('setting name')\n",
    "        self._name = name\n",
    "    \n",
    "    @name.deleter\n",
    "    def name(self):\n",
    "        del self._name\n",
    "\n",
    "    \n",
    "users = [User('rabin',29),User('rabina',28)]\n",
    "print('-------------')\n",
    "print(users[0].name)\n",
    "    "
   ]
  },
  {
   "cell_type": "code",
   "execution_count": 59,
   "metadata": {},
   "outputs": [
    {
     "name": "stdout",
     "output_type": "stream",
     "text": [
      "car has 200 milage\n",
      "4 wheels\n"
     ]
    }
   ],
   "source": [
    "# inheritance\n",
    "## Type -> single,multiple,multi-level\n",
    "# multiple -> parent1 and parent2 are inheritaed to son\n",
    "# multi-level -> parent -> son -> grandson\n",
    "class Vehicle:\n",
    "    def __init__(self,name,milage):\n",
    "        self.name = name\n",
    "        self.milage = milage\n",
    "    \n",
    "    def show(self):\n",
    "        return (f\"{self.name} has {self.milage} milage\")\n",
    "\n",
    "\n",
    "v1 = Vehicle('rabin',100)\n",
    "\n",
    "class Car(Vehicle):\n",
    "    def __init__(self,name,milage,wheel):\n",
    "        super().__init__(name,milage)\n",
    "        self.wheel = wheel\n",
    "\n",
    "    def show_car(self):\n",
    "        return (f\"{self.wheel} wheels\")\n",
    "\n",
    "c1 = Car('car',200,4)\n",
    "print(c1.show())\n",
    "print(c1.show_car())"
   ]
  },
  {
   "cell_type": "code",
   "execution_count": 52,
   "metadata": {},
   "outputs": [
    {
     "name": "stdout",
     "output_type": "stream",
     "text": [
      "I am user\n",
      "I am user\n",
      "I am teacher\n"
     ]
    }
   ],
   "source": [
    "# polymorphism\n",
    "class User:\n",
    "    def log(self):\n",
    "        print(self)\n",
    "\n",
    "\n",
    "class Teacher(User):\n",
    "    def log(self):\n",
    "        print('I am teacher')\n",
    "\n",
    "class Customer(User):\n",
    "    name = 'rabin'\n",
    "    def log(self):\n",
    "        print('I am user')\n",
    "\n",
    "users = [Customer(),Customer(),Teacher()]\n",
    "\n",
    "for user in users:\n",
    "    user.log()\n",
    "\n"
   ]
  },
  {
   "cell_type": "code",
   "execution_count": 65,
   "metadata": {},
   "outputs": [
    {
     "name": "stdout",
     "output_type": "stream",
     "text": [
      "Ram 10 5 Ram 10\n",
      "2021-02-18\n",
      "(30, 4, 17)\n",
      "2021-02-18\n",
      "Ram - (30, 4, 17)\n",
      "2021-02-18\n",
      "Ram - (30, 4, 17)\n"
     ]
    }
   ],
   "source": [
    "from datetime import date\n",
    "import math\n",
    "class Student:\n",
    "    def __init__(self,name,sclass,roll,dob):\n",
    "        #object variable\n",
    "        self.name = name\n",
    "        self.sclass = sclass\n",
    "        self.roll = roll\n",
    "        self.dob = dob\n",
    "    \n",
    "    def get_name(self):\n",
    "        return self.name\n",
    "    \n",
    "    def get_sclass(self):\n",
    "        return self.sclass\n",
    "    \n",
    "    @property\n",
    "    def get_age(self):\n",
    "        # @property make  method variable\n",
    "        print(date.today())\n",
    "        delta =  date.today()-self.dob\n",
    "        year= delta.days//365\n",
    "        month =  math.floor(((delta.days/365) - year)*12)\n",
    "        days = math.floor((((delta.days/365) - year)*12 - month)*30)\n",
    "        return year,month,days\n",
    "    \n",
    "    def __str__(self):\n",
    "        return f'{self.name} - {self.get_age}'\n",
    "    \n",
    "\n",
    "std = Student('Ram',10,5,date(1990,10,10))\n",
    "print(std.name,std.sclass,std.roll,std.get_name(),std.get_sclass())\n",
    "print(std.get_age)\n",
    "print(std)\n",
    "#internlly type cast to str\n",
    "print(str(std))"
   ]
  },
  {
   "cell_type": "code",
   "execution_count": 34,
   "metadata": {},
   "outputs": [
    {
     "name": "stdout",
     "output_type": "stream",
     "text": [
      "<__main__.Student object at 0x03B99418>\n",
      "['ram', 'shyam']\n",
      "[10, 11]\n"
     ]
    }
   ],
   "source": [
    "class Teacher:\n",
    "    def __init__(self,name,stds):\n",
    "        self.name = name\n",
    "        students = []\n",
    "        for std in stds:\n",
    "            std_obj = Student(\n",
    "                std['name'],\n",
    "                std['sclass'],\n",
    "                std['roll']\n",
    "            )\n",
    "            students.append(std_obj)\n",
    "        print(std_obj)\n",
    "        self.stds = students\n",
    "    \n",
    "    def students_name(self):\n",
    "        return [std.name for std in self.stds]\n",
    "        \n",
    "    def get_std_class(self):\n",
    "        return [std.sclass for std in self.stds]\n",
    "\n",
    "\n",
    "t1 = Teacher('neut1',[{\"name\":\"ram\",\"sclass\":10,\"roll\":3},{\"name\":\"shyam\",\"sclass\":11,\"roll\":4}])\n",
    "\n",
    "print(t1.students_name())\n",
    "print(t1.get_std_class())\n"
   ]
  },
  {
   "cell_type": "code",
   "execution_count": 10,
   "metadata": {},
   "outputs": [
    {
     "data": {
      "text/plain": [
       "'High'"
      ]
     },
     "execution_count": 10,
     "metadata": {},
     "output_type": "execute_result"
    }
   ],
   "source": [
    "# Product\n",
    "class Product:\n",
    "    def __init__(self,price,name,code,category):\n",
    "        self.name = name\n",
    "        self.price  = price\n",
    "        self.code = code\n",
    "        self.category = category\n",
    "    \n",
    "    def price_level(self):\n",
    "        return 'High' if self.price>1000 else 'Medium' if self.price>100 else 'Low'\n",
    "\n",
    "p1 = Product(1001,'apple',100,'fruits')\n",
    "p1.price_level()\n"
   ]
  },
  {
   "cell_type": "markdown",
   "metadata": {},
   "source": [
    "### classMethod\n",
    "- without instantiating a class\n",
    "- pass 2 arguments but receive 3 including \"cls\""
   ]
  },
  {
   "cell_type": "code",
   "execution_count": 9,
   "metadata": {},
   "outputs": [
    {
     "name": "stdout",
     "output_type": "stream",
     "text": [
      "cls :<class '__main__.Student'>\n",
      "ram\n",
      "rabs\n"
     ]
    }
   ],
   "source": [
    "class Student:\n",
    "    def __init__(self,name,roll,sem):\n",
    "        self.name = name\n",
    "        self.roll = roll\n",
    "        self.sem = sem\n",
    "        self.marks = 0\n",
    "    \n",
    "    @classmethod\n",
    "    def semI_factory(cls,name,roll):\n",
    "        print(f'cls :{cls}')\n",
    "        # convert to class methods to call directly.\n",
    "        ## having access of the class inside the class.\n",
    "        obj = cls(name = name , roll = roll, sem = 'I')\n",
    "        return obj\n",
    "    \n",
    "    @classmethod\n",
    "    def semII_factory(cls,name,roll):\n",
    "        obj = cls(name = name,roll = roll,sem = 'II')\n",
    "        return obj\n",
    "    \n",
    "    def get_name(self):\n",
    "        return self.name\n",
    "    \n",
    "    @staticmethod\n",
    "    def max_sem():\n",
    "        # it dont have any property of the class. its just a simple class method.\n",
    "        # static method is not copied if objects are created\n",
    "        return 8\n",
    "\n",
    "std = Student('ram',10,'I')\n",
    "ram_I = Student.semI_factory('ram',10)\n",
    "ram_II = Student.semII_factory('shyam',11)\n",
    "\n",
    "print(ram_I.get_name())\n",
    "\n",
    "new_obj = Student.semII_factory('rabs',29)\n",
    "print(new_obj.name)\n",
    "# classmethod dont need to create object to be called."
   ]
  },
  {
   "cell_type": "code",
   "execution_count": 5,
   "metadata": {},
   "outputs": [
    {
     "name": "stdout",
     "output_type": "stream",
     "text": [
      "<Book Harry Potter,hardcover, weighting 1600>\n",
      "<Book rabins book,paperback, weighting 250>\n"
     ]
    }
   ],
   "source": [
    "class Book:\n",
    "    TYPES = ('hardcover','paperback')\n",
    "\n",
    "    def __init__(self,name,book_type,weight):\n",
    "        self.name = name\n",
    "        self.book_type = book_type\n",
    "        self.weight = weight\n",
    "    \n",
    "    def __repr__(self):\n",
    "        return f\"<Book {self.name},{self.book_type}, weighting {self.weight}>\"\n",
    "    \n",
    "    @classmethod\n",
    "    def hardcover(cls,name,page_weight):\n",
    "        return Book(name,Book.TYPES[0],page_weight+100)\n",
    "\n",
    "    @classmethod\n",
    "    def softcover(cls,name,page_weight):\n",
    "        return Book(name,Book.TYPES[1],page_weight+50)\n",
    "\n",
    "book = Book.hardcover('Harry Potter',1500)\n",
    "print(book)\n",
    "\n",
    "book1 = Book.softcover('rabins book',200)\n",
    "print(book1)"
   ]
  },
  {
   "cell_type": "code",
   "execution_count": 5,
   "metadata": {},
   "outputs": [
    {
     "name": "stdout",
     "output_type": "stream",
     "text": [
      "False\n",
      "False\n"
     ]
    }
   ],
   "source": [
    "# property | classmethod | static\n",
    "import datetime\n",
    "\n",
    "\n",
    "class Calender:\n",
    "    # class constructor\n",
    "    def __init__(self) -> None:\n",
    "        self.events = []\n",
    "\n",
    "    def add_event(self,event):\n",
    "        # Normal instance method -> that have access of that instance it is called.\n",
    "        self.events.append(event)\n",
    "\n",
    "    @staticmethod\n",
    "    def is_weekend(date):\n",
    "        # static method dont care about any instance of that class\n",
    "        # if the staticmethod is not stitch to the class, then we can define the function outside the class\n",
    "        # but , it the staticmethod is specific to that class then, put it inside the class.\n",
    "        return date.weekday() > 4\n",
    "\n",
    "    @staticmethod\n",
    "    def from_json1(filename):\n",
    "        c = Calender()\n",
    "        # it works but it breaks inheritance cause the classname is hardcoded.\n",
    "        # we want to dynamically set the classname, -> that what classmethod does.\n",
    "        # ......\n",
    "        return c\n",
    "    \n",
    "    @classmethod\n",
    "    def from_json(cls,filename):\n",
    "        c = cls()\n",
    "        #....\n",
    "        return c\n",
    "    \n",
    "\n",
    "class WorkCalender(Calender):\n",
    "    pass\n",
    "\n",
    "\n",
    "c = Calender()\n",
    "c.add_event(\"party\")\n",
    "today = datetime.date.today()\n",
    "print(c.is_weekend(today))\n",
    "# or\n",
    "print(Calender.is_weekend(today))\n",
    "\n",
    "c = WorkCalender.from_json('my_cal.calender')\n",
    "d = c.from_json(\"my_cal2.calender\")\n"
   ]
  },
  {
   "cell_type": "code",
   "execution_count": 6,
   "metadata": {},
   "outputs": [],
   "source": [
    "# how staticmethod works\n",
    "class StaticMethod:\n",
    "    def __init__(self,func):\n",
    "        self.func = func\n",
    "\n",
    "    def __get__(self,instance,owner):\n",
    "        # ignores instance\n",
    "        return self.func\n",
    "    \n",
    "    def __call__(self,*args,**kwargs): # python 3.10\n",
    "        return self.func(*args,**kwargs)"
   ]
  },
  {
   "cell_type": "code",
   "execution_count": null,
   "metadata": {},
   "outputs": [],
   "source": [
    "# how classmethod works\n",
    "class ClassMethod:\n",
    "    def __init__(self,func):\n",
    "        self.func = func\n",
    "\n",
    "    def __get__(self,instance,owner):\n",
    "        return self.func.__get__(owner,type(owner))"
   ]
  },
  {
   "cell_type": "code",
   "execution_count": 5,
   "metadata": {},
   "outputs": [
    {
     "name": "stdout",
     "output_type": "stream",
     "text": [
      "Help on built-in function isinstance in module builtins:\n",
      "\n",
      "isinstance(obj, class_or_tuple, /)\n",
      "    Return whether an object is an instance of a class or of a subclass thereof.\n",
      "    \n",
      "    A tuple, as in ``isinstance(x, (A, B, ...))``, may be given as the target to\n",
      "    check against. This is equivalent to ``isinstance(x, A) or isinstance(x, B)\n",
      "    or ...`` etc.\n",
      "\n"
     ]
    }
   ],
   "source": [
    "help(isinstance)"
   ]
  },
  {
   "cell_type": "code",
   "execution_count": 14,
   "metadata": {},
   "outputs": [
    {
     "name": "stdout",
     "output_type": "stream",
     "text": [
      "True\n",
      "False\n"
     ]
    },
    {
     "data": {
      "text/plain": [
       "False"
      ]
     },
     "execution_count": 14,
     "metadata": {},
     "output_type": "execute_result"
    }
   ],
   "source": [
    "print(isinstance(nemo,Animal))\n",
    "print(isinstance(cow,Fish))\n",
    "isinstance(std,Fish)"
   ]
  },
  {
   "cell_type": "code",
   "execution_count": 23,
   "metadata": {},
   "outputs": [
    {
     "name": "stdout",
     "output_type": "stream",
     "text": [
      "list\n",
      "dict\n",
      "tuple\n",
      "some things else\n"
     ]
    }
   ],
   "source": [
    "# datatpye validation\n",
    "def some_random(x):\n",
    "    if(isinstance(x,list)):\n",
    "        print('list')\n",
    "    elif(isinstance(x,dict)):\n",
    "        print('dict')\n",
    "    elif(isinstance(x,tuple)):\n",
    "        print('tuple')\n",
    "    else:\n",
    "        print('some things else')\n",
    "    \n",
    "some_random([1,2])\n",
    "some_random({1:1})\n",
    "y = 1,2,3\n",
    "some_random(y)\n",
    "some_random(1)"
   ]
  },
  {
   "cell_type": "code",
   "execution_count": 78,
   "metadata": {},
   "outputs": [
    {
     "name": "stdout",
     "output_type": "stream",
     "text": [
      "Points (2, 4)\n",
      "Points (2, 8)\n",
      "8\n",
      "True\n"
     ]
    }
   ],
   "source": [
    "class Point:\n",
    "    def __init__(self,x,y):\n",
    "        self.x = x\n",
    "        self.y = y\n",
    "    \n",
    "    def __sub__(self, obj):\n",
    "        return ((self.x - obj.x)**2 + (self.y - obj.y)**2)**1//2\n",
    "    \n",
    "    def __eq__(self,obj):\n",
    "        return True if self.x == obj.x else False\n",
    "    \n",
    "    def __str__(self):\n",
    "        return f'Points ({self.x}, {self.y})'\n",
    "\n",
    "p1 = Point(2,4)\n",
    "p2 = Point(2,8)\n",
    "print(p1)\n",
    "print(p2)\n",
    "print(p2 - p1)\n",
    "print(p1==p2)"
   ]
  },
  {
   "cell_type": "code",
   "execution_count": 87,
   "metadata": {},
   "outputs": [
    {
     "data": {
      "text/plain": [
       "8"
      ]
     },
     "execution_count": 87,
     "metadata": {},
     "output_type": "execute_result"
    }
   ],
   "source": [
    "class Line:\n",
    "    def __init__(self,point1,point2):\n",
    "        self.point1 = point1\n",
    "        self.point2 = point2\n",
    "    \n",
    "    @property\n",
    "    def distance(self):\n",
    "        return self.point1 - self.point2\n",
    "\n",
    "p1 = Point(2,4)\n",
    "p2 = Point(2,8)\n",
    "line = Line(p1,p2)\n",
    "line.distance"
   ]
  },
  {
   "cell_type": "code",
   "execution_count": 125,
   "metadata": {},
   "outputs": [
    {
     "name": "stdout",
     "output_type": "stream",
     "text": [
      "1i ,2j\n",
      "3i ,5j\n",
      "..here..\n",
      "2.5\n",
      "3i ,5j\n"
     ]
    }
   ],
   "source": [
    "class Complex:\n",
    "    \"\"\"Custom complex class, xyz... \"\"\"\n",
    "    def __init__(self,real,imag):\n",
    "        self.real = real\n",
    "        self.imag = imag\n",
    "    \n",
    "    def __add__(self,other):\n",
    "        return Complex(self.real+other.real,self.imag+other.imag)\n",
    "    \n",
    "    def __sub__(self,other):\n",
    "        return Complex(self.real - other.real,self.imag - other.imag)\n",
    "    \n",
    "    def __iadd__(self,other):\n",
    "        print('iadd')\n",
    "        self.real += other.real\n",
    "        self.imag += other.imag\n",
    "        return self\n",
    "    \n",
    "    def __isub__(self,other):\n",
    "        self.real -= other.real\n",
    "        self.imag -= other.imag\n",
    "        return self\n",
    "\n",
    "    def __abs__(self):\n",
    "        print('..here..')\n",
    "        return ((self.real)**2 +(self.imag)**2)**1/2\n",
    "    \n",
    "    def __str__(self):\n",
    "        return f\"{self.real}i ,{self.imag}j\"\n",
    "    \n",
    "c1 = Complex(1,2)\n",
    "c2 = Complex(2,3)\n",
    "print(c1)\n",
    "print(c1+c2)\n",
    "print(abs(c1))\n",
    "c1 = c1+c2\n",
    "print(c1)\n",
    "\n"
   ]
  },
  {
   "cell_type": "code",
   "execution_count": 127,
   "metadata": {},
   "outputs": [
    {
     "data": {
      "text/plain": [
       "True"
      ]
     },
     "execution_count": 127,
     "metadata": {},
     "output_type": "execute_result"
    }
   ],
   "source": [
    "c = Complex(3,4)\n",
    "hasattr(c,'real')"
   ]
  },
  {
   "cell_type": "code",
   "execution_count": 129,
   "metadata": {},
   "outputs": [
    {
     "data": {
      "text/plain": [
       "3"
      ]
     },
     "execution_count": 129,
     "metadata": {},
     "output_type": "execute_result"
    }
   ],
   "source": [
    "getattr(c,'real')"
   ]
  },
  {
   "cell_type": "code",
   "execution_count": 131,
   "metadata": {},
   "outputs": [
    {
     "data": {
      "text/plain": [
       "2"
      ]
     },
     "execution_count": 131,
     "metadata": {},
     "output_type": "execute_result"
    }
   ],
   "source": [
    "setattr(c,'real',2)\n",
    "getattr(c,'real')"
   ]
  },
  {
   "cell_type": "code",
   "execution_count": 153,
   "metadata": {},
   "outputs": [
    {
     "name": "stdout",
     "output_type": "stream",
     "text": [
      "[4, 7, 3]\n"
     ]
    }
   ],
   "source": [
    "class Stack:\n",
    "    def __init__(self):\n",
    "        self.stack = []\n",
    "\n",
    "    def push(self,x):\n",
    "        self.stack.append(x)\n",
    "\n",
    "    @property\n",
    "    def pop(self):\n",
    "        if len(self.stack)!=0:\n",
    "            self.stack.pop()\n",
    "            \n",
    "    def __str__(self):\n",
    "        return f\"{self.stack}\"\n",
    "\n",
    "s1 = Stack()\n",
    "s1.push(4)\n",
    "s1.push(7)\n",
    "s1.push(3)\n",
    "# s1.pop\n",
    "print(s1)"
   ]
  },
  {
   "cell_type": "markdown",
   "metadata": {},
   "source": [
    "# MRO - Method Resolution Order"
   ]
  },
  {
   "cell_type": "code",
   "execution_count": 13,
   "metadata": {},
   "outputs": [
    {
     "name": "stdout",
     "output_type": "stream",
     "text": [
      "[<class '__main__.D'>, <class '__main__.B'>, <class '__main__.C'>, <class '__main__.A'>, <class 'object'>]\n"
     ]
    }
   ],
   "source": [
    "class A:\n",
    "    num = 10\n",
    "\n",
    "class B(A):\n",
    "    pass\n",
    "\n",
    "class C(A):\n",
    "    num = 1\n",
    "\n",
    "class D(B,C):\n",
    "    pass\n",
    "\n",
    "print(D.mro())"
   ]
  },
  {
   "cell_type": "code",
   "execution_count": null,
   "metadata": {},
   "outputs": [],
   "source": []
  }
 ],
 "metadata": {
  "kernelspec": {
   "display_name": "venv",
   "language": "python",
   "name": "python3"
  },
  "language_info": {
   "codemirror_mode": {
    "name": "ipython",
    "version": 3
   },
   "file_extension": ".py",
   "mimetype": "text/x-python",
   "name": "python",
   "nbconvert_exporter": "python",
   "pygments_lexer": "ipython3",
   "version": "3.10.12"
  },
  "orig_nbformat": 2,
  "vscode": {
   "interpreter": {
    "hash": "2905e53e379b4d4dcacc1e47bf0c48f14835bfd8aa6bc3a4fd76372ded1b7631"
   }
  }
 },
 "nbformat": 4,
 "nbformat_minor": 2
}
