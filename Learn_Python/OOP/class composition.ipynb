{
 "metadata": {
  "language_info": {
   "codemirror_mode": {
    "name": "ipython",
    "version": 3
   },
   "file_extension": ".py",
   "mimetype": "text/x-python",
   "name": "python",
   "nbconvert_exporter": "python",
   "pygments_lexer": "ipython3",
   "version": "3.9.1"
  },
  "orig_nbformat": 2,
  "kernelspec": {
   "name": "python391jvsc74a57bd06dbcfa4acfde829108fd9fed7b4c7e3cf5b89483651b78d4b8e08d6c4461514a",
   "display_name": "Python 3.9.1 64-bit ('venv1': venv)",
   "language": "python"
  }
 },
 "nbformat": 4,
 "nbformat_minor": 2,
 "cells": [
  {
   "cell_type": "code",
   "execution_count": 2,
   "metadata": {},
   "outputs": [
    {
     "output_type": "stream",
     "name": "stdout",
     "text": [
      "Book Harry Poter\n"
     ]
    }
   ],
   "source": [
    "# class example\n",
    "class BookShelf:\n",
    "    def __init__(self,quantity):\n",
    "        self.quantity = quantity\n",
    "\n",
    "    def __str__(self):\n",
    "        return f\"Book has {self.quantity} pages\"\n",
    "\n",
    "class Book(BookShelf):\n",
    "    def __init__(self,name,quantity):\n",
    "        super().__init__(quantity)\n",
    "        self.name = name\n",
    "    \n",
    "    def __str__(self):\n",
    "        return f\"Book {self.name}\"\n",
    "\n",
    "book = Book(\"Harry Poter\",120)\n",
    "print(book)\n",
    "\n",
    "# Here all book beloging to bookself but not all bookself are book\n",
    "# Here we have to override even the init and str methods\n",
    "# There is no benefit of using class inheritance."
   ]
  },
  {
   "cell_type": "code",
   "execution_count": 4,
   "metadata": {},
   "outputs": [
    {
     "output_type": "stream",
     "name": "stdout",
     "text": [
      "Book Self with 2 books.\n"
     ]
    }
   ],
   "source": [
    "# class composition\n",
    "class BookShelf:\n",
    "    def __init__(self,*books):\n",
    "        self.books = books\n",
    "    \n",
    "    def __str__(self):\n",
    "        return f\"Book Self with {len(self.books)} books.\"\n",
    "    \n",
    "class Book:\n",
    "    def __init__(self,name):\n",
    "        self.name = name\n",
    "\n",
    "    def __str__(self):\n",
    "        return f\"Book {self.name}\"\n",
    "\n",
    "\n",
    "book = Book('Harry Poter')\n",
    "book2 = Book(\"Python 101\")\n",
    "\n",
    "shelf = BookShelf(book,book2)\n",
    "print(shelf)"
   ]
  },
  {
   "cell_type": "code",
   "execution_count": null,
   "metadata": {},
   "outputs": [],
   "source": []
  }
 ]
}