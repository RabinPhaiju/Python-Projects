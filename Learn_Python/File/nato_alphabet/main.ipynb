{
 "metadata": {
  "language_info": {
   "codemirror_mode": {
    "name": "ipython",
    "version": 3
   },
   "file_extension": ".py",
   "mimetype": "text/x-python",
   "name": "python",
   "nbconvert_exporter": "python",
   "pygments_lexer": "ipython3",
   "version": "3.9.1-final"
  },
  "orig_nbformat": 2,
  "kernelspec": {
   "name": "python3",
   "display_name": "Python 3.9.1 64-bit ('venv1')",
   "metadata": {
    "interpreter": {
     "hash": "6dbcfa4acfde829108fd9fed7b4c7e3cf5b89483651b78d4b8e08d6c4461514a"
    }
   }
  }
 },
 "nbformat": 4,
 "nbformat_minor": 2,
 "cells": [
  {
   "cell_type": "code",
   "execution_count": 2,
   "metadata": {},
   "outputs": [
    {
     "output_type": "execute_result",
     "data": {
      "text/plain": [
       "{'A': 'Alfa',\n",
       " 'B': 'Bravo',\n",
       " 'C': 'Charlie',\n",
       " 'D': 'Delta',\n",
       " 'E': 'Echo',\n",
       " 'F': 'Foxtrot',\n",
       " 'G': 'Golf',\n",
       " 'H': 'Hotel',\n",
       " 'I': 'India',\n",
       " 'J': 'Juliet',\n",
       " 'K': 'Kilo',\n",
       " 'L': 'Lima',\n",
       " 'M': 'Mike',\n",
       " 'N': 'November',\n",
       " 'O': 'Oscar',\n",
       " 'P': 'Papa',\n",
       " 'Q': 'Quebec',\n",
       " 'R': 'Romeo',\n",
       " 'S': 'Sierra',\n",
       " 'T': 'Tango',\n",
       " 'U': 'Uniform',\n",
       " 'V': 'Victor',\n",
       " 'W': 'Whiskey',\n",
       " 'X': 'X-ray',\n",
       " 'Y': 'Yankee',\n",
       " 'Z': 'Zulu'}"
      ]
     },
     "metadata": {},
     "execution_count": 2
    }
   ],
   "source": [
    "#TODO 1. Create a dictionary in this format:\n",
    "import pandas\n",
    "\n",
    "data = pandas.read_csv('nato_phonetic_alphabet.csv')\n",
    "\n",
    "nato = { value.letter:value.code for (key,value) in data.iterrows()}\n",
    "\n",
    "nato"
   ]
  },
  {
   "cell_type": "code",
   "execution_count": 25,
   "metadata": {},
   "outputs": [
    {
     "output_type": "stream",
     "name": "stdout",
     "text": [
      "Name don\"t contain alphabets\n"
     ]
    },
    {
     "output_type": "execute_result",
     "data": {
      "text/plain": [
       "{'A': 'Alfa', 'R': 'Romeo'}"
      ]
     },
     "metadata": {},
     "execution_count": 25
    }
   ],
   "source": [
    "#TODO 2. Create a list of the phonetic code words from a word that the user inputs.\n",
    "name = input('Enter your name')\n",
    "\n",
    "name_nato = {key:value for (key,value) in nato.items() for x in name if x.lower()==key.lower()}\n",
    "\n",
    "name_nato"
   ]
  }
 ]
}