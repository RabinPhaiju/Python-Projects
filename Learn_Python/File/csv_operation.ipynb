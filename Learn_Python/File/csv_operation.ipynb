{
 "metadata": {
  "language_info": {
   "codemirror_mode": {
    "name": "ipython",
    "version": 3
   },
   "file_extension": ".py",
   "mimetype": "text/x-python",
   "name": "python",
   "nbconvert_exporter": "python",
   "pygments_lexer": "ipython3",
   "version": "3.9.1-final"
  },
  "orig_nbformat": 2,
  "kernelspec": {
   "name": "python3",
   "display_name": "Python 3.9.1 64-bit ('venv1')",
   "metadata": {
    "interpreter": {
     "hash": "6dbcfa4acfde829108fd9fed7b4c7e3cf5b89483651b78d4b8e08d6c4461514a"
    }
   }
  }
 },
 "nbformat": 4,
 "nbformat_minor": 2,
 "cells": [
  {
   "cell_type": "code",
   "execution_count": 3,
   "metadata": {},
   "outputs": [],
   "source": [
    "import csv"
   ]
  },
  {
   "cell_type": "code",
   "execution_count": 1,
   "metadata": {},
   "outputs": [],
   "source": [
    "subject = ['name','python','data_structure','physics']\n",
    "marks = ['rabin', 12, 12, 23]"
   ]
  },
  {
   "cell_type": "code",
   "execution_count": 4,
   "metadata": {},
   "outputs": [],
   "source": [
    "with open('marksheet.csv', 'w') as f:\n",
    "    csv_writer = csv.writer(f, delimiter=',')\n",
    "    csv_writer.writerow(subject)\n",
    "    csv_writer.writerow(marks)\n"
   ]
  },
  {
   "cell_type": "code",
   "execution_count": 7,
   "metadata": {},
   "outputs": [],
   "source": [
    "marks = [\n",
    "    ['sabin', 34, 45, 67],\n",
    "    ['suraj', 12 , 67, 45],\n",
    "    ['ram', 45, 56, 88]\n",
    "]\n",
    "with open('marksheet.csv', 'a') as f:\n",
    "    csv_writer = csv.writer(f)\n",
    "    csv_writer.writerows(marks)\n"
   ]
  },
  {
   "cell_type": "code",
   "execution_count": 32,
   "metadata": {},
   "outputs": [
    {
     "output_type": "stream",
     "name": "stdout",
     "text": [
      "-----names---\n['name', 'python', 'data_structure', 'physics', 'sabin', '34', '45', '67', 'suraj', '12', '67', '45', 'ram', '45', '56', '88', 'sabin', '34', '45', '67', 'suraj', '12', '67', '45', 'ram', '45', '56', '88', 'sabin', '34', '45', '67', 'suraj', '12', '67', '45', 'ram', '45', '56', '88']\n"
     ]
    }
   ],
   "source": [
    "# # --------- READ -------------\n",
    "with open('marksheet.csv', 'r') as file:\n",
    "    csv_reader = csv.reader(file)\n",
    "    names = []\n",
    "\n",
    "    # read row by row -----------\n",
    "    for i in csv_reader:\n",
    "        for j in i:\n",
    "            names.append(j)\n",
    "    print('-----names---')\n",
    "    print(names)"
   ]
  },
  {
   "cell_type": "code",
   "execution_count": null,
   "metadata": {},
   "outputs": [],
   "source": [
    "# ------- CSV DICTIONARY ---------\n",
    "\n",
    "\n",
    "with open('mar.csv', 'w') as f:\n",
    "    csv_writer = csv.DictWriter(f, delimiter=',', fieldnames=['name', 'math'])\n",
    "    data = {'name': 'rabin', 'math': 23}\n",
    "    csv_writer.writerow(data)"
   ]
  }
 ]
}