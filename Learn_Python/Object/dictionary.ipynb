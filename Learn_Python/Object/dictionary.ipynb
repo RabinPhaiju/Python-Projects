{
 "metadata": {
  "language_info": {
   "codemirror_mode": {
    "name": "ipython",
    "version": 3
   },
   "file_extension": ".py",
   "mimetype": "text/x-python",
   "name": "python",
   "nbconvert_exporter": "python",
   "pygments_lexer": "ipython3",
   "version": "3.9.1-final"
  },
  "orig_nbformat": 2,
  "kernelspec": {
   "name": "python3",
   "display_name": "Python 3",
   "language": "python"
  }
 },
 "nbformat": 4,
 "nbformat_minor": 2,
 "cells": [
  {
   "source": [
    "### dict has unique key unordered -> no index\n",
    "\n",
    "    - key value pair\n",
    "    - the keys and values can be of any type.\n",
    "    - dictionary is indexed through the keys.\n",
    "    - same key cannot be assigned. which is replace/update thre prev\n",
    "    - key or value or dict can be float ,int, list, tuple etc"
   ],
   "cell_type": "markdown",
   "metadata": {}
  },
  {
   "cell_type": "code",
   "execution_count": 4,
   "metadata": {},
   "outputs": [
    {
     "output_type": "execute_result",
     "data": {
      "text/plain": [
       "{'name': 'rabin', 'age': 9}"
      ]
     },
     "metadata": {},
     "execution_count": 4
    }
   ],
   "source": [
    "# create\n",
    "empty_lsit={}\n",
    "empty_list = dict()\n",
    "dict1 = {\n",
    "     \"name\":\"rabin\",\n",
    "     \"age\":9\n",
    "     }\n",
    "dict1"
   ]
  },
  {
   "cell_type": "code",
   "execution_count": 8,
   "metadata": {},
   "outputs": [
    {
     "output_type": "stream",
     "name": "stdout",
     "text": [
      "dict_keys(['name', 'age'])\ndict_values(['rabin', 9])\n9\n9\n"
     ]
    }
   ],
   "source": [
    "# access the keys and value\n",
    "\n",
    "print(dict1.keys())\n",
    "print(dict1.values())\n",
    "print(dict1['age'])\n",
    "print(dict1.get('age', 'Not found'))"
   ]
  },
  {
   "cell_type": "code",
   "execution_count": 10,
   "metadata": {},
   "outputs": [],
   "source": [
    "# create/clear dict\n",
    "dict2 = {}"
   ]
  },
  {
   "cell_type": "code",
   "execution_count": 13,
   "metadata": {},
   "outputs": [
    {
     "output_type": "execute_result",
     "data": {
      "text/plain": [
       "{'name': 'rabin', 'age': 9}"
      ]
     },
     "metadata": {},
     "execution_count": 13
    }
   ],
   "source": [
    "# add/update dict\n",
    "\n",
    "dict2['name']='rabina'\n",
    "dict2.update(dict1)\n",
    "dict2"
   ]
  },
  {
   "cell_type": "code",
   "execution_count": 14,
   "metadata": {},
   "outputs": [
    {
     "output_type": "execute_result",
     "data": {
      "text/plain": [
       "{'name': 'rabin'}"
      ]
     },
     "metadata": {},
     "execution_count": 14
    }
   ],
   "source": [
    "# delete a key,value\n",
    "del dict2['age']\n",
    "dict2"
   ]
  },
  {
   "cell_type": "code",
   "execution_count": 16,
   "metadata": {},
   "outputs": [
    {
     "output_type": "execute_result",
     "data": {
      "text/plain": [
       "True"
      ]
     },
     "metadata": {},
     "execution_count": 16
    }
   ],
   "source": [
    "# check key exist\n",
    "\n",
    "'name' in dict2"
   ]
  },
  {
   "cell_type": "code",
   "execution_count": 17,
   "metadata": {},
   "outputs": [
    {
     "output_type": "stream",
     "name": "stdout",
     "text": [
      "name\nrabin\nage\n9\nname rabin\nage 9\n"
     ]
    }
   ],
   "source": [
    "# loop dict\n",
    "for key in dict1:\n",
    "  print(key)\n",
    "  print(dict1[key])\n",
    "for k, v in dict1.items():\n",
    "  print(k, v)"
   ]
  },
  {
   "cell_type": "code",
   "execution_count": 18,
   "metadata": {},
   "outputs": [
    {
     "output_type": "stream",
     "name": "stdout",
     "text": [
      "['rabin', 'shyam', 'hari', 'xyz', 'rabin']\n"
     ]
    }
   ],
   "source": [
    "# get function -> if we access key not available -> returns None or default value\n",
    "\n",
    "x = [\n",
    "     {\"name\":\"ram\",\"sem\":6,\"name\": \"rabin\"},\n",
    "     {\"name\":\"shyam\",\"sem\":6},\n",
    "     {\"name\":\"hari\",\"sem\":6},\n",
    "     {\"name\":\"xyz\",\"sem\":6},\n",
    "     {\"name\":\"rabin\",\"sem\":6}\n",
    "     ]\n",
    "print([i.get('name') for i in x])"
   ]
  },
  {
   "cell_type": "code",
   "execution_count": 25,
   "metadata": {},
   "outputs": [
    {
     "output_type": "execute_result",
     "data": {
      "text/plain": [
       "{'name': ['rabin', 'ram'],\n",
       " 'school': {'school1': 'boston',\n",
       "  'school2': 'yung',\n",
       "  'france': {'cities_visited': ['paris', 'dijon'], 'total': 12}}}"
      ]
     },
     "metadata": {},
     "execution_count": 25
    }
   ],
   "source": [
    "# Nesting list and dict\n",
    "person ={\n",
    "\"name\":['rabin','ram'],\n",
    "\"school\":{\n",
    "\"school1\":\"boston\",\n",
    "\"school2\":\"yung\",\n",
    "\"france\":{\n",
    "\"cities_visited\":['paris','dijon'],\n",
    "\"total\":12\n",
    "    }}}\n",
    "person"
   ]
  },
  {
   "cell_type": "code",
   "execution_count": 26,
   "metadata": {},
   "outputs": [
    {
     "output_type": "stream",
     "name": "stdout",
     "text": [
      "{2: 4, 4: 16, 6: 36}\n{0: 0, 2: 4, 4: 16, 6: 36, 8: 64}\n{6: 36, 8: 64}\n{0: 'even', 1: 'odd', 2: 'even', 3: 'odd', 4: 'even', 5: 'odd', 6: 'even', 7: 'odd', 8: 'even', 9: 'odd'}\n"
     ]
    }
   ],
   "source": [
    "# dictionary comprehension\n",
    "\n",
    "print({x: x**2 for x in (2, 4, 6)})\n",
    "print({i: i**2 for i in range(10) if i % 2 == 0})\n",
    "print({i: i**2 for i in range(10) if i % 2 == 0 if i > 5})\n",
    "print({i: ('even' if i % 2 == 0 else 'odd') for i in range(10)})"
   ]
  },
  {
   "cell_type": "code",
   "execution_count": 28,
   "metadata": {},
   "outputs": [
    {
     "output_type": "stream",
     "name": "stdout",
     "text": [
      "name=['rabin', 'ram']\nschool={'school1': 'boston', 'school2': 'yung', 'france': {'cities_visited': ['paris', 'dijon'], 'total': 12}}\n"
     ]
    }
   ],
   "source": [
    "# dict.item()\n",
    "\n",
    "for key,value in person.items():\n",
    "    print(f\"{key}={value}\")"
   ]
  },
  {
   "cell_type": "code",
   "execution_count": 30,
   "metadata": {},
   "outputs": [
    {
     "output_type": "stream",
     "name": "stdout",
     "text": [
      "{1: 'hello', 2: 'bye', 3: 'll'}\n"
     ]
    }
   ],
   "source": [
    "# Convert list to dic\n",
    "\n",
    "eg_list=['hello','bye','ll']\n",
    "print({i: v for i, v in enumerate(eg_list, 1)})"
   ]
  }
 ]
}