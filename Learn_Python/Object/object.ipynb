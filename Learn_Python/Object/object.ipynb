{
 "metadata": {
  "language_info": {
   "codemirror_mode": {
    "name": "ipython",
    "version": 3
   },
   "file_extension": ".py",
   "mimetype": "text/x-python",
   "name": "python",
   "nbconvert_exporter": "python",
   "pygments_lexer": "ipython3",
   "version": "3.9.1-final"
  },
  "orig_nbformat": 2,
  "kernelspec": {
   "name": "python3",
   "display_name": "Python 3",
   "language": "python"
  }
 },
 "nbformat": 4,
 "nbformat_minor": 2,
 "cells": [
  {
   "source": [
    "## Object\n",
    "   - set\n",
    "   - list\n",
    "   - tuple\n",
    "   - dict\n",
    "   - frozenset"
   ],
   "cell_type": "markdown",
   "metadata": {}
  },
  {
   "cell_type": "code",
   "execution_count": 2,
   "metadata": {},
   "outputs": [
    {
     "output_type": "stream",
     "name": "stdout",
     "text": [
      "['__add__', '__class__', '__class_getitem__', '__contains__', '__delattr__', '__delitem__', '__dir__', '__doc__', '__eq__', '__format__', '__ge__', '__getattribute__', '__getitem__', '__gt__', '__hash__', '__iadd__', '__imul__', '__init__', '__init_subclass__', '__iter__', '__le__', '__len__', '__lt__', '__mul__', '__ne__', '__new__', '__reduce__', '__reduce_ex__', '__repr__', '__reversed__', '__rmul__', '__setattr__', '__setitem__', '__sizeof__', '__str__', '__subclasshook__', 'append', 'clear', 'copy', 'count', 'extend', 'index', 'insert', 'pop', 'remove', 'reverse', 'sort']\n"
     ]
    }
   ],
   "source": [
    "# dir() displays the methods available for the object\n",
    "a = [1,2]\n",
    "print(dir(a))"
   ]
  },
  {
   "cell_type": "code",
   "execution_count": null,
   "metadata": {},
   "outputs": [],
   "source": [
    "# id()\n",
    "# gives the memory id"
   ]
  },
  {
   "cell_type": "code",
   "execution_count": null,
   "metadata": {},
   "outputs": [],
   "source": [
    "# id in function\n",
    "# pass by referrence"
   ]
  },
  {
   "cell_type": "code",
   "execution_count": null,
   "metadata": {},
   "outputs": [],
   "source": [
    "# list in function\n",
    "\n",
    "# append in list changes in same memory location"
   ]
  },
  {
   "source": [
    "## Mutable\n",
    "   - list, set, dict"
   ],
   "cell_type": "markdown",
   "metadata": {}
  },
  {
   "source": [
    "## Immutable\n",
    "   - bool\n",
    "   - int\n",
    "   - float\n",
    "   - tuple\n",
    "   - str\n",
    "   - frozenset"
   ],
   "cell_type": "markdown",
   "metadata": {}
  },
  {
   "cell_type": "code",
   "execution_count": 4,
   "metadata": {},
   "outputs": [
    {
     "output_type": "stream",
     "name": "stdout",
     "text": [
      "(1, 2, 3, 4, 1)\n{1, 2, 3, 4}\n"
     ]
    }
   ],
   "source": [
    "# Type casting\n",
    "\n",
    "eg_list = [1, 2, 3, 4, 1]\n",
    "eg_tuple = tuple(eg_list)\n",
    "print(eg_tuple)\n",
    "eg_set = set(eg_list)\n",
    "print(eg_set)"
   ]
  },
  {
   "cell_type": "code",
   "execution_count": 6,
   "metadata": {},
   "outputs": [
    {
     "output_type": "stream",
     "name": "stdout",
     "text": [
      "2539308235264\n2539308235264\n"
     ]
    }
   ],
   "source": [
    "# Mutable list example\n",
    "\n",
    "a = [1,2,4]\n",
    "print(id(a))\n",
    "a.append(5) #address of a is same if append\n",
    "print(id(a))"
   ]
  },
  {
   "cell_type": "code",
   "execution_count": 7,
   "metadata": {},
   "outputs": [
    {
     "output_type": "stream",
     "name": "stdout",
     "text": [
      "True\n"
     ]
    }
   ],
   "source": [
    "# Mutalbe dict example\n",
    "\n",
    "eg_dict = {'name': 'ram', 'college': 'kec'}\n",
    "on_create = eg_dict\n",
    "eg_dict['newkey'] = 'newvalue'\n",
    "on_change = eg_dict\n",
    "print(on_create is on_change)"
   ]
  },
  {
   "cell_type": "code",
   "execution_count": 8,
   "metadata": {},
   "outputs": [
    {
     "output_type": "stream",
     "name": "stdout",
     "text": [
      "2539309035584\n2539309035584\n2539309035584\n"
     ]
    }
   ],
   "source": [
    "# Mutable set exaple\n",
    "eg_set = set()\n",
    "print(id(eg_set))\n",
    "eg_set.add('name')\n",
    "print(id(eg_set))\n",
    "eg_set.add('height')\n",
    "print(id(eg_set))"
   ]
  }
 ]
}