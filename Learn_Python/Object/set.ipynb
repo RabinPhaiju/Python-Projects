{
 "metadata": {
  "language_info": {
   "codemirror_mode": {
    "name": "ipython",
    "version": 3
   },
   "file_extension": ".py",
   "mimetype": "text/x-python",
   "name": "python",
   "nbconvert_exporter": "python",
   "pygments_lexer": "ipython3",
   "version": "3.9.1-final"
  },
  "orig_nbformat": 2,
  "kernelspec": {
   "name": "python3",
   "display_name": "Python 3",
   "language": "python"
  }
 },
 "nbformat": 4,
 "nbformat_minor": 2,
 "cells": [
  {
   "source": [
    "# sets ->mutable\n",
    "# set is an unordered collection with no duplicate elements.\n",
    "{x for x in 'abracadabra' if x not in 'abc'}"
   ],
   "cell_type": "code",
   "metadata": {},
   "execution_count": 1,
   "outputs": [
    {
     "output_type": "execute_result",
     "data": {
      "text/plain": [
       "{'d', 'r'}"
      ]
     },
     "metadata": {},
     "execution_count": 1
    }
   ]
  },
  {
   "cell_type": "code",
   "execution_count": 3,
   "metadata": {},
   "outputs": [
    {
     "output_type": "execute_result",
     "data": {
      "text/plain": [
       "set()"
      ]
     },
     "metadata": {},
     "execution_count": 3
    }
   ],
   "source": [
    "# empty set\n",
    "a = set()\n",
    "a"
   ]
  },
  {
   "cell_type": "code",
   "execution_count": 5,
   "metadata": {},
   "outputs": [
    {
     "output_type": "error",
     "ename": "TypeError",
     "evalue": "'set' object is not subscriptable",
     "traceback": [
      "\u001b[1;31m---------------------------------------------------------------------------\u001b[0m",
      "\u001b[1;31mTypeError\u001b[0m                                 Traceback (most recent call last)",
      "\u001b[1;32m<ipython-input-5-da04ef341b3e>\u001b[0m in \u001b[0;36m<module>\u001b[1;34m\u001b[0m\n\u001b[0;32m      2\u001b[0m \u001b[1;33m\u001b[0m\u001b[0m\n\u001b[0;32m      3\u001b[0m \u001b[0ma\u001b[0m\u001b[1;33m.\u001b[0m\u001b[0madd\u001b[0m\u001b[1;33m(\u001b[0m\u001b[1;34m'text'\u001b[0m\u001b[1;33m)\u001b[0m\u001b[1;33m\u001b[0m\u001b[1;33m\u001b[0m\u001b[0m\n\u001b[1;32m----> 4\u001b[1;33m \u001b[0ma\u001b[0m\u001b[1;33m[\u001b[0m\u001b[1;36m0\u001b[0m\u001b[1;33m]\u001b[0m\u001b[1;33m\u001b[0m\u001b[1;33m\u001b[0m\u001b[0m\n\u001b[0m",
      "\u001b[1;31mTypeError\u001b[0m: 'set' object is not subscriptable"
     ]
    }
   ],
   "source": [
    "# add item in set\n",
    "\n",
    "a.add('text')\n",
    "a[0]"
   ]
  },
  {
   "cell_type": "code",
   "execution_count": 7,
   "metadata": {},
   "outputs": [
    {
     "output_type": "execute_result",
     "data": {
      "text/plain": [
       "{'text'}"
      ]
     },
     "metadata": {},
     "execution_count": 7
    }
   ],
   "source": [
    "# delete from set\n",
    "a.discard('name')\n",
    "a"
   ]
  },
  {
   "cell_type": "code",
   "execution_count": 8,
   "metadata": {},
   "outputs": [
    {
     "output_type": "execute_result",
     "data": {
      "text/plain": [
       "['shyam', 2, 3]"
      ]
     },
     "metadata": {},
     "execution_count": 8
    }
   ],
   "source": [
    "# get common element from lists\n",
    "\n",
    "list1 = [\"ram\",\"shyam\",1,2,3,\"hari\"]\n",
    "list2 = [\"shyam\",2,3,10]\n",
    "list(set(list1) & set(list2))"
   ]
  },
  {
   "cell_type": "code",
   "execution_count": 9,
   "metadata": {},
   "outputs": [
    {
     "output_type": "stream",
     "name": "stdout",
     "text": [
      "True\n"
     ]
    }
   ],
   "source": [
    "# unordered\n",
    "# - set have no indexing\n",
    "print({1,2,3}=={2,1,3})"
   ]
  },
  {
   "source": [
    "# methods -> print(dir(set))\n",
    "summer = {'banana', 'watermelon', 'grapes', 'lemon', 'berries'}\n",
    "winter = {'orange', 'banana', 'pineapple', 'lemon', 'kiwi'}\n",
    "spring = {'watermelon', 'grapes'}\n",
    "\n",
    "print('union: ', summer | winter)\n",
    "print('intersection: ', summer & winter)\n",
    "print('difference: ', summer - winter)\n",
    "print('symmetric difference: ', summer ^ winter)"
   ],
   "cell_type": "code",
   "metadata": {},
   "execution_count": 10,
   "outputs": [
    {
     "output_type": "stream",
     "name": "stdout",
     "text": [
      "union:  {'watermelon', 'orange', 'kiwi', 'banana', 'pineapple', 'grapes', 'lemon', 'berries'}\nintersection:  {'banana', 'lemon'}\ndifference:  {'watermelon', 'grapes', 'berries'}\nsymmetric difference:  {'watermelon', 'pineapple', 'orange', 'kiwi', 'grapes', 'berries'}\n"
     ]
    }
   ]
  },
  {
   "cell_type": "code",
   "execution_count": 13,
   "metadata": {},
   "outputs": [
    {
     "output_type": "stream",
     "name": "stdout",
     "text": [
      "subset:  True\nTrue\n"
     ]
    }
   ],
   "source": [
    "# Subset\n",
    "# - returns True if spring is subset of summer else False\n",
    "print('subset: ', spring <= summer)\n",
    "print(spring.issubset(summer))"
   ]
  },
  {
   "cell_type": "code",
   "execution_count": 14,
   "metadata": {},
   "outputs": [
    {
     "output_type": "stream",
     "name": "stdout",
     "text": [
      "superset:  True\nTrue\n"
     ]
    }
   ],
   "source": [
    "# Superset\n",
    "# - returns True if summer is superset of spring else False\n",
    "print('superset: ', summer >= spring )\n",
    "print(summer.issuperset(spring))"
   ]
  }
 ]
}