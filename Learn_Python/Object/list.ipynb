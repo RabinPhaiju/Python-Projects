{
 "metadata": {
  "language_info": {
   "codemirror_mode": {
    "name": "ipython",
    "version": 3
   },
   "file_extension": ".py",
   "mimetype": "text/x-python",
   "name": "python",
   "nbconvert_exporter": "python",
   "pygments_lexer": "ipython3",
   "version": "3.8.5-final"
  },
  "orig_nbformat": 2,
  "kernelspec": {
   "name": "python3",
   "display_name": "Python 3",
   "language": "python"
  }
 },
 "nbformat": 4,
 "nbformat_minor": 2,
 "cells": [
  {
   "cell_type": "code",
   "execution_count": 4,
   "metadata": {},
   "outputs": [
    {
     "output_type": "execute_result",
     "data": {
      "text/plain": [
       "19"
      ]
     },
     "metadata": {},
     "execution_count": 4
    }
   ],
   "source": [
    "empty_list = []\n",
    "list()\n",
    "eg_list2 = [1, 2, 3, [200, 300, [100, [400, [18, [19]]]]]]\n",
    "eg_list2[3][-1][1][1][1][0]"
   ]
  },
  {
   "cell_type": "code",
   "execution_count": 8,
   "metadata": {},
   "outputs": [
    {
     "output_type": "stream",
     "name": "stdout",
     "text": [
      "True\n"
     ]
    }
   ],
   "source": [
    "# check element in list\n",
    "print(3 in eg_list2)"
   ]
  },
  {
   "cell_type": "code",
   "execution_count": 9,
   "metadata": {},
   "outputs": [
    {
     "output_type": "stream",
     "name": "stdout",
     "text": [
      "False\nTrue\n"
     ]
    }
   ],
   "source": [
    "# check the list contains elements of another list\n",
    "List1 = [1,2,3]\n",
    "List2 = [1,2,3,4]\n",
    "print(all(item in List1 for item in List2))\n",
    "print(any(item in List1 for item in List2))"
   ]
  },
  {
   "source": [
    "- list.append() :- add at the end of the list\n",
    "- a[len(a):] = [x]"
   ],
   "cell_type": "markdown",
   "metadata": {}
  },
  {
   "source": [
    "* Remove the item at the given position in the list, and return it. If no index is specified, a.pop() removes the last\n",
    "* list.pop([i])"
   ],
   "cell_type": "markdown",
   "metadata": {}
  },
  {
   "source": [
    "* list.extend(list1)\n",
    "* a[len(a):] = iterable"
   ],
   "cell_type": "markdown",
   "metadata": {}
  },
  {
   "source": [
    "list.insert(0, x)\n",
    "\n",
    "     - a.insert(len(a), x) is equivalent to a.append(x).\n",
    "     - a.insert(1,x) -> insert at position 1"
   ],
   "cell_type": "markdown",
   "metadata": {}
  },
  {
   "source": [
    "- list.remove(x)\n",
    "\n",
    "     - Remove the first item from the list whose value is equal to x"
   ],
   "cell_type": "markdown",
   "metadata": {}
  },
  {
   "source": [
    "- list.clear()\n",
    "\n",
    "     - Remove all items from the list\n",
    "     - del a[:]."
   ],
   "cell_type": "markdown",
   "metadata": {}
  },
  {
   "source": [
    "- list.index(x[, start[, end]])"
   ],
   "cell_type": "markdown",
   "metadata": {}
  },
  {
   "source": [
    "- list.count(x)\n",
    "\n",
    "     - Return the number of times x appears in the list."
   ],
   "cell_type": "markdown",
   "metadata": {}
  },
  {
   "source": [
    "- list.sort(*, key=None, reverse=False)\n",
    "   - list.reverse()\n",
    "\n",
    "     - print(days[::-1])"
   ],
   "cell_type": "markdown",
   "metadata": {}
  },
  {
   "source": [
    "- list.copy()\n",
    "     - Return a shallow copy of the list. Equivalent to a[:]"
   ],
   "cell_type": "markdown",
   "metadata": {}
  },
  {
   "source": [
    "# Remove duplicate values from list\n",
    "\n",
    "list(set([1,1,2,4,5,5,6,7]))"
   ],
   "cell_type": "code",
   "metadata": {},
   "execution_count": 1,
   "outputs": [
    {
     "output_type": "execute_result",
     "data": {
      "text/plain": [
       "[1, 2, 4, 5, 6, 7]"
      ]
     },
     "metadata": {},
     "execution_count": 1
    }
   ]
  },
  {
   "source": [
    "List comprehensions\n",
    "\n",
    "   - syntax\n",
    "     - [item for item in iterable]\n",
    "     - [x for x in iterable if_condition]\n",
    "     - [x if_con else_con for x in iterable]\n",
    "   - squares = list(map(lambda x: x**2, range(10)))\n",
    "   - squares = [x**2 for x in range(10) if x%2==0]\n",
    "   - [(x, y) for x in [1,2,3] for y in [3,1,4] if x != y]\n",
    "   - [(x, x**2) for x in range(6)]\n",
    "   - [abs(x) for x in vec]\n",
    "   - freshfruit = [' banana', ' loganberry ', 'passion fruit ']\n",
    "   - [weapon.strip() for weapon in freshfruit]"
   ],
   "cell_type": "markdown",
   "metadata": {}
  },
  {
   "source": [
    "# Nested list comprehension\n",
    "matrix = [[1, 2, 3, 4],[5, 6, 7, 8],[9, 10, 11, 12],]\n",
    "print([[row[i] for row in matrix] for i in range(4)]) # transpose\n",
    "print(list(zip(*matrix)))"
   ],
   "cell_type": "code",
   "metadata": {},
   "execution_count": 15,
   "outputs": [
    {
     "output_type": "stream",
     "name": "stdout",
     "text": [
      "[[1, 5, 9], [2, 6, 10], [3, 7, 11], [4, 8, 12]]\n[(1, 5, 9), (2, 6, 10), (3, 7, 11), (4, 8, 12)]\n"
     ]
    }
   ]
  },
  {
   "source": [
    "# list unpacking\n",
    "a,b,c=[1,2,3]\n",
    "a,b,c,*other = [1, 2, 3, 4, 5, 7, 8]\n"
   ],
   "cell_type": "code",
   "metadata": {},
   "execution_count": 13,
   "outputs": []
  }
 ]
}