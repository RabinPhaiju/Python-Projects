{
 "metadata": {
  "language_info": {
   "codemirror_mode": {
    "name": "ipython",
    "version": 3
   },
   "file_extension": ".py",
   "mimetype": "text/x-python",
   "name": "python",
   "nbconvert_exporter": "python",
   "pygments_lexer": "ipython3",
   "version": "3.9.1-final"
  },
  "orig_nbformat": 2,
  "kernelspec": {
   "name": "python3",
   "display_name": "Python 3",
   "language": "python"
  }
 },
 "nbformat": 4,
 "nbformat_minor": 2,
 "cells": [
  {
   "source": [
    "Tuple -> Immutable\n",
    "- Elements in a tuple cannot be edited once assigned.\n",
    "- a tuple cannot be appended to or extended in anyway.\n",
    "- tuples are indexed similar to list."
   ],
   "cell_type": "markdown",
   "metadata": {}
  },
  {
   "cell_type": "code",
   "execution_count": 2,
   "metadata": {},
   "outputs": [
    {
     "output_type": "execute_result",
     "data": {
      "text/plain": [
       "()"
      ]
     },
     "metadata": {},
     "execution_count": 2
    }
   ],
   "source": [
    "# define empty tuple\n",
    "a = tuple()\n",
    "a"
   ]
  },
  {
   "cell_type": "code",
   "execution_count": 4,
   "metadata": {},
   "outputs": [
    {
     "output_type": "stream",
     "name": "stdout",
     "text": [
      "<class 'tuple'>\n<class 'tuple'>\n<class 'tuple'>\n<class 'tuple'>\n<class 'int'>\n"
     ]
    }
   ],
   "source": [
    "# define tuple\n",
    "a = 1,2,3,4,5\n",
    "print(type(a))\n",
    "b = 4,\n",
    "print(type(b))\n",
    "c = (0, 1, 2, 3)\n",
    "print(type(c))\n",
    "d = (4,)\n",
    "print(type(d))\n",
    "e = (4)\n",
    "print(type(e))\n"
   ]
  },
  {
   "cell_type": "code",
   "execution_count": 6,
   "metadata": {},
   "outputs": [
    {
     "output_type": "execute_result",
     "data": {
      "text/plain": [
       "([1, 2, 3], [3, 2, 1])"
      ]
     },
     "metadata": {},
     "execution_count": 6
    }
   ],
   "source": [
    "# 'tuple' object does not support item assignment\n",
    "# but they can contain mutable objects:\n",
    "v = ([1, 2, 3], [3, 2, 1])\n",
    "x, y = v\n",
    "x,y"
   ]
  },
  {
   "cell_type": "code",
   "execution_count": 9,
   "metadata": {},
   "outputs": [
    {
     "output_type": "execute_result",
     "data": {
      "text/plain": [
       "int"
      ]
     },
     "metadata": {},
     "execution_count": 9
    }
   ],
   "source": [
    "# type of a is int\n",
    "# bracket in python is optional\n",
    "a = (1)\n",
    "type(a)"
   ]
  }
 ]
}