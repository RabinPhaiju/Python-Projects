{
 "metadata": {
  "language_info": {
   "codemirror_mode": {
    "name": "ipython",
    "version": 3
   },
   "file_extension": ".py",
   "mimetype": "text/x-python",
   "name": "python",
   "nbconvert_exporter": "python",
   "pygments_lexer": "ipython3",
   "version": "3.9.1"
  },
  "orig_nbformat": 2,
  "kernelspec": {
   "name": "python391jvsc74a57bd06dbcfa4acfde829108fd9fed7b4c7e3cf5b89483651b78d4b8e08d6c4461514a",
   "display_name": "Python 3.9.1 64-bit ('venv1': venv)"
  }
 },
 "nbformat": 4,
 "nbformat_minor": 2,
 "cells": [
  {
   "cell_type": "code",
   "execution_count": 12,
   "metadata": {},
   "outputs": [
    {
     "output_type": "stream",
     "name": "stdout",
     "text": [
      "Sunday\n"
     ]
    }
   ],
   "source": [
    "# Using function\n",
    "\n",
    "def switch_day(day):\n",
    "    day_dict = {\n",
    "        1:lambda:print('Sunday'),\n",
    "        2:lambda:print('Monday'),\n",
    "        3:lambda:print('Tuesday'),\n",
    "        4:lambda:print('Wednusday'),\n",
    "        5:lambda:print('Thrusday'),\n",
    "        6:lambda:print('Friday'),\n",
    "        7:lambda:print('Saturday'),\n",
    "        'default':lambda:print('Invalid day'),\n",
    "    }\n",
    "    return day_dict.get(day,day_dict['default'])()\n",
    "\n",
    "switch_day(1)"
   ]
  },
  {
   "cell_type": "code",
   "execution_count": 31,
   "metadata": {},
   "outputs": [],
   "source": [
    "# Using sibgle dispatch\n",
    "\n",
    "def switcher(fn):\n",
    "    registry = dict()\n",
    "    registry['default'] = fn\n",
    "\n",
    "    def register(case):\n",
    "        def inner(fn):\n",
    "            registry[case] = fn\n",
    "            return fn\n",
    "        return inner\n",
    "    \n",
    "    def decorator(case):\n",
    "        fn = registry.get(case,registry['default'])\n",
    "        return fn()\n",
    "    \n",
    "    decorator.register = register\n",
    "    return decorator"
   ]
  },
  {
   "cell_type": "code",
   "execution_count": 32,
   "metadata": {},
   "outputs": [
    {
     "output_type": "execute_result",
     "data": {
      "text/plain": [
       "<function __main__.<lambda>()>"
      ]
     },
     "metadata": {},
     "execution_count": 32
    }
   ],
   "source": [
    "@switcher\n",
    "def dow(): return 'Invalid day of week'\n",
    "\n",
    "dow.register(1)(lambda: 'Sunday')\n",
    "dow.register(2)(lambda: 'Monday')\n",
    "dow.register(3)(lambda: 'Tuesday')\n",
    "dow.register(4)(lambda: 'Wednusday')\n",
    "dow.register(5)(lambda: 'Thrusday')\n",
    "dow.register(6)(lambda: 'Friday')\n",
    "dow.register(7)(lambda: 'Saturday')"
   ]
  },
  {
   "cell_type": "code",
   "execution_count": 33,
   "metadata": {},
   "outputs": [
    {
     "output_type": "execute_result",
     "data": {
      "text/plain": [
       "'Sunday'"
      ]
     },
     "metadata": {},
     "execution_count": 33
    }
   ],
   "source": [
    "dow(1)"
   ]
  },
  {
   "cell_type": "code",
   "execution_count": null,
   "metadata": {},
   "outputs": [],
   "source": []
  }
 ]
}