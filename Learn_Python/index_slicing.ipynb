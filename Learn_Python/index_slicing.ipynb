{
 "metadata": {
  "language_info": {
   "codemirror_mode": {
    "name": "ipython",
    "version": 3
   },
   "file_extension": ".py",
   "mimetype": "text/x-python",
   "name": "python",
   "nbconvert_exporter": "python",
   "pygments_lexer": "ipython3",
   "version": "3.8.5-final"
  },
  "orig_nbformat": 2,
  "kernelspec": {
   "name": "python3",
   "display_name": "Python 3",
   "language": "python"
  }
 },
 "nbformat": 4,
 "nbformat_minor": 2,
 "cells": [
  {
   "cell_type": "code",
   "execution_count": 1,
   "metadata": {},
   "outputs": [
    {
     "output_type": "stream",
     "name": "stdout",
     "text": [
      "llo world\nhe\nhlowrd\n"
     ]
    }
   ],
   "source": [
    "# 1. String slice\n",
    "my_string = \"hello world\"\n",
    "print(my_string[2:])\n",
    "print(my_string[:2])\n",
    "print(my_string[::2])\n"
   ]
  },
  {
   "cell_type": "code",
   "execution_count": 2,
   "metadata": {},
   "outputs": [
    {
     "output_type": "stream",
     "name": "stdout",
     "text": [
      "['shyam', 'hari']\n['rabin', 'hari', 'shyam']\n['rabin', 'hari', 'shyam', 'ram']\n"
     ]
    }
   ],
   "source": [
    "# 2. List slice\n",
    "eg_list = ['ram', 'shyam', 'hari', 'rabin']\n",
    "print(eg_list[1:3])\n",
    "print(eg_list[-1:-4:-1])\n",
    "print(eg_list[5::-1])"
   ]
  },
  {
   "cell_type": "code",
   "execution_count": null,
   "metadata": {},
   "outputs": [],
   "source": []
  }
 ]
}