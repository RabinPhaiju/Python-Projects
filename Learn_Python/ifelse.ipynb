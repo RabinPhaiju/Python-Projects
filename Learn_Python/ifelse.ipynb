{
 "metadata": {
  "language_info": {
   "codemirror_mode": {
    "name": "ipython",
    "version": 3
   },
   "file_extension": ".py",
   "mimetype": "text/x-python",
   "name": "python",
   "nbconvert_exporter": "python",
   "pygments_lexer": "ipython3",
   "version": "3.8.5"
  },
  "orig_nbformat": 2,
  "kernelspec": {
   "name": "python385jvsc74a57bd0a456efd1d2e2bfa10bfdad488db5626e5f8bd233a0f11ae70ce0e7717a6a7d8d",
   "display_name": "Python 3.8.5 64-bit ('base': conda)"
  }
 },
 "nbformat": 4,
 "nbformat_minor": 2,
 "cells": [
  {
   "source": [
    "1.  Control flow (if else)\n",
    "\n",
    "    - popular if else problem in less code\n",
    "    - love calculator\n",
    "    - leap year\n",
    "    \n",
    "\n",
    "2.  Ternary Operator\n",
    "    - True if condition else False\n"
   ],
   "cell_type": "markdown",
   "metadata": {}
  },
  {
   "cell_type": "code",
   "execution_count": 3,
   "metadata": {},
   "outputs": [
    {
     "output_type": "stream",
     "name": "stdout",
     "text": [
      "a is less than 8\n"
     ]
    }
   ],
   "source": [
    "a = 5\n",
    "if a<8:\n",
    "    print('a is less than 8')\n",
    "else:\n",
    "    print('a is greater than 8')"
   ]
  },
  {
   "cell_type": "code",
   "execution_count": 6,
   "metadata": {},
   "outputs": [
    {
     "output_type": "stream",
     "name": "stdout",
     "text": [
      "a is greater than 5\n"
     ]
    }
   ],
   "source": [
    "a = 10\n",
    "if a<5:\n",
    "    print('a is less than 5')\n",
    "else:\n",
    "    if a>5:\n",
    "        print('a is greater than 5')\n",
    "    else:\n",
    "        print('same')"
   ]
  },
  {
   "cell_type": "code",
   "execution_count": 7,
   "metadata": {},
   "outputs": [
    {
     "output_type": "stream",
     "name": "stdout",
     "text": [
      "a is  15\n"
     ]
    }
   ],
   "source": [
    "a = 15\n",
    "if a==5:\n",
    "    print('a is 5')\n",
    "elif a==6:\n",
    "    print('a is 6')\n",
    "elif a==7:\n",
    "    print('a is 7')\n",
    "else:\n",
    "    print('a is ',a)"
   ]
  },
  {
   "cell_type": "code",
   "execution_count": 8,
   "metadata": {},
   "outputs": [
    {
     "output_type": "stream",
     "name": "stdout",
     "text": [
      "less\n"
     ]
    }
   ],
   "source": [
    "# Ternary operator\n",
    "a = 6\n",
    "b = 'greater' if a>8 else 'less'\n",
    "print(b)"
   ]
  }
 ]
}