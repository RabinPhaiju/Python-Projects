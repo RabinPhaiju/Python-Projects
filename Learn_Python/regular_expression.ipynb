{
 "cells": [
  {
   "cell_type": "code",
   "execution_count": 1,
   "metadata": {},
   "outputs": [],
   "source": [
    "import re"
   ]
  },
  {
   "cell_type": "code",
   "execution_count": 15,
   "metadata": {},
   "outputs": [
    {
     "name": "stdout",
     "output_type": "stream",
     "text": [
      "<re.Match object; span=(7, 13), match='inside'>\n",
      "span: (7, 13)\n",
      "group: inside\n"
     ]
    }
   ],
   "source": [
    "string = 'search inside of this text please which is inside'\n",
    "\n",
    "pattern = 'inside'\n",
    "\n",
    "result = re.search(pattern, string)\n",
    "\n",
    "print(result)\n",
    "print('span:',result.span())\n",
    "print('group:',result.group())"
   ]
  },
  {
   "cell_type": "code",
   "execution_count": 20,
   "metadata": {},
   "outputs": [
    {
     "name": "stdout",
     "output_type": "stream",
     "text": [
      "<re.Match object; span=(7, 13), match='inside'>\n",
      "['inside', 'inside']\n",
      "None\n",
      "None\n"
     ]
    }
   ],
   "source": [
    "pattern = re.compile('inside')\n",
    "a = pattern.search(string)\n",
    "b = pattern.findall(string)\n",
    "c = pattern.fullmatch(string)\n",
    "d = pattern.match(string)\n",
    "print(a)\n",
    "print(b)\n",
    "print(c)\n",
    "print(d)"
   ]
  },
  {
   "cell_type": "code",
   "execution_count": 22,
   "metadata": {},
   "outputs": [
    {
     "name": "stdout",
     "output_type": "stream",
     "text": [
      "<re.Match object; span=(0, 12), match='415-555-9999'>\n",
      "['415-555-9999', '415-555-9999', '415-555-9999']\n",
      "None\n",
      "<re.Match object; span=(0, 12), match='415-555-9999'>\n"
     ]
    }
   ],
   "source": [
    "phone = '415-555-9999 415-555-9999 415-555-9999'\n",
    "\n",
    "phone_pattern = re.compile(r'\\d\\d\\d-\\d\\d\\d-\\d\\d\\d\\d')\n",
    "a = phone_pattern.search(phone)\n",
    "b = phone_pattern.findall(phone)\n",
    "c = phone_pattern.fullmatch(phone)\n",
    "d = phone_pattern.match(phone)\n",
    "print(a)\n",
    "print(b)\n",
    "print(c)\n",
    "print(d)"
   ]
  },
  {
   "cell_type": "code",
   "execution_count": 25,
   "metadata": {},
   "outputs": [
    {
     "name": "stdout",
     "output_type": "stream",
     "text": [
      "<re.Match object; span=(0, 17), match='h8YpJ@example.com'>\n",
      "['h8YpJ@example.com']\n",
      "None\n",
      "<re.Match object; span=(0, 17), match='h8YpJ@example.com'>\n"
     ]
    }
   ],
   "source": [
    "# email validation\n",
    "email = 'h8YpJ@example.com rabin@.com'\n",
    "\n",
    "email_pattern = re.compile(r'[a-zA-Z0-9_.+-]+@[a-zA-Z0-9-]+\\.[a-zA-Z0-9-.]+')\n",
    "a = email_pattern.search(email)\n",
    "b = email_pattern.findall(email)\n",
    "c = email_pattern.fullmatch(email)\n",
    "d = email_pattern.match(email)\n",
    "print(a)\n",
    "print(b)\n",
    "print(c)\n",
    "print(d)"
   ]
  }
 ],
 "metadata": {
  "kernelspec": {
   "display_name": "Python 3",
   "language": "python",
   "name": "python3"
  },
  "language_info": {
   "codemirror_mode": {
    "name": "ipython",
    "version": 3
   },
   "file_extension": ".py",
   "mimetype": "text/x-python",
   "name": "python",
   "nbconvert_exporter": "python",
   "pygments_lexer": "ipython3",
   "version": "3.10.12"
  }
 },
 "nbformat": 4,
 "nbformat_minor": 2
}
