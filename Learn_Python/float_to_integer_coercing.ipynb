{
 "metadata": {
  "language_info": {
   "codemirror_mode": {
    "name": "ipython",
    "version": 3
   },
   "file_extension": ".py",
   "mimetype": "text/x-python",
   "name": "python",
   "nbconvert_exporter": "python",
   "pygments_lexer": "ipython3",
   "version": "3.8.5"
  },
  "orig_nbformat": 2,
  "kernelspec": {
   "name": "python385jvsc74a57bd0a456efd1d2e2bfa10bfdad488db5626e5f8bd233a0f11ae70ce0e7717a6a7d8d",
   "display_name": "Python 3.8.5 64-bit ('base': conda)"
  }
 },
 "nbformat": 4,
 "nbformat_minor": 2,
 "cells": [
  {
   "source": [
    "# Float -> integer == data loss"
   ],
   "cell_type": "markdown",
   "metadata": {}
  },
  {
   "source": [
    "# different ways to configure this data loss.\n",
    "    - 10.4 -> 10? || 11?\n",
    "    - 10.5 -> 10? || 11?\n",
    "    - 10.6 -> 10? || 11?\n",
    "    - ******************\n",
    "    - 10.0001\n",
    "    - 10.9999\n",
    "* We can use: -> data loss in all cases.\n",
    "    - truncation\n",
    "    - floor\n",
    "    - celi\n",
    "    - rounding"
   ],
   "cell_type": "markdown",
   "metadata": {}
  },
  {
   "source": [
    "# Truncation:\n",
    "    - truncation a float simply returns the integer portion of the number.\n",
    "    - ie: ignores everything after the decimal point.\n",
    "    - math.trunc()"
   ],
   "cell_type": "markdown",
   "metadata": {}
  },
  {
   "cell_type": "code",
   "execution_count": 4,
   "metadata": {},
   "outputs": [],
   "source": [
    "import math"
   ]
  },
  {
   "cell_type": "code",
   "execution_count": 5,
   "metadata": {},
   "outputs": [
    {
     "output_type": "stream",
     "name": "stdout",
     "text": [
      "10\n10\n10\n10\n10\n"
     ]
    }
   ],
   "source": [
    "print(math.trunc(10.4))\n",
    "print(math.trunc(10.5))\n",
    "print(math.trunc(10.6))\n",
    "print(math.trunc(10.001))\n",
    "print(math.trunc(10.002))"
   ]
  },
  {
   "cell_type": "code",
   "execution_count": 7,
   "metadata": {},
   "outputs": [
    {
     "output_type": "stream",
     "name": "stdout",
     "text": [
      "10\n10\n10\n10\n10\n"
     ]
    }
   ],
   "source": [
    "# The int constructor\n",
    "# The python int() constructor will accept a float\n",
    "# int uses truncation when casting the float to an int\n",
    "print(int(10.3))\n",
    "print(int(10.1))\n",
    "print(int(10.2))\n",
    "print(int(10.001))\n",
    "print(int(10.002))"
   ]
  },
  {
   "cell_type": "code",
   "execution_count": 8,
   "metadata": {},
   "outputs": [],
   "source": [
    "# if you want to truncate a float to int. \n",
    "# just use int() instead of importing math.trunc()"
   ]
  },
  {
   "source": [
    "# Floor"
   ],
   "cell_type": "markdown",
   "metadata": {}
  },
  {
   "cell_type": "code",
   "execution_count": 9,
   "metadata": {},
   "outputs": [],
   "source": [
    "# The floor of a number is the largest integer less than the number\n",
    "# The floor division // -> also uses a floor after division."
   ]
  },
  {
   "cell_type": "code",
   "execution_count": 10,
   "metadata": {},
   "outputs": [
    {
     "output_type": "stream",
     "name": "stdout",
     "text": [
      "10\n10\n10\n---------------\n-11\n-11\n-11\n"
     ]
    }
   ],
   "source": [
    "import math\n",
    "print(math.floor(10.4))\n",
    "print(math.floor(10.5))\n",
    "print(math.floor(10.6))\n",
    "print('---------------')\n",
    "print(math.floor(-10.4))\n",
    "print(math.floor(-10.5))\n",
    "print(math.floor(-10.6))"
   ]
  },
  {
   "source": [
    "# ceil"
   ],
   "cell_type": "markdown",
   "metadata": {}
  },
  {
   "cell_type": "code",
   "execution_count": 11,
   "metadata": {},
   "outputs": [
    {
     "output_type": "stream",
     "name": "stdout",
     "text": [
      "11\n11\n11\n---------------\n-10\n-10\n-10\n"
     ]
    }
   ],
   "source": [
    "# the ceiling of a number is smallest integer greater than the number.\n",
    "import math\n",
    "print(math.ceil(10.4))\n",
    "print(math.ceil(10.5))\n",
    "print(math.ceil(10.6))\n",
    "print('---------------')\n",
    "print(math.ceil(-10.4))\n",
    "print(math.ceil(-10.5))\n",
    "print(math.ceil(-10.6))"
   ]
  },
  {
   "source": [
    "# Round"
   ],
   "cell_type": "markdown",
   "metadata": {}
  },
  {
   "source": [
    "# Python provides a built-in function: round(x,n=0)\n",
    "    - This will round number x to the closest multiple of 10^-n.\n",
    "    - If n is not specified, then default to 0 -> return int\n",
    "    - round(x) -> return int\n",
    "    - round(x,n) -> return type same as x\n",
    "    - round(x,0) -> return type same as x"
   ],
   "cell_type": "markdown",
   "metadata": {}
  },
  {
   "cell_type": "code",
   "execution_count": 16,
   "metadata": {},
   "outputs": [
    {
     "output_type": "stream",
     "name": "stdout",
     "text": [
      "1\n1.23\n1.2\n1.0\n"
     ]
    }
   ],
   "source": [
    "import math\n",
    "print(round(1.23))\n",
    "print(round(1.23,5))\n",
    "print(round(1.23,1))\n",
    "print(round(1.23,0))"
   ]
  },
  {
   "cell_type": "code",
   "execution_count": 55,
   "metadata": {},
   "outputs": [
    {
     "output_type": "execute_result",
     "data": {
      "text/plain": [
       "(1.888, 1.89, 1.9, 2.0)"
      ]
     },
     "metadata": {},
     "execution_count": 55
    }
   ],
   "source": [
    "round(1.888,3),round(1.888,2),round(1.888,1),round(1.888,0)"
   ]
  },
  {
   "cell_type": "code",
   "execution_count": 19,
   "metadata": {},
   "outputs": [
    {
     "output_type": "stream",
     "name": "stdout",
     "text": [
      "-1\n-1.2\n-1.22\n-1.22\n"
     ]
    }
   ],
   "source": [
    "print(round(-1.22))\n",
    "print(round(-1.22,1))\n",
    "print(round(-1.22,2))\n",
    "print(round(-1.22,3))"
   ]
  },
  {
   "cell_type": "code",
   "execution_count": 56,
   "metadata": {},
   "outputs": [
    {
     "output_type": "execute_result",
     "data": {
      "text/plain": [
       "(888.9, 889.0, 890.0, 900.0, 1000.0)"
      ]
     },
     "metadata": {},
     "execution_count": 56
    }
   ],
   "source": [
    "round(888.88,1),round(888.88,0),round(888.88,-1),round(888.88,-2),round(888.88,-3)"
   ]
  },
  {
   "cell_type": "code",
   "execution_count": 21,
   "metadata": {},
   "outputs": [
    {
     "output_type": "stream",
     "name": "stdout",
     "text": [
      "18.2\n20.0\n"
     ]
    }
   ],
   "source": [
    "print(round(18.2,1))\n",
    "print(round(18.2,-1))"
   ]
  },
  {
   "source": [
    "# Ties -> Banker's Rounding"
   ],
   "cell_type": "markdown",
   "metadata": {}
  },
  {
   "cell_type": "code",
   "execution_count": 57,
   "metadata": {},
   "outputs": [
    {
     "output_type": "stream",
     "name": "stdout",
     "text": [
      "1\n1.2\n1.4\n0\n-1.2\n-----------\n2\n1.5\n"
     ]
    }
   ],
   "source": [
    "# ties\n",
    "# Round the nearest value, with ties rounded to the nearest value with an even least significant digit.\n",
    "print(round(1.25))\n",
    "print(round(1.25,1)) # even -> 1.2\n",
    "print(round(1.35,1)) # even -> 1.4\n",
    "print(round(1.25-1))\n",
    "print(round(-1.25,1))\n",
    "print('-----------')\n",
    "print(round(1.5))\n",
    "print(round(1.5,1))"
   ]
  },
  {
   "cell_type": "code",
   "execution_count": 40,
   "metadata": {},
   "outputs": [
    {
     "output_type": "stream",
     "name": "stdout",
     "text": [
      "20\n20\n"
     ]
    }
   ],
   "source": [
    "print(round(15,-1)) # 20 is even\n",
    "print(round(25,-1)) # 20 is even"
   ]
  },
  {
   "cell_type": "code",
   "execution_count": 43,
   "metadata": {},
   "outputs": [
    {
     "output_type": "stream",
     "name": "stdout",
     "text": [
      "1.5\n2.0\n1.3333333333333333\n"
     ]
    }
   ],
   "source": [
    "\n",
    "# banker's rounding is less biased rounding thatn ties away from zero.\n",
    "    # - consider averagning three numbers and averaging the rounded value of each.\n",
    "x = [0.5,1.5,2.5]\n",
    "avg = sum(x)/len(x)\n",
    "print(avg)\n",
    "print(6/3) # 1,2,3\n",
    "print(4/3) # 0,2,2"
   ]
  },
  {
   "source": [
    "# If you insist on rounding away from zero...\n",
    "    - One common way to round to nearest unit that often comes up is:\n",
    "        - int(x+0.5)"
   ],
   "cell_type": "markdown",
   "metadata": {}
  },
  {
   "cell_type": "code",
   "execution_count": 47,
   "metadata": {},
   "outputs": [
    {
     "output_type": "stream",
     "name": "stdout",
     "text": [
      "10\n11\n11\n"
     ]
    }
   ],
   "source": [
    "print(int(10.3 + 0.5))\n",
    "print(int(10.9 + 0.5))\n",
    "print(int(10.5 + 0.5))"
   ]
  },
  {
   "source": [
    "# It are some problems:\n",
    "    - only valid for integer\n",
    "    - doesnt work with negative number."
   ],
   "cell_type": "markdown",
   "metadata": {}
  },
  {
   "cell_type": "code",
   "execution_count": 48,
   "metadata": {},
   "outputs": [
    {
     "output_type": "stream",
     "name": "stdout",
     "text": [
      "-9\n-10\n"
     ]
    }
   ],
   "source": [
    "print(int(-10.3 + 0.5))\n",
    "print(int(-10.9 + 0.5))"
   ]
  },
  {
   "source": [
    "* But this dont round to zero.\n",
    "* If you really insist on rounding away from zero.\n",
    "    - The correct way to do it:\n",
    "        - sign(x) * int(abs(x) + 0.5)"
   ],
   "cell_type": "markdown",
   "metadata": {}
  },
  {
   "cell_type": "code",
   "execution_count": 53,
   "metadata": {},
   "outputs": [],
   "source": [
    "def rounded(x):\n",
    "    sign = -1 if x<0 else +1\n",
    "    return (sign * int(abs(x) + 0.5))"
   ]
  },
  {
   "cell_type": "code",
   "execution_count": 54,
   "metadata": {},
   "outputs": [
    {
     "output_type": "stream",
     "name": "stdout",
     "text": [
      "10\n11\n11\n----------\n-10\n-11\n-11\n"
     ]
    }
   ],
   "source": [
    "print(rounded(10.4))\n",
    "print(rounded(10.5))\n",
    "print(rounded(10.6))\n",
    "print('----------')\n",
    "print(rounded(-10.4))\n",
    "print(rounded(-10.5))\n",
    "print(rounded(-10.6))"
   ]
  }
 ]
}