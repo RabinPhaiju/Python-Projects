{
 "cells": [
  {
   "cell_type": "code",
   "execution_count": 14,
   "metadata": {},
   "outputs": [
    {
     "name": "stdout",
     "output_type": "stream",
     "text": [
      "0b101\n",
      "0b11\n",
      "0b1 1\n"
     ]
    }
   ],
   "source": [
    "# AND\n",
    "x = 5 # 0b0101\n",
    "y = 3 # 0b0011\n",
    "result = x & y\n",
    "print(bin(x))\n",
    "print(bin(y))\n",
    "print(bin(result),result)"
   ]
  },
  {
   "cell_type": "code",
   "execution_count": 16,
   "metadata": {},
   "outputs": [
    {
     "name": "stdout",
     "output_type": "stream",
     "text": [
      "0b101\n",
      "0b11\n",
      "0b111 7\n"
     ]
    }
   ],
   "source": [
    "# OR\n",
    "x = 5 # 0b0101\n",
    "y = 3 # 0b0011\n",
    "result = x | y\n",
    "print(bin(x))\n",
    "print(bin(y))\n",
    "print(bin(result),result)"
   ]
  },
  {
   "cell_type": "code",
   "execution_count": 19,
   "metadata": {},
   "outputs": [
    {
     "name": "stdout",
     "output_type": "stream",
     "text": [
      "0b101\n",
      "0b11\n",
      "0b110 6\n"
     ]
    }
   ],
   "source": [
    "# XOR\n",
    "x = 5 # 0b0101\n",
    "y = 3 # 0b0011\n",
    "result = x ^ y\n",
    "print(bin(x))\n",
    "print(bin(y))\n",
    "print(bin(result),result)"
   ]
  },
  {
   "cell_type": "code",
   "execution_count": 20,
   "metadata": {},
   "outputs": [
    {
     "name": "stdout",
     "output_type": "stream",
     "text": [
      "0b101\n",
      "-0b110 -6\n"
     ]
    }
   ],
   "source": [
    "# NOT\n",
    "x = 5 # 0b0101\n",
    "result = ~x # two's complement\n",
    "print(bin(x))\n",
    "print(bin(result),result)"
   ]
  },
  {
   "cell_type": "code",
   "execution_count": 21,
   "metadata": {},
   "outputs": [
    {
     "name": "stdout",
     "output_type": "stream",
     "text": [
      "0b10100 20\n"
     ]
    }
   ],
   "source": [
    "# Left Shift\n",
    "x = 5 # 0b0101\n",
    "result = x << 2 # 0b10100\n",
    "print(bin(result),result)"
   ]
  },
  {
   "cell_type": "code",
   "execution_count": 22,
   "metadata": {},
   "outputs": [
    {
     "name": "stdout",
     "output_type": "stream",
     "text": [
      "0b101 5\n"
     ]
    }
   ],
   "source": [
    "# Right Shift\n",
    "x = 20 # 0b10100\n",
    "result = x >> 2 # 0b0101\n",
    "print(bin(result),result)"
   ]
  },
  {
   "cell_type": "markdown",
   "metadata": {},
   "source": [
    "### Examples\n"
   ]
  },
  {
   "cell_type": "code",
   "execution_count": 28,
   "metadata": {},
   "outputs": [
    {
     "name": "stdout",
     "output_type": "stream",
     "text": [
      "True\n",
      "False\n"
     ]
    }
   ],
   "source": [
    "# check if number is even or odd\n",
    "def is_odd(n):\n",
    "    \"\"\"\n",
    "    check if the least significant bit is odd(1) or even(0)\n",
    "    \"\"\"\n",
    "    return n & 1==1\n",
    "\n",
    "print(is_odd(5))\n",
    "print(is_odd(6))"
   ]
  },
  {
   "cell_type": "code",
   "execution_count": 30,
   "metadata": {},
   "outputs": [
    {
     "name": "stdout",
     "output_type": "stream",
     "text": [
      "9 5\n"
     ]
    }
   ],
   "source": [
    "# Swap two numbers without a temp variable\n",
    "def swap(a,b):\n",
    "    a = a ^ b\n",
    "    b = a ^ b\n",
    "    a = a ^ b\n",
    "    return a,b\n",
    "\n",
    "x,y = swap(5,9)\n",
    "print(x,y)\n"
   ]
  },
  {
   "cell_type": "code",
   "execution_count": 31,
   "metadata": {},
   "outputs": [
    {
     "name": "stdout",
     "output_type": "stream",
     "text": [
      "5\n"
     ]
    }
   ],
   "source": [
    "# Find the only non-duplicate element in an array\n",
    "def find_single(arr):\n",
    "    \"\"\"\n",
    "    XOR all elements together. The duplicate will cancel out (since x^x = 0). leaving only the unique elements.\n",
    "    \"\"\"\n",
    "    result = 0\n",
    "    for num in arr:\n",
    "        result ^= num\n",
    "    return result\n",
    "\n",
    "arr = [2,3,5,3,2]\n",
    "print(find_single(arr))"
   ]
  },
  {
   "cell_type": "code",
   "execution_count": 33,
   "metadata": {},
   "outputs": [
    {
     "name": "stdout",
     "output_type": "stream",
     "text": [
      "3\n"
     ]
    }
   ],
   "source": [
    "# count the number of 1s in the binary representation of a number (hamming weight)\n",
    "def count_ones(n):\n",
    "    \"\"\"\n",
    "    Use bit manipulation to count the set bits.\n",
    "    \"\"\"\n",
    "    count = 0\n",
    "    while n:\n",
    "        count += n & 1\n",
    "        n >>=1\n",
    "    return count\n",
    "\n",
    "print(count_ones(13))"
   ]
  },
  {
   "cell_type": "code",
   "execution_count": 36,
   "metadata": {},
   "outputs": [
    {
     "name": "stdout",
     "output_type": "stream",
     "text": [
      "True\n",
      "False\n"
     ]
    }
   ],
   "source": [
    "# power of two check\n",
    "def is_power_of_two(n):\n",
    "    return n>0 and (n & (n-1)) == 0 # a number is power of two if\n",
    "\n",
    "print(is_power_of_two(8))\n",
    "print(is_power_of_two(7))"
   ]
  },
  {
   "cell_type": "code",
   "execution_count": 5,
   "metadata": {},
   "outputs": [
    {
     "name": "stdout",
     "output_type": "stream",
     "text": [
      "2\n"
     ]
    }
   ],
   "source": [
    "# find missing number in sequence\n",
    "def find_missing(arr, n):\n",
    "    \"\"\"\n",
    "    XOR all the numbers in the array with the range 0 to n. The missing number will remain.\n",
    "    \"\"\"\n",
    "    result = 0\n",
    "    for i in range(n + 1):\n",
    "        result ^= i\n",
    "\n",
    "    for num in arr:\n",
    "        result ^= num\n",
    "    return result\n",
    "\n",
    "arr = [0, 1, 3, 4]  # n = 4, missing number is 2\n",
    "print(find_missing(arr, len(arr)))  # Output: 2\n",
    "\n"
   ]
  },
  {
   "cell_type": "code",
   "execution_count": 7,
   "metadata": {},
   "outputs": [
    {
     "name": "stdout",
     "output_type": "stream",
     "text": [
      "2684354560\n"
     ]
    }
   ],
   "source": [
    "# 7. Reverse Bits of a Number\n",
    "# Problem: Reverse the bits of a given integer.\n",
    "# Bitwise Solution: You can shift and reverse the bits using a loop.\n",
    "def reverse_bits(n):\n",
    "    result = 0\n",
    "    for _ in range(32):  # Assuming a 32-bit integer\n",
    "        result = (result << 1) | (n & 1)\n",
    "        n >>= 1\n",
    "    return result\n",
    "\n",
    "print(reverse_bits(5))  # Output will be the reverse of the bits in 5\n",
    "\n"
   ]
  },
  {
   "cell_type": "code",
   "execution_count": 8,
   "metadata": {},
   "outputs": [
    {
     "name": "stdout",
     "output_type": "stream",
     "text": [
      "True\n",
      "False\n"
     ]
    }
   ],
   "source": [
    "# 8. Check if Two Numbers Have Opposite Signs\n",
    "# Problem: Check if two integers have opposite signs (one positive and one negative).\n",
    "# Bitwise Solution: XOR the numbers, and if the result is negative, they have opposite signs.\n",
    "def opposite_signs(x, y):\n",
    "    return (x ^ y) < 0\n",
    "\n",
    "print(opposite_signs(4, -5))  # True\n",
    "print(opposite_signs(4, 6))   # False\n",
    "\n"
   ]
  },
  {
   "cell_type": "code",
   "execution_count": 10,
   "metadata": {},
   "outputs": [
    {
     "name": "stdout",
     "output_type": "stream",
     "text": [
      "12\n"
     ]
    }
   ],
   "source": [
    "# 9. Add Two Numbers Without Using Arithmetic Operators\n",
    "# Problem: Add two integers without using + or -.\n",
    "# Bitwise Solution: Use XOR and bit shifts. The XOR operation handles the addition of bits without carry, and the AND operation followed by a left shift handles the carry.\n",
    "def add(a, b):\n",
    "    while b != 0:\n",
    "        carry = a & b  # Find the carry bits\n",
    "        a = a ^ b      # Sum without carry\n",
    "        b = carry << 1 # Shift carry to the left\n",
    "    return a\n",
    "\n",
    "print(add(5, 7))  # Output: 12\n"
   ]
  },
  {
   "cell_type": "code",
   "execution_count": 11,
   "metadata": {},
   "outputs": [
    {
     "name": "stdout",
     "output_type": "stream",
     "text": [
      "(3, 5)\n"
     ]
    }
   ],
   "source": [
    "# 11. Find Two Non-Duplicate Numbers in an Array\n",
    "# Problem: Given an array where every element appears twice except for two distinct elements, find the two non-duplicate numbers.\n",
    "# Bitwise Solution: XOR all elements, then use the result to divide the array into two sets (based on the rightmost set bit) and find the unique elements.\n",
    "def find_two_non_duplicates(arr):\n",
    "    xor_sum = 0\n",
    "    for num in arr:\n",
    "        xor_sum ^= num\n",
    "\n",
    "    # Find the rightmost set bit\n",
    "    rightmost_set_bit = xor_sum & -xor_sum\n",
    "\n",
    "    # Divide numbers into two groups and XOR within each group\n",
    "    num1, num2 = 0, 0\n",
    "    for num in arr:\n",
    "        if num & rightmost_set_bit:\n",
    "            num1 ^= num\n",
    "        else:\n",
    "            num2 ^= num\n",
    "\n",
    "    return num1, num2\n",
    "\n",
    "arr = [1, 2, 1, 3, 2, 5]\n",
    "print(find_two_non_duplicates(arr))  # Output: (3, 5)\n"
   ]
  },
  {
   "cell_type": "code",
   "execution_count": 12,
   "metadata": {},
   "outputs": [
    {
     "name": "stdout",
     "output_type": "stream",
     "text": [
      "8\n"
     ]
    }
   ],
   "source": [
    "# 12. Turn Off the Rightmost Set Bit\n",
    "# Problem: Given an integer, turn off its rightmost set bit.\n",
    "# Bitwise Solution: Use n & (n - 1) to clear the rightmost set bit.\n",
    "def turn_off_rightmost_set_bit(n):\n",
    "    return n & (n - 1)\n",
    "\n",
    "print(turn_off_rightmost_set_bit(12))  # Output: 8 (binary 1100 becomes 1000)\n"
   ]
  },
  {
   "cell_type": "code",
   "execution_count": 13,
   "metadata": {},
   "outputs": [
    {
     "name": "stdout",
     "output_type": "stream",
     "text": [
      "True\n",
      "False\n"
     ]
    }
   ],
   "source": [
    "# 15. Detect if a Number is a Palindrome in Binary\n",
    "# Problem: Check if the binary representation of a number is a palindrome.\n",
    "# Bitwise Solution: Reverse the bits of the number and check if it is the same as the original number.\n",
    "def is_binary_palindrome(n):\n",
    "    original = n\n",
    "    reversed_bits = 0\n",
    "    while n:\n",
    "        reversed_bits = (reversed_bits << 1) | (n & 1)\n",
    "        n >>= 1\n",
    "    return original == reversed_bits\n",
    "\n",
    "print(is_binary_palindrome(9))  # True (binary 1001 is a palindrome)\n",
    "print(is_binary_palindrome(10)) # False (binary 1010 is not a palindrome)\n"
   ]
  },
  {
   "cell_type": "code",
   "execution_count": 17,
   "metadata": {},
   "outputs": [
    {
     "name": "stdout",
     "output_type": "stream",
     "text": [
      "False\n",
      "True\n",
      "True\n"
     ]
    }
   ],
   "source": [
    "# 19. Permission Systems (File Permissions)\n",
    "# Problem: Many operating systems represent file permissions as bit flags. For example, in Unix-like systems, file permissions (read, write, execute) are represented as three bits for each of user, group, and others.\n",
    "# Bitwise Solution: You can use bitwise operators to check, set, or clear these permissions.\n",
    "# Permissions are often represented as:\n",
    "\n",
    "# rwx (read, write, execute) for user, group, and others.\n",
    "# The corresponding bit flags might be: 0b111000000 (user has full permissions).\n",
    "READ = 0b100  # Read permission\n",
    "WRITE = 0b010  # Write permission\n",
    "EXECUTE = 0b001  # Execute permission\n",
    "\n",
    "def has_permission(permissions, flag):\n",
    "    return (permissions & flag) != 0\n",
    "\n",
    "user_permissions = 0b011  # Read + Execute permission\n",
    "print(has_permission(user_permissions, READ))  # True\n",
    "print(has_permission(user_permissions, EXECUTE))  # True\n",
    "print(has_permission(user_permissions, WRITE))  # False\n"
   ]
  },
  {
   "cell_type": "code",
   "execution_count": 18,
   "metadata": {},
   "outputs": [
    {
     "name": "stdout",
     "output_type": "stream",
     "text": [
      "0b11\n"
     ]
    }
   ],
   "source": [
    "# 24. Memory Optimization (Flags and States)\n",
    "# Problem: Many systems use a single integer or byte to store multiple flags or states by using each bit as a separate flag (on/off).\n",
    "# Bitwise Solution: Use bitwise operations to set, clear, and check these flags.\n",
    "FLAG_A = 0b001  # 1st bit\n",
    "FLAG_B = 0b010  # 2nd bit\n",
    "FLAG_C = 0b100  # 3rd bit\n",
    "\n",
    "def set_flag(flags, flag):\n",
    "    return flags | flag\n",
    "\n",
    "def clear_flag(flags, flag):\n",
    "    return flags & ~flag\n",
    "\n",
    "def check_flag(flags, flag):\n",
    "    return (flags & flag) != 0\n",
    "\n",
    "flags = 0b000  # Initially no flags are set\n",
    "flags = set_flag(flags, FLAG_A)  # Set FLAG_A\n",
    "flags = set_flag(flags, FLAG_B)  # Set FLAG_B\n",
    "\n",
    "print(bin(flags))  # Output: 0b011 (FLAG_A and FLAG_B are set)\n"
   ]
  },
  {
   "cell_type": "code",
   "execution_count": 24,
   "metadata": {},
   "outputs": [
    {
     "name": "stdout",
     "output_type": "stream",
     "text": [
      "Enabled Feature A: 0b1\n",
      "Enabled Feature B: 0b11\n",
      "Disabled Feature A: 0b10\n",
      "Enabled Feature C: 0b110\n",
      "Disabled Feature B: 0b100\n"
     ]
    }
   ],
   "source": [
    "# 28. Mobile Apps (Feature Toggles)\n",
    "# Problem: In mobile apps, you might want to enable or disable certain features based on the user or version of the app.\n",
    "# Bitwise Solution: Use bitwise flags to enable or disable multiple features in a compact and efficient way.\n",
    "FEATURE_A = 0b001\n",
    "FEATURE_B = 0b010\n",
    "FEATURE_C = 0b100\n",
    "\n",
    "def enable_feature(features, feature):\n",
    "    return features | feature\n",
    "\n",
    "def disable_feature(features, feature):\n",
    "    return features & ~feature\n",
    "\n",
    "\n",
    "# Initial state: no features enabled\n",
    "features = 0b000  # No features are enabled\n",
    "\n",
    "# Enable Feature A\n",
    "features = enable_feature(features, FEATURE_A)\n",
    "print(f\"Enabled Feature A: {bin(features)}\")  # Output: 0b001\n",
    "\n",
    "# Enable Feature B\n",
    "features = enable_feature(features, FEATURE_B)\n",
    "print(f\"Enabled Feature B: {bin(features)}\")  # Output: 0b011\n",
    "\n",
    "# Disable Feature A\n",
    "features = disable_feature(features, FEATURE_A)\n",
    "print(f\"Disabled Feature A: {bin(features)}\")  # Output: 0b010 (Only Feature B is enabled)\n",
    "\n",
    "# Enable Feature C\n",
    "features = enable_feature(features, FEATURE_C)\n",
    "print(f\"Enabled Feature C: {bin(features)}\")  # Output: 0b110 (Feature B and C are enabled)\n",
    "\n",
    "# Disable Feature B\n",
    "features = disable_feature(features, FEATURE_B)\n",
    "print(f\"Disabled Feature B: {bin(features)}\")  # Output: 0b100 (Only Feature C is enabled)"
   ]
  }
 ],
 "metadata": {
  "kernelspec": {
   "display_name": "Python 3",
   "language": "python",
   "name": "python3"
  },
  "language_info": {
   "codemirror_mode": {
    "name": "ipython",
    "version": 3
   },
   "file_extension": ".py",
   "mimetype": "text/x-python",
   "name": "python",
   "nbconvert_exporter": "python",
   "pygments_lexer": "ipython3",
   "version": "3.10.12"
  }
 },
 "nbformat": 4,
 "nbformat_minor": 2
}
