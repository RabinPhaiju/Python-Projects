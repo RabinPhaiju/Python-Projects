{
 "metadata": {
  "language_info": {
   "codemirror_mode": {
    "name": "ipython",
    "version": 3
   },
   "file_extension": ".py",
   "mimetype": "text/x-python",
   "name": "python",
   "nbconvert_exporter": "python",
   "pygments_lexer": "ipython3",
   "version": "3.8.5"
  },
  "orig_nbformat": 2,
  "kernelspec": {
   "name": "python385jvsc74a57bd0a456efd1d2e2bfa10bfdad488db5626e5f8bd233a0f11ae70ce0e7717a6a7d8d",
   "display_name": "Python 3.8.5 64-bit ('base': conda)"
  }
 },
 "nbformat": 4,
 "nbformat_minor": 2,
 "cells": [
  {
   "source": [
    "# The decimal module , (PEP 327)"
   ],
   "cell_type": "markdown",
   "metadata": {}
  },
  {
   "source": [
    "* The problem in float is that:\n",
    "    - float(0.1) -> infinite binary expansion (0.0001100110011......)base-2\n",
    "    - but the 0.1 can be express as finite decimal expansion. 1/10\n",
    "* It is alternative to using (binary) float type -> avoids the approximation issues with float\n",
    "* finite number of significant digits --> rational number\n",
    "* So then, why dont we use Fraction class?\n",
    "    - The problem is:\n",
    "    - 1/10 + 2/5\n",
    "    - 1/10 + 4/10\n",
    "    - 5/10\n",
    "    - 1/2\n",
    "    - Here, we have to add and simplify it.\n",
    "        - compelx, requires extra memory.\n",
    "        - compare to float much slower."
   ],
   "cell_type": "markdown",
   "metadata": {}
  },
  {
   "source": [
    "# So why do we care.\n",
    "* why just dont use bunary floats. (0.3+0.3+0.3)=>0.89999999999999\n",
    "    - amount = $100.01 -> 1,000,000,000 transactions\n",
    "    - 100.01 -> 100.0100000000051159076975\n",
    "    - sum -> 100010000000.00 (exact decimal)\n",
    "    -     -> 10009998761.1463928222656250000000000 (approx binary float)\n",
    "    - difference = 1238.85"
   ],
   "cell_type": "markdown",
   "metadata": {}
  },
  {
   "source": [
    "* Decimals have a context that controls certain aspects of working with decimals.\n",
    "    - precision during arithmetic operation\n",
    "    - rounding algorithm"
   ],
   "cell_type": "markdown",
   "metadata": {}
  },
  {
   "source": [
    "# In decimal we can specify rounding algorthm, we cannot do this in float.(you have to provide your own.)\n",
    "* This context can be\"\n",
    "    - global -> default\n",
    "    - temporary local -> sets temporary settings without affecting the global settings"
   ],
   "cell_type": "markdown",
   "metadata": {}
  },
  {
   "cell_type": "code",
   "execution_count": 87,
   "metadata": {},
   "outputs": [],
   "source": [
    "# import decimal\n",
    "# default context -> decimal.getcontext()\n",
    "# local context -> decimal.localcontext(ctx=None)"
   ]
  },
  {
   "cell_type": "code",
   "execution_count": null,
   "metadata": {},
   "outputs": [],
   "source": [
    "# Precision and Rounding\n",
    "# ctx = decimal.getcontext() -> context (global in this case)\n",
    "# ctx.prec -> get or set the precision(int)\n",
    "# ctx.rounding -> get or set the rounding mechanism(string)"
   ]
  },
  {
   "cell_type": "code",
   "execution_count": 88,
   "metadata": {},
   "outputs": [],
   "source": [
    "# ROUND_UP -> rounds away from zero\n",
    "# ROUND_DOWN -> rounds towards zero\n",
    "# ROUND_CELING -> rounds to ceiling (towards +inf)\n",
    "# ROUND_FLOOR -> rounds to floor (towards -inf)\n",
    "# ROUND_HALF_UP -> rounds to nearest,ties away from zero\n",
    "# ROUND_HALF_DOWN -> rounds to nearest, ties towards zero\n",
    "# ROUND_HALF_EVEN -> rounds to nearest, ties to even (least significant digit)"
   ]
  },
  {
   "source": [
    "# Global\n",
    "* decimal.getcontext().rounding = decimal.ROUND_HALF_UP\n",
    "* // decimal operations performed here will use the current default context."
   ],
   "cell_type": "markdown",
   "metadata": {}
  },
  {
   "source": [
    "# Local\n",
    "* with decimal.localcontext() as ctx:\n",
    "* ____ctx.prec = 2\n",
    "* ____ctx.rounding = decimal.ROUND_HALF_UP\n",
    "* // decimal operations performed here\n",
    "* // will use the ctx context"
   ],
   "cell_type": "markdown",
   "metadata": {}
  },
  {
   "cell_type": "code",
   "execution_count": 89,
   "metadata": {},
   "outputs": [],
   "source": [
    "from decimal import Decimal\n",
    "import decimal"
   ]
  },
  {
   "source": [
    "# Global Context"
   ],
   "cell_type": "markdown",
   "metadata": {}
  },
  {
   "cell_type": "code",
   "execution_count": 91,
   "metadata": {},
   "outputs": [
    {
     "output_type": "execute_result",
     "data": {
      "text/plain": [
       "Context(prec=28, rounding=ROUND_HALF_EVEN, Emin=-999999, Emax=999999, capitals=1, clamp=0, flags=[], traps=[InvalidOperation, DivisionByZero, Overflow])"
      ]
     },
     "metadata": {},
     "execution_count": 91
    }
   ],
   "source": [
    "decimal.getcontext()"
   ]
  },
  {
   "cell_type": "code",
   "execution_count": 92,
   "metadata": {},
   "outputs": [
    {
     "output_type": "execute_result",
     "data": {
      "text/plain": [
       "28"
      ]
     },
     "metadata": {},
     "execution_count": 92
    }
   ],
   "source": [
    "decimal.getcontext().prec"
   ]
  },
  {
   "cell_type": "code",
   "execution_count": 93,
   "metadata": {},
   "outputs": [
    {
     "output_type": "execute_result",
     "data": {
      "text/plain": [
       "'ROUND_HALF_EVEN'"
      ]
     },
     "metadata": {},
     "execution_count": 93
    }
   ],
   "source": [
    "decimal.getcontext().rounding"
   ]
  },
  {
   "cell_type": "code",
   "execution_count": 94,
   "metadata": {},
   "outputs": [
    {
     "output_type": "execute_result",
     "data": {
      "text/plain": [
       "Context(prec=6, rounding=ROUND_HALF_EVEN, Emin=-999999, Emax=999999, capitals=1, clamp=0, flags=[], traps=[InvalidOperation, DivisionByZero, Overflow])"
      ]
     },
     "metadata": {},
     "execution_count": 94
    }
   ],
   "source": [
    "decimal.getcontext().prec = 6\n",
    "decimal.getcontext()"
   ]
  },
  {
   "cell_type": "code",
   "execution_count": 95,
   "metadata": {},
   "outputs": [],
   "source": [
    "g_ctx = decimal.getcontext()"
   ]
  },
  {
   "cell_type": "code",
   "execution_count": 96,
   "metadata": {},
   "outputs": [],
   "source": [
    "g_ctx.rounding = 'ROUND_HALF_UP'"
   ]
  },
  {
   "cell_type": "code",
   "execution_count": 98,
   "metadata": {},
   "outputs": [
    {
     "output_type": "execute_result",
     "data": {
      "text/plain": [
       "Context(prec=6, rounding=ROUND_HALF_UP, Emin=-999999, Emax=999999, capitals=1, clamp=0, flags=[], traps=[InvalidOperation, DivisionByZero, Overflow])"
      ]
     },
     "metadata": {},
     "execution_count": 98
    }
   ],
   "source": [
    "g_ctx"
   ]
  },
  {
   "cell_type": "code",
   "execution_count": 99,
   "metadata": {},
   "outputs": [
    {
     "output_type": "execute_result",
     "data": {
      "text/plain": [
       "Context(prec=28, rounding=ROUND_HALF_EVEN, Emin=-999999, Emax=999999, capitals=1, clamp=0, flags=[], traps=[InvalidOperation, DivisionByZero, Overflow])"
      ]
     },
     "metadata": {},
     "execution_count": 99
    }
   ],
   "source": [
    "g_ctx.prec = 28\n",
    "g_ctx.rounding = 'ROUND_HALF_EVEN'\n",
    "g_ctx"
   ]
  },
  {
   "cell_type": "code",
   "execution_count": 101,
   "metadata": {},
   "outputs": [
    {
     "output_type": "execute_result",
     "data": {
      "text/plain": [
       "decimal.Context"
      ]
     },
     "metadata": {},
     "execution_count": 101
    }
   ],
   "source": [
    "type(decimal.getcontext())"
   ]
  },
  {
   "source": [
    "# Local Context"
   ],
   "cell_type": "markdown",
   "metadata": {}
  },
  {
   "cell_type": "code",
   "execution_count": 102,
   "metadata": {},
   "outputs": [
    {
     "output_type": "execute_result",
     "data": {
      "text/plain": [
       "decimal.ContextManager"
      ]
     },
     "metadata": {},
     "execution_count": 102
    }
   ],
   "source": [
    "type(decimal.localcontext())"
   ]
  },
  {
   "cell_type": "code",
   "execution_count": 104,
   "metadata": {},
   "outputs": [
    {
     "output_type": "stream",
     "name": "stdout",
     "text": [
      "<class 'decimal.Context'>\nContext(prec=28, rounding=ROUND_HALF_EVEN, Emin=-999999, Emax=999999, capitals=1, clamp=0, flags=[], traps=[InvalidOperation, DivisionByZero, Overflow])\n"
     ]
    }
   ],
   "source": [
    "with decimal.localcontext() as ctx:\n",
    "    print(type(ctx))\n",
    "    print(ctx)"
   ]
  },
  {
   "cell_type": "code",
   "execution_count": 105,
   "metadata": {},
   "outputs": [
    {
     "output_type": "stream",
     "name": "stdout",
     "text": [
      "<class 'decimal.Context'>\nContext(prec=6, rounding=ROUND_HALF_UP, Emin=-999999, Emax=999999, capitals=1, clamp=0, flags=[], traps=[InvalidOperation, DivisionByZero, Overflow])\n"
     ]
    }
   ],
   "source": [
    "with decimal.localcontext() as ctx:\n",
    "    ctx.prec = 6\n",
    "    ctx.rounding = 'ROUND_HALF_UP'\n",
    "    print(type(ctx))\n",
    "    print(ctx)"
   ]
  },
  {
   "cell_type": "code",
   "execution_count": 107,
   "metadata": {},
   "outputs": [
    {
     "output_type": "stream",
     "name": "stdout",
     "text": [
      "Context(prec=6, rounding=ROUND_HALF_UP, Emin=-999999, Emax=999999, capitals=1, clamp=0, flags=[], traps=[InvalidOperation, DivisionByZero, Overflow])\nTrue\n"
     ]
    }
   ],
   "source": [
    "with decimal.localcontext() as ctx:\n",
    "    ctx.prec = 6\n",
    "    ctx.rounding = 'ROUND_HALF_UP'\n",
    "    print(decimal.getcontext())\n",
    "    print(id(ctx)==id(decimal.getcontext()))\n",
    "    # get context doesnt always return glocal context.\n",
    "    # depends on where you called it."
   ]
  },
  {
   "cell_type": "code",
   "execution_count": 108,
   "metadata": {},
   "outputs": [],
   "source": [
    "x = Decimal('1.25')\n",
    "y = Decimal('1.35')"
   ]
  },
  {
   "cell_type": "code",
   "execution_count": 113,
   "metadata": {},
   "outputs": [
    {
     "output_type": "stream",
     "name": "stdout",
     "text": [
      "1.3\n1.4\n----------\n28\nROUND_HALF_EVEN\n1.2\n1.4\n"
     ]
    }
   ],
   "source": [
    "with decimal.localcontext() as ctx:\n",
    "    ctx.prec = 6\n",
    "    ctx.rounding = 'ROUND_HALF_UP'\n",
    "    print(round(x,1))\n",
    "    print(round(y,1))\n",
    "# print at the module level, to to print round_half_even\n",
    "print('----------')\n",
    "print(decimal.getcontext().prec)\n",
    "print(decimal.getcontext().rounding)\n",
    "print(round(x,1))\n",
    "print(round(y,1))"
   ]
  },
  {
   "source": [
    "# Constructing Decimal Objects\n",
    "* The Decimal class is in the decimal module"
   ],
   "cell_type": "markdown",
   "metadata": {}
  },
  {
   "cell_type": "code",
   "execution_count": 114,
   "metadata": {},
   "outputs": [],
   "source": [
    "import decimal\n",
    "from decimal import Decimal"
   ]
  },
  {
   "source": [
    "* Decimal construction takes 1 argument.\n",
    "* Decimal(x) -> x can be a variety of types\n",
    "* integers -- a = Decimal(10) -> 10\n",
    "* other Decimal object\n",
    "* strings -- a = Decimal('0.1) -> 0.1\n",
    "* tuples -- a=Decimal((1,(3,1,4,1,4),-4)) -> 3.1415\n",
    "* floats ? -- yes, but not usually done.\n",
    "    - Decimal(0.1) -> 0.1000000000000005551\n",
    "    - Since, 0.1 does not have an exact binary float representation it cannat be used to create an exact Decimal representation of itself.\n",
    "    - instead we use (string or tuples)\n",
    "    "
   ],
   "cell_type": "markdown",
   "metadata": {}
  },
  {
   "source": [
    "# Using to tuples constructor"
   ],
   "cell_type": "markdown",
   "metadata": {}
  },
  {
   "source": [
    "- 1.23 ->  +123 * 10^-2\n",
    "- -1.23 -> -123 * 10^-2"
   ],
   "cell_type": "markdown",
   "metadata": {}
  },
  {
   "source": [
    "* (s,(d1,d2,d3),exp) = (0,(1,2,3),-2)\n",
    "* s = sign\n",
    "* d = digit\n",
    "* e = expo"
   ],
   "cell_type": "markdown",
   "metadata": {}
  },
  {
   "cell_type": "code",
   "execution_count": 120,
   "metadata": {},
   "outputs": [
    {
     "output_type": "stream",
     "name": "stdout",
     "text": [
      "1.23\n-3.1415\n"
     ]
    }
   ],
   "source": [
    "x = Decimal((0,(1,2,3),-2))\n",
    "print(x)\n",
    "y = Decimal((1,(3,1,4,1,5),-4))\n",
    "print(y)"
   ]
  },
  {
   "source": [
    "# Context Precision and the Constructor\n",
    "    - Context precisin affects mathematical operations\n",
    "    - COntext precision does not affect the constructor"
   ],
   "cell_type": "markdown",
   "metadata": {}
  },
  {
   "cell_type": "code",
   "execution_count": 121,
   "metadata": {},
   "outputs": [],
   "source": [
    "import decimal\n",
    "from decimal import Decimal"
   ]
  },
  {
   "cell_type": "code",
   "execution_count": 124,
   "metadata": {},
   "outputs": [
    {
     "output_type": "stream",
     "name": "stdout",
     "text": [
      "0.25\n"
     ]
    }
   ],
   "source": [
    "decimal.getcontext().prec = 2 # global context now has precision set to 2\n",
    "a = Decimal('0.12345')\n",
    "b = Decimal('0.12345')\n",
    "c = a+b\n",
    "print(c) # precision of 2 so, rounded to 2 significant after decimal"
   ]
  },
  {
   "cell_type": "code",
   "execution_count": 125,
   "metadata": {},
   "outputs": [
    {
     "output_type": "stream",
     "name": "stdout",
     "text": [
      "0.24690\n"
     ]
    }
   ],
   "source": [
    "decimal.getcontext().prec = 6 # global context now has precision set to 2\n",
    "a = Decimal('0.12345')\n",
    "b = Decimal('0.12345')\n",
    "c = a+b\n",
    "print(c)"
   ]
  },
  {
   "cell_type": "code",
   "execution_count": 132,
   "metadata": {},
   "outputs": [
    {
     "output_type": "stream",
     "name": "stdout",
     "text": [
      "c-> 0.25\nc-> 0.25\na+b-> 0.24690\n"
     ]
    }
   ],
   "source": [
    "with decimal.localcontext() as ctx:\n",
    "    decimal.getcontext().prec = 2 # global context now has precision set to 2\n",
    "    a = Decimal('0.12345')\n",
    "    b = Decimal('0.12345')\n",
    "    c = a+b\n",
    "    print('c->',c)\n",
    "print('c->',c)\n",
    "print('a+b->',a+b)"
   ]
  },
  {
   "source": [
    "# Decimals : Constructors and Contexts"
   ],
   "cell_type": "markdown",
   "metadata": {}
  },
  {
   "cell_type": "code",
   "execution_count": 133,
   "metadata": {},
   "outputs": [],
   "source": [
    "import decimal\n",
    "from decimal import Decimal"
   ]
  },
  {
   "cell_type": "code",
   "execution_count": 134,
   "metadata": {},
   "outputs": [
    {
     "output_type": "stream",
     "name": "stdout",
     "text": [
      "Help on class Decimal in module decimal:\n\nclass Decimal(builtins.object)\n |  Decimal(value='0', context=None)\n |  \n |  Construct a new Decimal object. 'value' can be an integer, string, tuple,\n |  or another Decimal object. If no value is given, return Decimal('0'). The\n |  context does not affect the conversion and is only passed to determine if\n |  the InvalidOperation trap is active.\n |  \n |  Methods defined here:\n |  \n |  __abs__(self, /)\n |      abs(self)\n |  \n |  __add__(self, value, /)\n |      Return self+value.\n |  \n |  __bool__(self, /)\n |      self != 0\n |  \n |  __ceil__(...)\n |  \n |  __complex__(...)\n |  \n |  __copy__(...)\n |  \n |  __deepcopy__(...)\n |  \n |  __divmod__(self, value, /)\n |      Return divmod(self, value).\n |  \n |  __eq__(self, value, /)\n |      Return self==value.\n |  \n |  __float__(self, /)\n |      float(self)\n |  \n |  __floor__(...)\n |  \n |  __floordiv__(self, value, /)\n |      Return self//value.\n |  \n |  __format__(...)\n |      Default object formatter.\n |  \n |  __ge__(self, value, /)\n |      Return self>=value.\n |  \n |  __getattribute__(self, name, /)\n |      Return getattr(self, name).\n |  \n |  __gt__(self, value, /)\n |      Return self>value.\n |  \n |  __hash__(self, /)\n |      Return hash(self).\n |  \n |  __int__(self, /)\n |      int(self)\n |  \n |  __le__(self, value, /)\n |      Return self<=value.\n |  \n |  __lt__(self, value, /)\n |      Return self<value.\n |  \n |  __mod__(self, value, /)\n |      Return self%value.\n |  \n |  __mul__(self, value, /)\n |      Return self*value.\n |  \n |  __ne__(self, value, /)\n |      Return self!=value.\n |  \n |  __neg__(self, /)\n |      -self\n |  \n |  __pos__(self, /)\n |      +self\n |  \n |  __pow__(self, value, mod=None, /)\n |      Return pow(self, value, mod).\n |  \n |  __radd__(self, value, /)\n |      Return value+self.\n |  \n |  __rdivmod__(self, value, /)\n |      Return divmod(value, self).\n |  \n |  __reduce__(...)\n |      Helper for pickle.\n |  \n |  __repr__(self, /)\n |      Return repr(self).\n |  \n |  __rfloordiv__(self, value, /)\n |      Return value//self.\n |  \n |  __rmod__(self, value, /)\n |      Return value%self.\n |  \n |  __rmul__(self, value, /)\n |      Return value*self.\n |  \n |  __round__(...)\n |  \n |  __rpow__(self, value, mod=None, /)\n |      Return pow(value, self, mod).\n |  \n |  __rsub__(self, value, /)\n |      Return value-self.\n |  \n |  __rtruediv__(self, value, /)\n |      Return value/self.\n |  \n |  __sizeof__(...)\n |      Size of object in memory, in bytes.\n |  \n |  __str__(self, /)\n |      Return str(self).\n |  \n |  __sub__(self, value, /)\n |      Return self-value.\n |  \n |  __truediv__(self, value, /)\n |      Return self/value.\n |  \n |  __trunc__(...)\n |  \n |  adjusted(self, /)\n |      Return the adjusted exponent of the number.  Defined as exp + digits - 1.\n |  \n |  as_integer_ratio(self, /)\n |      Decimal.as_integer_ratio() -> (int, int)\n |      \n |      Return a pair of integers, whose ratio is exactly equal to the original\n |      Decimal and with a positive denominator. The ratio is in lowest terms.\n |      Raise OverflowError on infinities and a ValueError on NaNs.\n |  \n |  as_tuple(self, /)\n |      Return a tuple representation of the number.\n |  \n |  canonical(self, /)\n |      Return the canonical encoding of the argument.  Currently, the encoding\n |      of a Decimal instance is always canonical, so this operation returns its\n |      argument unchanged.\n |  \n |  compare(self, /, other, context=None)\n |      Compare self to other.  Return a decimal value:\n |      \n |      a or b is a NaN ==> Decimal('NaN')\n |      a < b           ==> Decimal('-1')\n |      a == b          ==> Decimal('0')\n |      a > b           ==> Decimal('1')\n |  \n |  compare_signal(self, /, other, context=None)\n |      Identical to compare, except that all NaNs signal.\n |  \n |  compare_total(self, /, other, context=None)\n |      Compare two operands using their abstract representation rather than\n |      their numerical value.  Similar to the compare() method, but the result\n |      gives a total ordering on Decimal instances.  Two Decimal instances with\n |      the same numeric value but different representations compare unequal\n |      in this ordering:\n |      \n |          >>> Decimal('12.0').compare_total(Decimal('12'))\n |          Decimal('-1')\n |      \n |      Quiet and signaling NaNs are also included in the total ordering. The result\n |      of this function is Decimal('0') if both operands have the same representation,\n |      Decimal('-1') if the first operand is lower in the total order than the second,\n |      and Decimal('1') if the first operand is higher in the total order than the\n |      second operand. See the specification for details of the total order.\n |      \n |      This operation is unaffected by context and is quiet: no flags are changed\n |      and no rounding is performed. As an exception, the C version may raise\n |      InvalidOperation if the second operand cannot be converted exactly.\n |  \n |  compare_total_mag(self, /, other, context=None)\n |      Compare two operands using their abstract representation rather than their\n |      value as in compare_total(), but ignoring the sign of each operand.\n |      \n |      x.compare_total_mag(y) is equivalent to x.copy_abs().compare_total(y.copy_abs()).\n |      \n |      This operation is unaffected by context and is quiet: no flags are changed\n |      and no rounding is performed. As an exception, the C version may raise\n |      InvalidOperation if the second operand cannot be converted exactly.\n |  \n |  conjugate(self, /)\n |      Return self.\n |  \n |  copy_abs(self, /)\n |      Return the absolute value of the argument.  This operation is unaffected by\n |      context and is quiet: no flags are changed and no rounding is performed.\n |  \n |  copy_negate(self, /)\n |      Return the negation of the argument.  This operation is unaffected by context\n |      and is quiet: no flags are changed and no rounding is performed.\n |  \n |  copy_sign(self, /, other, context=None)\n |      Return a copy of the first operand with the sign set to be the same as the\n |      sign of the second operand. For example:\n |      \n |          >>> Decimal('2.3').copy_sign(Decimal('-1.5'))\n |          Decimal('-2.3')\n |      \n |      This operation is unaffected by context and is quiet: no flags are changed\n |      and no rounding is performed. As an exception, the C version may raise\n |      InvalidOperation if the second operand cannot be converted exactly.\n |  \n |  exp(self, /, context=None)\n |      Return the value of the (natural) exponential function e**x at the given\n |      number.  The function always uses the ROUND_HALF_EVEN mode and the result\n |      is correctly rounded.\n |  \n |  fma(self, /, other, third, context=None)\n |      Fused multiply-add.  Return self*other+third with no rounding of the\n |      intermediate product self*other.\n |      \n |          >>> Decimal(2).fma(3, 5)\n |          Decimal('11')\n |  \n |  is_canonical(self, /)\n |      Return True if the argument is canonical and False otherwise.  Currently,\n |      a Decimal instance is always canonical, so this operation always returns\n |      True.\n |  \n |  is_finite(self, /)\n |      Return True if the argument is a finite number, and False if the argument\n |      is infinite or a NaN.\n |  \n |  is_infinite(self, /)\n |      Return True if the argument is either positive or negative infinity and\n |      False otherwise.\n |  \n |  is_nan(self, /)\n |      Return True if the argument is a (quiet or signaling) NaN and False\n |      otherwise.\n |  \n |  is_normal(self, /, context=None)\n |      Return True if the argument is a normal finite non-zero number with an\n |      adjusted exponent greater than or equal to Emin. Return False if the\n |      argument is zero, subnormal, infinite or a NaN.\n |  \n |  is_qnan(self, /)\n |      Return True if the argument is a quiet NaN, and False otherwise.\n |  \n |  is_signed(self, /)\n |      Return True if the argument has a negative sign and False otherwise.\n |      Note that both zeros and NaNs can carry signs.\n |  \n |  is_snan(self, /)\n |      Return True if the argument is a signaling NaN and False otherwise.\n |  \n |  is_subnormal(self, /, context=None)\n |      Return True if the argument is subnormal, and False otherwise. A number is\n |      subnormal if it is non-zero, finite, and has an adjusted exponent less\n |      than Emin.\n |  \n |  is_zero(self, /)\n |      Return True if the argument is a (positive or negative) zero and False\n |      otherwise.\n |  \n |  ln(self, /, context=None)\n |      Return the natural (base e) logarithm of the operand. The function always\n |      uses the ROUND_HALF_EVEN mode and the result is correctly rounded.\n |  \n |  log10(self, /, context=None)\n |      Return the base ten logarithm of the operand. The function always uses the\n |      ROUND_HALF_EVEN mode and the result is correctly rounded.\n |  \n |  logb(self, /, context=None)\n |      For a non-zero number, return the adjusted exponent of the operand as a\n |      Decimal instance.  If the operand is a zero, then Decimal('-Infinity') is\n |      returned and the DivisionByZero condition is raised. If the operand is\n |      an infinity then Decimal('Infinity') is returned.\n |  \n |  logical_and(self, /, other, context=None)\n |      Return the digit-wise 'and' of the two (logical) operands.\n |  \n |  logical_invert(self, /, context=None)\n |      Return the digit-wise inversion of the (logical) operand.\n |  \n |  logical_or(self, /, other, context=None)\n |      Return the digit-wise 'or' of the two (logical) operands.\n |  \n |  logical_xor(self, /, other, context=None)\n |      Return the digit-wise 'exclusive or' of the two (logical) operands.\n |  \n |  max(self, /, other, context=None)\n |      Maximum of self and other.  If one operand is a quiet NaN and the other is\n |      numeric, the numeric operand is returned.\n |  \n |  max_mag(self, /, other, context=None)\n |      Similar to the max() method, but the comparison is done using the absolute\n |      values of the operands.\n |  \n |  min(self, /, other, context=None)\n |      Minimum of self and other. If one operand is a quiet NaN and the other is\n |      numeric, the numeric operand is returned.\n |  \n |  min_mag(self, /, other, context=None)\n |      Similar to the min() method, but the comparison is done using the absolute\n |      values of the operands.\n |  \n |  next_minus(self, /, context=None)\n |      Return the largest number representable in the given context (or in the\n |      current default context if no context is given) that is smaller than the\n |      given operand.\n |  \n |  next_plus(self, /, context=None)\n |      Return the smallest number representable in the given context (or in the\n |      current default context if no context is given) that is larger than the\n |      given operand.\n |  \n |  next_toward(self, /, other, context=None)\n |      If the two operands are unequal, return the number closest to the first\n |      operand in the direction of the second operand.  If both operands are\n |      numerically equal, return a copy of the first operand with the sign set\n |      to be the same as the sign of the second operand.\n |  \n |  normalize(self, /, context=None)\n |      Normalize the number by stripping the rightmost trailing zeros and\n |      converting any result equal to Decimal('0') to Decimal('0e0').  Used\n |      for producing canonical values for members of an equivalence class.\n |      For example, Decimal('32.100') and Decimal('0.321000e+2') both normalize\n |      to the equivalent value Decimal('32.1').\n |  \n |  number_class(self, /, context=None)\n |      Return a string describing the class of the operand.  The returned value\n |      is one of the following ten strings:\n |      \n |          * '-Infinity', indicating that the operand is negative infinity.\n |          * '-Normal', indicating that the operand is a negative normal number.\n |          * '-Subnormal', indicating that the operand is negative and subnormal.\n |          * '-Zero', indicating that the operand is a negative zero.\n |          * '+Zero', indicating that the operand is a positive zero.\n |          * '+Subnormal', indicating that the operand is positive and subnormal.\n |          * '+Normal', indicating that the operand is a positive normal number.\n |          * '+Infinity', indicating that the operand is positive infinity.\n |          * 'NaN', indicating that the operand is a quiet NaN (Not a Number).\n |          * 'sNaN', indicating that the operand is a signaling NaN.\n |  \n |  quantize(self, /, exp, rounding=None, context=None)\n |      Return a value equal to the first operand after rounding and having the\n |      exponent of the second operand.\n |      \n |          >>> Decimal('1.41421356').quantize(Decimal('1.000'))\n |          Decimal('1.414')\n |      \n |      Unlike other operations, if the length of the coefficient after the quantize\n |      operation would be greater than precision, then an InvalidOperation is signaled.\n |      This guarantees that, unless there is an error condition, the quantized exponent\n |      is always equal to that of the right-hand operand.\n |      \n |      Also unlike other operations, quantize never signals Underflow, even if the\n |      result is subnormal and inexact.\n |      \n |      If the exponent of the second operand is larger than that of the first, then\n |      rounding may be necessary. In this case, the rounding mode is determined by the\n |      rounding argument if given, else by the given context argument; if neither\n |      argument is given, the rounding mode of the current thread's context is used.\n |  \n |  radix(self, /)\n |      Return Decimal(10), the radix (base) in which the Decimal class does\n |      all its arithmetic. Included for compatibility with the specification.\n |  \n |  remainder_near(self, /, other, context=None)\n |      Return the remainder from dividing self by other.  This differs from\n |      self % other in that the sign of the remainder is chosen so as to minimize\n |      its absolute value. More precisely, the return value is self - n * other\n |      where n is the integer nearest to the exact value of self / other, and\n |      if two integers are equally near then the even one is chosen.\n |      \n |      If the result is zero then its sign will be the sign of self.\n |  \n |  rotate(self, /, other, context=None)\n |      Return the result of rotating the digits of the first operand by an amount\n |      specified by the second operand.  The second operand must be an integer in\n |      the range -precision through precision. The absolute value of the second\n |      operand gives the number of places to rotate. If the second operand is\n |      positive then rotation is to the left; otherwise rotation is to the right.\n |      The coefficient of the first operand is padded on the left with zeros to\n |      length precision if necessary. The sign and exponent of the first operand are\n |      unchanged.\n |  \n |  same_quantum(self, /, other, context=None)\n |      Test whether self and other have the same exponent or whether both are NaN.\n |      \n |      This operation is unaffected by context and is quiet: no flags are changed\n |      and no rounding is performed. As an exception, the C version may raise\n |      InvalidOperation if the second operand cannot be converted exactly.\n |  \n |  scaleb(self, /, other, context=None)\n |      Return the first operand with the exponent adjusted the second.  Equivalently,\n |      return the first operand multiplied by 10**other. The second operand must be\n |      an integer.\n |  \n |  shift(self, /, other, context=None)\n |      Return the result of shifting the digits of the first operand by an amount\n |      specified by the second operand.  The second operand must be an integer in\n |      the range -precision through precision. The absolute value of the second\n |      operand gives the number of places to shift. If the second operand is\n |      positive, then the shift is to the left; otherwise the shift is to the\n |      right. Digits shifted into the coefficient are zeros. The sign and exponent\n |      of the first operand are unchanged.\n |  \n |  sqrt(self, /, context=None)\n |      Return the square root of the argument to full precision. The result is\n |      correctly rounded using the ROUND_HALF_EVEN rounding mode.\n |  \n |  to_eng_string(self, /, context=None)\n |      Convert to an engineering-type string.  Engineering notation has an exponent\n |      which is a multiple of 3, so there are up to 3 digits left of the decimal\n |      place. For example, Decimal('123E+1') is converted to Decimal('1.23E+3').\n |      \n |      The value of context.capitals determines whether the exponent sign is lower\n |      or upper case. Otherwise, the context does not affect the operation.\n |  \n |  to_integral(self, /, rounding=None, context=None)\n |      Identical to the to_integral_value() method.  The to_integral() name has been\n |      kept for compatibility with older versions.\n |  \n |  to_integral_exact(self, /, rounding=None, context=None)\n |      Round to the nearest integer, signaling Inexact or Rounded as appropriate if\n |      rounding occurs.  The rounding mode is determined by the rounding parameter\n |      if given, else by the given context. If neither parameter is given, then the\n |      rounding mode of the current default context is used.\n |  \n |  to_integral_value(self, /, rounding=None, context=None)\n |      Round to the nearest integer without signaling Inexact or Rounded.  The\n |      rounding mode is determined by the rounding parameter if given, else by\n |      the given context. If neither parameter is given, then the rounding mode\n |      of the current default context is used.\n |  \n |  ----------------------------------------------------------------------\n |  Class methods defined here:\n |  \n |  from_float(f, /) from builtins.type\n |      Class method that converts a float to a decimal number, exactly.\n |      Since 0.1 is not exactly representable in binary floating point,\n |      Decimal.from_float(0.1) is not the same as Decimal('0.1').\n |      \n |          >>> Decimal.from_float(0.1)\n |          Decimal('0.1000000000000000055511151231257827021181583404541015625')\n |          >>> Decimal.from_float(float('nan'))\n |          Decimal('NaN')\n |          >>> Decimal.from_float(float('inf'))\n |          Decimal('Infinity')\n |          >>> Decimal.from_float(float('-inf'))\n |          Decimal('-Infinity')\n |  \n |  ----------------------------------------------------------------------\n |  Static methods defined here:\n |  \n |  __new__(*args, **kwargs) from builtins.type\n |      Create and return a new object.  See help(type) for accurate signature.\n |  \n |  ----------------------------------------------------------------------\n |  Data descriptors defined here:\n |  \n |  imag\n |  \n |  real\n\n"
     ]
    }
   ],
   "source": [
    "help(Decimal)"
   ]
  },
  {
   "cell_type": "code",
   "execution_count": 136,
   "metadata": {},
   "outputs": [
    {
     "output_type": "execute_result",
     "data": {
      "text/plain": [
       "Decimal('10')"
      ]
     },
     "metadata": {},
     "execution_count": 136
    }
   ],
   "source": [
    "Decimal(10)"
   ]
  },
  {
   "cell_type": "code",
   "execution_count": 138,
   "metadata": {},
   "outputs": [
    {
     "output_type": "execute_result",
     "data": {
      "text/plain": [
       "Decimal('-10.1')"
      ]
     },
     "metadata": {},
     "execution_count": 138
    }
   ],
   "source": [
    "Decimal('-10.1')"
   ]
  },
  {
   "cell_type": "code",
   "execution_count": 141,
   "metadata": {},
   "outputs": [
    {
     "output_type": "execute_result",
     "data": {
      "text/plain": [
       "Decimal('3.1415')"
      ]
     },
     "metadata": {},
     "execution_count": 141
    }
   ],
   "source": [
    "tup = (0,(3,1,4,1,5),-4)\n",
    "Decimal(tup)"
   ]
  },
  {
   "cell_type": "code",
   "execution_count": 144,
   "metadata": {},
   "outputs": [
    {
     "output_type": "execute_result",
     "data": {
      "text/plain": [
       "Decimal('-31.415')"
      ]
     },
     "metadata": {},
     "execution_count": 144
    }
   ],
   "source": [
    "tup = (1,(3,1,4,1,5),-3)\n",
    "Decimal(tup)"
   ]
  },
  {
   "cell_type": "code",
   "execution_count": 146,
   "metadata": {},
   "outputs": [
    {
     "output_type": "execute_result",
     "data": {
      "text/plain": [
       "'0.1000000000000000055511151'"
      ]
     },
     "metadata": {},
     "execution_count": 146
    }
   ],
   "source": [
    "# The problem with float is\n",
    "format(0.1,'.25f')"
   ]
  },
  {
   "cell_type": "code",
   "execution_count": 147,
   "metadata": {},
   "outputs": [
    {
     "output_type": "execute_result",
     "data": {
      "text/plain": [
       "Decimal('0.1000000000000000055511151231257827021181583404541015625')"
      ]
     },
     "metadata": {},
     "execution_count": 147
    }
   ],
   "source": [
    "Decimal(0.1)"
   ]
  },
  {
   "cell_type": "code",
   "execution_count": 149,
   "metadata": {},
   "outputs": [
    {
     "output_type": "execute_result",
     "data": {
      "text/plain": [
       "Decimal('0.1')"
      ]
     },
     "metadata": {},
     "execution_count": 149
    }
   ],
   "source": [
    "Decimal('0.1')"
   ]
  },
  {
   "cell_type": "code",
   "execution_count": 150,
   "metadata": {},
   "outputs": [
    {
     "output_type": "execute_result",
     "data": {
      "text/plain": [
       "False"
      ]
     },
     "metadata": {},
     "execution_count": 150
    }
   ],
   "source": [
    "Decimal(0.1) == Decimal('0.1')"
   ]
  },
  {
   "cell_type": "code",
   "execution_count": 152,
   "metadata": {},
   "outputs": [
    {
     "output_type": "execute_result",
     "data": {
      "text/plain": [
       "True"
      ]
     },
     "metadata": {},
     "execution_count": 152
    }
   ],
   "source": [
    "Decimal(10) == Decimal('10')"
   ]
  },
  {
   "cell_type": "code",
   "execution_count": 156,
   "metadata": {},
   "outputs": [
    {
     "output_type": "execute_result",
     "data": {
      "text/plain": [
       "Context(prec=28, rounding=ROUND_HALF_EVEN, Emin=-999999, Emax=999999, capitals=1, clamp=0, flags=[Inexact, FloatOperation, Rounded], traps=[InvalidOperation, DivisionByZero, Overflow])"
      ]
     },
     "metadata": {},
     "execution_count": 156
    }
   ],
   "source": [
    "decimal.getcontext().prec=28 # default\n",
    "decimal.getcontext()"
   ]
  },
  {
   "cell_type": "code",
   "execution_count": 157,
   "metadata": {},
   "outputs": [],
   "source": [
    "decimal.getcontext().prec = 6\n",
    "# it will only affect on the arithemetic operation. but dont affect the number that is stored."
   ]
  },
  {
   "cell_type": "code",
   "execution_count": 159,
   "metadata": {},
   "outputs": [
    {
     "output_type": "execute_result",
     "data": {
      "text/plain": [
       "Decimal('0.123456789')"
      ]
     },
     "metadata": {},
     "execution_count": 159
    }
   ],
   "source": [
    "a = Decimal('0.123456789')\n",
    "a # even thought our precision was 6, we get all decimal significant"
   ]
  },
  {
   "cell_type": "code",
   "execution_count": 160,
   "metadata": {},
   "outputs": [],
   "source": [
    "decimal.getcontext().prec = 2\n",
    "a = Decimal('0.12334')\n",
    "b = Decimal('0.12334')"
   ]
  },
  {
   "cell_type": "code",
   "execution_count": 165,
   "metadata": {},
   "outputs": [
    {
     "output_type": "stream",
     "name": "stdout",
     "text": [
      "a-> 0.12334\nb-> 0.12334\n---but---\na+b-> 0.25\n"
     ]
    }
   ],
   "source": [
    "print('a->',a)\n",
    "print('b->',b)\n",
    "print('---but---')\n",
    "print('a+b->',a+b)"
   ]
  },
  {
   "cell_type": "code",
   "execution_count": 172,
   "metadata": {},
   "outputs": [
    {
     "output_type": "stream",
     "name": "stdout",
     "text": [
      "a+b-> 0.24668\nC with local context0.25\nC with global context c->0.25\nC with global context a+b-> 0.24668\n"
     ]
    }
   ],
   "source": [
    "decimal.getcontext().prec = 6\n",
    "a = Decimal('0.12334')\n",
    "b = Decimal('0.12334')\n",
    "print('a+b->',a+b)\n",
    "with decimal.localcontext() as ctx:\n",
    "    ctx.prec = 2\n",
    "    c = a + b\n",
    "    print(f'C with local context{c}')\n",
    "print(f'C with global context c->{c}')\n",
    "# it doesnt care that what context you are in.\n",
    "# C has been calculated as precision care when it does arithmetic calculation.\n",
    "print(f'C with global context a+b-> {a+b}')"
   ]
  },
  {
   "source": [
    "# Decimal math operations"
   ],
   "cell_type": "markdown",
   "metadata": {}
  },
  {
   "source": [
    "* Some arithmetic operators don't work the same as floats or integers\n",
    "* // and % -> also divmod()\n",
    "* The // and % operators still satisfy the ususal equations: n = d*(n // d)+(n % d)\n",
    "* But for integers, the // operator performs floor division -> a //b = floor(a/b)\n",
    "* For Decimals however, it performs truncated division -> a // b = trun(a / b)"
   ],
   "cell_type": "markdown",
   "metadata": {}
  },
  {
   "source": [
    "* 10 // 3 = 3 ----- Decimal(10) // Decimal(3) = Decimal(3)\n",
    "    - the // division will figure out that it is working with Decimal\n",
    "* -10 //  3 = -4 --- Decimal(-10) // Decimal(3) = Decimal(-3)\n",
    "    - It doesn't work as same for all."
   ],
   "cell_type": "markdown",
   "metadata": {}
  },
  {
   "source": [
    "# Boils down to the algorithm used to actually perform integer division\n",
    "    - a/b = dividend/divisor\n",
    "    \n",
    "    - figure out the sign of the resut\n",
    "    - use absolute values for divisor and dividend\n",
    "    - keep subtracting b from a as long as a>=b\n",
    "    - return the signed number this was performed.\n",
    "    - this is basically the same as truncating the real division:\n",
    "        -  trunc(a/b)\n",
    "        - trunc(-a/b)"
   ],
   "cell_type": "markdown",
   "metadata": {}
  },
  {
   "cell_type": "code",
   "execution_count": 192,
   "metadata": {},
   "outputs": [
    {
     "output_type": "stream",
     "name": "stdout",
     "text": [
      "integer -> 3\ninteger -> 1\nTrue\ndecimal -> 3\ndecimal -> 1\nTrue\n"
     ]
    }
   ],
   "source": [
    "n = 10\n",
    "d = 3\n",
    "print('integer ->',n//d)\n",
    "print('integer ->',n%d)\n",
    "print(n == d*(n//d)+(n%d))\n",
    "n = Decimal(10)\n",
    "d = Decimal(3)\n",
    "print('decimal ->',n//d)\n",
    "print('decimal ->',n%d)\n",
    "print(n == d*(n//d)+(n%d))"
   ]
  },
  {
   "cell_type": "code",
   "execution_count": 195,
   "metadata": {},
   "outputs": [
    {
     "output_type": "stream",
     "name": "stdout",
     "text": [
      "integer -> -4\ninteger -> 2\nTrue\n"
     ]
    }
   ],
   "source": [
    "# But n = d* (n // d ) + (n % d) is still satisfied\n",
    "n = -10\n",
    "d = 3\n",
    "print('integer ->',n//d)\n",
    "print('integer ->',n%d)\n",
    "print(n == d*(n//d)+(n%d))"
   ]
  },
  {
   "cell_type": "code",
   "execution_count": 196,
   "metadata": {},
   "outputs": [
    {
     "output_type": "stream",
     "name": "stdout",
     "text": [
      "decimal -> -3\ndecimal -> -1\nTrue\n"
     ]
    }
   ],
   "source": [
    "n = Decimal(-10)\n",
    "d = Decimal(3)\n",
    "print('decimal ->',n//d)\n",
    "print('decimal ->',n%d)\n",
    "print(n == d*(n//d)+(n%d))"
   ]
  },
  {
   "source": [
    "# Other Mathematical Operator"
   ],
   "cell_type": "markdown",
   "metadata": {}
  },
  {
   "source": [
    "* The decimal class defines a bunch of various mathematical operations, such as sqrt, lings ects\n",
    "* But, not all functions defined in the math module are defined inthe Decimal class\n",
    "    - eg: trig. function.\n",
    "    - In banks we usually doest not trig. func."
   ],
   "cell_type": "markdown",
   "metadata": {}
  },
  {
   "source": [
    "* We can use the math modules.\n",
    "    - But the Decimal objects will first cast to floats.\n",
    "    - so we lose the whole precision mechanism that made us use Decimal objects in the first place."
   ],
   "cell_type": "markdown",
   "metadata": {}
  },
  {
   "cell_type": "code",
   "execution_count": 204,
   "metadata": {},
   "outputs": [
    {
     "output_type": "stream",
     "name": "stdout",
     "text": [
      "root flaot-> 1.414213562373095145474621859\nroot-mix-> 1.414213562373095145474621859\n1.414213562373095048801688724\n------------------\n2.000000000000000444089209850\n2.000000000000000444089209850\n1.999999999999999999999999999\n"
     ]
    }
   ],
   "source": [
    "import math\n",
    "decimal.getcontext().prec = 28\n",
    "x = 2\n",
    "x_dec = Decimal('2')\n",
    "\n",
    "root = math.sqrt(x)\n",
    "root_mixed = math.sqrt(x_dec)\n",
    "root_dec = x_dec.sqrt()\n",
    "\n",
    "print('root float->',format(root,'1.27f'))\n",
    "print('root-mix->',format(root_mixed,'1.27f'))\n",
    "print(root_dec)\n",
    "print('------------------ after squaring same number, it should give the number back')\n",
    "print(format(root*root,'.27f'))\n",
    "print(format(root_mixed*root_mixed,'.27f'))\n",
    "print(root_dec*root_dec)"
   ]
  },
  {
   "cell_type": "code",
   "execution_count": 206,
   "metadata": {},
   "outputs": [
    {
     "output_type": "stream",
     "name": "stdout",
     "text": [
      "root flaot-> 0.100000000000000005551115123\nroot-mix-> 0.100000000000000005551115123\n0.1\n------------------ after squaring same number, it should give the number back\n0.010000000000000001942890293\n0.010000000000000001942890293\n0.01\n"
     ]
    }
   ],
   "source": [
    "x = 0.01\n",
    "x_dec = Decimal('0.01')\n",
    "\n",
    "root = math.sqrt(x)\n",
    "root_mixed = math.sqrt(x_dec)\n",
    "root_dec = x_dec.sqrt()\n",
    "\n",
    "print('root float->',format(root,'1.27f'))\n",
    "print('root-mix->',format(root_mixed,'1.27f'))\n",
    "print(root_dec)\n",
    "print('------------------ after squaring same number, it should give the number back')\n",
    "print(format(root*root,'.27f'))\n",
    "print(format(root_mixed*root_mixed,'.27f'))\n",
    "print(root_dec*root_dec)"
   ]
  },
  {
   "cell_type": "code",
   "execution_count": 216,
   "metadata": {},
   "outputs": [
    {
     "output_type": "stream",
     "name": "stdout",
     "text": [
      "0.0100000000000000002081668\n0.0100000000000000000000000\nsquare root\n0.1000000000000000055511151\n0.1000000000000000000000000\nsqure of square root---must return same number as x and y => 0.01\n0.0100000000000000019428903\n0.0100000000000000000000000\n"
     ]
    }
   ],
   "source": [
    "# In Float operation we dont get exact value\n",
    "# Decimal operation give us exact if it not rational(eg:1/3), else the number is rational, is give nearly exact value compare to calculation done as float value.\n",
    "x = 0.01\n",
    "x_sqrt = math.sqrt(x)\n",
    "y = Decimal('0.01')\n",
    "y_sqrt = y.sqrt()\n",
    "print(format(x,'.25f'))\n",
    "print(format(y,'.25f'))\n",
    "print('square root')\n",
    "print(format(x_sqrt,'.25f'))\n",
    "print(format(y_sqrt,'.25f'))\n",
    "print('squre of square root---must return same number as x and y => 0.01')\n",
    "x_sqr = x_sqrt*x_sqrt\n",
    "y_sqr = y_sqrt*y_sqrt\n",
    "print(format(x_sqr,'.25f'))\n",
    "print(format(y_sqr,'.25f'))"
   ]
  },
  {
   "source": [
    "# Other Math Functions"
   ],
   "cell_type": "markdown",
   "metadata": {}
  },
  {
   "cell_type": "code",
   "execution_count": 199,
   "metadata": {},
   "outputs": [
    {
     "output_type": "stream",
     "name": "stdout",
     "text": [
      "-2.302585092994045684017991455\n1.105170918075647624811707826\n0.3162277660168379331998893544\n"
     ]
    }
   ],
   "source": [
    "a = Decimal('0.1')\n",
    "print(a.ln())\n",
    "print(a.exp())\n",
    "print(a.sqrt())"
   ]
  },
  {
   "cell_type": "code",
   "execution_count": 200,
   "metadata": {},
   "outputs": [],
   "source": [
    "import math"
   ]
  },
  {
   "cell_type": "code",
   "execution_count": 202,
   "metadata": {},
   "outputs": [
    {
     "output_type": "execute_result",
     "data": {
      "text/plain": [
       "0.31622776601683794"
      ]
     },
     "metadata": {},
     "execution_count": 202
    }
   ],
   "source": [
    "math.sqrt(a)\n",
    "# first convert to float and calcuates"
   ]
  },
  {
   "source": [
    "# Performance Consideration using Decimal"
   ],
   "cell_type": "markdown",
   "metadata": {}
  },
  {
   "source": [
    "* There are some drawback to the Decimal class vs float class.\n",
    "    - not as easy to code, construnction via string or tuples\n",
    "    - not all mathematical functions that exist in the math modules have a Decimal couterpart.\n",
    "    - eg:tri. function are not avialable.\n",
    "    - more memory overhead than float.\n",
    "    - performance: much slower than floats(relatively)\n",
    "    "
   ],
   "cell_type": "markdown",
   "metadata": {}
  },
  {
   "cell_type": "code",
   "execution_count": 225,
   "metadata": {},
   "outputs": [],
   "source": [
    "from decimal import Decimal\n",
    "import sys\n",
    "import time"
   ]
  },
  {
   "cell_type": "code",
   "execution_count": 218,
   "metadata": {},
   "outputs": [],
   "source": [
    "a = 3.1415\n",
    "b = Decimal('3.1415')"
   ]
  },
  {
   "cell_type": "code",
   "execution_count": 224,
   "metadata": {},
   "outputs": [
    {
     "output_type": "stream",
     "name": "stdout",
     "text": [
      "float size-> 24\ndecimal size-> 104\n"
     ]
    }
   ],
   "source": [
    "print('float size->',sys.getsizeof(a))\n",
    "print('decimal size->',sys.getsizeof(b))\n",
    "# Decimal took over 5 times more memory"
   ]
  },
  {
   "cell_type": "code",
   "execution_count": 226,
   "metadata": {},
   "outputs": [],
   "source": [
    "def run_float(n=1):\n",
    "    for i in range(n):\n",
    "        a = 3.1415\n",
    "\n",
    "def run_decimal(n=1):\n",
    "    for i in range(n):\n",
    "        a = Decimal('3.1415')"
   ]
  },
  {
   "cell_type": "code",
   "execution_count": 227,
   "metadata": {},
   "outputs": [],
   "source": [
    "n = 10000000\n"
   ]
  },
  {
   "cell_type": "code",
   "execution_count": 229,
   "metadata": {},
   "outputs": [
    {
     "output_type": "stream",
     "name": "stdout",
     "text": [
      "float time:  0.649567800002842\n"
     ]
    }
   ],
   "source": [
    "start_time = time.perf_counter()\n",
    "run_float(n)\n",
    "end_time = time.perf_counter()\n",
    "print('float time: ',end_time-start_time)"
   ]
  },
  {
   "cell_type": "code",
   "execution_count": 231,
   "metadata": {},
   "outputs": [
    {
     "output_type": "stream",
     "name": "stdout",
     "text": [
      "decimal time:  8.049718599999323\n"
     ]
    }
   ],
   "source": [
    "start_time = time.perf_counter()\n",
    "run_decimal(n)\n",
    "end_time = time.perf_counter()\n",
    "print('decimal time: ',end_time-start_time)\n",
    "# over 10 time slower than float creation"
   ]
  },
  {
   "cell_type": "code",
   "execution_count": 235,
   "metadata": {},
   "outputs": [
    {
     "output_type": "stream",
     "name": "stdout",
     "text": [
      "float time:  0.9762889999983599\n",
      "decimal time:  1.7304506000000401\n"
     ]
    }
   ],
   "source": [
    "def run_float(n=1):\n",
    "    a = 3.1415\n",
    "    for i in range(n):\n",
    "        a+a\n",
    "\n",
    "def run_decimal(n=1):\n",
    "    a = Decimal('3.1415')\n",
    "    for i in range(n):\n",
    "        a+a\n",
    "\n",
    "start_time = time.perf_counter()\n",
    "run_float(n)\n",
    "end_time = time.perf_counter()\n",
    "print('float time: ',end_time-start_time)\n",
    "\n",
    "start_time = time.perf_counter()\n",
    "run_decimal(n)\n",
    "end_time = time.perf_counter()\n",
    "print('decimal time: ',end_time-start_time)\n",
    "# over 2 time slower than float calculation"
   ]
  },
  {
   "cell_type": "code",
   "execution_count": 237,
   "metadata": {},
   "outputs": [
    {
     "output_type": "stream",
     "name": "stdout",
     "text": [
      "float time:  0.9930531999998493\n",
      "decimal time:  2.6287959000001138\n"
     ]
    }
   ],
   "source": [
    "def run_float(n=1):\n",
    "    a = 3.1415\n",
    "    for i in range(n):\n",
    "        a/a\n",
    "\n",
    "def run_decimal(n=1):\n",
    "    a = Decimal('3.1415')\n",
    "    for i in range(n):\n",
    "        a/a\n",
    "\n",
    "start_time = time.perf_counter()\n",
    "run_float(n)\n",
    "end_time = time.perf_counter()\n",
    "print('float time: ',end_time-start_time)\n",
    "\n",
    "start_time = time.perf_counter()\n",
    "run_decimal(n)\n",
    "end_time = time.perf_counter()\n",
    "print('decimal time: ',end_time-start_time)\n",
    "# over 2 time slower than float calculation"
   ]
  },
  {
   "cell_type": "code",
   "execution_count": 241,
   "metadata": {},
   "outputs": [
    {
     "output_type": "stream",
     "name": "stdout",
     "text": [
      "float time:  1.3368523999997706\n",
      "decimal time:  24.590349300000526\n"
     ]
    }
   ],
   "source": [
    "import math\n",
    "n=5000000\n",
    "def run_float(n=1):\n",
    "    a = 3.1415\n",
    "    for i in range(n):\n",
    "        math.sqrt(a)\n",
    "\n",
    "def run_decimal(n=1):\n",
    "    a = Decimal('3.1415')\n",
    "    for i in range(n):\n",
    "        a.sqrt()\n",
    "\n",
    "start_time = time.perf_counter()\n",
    "run_float(n)\n",
    "end_time = time.perf_counter()\n",
    "print('float time: ',end_time-start_time)\n",
    "\n",
    "start_time = time.perf_counter()\n",
    "run_decimal(n)\n",
    "end_time = time.perf_counter()\n",
    "print('decimal time: ',end_time-start_time)\n",
    "# over 18 time slower than float sqrt calculation"
   ]
  },
  {
   "cell_type": "code",
   "execution_count": null,
   "metadata": {},
   "outputs": [],
   "source": [
    "# You dont want to use just for extra precision.\n",
    "## you only want to use if you have to have precision.\n",
    "## and if you dont want the problem that we get in binary float. having in-exact /infinite representatio of regular decimal representation are finite."
   ]
  }
 ]
}