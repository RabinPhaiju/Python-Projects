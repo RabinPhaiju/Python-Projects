{
 "cells": [
  {
   "cell_type": "markdown",
   "metadata": {},
   "source": [
    "## Data types \n",
    "- numbers,operations,type conversion,f-string\n",
    "* type error, type checking,type conversion"
   ]
  },
  {
   "cell_type": "markdown",
   "metadata": {},
   "source": [
    "math operations\n",
    "\n",
    "    - 3 ** 5 exponent -> return int value\n",
    "    - 3 * 5 times     -> return int value\n",
    "    - 3 / 5 divide    -> return float value\n",
    "    - 3 // 5 floor divide -> return int value\n",
    "    - 3 + 5 sum         -> return int value\n",
    "    - 3 - 5 diff        -> return int value"
   ]
  },
  {
   "cell_type": "code",
   "execution_count": 6,
   "metadata": {},
   "outputs": [
    {
     "name": "stdout",
     "output_type": "stream",
     "text": [
      "int(): 0\n",
      "type(6) <class 'int'>\n",
      "2\n",
      "3\n",
      "2.67\n",
      "2.0\n",
      "type(4/2): <class 'float'>\n",
      "floor division 4\n",
      "int truc 3\n",
      "int truc -3\n",
      "int truc bool 1\n"
     ]
    }
   ],
   "source": [
    "print('int():',int()) # -> 0\n",
    "print('type(6)',type(6))\n",
    "print(int(8/3)) #round the number\n",
    "print(round(8/3)) #2.666\n",
    "print(round(8/3,2)) # 2.67\n",
    "print(4/2) # 2.0\n",
    "print('type(4/2):',type(4/2)) # float\n",
    "print('floor division',8//2)# floor division\n",
    "print('int truc',int(3.14))\n",
    "print('int truc',int(-3.14))\n",
    "print('int truc bool',int(True))"
   ]
  },
  {
   "cell_type": "code",
   "execution_count": 27,
   "metadata": {},
   "outputs": [
    {
     "name": "stdout",
     "output_type": "stream",
     "text": [
      "3\n",
      "1\n",
      "----------\n",
      "-4\n",
      "3.6666666666666665\n",
      "3\n",
      "---- negative floor devision ------\n",
      "division -3.6666666666666665\n",
      "floor division -4\n",
      "truncate -3\n",
      "---- but ---\n",
      "-4\n",
      "-3\n"
     ]
    }
   ],
   "source": [
    "import math\n",
    "# Floor\n",
    "    # - The floor if a real number a is the largest integer <=4\n",
    "print(math.floor(3.14))\n",
    "print(math.floor(1.999))\n",
    "print('----------')\n",
    "print(math.floor(-3.1))\n",
    "print(11/3)\n",
    "print(11//3)\n",
    "print('---- negative floor devision ------')\n",
    "print('division',-11/3)\n",
    "print('floor division',-11//3)\n",
    "print('truncate',math.trunc(-11/3))\n",
    "print('---- but ---')\n",
    "print(math.floor(-3.0000000000001)) # 12 zeros -> -4 fine but\n",
    "print(math.floor(-3.0000000000000001)) # return -3\n",
    "# limit of precision in floating point numbers."
   ]
  },
  {
   "cell_type": "code",
   "execution_count": 4,
   "metadata": {},
   "outputs": [
    {
     "name": "stdout",
     "output_type": "stream",
     "text": [
      "10\n",
      "10\n",
      "<class 'int'>\n",
      "10\n",
      "10\n",
      "10\n",
      "10\n"
     ]
    }
   ],
   "source": [
    "# 1. Integer\n",
    "eg_int = 10\n",
    "print(str(eg_int))\n",
    "print(int(\"10\"))\n",
    "print(type(10**10))\n",
    "print(int('0b1010', 2))\n",
    "print(int('1010',2))\n",
    "print(int('1010',base=2))\n",
    "print(int('0o12', 8))"
   ]
  },
  {
   "cell_type": "code",
   "execution_count": 9,
   "metadata": {},
   "outputs": [
    {
     "name": "stdout",
     "output_type": "stream",
     "text": [
      "binary -> decimal 7\n",
      "<class 'int'>\n",
      "--------\n",
      "0b1010\n",
      "10\n"
     ]
    }
   ],
   "source": [
    "# 2. Binary\n",
    "print('binary -> decimal', 0b111)\n",
    "print(type(0b111))\n",
    "print('--------')\n",
    "print(bin(10))\n",
    "print(int('0b1010',2))"
   ]
  },
  {
   "cell_type": "code",
   "execution_count": 11,
   "metadata": {},
   "outputs": [
    {
     "name": "stdout",
     "output_type": "stream",
     "text": [
      "octal -> decimal 9\n",
      "<class 'int'>\n",
      "348\n",
      "-------\n",
      "0o12\n"
     ]
    }
   ],
   "source": [
    "# 3. Octal\n",
    "print('octal -> decimal', 0o11)\n",
    "print(type(0o10))\n",
    "print(int('534',base=8))\n",
    "print('-------')\n",
    "print(oct(10))"
   ]
  },
  {
   "cell_type": "code",
   "execution_count": 13,
   "metadata": {},
   "outputs": [
    {
     "name": "stdout",
     "output_type": "stream",
     "text": [
      "hexadecimal -> decimal 11\n",
      "<class 'int'>\n",
      "41263\n",
      "41263\n",
      "---------\n",
      "0xa\n"
     ]
    }
   ],
   "source": [
    "# 4. Hexadecimal\n",
    "print('hexadecimal -> decimal', 0xb)\n",
    "print(type(0xb))\n",
    "print(int('A12f',base=16))\n",
    "print(int(0xA12f))\n",
    "print('---------')\n",
    "print(hex(10))"
   ]
  },
  {
   "cell_type": "code",
   "execution_count": 23,
   "metadata": {},
   "outputs": [
    {
     "name": "stdout",
     "output_type": "stream",
     "text": [
      "232\n"
     ]
    }
   ],
   "source": [
    "# Base 5\n",
    "print(int('1412',base=5))"
   ]
  },
  {
   "cell_type": "code",
   "execution_count": 9,
   "metadata": {},
   "outputs": [
    {
     "name": "stdout",
     "output_type": "stream",
     "text": [
      "10\n"
     ]
    },
    {
     "ename": "ValueError",
     "evalue": "invalid literal for int() with base 11: 'B'",
     "output_type": "error",
     "traceback": [
      "\u001b[1;31m---------------------------------------------------------------------------\u001b[0m",
      "\u001b[1;31mValueError\u001b[0m                                Traceback (most recent call last)",
      "\u001b[1;32m<ipython-input-9-6c7ef8f073ac>\u001b[0m in \u001b[0;36m<module>\u001b[1;34m\u001b[0m\n\u001b[0;32m      1\u001b[0m \u001b[1;31m# Base 10\u001b[0m\u001b[1;33m\u001b[0m\u001b[1;33m\u001b[0m\u001b[1;33m\u001b[0m\u001b[0m\n\u001b[0;32m      2\u001b[0m \u001b[0mprint\u001b[0m\u001b[1;33m(\u001b[0m\u001b[0mint\u001b[0m\u001b[1;33m(\u001b[0m\u001b[1;34m'A'\u001b[0m\u001b[1;33m,\u001b[0m\u001b[0mbase\u001b[0m\u001b[1;33m=\u001b[0m\u001b[1;36m11\u001b[0m\u001b[1;33m)\u001b[0m\u001b[1;33m)\u001b[0m\u001b[1;33m\u001b[0m\u001b[1;33m\u001b[0m\u001b[0m\n\u001b[1;32m----> 3\u001b[1;33m \u001b[0mprint\u001b[0m\u001b[1;33m(\u001b[0m\u001b[0mint\u001b[0m\u001b[1;33m(\u001b[0m\u001b[1;34m'B'\u001b[0m\u001b[1;33m,\u001b[0m\u001b[0mbase\u001b[0m\u001b[1;33m=\u001b[0m\u001b[1;36m11\u001b[0m\u001b[1;33m)\u001b[0m\u001b[1;33m)\u001b[0m\u001b[1;33m\u001b[0m\u001b[1;33m\u001b[0m\u001b[0m\n\u001b[0m",
      "\u001b[1;31mValueError\u001b[0m: invalid literal for int() with base 11: 'B'"
     ]
    }
   ],
   "source": [
    "# Base 11\n",
    "print(int('A',base=11))\n",
    "print(int('B',base=11))"
   ]
  },
  {
   "cell_type": "markdown",
   "metadata": {},
   "source": [
    "# Creating new Base"
   ]
  },
  {
   "cell_type": "code",
   "execution_count": 35,
   "metadata": {},
   "outputs": [],
   "source": [
    "def encode(digits):\n",
    "    digit_map='0123456789ABCDEFGHIJKLMNOPQRSTUVWXYZ'\n",
    "    if max(digits) >=len(digit_map):\n",
    "        raise ValueError('digit_map is not long enought')\n",
    "    \n",
    "    encoding = ''\n",
    "    for d in digits:    \n",
    "        encoding +=digit_map[d]\n",
    "    return encoding"
   ]
  },
  {
   "cell_type": "code",
   "execution_count": 64,
   "metadata": {},
   "outputs": [],
   "source": [
    "def from_base10(n,b):\n",
    "    if b<2 or b>36:\n",
    "        raise ValueError('Base must be between 2 and 36')\n",
    "    if n==0:\n",
    "        return [0]\n",
    "    sign = -1 if n<0 else 1\n",
    "    n*=sign\n",
    "    digits=[]\n",
    "    while n>0:\n",
    "        n,m = divmod(n,b)\n",
    "        digits.insert(0,m)\n",
    "    return ('-' if sign==-1 else '')+ encode(digits)"
   ]
  },
  {
   "cell_type": "code",
   "execution_count": 65,
   "metadata": {},
   "outputs": [
    {
     "data": {
      "text/plain": [
       "'100111010'"
      ]
     },
     "execution_count": 65,
     "metadata": {},
     "output_type": "execute_result"
    }
   ],
   "source": [
    "from_base10(314,2)"
   ]
  },
  {
   "cell_type": "code",
   "execution_count": 66,
   "metadata": {},
   "outputs": [
    {
     "data": {
      "text/plain": [
       "'-100111010'"
      ]
     },
     "execution_count": 66,
     "metadata": {},
     "output_type": "execute_result"
    }
   ],
   "source": [
    "from_base10(-314,2)"
   ]
  },
  {
   "cell_type": "code",
   "execution_count": 51,
   "metadata": {},
   "outputs": [
    {
     "data": {
      "text/plain": [
       "'D7B'"
      ]
     },
     "execution_count": 51,
     "metadata": {},
     "output_type": "execute_result"
    }
   ],
   "source": [
    "from_base10(3451,16)"
   ]
  },
  {
   "cell_type": "code",
   "execution_count": 67,
   "metadata": {},
   "outputs": [
    {
     "data": {
      "text/plain": [
       "'-D7B'"
      ]
     },
     "execution_count": 67,
     "metadata": {},
     "output_type": "execute_result"
    }
   ],
   "source": [
    "from_base10(-3451,16)"
   ]
  },
  {
   "cell_type": "code",
   "execution_count": 48,
   "metadata": {},
   "outputs": [
    {
     "data": {
      "text/plain": [
       "'AN'"
      ]
     },
     "execution_count": 48,
     "metadata": {},
     "output_type": "execute_result"
    }
   ],
   "source": [
    "from_base10(343,32)"
   ]
  },
  {
   "cell_type": "code",
   "execution_count": 68,
   "metadata": {},
   "outputs": [
    {
     "name": "stdout",
     "output_type": "stream",
     "text": [
      "<class 'float'>\n",
      "10.4\n",
      "the result was 0.129\n"
     ]
    }
   ],
   "source": [
    "# 5. Float\n",
    "print(type(3.1415))\n",
    "print(float(\"10.4\"))\n",
    "eg_float = 10.01\n",
    "# Float formatting\n",
    "print('the result was {r:0.3f}'.format(r = 100/777))"
   ]
  },
  {
   "cell_type": "markdown",
   "metadata": {},
   "source": [
    "# Fraction / Rational Number"
   ]
  },
  {
   "cell_type": "code",
   "execution_count": 69,
   "metadata": {},
   "outputs": [
    {
     "name": "stdout",
     "output_type": "stream",
     "text": [
      "22/7\n",
      "3.142857142857143\n",
      "3\n"
     ]
    }
   ],
   "source": [
    "from fractions import Fraction\n",
    "a = Fraction(22,7)\n",
    "print(a)\n",
    "print(float(a))\n",
    "print(int(a))"
   ]
  },
  {
   "cell_type": "markdown",
   "metadata": {},
   "source": [
    "* Constructor of fraction\n",
    "    - Fraction(numerator=0,denominator=1)\n",
    "    - Fraction(other_fraction)\n",
    "    - Fraction(float)\n",
    "    - Fraction(decimal)\n",
    "    - Fraction(string)"
   ]
  },
  {
   "cell_type": "code",
   "execution_count": 70,
   "metadata": {},
   "outputs": [
    {
     "data": {
      "text/plain": [
       "Fraction(3, 5)"
      ]
     },
     "execution_count": 70,
     "metadata": {},
     "output_type": "execute_result"
    }
   ],
   "source": [
    "# Reduced\n",
    "Fraction(6,10)"
   ]
  },
  {
   "cell_type": "code",
   "execution_count": 71,
   "metadata": {},
   "outputs": [
    {
     "data": {
      "text/plain": [
       "Fraction(-1, 4)"
      ]
     },
     "execution_count": 71,
     "metadata": {},
     "output_type": "execute_result"
    }
   ],
   "source": [
    "# negative\n",
    "Fraction(1,-4)"
   ]
  },
  {
   "cell_type": "code",
   "execution_count": 94,
   "metadata": {},
   "outputs": [
    {
     "name": "stdout",
     "output_type": "stream",
     "text": [
      "7/6\n",
      "1/6\n",
      "1/3\n",
      "4/3\n"
     ]
    }
   ],
   "source": [
    "x = Fraction(2,3)\n",
    "y = Fraction(1,2)\n",
    "print(x+y)\n",
    "print(x-y)\n",
    "print(x*y)\n",
    "print(x/y)"
   ]
  },
  {
   "cell_type": "code",
   "execution_count": 97,
   "metadata": {},
   "outputs": [
    {
     "name": "stdout",
     "output_type": "stream",
     "text": [
      "22\n",
      "7\n"
     ]
    }
   ],
   "source": [
    "x = Fraction(22,7)\n",
    "print(x.numerator)\n",
    "print(x.denominator)"
   ]
  },
  {
   "cell_type": "code",
   "execution_count": 75,
   "metadata": {},
   "outputs": [
    {
     "data": {
      "text/plain": [
       "Fraction(3, 4)"
      ]
     },
     "execution_count": 75,
     "metadata": {},
     "output_type": "execute_result"
    }
   ],
   "source": [
    "Fraction(0.75)"
   ]
  },
  {
   "cell_type": "code",
   "execution_count": 98,
   "metadata": {},
   "outputs": [
    {
     "name": "stdout",
     "output_type": "stream",
     "text": [
      "3.141592653589793\n"
     ]
    },
    {
     "data": {
      "text/plain": [
       "Fraction(884279719003555, 281474976710656)"
      ]
     },
     "execution_count": 98,
     "metadata": {},
     "output_type": "execute_result"
    }
   ],
   "source": [
    "import math\n",
    "x = Fraction(math.pi)\n",
    "print(float(x))\n",
    "x # they are appox equal"
   ]
  },
  {
   "cell_type": "code",
   "execution_count": 99,
   "metadata": {},
   "outputs": [
    {
     "name": "stdout",
     "output_type": "stream",
     "text": [
      "1.4142135623730951\n"
     ]
    },
    {
     "data": {
      "text/plain": [
       "Fraction(6369051672525773, 4503599627370496)"
      ]
     },
     "execution_count": 99,
     "metadata": {},
     "output_type": "execute_result"
    }
   ],
   "source": [
    "y = Fraction(math.sqrt(2))\n",
    "print(float(y))\n",
    "y# they are appox equal"
   ]
  },
  {
   "cell_type": "markdown",
   "metadata": {},
   "source": [
    "* Converting float to fraction has an important caveat\n",
    "    - 1/8 has float of 0.125\n",
    "    - but, 3/10 has not exact float representation"
   ]
  },
  {
   "cell_type": "code",
   "execution_count": 80,
   "metadata": {},
   "outputs": [
    {
     "data": {
      "text/plain": [
       "Fraction(5404319552844595, 18014398509481984)"
      ]
     },
     "execution_count": 80,
     "metadata": {},
     "output_type": "execute_result"
    }
   ],
   "source": [
    "Fraction(3/10)"
   ]
  },
  {
   "cell_type": "markdown",
   "metadata": {},
   "source": [
    "* Constraining the denominator\n",
    "    - Given a Fraction object, we can find an approximate equivalent fraction with a constrained denominator.\n",
    "    - using limit_denominator(max_denominator=1000000)"
   ]
  },
  {
   "cell_type": "code",
   "execution_count": 89,
   "metadata": {},
   "outputs": [
    {
     "name": "stdout",
     "output_type": "stream",
     "text": [
      "884279719003555/281474976710656 -> 3.141592653589793\n",
      "22/7 -> 3.142857142857143\n",
      "311/99 -> 3.1414141414141414\n",
      "355/113 -> 3.1415929203539825\n"
     ]
    }
   ],
   "source": [
    "x = Fraction(math.pi)\n",
    "print(x,'->',float(x))\n",
    "y = x.limit_denominator(10)\n",
    "print(y,'->',float(y))\n",
    "z = x.limit_denominator(100)\n",
    "print(z,'->',float(z))\n",
    "zz = x.limit_denominator(500)\n",
    "print(zz,'->',float(zz))"
   ]
  },
  {
   "cell_type": "code",
   "execution_count": 103,
   "metadata": {},
   "outputs": [
    {
     "name": "stdout",
     "output_type": "stream",
     "text": [
      "5404319552844595/18014398509481984\n",
      "0.3\n",
      "0.2999999999999999888977698\n"
     ]
    }
   ],
   "source": [
    "a = 0.3\n",
    "print(Fraction(a))\n",
    "print(a)\n",
    "print(format(a,'0.25f'))"
   ]
  }
 ],
 "metadata": {
  "kernelspec": {
   "display_name": "Python 3",
   "language": "python",
   "name": "python3"
  },
  "language_info": {
   "codemirror_mode": {
    "name": "ipython",
    "version": 3
   },
   "file_extension": ".py",
   "mimetype": "text/x-python",
   "name": "python",
   "nbconvert_exporter": "python",
   "pygments_lexer": "ipython3",
   "version": "3.10.12"
  },
  "orig_nbformat": 2
 },
 "nbformat": 4,
 "nbformat_minor": 2
}
