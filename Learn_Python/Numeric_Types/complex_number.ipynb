{
 "metadata": {
  "language_info": {
   "codemirror_mode": {
    "name": "ipython",
    "version": 3
   },
   "file_extension": ".py",
   "mimetype": "text/x-python",
   "name": "python",
   "nbconvert_exporter": "python",
   "pygments_lexer": "ipython3",
   "version": "3.8.5"
  },
  "orig_nbformat": 2,
  "kernelspec": {
   "name": "python385jvsc74a57bd0a456efd1d2e2bfa10bfdad488db5626e5f8bd233a0f11ae70ce0e7717a6a7d8d",
   "display_name": "Python 3.8.5 64-bit ('base': conda)"
  }
 },
 "nbformat": 4,
 "nbformat_minor": 2,
 "cells": [
  {
   "source": [
    "# The complex class"
   ],
   "cell_type": "markdown",
   "metadata": {}
  },
  {
   "source": [
    "* Constructor: complex(x,y)\n",
    "    - x -> real part\n",
    "    - y -> imaginary part\n",
    "* x ann y are stored as \"\"floats\"\""
   ],
   "cell_type": "markdown",
   "metadata": {}
  },
  {
   "cell_type": "code",
   "execution_count": 2,
   "metadata": {},
   "outputs": [
    {
     "output_type": "execute_result",
     "data": {
      "text/plain": [
       "True"
      ]
     },
     "metadata": {},
     "execution_count": 2
    }
   ],
   "source": [
    "a = complex(1,2)\n",
    "b = 1+2j\n",
    "a ==b"
   ]
  },
  {
   "source": [
    "# Some instance properties and methods\n",
    "* .real -> returns the real part\n",
    "* .imag -> returns the imaginary part\n",
    "* .conjugate() -> returns the complex conjugate"
   ],
   "cell_type": "markdown",
   "metadata": {}
  },
  {
   "cell_type": "code",
   "execution_count": 7,
   "metadata": {},
   "outputs": [
    {
     "output_type": "stream",
     "name": "stdout",
     "text": [
      "2.0\n-3.0\n(2+3j)\n"
     ]
    }
   ],
   "source": [
    "d = 2-3j\n",
    "print(d.real)\n",
    "print(d.imag)\n",
    "print(d.conjugate())"
   ]
  },
  {
   "source": [
    "# Arithmetic Operations\n",
    "# + , - , / , * , **"
   ],
   "cell_type": "markdown",
   "metadata": {}
  },
  {
   "cell_type": "code",
   "execution_count": 11,
   "metadata": {},
   "outputs": [
    {
     "output_type": "stream",
     "name": "stdout",
     "text": [
      "(11+10j)\n(-9-6j)\n(-6+28j)\n(0.1585365853658537+0.07317073170731708j)\n(0.10162518685520396-0.43309461918224995j)\n"
     ]
    }
   ],
   "source": [
    "a = 1 + 2j\n",
    "b = 10 + 8j\n",
    "print(a+b)\n",
    "print(a-b)\n",
    "print(a*b)\n",
    "print(a/b)\n",
    "print(a**b)"
   ]
  },
  {
   "cell_type": "code",
   "execution_count": 6,
   "metadata": {},
   "outputs": [
    {
     "output_type": "execute_result",
     "data": {
      "text/plain": [
       "(4+2j)"
      ]
     },
     "metadata": {},
     "execution_count": 6
    }
   ],
   "source": [
    "# Real and Complex numbers can be mixed.\n",
    "(1+2j) + 3\n"
   ]
  },
  {
   "source": [
    "- // and % are not supported\n",
    "- comparision operators < , > , <= , >= are not supported\n",
    "- == and != operators are supported but the problem is as float.\n",
    "- Functions in the math will not work\n",
    "- Use the cmath modules instead\n",
    "    - exponent\n",
    "    - logs\n",
    "    - trigs and inverse trigs\n",
    "    - hyperbolics and inverse hyperbolics\n",
    "    - isClose"
   ],
   "cell_type": "markdown",
   "metadata": {}
  },
  {
   "source": [],
   "cell_type": "markdown",
   "metadata": {}
  },
  {
   "cell_type": "code",
   "execution_count": 13,
   "metadata": {},
   "outputs": [
    {
     "output_type": "execute_result",
     "data": {
      "text/plain": [
       "'0.1000000000000000055511151'"
      ]
     },
     "metadata": {},
     "execution_count": 13
    }
   ],
   "source": [
    "a = 0.1j\n",
    "format(a.imag,'.25f')"
   ]
  },
  {
   "cell_type": "code",
   "execution_count": 14,
   "metadata": {},
   "outputs": [
    {
     "output_type": "execute_result",
     "data": {
      "text/plain": [
       "False"
      ]
     },
     "metadata": {},
     "execution_count": 14
    }
   ],
   "source": [
    "a+a+a == 0.3j"
   ]
  },
  {
   "cell_type": "code",
   "execution_count": 15,
   "metadata": {},
   "outputs": [
    {
     "output_type": "execute_result",
     "data": {
      "text/plain": [
       "'0.3000000000000000444089210'"
      ]
     },
     "metadata": {},
     "execution_count": 15
    }
   ],
   "source": [
    "format((a+a+a).imag,'.25f')"
   ]
  },
  {
   "cell_type": "code",
   "execution_count": 16,
   "metadata": {},
   "outputs": [
    {
     "output_type": "execute_result",
     "data": {
      "text/plain": [
       "'0.2999999999999999888977698'"
      ]
     },
     "metadata": {},
     "execution_count": 16
    }
   ],
   "source": [
    "format((0.3j).imag,'.25f')"
   ]
  },
  {
   "source": [
    "* same as float, complex works as same.\n",
    "* same approach to fix as float."
   ],
   "cell_type": "markdown",
   "metadata": {}
  },
  {
   "cell_type": "code",
   "execution_count": 18,
   "metadata": {},
   "outputs": [],
   "source": [
    "import math\n",
    "import cmath"
   ]
  },
  {
   "cell_type": "code",
   "execution_count": 20,
   "metadata": {},
   "outputs": [
    {
     "output_type": "execute_result",
     "data": {
      "text/plain": [
       "1.4142135623730951"
      ]
     },
     "metadata": {},
     "execution_count": 20
    }
   ],
   "source": [
    "math.sqrt(2)"
   ]
  },
  {
   "cell_type": "code",
   "execution_count": 24,
   "metadata": {},
   "outputs": [
    {
     "output_type": "stream",
     "name": "stdout",
     "text": [
      "3.141592653589793\n<class 'float'>\n"
     ]
    }
   ],
   "source": [
    "print(cmath.pi)\n",
    "print(type(cmath.pi))"
   ]
  },
  {
   "cell_type": "code",
   "execution_count": 26,
   "metadata": {},
   "outputs": [
    {
     "output_type": "stream",
     "name": "stdout",
     "text": [
      "(1.272019649514069+0.7861513777574233j)\n"
     ]
    }
   ],
   "source": [
    "a= 1 + 2j\n",
    "print(cmath.sqrt(a))"
   ]
  },
  {
   "cell_type": "code",
   "execution_count": 27,
   "metadata": {},
   "outputs": [
    {
     "output_type": "execute_result",
     "data": {
      "text/plain": [
       "1.1071487177940904"
      ]
     },
     "metadata": {},
     "execution_count": 27
    }
   ],
   "source": [
    "# as default complex number as stored as rectangular co-ordinate.\n",
    "# convert to polar-coordinate\n",
    "cmath.phase(a)"
   ]
  },
  {
   "cell_type": "code",
   "execution_count": 28,
   "metadata": {},
   "outputs": [
    {
     "output_type": "execute_result",
     "data": {
      "text/plain": [
       "2.23606797749979"
      ]
     },
     "metadata": {},
     "execution_count": 28
    }
   ],
   "source": [
    "abs(a)"
   ]
  },
  {
   "cell_type": "code",
   "execution_count": 29,
   "metadata": {},
   "outputs": [
    {
     "output_type": "execute_result",
     "data": {
      "text/plain": [
       "(1.0000000000000002+1.0000000000000002j)"
      ]
     },
     "metadata": {},
     "execution_count": 29
    }
   ],
   "source": [
    "# polar to rectangular\n",
    "cmath.rect(math.sqrt(2),math.pi/4)"
   ]
  }
 ]
}