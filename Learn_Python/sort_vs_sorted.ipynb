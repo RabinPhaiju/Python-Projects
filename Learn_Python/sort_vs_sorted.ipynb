{
 "metadata": {
  "language_info": {
   "codemirror_mode": {
    "name": "ipython",
    "version": 3
   },
   "file_extension": ".py",
   "mimetype": "text/x-python",
   "name": "python",
   "nbconvert_exporter": "python",
   "pygments_lexer": "ipython3",
   "version": "3.9.1-final"
  },
  "orig_nbformat": 2,
  "kernelspec": {
   "name": "python3",
   "display_name": "Python 3",
   "language": "python"
  }
 },
 "nbformat": 4,
 "nbformat_minor": 2,
 "cells": [
  {
   "source": [
    "## sorted vs sort\n",
    "- sorted: return a new collection, dont mutate\n",
    "- sort: dont return, mutate the collection.\n",
    "-\n",
    "- sort is slightly faster becuase it in-place sort. dont need to create new collection."
   ],
   "cell_type": "markdown",
   "metadata": {}
  },
  {
   "cell_type": "code",
   "execution_count": 3,
   "metadata": {},
   "outputs": [
    {
     "output_type": "stream",
     "name": "stdout",
     "text": [
      "['a', 'g', 'h', 'k', 'z']\n[1, 2, 3, 4, 6]\n"
     ]
    }
   ],
   "source": [
    "sort1 = ['a', 'z', 'g', 'k', 'h']\n",
    "sort2 = [1, 4, 6, 2, 3]\n",
    "sort1.sort() # modify the orignal list\n",
    "\n",
    "print(sort1)\n",
    "print(sorted(sort2)) # wont change the original list, return a new list.\n"
   ]
  }
 ]
}