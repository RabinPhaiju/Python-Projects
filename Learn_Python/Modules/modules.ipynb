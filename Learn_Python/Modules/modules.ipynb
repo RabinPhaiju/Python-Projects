{
 "metadata": {
  "language_info": {
   "codemirror_mode": {
    "name": "ipython",
    "version": 3
   },
   "file_extension": ".py",
   "mimetype": "text/x-python",
   "name": "python",
   "nbconvert_exporter": "python",
   "pygments_lexer": "ipython3",
   "version": "3.9.1"
  },
  "orig_nbformat": 2,
  "kernelspec": {
   "name": "python391jvsc74a57bd06dbcfa4acfde829108fd9fed7b4c7e3cf5b89483651b78d4b8e08d6c4461514a",
   "display_name": "Python 3.9.1 64-bit ('venv1': venv)"
  }
 },
 "nbformat": 4,
 "nbformat_minor": 2,
 "cells": [
  {
   "source": [
    "# Module\n",
    "- Module is object of certain data type.\n",
    "- Module is instance of ModuleType."
   ],
   "cell_type": "markdown",
   "metadata": {}
  },
  {
   "cell_type": "code",
   "execution_count": 4,
   "metadata": {},
   "outputs": [
    {
     "output_type": "execute_result",
     "data": {
      "text/plain": [
       "<module 'math' (built-in)>"
      ]
     },
     "metadata": {},
     "execution_count": 4
    }
   ],
   "source": [
    "import math # math is a module\n",
    "\n",
    "math"
   ]
  },
  {
   "cell_type": "code",
   "execution_count": 8,
   "metadata": {},
   "outputs": [
    {
     "output_type": "execute_result",
     "data": {
      "text/plain": [
       "<module 'math' (built-in)>"
      ]
     },
     "metadata": {},
     "execution_count": 8
    }
   ],
   "source": [
    "junk = math\n",
    "junk.sqrt(9)\n",
    "junk"
   ]
  },
  {
   "cell_type": "code",
   "execution_count": 11,
   "metadata": {},
   "outputs": [
    {
     "output_type": "execute_result",
     "data": {
      "text/plain": [
       "{'__name__': '__main__',\n",
       " '__doc__': 'Automatically created module for IPython interactive environment',\n",
       " '__package__': None,\n",
       " '__loader__': None,\n",
       " '__spec__': None,\n",
       " '__builtin__': <module 'builtins' (built-in)>,\n",
       " '__builtins__': <module 'builtins' (built-in)>,\n",
       " '_ih': ['',\n",
       "  'import math # math is a module\\n\\nmath',\n",
       "  'import math # math is a module\\n\\nprint(math)',\n",
       "  'import fractions\\n\\nfractions',\n",
       "  'import math # math is a module\\n\\nmath',\n",
       "  'globals()',\n",
       "  'junk = math\\njunk.sqrt(8)',\n",
       "  'junk = math\\njunk.sqrt(9)',\n",
       "  'junk = math\\njunk.sqrt(9)\\njunk',\n",
       "  \"globals['math']\",\n",
       "  \"globals()['math']\",\n",
       "  'globals()'],\n",
       " '_oh': {1: <module 'math' (built-in)>,\n",
       "  3: <module 'fractions' from 'C:\\\\Users\\\\rabin\\\\AppData\\\\Local\\\\Programs\\\\Python\\\\Python39\\\\lib\\\\fractions.py'>,\n",
       "  4: <module 'math' (built-in)>,\n",
       "  5: {...},\n",
       "  6: 2.8284271247461903,\n",
       "  7: 3.0,\n",
       "  8: <module 'math' (built-in)>,\n",
       "  10: <module 'math' (built-in)>},\n",
       " '_dh': ['C:\\\\Users\\\\rabin\\\\AppData\\\\Local\\\\Programs\\\\Microsoft VS Code',\n",
       "  'c:\\\\Users\\\\rabin\\\\Python_Projects\\\\Learn_Python\\\\Modules'],\n",
       " 'In': ['',\n",
       "  'import math # math is a module\\n\\nmath',\n",
       "  'import math # math is a module\\n\\nprint(math)',\n",
       "  'import fractions\\n\\nfractions',\n",
       "  'import math # math is a module\\n\\nmath',\n",
       "  'globals()',\n",
       "  'junk = math\\njunk.sqrt(8)',\n",
       "  'junk = math\\njunk.sqrt(9)',\n",
       "  'junk = math\\njunk.sqrt(9)\\njunk',\n",
       "  \"globals['math']\",\n",
       "  \"globals()['math']\",\n",
       "  'globals()'],\n",
       " 'Out': {1: <module 'math' (built-in)>,\n",
       "  3: <module 'fractions' from 'C:\\\\Users\\\\rabin\\\\AppData\\\\Local\\\\Programs\\\\Python\\\\Python39\\\\lib\\\\fractions.py'>,\n",
       "  4: <module 'math' (built-in)>,\n",
       "  5: {...},\n",
       "  6: 2.8284271247461903,\n",
       "  7: 3.0,\n",
       "  8: <module 'math' (built-in)>,\n",
       "  10: <module 'math' (built-in)>},\n",
       " 'get_ipython': <bound method InteractiveShell.get_ipython of <ipykernel.zmqshell.ZMQInteractiveShell object at 0x000001582AC47B80>>,\n",
       " 'exit': <IPython.core.autocall.ZMQExitAutocall at 0x1582ac4bd30>,\n",
       " 'quit': <IPython.core.autocall.ZMQExitAutocall at 0x1582ac4bd30>,\n",
       " '_': <module 'math' (built-in)>,\n",
       " '__': <module 'math' (built-in)>,\n",
       " '___': 3.0,\n",
       " 'sys': <module 'sys' (built-in)>,\n",
       " 'os': <module 'os' from 'C:\\\\Users\\\\rabin\\\\AppData\\\\Local\\\\Programs\\\\Python\\\\Python39\\\\lib\\\\os.py'>,\n",
       " '_i': \"globals()['math']\",\n",
       " '_ii': \"globals['math']\",\n",
       " '_iii': 'junk = math\\njunk.sqrt(9)\\njunk',\n",
       " '_i1': 'import math # math is a module\\n\\nmath',\n",
       " 'math': <module 'math' (built-in)>,\n",
       " '_1': <module 'math' (built-in)>,\n",
       " '_i2': 'import math # math is a module\\n\\nprint(math)',\n",
       " '_i3': 'import fractions\\n\\nfractions',\n",
       " 'fractions': <module 'fractions' from 'C:\\\\Users\\\\rabin\\\\AppData\\\\Local\\\\Programs\\\\Python\\\\Python39\\\\lib\\\\fractions.py'>,\n",
       " '_3': <module 'fractions' from 'C:\\\\Users\\\\rabin\\\\AppData\\\\Local\\\\Programs\\\\Python\\\\Python39\\\\lib\\\\fractions.py'>,\n",
       " '_rwho_ls': ['fractions', 'junk', 'math', 'os', 'sys'],\n",
       " '_i4': 'import math # math is a module\\n\\nmath',\n",
       " '_4': <module 'math' (built-in)>,\n",
       " '_i5': 'globals()',\n",
       " '_5': {...},\n",
       " '_i6': 'junk = math\\njunk.sqrt(8)',\n",
       " 'junk': <module 'math' (built-in)>,\n",
       " '_6': 2.8284271247461903,\n",
       " '_i7': 'junk = math\\njunk.sqrt(9)',\n",
       " '_7': 3.0,\n",
       " '_i8': 'junk = math\\njunk.sqrt(9)\\njunk',\n",
       " '_8': <module 'math' (built-in)>,\n",
       " '_i9': \"globals['math']\",\n",
       " '_i10': \"globals()['math']\",\n",
       " '_10': <module 'math' (built-in)>,\n",
       " '_i11': 'globals()'}"
      ]
     },
     "metadata": {},
     "execution_count": 11
    }
   ],
   "source": [
    "globals()"
   ]
  },
  {
   "cell_type": "code",
   "execution_count": 10,
   "metadata": {},
   "outputs": [
    {
     "output_type": "execute_result",
     "data": {
      "text/plain": [
       "<module 'math' (built-in)>"
      ]
     },
     "metadata": {},
     "execution_count": 10
    }
   ],
   "source": [
    "globals()['math']"
   ]
  },
  {
   "cell_type": "code",
   "execution_count": 12,
   "metadata": {},
   "outputs": [
    {
     "output_type": "execute_result",
     "data": {
      "text/plain": [
       "2.6457513110645907"
      ]
     },
     "metadata": {},
     "execution_count": 12
    }
   ],
   "source": [
    "mod_math = globals()['math']\n",
    "mod_math.sqrt(7)"
   ]
  },
  {
   "cell_type": "code",
   "execution_count": 14,
   "metadata": {},
   "outputs": [
    {
     "output_type": "execute_result",
     "data": {
      "text/plain": [
       "dict"
      ]
     },
     "metadata": {},
     "execution_count": 14
    }
   ],
   "source": [
    "type(globals())"
   ]
  },
  {
   "cell_type": "code",
   "execution_count": 20,
   "metadata": {},
   "outputs": [
    {
     "output_type": "execute_result",
     "data": {
      "text/plain": [
       "module"
      ]
     },
     "metadata": {},
     "execution_count": 20
    }
   ],
   "source": [
    "type(math)"
   ]
  },
  {
   "cell_type": "code",
   "execution_count": 18,
   "metadata": {},
   "outputs": [
    {
     "output_type": "execute_result",
     "data": {
      "text/plain": [
       "1478127593408"
      ]
     },
     "metadata": {},
     "execution_count": 18
    }
   ],
   "source": [
    "id(math)"
   ]
  },
  {
   "cell_type": "code",
   "execution_count": 19,
   "metadata": {},
   "outputs": [
    {
     "output_type": "execute_result",
     "data": {
      "text/plain": [
       "1478127593408"
      ]
     },
     "metadata": {},
     "execution_count": 19
    }
   ],
   "source": [
    "import math\n",
    "\n",
    "id(math)"
   ]
  },
  {
   "cell_type": "code",
   "execution_count": 21,
   "metadata": {},
   "outputs": [],
   "source": [
    "# it dont reload the module.\n",
    "# there is global cache.\n",
    "# when we load a module, it get loaded in memory and add refrence to globals().\n",
    "# but it also added to sys cache"
   ]
  },
  {
   "cell_type": "code",
   "execution_count": 24,
   "metadata": {},
   "outputs": [
    {
     "output_type": "execute_result",
     "data": {
      "text/plain": [
       "module"
      ]
     },
     "metadata": {},
     "execution_count": 24
    }
   ],
   "source": [
    "import sys\n",
    "\n",
    "type(sys)"
   ]
  },
  {
   "cell_type": "code",
   "execution_count": 27,
   "metadata": {},
   "outputs": [
    {
     "output_type": "stream",
     "name": "stdout",
     "text": [
      "<module 'math' (built-in)>\n"
     ]
    },
    {
     "output_type": "execute_result",
     "data": {
      "text/plain": [
       "1478127593408"
      ]
     },
     "metadata": {},
     "execution_count": 27
    }
   ],
   "source": [
    "m1 = sys.modules['math']\n",
    "print(m1)\n",
    "id(m1) # same id"
   ]
  },
  {
   "cell_type": "code",
   "execution_count": 28,
   "metadata": {},
   "outputs": [
    {
     "output_type": "execute_result",
     "data": {
      "text/plain": [
       "<function math.sqrt(x, /)>"
      ]
     },
     "metadata": {},
     "execution_count": 28
    }
   ],
   "source": [
    "f = math.__dict__['sqrt']\n",
    "f"
   ]
  },
  {
   "cell_type": "code",
   "execution_count": 30,
   "metadata": {},
   "outputs": [
    {
     "output_type": "execute_result",
     "data": {
      "text/plain": [
       "<module 'fractions' from 'C:\\\\Users\\\\rabin\\\\AppData\\\\Local\\\\Programs\\\\Python\\\\Python39\\\\lib\\\\fractions.py'>"
      ]
     },
     "metadata": {},
     "execution_count": 30
    }
   ],
   "source": [
    "import fractions\n",
    "\n",
    "fractions"
   ]
  },
  {
   "cell_type": "code",
   "execution_count": 32,
   "metadata": {},
   "outputs": [
    {
     "output_type": "execute_result",
     "data": {
      "text/plain": [
       "<module 'calendar' from 'C:\\\\Users\\\\rabin\\\\AppData\\\\Local\\\\Programs\\\\Python\\\\Python39\\\\lib\\\\calendar.py'>"
      ]
     },
     "metadata": {},
     "execution_count": 32
    }
   ],
   "source": [
    "import calendar\n",
    "\n",
    "calendar"
   ]
  },
  {
   "cell_type": "code",
   "execution_count": 37,
   "metadata": {},
   "outputs": [
    {
     "output_type": "execute_result",
     "data": {
      "text/plain": [
       "True"
      ]
     },
     "metadata": {},
     "execution_count": 37
    }
   ],
   "source": [
    "from types import ModuleType\n",
    "\n",
    "isinstance(fractions,ModuleType)"
   ]
  },
  {
   "cell_type": "code",
   "execution_count": 38,
   "metadata": {},
   "outputs": [
    {
     "output_type": "execute_result",
     "data": {
      "text/plain": [
       "True"
      ]
     },
     "metadata": {},
     "execution_count": 38
    }
   ],
   "source": [
    "isinstance(math,ModuleType)"
   ]
  },
  {
   "cell_type": "code",
   "execution_count": 35,
   "metadata": {},
   "outputs": [],
   "source": [
    "# We also can create a instance of ModuleType."
   ]
  },
  {
   "cell_type": "code",
   "execution_count": 41,
   "metadata": {},
   "outputs": [
    {
     "output_type": "execute_result",
     "data": {
      "text/plain": [
       "True"
      ]
     },
     "metadata": {},
     "execution_count": 41
    }
   ],
   "source": [
    "mod = ModuleType('test','This is a test module')\n",
    "\n",
    "isinstance(mod,ModuleType)"
   ]
  },
  {
   "cell_type": "code",
   "execution_count": 43,
   "metadata": {},
   "outputs": [
    {
     "output_type": "execute_result",
     "data": {
      "text/plain": [
       "{'__name__': 'test',\n",
       " '__doc__': 'This is a test module',\n",
       " '__package__': None,\n",
       " '__loader__': None,\n",
       " '__spec__': None,\n",
       " 'pi': 3.14}"
      ]
     },
     "metadata": {},
     "execution_count": 43
    }
   ],
   "source": [
    "mod.pi = 3.14\n",
    "\n",
    "mod.__dict__"
   ]
  },
  {
   "cell_type": "code",
   "execution_count": 49,
   "metadata": {},
   "outputs": [
    {
     "output_type": "execute_result",
     "data": {
      "text/plain": [
       "{'__name__': 'test',\n",
       " '__doc__': 'This is a test module',\n",
       " '__package__': None,\n",
       " '__loader__': None,\n",
       " '__spec__': None,\n",
       " 'pi': 3.14,\n",
       " 'hello': <function __main__.<lambda>()>}"
      ]
     },
     "metadata": {},
     "execution_count": 49
    }
   ],
   "source": [
    "mod.hello = lambda :\"Hello world\"\n",
    "\n",
    "mod.__dict__"
   ]
  },
  {
   "cell_type": "code",
   "execution_count": 51,
   "metadata": {},
   "outputs": [
    {
     "output_type": "execute_result",
     "data": {
      "text/plain": [
       "True"
      ]
     },
     "metadata": {},
     "execution_count": 51
    }
   ],
   "source": [
    "# to make a mod as module\n",
    "hello = mod.hello\n",
    "\n",
    "'mod' in globals()"
   ]
  },
  {
   "cell_type": "code",
   "execution_count": 52,
   "metadata": {},
   "outputs": [
    {
     "output_type": "execute_result",
     "data": {
      "text/plain": [
       "'Hello world'"
      ]
     },
     "metadata": {},
     "execution_count": 52
    }
   ],
   "source": [
    "hello()"
   ]
  },
  {
   "source": [
    "# How python loads Module"
   ],
   "cell_type": "markdown",
   "metadata": {}
  },
  {
   "source": [
    "- The first thing to note is that python is doing the import at run time. \n",
    "(while code is runing)\n",
    "- This is different from traditional compiled languages such as C,where modules are compiled and linked at compile time.\n",
    "- In both cases, though, the system needs to know where those code files exist.\n",
    "- Python use a relatively complex system of how to find and load modules.\n",
    "- The sys module has a few properties taht define where python is going to look for modules. (either builtt-in or standard loibary or 3rd party.)\n",
    "- "
   ],
   "cell_type": "markdown",
   "metadata": {}
  },
  {
   "cell_type": "code",
   "execution_count": 53,
   "metadata": {},
   "outputs": [
    {
     "output_type": "execute_result",
     "data": {
      "text/plain": [
       "['c:\\\\Users\\\\rabin\\\\Python_Projects\\\\Learn_Python\\\\Modules',\n",
       " 'c:\\\\Users\\\\rabin\\\\.vscode\\\\extensions\\\\ms-toolsai.jupyter-2021.6.832593372\\\\pythonFiles',\n",
       " 'c:\\\\Users\\\\rabin\\\\.vscode\\\\extensions\\\\ms-toolsai.jupyter-2021.6.832593372\\\\pythonFiles',\n",
       " 'c:\\\\Users\\\\rabin\\\\.vscode\\\\extensions\\\\ms-toolsai.jupyter-2021.6.832593372\\\\pythonFiles\\\\lib\\\\python',\n",
       " 'C:\\\\Users\\\\rabin\\\\AppData\\\\Local\\\\Programs\\\\Python\\\\Python39\\\\python39.zip',\n",
       " 'C:\\\\Users\\\\rabin\\\\AppData\\\\Local\\\\Programs\\\\Python\\\\Python39\\\\DLLs',\n",
       " 'C:\\\\Users\\\\rabin\\\\AppData\\\\Local\\\\Programs\\\\Python\\\\Python39\\\\lib',\n",
       " 'C:\\\\Users\\\\rabin\\\\AppData\\\\Local\\\\Programs\\\\Python\\\\Python39',\n",
       " 'c:\\\\Users\\\\rabin\\\\Python_Projects\\\\venv1',\n",
       " '',\n",
       " 'c:\\\\Users\\\\rabin\\\\Python_Projects\\\\venv1\\\\lib\\\\site-packages',\n",
       " 'c:\\\\Users\\\\rabin\\\\Python_Projects\\\\venv1\\\\lib\\\\site-packages\\\\win32',\n",
       " 'c:\\\\Users\\\\rabin\\\\Python_Projects\\\\venv1\\\\lib\\\\site-packages\\\\win32\\\\lib',\n",
       " 'c:\\\\Users\\\\rabin\\\\Python_Projects\\\\venv1\\\\lib\\\\site-packages\\\\Pythonwin',\n",
       " 'c:\\\\Users\\\\rabin\\\\Python_Projects\\\\venv1\\\\lib\\\\site-packages\\\\IPython\\\\extensions',\n",
       " 'C:\\\\Users\\\\rabin\\\\.ipython']"
      ]
     },
     "metadata": {},
     "execution_count": 53
    }
   ],
   "source": [
    "# Where does python look for imports?\n",
    "import sys\n",
    "\n",
    "sys.path"
   ]
  },
  {
   "source": [
    "- When we import a module, python will search for the modules in paths contains in sys.path.\n",
    "- If not found in those path, import fails."
   ],
   "cell_type": "markdown",
   "metadata": {}
  },
  {
   "source": [
    "### At high level. modules are imported as:\n",
    "- checks the sys.modules cache to see if the modules has already been imported. Of so it simply uses the reference in these.\n",
    "- Else, create a new module object.\n",
    "- loads the source code from file.\n",
    "- adds an entry to sys.module with name as key and the newly created."
   ],
   "cell_type": "markdown",
   "metadata": {}
  },
  {
   "source": [
    "### When the module is imported, the module code is executed."
   ],
   "cell_type": "markdown",
   "metadata": {}
  }
 ]
}