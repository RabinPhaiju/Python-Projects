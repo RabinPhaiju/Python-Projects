{
 "metadata": {
  "language_info": {
   "codemirror_mode": {
    "name": "ipython",
    "version": 3
   },
   "file_extension": ".py",
   "mimetype": "text/x-python",
   "name": "python",
   "nbconvert_exporter": "python",
   "pygments_lexer": "ipython3",
   "version": "3.9.1"
  },
  "orig_nbformat": 2,
  "kernelspec": {
   "name": "python391jvsc74a57bd06dbcfa4acfde829108fd9fed7b4c7e3cf5b89483651b78d4b8e08d6c4461514a",
   "display_name": "Python 3.9.1 64-bit ('venv1': venv)"
  }
 },
 "nbformat": 4,
 "nbformat_minor": 2,
 "cells": [
  {
   "source": [
    "# Import Variants and Common misconceptions"
   ],
   "cell_type": "markdown",
   "metadata": {}
  },
  {
   "source": [
    "### module1.py\n",
    "- ## import math\n",
    "\n",
    "### is math in sys.modules ?\n",
    "- if not,load it and insert Reference to sys.modules\n",
    "- add symbol math to module's global namespace Referencing the same object.\n",
    "\n",
    "- if math symbol already exists in module1's namespace, replace Reference"
   ],
   "cell_type": "markdown",
   "metadata": {}
  },
  {
   "source": [
    "### module1.py\n",
    "- ## import math as r_math\n",
    "\n",
    "### is math in sys.module?\n",
    "- if not, load it and insert ref\n",
    "\n",
    "### add symbol r_math to module1's global namespace referencing the same object.\n",
    "- here, r_math symbol in namespace\n",
    "- not math symbol.\n",
    "\n",
    "- if r_math symbol already exists in module1's namespace, replace reference. "
   ],
   "cell_type": "markdown",
   "metadata": {}
  },
  {
   "source": [
    "### module1.py\n",
    "- ## from math import sqrt\n",
    "\n",
    "### is math in sys.modules?\n",
    "- if not, load it and insert ref\n",
    "- add symbol sqrt to module1's global namespace referencing math.sqrt\n",
    "- math symbol is not in namespace\n",
    "- if sqrt symbol already exists in module1's namespace, replace reference."
   ],
   "cell_type": "markdown",
   "metadata": {}
  },
  {
   "source": [
    "### module1.py\n",
    "- ## from math import sqrt as r_sqrt\n",
    "\n",
    "### is math in sys.modules?\n",
    "- if, not load it and insert ref\n",
    "- add symbol r_sqrt to module1's global namespace referencing math.sqrt\n",
    "- math symbol is not in namespace\n",
    "- if r_sqrt symbol already exists in module1's namespace, replace reference."
   ],
   "cell_type": "markdown",
   "metadata": {}
  },
  {
   "source": [
    "### module1.py\n",
    "- ## from math import *\n",
    "\n",
    "### is math in sys.modules?\n",
    "- if, not load it and insert ref\n",
    "- add symbol \"all\" to module1's global namespace\n",
    "    - eg: pi,sin etc.\n",
    "- math symbol is not in namespace\n",
    "- if any symbol already exists in module1's namespace, replace reference."
   ],
   "cell_type": "markdown",
   "metadata": {}
  },
  {
   "source": [
    "# Misconception"
   ],
   "cell_type": "markdown",
   "metadata": {}
  },
  {
   "cell_type": "code",
   "execution_count": null,
   "metadata": {},
   "outputs": [],
   "source": [
    "# when we load a module\n",
    "from math import sqrt\n",
    "\n",
    "# did not 'partially load math\n",
    "# it has to load math module anyway.\n",
    "# it is loading entire math module. not only sqrt.\n",
    "# all we doing is , telling python what do we want to add to our module namespace.\n",
    "\n",
    "# Things may be different with packages, but for simple modules this is the behavior."
   ]
  },
  {
   "cell_type": "code",
   "execution_count": null,
   "metadata": {},
   "outputs": [],
   "source": [
    "# Why from <module> import * can lead to bugs\n",
    "from cmath import *\n",
    "# in module1.globals() we add sqrt of cmat.\n",
    "\n",
    "# and\n",
    "\n",
    "\n",
    "from math import *\n",
    "# when we import math module, it check the namespace and finds sqrt, it replace the cmath.sqrt with math.sqrt."
   ]
  },
  {
   "source": [
    "# Efficiency"
   ],
   "cell_type": "markdown",
   "metadata": {}
  },
  {
   "cell_type": "code",
   "execution_count": 1,
   "metadata": {},
   "outputs": [
    {
     "output_type": "execute_result",
     "data": {
      "text/plain": [
       "1.4142135623730951"
      ]
     },
     "metadata": {},
     "execution_count": 1
    }
   ],
   "source": [
    "import math\n",
    "\n",
    "from math import sqrt\n",
    "# same amout of work, \n",
    "# we shoud do for more readability.\n",
    "# It better to use:\n",
    "import math\n",
    "\n",
    "# and use\n",
    "\n",
    "math.sqrt(2)\n",
    "# here we can read that sqrt is of math module, not of other."
   ]
  }
 ]
}