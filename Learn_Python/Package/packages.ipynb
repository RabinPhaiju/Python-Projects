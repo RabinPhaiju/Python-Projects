{
 "metadata": {
  "language_info": {
   "codemirror_mode": {
    "name": "ipython",
    "version": 3
   },
   "file_extension": ".py",
   "mimetype": "text/x-python",
   "name": "python",
   "nbconvert_exporter": "python",
   "pygments_lexer": "ipython3",
   "version": 3
  },
  "orig_nbformat": 2
 },
 "nbformat": 4,
 "nbformat_minor": 2,
 "cells": [
  {
   "source": [
    "# Modules\n",
    "- ### Packages are modules. (but modules are not necessary Packages)\n",
    "- ### They can contain:\n",
    "    - modules\n",
    "    - packages (called sub-packages)\n",
    "- ### If a module is a package, it must have a value set for __path__\n",
    "    - __path__ (empty-> module, non-empty -> package)\n",
    "-\n",
    "- when a module named <module> is imported,\n",
    "  the interpreter first searches for a built-in module with that name.\n",
    "- if not found, it then searches for a file named module.py in a list\n",
    "  of directories given by the variables sys.path\n",
    "- print(sys.path)\n"
   ],
   "cell_type": "markdown",
   "metadata": {}
  },
  {
   "source": [
    "## Packages and File system\n",
    "- Module dont have to be entities in a file system (loader,finders)\n",
    "- By the same token, Packages do not have to be entities in the file system\n",
    "-\n",
    "- Packages represent a hierarchy of Module/Packages\n",
    "- eg: import pack1.mod1 || import pack1.pack1_1.mod_1\n",
    "- ### dotted notation indicated the path hierarchy of Modules/Packages"
   ],
   "cell_type": "markdown",
   "metadata": {}
  },
  {
   "source": [
    "## Importing Nested Packages\n",
    "- import pack1.pack1_1.module1\n",
    "-\n",
    "- The import system will perfomr these steps:\n",
    "    - import pack1\n",
    "    - import pack1.pack1_1\n",
    "    - import pack1.pack1_1.module1\n",
    "-\n",
    "- The sys.modules cache will contains entries for:\n",
    "    - import pack1\n",
    "    - import pack1.pack1_1\n",
    "    - import pack1.pack1_1.module1\n",
    "-\n",
    "- The namespace where the import was run contains:\n",
    "    - pack1"
   ],
   "cell_type": "markdown",
   "metadata": {}
  },
  {
   "source": [
    "## File Based Packages\n",
    "- a package is simply a module that can contain other modules/Packages\n",
    "- the directory name becomes the package name\n",
    "- so where does the code go for the package \n",
    "- ____init____.py\n",
    "-\n",
    "- ### to define a package in our file system:\n",
    "    - create a directory whose name will be the package name\n",
    "    - create a file called ____init____.py inside that directory\n",
    "\n",
    "- ### That ____init____.py file is what tells Python that the directory is a package as opposed to a standard directory."
   ],
   "cell_type": "markdown",
   "metadata": {}
  },
  {
   "source": [
    "# Why use Package?\n",
    "- code organization, ease of use...\n",
    "- if we have 50 diff function and classes.\n",
    "- api.py\n",
    "    - connect\n",
    "    - execute_no_result\n",
    "    - excute_single_row\n",
    "    - excute_multi_row\n",
    "    -\n",
    "    - normalize_string\n",
    "    - convert_str_to_bool\n",
    "    - format_iso_date\n",
    "    - current_time_utc\n",
    "    -\n",
    "    - authnticate\n",
    "    - validate_token\n",
    "    - get_permissions\n",
    "    - authorize_endpoint\n",
    "- Class:\n",
    "    - User\n",
    "    - UserProfile\n",
    "    - Users\n",
    "    -\n",
    "    - BlogPost\n",
    "    - BlogPosts\n",
    "    -\n",
    "    - RouteTable\n",
    "    - Configuration\n",
    "    -\n",
    "    - JsonEncoder\n",
    "    - UnitTest\n",
    "- all these things in one file, ????"
   ],
   "cell_type": "markdown",
   "metadata": {}
  },
  {
   "source": [
    "- Start with Modules..\n",
    "    - api/\n",
    "        - api.py\n",
    "        - dbutilities.py\n",
    "        - jsonutilities.py\n",
    "        - typeconversions.py\n",
    "        - validators.py\n",
    "        - authentication.py\n",
    "        - user.py\n",
    "        - blogspot.py\n",
    "        - logging.py\n",
    "        - unittest.py"
   ],
   "cell_type": "markdown",
   "metadata": {}
  },
  {
   "source": [
    "- packages\n",
    "    - api/\n",
    "        - utilities/\n",
    "            - ____init____.py\n",
    "        - database/\n",
    "            - ____init____.py\n",
    "            - connections.py\n",
    "            - queries.py\n",
    "        - json/\n",
    "            - ____init____.py\n",
    "            - encoders.py\n",
    "            - decoders.py\n",
    "        - security/\n",
    "            - ____init____.py\n",
    "            - authentication.py\n",
    "            - authorization.py\n",
    "        - models/\n",
    "            - ____init____.py\n",
    "            - user.py\n",
    "            - userprofile.py\n",
    "### Easier to navigate\n",
    "### Easier to write\n",
    "### Easier to test and debug\n",
    "### Easier to read/understand\n",
    "### Easier to document"
   ],
   "cell_type": "markdown",
   "metadata": {}
  },
  {
   "cell_type": "code",
   "execution_count": null,
   "metadata": {},
   "outputs": [],
   "source": []
  }
 ]
}