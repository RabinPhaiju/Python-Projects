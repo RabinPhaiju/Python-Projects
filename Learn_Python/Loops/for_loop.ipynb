{
 "metadata": {
  "language_info": {
   "codemirror_mode": {
    "name": "ipython",
    "version": 3
   },
   "file_extension": ".py",
   "mimetype": "text/x-python",
   "name": "python",
   "nbconvert_exporter": "python",
   "pygments_lexer": "ipython3",
   "version": "3.8.5"
  },
  "orig_nbformat": 2,
  "kernelspec": {
   "name": "python385jvsc74a57bd0a456efd1d2e2bfa10bfdad488db5626e5f8bd233a0f11ae70ce0e7717a6a7d8d",
   "display_name": "Python 3.8.5 64-bit ('base': conda)"
  }
 },
 "nbformat": 4,
 "nbformat_minor": 2,
 "cells": [
  {
   "source": [
    "# range(start, end, step)\n",
    "for i in range(5):\n",
    "    print(i)\n",
    "    if i==3:\n",
    "        break\n",
    "else:\n",
    "    print('loop completed')"
   ],
   "cell_type": "code",
   "metadata": {},
   "execution_count": 3,
   "outputs": [
    {
     "output_type": "stream",
     "name": "stdout",
     "text": [
      "0\n1\n2\n3\n"
     ]
    }
   ]
  },
  {
   "cell_type": "code",
   "execution_count": 3,
   "metadata": {},
   "outputs": [
    {
     "output_type": "stream",
     "name": "stdout",
     "text": [
      "0 ram\n1 shyam\n2 hari\n3 tari\n(0, 'ram')\n(1, 'shyam')\n(2, 'hari')\n(3, 'tari')\n"
     ]
    }
   ],
   "source": [
    "# enumerate\n",
    "persons = ['ram', 'shyam', 'hari', 'tari']\n",
    "for index, value in enumerate(persons):\n",
    "   print(index, value)\n",
    "for i in enumerate(persons):\n",
    "   print(i)"
   ]
  },
  {
   "cell_type": "code",
   "execution_count": 5,
   "metadata": {},
   "outputs": [
    {
     "output_type": "stream",
     "name": "stdout",
     "text": [
      "1 2\n3 4\n5 6\n"
     ]
    }
   ],
   "source": [
    "# Touple unpacking\n",
    "\n",
    "touple_list = [(1,2), (3,4), (5,6)]\n",
    "for (a,b) in touple_list:\n",
    "    print(a,b)"
   ]
  },
  {
   "cell_type": "code",
   "execution_count": 7,
   "metadata": {},
   "outputs": [
    {
     "output_type": "stream",
     "name": "stdout",
     "text": [
      "!cool\n!cool\n!cool\n!cool\n"
     ]
    }
   ],
   "source": [
    "# Undifined variable loop\n",
    "for _ in range(4):\n",
    "   print('!cool')"
   ]
  },
  {
   "cell_type": "code",
   "execution_count": 8,
   "metadata": {},
   "outputs": [
    {
     "output_type": "stream",
     "name": "stdout",
     "text": [
      "12\n15\n18\n"
     ]
    }
   ],
   "source": [
    "# zip -> loop multiple list at once\n",
    "\n",
    "for i,j,k in zip([1,2,3], [4,5,6], [7,8,9]):\n",
    "   print(i+j+k)"
   ]
  },
  {
   "cell_type": "code",
   "execution_count": 10,
   "metadata": {},
   "outputs": [
    {
     "output_type": "stream",
     "name": "stdout",
     "text": [
      "0\n1\n2\n3\n4\nfully executed\n"
     ]
    }
   ],
   "source": [
    "# for else -> else run after loop\n",
    "for i in range(5):\n",
    "   print(i)\n",
    "else:\n",
    "   print('fully executed')"
   ]
  },
  {
   "cell_type": "code",
   "execution_count": 11,
   "metadata": {},
   "outputs": [
    {
     "output_type": "stream",
     "name": "stdout",
     "text": [
      "[10, 9, 8, 7, 6]\n10\n9\n8\n7\n6\n"
     ]
    }
   ],
   "source": [
    "# Negative indexing\n",
    "print(list(range(10, 5, -1)))\n",
    "for i in range(10,5,-1):\n",
    "   print(i)"
   ]
  },
  {
   "source": [
    "## Nested Loop"
   ],
   "cell_type": "markdown",
   "metadata": {}
  },
  {
   "cell_type": "code",
   "execution_count": 14,
   "metadata": {},
   "outputs": [
    {
     "output_type": "stream",
     "name": "stdout",
     "text": [
      "[2, 20, 200, 4, 40, 400, 6, 60, 600]\n"
     ]
    }
   ],
   "source": [
    "mylist = [x*y for x in [2, 4, 6] for y in [1, 10, 100]]\n",
    "print(mylist)"
   ]
  },
  {
   "cell_type": "code",
   "execution_count": 15,
   "metadata": {},
   "outputs": [
    {
     "output_type": "stream",
     "name": "stdout",
     "text": [
      "[[1, 2], [1, 2], [1, 2], [1, 2]]\n"
     ]
    }
   ],
   "source": [
    "print([[j for j in range(1, 3)] for i in range(4)])"
   ]
  },
  {
   "cell_type": "code",
   "execution_count": 16,
   "metadata": {},
   "outputs": [
    {
     "output_type": "stream",
     "name": "stdout",
     "text": [
      "[[1, 2], [1, 2], [1, 2], [1, 2]]\n"
     ]
    }
   ],
   "source": [
    "print([list(range(1, 3)) for i in range(4)])"
   ]
  },
  {
   "cell_type": "code",
   "execution_count": 18,
   "metadata": {},
   "outputs": [
    {
     "output_type": "stream",
     "name": "stdout",
     "text": [
      "{0: {0: 0, 1: 1}, 1: {0: 0, 1: 1}, 2: {0: 0, 1: 1}, 3: {0: 0, 1: 1}, 4: {0: 0, 1: 1}}\n"
     ]
    }
   ],
   "source": [
    "print({i: {j: j for j in range(2)} for i in range(5)})"
   ]
  },
  {
   "cell_type": "code",
   "execution_count": 19,
   "metadata": {},
   "outputs": [
    {
     "output_type": "stream",
     "name": "stdout",
     "text": [
      "[{0: 0, 1: 1}, {0: 0, 1: 1}, {0: 0, 1: 1}, {0: 0, 1: 1}, {0: 0, 1: 1}, {0: 0, 1: 1}, {0: 0, 1: 1}, {0: 0, 1: 1}, {0: 0, 1: 1}, {0: 0, 1: 1}]\n"
     ]
    }
   ],
   "source": [
    "print([{j: j for j in range(2)} for i in range(10)])"
   ]
  },
  {
   "cell_type": "code",
   "execution_count": null,
   "metadata": {},
   "outputs": [],
   "source": []
  }
 ]
}