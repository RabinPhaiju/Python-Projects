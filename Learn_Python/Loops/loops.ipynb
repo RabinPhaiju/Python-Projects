{
 "metadata": {
  "language_info": {
   "codemirror_mode": {
    "name": "ipython",
    "version": 3
   },
   "file_extension": ".py",
   "mimetype": "text/x-python",
   "name": "python",
   "nbconvert_exporter": "python",
   "pygments_lexer": "ipython3",
   "version": "3.9.1-final"
  },
  "orig_nbformat": 2,
  "kernelspec": {
   "name": "python3",
   "display_name": "Python 3",
   "language": "python"
  }
 },
 "nbformat": 4,
 "nbformat_minor": 2,
 "cells": [
  {
   "source": [
    "### Loop manipulations(break, continue, else, ,pass)"
   ],
   "cell_type": "markdown",
   "metadata": {}
  },
  {
   "cell_type": "code",
   "execution_count": 3,
   "metadata": {},
   "outputs": [
    {
     "output_type": "stream",
     "name": "stdout",
     "text": [
      "gallahad the pure\nrobin the brave\n0 tic\n1 tac\n2 toe\n"
     ]
    }
   ],
   "source": [
    "# loop\n",
    "knights = {'gallahad': 'the pure', 'robin': 'the brave'}\n",
    "for k, v in knights.items():\n",
    "    print(k,v)\n",
    "\n",
    "for i, v in enumerate(['tic', 'tac', 'toe']):\n",
    "    print(i,v)"
   ]
  },
  {
   "cell_type": "code",
   "execution_count": 4,
   "metadata": {},
   "outputs": [
    {
     "output_type": "stream",
     "name": "stdout",
     "text": [
      "What is your name? It is lancelot.\nWhat is your quest? It is the holy grail.\nWhat is your favorite color? It is blue.\n"
     ]
    }
   ],
   "source": [
    "# Loop over two list at same time\n",
    "questions = ['name', 'quest', 'favorite color']\n",
    "answers = ['lancelot', 'the holy grail', 'blue']\n",
    "for q, a in zip(questions, answers):\n",
    "   print('What is your {0}? It is {1}.'.format(q, a))"
   ]
  },
  {
   "cell_type": "code",
   "execution_count": 5,
   "metadata": {},
   "outputs": [
    {
     "output_type": "stream",
     "name": "stdout",
     "text": [
      "9\n7\n5\n3\n1\n"
     ]
    }
   ],
   "source": [
    "# reversed loop\n",
    "for i in reversed(range(1, 10, 2)):\n",
    "    print(i)"
   ]
  },
  {
   "cell_type": "code",
   "execution_count": 6,
   "metadata": {},
   "outputs": [
    {
     "output_type": "stream",
     "name": "stdout",
     "text": [
      "1\n2\n3\n4\n5\n7\n"
     ]
    }
   ],
   "source": [
    "# sorted loop\n",
    "for i in sorted([3,5,4,2,7,1]):\n",
    "    print(i)"
   ]
  },
  {
   "cell_type": "code",
   "execution_count": 8,
   "metadata": {},
   "outputs": [
    {
     "output_type": "stream",
     "name": "stdout",
     "text": [
      "1\n2\n3\n4\n5\n6\n7\n"
     ]
    }
   ],
   "source": [
    "# sorted set with no duplicat\n",
    "for f in sorted(set([3,4,5,6,5,4,2,7,1])):\n",
    "    print(f)"
   ]
  },
  {
   "cell_type": "code",
   "execution_count": 11,
   "metadata": {},
   "outputs": [
    {
     "output_type": "execute_result",
     "data": {
      "text/plain": [
       "['rabin', 'sabin', 'ram']"
      ]
     },
     "metadata": {},
     "execution_count": 11
    }
   ],
   "source": [
    "# split\n",
    "name = \"rabin,sabin,ram\"\n",
    "names = name.split(\",\")\n",
    "names"
   ]
  },
  {
   "cell_type": "code",
   "execution_count": 17,
   "metadata": {},
   "outputs": [
    {
     "output_type": "stream",
     "name": "stdout",
     "text": [
      "['my', 'name', 'is', 'rabin']\n[['m'], ['y'], [' '], ['n'], ['a'], ['m'], ['e'], [' '], ['i'], ['s'], [' '], ['r'], ['a'], ['b'], ['i'], ['n']]\n"
     ]
    }
   ],
   "source": [
    "# Conversion\n",
    "# String to List of Strings\n",
    "sentence = 'my name is rabin'\n",
    "print(sentence.split())\n",
    "# List of Strings to List of Lists\n",
    "list1=list(map(list,sentence))\n",
    "print(list1)"
   ]
  },
  {
   "cell_type": "code",
   "execution_count": 18,
   "metadata": {},
   "outputs": [
    {
     "output_type": "execute_result",
     "data": {
      "text/plain": [
       "45"
      ]
     },
     "metadata": {},
     "execution_count": 18
    }
   ],
   "source": [
    "# sum the list\n",
    "sum([x for x in range(1,10)])"
   ]
  }
 ]
}