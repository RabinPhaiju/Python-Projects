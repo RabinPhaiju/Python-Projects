{
 "metadata": {
  "language_info": {
   "codemirror_mode": {
    "name": "ipython",
    "version": 3
   },
   "file_extension": ".py",
   "mimetype": "text/x-python",
   "name": "python",
   "nbconvert_exporter": "python",
   "pygments_lexer": "ipython3",
   "version": "3.8.5-final"
  },
  "orig_nbformat": 2,
  "kernelspec": {
   "name": "python3",
   "display_name": "Python 3",
   "language": "python"
  }
 },
 "nbformat": 4,
 "nbformat_minor": 2,
 "cells": [
  {
   "cell_type": "code",
   "execution_count": 12,
   "metadata": {},
   "outputs": [
    {
     "output_type": "stream",
     "name": "stdout",
     "text": [
      "24\n",
      "12\n"
     ]
    }
   ],
   "source": [
    "# simple calculator\n",
    "def calc(x,s,y):\n",
    "    return eval(f\"{x}{s}{y}\")\n",
    "\n",
    "continue_calc = True\n",
    "want_to_continue = 'n'\n",
    "\n",
    "while continue_calc:\n",
    "    if(want_to_continue!='y'):\n",
    "        first_num = int(input(\"Enter first number\"))\n",
    "    sign = input(\"Enter operation [ + , - , * , / ].\")\n",
    "    second_num = int(input(\"Enter second number\"))\n",
    "    if(want_to_continue=='y'):\n",
    "        ans = calc(ans,sign,second_num)\n",
    "    else:\n",
    "        ans = calc(first_num,sign,second_num)\n",
    "    print(ans)\n",
    "    want_to_continue = input(\"Enter y to continue with prev answer 'n' to exit\")\n",
    "    if(want_to_continue == 'n'):\n",
    "        continue_calc = False"
   ]
  },
  {
   "cell_type": "code",
   "execution_count": 21,
   "metadata": {},
   "outputs": [
    {
     "output_type": "stream",
     "name": "stdout",
     "text": [
      "Your card :  [10, 6]\n",
      "Your final hand:  [10, 6]\n",
      "Computer's final hand :  [6, 9]\n",
      "Your win\n",
      "Your card :  [1, 3]\n",
      "Your final hand:  [1, 3, 2]\n",
      "Computer's final hand :  [5, 8]\n",
      "You loose\n",
      "Your card :  [5, 7]\n",
      "Your final hand:  [5, 7, 5]\n",
      "Computer's final hand :  [2, 1]\n",
      "Your win\n",
      "Your card :  [1, 7]\n",
      "Your final hand:  [1, 7]\n",
      "Computer's final hand :  [1, 4]\n",
      "Your win\n",
      "Your card :  [9, 4]\n",
      "Your final hand:  [9, 4]\n",
      "Computer's final hand :  [2, 2]\n",
      "Your win\n"
     ]
    }
   ],
   "source": [
    "# Black Jack\n",
    "import random\n",
    "continue_play = True\n",
    "\n",
    "while continue_play:\n",
    "    your_card = []\n",
    "    comp_card = []\n",
    "    your_card.append(random.randint(1,10))\n",
    "    your_card.append(random.randint(1,10))\n",
    "    print('Your card : ',your_card)\n",
    "    comp_card.append(random.randint(1,10))\n",
    "    ans = input(\"Type 'y' to get another card, type 'n' to pass: \")\n",
    "    if ans == 'y':\n",
    "        your_card.append(random.randint(1,10))\n",
    "    comp_card.append(random.randint(1,10))\n",
    "    print('Your final hand: ',your_card)\n",
    "    print(\"Computer's final hand : \",comp_card)\n",
    "\n",
    "    if(sum(your_card)>sum(comp_card) and sum(your_card)<21):\n",
    "        print('Your win')\n",
    "    if(sum(your_card)==sum(comp_card) and sum(your_card)<21):\n",
    "        print('Draw')\n",
    "    else:\n",
    "        print('You loose')\n",
    "    want_to_continue = input(\" Do you want to play again: 'y' or 'n' \")\n",
    "    if want_to_continue == 'n':\n",
    "        continue_play = False"
   ]
  },
  {
   "cell_type": "code",
   "execution_count": null,
   "metadata": {},
   "outputs": [],
   "source": []
  }
 ]
}