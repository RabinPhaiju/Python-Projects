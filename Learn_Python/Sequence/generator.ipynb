{
 "metadata": {
  "language_info": {
   "codemirror_mode": {
    "name": "ipython",
    "version": 3
   },
   "file_extension": ".py",
   "mimetype": "text/x-python",
   "name": "python",
   "nbconvert_exporter": "python",
   "pygments_lexer": "ipython3",
   "version": "3.9.1"
  },
  "orig_nbformat": 2,
  "kernelspec": {
   "name": "python3",
   "display_name": "Python 3.9.1 64-bit ('venv1')"
  },
  "interpreter": {
   "hash": "6dbcfa4acfde829108fd9fed7b4c7e3cf5b89483651b78d4b8e08d6c4461514a"
  }
 },
 "nbformat": 4,
 "nbformat_minor": 2,
 "cells": [
  {
   "source": [
    "# Generator\n",
    "- a type of iterator/are iterators, they implement the iterator protocol.\n",
    "- Generator are ingerently laxy iterators (can be infinite)\n",
    "- Generator are iterators, and can be used in the same way (for loops, comprehension)\n",
    "- it can be exhausted, cannot be 'restored'\n",
    "- This leads to a bug, if we try to iterate twice over a generator.\n",
    "-\n",
    "### Generator Function\n",
    "- Generator factories-> they return a Generator when called\n",
    "- a function that uses the yield statement\n",
    "- generator function always returns an iterator.\n",
    "-\n",
    "### Generator expression:\n",
    "- uses comprehension syntax\n",
    "- a more concise way of creating Generators\n",
    "- like list comprehension, useful for simple situations."
   ],
   "cell_type": "markdown",
   "metadata": {}
  },
  {
   "source": [
    "## Yield\n",
    "- The yield keyword does exactly what we want:\n",
    "- It emits a value\n",
    "- the function is effectively suspended(but it retains it current state)\n",
    "- calling next on the function resumes running the function right after the yield statement\n",
    "- if function returns somethings instead if yielding -> StopIteration exception."
   ],
   "cell_type": "markdown",
   "metadata": {}
  },
  {
   "cell_type": "code",
   "execution_count": 18,
   "metadata": {},
   "outputs": [
    {
     "output_type": "execute_result",
     "data": {
      "text/plain": [
       "generator"
      ]
     },
     "metadata": {},
     "execution_count": 18
    }
   ],
   "source": [
    "def song():\n",
    "    print('line 1')\n",
    "    yield 'I am a lumberjack and i am OK'\n",
    "    print('line 2')\n",
    "    yield 'i sleep all night and i work all day'\n",
    "\n",
    "lines = song()\n",
    "type(lines)\n",
    "# calling a function, returns a genertaor object\n",
    "# the returned generator is executed by calling next()\n",
    "# the function body will execute untill it encourters a yield statement."
   ]
  },
  {
   "cell_type": "code",
   "execution_count": 19,
   "metadata": {},
   "outputs": [
    {
     "output_type": "stream",
     "name": "stdout",
     "text": [
      "line 1\n"
     ]
    },
    {
     "output_type": "execute_result",
     "data": {
      "text/plain": [
       "'I am a lumberjack and i am OK'"
      ]
     },
     "metadata": {},
     "execution_count": 19
    }
   ],
   "source": [
    "line = next(lines)\n",
    "line"
   ]
  },
  {
   "cell_type": "code",
   "execution_count": 20,
   "metadata": {},
   "outputs": [
    {
     "output_type": "stream",
     "name": "stdout",
     "text": [
      "line 2\n"
     ]
    },
    {
     "output_type": "execute_result",
     "data": {
      "text/plain": [
       "'i sleep all night and i work all day'"
      ]
     },
     "metadata": {},
     "execution_count": 20
    }
   ],
   "source": [
    "line = next(lines)\n",
    "line"
   ]
  },
  {
   "cell_type": "code",
   "execution_count": 21,
   "metadata": {},
   "outputs": [
    {
     "output_type": "error",
     "ename": "StopIteration",
     "evalue": "",
     "traceback": [
      "\u001b[1;31m---------------------------------------------------------------------------\u001b[0m",
      "\u001b[1;31mStopIteration\u001b[0m                             Traceback (most recent call last)",
      "\u001b[1;32m<ipython-input-21-f24a8ce29c98>\u001b[0m in \u001b[0;36m<module>\u001b[1;34m\u001b[0m\n\u001b[1;32m----> 1\u001b[1;33m \u001b[0mline\u001b[0m \u001b[1;33m=\u001b[0m \u001b[0mnext\u001b[0m\u001b[1;33m(\u001b[0m\u001b[0mlines\u001b[0m\u001b[1;33m)\u001b[0m\u001b[1;33m\u001b[0m\u001b[1;33m\u001b[0m\u001b[0m\n\u001b[0m\u001b[0;32m      2\u001b[0m \u001b[0mline\u001b[0m\u001b[1;33m\u001b[0m\u001b[1;33m\u001b[0m\u001b[0m\n",
      "\u001b[1;31mStopIteration\u001b[0m: "
     ]
    }
   ],
   "source": [
    "line = next(lines)\n",
    "line"
   ]
  },
  {
   "cell_type": "code",
   "execution_count": 19,
   "metadata": {},
   "outputs": [
    {
     "output_type": "execute_result",
     "data": {
      "text/plain": [
       "[1, 1, 2, 6, 24]"
      ]
     },
     "metadata": {},
     "execution_count": 19
    }
   ],
   "source": [
    "# Example using iterator\n",
    "import math\n",
    "class FactIter:\n",
    "    def __init__(self,n):\n",
    "        self.n = n\n",
    "        self.i = 0\n",
    "\n",
    "    def __iter__(self):\n",
    "        return self\n",
    "    \n",
    "    def __next__(self):\n",
    "        if self.i>=self.n:\n",
    "            raise StopIteration\n",
    "        else:\n",
    "            result = math.factorial(self.i)\n",
    "            self.i +=1\n",
    "            return result\n",
    "\n",
    "fact_iter = FactIter(5)\n",
    "list(fact_iter)"
   ]
  },
  {
   "cell_type": "code",
   "execution_count": 20,
   "metadata": {},
   "outputs": [
    {
     "output_type": "execute_result",
     "data": {
      "text/plain": [
       "[1, 1, 2, 6, 24]"
      ]
     },
     "metadata": {},
     "execution_count": 20
    }
   ],
   "source": [
    "# using closure\n",
    "import math\n",
    "def fact():\n",
    "    i = 0\n",
    "    def inner():\n",
    "        nonlocal i\n",
    "        result = math.factorial(i)\n",
    "        i +=1\n",
    "        return result\n",
    "    return inner\n",
    "\n",
    "fact_inter = iter(fact(),math.factorial(5))\n",
    "\n",
    "list(fact_inter)"
   ]
  },
  {
   "cell_type": "code",
   "execution_count": 21,
   "metadata": {},
   "outputs": [
    {
     "output_type": "execute_result",
     "data": {
      "text/plain": [
       "[1, 1, 2, 6, 24]"
      ]
     },
     "metadata": {},
     "execution_count": 21
    }
   ],
   "source": [
    "# using generator\n",
    "def factorails(n):\n",
    "    for i in range(n):\n",
    "        yield math.factorial(i)\n",
    "\n",
    "fact_gen = factorails(5)\n",
    "list(fact_gen)"
   ]
  },
  {
   "source": [
    "# Example - Fibonacci Sequence"
   ],
   "cell_type": "markdown",
   "metadata": {}
  },
  {
   "cell_type": "code",
   "execution_count": 4,
   "metadata": {},
   "outputs": [
    {
     "output_type": "stream",
     "name": "stdout",
     "text": [
      "[1, 1, 2, 3, 5, 8, 13, 21]\n"
     ]
    },
    {
     "output_type": "execute_result",
     "data": {
      "text/plain": [
       "4.314233899999863"
      ]
     },
     "metadata": {},
     "execution_count": 4
    }
   ],
   "source": [
    "# we can use recursive\n",
    "from timeit import timeit\n",
    "\n",
    "def fib_recursive(n):\n",
    "    if n<=1:\n",
    "        return 1\n",
    "    else:\n",
    "        return fib_recursive(n-1)+fib_recursive(n-2)\n",
    "\n",
    "print([fib_recursive(i) for i in range(8)])\n",
    "# it is fine if the number is small, what if the number of large output-> it is slow.\n",
    "timeit('fib_recursive(30)',globals=globals(),number=10)"
   ]
  },
  {
   "cell_type": "code",
   "execution_count": 5,
   "metadata": {},
   "outputs": [
    {
     "output_type": "stream",
     "name": "stdout",
     "text": [
      "[1, 1, 2, 3, 5, 8, 13, 21]\n1.950000000761065e-05\n"
     ]
    },
    {
     "output_type": "error",
     "ename": "RecursionError",
     "evalue": "maximum recursion depth exceeded in comparison",
     "traceback": [
      "\u001b[1;31m---------------------------------------------------------------------------\u001b[0m",
      "\u001b[1;31mRecursionError\u001b[0m                            Traceback (most recent call last)",
      "\u001b[1;32m<ipython-input-5-2fba7d2c7b61>\u001b[0m in \u001b[0;36m<module>\u001b[1;34m\u001b[0m\n\u001b[0;32m     12\u001b[0m \u001b[0mprint\u001b[0m\u001b[1;33m(\u001b[0m\u001b[0mtimeit\u001b[0m\u001b[1;33m(\u001b[0m\u001b[1;34m'fib_recursive_lru(30)'\u001b[0m\u001b[1;33m,\u001b[0m\u001b[0mglobals\u001b[0m\u001b[1;33m=\u001b[0m\u001b[0mglobals\u001b[0m\u001b[1;33m(\u001b[0m\u001b[1;33m)\u001b[0m\u001b[1;33m,\u001b[0m\u001b[0mnumber\u001b[0m\u001b[1;33m=\u001b[0m\u001b[1;36m10\u001b[0m\u001b[1;33m)\u001b[0m\u001b[1;33m)\u001b[0m\u001b[1;33m\u001b[0m\u001b[1;33m\u001b[0m\u001b[0m\n\u001b[0;32m     13\u001b[0m \u001b[1;31m# it now preety fast, but it still going to be prob. the depth of python. using lot of memory is not good.\u001b[0m\u001b[1;33m\u001b[0m\u001b[1;33m\u001b[0m\u001b[1;33m\u001b[0m\u001b[0m\n\u001b[1;32m---> 14\u001b[1;33m \u001b[0mfib_recursive_lru\u001b[0m\u001b[1;33m(\u001b[0m\u001b[1;36m2000\u001b[0m\u001b[1;33m)\u001b[0m\u001b[1;33m\u001b[0m\u001b[1;33m\u001b[0m\u001b[0m\n\u001b[0m\u001b[0;32m     15\u001b[0m \u001b[1;31m# The maximum recursion depth exceeded.\u001b[0m\u001b[1;33m\u001b[0m\u001b[1;33m\u001b[0m\u001b[1;33m\u001b[0m\u001b[0m\n",
      "\u001b[1;32m<ipython-input-5-2fba7d2c7b61>\u001b[0m in \u001b[0;36mfib_recursive_lru\u001b[1;34m(n)\u001b[0m\n\u001b[0;32m      7\u001b[0m         \u001b[1;32mreturn\u001b[0m \u001b[1;36m1\u001b[0m\u001b[1;33m\u001b[0m\u001b[1;33m\u001b[0m\u001b[0m\n\u001b[0;32m      8\u001b[0m     \u001b[1;32melse\u001b[0m\u001b[1;33m:\u001b[0m\u001b[1;33m\u001b[0m\u001b[1;33m\u001b[0m\u001b[0m\n\u001b[1;32m----> 9\u001b[1;33m         \u001b[1;32mreturn\u001b[0m \u001b[0mfib_recursive_lru\u001b[0m\u001b[1;33m(\u001b[0m\u001b[0mn\u001b[0m\u001b[1;33m-\u001b[0m\u001b[1;36m1\u001b[0m\u001b[1;33m)\u001b[0m\u001b[1;33m+\u001b[0m\u001b[0mfib_recursive_lru\u001b[0m\u001b[1;33m(\u001b[0m\u001b[0mn\u001b[0m\u001b[1;33m-\u001b[0m\u001b[1;36m2\u001b[0m\u001b[1;33m)\u001b[0m\u001b[1;33m\u001b[0m\u001b[1;33m\u001b[0m\u001b[0m\n\u001b[0m\u001b[0;32m     10\u001b[0m \u001b[1;33m\u001b[0m\u001b[0m\n\u001b[0;32m     11\u001b[0m \u001b[0mprint\u001b[0m\u001b[1;33m(\u001b[0m\u001b[1;33m[\u001b[0m\u001b[0mfib_recursive_lru\u001b[0m\u001b[1;33m(\u001b[0m\u001b[0mi\u001b[0m\u001b[1;33m)\u001b[0m \u001b[1;32mfor\u001b[0m \u001b[0mi\u001b[0m \u001b[1;32min\u001b[0m \u001b[0mrange\u001b[0m\u001b[1;33m(\u001b[0m\u001b[1;36m8\u001b[0m\u001b[1;33m)\u001b[0m\u001b[1;33m]\u001b[0m\u001b[1;33m)\u001b[0m\u001b[1;33m\u001b[0m\u001b[1;33m\u001b[0m\u001b[0m\n",
      "... last 1 frames repeated, from the frame below ...\n",
      "\u001b[1;32m<ipython-input-5-2fba7d2c7b61>\u001b[0m in \u001b[0;36mfib_recursive_lru\u001b[1;34m(n)\u001b[0m\n\u001b[0;32m      7\u001b[0m         \u001b[1;32mreturn\u001b[0m \u001b[1;36m1\u001b[0m\u001b[1;33m\u001b[0m\u001b[1;33m\u001b[0m\u001b[0m\n\u001b[0;32m      8\u001b[0m     \u001b[1;32melse\u001b[0m\u001b[1;33m:\u001b[0m\u001b[1;33m\u001b[0m\u001b[1;33m\u001b[0m\u001b[0m\n\u001b[1;32m----> 9\u001b[1;33m         \u001b[1;32mreturn\u001b[0m \u001b[0mfib_recursive_lru\u001b[0m\u001b[1;33m(\u001b[0m\u001b[0mn\u001b[0m\u001b[1;33m-\u001b[0m\u001b[1;36m1\u001b[0m\u001b[1;33m)\u001b[0m\u001b[1;33m+\u001b[0m\u001b[0mfib_recursive_lru\u001b[0m\u001b[1;33m(\u001b[0m\u001b[0mn\u001b[0m\u001b[1;33m-\u001b[0m\u001b[1;36m2\u001b[0m\u001b[1;33m)\u001b[0m\u001b[1;33m\u001b[0m\u001b[1;33m\u001b[0m\u001b[0m\n\u001b[0m\u001b[0;32m     10\u001b[0m \u001b[1;33m\u001b[0m\u001b[0m\n\u001b[0;32m     11\u001b[0m \u001b[0mprint\u001b[0m\u001b[1;33m(\u001b[0m\u001b[1;33m[\u001b[0m\u001b[0mfib_recursive_lru\u001b[0m\u001b[1;33m(\u001b[0m\u001b[0mi\u001b[0m\u001b[1;33m)\u001b[0m \u001b[1;32mfor\u001b[0m \u001b[0mi\u001b[0m \u001b[1;32min\u001b[0m \u001b[0mrange\u001b[0m\u001b[1;33m(\u001b[0m\u001b[1;36m8\u001b[0m\u001b[1;33m)\u001b[0m\u001b[1;33m]\u001b[0m\u001b[1;33m)\u001b[0m\u001b[1;33m\u001b[0m\u001b[1;33m\u001b[0m\u001b[0m\n",
      "\u001b[1;31mRecursionError\u001b[0m: maximum recursion depth exceeded in comparison"
     ]
    }
   ],
   "source": [
    "# we can use memoization.\n",
    "from functools import lru_cache\n",
    "\n",
    "@lru_cache\n",
    "def fib_recursive_lru(n):\n",
    "    if n<=1:\n",
    "        return 1\n",
    "    else:\n",
    "        return fib_recursive_lru(n-1)+fib_recursive_lru(n-2)\n",
    "\n",
    "print([fib_recursive_lru(i) for i in range(8)])\n",
    "print(timeit('fib_recursive_lru(30)',globals=globals(),number=10))\n",
    "# it now preety fast, but it still going to be prob. the depth of python. using lot of memory is not good.\n",
    "fib_recursive_lru(2000)\n",
    "# The maximum recursion depth exceeded."
   ]
  },
  {
   "cell_type": "code",
   "execution_count": 8,
   "metadata": {},
   "outputs": [
    {
     "output_type": "stream",
     "name": "stdout",
     "text": [
      "[1, 1, 2, 3, 5, 8, 13, 21]\n"
     ]
    },
    {
     "output_type": "error",
     "ename": "NameError",
     "evalue": "name 'timeit' is not defined",
     "traceback": [
      "\u001b[1;31m---------------------------------------------------------------------------\u001b[0m",
      "\u001b[1;31mNameError\u001b[0m                                 Traceback (most recent call last)",
      "\u001b[1;32m<ipython-input-8-303f73e4f31d>\u001b[0m in \u001b[0;36m<module>\u001b[1;34m\u001b[0m\n\u001b[0;32m      8\u001b[0m \u001b[1;33m\u001b[0m\u001b[0m\n\u001b[0;32m      9\u001b[0m \u001b[0mprint\u001b[0m\u001b[1;33m(\u001b[0m\u001b[1;33m[\u001b[0m\u001b[0mfib_loop\u001b[0m\u001b[1;33m(\u001b[0m\u001b[0mi\u001b[0m\u001b[1;33m)\u001b[0m \u001b[1;32mfor\u001b[0m \u001b[0mi\u001b[0m \u001b[1;32min\u001b[0m \u001b[0mrange\u001b[0m\u001b[1;33m(\u001b[0m\u001b[1;36m8\u001b[0m\u001b[1;33m)\u001b[0m\u001b[1;33m]\u001b[0m\u001b[1;33m)\u001b[0m\u001b[1;33m\u001b[0m\u001b[1;33m\u001b[0m\u001b[0m\n\u001b[1;32m---> 10\u001b[1;33m \u001b[0mprint\u001b[0m\u001b[1;33m(\u001b[0m\u001b[0mtimeit\u001b[0m\u001b[1;33m(\u001b[0m\u001b[1;34m'fib_recursive_lru(30)'\u001b[0m\u001b[1;33m,\u001b[0m\u001b[0mglobals\u001b[0m\u001b[1;33m=\u001b[0m\u001b[0mglobals\u001b[0m\u001b[1;33m(\u001b[0m\u001b[1;33m)\u001b[0m\u001b[1;33m,\u001b[0m\u001b[0mnumber\u001b[0m\u001b[1;33m=\u001b[0m\u001b[1;36m10\u001b[0m\u001b[1;33m)\u001b[0m\u001b[1;33m)\u001b[0m\u001b[1;33m\u001b[0m\u001b[1;33m\u001b[0m\u001b[0m\n\u001b[0m",
      "\u001b[1;31mNameError\u001b[0m: name 'timeit' is not defined"
     ]
    }
   ],
   "source": [
    "# Then we can use loops -> for\n",
    "def fib_loop(n):\n",
    "    f1 = 1\n",
    "    f2 = 1\n",
    "    for i in range(n):\n",
    "        f1,f2 = f2,f1+f2\n",
    "    return f1\n",
    "\n",
    "print([fib_loop(i) for i in range(8)])\n",
    "print(timeit('fib_loop(30)',globals=globals(),number=10))"
   ]
  },
  {
   "cell_type": "code",
   "execution_count": 9,
   "metadata": {},
   "outputs": [
    {
     "output_type": "stream",
     "name": "stdout",
     "text": [
      "[1, 1, 2, 3, 5, 8, 13, 21, 34]\n"
     ]
    }
   ],
   "source": [
    "# let use iterator in loop\n",
    "class FibIter:\n",
    "    def __init__(self,n):\n",
    "        self.n = n\n",
    "        self.i = 0\n",
    "\n",
    "    def __iter__(self):\n",
    "        return self\n",
    "    \n",
    "    def __next__(self):\n",
    "        if self.i>=self.n:\n",
    "            raise StopIteration\n",
    "        else:\n",
    "            result = fib_loop(self.i)\n",
    "            self.i+=1\n",
    "            return result\n",
    "fib_loop_class = FibIter(9)\n",
    "print([num for num in fib_loop_class])\n",
    "# now here, we have to write a class, just to print a fibonacci series. we can use generator to perform the same task, easier and faster."
   ]
  },
  {
   "cell_type": "code",
   "execution_count": 11,
   "metadata": {},
   "outputs": [],
   "source": [
    "# using yield\n",
    "def fib_gen(n):\n",
    "    i,j = 0,1\n",
    "    for _ in range(n):\n",
    "        i,j = j,i+j\n",
    "        yield i"
   ]
  },
  {
   "cell_type": "code",
   "execution_count": 12,
   "metadata": {},
   "outputs": [
    {
     "output_type": "execute_result",
     "data": {
      "text/plain": [
       "[1, 1, 2, 3, 5, 8, 13, 21, 34]"
      ]
     },
     "metadata": {},
     "execution_count": 12
    }
   ],
   "source": [
    "f= fib_gen(9)\n",
    "[f for f in f]"
   ]
  },
  {
   "cell_type": "code",
   "execution_count": 22,
   "metadata": {},
   "outputs": [
    {
     "output_type": "stream",
     "name": "stdout",
     "text": [
      "0.00915199999997185\n",
      "17.034362200000032\n",
      "4.800000056093268e-06\n"
     ]
    }
   ],
   "source": [
    "from timeit import timeit\n",
    "print(timeit('fib_loop(5000)',globals=globals(),number=10))\n",
    "print(timeit('list(FibIter(5000))',globals=globals(),number=10))\n",
    "print(timeit('fib_gen(5000)',globals=globals(),number=10))"
   ]
  },
  {
   "cell_type": "code",
   "execution_count": null,
   "metadata": {},
   "outputs": [],
   "source": [
    "# Here loop is faster, but, we need to call all values.\n",
    "# using class gives __iter__, but it is slower\n",
    "# using generator to yield or __iter__ is fast and convinent."
   ]
  },
  {
   "source": [
    "# Making a Iterable from a Generator\n",
    "- it can be exhausted, cannot be 'restored'\n",
    "- This leads to a bug, if we try to iterate twice over a generator."
   ],
   "cell_type": "markdown",
   "metadata": {}
  },
  {
   "cell_type": "code",
   "execution_count": 31,
   "metadata": {},
   "outputs": [
    {
     "output_type": "execute_result",
     "data": {
      "text/plain": [
       "[0, 1, 4, 9, 16]"
      ]
     },
     "metadata": {},
     "execution_count": 31
    }
   ],
   "source": [
    "# eg:\n",
    "def square(n):\n",
    "    for i in range(n):\n",
    "        yield i**2\n",
    "\n",
    "sq = square(5)\n",
    "list(sq)"
   ]
  },
  {
   "cell_type": "code",
   "execution_count": 27,
   "metadata": {},
   "outputs": [
    {
     "output_type": "stream",
     "name": "stdout",
     "text": [
      "0\n1\n"
     ]
    },
    {
     "output_type": "execute_result",
     "data": {
      "text/plain": [
       "[(0, 4), (1, 9), (2, 16)]"
      ]
     },
     "metadata": {},
     "execution_count": 27
    }
   ],
   "source": [
    "# This can lead us to unexpected behaviour sometimes.\n",
    "sq = square(5)\n",
    "\n",
    "# what if we want to enumerate the sq.\n",
    "enum1 = enumerate(sq) # enumerate is lazy-> hasn't iterated through 'sq' yet.\n",
    "print(next(sq))\n",
    "print(next(sq))\n",
    "list(enum1) # here enum1 is called here so, enumerator does know, that sq, starts with 2, with enumerate with 0."
   ]
  },
  {
   "cell_type": "code",
   "execution_count": 39,
   "metadata": {},
   "outputs": [
    {
     "output_type": "stream",
     "name": "stdout",
     "text": [
      "[0, 1, 4, 9, 16]\n[0, 1, 4, 9, 16]\n"
     ]
    }
   ],
   "source": [
    "# Making an iterator\n",
    "class Squares:\n",
    "    def __init__(self,n):\n",
    "        self.n = n\n",
    "    \n",
    "    def __iter__(self):\n",
    "        return square(self.n) # new instance of the generator\n",
    "\n",
    "sq = Squares(5)\n",
    "print(list(sq))\n",
    "print(list(sq))"
   ]
  },
  {
   "source": [
    "# Example : Card Deck"
   ],
   "cell_type": "markdown",
   "metadata": {}
  },
  {
   "cell_type": "code",
   "execution_count": 42,
   "metadata": {},
   "outputs": [],
   "source": [
    "from collections import namedtuple\n",
    "\n",
    "Card = namedtuple('Card','rand suit')\n",
    "\n",
    "SUITS = ('Spades','Hearts','Diamonds','Clubs')\n",
    "RANKS = tuple(range(2,11))+tuple('JQKA')"
   ]
  },
  {
   "cell_type": "code",
   "execution_count": 48,
   "metadata": {},
   "outputs": [
    {
     "output_type": "execute_result",
     "data": {
      "text/plain": [
       "[Card(rand=2, suit='Spades'),\n",
       " Card(rand=3, suit='Spades'),\n",
       " Card(rand=4, suit='Spades'),\n",
       " Card(rand=5, suit='Spades'),\n",
       " Card(rand=6, suit='Spades'),\n",
       " Card(rand=7, suit='Spades'),\n",
       " Card(rand=8, suit='Spades'),\n",
       " Card(rand=9, suit='Spades'),\n",
       " Card(rand=10, suit='Spades'),\n",
       " Card(rand='J', suit='Spades'),\n",
       " Card(rand='Q', suit='Spades'),\n",
       " Card(rand='K', suit='Spades')]"
      ]
     },
     "metadata": {},
     "execution_count": 48
    }
   ],
   "source": [
    "\"\"\"\n",
    "suit_index = card_index // len(RANKS)\n",
    "rand_index = card_index % len(RANKS)\n",
    "\"\"\"\n",
    "\n",
    "def card_gen():\n",
    "    for i in range(len(SUITS)*len(RANKS)):\n",
    "        suit = SUITS[i//len(RANKS)]\n",
    "        rank = RANKS[i%len(RANKS)]\n",
    "        card = Card(rank,suit)\n",
    "        yield card\n",
    "\n",
    "card1 = card_gen()\n",
    "list(card1)[0:12]"
   ]
  },
  {
   "cell_type": "code",
   "execution_count": 47,
   "metadata": {},
   "outputs": [
    {
     "output_type": "execute_result",
     "data": {
      "text/plain": [
       "[Card(rand=2, suit='Spades'),\n",
       " Card(rand=3, suit='Spades'),\n",
       " Card(rand=4, suit='Spades'),\n",
       " Card(rand=5, suit='Spades'),\n",
       " Card(rand=6, suit='Spades'),\n",
       " Card(rand=7, suit='Spades'),\n",
       " Card(rand=8, suit='Spades'),\n",
       " Card(rand=9, suit='Spades'),\n",
       " Card(rand=10, suit='Spades'),\n",
       " Card(rand='J', suit='Spades'),\n",
       " Card(rand='Q', suit='Spades'),\n",
       " Card(rand='K', suit='Spades')]"
      ]
     },
     "metadata": {},
     "execution_count": 47
    }
   ],
   "source": [
    "def card_gen():\n",
    "    for suit in SUITS:\n",
    "        for rank in RANKS:\n",
    "            yield Card(rank,suit)\n",
    "\n",
    "card1 = card_gen()\n",
    "list(card1)[0:12]"
   ]
  },
  {
   "cell_type": "code",
   "execution_count": 62,
   "metadata": {},
   "outputs": [],
   "source": [
    "class CardDeck:\n",
    "    SUITS = ('Spaces','Hearts','Diamonds','Clubs')\n",
    "    RANKS = tuple(range(2,11))+tuple('JQKA')\n",
    "\n",
    "    def __iter__(self):\n",
    "        return CardDeck.card_gen(self)\n",
    "    \n",
    "    def __reversed__(self):\n",
    "        return CardDeck.reversed_card_gen(self)\n",
    "\n",
    "    @staticmethod\n",
    "    def card_gen(self):\n",
    "        for suit in self.SUITS:\n",
    "            for rank in self.RANKS:\n",
    "                yield Card(rank,suit)\n",
    "\n",
    "    @staticmethod\n",
    "    def reversed_card_gen(self):\n",
    "        for suit in self.SUITS[::-1]:\n",
    "            for rank in self.RANKS[::-1]:\n",
    "                yield Card(rank,suit)"
   ]
  },
  {
   "cell_type": "code",
   "execution_count": 64,
   "metadata": {},
   "outputs": [
    {
     "output_type": "execute_result",
     "data": {
      "text/plain": [
       "[Card(rand=2, suit='Spaces'),\n",
       " Card(rand=3, suit='Spaces'),\n",
       " Card(rand=4, suit='Spaces'),\n",
       " Card(rand=5, suit='Spaces'),\n",
       " Card(rand=6, suit='Spaces'),\n",
       " Card(rand=7, suit='Spaces'),\n",
       " Card(rand=8, suit='Spaces'),\n",
       " Card(rand=9, suit='Spaces'),\n",
       " Card(rand=10, suit='Spaces'),\n",
       " Card(rand='J', suit='Spaces'),\n",
       " Card(rand='Q', suit='Spaces')]"
      ]
     },
     "metadata": {},
     "execution_count": 64
    }
   ],
   "source": [
    "deck = CardDeck()\n",
    "list(deck)[0:11]"
   ]
  },
  {
   "cell_type": "code",
   "execution_count": 60,
   "metadata": {},
   "outputs": [
    {
     "output_type": "execute_result",
     "data": {
      "text/plain": [
       "[Card(rand=2, suit='Spaces'),\n",
       " Card(rand=3, suit='Spaces'),\n",
       " Card(rand=4, suit='Spaces'),\n",
       " Card(rand=5, suit='Spaces'),\n",
       " Card(rand=6, suit='Spaces'),\n",
       " Card(rand=7, suit='Spaces'),\n",
       " Card(rand=8, suit='Spaces'),\n",
       " Card(rand=9, suit='Spaces'),\n",
       " Card(rand=10, suit='Spaces'),\n",
       " Card(rand='J', suit='Spaces'),\n",
       " Card(rand='Q', suit='Spaces')]"
      ]
     },
     "metadata": {},
     "execution_count": 60
    }
   ],
   "source": [
    "list(deck)[0:11] # now we can call as many time we want."
   ]
  },
  {
   "cell_type": "code",
   "execution_count": 66,
   "metadata": {},
   "outputs": [
    {
     "output_type": "execute_result",
     "data": {
      "text/plain": [
       "[Card(rand='A', suit='Clubs'),\n",
       " Card(rand='K', suit='Clubs'),\n",
       " Card(rand='Q', suit='Clubs'),\n",
       " Card(rand='J', suit='Clubs'),\n",
       " Card(rand=10, suit='Clubs'),\n",
       " Card(rand=9, suit='Clubs'),\n",
       " Card(rand=8, suit='Clubs'),\n",
       " Card(rand=7, suit='Clubs'),\n",
       " Card(rand=6, suit='Clubs'),\n",
       " Card(rand=5, suit='Clubs'),\n",
       " Card(rand=4, suit='Clubs')]"
      ]
     },
     "metadata": {},
     "execution_count": 66
    }
   ],
   "source": [
    "list(reversed(deck))[0:11]"
   ]
  },
  {
   "source": [
    "# Generator Expressions: and Performance.\n",
    "- it uses the same syntax as list comprehensions syntax-> including nesting, if\n",
    "- instead of [], we Use ()\n",
    "- instead of returning list, it return generator\n",
    "-\n",
    "- instead if evaluation is eagar, it evaluation is lazy\n",
    "- instead of iterable, it is iterator.\n",
    "- instead of creating object right away, they are delayed untill requested.\n",
    "- list comprehensions takes longer to create/return the list,so iteartion is faster(object already created)\n",
    "- generator is createdretuned immediately. iteartion is slower(object need to be created)\n",
    "- instead of loadint entire collection to memory, it only load only a single item.\n",
    "    - #### generator dont take all memory at a time, it uses memory when they are called.\n",
    "    - if we have a huge file, and done list comprehensions, it will aquire more memory. in this type of context, it better to use generators.\n",
    "-\n",
    "- ## Performance\n",
    "    - If you iterate through all the elements -> time Performance is about to same\n",
    "    - but, if you dont iterate through all the elements-> generator is more efficient.\n",
    "    - if we, just have to access certain no of transaction from database, instead of loading whole transaction."
   ],
   "cell_type": "markdown",
   "metadata": {}
  },
  {
   "cell_type": "code",
   "execution_count": 71,
   "metadata": {},
   "outputs": [
    {
     "output_type": "stream",
     "name": "stdout",
     "text": [
      "<class 'list'>\n"
     ]
    },
    {
     "output_type": "execute_result",
     "data": {
      "text/plain": [
       "[0, 1, 4, 9, 16]"
      ]
     },
     "metadata": {},
     "execution_count": 71
    }
   ],
   "source": [
    "# list comprehension\n",
    "l = [ i**2 for i in range(5)]\n",
    "print(type(l))\n",
    "l"
   ]
  },
  {
   "cell_type": "code",
   "execution_count": 76,
   "metadata": {},
   "outputs": [
    {
     "output_type": "stream",
     "name": "stdout",
     "text": [
      "<class 'generator'>\n"
     ]
    },
    {
     "output_type": "execute_result",
     "data": {
      "text/plain": [
       "[0, 1, 4, 9, 16]"
      ]
     },
     "metadata": {},
     "execution_count": 76
    }
   ],
   "source": [
    "# generator\n",
    "l = ( i**2 for i in range(5))\n",
    "print(type(l))\n",
    "list(l)"
   ]
  },
  {
   "cell_type": "code",
   "execution_count": 78,
   "metadata": {},
   "outputs": [
    {
     "output_type": "execute_result",
     "data": {
      "text/plain": [
       "[[1, 2, 3, 4, 5, 6, 7, 8, 9, 10],\n",
       " [2, 4, 6, 8, 10, 12, 14, 16, 18, 20],\n",
       " [3, 6, 9, 12, 15, 18, 21, 24, 27, 30],\n",
       " [4, 8, 12, 16, 20, 24, 28, 32, 36, 40],\n",
       " [5, 10, 15, 20, 25, 30, 35, 40, 45, 50],\n",
       " [6, 12, 18, 24, 30, 36, 42, 48, 54, 60],\n",
       " [7, 14, 21, 28, 35, 42, 49, 56, 63, 70],\n",
       " [8, 16, 24, 32, 40, 48, 56, 64, 72, 80],\n",
       " [9, 18, 27, 36, 45, 54, 63, 72, 81, 90],\n",
       " [10, 20, 30, 40, 50, 60, 70, 80, 90, 100]]"
      ]
     },
     "metadata": {},
     "execution_count": 78
    }
   ],
   "source": [
    "# multiple list using list comprehension\n",
    "start = 1\n",
    "stop = 10\n",
    "multi_list = [[i*j for i in range(start,stop+1)] for j in range(start,stop+1)]\n",
    "multi_list"
   ]
  },
  {
   "cell_type": "code",
   "execution_count": 91,
   "metadata": {},
   "outputs": [
    {
     "output_type": "stream",
     "name": "stdout",
     "text": [
      "<generator object <genexpr> at 0x000001A0A71B4580>\n(1, 2, 3, 4, 5, 6, 7, 8, 9, 10)\n(2, 4, 6, 8, 10, 12, 14, 16, 18, 20)\n(3, 6, 9, 12, 15, 18, 21, 24, 27, 30)\n(4, 8, 12, 16, 20, 24, 28, 32, 36, 40)\n(5, 10, 15, 20, 25, 30, 35, 40, 45, 50)\n(6, 12, 18, 24, 30, 36, 42, 48, 54, 60)\n(7, 14, 21, 28, 35, 42, 49, 56, 63, 70)\n(8, 16, 24, 32, 40, 48, 56, 64, 72, 80)\n(9, 18, 27, 36, 45, 54, 63, 72, 81, 90)\n(10, 20, 30, 40, 50, 60, 70, 80, 90, 100)\n"
     ]
    }
   ],
   "source": [
    "# multiple list using generator comprehension\n",
    "start = 1\n",
    "stop = 10\n",
    "multi_list = ((i*j for i in range(start,stop+1)) for j in range(start,stop+1))\n",
    "print(multi_list)\n",
    "\n",
    "for i in multi_list:\n",
    "    print(tuple(i))"
   ]
  },
  {
   "source": [
    "# Yield From"
   ],
   "cell_type": "markdown",
   "metadata": {}
  },
  {
   "cell_type": "code",
   "execution_count": 97,
   "metadata": {},
   "outputs": [],
   "source": [
    "def matrix(n):\n",
    "    gen = ((i*j for j in range(1,n+1)) for i in range(1,n+1))\n",
    "    return gen"
   ]
  },
  {
   "cell_type": "code",
   "execution_count": 98,
   "metadata": {},
   "outputs": [
    {
     "output_type": "stream",
     "name": "stdout",
     "text": [
      "1\n2\n3\n2\n4\n6\n3\n6\n9\n"
     ]
    }
   ],
   "source": [
    "def matrix_iterator(n):\n",
    "    for row in matrix(n):\n",
    "        for item in row:\n",
    "            yield item\n",
    "\n",
    "for item in matrix_iterator(3):\n",
    "    print(item)"
   ]
  },
  {
   "cell_type": "code",
   "execution_count": 99,
   "metadata": {},
   "outputs": [
    {
     "output_type": "stream",
     "name": "stdout",
     "text": [
      "1\n2\n3\n2\n4\n6\n3\n6\n9\n"
     ]
    }
   ],
   "source": [
    "#using yield from\n",
    "\n",
    "def matrix_iterator(n):\n",
    "    for row in matrix(n):\n",
    "        yield from row\n",
    "\n",
    "for item in matrix_iterator(3):\n",
    "    print(item)"
   ]
  }
 ]
}