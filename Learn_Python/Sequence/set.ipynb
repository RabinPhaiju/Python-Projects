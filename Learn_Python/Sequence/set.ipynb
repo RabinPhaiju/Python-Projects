{
 "cells": [
  {
   "cell_type": "code",
   "execution_count": 1,
   "metadata": {},
   "outputs": [
    {
     "data": {
      "text/plain": [
       "{'d', 'r'}"
      ]
     },
     "execution_count": 1,
     "metadata": {},
     "output_type": "execute_result"
    }
   ],
   "source": [
    "# sets ->mutable\n",
    "# set is an unordered collection with no duplicate elements.\n",
    "{x for x in 'abracadabra' if x not in 'abc'}"
   ]
  },
  {
   "cell_type": "code",
   "execution_count": 3,
   "metadata": {},
   "outputs": [
    {
     "data": {
      "text/plain": [
       "set()"
      ]
     },
     "execution_count": 3,
     "metadata": {},
     "output_type": "execute_result"
    }
   ],
   "source": [
    "# empty set\n",
    "a = set()\n",
    "a"
   ]
  },
  {
   "cell_type": "code",
   "execution_count": 5,
   "metadata": {},
   "outputs": [
    {
     "ename": "TypeError",
     "evalue": "'set' object is not subscriptable",
     "output_type": "error",
     "traceback": [
      "\u001b[1;31m---------------------------------------------------------------------------\u001b[0m",
      "\u001b[1;31mTypeError\u001b[0m                                 Traceback (most recent call last)",
      "\u001b[1;32m<ipython-input-5-da04ef341b3e>\u001b[0m in \u001b[0;36m<module>\u001b[1;34m\u001b[0m\n\u001b[0;32m      2\u001b[0m \u001b[1;33m\u001b[0m\u001b[0m\n\u001b[0;32m      3\u001b[0m \u001b[0ma\u001b[0m\u001b[1;33m.\u001b[0m\u001b[0madd\u001b[0m\u001b[1;33m(\u001b[0m\u001b[1;34m'text'\u001b[0m\u001b[1;33m)\u001b[0m\u001b[1;33m\u001b[0m\u001b[1;33m\u001b[0m\u001b[0m\n\u001b[1;32m----> 4\u001b[1;33m \u001b[0ma\u001b[0m\u001b[1;33m[\u001b[0m\u001b[1;36m0\u001b[0m\u001b[1;33m]\u001b[0m\u001b[1;33m\u001b[0m\u001b[1;33m\u001b[0m\u001b[0m\n\u001b[0m",
      "\u001b[1;31mTypeError\u001b[0m: 'set' object is not subscriptable"
     ]
    }
   ],
   "source": [
    "# add item in set\n",
    "\n",
    "a.add('text')\n",
    "a[0]"
   ]
  },
  {
   "cell_type": "code",
   "execution_count": 7,
   "metadata": {},
   "outputs": [
    {
     "data": {
      "text/plain": [
       "{'text'}"
      ]
     },
     "execution_count": 7,
     "metadata": {},
     "output_type": "execute_result"
    }
   ],
   "source": [
    "# delete from set\n",
    "a.discard('name')\n",
    "a"
   ]
  },
  {
   "cell_type": "code",
   "execution_count": 8,
   "metadata": {},
   "outputs": [
    {
     "data": {
      "text/plain": [
       "['shyam', 2, 3]"
      ]
     },
     "execution_count": 8,
     "metadata": {},
     "output_type": "execute_result"
    }
   ],
   "source": [
    "# get common element from lists\n",
    "\n",
    "list1 = [\"ram\",\"shyam\",1,2,3,\"hari\"]\n",
    "list2 = [\"shyam\",2,3,10]\n",
    "list(set(list1) & set(list2))"
   ]
  },
  {
   "cell_type": "code",
   "execution_count": 9,
   "metadata": {},
   "outputs": [
    {
     "name": "stdout",
     "output_type": "stream",
     "text": [
      "True\n"
     ]
    }
   ],
   "source": [
    "# unordered\n",
    "# - set have no indexing\n",
    "print({1,2,3}=={2,1,3})"
   ]
  },
  {
   "cell_type": "markdown",
   "metadata": {},
   "source": [
    "### Methods\n",
    "- difference\n",
    "- discard\n",
    "- difference_update\n",
    "- intersection\n",
    "- intersection_update\n",
    "- isdisjoint\n",
    "- issubset\n",
    "- issuperset\n",
    "- symmetric_difference\n",
    "- symmetric_difference_update\n",
    "- union"
   ]
  },
  {
   "cell_type": "code",
   "execution_count": 4,
   "metadata": {},
   "outputs": [
    {
     "name": "stdout",
     "output_type": "stream",
     "text": [
      "union:  {'orange', 'banana', 'watermelon', 'lemon', 'grapes', 'kiwi', 'berries', 'pineapple'}\n",
      "union:  {'orange', 'banana', 'watermelon', 'lemon', 'grapes', 'kiwi', 'berries', 'pineapple'}\n",
      "intersection:  {'lemon', 'banana'}\n",
      "intersection:  {'lemon', 'banana'}\n",
      "difference:  {'grapes', 'berries', 'watermelon'}\n",
      "difference:  {'grapes', 'berries', 'watermelon'}\n",
      "symmetric difference:  {'orange', 'grapes', 'kiwi', 'berries', 'watermelon', 'pineapple'}\n"
     ]
    }
   ],
   "source": [
    "# methods -> print(dir(set))\n",
    "summer = {'banana', 'watermelon', 'grapes', 'lemon', 'berries'}\n",
    "winter = {'orange', 'banana', 'pineapple', 'lemon', 'kiwi'}\n",
    "spring = {'watermelon', 'grapes'}\n",
    "\n",
    "print('union: ', summer | winter)\n",
    "print('union: ', summer.union(winter))\n",
    "print('intersection: ', summer & winter)\n",
    "print('intersection: ', summer.intersection(winter))\n",
    "print('difference: ', summer - winter)\n",
    "print('difference: ',summer.difference(winter))\n",
    "print('symmetric difference: ', summer ^ winter)"
   ]
  },
  {
   "cell_type": "code",
   "execution_count": 13,
   "metadata": {},
   "outputs": [
    {
     "name": "stdout",
     "output_type": "stream",
     "text": [
      "subset:  True\n",
      "True\n"
     ]
    }
   ],
   "source": [
    "# Subset\n",
    "# - returns True if spring is subset of summer else False\n",
    "print('subset: ', spring <= summer) \n",
    "print(spring.issubset(summer))"
   ]
  },
  {
   "cell_type": "code",
   "execution_count": 14,
   "metadata": {},
   "outputs": [
    {
     "name": "stdout",
     "output_type": "stream",
     "text": [
      "superset:  True\n",
      "True\n"
     ]
    }
   ],
   "source": [
    "# Superset\n",
    "# - returns True if summer is superset of spring else False\n",
    "print('superset: ', summer >= spring )\n",
    "print(summer.issuperset(spring))"
   ]
  }
 ],
 "metadata": {
  "kernelspec": {
   "display_name": "Python 3.9.1 64-bit ('venv1': venv)",
   "language": "python",
   "name": "python391jvsc74a57bd06dbcfa4acfde829108fd9fed7b4c7e3cf5b89483651b78d4b8e08d6c4461514a"
  },
  "language_info": {
   "codemirror_mode": {
    "name": "ipython",
    "version": 3
   },
   "file_extension": ".py",
   "mimetype": "text/x-python",
   "name": "python",
   "nbconvert_exporter": "python",
   "pygments_lexer": "ipython3",
   "version": "3.9.1"
  },
  "orig_nbformat": 2
 },
 "nbformat": 4,
 "nbformat_minor": 2
}
