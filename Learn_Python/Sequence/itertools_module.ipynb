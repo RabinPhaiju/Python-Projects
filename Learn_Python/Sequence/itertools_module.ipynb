{
 "metadata": {
  "language_info": {
   "codemirror_mode": {
    "name": "ipython",
    "version": 3
   },
   "file_extension": ".py",
   "mimetype": "text/x-python",
   "name": "python",
   "nbconvert_exporter": "python",
   "pygments_lexer": "ipython3",
   "version": 3
  },
  "orig_nbformat": 4
 },
 "nbformat": 4,
 "nbformat_minor": 2,
 "cells": [
  {
   "source": [
    "# The intertools module\n",
    "- Slicing -> islice\n",
    "- Selecting and Filtering -> dropwhile, takewhile,compress,filterfalse\n",
    "- chaining and Teeing -> chain, tee\n",
    "- Mapping and Reducing -> starmap , accumulate\n",
    "- infinite iterators -> count, cycle, repeat\n",
    "- zipping -> zip_longest\n",
    "- combinatorics -> product, permutations, combinations, combinations_with_replacement."
   ],
   "cell_type": "markdown",
   "metadata": {}
  },
  {
   "cell_type": "code",
   "execution_count": null,
   "metadata": {},
   "outputs": [],
   "source": []
  }
 ]
}