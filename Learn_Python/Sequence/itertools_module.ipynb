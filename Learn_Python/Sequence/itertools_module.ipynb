{
 "cells": [
  {
   "cell_type": "markdown",
   "metadata": {},
   "source": [
    "# The intertools module\n",
    "- every itertools returns lazy iterator\n",
    "-\n",
    "- Slicing -> islice\n",
    "- Selecting and Filtering -> dropwhile, takewhile,compress,filterfalse\n",
    "- chaining and Teeing -> chain, tee\n",
    "- Mapping and Reducing -> starmap , accumulate\n",
    "- infinite iterators -> count, cycle, repeat\n",
    "- zipping -> zip_longest\n",
    "- combinatorics -> product, permutations, combinations, combinations_with_replacement."
   ]
  },
  {
   "cell_type": "markdown",
   "metadata": {},
   "source": [
    "### Aggregators\n",
    "- Functions that iterate through an iterable and return a single value that takes into account every element of the iterable.\n",
    "- min(iterable)\n",
    "- max(iterable)\n",
    "- sum(iterable)\n",
    "- any(iterable) -> return True of any element in iterable is truthy\n",
    "- all(iterable) -> return True if all the element in iterable is truthy\n",
    "### Associated Truth Values\n",
    "- Every object in Python has an associated truth values.\n",
    "- Every object has a True truth value, except\n",
    "    - None\n",
    "    - False\n",
    "    - 0 in any numeric type(0,0.0,0+0j)\n",
    "    - empty sequence(list,tuple,string)\n",
    "    - empty mapping (dict,set)\n",
    "    - custom classes that implement (____bool____,____len____)\n",
    "    - method that returns False or 0.\n",
    "### Leveraging the any and all Functions\n",
    "- Often, we are not particularly intesrted in the direct truth value of the element in iterable\n",
    "- we want to know if any or all satisfy some condition.\n",
    "- A function that takes a single argument and returns True or False is called a predicate."
   ]
  },
  {
   "cell_type": "markdown",
   "metadata": {},
   "source": [
    "# Aggregators"
   ]
  },
  {
   "cell_type": "code",
   "execution_count": 1,
   "metadata": {},
   "outputs": [
    {
     "name": "stdout",
     "output_type": "stream",
     "text": [
      "False\n",
      "True\n",
      "False\n",
      "False\n"
     ]
    }
   ],
   "source": [
    "# eg:\n",
    "l = [1,20,3,4,50,60,7]\n",
    "pred = lambda x:x<10\n",
    "\n",
    "# using list comprehension\n",
    "result = [pred(x) for x in l]\n",
    "print(all(result))\n",
    "print(any(result))\n",
    "\n",
    "# using map\n",
    "result = map(pred,l)\n",
    "print(all(result))\n",
    "\n",
    "# using generator\n",
    "result = (pred(x) for x in l)\n",
    "print(all(result))"
   ]
  },
  {
   "cell_type": "code",
   "execution_count": 2,
   "metadata": {},
   "outputs": [
    {
     "data": {
      "text/plain": [
       "False"
      ]
     },
     "execution_count": 2,
     "metadata": {},
     "output_type": "execute_result"
    }
   ],
   "source": [
    "class Myseq:\n",
    "    def __init__(self,n):\n",
    "        self.n = n\n",
    "    \n",
    "    def __len__(self):\n",
    "        return self.n\n",
    "\n",
    "    def __getitem__(self):\n",
    "        pass\n",
    "\n",
    "my_seq = Myseq(0)\n",
    "bool(my_seq)"
   ]
  },
  {
   "cell_type": "code",
   "execution_count": 3,
   "metadata": {},
   "outputs": [
    {
     "data": {
      "text/plain": [
       "True"
      ]
     },
     "execution_count": 3,
     "metadata": {},
     "output_type": "execute_result"
    }
   ],
   "source": [
    "my_seq = Myseq(1)\n",
    "bool(my_seq)"
   ]
  },
  {
   "cell_type": "code",
   "execution_count": 4,
   "metadata": {},
   "outputs": [
    {
     "name": "stdout",
     "output_type": "stream",
     "text": [
      "True\n",
      "True\n",
      "True\n",
      "True\n"
     ]
    }
   ],
   "source": [
    "from numbers import Number\n",
    "\n",
    "print(isinstance(10,Number))\n",
    "print(isinstance(10.5,Number))\n",
    "print(isinstance(10/2,Number))\n",
    "print(isinstance(2+3j,Number))"
   ]
  },
  {
   "cell_type": "code",
   "execution_count": 5,
   "metadata": {},
   "outputs": [
    {
     "name": "stdout",
     "output_type": "stream",
     "text": [
      "True\n"
     ]
    }
   ],
   "source": [
    "l = [10,20,30,40]\n",
    "pred = lambda x:isinstance(x,Number)\n",
    "\n",
    "print(all(map(pred,l)))"
   ]
  },
  {
   "cell_type": "code",
   "execution_count": 6,
   "metadata": {},
   "outputs": [
    {
     "name": "stdout",
     "output_type": "stream",
     "text": [
      "False\n"
     ]
    }
   ],
   "source": [
    "l = [10,20,30,40,'hello']\n",
    "pred = lambda x:isinstance(x,Number)\n",
    "\n",
    "print(all(map(pred,l)))"
   ]
  },
  {
   "cell_type": "markdown",
   "metadata": {},
   "source": [
    "# itertools.islice\n",
    "- it returns a lazy iterator\n",
    "- any iterable\n",
    "- islice(iterable,start,stop,step)"
   ]
  },
  {
   "cell_type": "code",
   "execution_count": 7,
   "metadata": {},
   "outputs": [
    {
     "data": {
      "text/plain": [
       "[1, 2, 3]"
      ]
     },
     "execution_count": 7,
     "metadata": {},
     "output_type": "execute_result"
    }
   ],
   "source": [
    "from itertools import islice\n",
    "\n",
    "l = [1,2,3,4,5,6,7,8,9,10,11]\n",
    "result = islice(l,0,3)\n",
    "list(result)"
   ]
  },
  {
   "cell_type": "code",
   "execution_count": 8,
   "metadata": {},
   "outputs": [
    {
     "data": {
      "text/plain": [
       "[]"
      ]
     },
     "execution_count": 8,
     "metadata": {},
     "output_type": "execute_result"
    }
   ],
   "source": [
    "list(result)# because it it iterator."
   ]
  },
  {
   "cell_type": "markdown",
   "metadata": {},
   "source": [
    "# itertools.filter\n",
    "- filter(predicate,iterable)\n",
    "- returns all elements where predicate (element) is True\n",
    "- - predicate can be None- in which case it is the identity function f(x)->x\n",
    "- filter returns a lazy iterator.\n",
    "    - which means, it dont create a list and then apply the filter and return list.\n",
    "- it is lazy, so it will get exhausted."
   ]
  },
  {
   "cell_type": "code",
   "execution_count": 33,
   "metadata": {},
   "outputs": [
    {
     "data": {
      "text/plain": [
       "[1, 2, 3]"
      ]
     },
     "execution_count": 33,
     "metadata": {},
     "output_type": "execute_result"
    }
   ],
   "source": [
    "fi = filter(lambda x:x<4,[1,2,3,4,6,7,9])\n",
    "list(fi)"
   ]
  },
  {
   "cell_type": "code",
   "execution_count": 35,
   "metadata": {},
   "outputs": [
    {
     "data": {
      "text/plain": [
       "['hello', 100]"
      ]
     },
     "execution_count": 35,
     "metadata": {},
     "output_type": "execute_result"
    }
   ],
   "source": [
    "fi = filter(None,[0,'','hello',100,False])\n",
    "list(fi)"
   ]
  },
  {
   "cell_type": "markdown",
   "metadata": {},
   "source": [
    "# itertools.filterfalse\n",
    "- This work same way as the filter function\n",
    "    - instead if retaining elements where the predicate evaluates to True.\n",
    "    - it retains elements where the predicate evaluates to False."
   ]
  },
  {
   "cell_type": "code",
   "execution_count": 36,
   "metadata": {},
   "outputs": [
    {
     "data": {
      "text/plain": [
       "[4, 6, 7, 9]"
      ]
     },
     "execution_count": 36,
     "metadata": {},
     "output_type": "execute_result"
    }
   ],
   "source": [
    "from itertools import filterfalse\n",
    "\n",
    "fi = filterfalse(lambda x:x<4,[1,2,3,4,6,7,9])\n",
    "list(fi)"
   ]
  },
  {
   "cell_type": "code",
   "execution_count": 37,
   "metadata": {},
   "outputs": [
    {
     "data": {
      "text/plain": [
       "[0, '', False]"
      ]
     },
     "execution_count": 37,
     "metadata": {},
     "output_type": "execute_result"
    }
   ],
   "source": [
    "fi = filterfalse(None,[0,'','hello',100,False])\n",
    "list(fi)"
   ]
  },
  {
   "cell_type": "code",
   "execution_count": null,
   "metadata": {},
   "outputs": [],
   "source": []
  },
  {
   "cell_type": "markdown",
   "metadata": {},
   "source": [
    "# itertools.compress\n",
    "- returns a lazy iterator.\n",
    "- This is not a compressor in the sense of say a zip archive.\n",
    "- It is basically a way of filtering one iterable, using the truthiness of items in another iterable."
   ]
  },
  {
   "cell_type": "code",
   "execution_count": 41,
   "metadata": {},
   "outputs": [
    {
     "data": {
      "text/plain": [
       "['a', 'c']"
      ]
     },
     "execution_count": 41,
     "metadata": {},
     "output_type": "execute_result"
    }
   ],
   "source": [
    "from itertools import compress\n",
    " \n",
    "data = ['a','b','c','d','e']\n",
    "\n",
    "selectors = [True,False,1,0]\n",
    "\n",
    "list(compress(data,selectors))"
   ]
  },
  {
   "cell_type": "markdown",
   "metadata": {},
   "source": [
    "# itertools.takewhile\n",
    "- it returns an iterator that will yield items while pred(item) is Truthy\n",
    "- At that point the iterator is exhausted.\n",
    "    - even if there are more items in the iterable whose predicate would be truthy."
   ]
  },
  {
   "cell_type": "code",
   "execution_count": 11,
   "metadata": {},
   "outputs": [
    {
     "data": {
      "text/plain": [
       "[1, 2]"
      ]
     },
     "execution_count": 11,
     "metadata": {},
     "output_type": "execute_result"
    }
   ],
   "source": [
    "from itertools import takewhile\n",
    "\n",
    "res = takewhile(lambda x:x<5,[1,2,10,3,4,6])\n",
    "list(res)"
   ]
  },
  {
   "cell_type": "markdown",
   "metadata": {},
   "source": [
    "# itertools.dropwhile\n",
    "- returns an iterator that will start iterating ( and yield all remaining elements) once pred(item) becomes Falsy"
   ]
  },
  {
   "cell_type": "code",
   "execution_count": 46,
   "metadata": {},
   "outputs": [
    {
     "data": {
      "text/plain": [
       "[5, 2, 1]"
      ]
     },
     "execution_count": 46,
     "metadata": {},
     "output_type": "execute_result"
    }
   ],
   "source": [
    "from itertools import dropwhile\n",
    "\n",
    "res = dropwhile(lambda x:x<5, [1,3,5,2,1])\n",
    "list(res)"
   ]
  },
  {
   "cell_type": "markdown",
   "metadata": {},
   "source": [
    "# itertools.count\n",
    "- it is an infinite iterator\n",
    "- similar to range -> start,step\n",
    "- different from range -> no stop -> infinite\n",
    "- start and stop can be any numeric type(float,complex,Decimal,bool)"
   ]
  },
  {
   "cell_type": "code",
   "execution_count": 9,
   "metadata": {},
   "outputs": [
    {
     "data": {
      "text/plain": [
       "[10, 12, 14, 16, 18, 20, 22, 24, 26, 28]"
      ]
     },
     "execution_count": 9,
     "metadata": {},
     "output_type": "execute_result"
    }
   ],
   "source": [
    "from itertools import count\n",
    "\n",
    "f = count(10,2)\n",
    "[next(f) for _ in range(10)]"
   ]
  },
  {
   "cell_type": "code",
   "execution_count": 10,
   "metadata": {},
   "outputs": [
    {
     "data": {
      "text/plain": [
       "[10.5, 10.6, 10.7, 10.8, 10.9, 11.0, 11.1, 11.2, 11.3, 11.4]"
      ]
     },
     "execution_count": 10,
     "metadata": {},
     "output_type": "execute_result"
    }
   ],
   "source": [
    "f = count(10.5,0.1)\n",
    "[round(next(f),4) for _ in range(10)]"
   ]
  },
  {
   "cell_type": "code",
   "execution_count": 25,
   "metadata": {},
   "outputs": [
    {
     "data": {
      "text/plain": [
       "[10.5, 10.6, 10.7]"
      ]
     },
     "execution_count": 25,
     "metadata": {},
     "output_type": "execute_result"
    }
   ],
   "source": [
    "f = takewhile(lambda x:round(x,2)<10.8,count(10.5,0.1))\n",
    "list(f)"
   ]
  },
  {
   "cell_type": "markdown",
   "metadata": {},
   "source": [
    "# itertools.cycle\n",
    "- It allows us to loop over a finite iterable indefinitely.\n",
    "- ### If the argument of cycle is itself an iterator -> iterators becomes exhausted, \n",
    "- cycle will still produce an infinite sequence."
   ]
  },
  {
   "cell_type": "code",
   "execution_count": 28,
   "metadata": {},
   "outputs": [
    {
     "data": {
      "text/plain": [
       "['a', 'b', 'c', 'a', 'b', 'c', 'a', 'b', 'c', 'a']"
      ]
     },
     "execution_count": 28,
     "metadata": {},
     "output_type": "execute_result"
    }
   ],
   "source": [
    "from itertools import cycle\n",
    "\n",
    "l = cycle(['a','b','c'])\n",
    "[next(l) for _ in range(10)]"
   ]
  },
  {
   "cell_type": "markdown",
   "metadata": {},
   "source": [
    "# itertools.repeat\n",
    "- it simply yields the same value indefinitely.\n",
    "- it product same object for each iterator."
   ]
  },
  {
   "cell_type": "code",
   "execution_count": 10,
   "metadata": {},
   "outputs": [
    {
     "data": {
      "text/plain": [
       "['span',\n",
       " 'span',\n",
       " 'span',\n",
       " 'span',\n",
       " 'span',\n",
       " 'span',\n",
       " 'span',\n",
       " 'span',\n",
       " 'span',\n",
       " 'span']"
      ]
     },
     "execution_count": 10,
     "metadata": {},
     "output_type": "execute_result"
    }
   ],
   "source": [
    "from itertools import repeat\n",
    "\n",
    "l = repeat('span')\n",
    "[next(l) for _ in range(10)]"
   ]
  },
  {
   "cell_type": "code",
   "execution_count": 11,
   "metadata": {},
   "outputs": [
    {
     "ename": "StopIteration",
     "evalue": "",
     "output_type": "error",
     "traceback": [
      "\u001b[1;31m---------------------------------------------------------------------------\u001b[0m",
      "\u001b[1;31mStopIteration\u001b[0m                             Traceback (most recent call last)",
      "\u001b[1;32m<ipython-input-11-dc1b26b2bb7b>\u001b[0m in \u001b[0;36m<module>\u001b[1;34m\u001b[0m\n\u001b[0;32m      3\u001b[0m \u001b[0mnext\u001b[0m\u001b[1;33m(\u001b[0m\u001b[0ml\u001b[0m\u001b[1;33m)\u001b[0m\u001b[1;33m\u001b[0m\u001b[1;33m\u001b[0m\u001b[0m\n\u001b[0;32m      4\u001b[0m \u001b[0mnext\u001b[0m\u001b[1;33m(\u001b[0m\u001b[0ml\u001b[0m\u001b[1;33m)\u001b[0m\u001b[1;33m\u001b[0m\u001b[1;33m\u001b[0m\u001b[0m\n\u001b[1;32m----> 5\u001b[1;33m \u001b[0mnext\u001b[0m\u001b[1;33m(\u001b[0m\u001b[0ml\u001b[0m\u001b[1;33m)\u001b[0m\u001b[1;33m\u001b[0m\u001b[1;33m\u001b[0m\u001b[0m\n\u001b[0m",
      "\u001b[1;31mStopIteration\u001b[0m: "
     ]
    }
   ],
   "source": [
    "l = repeat('span',3)\n",
    "next(l)\n",
    "next(l)\n",
    "next(l)\n",
    "next(l)"
   ]
  },
  {
   "cell_type": "markdown",
   "metadata": {},
   "source": [
    "# itertools.chain\n",
    "- This is analogous to sequence concatenation, but not the same.\n",
    "- dealing with iterables (including iterators.)\n",
    "- chaining is itself a lazy iterator.\n",
    "- variable number of positional arguments -> each arguments must be an iterable."
   ]
  },
  {
   "cell_type": "code",
   "execution_count": 12,
   "metadata": {},
   "outputs": [
    {
     "name": "stdout",
     "output_type": "stream",
     "text": [
      "0\n",
      "1\n",
      "2\n",
      "3\n",
      "4\n",
      "5\n",
      "6\n",
      "7\n",
      "8\n",
      "9\n",
      "10\n",
      "11\n"
     ]
    }
   ],
   "source": [
    "l1 = (i for i in range(4))\n",
    "l2 = (i for i in range(4,8))\n",
    "l3 = (i for i in range(8,12))\n",
    "\n",
    "for gen in l1,l2,l3:\n",
    "    for item in gen:\n",
    "        print(item)"
   ]
  },
  {
   "cell_type": "code",
   "execution_count": 13,
   "metadata": {},
   "outputs": [
    {
     "name": "stdout",
     "output_type": "stream",
     "text": [
      "0\n",
      "1\n",
      "2\n",
      "3\n",
      "4\n",
      "5\n",
      "6\n",
      "7\n",
      "8\n",
      "9\n",
      "10\n",
      "11\n"
     ]
    }
   ],
   "source": [
    "# using iterator\n",
    "\n",
    "def chain_iterable(*iterables):\n",
    "    for iterable in iterables:\n",
    "        yield from iterable\n",
    "\n",
    "l1 = (i for i in range(4))\n",
    "l2 = (i for i in range(4,8))\n",
    "l3 = (i for i in range(8,12))\n",
    "\n",
    "for item in chain_iterable(l1,l2,l3):\n",
    "    print(item)"
   ]
  },
  {
   "cell_type": "code",
   "execution_count": 14,
   "metadata": {},
   "outputs": [
    {
     "name": "stdout",
     "output_type": "stream",
     "text": [
      "0\n",
      "1\n",
      "2\n",
      "3\n",
      "4\n",
      "5\n",
      "6\n",
      "7\n",
      "8\n",
      "9\n",
      "10\n",
      "11\n"
     ]
    }
   ],
   "source": [
    "# the better way\n",
    "from itertools import chain\n",
    "\n",
    "l1 = (i for i in range(4))\n",
    "l2 = (i for i in range(4,8))\n",
    "l3 = (i for i in range(8,12))\n",
    "\n",
    "for item in chain(l1,l2,l3):\n",
    "    print(item)"
   ]
  },
  {
   "cell_type": "code",
   "execution_count": 15,
   "metadata": {},
   "outputs": [
    {
     "name": "stdout",
     "output_type": "stream",
     "text": [
      "0\n",
      "1\n",
      "2\n",
      "3\n",
      "4\n",
      "5\n",
      "6\n",
      "7\n",
      "8\n",
      "9\n",
      "10\n",
      "11\n"
     ]
    }
   ],
   "source": [
    "l1 = (i for i in range(4))\n",
    "l2 = (i for i in range(4,8))\n",
    "l3 = (i for i in range(8,12))\n",
    "\n",
    "lists = [l1,l2,l3]\n",
    "\n",
    "for item in chain(*lists): # unpacking is not lazy.\n",
    "    print(item)"
   ]
  },
  {
   "cell_type": "code",
   "execution_count": 16,
   "metadata": {},
   "outputs": [
    {
     "name": "stdout",
     "output_type": "stream",
     "text": [
      "0\n",
      "1\n",
      "2\n",
      "3\n",
      "4\n",
      "5\n",
      "6\n",
      "7\n",
      "8\n",
      "9\n",
      "10\n",
      "11\n"
     ]
    }
   ],
   "source": [
    "def square():\n",
    "    yield (i for i in range(4)) # here is alot of computation, which we dont want.\n",
    "    yield (i for i in range(4,8))\n",
    "    yield (i for i in range(8,12))\n",
    "\n",
    "for item in chain(*square()):\n",
    "    print(item)"
   ]
  },
  {
   "cell_type": "code",
   "execution_count": 17,
   "metadata": {},
   "outputs": [
    {
     "name": "stdout",
     "output_type": "stream",
     "text": [
      "0\n",
      "1\n",
      "2\n",
      "3\n",
      "4\n",
      "5\n",
      "6\n",
      "7\n",
      "8\n",
      "9\n",
      "10\n",
      "11\n"
     ]
    }
   ],
   "source": [
    "# the alternate construction\n",
    "c = chain.from_iterable(square()) # nothing get called unless you iterate through it.\n",
    "\n",
    "for item in c:\n",
    "    print(item)\n",
    "\n",
    "    # but iterator get exhaused, we need to make another iterator."
   ]
  },
  {
   "cell_type": "code",
   "execution_count": 18,
   "metadata": {},
   "outputs": [
    {
     "data": {
      "text/plain": [
       "[0, 1, 4, 9, 16, 25, 36, 49, 64, 81]"
      ]
     },
     "execution_count": 18,
     "metadata": {},
     "output_type": "execute_result"
    }
   ],
   "source": [
    "from itertools import tee\n",
    "\n",
    "def squares(n):\n",
    "    for i in range(n):\n",
    "        yield i**2\n",
    "\n",
    "gen = squares(10)\n",
    "list(gen)"
   ]
  },
  {
   "cell_type": "code",
   "execution_count": 19,
   "metadata": {},
   "outputs": [
    {
     "name": "stdout",
     "output_type": "stream",
     "text": [
      "[<itertools._tee object at 0x000001CCDBF59940>, <itertools._tee object at 0x000001CCDBF59400>, <itertools._tee object at 0x000001CCDBF59440>]\n",
      "[0, 1, 4, 9, 16, 25, 36, 49, 64, 81]\n",
      "[0, 1, 4, 9, 16, 25, 36, 49, 64, 81]\n",
      "[0, 1, 4, 9, 16, 25, 36, 49, 64, 81]\n"
     ]
    }
   ],
   "source": [
    "gen = squares(10)\n",
    "iters = tee(gen,3) # it returns a copy of tuples of iterators.\n",
    "print(list(iters))\n",
    "\n",
    "iter1,iter2,iter3 = iters # independed copy of our iterator.\n",
    "print(list(iter1))\n",
    "print(list(iter2))\n",
    "print(list(iter3))"
   ]
  },
  {
   "cell_type": "code",
   "execution_count": 20,
   "metadata": {},
   "outputs": [
    {
     "data": {
      "text/plain": [
       "<itertools._tee at 0x1ccdbf5d580>"
      ]
     },
     "execution_count": 20,
     "metadata": {},
     "output_type": "execute_result"
    }
   ],
   "source": [
    "# we can tee list types.\n",
    "l = [1,2,3,4]\n",
    "lists = tee(l,2) # they are now lazy iterators.\n",
    "lists[0]"
   ]
  },
  {
   "cell_type": "code",
   "execution_count": 21,
   "metadata": {},
   "outputs": [
    {
     "data": {
      "text/plain": [
       "[1, 2, 3, 4]"
      ]
     },
     "execution_count": 21,
     "metadata": {},
     "output_type": "execute_result"
    }
   ],
   "source": [
    "list(lists[0])"
   ]
  },
  {
   "cell_type": "code",
   "execution_count": 26,
   "metadata": {},
   "outputs": [
    {
     "data": {
      "text/plain": [
       "[]"
      ]
     },
     "execution_count": 26,
     "metadata": {},
     "output_type": "execute_result"
    }
   ],
   "source": [
    "list(lists[0])"
   ]
  },
  {
   "cell_type": "code",
   "execution_count": 27,
   "metadata": {},
   "outputs": [
    {
     "data": {
      "text/plain": [
       "[1, 2, 3, 4]"
      ]
     },
     "execution_count": 27,
     "metadata": {},
     "output_type": "execute_result"
    }
   ],
   "source": [
    "list(lists[1])"
   ]
  },
  {
   "cell_type": "code",
   "execution_count": 28,
   "metadata": {},
   "outputs": [
    {
     "data": {
      "text/plain": [
       "[]"
      ]
     },
     "execution_count": 28,
     "metadata": {},
     "output_type": "execute_result"
    }
   ],
   "source": [
    "list(lists[1])"
   ]
  },
  {
   "cell_type": "markdown",
   "metadata": {},
   "source": [
    "# itertools.starmap\n",
    "- starmap is very similar to map\n",
    "- it unpacks every sub element of the iterable argument, and passes that to the map function.\n",
    "- used if we have to unpack element.\n",
    "- it allows us to pass iterable of iterables.\n",
    "- useful for mapping a multi-argumnet function on an iterable of iterables"
   ]
  },
  {
   "cell_type": "code",
   "execution_count": 1,
   "metadata": {},
   "outputs": [],
   "source": [
    "l = [[1,2],[3,4]] # iterable of iterables.\n",
    "ll = [[1,2,3],[10,20,30],[100,200,300]]"
   ]
  },
  {
   "cell_type": "code",
   "execution_count": 2,
   "metadata": {},
   "outputs": [
    {
     "name": "stdout",
     "output_type": "stream",
     "text": [
      "<map object at 0x0000024464915C40>\n",
      "[2, 12]\n",
      "[6, 60, 600]\n"
     ]
    }
   ],
   "source": [
    "# using map\n",
    "print(map(lambda item:item[0]*item[1],l))\n",
    "\n",
    "print(list(map(lambda item:item[0]*item[1],l)))\n",
    "\n",
    "print(list(map(lambda item:item[0]+item[1]+item[2],ll)))"
   ]
  },
  {
   "cell_type": "code",
   "execution_count": 3,
   "metadata": {},
   "outputs": [
    {
     "name": "stdout",
     "output_type": "stream",
     "text": [
      "<generator object <genexpr> at 0x0000024464917120>\n",
      "[2, 12]\n"
     ]
    },
    {
     "ename": "TypeError",
     "evalue": "add expected 2 arguments, got 3",
     "output_type": "error",
     "traceback": [
      "\u001b[1;31m---------------------------------------------------------------------------\u001b[0m",
      "\u001b[1;31mTypeError\u001b[0m                                 Traceback (most recent call last)",
      "\u001b[1;32m<ipython-input-3-c92bfb2c4c1c>\u001b[0m in \u001b[0;36m<module>\u001b[1;34m\u001b[0m\n\u001b[0;32m      6\u001b[0m \u001b[0mprint\u001b[0m\u001b[1;33m(\u001b[0m\u001b[0mlist\u001b[0m\u001b[1;33m(\u001b[0m\u001b[1;33m(\u001b[0m\u001b[0moperator\u001b[0m\u001b[1;33m.\u001b[0m\u001b[0mmul\u001b[0m\u001b[1;33m(\u001b[0m\u001b[1;33m*\u001b[0m\u001b[0mitem\u001b[0m\u001b[1;33m)\u001b[0m \u001b[1;32mfor\u001b[0m \u001b[0mitem\u001b[0m \u001b[1;32min\u001b[0m \u001b[0ml\u001b[0m\u001b[1;33m)\u001b[0m\u001b[1;33m)\u001b[0m\u001b[1;33m)\u001b[0m\u001b[1;33m\u001b[0m\u001b[1;33m\u001b[0m\u001b[0m\n\u001b[0;32m      7\u001b[0m \u001b[1;33m\u001b[0m\u001b[0m\n\u001b[1;32m----> 8\u001b[1;33m \u001b[0mprint\u001b[0m\u001b[1;33m(\u001b[0m\u001b[0mlist\u001b[0m\u001b[1;33m(\u001b[0m\u001b[1;33m(\u001b[0m\u001b[0moperator\u001b[0m\u001b[1;33m.\u001b[0m\u001b[0madd\u001b[0m\u001b[1;33m(\u001b[0m\u001b[1;33m*\u001b[0m\u001b[0mitem\u001b[0m\u001b[1;33m)\u001b[0m \u001b[1;32mfor\u001b[0m \u001b[0mitem\u001b[0m \u001b[1;32min\u001b[0m \u001b[0mll\u001b[0m\u001b[1;33m)\u001b[0m\u001b[1;33m)\u001b[0m\u001b[1;33m)\u001b[0m\u001b[1;33m\u001b[0m\u001b[1;33m\u001b[0m\u001b[0m\n\u001b[0m",
      "\u001b[1;32m<ipython-input-3-c92bfb2c4c1c>\u001b[0m in \u001b[0;36m<genexpr>\u001b[1;34m(.0)\u001b[0m\n\u001b[0;32m      6\u001b[0m \u001b[0mprint\u001b[0m\u001b[1;33m(\u001b[0m\u001b[0mlist\u001b[0m\u001b[1;33m(\u001b[0m\u001b[1;33m(\u001b[0m\u001b[0moperator\u001b[0m\u001b[1;33m.\u001b[0m\u001b[0mmul\u001b[0m\u001b[1;33m(\u001b[0m\u001b[1;33m*\u001b[0m\u001b[0mitem\u001b[0m\u001b[1;33m)\u001b[0m \u001b[1;32mfor\u001b[0m \u001b[0mitem\u001b[0m \u001b[1;32min\u001b[0m \u001b[0ml\u001b[0m\u001b[1;33m)\u001b[0m\u001b[1;33m)\u001b[0m\u001b[1;33m)\u001b[0m\u001b[1;33m\u001b[0m\u001b[1;33m\u001b[0m\u001b[0m\n\u001b[0;32m      7\u001b[0m \u001b[1;33m\u001b[0m\u001b[0m\n\u001b[1;32m----> 8\u001b[1;33m \u001b[0mprint\u001b[0m\u001b[1;33m(\u001b[0m\u001b[0mlist\u001b[0m\u001b[1;33m(\u001b[0m\u001b[1;33m(\u001b[0m\u001b[0moperator\u001b[0m\u001b[1;33m.\u001b[0m\u001b[0madd\u001b[0m\u001b[1;33m(\u001b[0m\u001b[1;33m*\u001b[0m\u001b[0mitem\u001b[0m\u001b[1;33m)\u001b[0m \u001b[1;32mfor\u001b[0m \u001b[0mitem\u001b[0m \u001b[1;32min\u001b[0m \u001b[0mll\u001b[0m\u001b[1;33m)\u001b[0m\u001b[1;33m)\u001b[0m\u001b[1;33m)\u001b[0m\u001b[1;33m\u001b[0m\u001b[1;33m\u001b[0m\u001b[0m\n\u001b[0m",
      "\u001b[1;31mTypeError\u001b[0m: add expected 2 arguments, got 3"
     ]
    }
   ],
   "source": [
    "# using generator\n",
    "import operator\n",
    "\n",
    "print((operator.mul(*item) for item in l))\n",
    "\n",
    "print(list((operator.mul(*item) for item in l)))\n",
    "\n",
    "print(list((operator.add(*item) for item in ll)))"
   ]
  },
  {
   "cell_type": "code",
   "execution_count": 4,
   "metadata": {},
   "outputs": [
    {
     "name": "stdout",
     "output_type": "stream",
     "text": [
      "<itertools.starmap object at 0x000002446481CE80>\n",
      "[2, 12]\n",
      "[6, 60, 600]\n"
     ]
    }
   ],
   "source": [
    "# using starmap\n",
    "from itertools import starmap\n",
    "\n",
    "print(starmap(operator.mul,l)) # it is lazy iterator.\n",
    "\n",
    "print(list(starmap(operator.mul,l)))\n",
    "\n",
    "print(list(starmap(lambda x,y,z:x+y+z,ll)))"
   ]
  },
  {
   "cell_type": "markdown",
   "metadata": {},
   "source": [
    "# itertools.acuumulate\n",
    "- lazy iterator.\n",
    "- it si similar to the reduce function.\n",
    "- but , it returns (lazy) iterator producing all the intermediate results.\n",
    "- argument order is not same."
   ]
  },
  {
   "cell_type": "code",
   "execution_count": 5,
   "metadata": {},
   "outputs": [
    {
     "name": "stdout",
     "output_type": "stream",
     "text": [
      " The summation of list 1 is :\n",
      "[10, 30, 60, 100]\n"
     ]
    }
   ],
   "source": [
    "from itertools import accumulate\n",
    "list1 = [10,20,30,40]\n",
    "print(' The summation of list 1 is :')\n",
    "print(list(accumulate(list1,lambda x,y:x+y))) # sum at every loop and print"
   ]
  },
  {
   "cell_type": "markdown",
   "metadata": {},
   "source": [
    "# zip\n",
    "- lazy iterable.\n",
    "- it takes a variable number of positions argument- each of which are iterables.\n",
    "- it returns an iterator that produces tuples containing the elements of the iterables, iterated one at a time.\n",
    "- It stops immediately once one of the iterables has been completely iterated over."
   ]
  },
  {
   "cell_type": "code",
   "execution_count": 6,
   "metadata": {},
   "outputs": [
    {
     "name": "stdout",
     "output_type": "stream",
     "text": [
      "<zip object at 0x000002446491D200>\n",
      "(1, 10, 'p')\n",
      "[(2, 20, 'y'), (3, 30, 't'), (4, 40, 'h')]\n"
     ]
    },
    {
     "data": {
      "text/plain": [
       "[]"
      ]
     },
     "execution_count": 6,
     "metadata": {},
     "output_type": "execute_result"
    }
   ],
   "source": [
    "l1 = [1,2,3,4]\n",
    "l2 = [10,20,30,40]\n",
    "l3 = 'python'\n",
    "l = zip(l1,l2,l3)\n",
    "print(l)\n",
    "print(next(l))\n",
    "print(list(l))\n",
    "list(l)"
   ]
  },
  {
   "cell_type": "markdown",
   "metadata": {},
   "source": [
    "# itertools.zip_longest\n",
    "- if we want to zip, but based in the longest iterable.\n",
    "    - may need to provide a default value for the 'holes' -> fillvalue."
   ]
  },
  {
   "cell_type": "code",
   "execution_count": 7,
   "metadata": {},
   "outputs": [
    {
     "name": "stdout",
     "output_type": "stream",
     "text": [
      "<itertools.zip_longest object at 0x0000024464905EF0>\n",
      "(1, 10, 'p')\n",
      "-----------------------\n",
      "[(2, 20, 'y'), (3, 30, 't'), (4, 40, 'h'), ('zero', 'zero', 'o'), ('zero', 'zero', 'n')]\n"
     ]
    },
    {
     "data": {
      "text/plain": [
       "[]"
      ]
     },
     "execution_count": 7,
     "metadata": {},
     "output_type": "execute_result"
    }
   ],
   "source": [
    "from itertools import zip_longest\n",
    "\n",
    "print(zip_longest(l1,l2,l3))\n",
    "l =zip_longest(l1,l2,l3,fillvalue='zero')\n",
    "print(next(l))\n",
    "print('-----------------------')\n",
    "print(list(l))\n",
    "list(l)"
   ]
  },
  {
   "cell_type": "markdown",
   "metadata": {},
   "source": [
    "# itertools.groupby\n",
    "- sometime if we want to loop over an iterable of elements.\n",
    "    - but, we want to group those elements as we iterate through them\n",
    "- lazy iterator\n",
    "-\n",
    "- we iterate the 1st group and want to iterate the 3rd group, then python has to perform the 2nd group, th reach the 3rd group.\n",
    "- actually iterates through all the elements of the current 'sub-iterator' before proceeding to the next group."
   ]
  },
  {
   "cell_type": "code",
   "execution_count": 85,
   "metadata": {},
   "outputs": [
    {
     "name": "stdout",
     "output_type": "stream",
     "text": [
      "[(1, 1), (1, 2), (1, 3), (2, 2), (2, 3), (2, 4), (3, 3), (3, 4), (3, 5)]\n"
     ]
    },
    {
     "data": {
      "text/plain": [
       "[]"
      ]
     },
     "execution_count": 85,
     "metadata": {},
     "output_type": "execute_result"
    }
   ],
   "source": [
    "def gen_group():\n",
    "    for key in range(1,4):\n",
    "       #key \n",
    "        for i in range(key,key+3):\n",
    "            yield(key,i)\n",
    "g = gen_group()\n",
    "print(list(g))\n",
    "list(g)"
   ]
  },
  {
   "cell_type": "code",
   "execution_count": 8,
   "metadata": {},
   "outputs": [
    {
     "name": "stdout",
     "output_type": "stream",
     "text": [
      "1 [(1, 1), (1, 2), (1, 3)]\n",
      "2 [(2, 2), (2, 3), (2, 4)]\n",
      "3 [(3, 3), (3, 4), (3, 5)]\n"
     ]
    },
    {
     "data": {
      "text/plain": [
       "[]"
      ]
     },
     "execution_count": 8,
     "metadata": {},
     "output_type": "execute_result"
    }
   ],
   "source": [
    "from itertools import groupby\n",
    "\n",
    "def gen_group():\n",
    "    for key in range(1,4):\n",
    "        # key \n",
    "        for i in range(key,key+3):\n",
    "            yield(key,i)\n",
    "g = gen_group()\n",
    "\n",
    "groups = groupby(g,key=lambda x:x[0])\n",
    "for group in groups:\n",
    "    print(group[0],list(group[1]))\n",
    "\n",
    "list(g) # all consumed."
   ]
  },
  {
   "cell_type": "code",
   "execution_count": 9,
   "metadata": {},
   "outputs": [],
   "source": [
    "group = [\n",
    "    (1,10,100),\n",
    "    (1,11,101),\n",
    "    (1,12,102),\n",
    "    (2,20,200),\n",
    "    (2,21,201),\n",
    "    (3,30,300),\n",
    "    (3,31,301),\n",
    "    (3,32,302),\n",
    "]"
   ]
  },
  {
   "cell_type": "code",
   "execution_count": 10,
   "metadata": {},
   "outputs": [
    {
     "name": "stdout",
     "output_type": "stream",
     "text": [
      "1\n",
      "(1, 10, 100)\n",
      "(1, 11, 101)\n",
      "(1, 12, 102)\n",
      "2\n",
      "(2, 20, 200)\n",
      "(2, 21, 201)\n",
      "3\n",
      "(3, 30, 300)\n",
      "(3, 31, 301)\n",
      "(3, 32, 302)\n"
     ]
    }
   ],
   "source": [
    "from itertools import groupby\n",
    "\n",
    "g = groupby(group,lambda x:x[0]) # group by 1st element.\n",
    "for key,grp in g:\n",
    "    print(key)\n",
    "    for i in grp:\n",
    "        print(i)"
   ]
  },
  {
   "cell_type": "code",
   "execution_count": 35,
   "metadata": {},
   "outputs": [
    {
     "name": "stdout",
     "output_type": "stream",
     "text": [
      "(1, <itertools._grouper object at 0x000001C3BB5EED90>)\n",
      "(2, <itertools._grouper object at 0x000001C3BC058F70>)\n"
     ]
    }
   ],
   "source": [
    "g = groupby(group,lambda x:x[0])\n",
    "print(next(g))\n",
    "print(next(g))"
   ]
  },
  {
   "cell_type": "code",
   "execution_count": 39,
   "metadata": {},
   "outputs": [
    {
     "name": "stdout",
     "output_type": "stream",
     "text": [
      "School,MonthCode,CalMonth,GradeLevel,GradeSort,RosterCount,Absent,Present,Released\n",
      "01M015,5,Jan,1,1,31,28,574,0\n",
      "01M015,5,Jan,2,2,26,48,445,0\n",
      "01M015,5,Jan,3,3,31,43,568,0\n",
      "01M015,5,Jan,4,4,24,29,442,0\n",
      "01M015,5,Jan,5,5,19,12,368,0\n",
      "01M015,5,Jan,0K,0,30,43,537,0\n",
      "01M015,5,Jan,PK,-1,17,22,265,15\n",
      "01M015,6,Feb,1,1,30,16,404,0\n",
      "01M015,6,Feb,2,2,25,17,333,0\n",
      "01M015,6,Feb,3,3,32,15,419,0\n",
      "01M015,6,Feb,4,4,24,21,315,0\n",
      "01M015,6,Feb,5,5,19,9,257,0\n",
      "01M015,6,Feb,0K,0,30,20,380,0\n",
      "01M015,6,Feb,PK,-1,15,17,193,0\n",
      "01M015,7,Mar,1,1,30,48,593,0\n",
      "01M015,7,Mar,2,2,25,37,513,0\n",
      "01M015,7,Mar,3,3,31,31,651,0\n",
      "01M015,7,Mar,4,4,25,30,509,0\n",
      "01M015,7,Mar,5,5,19,12,406,0\n"
     ]
    }
   ],
   "source": [
    "import itertools\n",
    "\n",
    "with open('../File/assignment/Monthly_Attendance.csv') as f:\n",
    "    for row in itertools.islice(f,0,20):\n",
    "        print(row,end='')"
   ]
  },
  {
   "cell_type": "code",
   "execution_count": 44,
   "metadata": {},
   "outputs": [
    {
     "name": "stdout",
     "output_type": "stream",
     "text": [
      "01M015 70\n",
      "01M019 70\n",
      "01M020 70\n",
      "01M034 100\n",
      "01M063 70\n",
      "01M064 70\n",
      "01M110 70\n",
      "01M134 70\n",
      "01M140 100\n",
      "01M142 70\n",
      "01M184 100\n",
      "01M188 100\n",
      "01M292 40\n",
      "01M301 30\n",
      "01M315 70\n",
      "01M332 30\n",
      "01M361 70\n",
      "01M363 70\n",
      "01M364 70\n",
      "01M378 30\n",
      "01M448 40\n",
      "01M450 70\n",
      "01M458 40\n",
      "01M509 40\n",
      "01M515 30\n",
      "01M539 130\n",
      "01M650 40\n",
      "01M696 40\n",
      "01M839 31\n",
      "02M001 71\n",
      "02M002 70\n",
      "02M003 27\n"
     ]
    }
   ],
   "source": [
    "# we need to find out, how many student have,  same school\n",
    "\n",
    "from collections import defaultdict\n",
    "\n",
    "stu = defaultdict(int)\n",
    "with open('../File/assignment/Monthly_Attendance.csv') as f:\n",
    "    next(f)\n",
    "    for row in f:\n",
    "        School,*_ = row.strip('\\n').split(',')\n",
    "        stu[School] += 1\n",
    "\n",
    "for key,value in stu.items():\n",
    "    print(key,value)"
   ]
  },
  {
   "cell_type": "code",
   "execution_count": 98,
   "metadata": {},
   "outputs": [
    {
     "name": "stdout",
     "output_type": "stream",
     "text": [
      "[('01M015', 70), ('01M019', 70), ('01M020', 70), ('01M034', 100), ('01M063', 70), ('01M064', 70), ('01M110', 70), ('01M134', 70), ('01M140', 100), ('01M142', 70), ('01M184', 100), ('01M188', 100), ('01M292', 40), ('01M301', 30), ('01M315', 70), ('01M332', 30), ('01M361', 70), ('01M363', 70), ('01M364', 70), ('01M378', 30), ('01M448', 40), ('01M450', 70), ('01M458', 40), ('01M509', 40), ('01M515', 30), ('01M539', 130), ('01M650', 40), ('01M696', 40), ('01M839', 31), ('02M001', 71), ('02M002', 70), ('02M003', 27)]\n"
     ]
    }
   ],
   "source": [
    "# we can simplify using group by\n",
    "from itertools import groupby\n",
    "\n",
    "def count_group(group):\n",
    "    i = 0\n",
    "    for item in group:\n",
    "        i +=1\n",
    "    return i\n",
    "\n",
    "with open('../File/assignment/Monthly_Attendance.csv') as f:\n",
    "    next(f)\n",
    "    g = groupby(f,key=lambda x:x.strip('\\n').split(',')[0])\n",
    "\n",
    "    # count = ((key,count_group(group)) for key,group in g)\n",
    "    count = ((key,sum(map(lambda x:1,group))) for key,group in g)\n",
    "    print(list(count))"
   ]
  },
  {
   "cell_type": "markdown",
   "metadata": {},
   "source": [
    "# itertools.product\n",
    "- cartisian product."
   ]
  },
  {
   "cell_type": "code",
   "execution_count": 6,
   "metadata": {},
   "outputs": [
    {
     "data": {
      "text/plain": [
       "[(1, 'a'),\n",
       " (1, 'b'),\n",
       " (1, 'c'),\n",
       " (2, 'a'),\n",
       " (2, 'b'),\n",
       " (2, 'c'),\n",
       " (3, 'a'),\n",
       " (3, 'b'),\n",
       " (3, 'c')]"
      ]
     },
     "execution_count": 6,
     "metadata": {},
     "output_type": "execute_result"
    }
   ],
   "source": [
    "def cartisian_product(a,b):\n",
    "    for i in a:\n",
    "        for j in b:\n",
    "            yield(i,j)\n",
    "\n",
    "list(cartisian_product([1,2,3],['a','b','c']))"
   ]
  },
  {
   "cell_type": "code",
   "execution_count": 26,
   "metadata": {},
   "outputs": [
    {
     "data": {
      "text/plain": [
       "[(1, 'a'),\n",
       " (1, 'b'),\n",
       " (1, 'c'),\n",
       " (2, 'a'),\n",
       " (2, 'b'),\n",
       " (2, 'c'),\n",
       " (3, 'a'),\n",
       " (3, 'b'),\n",
       " (3, 'c')]"
      ]
     },
     "execution_count": 26,
     "metadata": {},
     "output_type": "execute_result"
    }
   ],
   "source": [
    "from itertools import product\n",
    "\n",
    "l1 = [1,2,3]\n",
    "l2 = ['a','b','c']\n",
    "\n",
    "p = product(l1,l2)\n",
    "list(p)"
   ]
  },
  {
   "cell_type": "code",
   "execution_count": 7,
   "metadata": {},
   "outputs": [
    {
     "data": {
      "text/plain": [
       "[(1, 'a', 100),\n",
       " (1, 'a', 200),\n",
       " (1, 'b', 100),\n",
       " (1, 'b', 200),\n",
       " (1, 'c', 100),\n",
       " (1, 'c', 200),\n",
       " (2, 'a', 100),\n",
       " (2, 'a', 200),\n",
       " (2, 'b', 100),\n",
       " (2, 'b', 200),\n",
       " (2, 'c', 100),\n",
       " (2, 'c', 200),\n",
       " (3, 'a', 100),\n",
       " (3, 'a', 200),\n",
       " (3, 'b', 100),\n",
       " (3, 'b', 200),\n",
       " (3, 'c', 100),\n",
       " (3, 'c', 200)]"
      ]
     },
     "execution_count": 7,
     "metadata": {},
     "output_type": "execute_result"
    }
   ],
   "source": [
    "# product can have more than 2 arguments\n",
    "l3 = [100,200]\n",
    "p = product(l1,l2,l3)\n",
    "list(p)"
   ]
  },
  {
   "cell_type": "code",
   "execution_count": 28,
   "metadata": {},
   "outputs": [
    {
     "data": {
      "text/plain": [
       "['S2', 'S3', 'S4', 'S5', 'S6', 'S7']"
      ]
     },
     "execution_count": 28,
     "metadata": {},
     "output_type": "execute_result"
    }
   ],
   "source": [
    "SUITS = 'SHDC'\n",
    "RANKS = tuple(map(str,range(2,11)))+ tuple('JQKA')\n",
    "\n",
    "deck = [f'{suit}{rank}' for suit,rank in product(SUITS,RANKS)]\n",
    "deck[0:6]"
   ]
  },
  {
   "cell_type": "markdown",
   "metadata": {},
   "source": [
    "# itertools.permutations(iterable,r=None)\n",
    "- r is the size of permutation\n",
    "- r - None means length of each permutation is the length of the iterable.\n",
    "- Each of the iterable are considred unique based on their position, not their value."
   ]
  },
  {
   "cell_type": "code",
   "execution_count": 25,
   "metadata": {},
   "outputs": [
    {
     "data": {
      "text/plain": [
       "[(1, 5, 7, 1),\n",
       " (1, 5, 1, 7),\n",
       " (1, 7, 5, 1),\n",
       " (1, 7, 1, 5),\n",
       " (1, 1, 5, 7),\n",
       " (1, 1, 7, 5),\n",
       " (5, 1, 7, 1),\n",
       " (5, 1, 1, 7),\n",
       " (5, 7, 1, 1),\n",
       " (5, 7, 1, 1),\n",
       " (5, 1, 1, 7),\n",
       " (5, 1, 7, 1),\n",
       " (7, 1, 5, 1),\n",
       " (7, 1, 1, 5),\n",
       " (7, 5, 1, 1),\n",
       " (7, 5, 1, 1),\n",
       " (7, 1, 1, 5),\n",
       " (7, 1, 5, 1),\n",
       " (1, 1, 5, 7),\n",
       " (1, 1, 7, 5),\n",
       " (1, 5, 1, 7),\n",
       " (1, 5, 7, 1),\n",
       " (1, 7, 1, 5),\n",
       " (1, 7, 5, 1)]"
      ]
     },
     "execution_count": 25,
     "metadata": {},
     "output_type": "execute_result"
    }
   ],
   "source": [
    "from itertools import permutations\n",
    "\n",
    "l = [1,5,7,1] # 1st and last '1' are different.\n",
    "p  = permutations(l)\n",
    "list(p)"
   ]
  },
  {
   "cell_type": "markdown",
   "metadata": {},
   "source": [
    "# itertools.combination\n",
    "- order of elements in the combination is not considred.\n",
    "- we can sort the elements\n",
    "- combinations of length r, can be picked from a set.\n",
    "- Each of the iterable are considred unique based on their position, "
   ]
  },
  {
   "cell_type": "code",
   "execution_count": 23,
   "metadata": {},
   "outputs": [
    {
     "name": "stdout",
     "output_type": "stream",
     "text": [
      "[(1, 2, 3, 8), (1, 2, 3, 9), (1, 2, 8, 9), (1, 3, 8, 9), (2, 3, 8, 9)]\n"
     ]
    },
    {
     "data": {
      "text/plain": [
       "[(1, 1, 1),\n",
       " (1, 1, 2),\n",
       " (1, 1, 3),\n",
       " (1, 1, 8),\n",
       " (1, 1, 9),\n",
       " (1, 2, 2),\n",
       " (1, 2, 3),\n",
       " (1, 2, 8),\n",
       " (1, 2, 9),\n",
       " (1, 3, 3),\n",
       " (1, 3, 8),\n",
       " (1, 3, 9),\n",
       " (1, 8, 8),\n",
       " (1, 8, 9),\n",
       " (1, 9, 9),\n",
       " (2, 2, 2),\n",
       " (2, 2, 3),\n",
       " (2, 2, 8),\n",
       " (2, 2, 9),\n",
       " (2, 3, 3),\n",
       " (2, 3, 8),\n",
       " (2, 3, 9),\n",
       " (2, 8, 8),\n",
       " (2, 8, 9),\n",
       " (2, 9, 9),\n",
       " (3, 3, 3),\n",
       " (3, 3, 8),\n",
       " (3, 3, 9),\n",
       " (3, 8, 8),\n",
       " (3, 8, 9),\n",
       " (3, 9, 9),\n",
       " (8, 8, 8),\n",
       " (8, 8, 9),\n",
       " (8, 9, 9),\n",
       " (9, 9, 9)]"
      ]
     },
     "execution_count": 23,
     "metadata": {},
     "output_type": "execute_result"
    }
   ],
   "source": [
    "from itertools import combinations\n",
    "from itertools import combinations_with_replacement\n",
    "\n",
    "l = [1,2,3,8,9]\n",
    "\n",
    "print(list(combinations(l,r=4)))\n",
    "\n",
    "list(combinations_with_replacement(l,r=3))"
   ]
  },
  {
   "cell_type": "code",
   "execution_count": null,
   "metadata": {},
   "outputs": [],
   "source": []
  }
 ],
 "metadata": {
  "interpreter": {
   "hash": "6dbcfa4acfde829108fd9fed7b4c7e3cf5b89483651b78d4b8e08d6c4461514a"
  },
  "kernelspec": {
   "display_name": "Python 3.9.1 64-bit ('venv1': venv)",
   "name": "python3"
  },
  "language_info": {
   "codemirror_mode": {
    "name": "ipython",
    "version": 3
   },
   "file_extension": ".py",
   "mimetype": "text/x-python",
   "name": "python",
   "nbconvert_exporter": "python",
   "pygments_lexer": "ipython3",
   "version": "3.9.1"
  },
  "orig_nbformat": 4
 },
 "nbformat": 4,
 "nbformat_minor": 2
}