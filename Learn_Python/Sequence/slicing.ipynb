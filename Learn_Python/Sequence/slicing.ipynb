{
 "metadata": {
  "language_info": {
   "codemirror_mode": {
    "name": "ipython",
    "version": 3
   },
   "file_extension": ".py",
   "mimetype": "text/x-python",
   "name": "python",
   "nbconvert_exporter": "python",
   "pygments_lexer": "ipython3",
   "version": "3.9.1"
  },
  "orig_nbformat": 2,
  "kernelspec": {
   "name": "python391jvsc74a57bd06dbcfa4acfde829108fd9fed7b4c7e3cf5b89483651b78d4b8e08d6c4461514a",
   "display_name": "Python 3.9.1 64-bit ('venv1')"
  }
 },
 "nbformat": 4,
 "nbformat_minor": 2,
 "cells": [
  {
   "source": [
    "# slicing\n",
    "- s[[i:j]] include s[[i]],but exclude s[[j]]\n",
    "- cannot slice set,dict\n",
    "- l=[[1,2,3,4]]\n",
    "    - l[[2:1000]] -> no error -> there is no out of bound."
   ],
   "cell_type": "markdown",
   "metadata": {}
  },
  {
   "cell_type": "code",
   "execution_count": 7,
   "metadata": {},
   "outputs": [
    {
     "output_type": "execute_result",
     "data": {
      "text/plain": [
       "[1, 2]"
      ]
     },
     "metadata": {},
     "execution_count": 7
    }
   ],
   "source": [
    "### slice definitions are actually objects. -> of type slice\n",
    "l = [1,2,3,4,5]\n",
    "s = slice(0,2)\n",
    "l[s]"
   ]
  },
  {
   "source": [
    "# 1. String slice"
   ],
   "cell_type": "markdown",
   "metadata": {}
  },
  {
   "cell_type": "code",
   "execution_count": 10,
   "metadata": {},
   "outputs": [
    {
     "output_type": "stream",
     "name": "stdout",
     "text": [
      "llo world\nhe\nhelloworld\n"
     ]
    },
    {
     "output_type": "execute_result",
     "data": {
      "text/plain": [
       "'dlrow olleh'"
      ]
     },
     "metadata": {},
     "execution_count": 10
    }
   ],
   "source": [
    "my_string = \"hello world\"\n",
    "print(my_string[2:])\n",
    "print(my_string[:2])\n",
    "print('h e l l o w o r l d'[::2])\n",
    "my_string[::-1]"
   ]
  },
  {
   "source": [
    "# 2. List slice (Mutable)"
   ],
   "cell_type": "markdown",
   "metadata": {}
  },
  {
   "cell_type": "code",
   "execution_count": 2,
   "metadata": {},
   "outputs": [
    {
     "output_type": "stream",
     "name": "stdout",
     "text": [
      "['shyam', 'hari']\n['rabin', 'hari', 'shyam']\n['rabin', 'hari', 'shyam', 'ram']\n"
     ]
    }
   ],
   "source": [
    "eg_list = ['ram', 'shyam', 'hari', 'rabin']\n",
    "print(eg_list[1:3])\n",
    "print(eg_list[-1:-4:-1])\n",
    "print(eg_list[5::-1])"
   ]
  },
  {
   "cell_type": "code",
   "execution_count": 14,
   "metadata": {},
   "outputs": [
    {
     "output_type": "stream",
     "name": "stdout",
     "text": [
      "1910993257216\n1910993257216\n"
     ]
    },
    {
     "output_type": "execute_result",
     "data": {
      "text/plain": [
       "[1, 10, 20, 30, 4, 5]"
      ]
     },
     "metadata": {},
     "execution_count": 14
    }
   ],
   "source": [
    "# 3. List slice assigning\n",
    "l = [1,2,3,4,5]\n",
    "print(id(l))\n",
    "l[1:3] = (10,20,30)\n",
    "print(id(l))\n",
    "l # same id"
   ]
  },
  {
   "cell_type": "code",
   "execution_count": 15,
   "metadata": {},
   "outputs": [
    {
     "output_type": "stream",
     "name": "stdout",
     "text": [
      "1910992891840\n1910992891840\n"
     ]
    },
    {
     "output_type": "execute_result",
     "data": {
      "text/plain": [
       "[10, 2, 20, 4, 5]"
      ]
     },
     "metadata": {},
     "execution_count": 15
    }
   ],
   "source": [
    "l = [1,2,3,4,5]\n",
    "print(id(l))\n",
    "l[0:4:2] = (10,20) # 0-4 having skip 2 is 2 element, so replacing element also must be 2\n",
    "print(id(l))\n",
    "l # same id"
   ]
  },
  {
   "cell_type": "code",
   "execution_count": 16,
   "metadata": {},
   "outputs": [
    {
     "output_type": "stream",
     "name": "stdout",
     "text": [
      "1910993129728\n1910993129728\n"
     ]
    },
    {
     "output_type": "execute_result",
     "data": {
      "text/plain": [
       "[3, 4, 5]"
      ]
     },
     "metadata": {},
     "execution_count": 16
    }
   ],
   "source": [
    "# deleting element of sequence using slicing\n",
    "l = [1,2,3,4,5]\n",
    "print(id(l))\n",
    "l[0:2] = []\n",
    "print(id(l))\n",
    "l # same id"
   ]
  },
  {
   "cell_type": "code",
   "execution_count": 17,
   "metadata": {},
   "outputs": [
    {
     "output_type": "stream",
     "name": "stdout",
     "text": [
      "1910993131264\n1910993131264\n"
     ]
    },
    {
     "output_type": "execute_result",
     "data": {
      "text/plain": [
       "[1, 'a', 'b', 'c', 2, 3, 4, 5]"
      ]
     },
     "metadata": {},
     "execution_count": 17
    }
   ],
   "source": [
    "# insertion using slice\n",
    "l = [1,2,3,4,5]\n",
    "print(id(l))\n",
    "l[1:1] = 'abc'\n",
    "print(id(l))\n",
    "l # same id"
   ]
  }
 ]
}