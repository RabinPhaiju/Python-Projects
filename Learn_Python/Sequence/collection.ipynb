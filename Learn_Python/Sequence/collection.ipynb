{
 "cells": [
  {
   "cell_type": "code",
   "execution_count": 1,
   "metadata": {},
   "outputs": [],
   "source": [
    "from collections import Counter,defaultdict,OrderedDict"
   ]
  },
  {
   "cell_type": "code",
   "execution_count": 2,
   "metadata": {},
   "outputs": [
    {
     "name": "stdout",
     "output_type": "stream",
     "text": [
      "Counter({5: 3, 3: 2, 1: 1, 2: 1})\n"
     ]
    }
   ],
   "source": [
    "list1 = [1,2,3,5,3,5,5]\n",
    "\n",
    "print(Counter(list1))"
   ]
  },
  {
   "cell_type": "code",
   "execution_count": 13,
   "metadata": {},
   "outputs": [
    {
     "name": "stdout",
     "output_type": "stream",
     "text": [
      "1\n",
      "5\n"
     ]
    }
   ],
   "source": [
    "dict1 = defaultdict(int,{ 'one': 1, 'two': 2, 'three': 3 })\n",
    "dict1 = defaultdict(lambda : 5,{ 'one': 1, 'two': 2, 'three': 3 })\n",
    "print(dict1['one'])\n",
    "print(dict1['ones']) # returns 5 (default)"
   ]
  },
  {
   "cell_type": "code",
   "execution_count": 16,
   "metadata": {},
   "outputs": [
    {
     "name": "stdout",
     "output_type": "stream",
     "text": [
      "True\n",
      "False\n"
     ]
    }
   ],
   "source": [
    "dict2 = OrderedDict({ 'one': 1, 'two': 2, 'three': 3 })\n",
    "dict3 = OrderedDict({ 'one': 1, 'two': 2, 'three': 3 })\n",
    "dict4 = OrderedDict({ 'one': 1, 'three': 3, 'two': 2 })\n",
    "\n",
    "print(dict2 == dict3)\n",
    "print(dict2 == dict4)"
   ]
  }
 ],
 "metadata": {
  "kernelspec": {
   "display_name": "Python 3",
   "language": "python",
   "name": "python3"
  },
  "language_info": {
   "codemirror_mode": {
    "name": "ipython",
    "version": 3
   },
   "file_extension": ".py",
   "mimetype": "text/x-python",
   "name": "python",
   "nbconvert_exporter": "python",
   "pygments_lexer": "ipython3",
   "version": "3.10.12"
  }
 },
 "nbformat": 4,
 "nbformat_minor": 2
}
