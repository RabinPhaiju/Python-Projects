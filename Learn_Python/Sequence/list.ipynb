{
 "metadata": {
  "language_info": {
   "codemirror_mode": {
    "name": "ipython",
    "version": 3
   },
   "file_extension": ".py",
   "mimetype": "text/x-python",
   "name": "python",
   "nbconvert_exporter": "python",
   "pygments_lexer": "ipython3",
   "version": "3.9.1"
  },
  "orig_nbformat": 2,
  "kernelspec": {
   "name": "python391jvsc74a57bd06dbcfa4acfde829108fd9fed7b4c7e3cf5b89483651b78d4b8e08d6c4461514a",
   "display_name": "Python 3.9.1 64-bit ('venv1': venv)"
  }
 },
 "nbformat": 4,
 "nbformat_minor": 2,
 "cells": [
  {
   "source": [
    "# Mutable Object\n",
    "- mutating an object means changing the object's state without creating a new object."
   ],
   "cell_type": "markdown",
   "metadata": {}
  },
  {
   "cell_type": "code",
   "execution_count": 4,
   "metadata": {},
   "outputs": [
    {
     "output_type": "stream",
     "name": "stdout",
     "text": [
      "True\n"
     ]
    }
   ],
   "source": [
    "empty_list = []\n",
    "list()\n",
    "eg_list2 = [1, 2, 3, [200, 300, [100, [400, [18, [19]]]]]]\n",
    "eg_list2[3][-1][1][1][1][0]\n",
    "# check element in list\n",
    "print(3 in eg_list2)"
   ]
  },
  {
   "cell_type": "code",
   "execution_count": 9,
   "metadata": {},
   "outputs": [
    {
     "output_type": "stream",
     "name": "stdout",
     "text": [
      "False\nTrue\n"
     ]
    }
   ],
   "source": [
    "# check the list contains elements of another list\n",
    "List1 = [1,2,3]\n",
    "List2 = [1,2,3,4]\n",
    "print(all(item in List1 for item in List2))\n",
    "print(any(item in List1 for item in List2))"
   ]
  },
  {
   "source": [
    "## Mutable methods\n",
    "#### add at the end of the list\n",
    "- list.append()\n",
    "- a[[len(a):]] = [[x]]\n",
    "\n",
    "####  pop() ->Remove the item at the given position in the list, and return it. If no index is specified.\n",
    "* list.pop([i])\n",
    "#### extends\n",
    "* list.extend(list1)\n",
    "* a[len(a):] = iterable\n",
    "#### insert\n",
    "list.insert(0, x)\n",
    "- a.insert(len(a), x) is equivalent to a.append(x).\n",
    "- a.insert(1,x) -> insert at position 1\n",
    "#### remove\n",
    "- list.remove(x)\n",
    "- Remove the first item from the list whose value is equal to x\n",
    "#### clear\n",
    "- list.clear()\n",
    "- Remove all items from the list\n",
    "- del a[[]:]].\n",
    "#### index\n",
    "- list.index(x[, start[, end]])\n",
    "#### count\n",
    "- list.count(x)\n",
    "- Return the number of times x appears in the list.\n",
    "#### sort\n",
    "- list.sort(*, key=None, reverse=False)\n",
    "- list.reverse()\n",
    "- print(days[::-1])\n",
    "#### copy\n",
    "- list.copy()\n",
    "- Return a shallow copy of the list. Equivalent to a[:]"
   ],
   "cell_type": "markdown",
   "metadata": {}
  },
  {
   "source": [
    "# Remove duplicate values from list\n",
    "\n",
    "list(set([1,1,2,4,5,5,6,7]))"
   ],
   "cell_type": "code",
   "metadata": {},
   "execution_count": 1,
   "outputs": [
    {
     "output_type": "execute_result",
     "data": {
      "text/plain": [
       "[1, 2, 4, 5, 6, 7]"
      ]
     },
     "metadata": {},
     "execution_count": 1
    }
   ]
  },
  {
   "source": [
    "# List comprehensions\n",
    "- python creates a temp function that will be used to evaluate the comprehension.\n",
    "   - syntax\n",
    "     - [[item for item in iterable]]\n",
    "     - [[x for x in iterable if_condition]]\n",
    "     - [[x if_con else_con for x in iterable]]\n",
    "   - squares = list(map(lambda x: x**2, range(10)))\n",
    "   - squares = [[x**2 for x in range(10) if x%2==0]]\n",
    "   - [[(x, y) for x in [[1,2,3]] for y in [[3,1,4]] if x != y]]\n",
    "   - [[(x, x**2) for x in range(6)]]\n",
    "   - [[abs(x) for x in vec]]"
   ],
   "cell_type": "markdown",
   "metadata": {}
  },
  {
   "source": [
    "# Nested list comprehension\n",
    "matrix = [[1, 2, 3, 4],[5, 6, 7, 8],[9, 10, 11, 12],]\n",
    "# transpose\n",
    "print([[row[i] for row in matrix] for i in range(4)])\n",
    "print(list(zip(*matrix)))"
   ],
   "cell_type": "code",
   "metadata": {},
   "execution_count": 15,
   "outputs": [
    {
     "output_type": "stream",
     "name": "stdout",
     "text": [
      "[[1, 5, 9], [2, 6, 10], [3, 7, 11], [4, 8, 12]]\n[(1, 5, 9), (2, 6, 10), (3, 7, 11), (4, 8, 12)]\n"
     ]
    }
   ]
  },
  {
   "cell_type": "code",
   "execution_count": 3,
   "metadata": {},
   "outputs": [
    {
     "output_type": "execute_result",
     "data": {
      "text/plain": [
       "[(0, 0, 0),\n",
       " (0, 0, 1),\n",
       " (0, 1, 0),\n",
       " (0, 1, 1),\n",
       " (1, 0, 0),\n",
       " (1, 0, 1),\n",
       " (1, 1, 0),\n",
       " (1, 1, 1)]"
      ]
     },
     "metadata": {},
     "execution_count": 3
    }
   ],
   "source": [
    "l =[(i,j,k) for i in range(2) for j in range(2) for k in range(2)]\n",
    "l"
   ]
  },
  {
   "cell_type": "code",
   "execution_count": 10,
   "metadata": {},
   "outputs": [
    {
     "output_type": "execute_result",
     "data": {
      "text/plain": [
       "[(2, 3), (2, 4), (3, 4)]"
      ]
     },
     "metadata": {},
     "execution_count": 10
    }
   ],
   "source": [
    "# Nested Loop in comprehensions\n",
    "l = [(x,y) for y in range(5) if y<5 for x in range(y) if x >1]\n",
    "l"
   ]
  },
  {
   "cell_type": "code",
   "execution_count": 11,
   "metadata": {},
   "outputs": [
    {
     "output_type": "execute_result",
     "data": {
      "text/plain": [
       "['ax', 'ay', 'az', 'bx', 'by', 'bz', 'cx', 'cy', 'cz']"
      ]
     },
     "metadata": {},
     "execution_count": 11
    }
   ],
   "source": [
    "l1 = ['a','b','c']\n",
    "l2 = ['x','y','z']\n",
    "\n",
    "[x+y for x in l1 for y in l2]"
   ]
  },
  {
   "source": [
    "# list unpacking\n",
    "a,b,c=[1,2,3]\n",
    "a,b,c,*other = [1, 2, 3, 4, 5, 7, 8]\n"
   ],
   "cell_type": "code",
   "metadata": {},
   "execution_count": 13,
   "outputs": []
  }
 ]
}