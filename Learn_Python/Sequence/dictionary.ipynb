{
 "cells": [
  {
   "cell_type": "markdown",
   "metadata": {},
   "source": [
    "### dict has unique key unordered -> no index\n",
    "\n",
    "    - key value pair\n",
    "    - the keys and values can be of any type.\n",
    "    - dictionary is indexed through the keys.\n",
    "    - same key cannot be assigned. which is replace/update thre prev\n",
    "    - key or value or dict can be float ,int, list, tuple etc.\n",
    "    - key must be of type immutable."
   ]
  },
  {
   "cell_type": "code",
   "execution_count": 4,
   "metadata": {},
   "outputs": [
    {
     "data": {
      "text/plain": [
       "{'name': 'rabin', 'age': 9}"
      ]
     },
     "execution_count": 4,
     "metadata": {},
     "output_type": "execute_result"
    }
   ],
   "source": [
    "# create\n",
    "empty_lsit={}\n",
    "empty_list = dict()\n",
    "dict1 = {\n",
    "     \"name\":\"rabin\",\n",
    "     \"age\":9\n",
    "     }\n",
    "dict1"
   ]
  },
  {
   "cell_type": "code",
   "execution_count": 9,
   "metadata": {},
   "outputs": [
    {
     "data": {
      "text/plain": [
       "{1: 'True', 123: 'one_two_three'}"
      ]
     },
     "execution_count": 9,
     "metadata": {},
     "output_type": "execute_result"
    }
   ],
   "source": [
    "new_dict = {\n",
    "    1:\"one\",\n",
    "    123:\"one_two_three\",\n",
    "    True:\"True\",\n",
    "    # [1,2,3]:\"list\" # key must be mutable\n",
    "}\n",
    "new_dict"
   ]
  },
  {
   "cell_type": "code",
   "execution_count": 8,
   "metadata": {},
   "outputs": [
    {
     "name": "stdout",
     "output_type": "stream",
     "text": [
      "dict_keys(['name', 'age'])\n",
      "dict_values(['rabin', 9])\n",
      "9\n",
      "9\n"
     ]
    }
   ],
   "source": [
    "# access the keys and value\n",
    "\n",
    "print(dict1.keys())\n",
    "print(dict1.values())\n",
    "print(dict1['age'])\n",
    "print(dict1.get('age', 'Not found'))"
   ]
  },
  {
   "cell_type": "code",
   "execution_count": 10,
   "metadata": {},
   "outputs": [],
   "source": [
    "# create/clear dict\n",
    "dict2 = {}"
   ]
  },
  {
   "cell_type": "code",
   "execution_count": 13,
   "metadata": {},
   "outputs": [
    {
     "data": {
      "text/plain": [
       "{'name': 'rabin', 'age': 9}"
      ]
     },
     "execution_count": 13,
     "metadata": {},
     "output_type": "execute_result"
    }
   ],
   "source": [
    "# add/update dict\n",
    "\n",
    "dict2['name']='rabina'\n",
    "dict2.update(dict1)\n",
    "dict2"
   ]
  },
  {
   "cell_type": "code",
   "execution_count": 14,
   "metadata": {},
   "outputs": [
    {
     "data": {
      "text/plain": [
       "{'name': 'rabin'}"
      ]
     },
     "execution_count": 14,
     "metadata": {},
     "output_type": "execute_result"
    }
   ],
   "source": [
    "# delete a key,value\n",
    "del dict2['age']\n",
    "dict2"
   ]
  },
  {
   "cell_type": "code",
   "execution_count": 16,
   "metadata": {},
   "outputs": [
    {
     "data": {
      "text/plain": [
       "True"
      ]
     },
     "execution_count": 16,
     "metadata": {},
     "output_type": "execute_result"
    }
   ],
   "source": [
    "# check key exist\n",
    "\n",
    "'name' in dict2"
   ]
  },
  {
   "cell_type": "code",
   "execution_count": 17,
   "metadata": {},
   "outputs": [
    {
     "name": "stdout",
     "output_type": "stream",
     "text": [
      "name\n",
      "rabin\n",
      "age\n",
      "9\n",
      "name rabin\n",
      "age 9\n"
     ]
    }
   ],
   "source": [
    "# loop dict\n",
    "for key in dict1:\n",
    "  print(key)\n",
    "  print(dict1[key])\n",
    "for k, v in dict1.items():\n",
    "  print(k, v)"
   ]
  },
  {
   "cell_type": "code",
   "execution_count": 18,
   "metadata": {},
   "outputs": [
    {
     "name": "stdout",
     "output_type": "stream",
     "text": [
      "['rabin', 'shyam', 'hari', 'xyz', 'rabin']\n"
     ]
    }
   ],
   "source": [
    "# get function -> if we access key not available -> returns None or default value\n",
    "\n",
    "x = [\n",
    "     {\"name\":\"ram\",\"sem\":6,\"name\": \"rabin\"},\n",
    "     {\"name\":\"shyam\",\"sem\":6},\n",
    "     {\"name\":\"hari\",\"sem\":6},\n",
    "     {\"name\":\"xyz\",\"sem\":6},\n",
    "     {\"name\":\"rabin\",\"sem\":6}\n",
    "     ]\n",
    "print([i.get('name') for i in x])"
   ]
  },
  {
   "cell_type": "code",
   "execution_count": 7,
   "metadata": {},
   "outputs": [
    {
     "data": {
      "text/plain": [
       "{'name': ['rabin', 'ram'],\n",
       " 'school': {'school1': 'boston',\n",
       "  'school2': 'yung',\n",
       "  'france': {'cities_visited': ['paris', 'dijon'], 'total': 12}}}"
      ]
     },
     "execution_count": 7,
     "metadata": {},
     "output_type": "execute_result"
    }
   ],
   "source": [
    "# Nesting list and dict\n",
    "person ={\n",
    "\"name\":['rabin','ram'],\n",
    "\"school\":{\n",
    "\"school1\":\"boston\",\n",
    "\"school2\":\"yung\",\n",
    "\"france\":{\n",
    "\"cities_visited\":['paris','dijon'],\n",
    "\"total\":12\n",
    "    }}}\n",
    "person"
   ]
  },
  {
   "cell_type": "code",
   "execution_count": 2,
   "metadata": {},
   "outputs": [
    {
     "name": "stdout",
     "output_type": "stream",
     "text": [
      "{2: 4, 4: 16, 6: 36}\n",
      "{0: 0, 2: 4, 4: 16, 6: 36, 8: 64}\n",
      "{6: 36, 8: 64}\n",
      "{0: 'even', 1: 'odd', 2: 'even', 3: 'odd', 4: 'even', 5: 'odd', 6: 'even', 7: 'odd', 8: 'even', 9: 'odd'}\n"
     ]
    }
   ],
   "source": [
    "# dictionary comprehension\n",
    "\n",
    "print({x: x**2 for x in (2, 4, 6)})\n",
    "print({i: i**2 for i in range(10) if i % 2 == 0})\n",
    "print({i: i**2 for i in range(10) if i % 2 == 0 if i > 5})\n",
    "print({i: ('even' if i % 2 == 0 else 'odd') for i in range(10)})"
   ]
  },
  {
   "cell_type": "code",
   "execution_count": 5,
   "metadata": {},
   "outputs": [
    {
     "name": "stdout",
     "output_type": "stream",
     "text": [
      "{'What': 4, 'is': 2, 'the': 3, 'Airspeed': 8, 'Velocity': 8, 'of': 2, 'an': 2, 'Unladen': 7, 'Swallow?': 8}\n"
     ]
    }
   ],
   "source": [
    "sentence = \"What is the Airspeed Velocity of an Unladen Swallow?\"\n",
    "result = {x:len(x) for x in sentence.split()}\n",
    "print(result)"
   ]
  },
  {
   "cell_type": "code",
   "execution_count": 11,
   "metadata": {},
   "outputs": [
    {
     "name": "stdout",
     "output_type": "stream",
     "text": [
      "{'Monday': 53.6, 'Tuesday': 57.2, 'Wednesday': 59.0, 'Thursday': 57.2, 'Friday': 69.8, 'Saturday': 71.6, 'Sunday': 75.2}\n"
     ]
    }
   ],
   "source": [
    "weather_c = {\n",
    "    \"Monday\":12,\n",
    "    \"Tuesday\":14,\n",
    "    \"Wednesday\":15,\n",
    "    \"Thursday\":14,\n",
    "    \"Friday\":21,\n",
    "    \"Saturday\":22,\n",
    "    \"Sunday\":24\n",
    "}\n",
    "result = {name:(x*9/5)+32 for (name,x) in weather_c.items() }\n",
    "print(result)"
   ]
  },
  {
   "cell_type": "code",
   "execution_count": 8,
   "metadata": {},
   "outputs": [
    {
     "name": "stdout",
     "output_type": "stream",
     "text": [
      "name=['rabin', 'ram']\n",
      "school={'school1': 'boston', 'school2': 'yung', 'france': {'cities_visited': ['paris', 'dijon'], 'total': 12}}\n"
     ]
    }
   ],
   "source": [
    "# dict.item()\n",
    "\n",
    "for key,value in person.items():\n",
    "    print(f\"{key}={value}\")"
   ]
  },
  {
   "cell_type": "code",
   "execution_count": 30,
   "metadata": {},
   "outputs": [
    {
     "name": "stdout",
     "output_type": "stream",
     "text": [
      "{1: 'hello', 2: 'bye', 3: 'll'}\n"
     ]
    }
   ],
   "source": [
    "# Convert list to dic\n",
    "\n",
    "eg_list=['hello','bye','ll']\n",
    "print({i: v for i, v in enumerate(eg_list, 1)})"
   ]
  }
 ],
 "metadata": {
  "kernelspec": {
   "display_name": "Python 3",
   "language": "python",
   "name": "python3"
  },
  "language_info": {
   "codemirror_mode": {
    "name": "ipython",
    "version": 3
   },
   "file_extension": ".py",
   "mimetype": "text/x-python",
   "name": "python",
   "nbconvert_exporter": "python",
   "pygments_lexer": "ipython3",
   "version": "3.10.12"
  },
  "orig_nbformat": 2
 },
 "nbformat": 4,
 "nbformat_minor": 2
}
