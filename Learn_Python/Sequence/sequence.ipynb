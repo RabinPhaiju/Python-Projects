{
 "metadata": {
  "language_info": {
   "codemirror_mode": {
    "name": "ipython",
    "version": 3
   },
   "file_extension": ".py",
   "mimetype": "text/x-python",
   "name": "python",
   "nbconvert_exporter": "python",
   "pygments_lexer": "ipython3",
   "version": "3.9.1"
  },
  "orig_nbformat": 2,
  "kernelspec": {
   "name": "python391jvsc74a57bd06dbcfa4acfde829108fd9fed7b4c7e3cf5b89483651b78d4b8e08d6c4461514a",
   "display_name": "Python 3.9.1 64-bit ('venv1': venv)"
  }
 },
 "nbformat": 4,
 "nbformat_minor": 2,
 "cells": [
  {
   "source": [
    "# What is sequence.\n",
    "- in math : s = x1,x2,x3,x4 ( countable sequence)\n",
    "- We can reger to any item in the sequence by using it's index number. (s[[2]] = x2 -> in math)\n",
    "- So, we have a concept of first element, second element, and so on, ( positional odering)\n",
    "- Python list have a concept of positional oder, but set dont\n",
    "- in Python we starts index with 0 not 1."
   ],
   "cell_type": "markdown",
   "metadata": {}
  },
  {
   "source": [
    "## Built-in sequence types\n",
    "- mutable:\n",
    "    - list,set,dict -> bytearrays\n",
    "- immutable:\n",
    "    - bool,int,float,string,tuples,frozenset,range -> bytes\n",
    "    - in collection package:\n",
    "        - namedtuple\n",
    "        - deque\n",
    "    - in array module:\n",
    "        - array"
   ],
   "cell_type": "markdown",
   "metadata": {}
  },
  {
   "source": [
    "## Homogeneous vs Heterogeneous sequences\n",
    "- strings are Homogeneous sequences\n",
    "    - each element is of the same type( a character)\n",
    "- list are Heterogeneous sequences\n",
    "    - each element may be different type.\n",
    "\n",
    "### Homogeneous sequences types are usually more efficient*storage wise atleast."
   ],
   "cell_type": "markdown",
   "metadata": {}
  },
  {
   "source": [
    "## Iterable type vs sequence type\n",
    "- Iterable is a container type of object and we can list out the elements in that object one by one.\n",
    "    - so any sequence type is Iterable\n",
    "    - but an Iterable is not necessarily a sequence type\n",
    "        - eg:set"
   ],
   "cell_type": "markdown",
   "metadata": {}
  },
  {
   "source": [
    "## Standart sequence methods\n",
    "- x in s\n",
    "- x not in s\n",
    "- len(s)\n",
    "- min(s)\n",
    "- max(s)\n",
    "- s.index(x)\n",
    "- s.index(x,i)\n",
    "- s.index)x,i,j\n",
    "- s[[i]]\n",
    "- s[[i:j]]\n",
    "- s[[i:j:k]]\n"
   ],
   "cell_type": "markdown",
   "metadata": {}
  },
  {
   "source": [
    "## hashing\n",
    "- immutable sequence types may support hashing\n",
    "- but no if they contain mutable types."
   ],
   "cell_type": "markdown",
   "metadata": {}
  },
  {
   "cell_type": "code",
   "execution_count": 1,
   "metadata": {},
   "outputs": [
    {
     "output_type": "stream",
     "name": "stdout",
     "text": [
      "['__add__', '__class__', '__class_getitem__', '__contains__', '__delattr__', '__delitem__', '__dir__', '__doc__', '__eq__', '__format__', '__ge__', '__getattribute__', '__getitem__', '__gt__', '__hash__', '__iadd__', '__imul__', '__init__', '__init_subclass__', '__iter__', '__le__', '__len__', '__lt__', '__mul__', '__ne__', '__new__', '__reduce__', '__reduce_ex__', '__repr__', '__reversed__', '__rmul__', '__setattr__', '__setitem__', '__sizeof__', '__str__', '__subclasshook__', 'append', 'clear', 'copy', 'count', 'extend', 'index', 'insert', 'pop', 'remove', 'reverse', 'sort']\n"
     ]
    }
   ],
   "source": [
    "# dir() displays the methods available for the object\n",
    "a = [1,2]\n",
    "print(dir(a))"
   ]
  },
  {
   "cell_type": "code",
   "execution_count": 2,
   "metadata": {},
   "outputs": [
    {
     "output_type": "stream",
     "name": "stdout",
     "text": [
      "(1, 2, 3, 4, 1)\n{1, 2, 3, 4}\n"
     ]
    }
   ],
   "source": [
    "# Type casting\n",
    "eg_list = [1, 2, 3, 4, 1]\n",
    "eg_tuple = tuple(eg_list)\n",
    "print(eg_tuple)\n",
    "eg_set = set(eg_list)\n",
    "print(eg_set)"
   ]
  },
  {
   "source": [
    "# Concatenation"
   ],
   "cell_type": "markdown",
   "metadata": {}
  },
  {
   "cell_type": "code",
   "execution_count": 1,
   "metadata": {},
   "outputs": [
    {
     "output_type": "stream",
     "name": "stdout",
     "text": [
      "2142733766848\n"
     ]
    },
    {
     "output_type": "execute_result",
     "data": {
      "text/plain": [
       "2142733757888"
      ]
     },
     "metadata": {},
     "execution_count": 1
    }
   ],
   "source": [
    "names = ['rabin','sabin']\n",
    "print(id(names))\n",
    "names = names + ['ram']\n",
    "id(names)\n",
    "### Concatination dont mutate object, we repoint name to new object. it just create new one."
   ]
  },
  {
   "source": [
    "# In-place Concatenation"
   ],
   "cell_type": "markdown",
   "metadata": {}
  },
  {
   "cell_type": "code",
   "execution_count": 5,
   "metadata": {},
   "outputs": [
    {
     "output_type": "stream",
     "name": "stdout",
     "text": [
      "2142749658816\n2142749658816\n-------------\n2142758002944\n2142750930304\n"
     ]
    }
   ],
   "source": [
    "# Mutable\n",
    "names = ['rabin','sabin']\n",
    "print(id(names))\n",
    "names +=['ram']\n",
    "print(id(names)) # id are same\n",
    "\n",
    "# Immtable\n",
    "print('-------------')\n",
    "names = ('rabin','sabin')\n",
    "print(id(names))\n",
    "names +=('ram',)\n",
    "print(id(names)) # id are different"
   ]
  },
  {
   "source": [
    "# In-place Repetition"
   ],
   "cell_type": "markdown",
   "metadata": {}
  },
  {
   "cell_type": "code",
   "execution_count": 10,
   "metadata": {},
   "outputs": [
    {
     "output_type": "stream",
     "name": "stdout",
     "text": [
      "2142755474496\n2142755473920\n------------\n2142752714304\n2142752714304\n"
     ]
    }
   ],
   "source": [
    "l1 = [1,2,3]\n",
    "print(id(l1))\n",
    "l1 = l1*2\n",
    "print(id(l1)) # diff id\n",
    "\n",
    "print('------------')\n",
    "l1 = [1,2,3]\n",
    "print(id(l1))\n",
    "l1 *=2\n",
    "print(id(l1)) # same id"
   ]
  },
  {
   "source": [
    "# List vs Tuples\n",
    "### Constant folding:\n",
    "- is a process of recognizing and evaluating constant expressions at compile time rather than computing them at runtime."
   ],
   "cell_type": "markdown",
   "metadata": {}
  },
  {
   "source": [
    "from dis import dis\n",
    "\n",
    "dis(compile('(1,2,3,\"rabin\")','string','eval'))"
   ],
   "cell_type": "code",
   "metadata": {},
   "execution_count": 3,
   "outputs": [
    {
     "output_type": "stream",
     "name": "stdout",
     "text": [
      "  1           0 LOAD_CONST               0 ((1, 2, 3, 'rabin'))\n              2 RETURN_VALUE\n"
     ]
    }
   ]
  },
  {
   "cell_type": "code",
   "execution_count": 2,
   "metadata": {},
   "outputs": [
    {
     "output_type": "stream",
     "name": "stdout",
     "text": [
      "  1           0 BUILD_LIST               0\n              2 LOAD_CONST               0 ((1, 2, 3, 'rabin'))\n              4 LIST_EXTEND              1\n              6 RETURN_VALUE\n"
     ]
    }
   ],
   "source": [
    "dis(compile('[1,2,3,\"rabin\"]','string','eval'))"
   ]
  },
  {
   "cell_type": "code",
   "execution_count": 3,
   "metadata": {},
   "outputs": [
    {
     "output_type": "stream",
     "name": "stdout",
     "text": [
      "  1           0 LOAD_CONST               0 (1)\n              2 LOAD_CONST               1 (2)\n              4 LOAD_CONST               2 (3)\n              6 LOAD_CONST               3 (10)\n              8 LOAD_CONST               4 (20)\n             10 BUILD_LIST               2\n             12 BUILD_TUPLE              4\n             14 RETURN_VALUE\n"
     ]
    }
   ],
   "source": [
    "dis(compile('(1,2,3,[10,20])','string','eval'))"
   ]
  },
  {
   "cell_type": "code",
   "execution_count": 7,
   "metadata": {},
   "outputs": [
    {
     "output_type": "stream",
     "name": "stdout",
     "text": [
      "  1           0 LOAD_CONST               0 (1)\n              2 LOAD_CONST               1 (2)\n              4 LOAD_CONST               2 (3)\n              6 LOAD_CONST               3 (10)\n              8 LOAD_CONST               4 (20)\n             10 BUILD_LIST               2\n             12 BUILD_LIST               4\n             14 RETURN_VALUE\n"
     ]
    }
   ],
   "source": [
    "dis(compile('[1,2,3,[10,20]]','string','eval'))"
   ]
  },
  {
   "cell_type": "code",
   "execution_count": 1,
   "metadata": {},
   "outputs": [
    {
     "output_type": "stream",
     "name": "stdout",
     "text": [
      "1.9832389999999975\n"
     ]
    },
    {
     "output_type": "execute_result",
     "data": {
      "text/plain": [
       "10.844048000000015"
      ]
     },
     "metadata": {},
     "execution_count": 1
    }
   ],
   "source": [
    "from timeit import timeit\n",
    "\n",
    "print(timeit(\"(1,2,3,4,5,6,7,8)\",number=10_000_1000))\n",
    "timeit(\"[1,2,3,4,5,6,7,8]\",number=10_000_1000)\n",
    "# So, if in the code endup with tuple or list, and you dont need mutability and dont wont change the sequence, then use tuple, its 6th time faster then list."
   ]
  },
  {
   "cell_type": "code",
   "execution_count": 4,
   "metadata": {},
   "outputs": [
    {
     "output_type": "stream",
     "name": "stdout",
     "text": [
      "  1           0 LOAD_NAME                0 (fin1)\n              2 LOAD_CONST               0 (10)\n              4 LOAD_CONST               1 (20)\n              6 BUILD_TUPLE              3\n              8 RETURN_VALUE\nNone\n0.2283994000000007\n"
     ]
    },
    {
     "output_type": "execute_result",
     "data": {
      "text/plain": [
       "0.3246657999999911"
      ]
     },
     "metadata": {},
     "execution_count": 4
    }
   ],
   "source": [
    "def fin1():\n",
    "    pass\n",
    "\n",
    "print(dis(compile('(fin1,10,20)','string','eval')))\n",
    "\n",
    "print(timeit('(1,2,3,[10,20])',number=1_000_000))\n",
    "\n",
    "timeit('[1,2,3,[10,20]]',number=1_000_000)\n",
    "\n",
    "# if the tuple contains mutable object like list, then the performance will nearly same."
   ]
  },
  {
   "cell_type": "code",
   "execution_count": 11,
   "metadata": {},
   "outputs": [
    {
     "output_type": "stream",
     "name": "stdout",
     "text": [
      "2677249465472 2677249542080\n2677246720016 2677246720016\n"
     ]
    }
   ],
   "source": [
    "l1 = [1,2,3,4]\n",
    "t1 = (1,2,3,4,5)\n",
    "\n",
    "l2 = list(l1)\n",
    "t2 = tuple(t1)\n",
    "\n",
    "print(id(l1),id(l2))\n",
    "print(id(t1),id(t2))\n",
    "# its for optimization, it does make sense to make a shallow copy of immutalbe sequence. you can't mutate it."
   ]
  },
  {
   "cell_type": "code",
   "execution_count": 5,
   "metadata": {},
   "outputs": [
    {
     "output_type": "stream",
     "name": "stdout",
     "text": [
      "0.08759629999997287\n"
     ]
    },
    {
     "output_type": "execute_result",
     "data": {
      "text/plain": [
       "0.15089709999995193"
      ]
     },
     "metadata": {},
     "execution_count": 5
    }
   ],
   "source": [
    "print(timeit('tuple((1,2,3,4,5))',number=1_000_000))\n",
    "# it directly return the tuple.\n",
    "timeit('list((1,2,3,4,5))',number=1_000_000)\n",
    "# it has to construct a new list."
   ]
  },
  {
   "source": [
    "# Copy Sequence\n",
    "- Mutable Sequence can be modified.\n",
    "- Sometimes we want to make sure that whatever the Sequence we are working with cannot be modified, either we or 3rd party function."
   ],
   "cell_type": "markdown",
   "metadata": {}
  },
  {
   "cell_type": "code",
   "execution_count": 7,
   "metadata": {},
   "outputs": [
    {
     "output_type": "stream",
     "name": "stdout",
     "text": [
      "[30, 20, 10] [30, 20, 10]\n"
     ]
    }
   ],
   "source": [
    "# eg: \n",
    "def reverse(s): # this function is bad idea. but here we just want to use function.\n",
    "    s.reverse()\n",
    "    return s\n",
    "\n",
    "s = [10,20,30]\n",
    "new_s = reverse(s)\n",
    "\n",
    "print(s,new_s)\n",
    "\n",
    "# here both the list are modified."
   ]
  },
  {
   "cell_type": "code",
   "execution_count": 9,
   "metadata": {},
   "outputs": [
    {
     "output_type": "stream",
     "name": "stdout",
     "text": [
      "[10, 20, 30] [30, 20, 10]\n"
     ]
    }
   ],
   "source": [
    "# eg: \n",
    "def reverse(s):\n",
    "    s.reverse()\n",
    "    return s\n",
    "\n",
    "s = [10,20,30]\n",
    "new_s = reverse(s.copy())\n",
    "\n",
    "print(s,new_s)"
   ]
  },
  {
   "cell_type": "code",
   "execution_count": 11,
   "metadata": {},
   "outputs": [
    {
     "output_type": "stream",
     "name": "stdout",
     "text": [
      "2067083498496 2067088066624\n2067082547776 2067082547776\n"
     ]
    }
   ],
   "source": [
    "l1 = [1,2,3]\n",
    "l2 = list(l1)\n",
    "print(id(l1),id(l2)) # dif object ->copy\n",
    "\n",
    "t1 = (1,2,3)\n",
    "t2 = tuple(t1)\n",
    "\n",
    "print(id(t1),id(t2)) # same object"
   ]
  },
  {
   "cell_type": "code",
   "execution_count": 15,
   "metadata": {},
   "outputs": [
    {
     "output_type": "stream",
     "name": "stdout",
     "text": [
      "[[10, 20], [30, 40]] ['python', [30, 40]]\n"
     ]
    }
   ],
   "source": [
    "s = [[10,20],[30,40]]\n",
    "cp = s.copy()\n",
    "cp[0] = 'python'\n",
    "print(s,cp)"
   ]
  },
  {
   "cell_type": "code",
   "execution_count": 16,
   "metadata": {},
   "outputs": [
    {
     "output_type": "stream",
     "name": "stdout",
     "text": [
      "[[10, 20], [100, 40]] ['python', [100, 40]]\n"
     ]
    }
   ],
   "source": [
    "cp[1][0] = 100\n",
    "print(s,cp)\n",
    "# the shallow copy use the same mutable inside the collection.\n",
    "# shallow copy just use new object to outer collection. not all object inside the object. eg: list in list"
   ]
  },
  {
   "source": [
    "## The problem is:\n",
    "- if the element of s are mutable, list in list. then there is a problem\n",
    "- if we change the list of list of copied then the change also reflect to old list."
   ],
   "cell_type": "markdown",
   "metadata": {}
  },
  {
   "source": [
    "### This shallow effect not only apply to sequence, it is applied to objects also.\n",
    "## Here comes the Deep-Copy\n",
    "- So, if the collections contain mutable elements, shallow copies are not sufficient to ensure the copy can never be used to modify the original."
   ],
   "cell_type": "markdown",
   "metadata": {}
  },
  {
   "cell_type": "code",
   "execution_count": 19,
   "metadata": {},
   "outputs": [
    {
     "output_type": "stream",
     "name": "stdout",
     "text": [
      "[[1, 2], [3, 4]] [[100, 2], [3, 4]]\n"
     ]
    }
   ],
   "source": [
    "s = [[1,2],[3,4]]\n",
    "\n",
    "cp = [e.copy() for e in s]\n",
    "cp[0][0] = 100\n",
    "\n",
    "print(s,cp)"
   ]
  },
  {
   "source": [
    "## But there is a catch in Deep Copies.\n",
    "- Deep copies are not easy to do. You might even have to deal with circular referencs"
   ],
   "cell_type": "markdown",
   "metadata": {}
  },
  {
   "cell_type": "code",
   "execution_count": 22,
   "metadata": {},
   "outputs": [
    {
     "output_type": "stream",
     "name": "stdout",
     "text": [
      "[10, 20, [[...], 30]]\n"
     ]
    }
   ],
   "source": [
    "a = [10,20]\n",
    "b = [a,30]\n",
    "a.append(b)\n",
    "print(a)\n",
    "# In b, a is used, and in a b is used.\n",
    "# Here we need to handle this circular reference."
   ]
  },
  {
   "cell_type": "code",
   "execution_count": 23,
   "metadata": {},
   "outputs": [
    {
     "output_type": "stream",
     "name": "stdout",
     "text": [
      "[[1, 2], [3, 4]] [[100, 2], [3, 4]]\n"
     ]
    }
   ],
   "source": [
    "from copy import  copy,deepcopy\n",
    "\n",
    "s = [[1,2],[3,4]]\n",
    "\n",
    "cp = deepcopy(s)\n",
    "cp[0][0] = 100\n",
    "\n",
    "print(s,cp)"
   ]
  },
  {
   "source": [
    "# 1.Custom Sequence.\n",
    "- return the length of the Sequence\n",
    "- give an index, returning the element at that index.\n",
    "- sequence types are iterables. but not all iterables are sequence types.\n",
    "- it also choose to handle slice type argument.(negative too.)\n",
    "- iterables -> ____getitem____\n",
    "- raise an IndexError exception if the index is out of bound."
   ],
   "cell_type": "markdown",
   "metadata": {}
  },
  {
   "cell_type": "code",
   "execution_count": 43,
   "metadata": {},
   "outputs": [],
   "source": [
    "from functools import lru_cache\n",
    "class Fib:\n",
    "    def __init__(self,n):\n",
    "        self.n = n\n",
    "\n",
    "    def __len__(self):\n",
    "        return self.n\n",
    "    \n",
    "    @staticmethod\n",
    "    @lru_cache(2*10)\n",
    "    def _fib(n):\n",
    "        if n<2:\n",
    "            return 1\n",
    "        else:\n",
    "            return Fib._fib(n-1)+Fib._fib(n-2)\n",
    "    \n",
    "    def __getitem__(self,s):\n",
    "        if isinstance(s,int):\n",
    "            if s<0:\n",
    "                s = self.n + s\n",
    "            if s<0 or s>=self.n:\n",
    "                raise IndexError\n",
    "            else:\n",
    "                return Fib._fib(s)\n",
    "        else:\n",
    "            start,stop,step = s.indices(self.n)\n",
    "            rng = range(start,stop,step)\n",
    "            return [Fib._fib(i) for i in rng]\n",
    "            # let python handel it, if it is not int/slice."
   ]
  },
  {
   "cell_type": "code",
   "execution_count": 44,
   "metadata": {},
   "outputs": [
    {
     "output_type": "execute_result",
     "data": {
      "text/plain": [
       "5"
      ]
     },
     "metadata": {},
     "execution_count": 44
    }
   ],
   "source": [
    "fib = Fib(10)\n",
    "fib[4]"
   ]
  },
  {
   "cell_type": "code",
   "execution_count": 45,
   "metadata": {},
   "outputs": [
    {
     "output_type": "stream",
     "name": "stdout",
     "text": [
      "[1, 1, 2, 3, 5, 8, 13, 21, 34, 55]\n[1, 1, 4, 9, 25, 64, 169, 441, 1156, 3025]\n"
     ]
    },
    {
     "output_type": "execute_result",
     "data": {
      "text/plain": [
       "55"
      ]
     },
     "metadata": {},
     "execution_count": 45
    }
   ],
   "source": [
    "print(list(fib))\n",
    "print([x**2 for x in fib])\n",
    "fib[-1]"
   ]
  },
  {
   "cell_type": "code",
   "execution_count": 52,
   "metadata": {},
   "outputs": [
    {
     "output_type": "execute_result",
     "data": {
      "text/plain": [
       "[55, 34]"
      ]
     },
     "metadata": {},
     "execution_count": 52
    }
   ],
   "source": [
    "fib[-1:-3:-1]"
   ]
  },
  {
   "source": [
    "# 2. Custom Sequence"
   ],
   "cell_type": "markdown",
   "metadata": {}
  },
  {
   "cell_type": "code",
   "execution_count": 122,
   "metadata": {},
   "outputs": [],
   "source": [
    "class MyClass:\n",
    "    def __init__(self,name):\n",
    "        self.name = name\n",
    "    \n",
    "    def __repr__(self):\n",
    "        return f'MyClass (name = {self.name})'\n",
    "    \n",
    "    def __add__(self,other):   \n",
    "         return MyClass(self.name + other.name)\n",
    "        \n",
    "    def __iadd__(self,other):\n",
    "        if isinstance(other,MyClass):\n",
    "            self.name +=other.name\n",
    "        else:\n",
    "            self.name +=other\n",
    "        return self\n",
    "    \n",
    "    def __mul__(self,n):\n",
    "        return MyClass(self.name*2)\n",
    "    \n",
    "    def __rmul__(self,n):\n",
    "        return self.__mul__(n)\n",
    "    \n",
    "    def __imul__(self,n):\n",
    "        self.name *=n\n",
    "        return self\n",
    "    \n",
    "    def __contains__(self,value):\n",
    "        return value in self.name"
   ]
  },
  {
   "cell_type": "code",
   "execution_count": 123,
   "metadata": {},
   "outputs": [
    {
     "output_type": "stream",
     "name": "stdout",
     "text": [
      "2142756649520\nMyClass (name = RabinPhaiju)\n2142756649520\n"
     ]
    }
   ],
   "source": [
    "c1 = MyClass('Rabin')\n",
    "print(id(c1))\n",
    "c2 = MyClass('Phaiju')\n",
    "\n",
    "print(c1+c2)\n",
    "print(id(c1))"
   ]
  },
  {
   "cell_type": "code",
   "execution_count": 90,
   "metadata": {},
   "outputs": [
    {
     "output_type": "stream",
     "name": "stdout",
     "text": [
      "2142756762672\n2142756762672\n"
     ]
    },
    {
     "output_type": "execute_result",
     "data": {
      "text/plain": [
       "MyClass (name = RabinPhaiju)"
      ]
     },
     "metadata": {},
     "execution_count": 90
    }
   ],
   "source": [
    "print(id(c1))\n",
    "c1 +=c2\n",
    "print(id(c1))\n",
    "c1"
   ]
  },
  {
   "cell_type": "code",
   "execution_count": 91,
   "metadata": {},
   "outputs": [
    {
     "output_type": "stream",
     "name": "stdout",
     "text": [
      "2142756762672\nMyClass (name = RabinPhaijuRabinPhaiju)\n2142756762672\n"
     ]
    }
   ],
   "source": [
    "print(id(c1))\n",
    "print(c1*2)\n",
    "print(id(c1))"
   ]
  },
  {
   "cell_type": "code",
   "execution_count": 112,
   "metadata": {},
   "outputs": [
    {
     "output_type": "stream",
     "name": "stdout",
     "text": [
      "2142756765408\n2142756765408\n"
     ]
    },
    {
     "output_type": "execute_result",
     "data": {
      "text/plain": [
       "MyClass (name = RabinRabin)"
      ]
     },
     "metadata": {},
     "execution_count": 112
    }
   ],
   "source": [
    "print(id(c1))\n",
    "c1 *=2\n",
    "print(id(c1))\n",
    "c1"
   ]
  },
  {
   "cell_type": "code",
   "execution_count": 116,
   "metadata": {},
   "outputs": [
    {
     "output_type": "execute_result",
     "data": {
      "text/plain": [
       "MyClass (name = PhaijuPhaiju)"
      ]
     },
     "metadata": {},
     "execution_count": 116
    }
   ],
   "source": [
    "3*c2"
   ]
  },
  {
   "cell_type": "code",
   "execution_count": 126,
   "metadata": {},
   "outputs": [
    {
     "output_type": "execute_result",
     "data": {
      "text/plain": [
       "True"
      ]
     },
     "metadata": {},
     "execution_count": 126
    }
   ],
   "source": [
    "'P' in c2"
   ]
  },
  {
   "source": [
    "# Sorting Sequence."
   ],
   "cell_type": "markdown",
   "metadata": {}
  },
  {
   "cell_type": "code",
   "execution_count": 28,
   "metadata": {},
   "outputs": [
    {
     "output_type": "execute_result",
     "data": {
      "text/plain": [
       "[756, 46, 45, 34, 10]"
      ]
     },
     "metadata": {},
     "execution_count": 28
    }
   ],
   "source": [
    "# tuple\n",
    "t = 10,45,756,34,46\n",
    "sorted(t,reverse=True)"
   ]
  },
  {
   "cell_type": "code",
   "execution_count": 4,
   "metadata": {},
   "outputs": [
    {
     "output_type": "error",
     "ename": "TypeError",
     "evalue": "'<' not supported between instances of 'complex' and 'complex'",
     "traceback": [
      "\u001b[1;31m---------------------------------------------------------------------------\u001b[0m",
      "\u001b[1;31mTypeError\u001b[0m                                 Traceback (most recent call last)",
      "\u001b[1;32m<ipython-input-4-1c8741ea022d>\u001b[0m in \u001b[0;36m<module>\u001b[1;34m\u001b[0m\n\u001b[0;32m      1\u001b[0m \u001b[0mt\u001b[0m \u001b[1;33m=\u001b[0m \u001b[1;36m1\u001b[0m\u001b[1;33m+\u001b[0m\u001b[1;36m1j\u001b[0m\u001b[1;33m,\u001b[0m\u001b[1;36m2\u001b[0m\u001b[1;33m+\u001b[0m\u001b[1;36m2j\u001b[0m\u001b[1;33m,\u001b[0m\u001b[1;36m2\u001b[0m\u001b[1;33m+\u001b[0m\u001b[1;36m3j\u001b[0m\u001b[1;33m\u001b[0m\u001b[1;33m\u001b[0m\u001b[0m\n\u001b[1;32m----> 2\u001b[1;33m \u001b[0msorted\u001b[0m\u001b[1;33m(\u001b[0m\u001b[0mt\u001b[0m\u001b[1;33m)\u001b[0m\u001b[1;33m\u001b[0m\u001b[1;33m\u001b[0m\u001b[0m\n\u001b[0m",
      "\u001b[1;31mTypeError\u001b[0m: '<' not supported between instances of 'complex' and 'complex'"
     ]
    }
   ],
   "source": [
    "# tuple with complex number\n",
    "t = 1+1j,2+2j,2+3j\n",
    "sorted(t)"
   ]
  },
  {
   "cell_type": "code",
   "execution_count": 5,
   "metadata": {},
   "outputs": [
    {
     "output_type": "execute_result",
     "data": {
      "text/plain": [
       "[10, 34, 45, 46, 756]"
      ]
     },
     "metadata": {},
     "execution_count": 5
    }
   ],
   "source": [
    "# set\n",
    "t = {10,45,756,34,46}\n",
    "sorted(t)"
   ]
  },
  {
   "cell_type": "code",
   "execution_count": 6,
   "metadata": {},
   "outputs": [
    {
     "output_type": "execute_result",
     "data": {
      "text/plain": [
       "[1, 2, 4, 5, 9]"
      ]
     },
     "metadata": {},
     "execution_count": 6
    }
   ],
   "source": [
    "# dictionary\n",
    "t = {2:10,5:45,9:756,1:34,4:46}\n",
    "sorted(t)"
   ]
  },
  {
   "cell_type": "code",
   "execution_count": 13,
   "metadata": {},
   "outputs": [
    {
     "output_type": "execute_result",
     "data": {
      "text/plain": [
       "['b', 'd', 'e', 'f', 'r']"
      ]
     },
     "metadata": {},
     "execution_count": 13
    }
   ],
   "source": [
    "# dictionary\n",
    "t = {'b':10,'e':45,'f':756,'r':34,'d':46}\n",
    "sorted(t)"
   ]
  },
  {
   "cell_type": "code",
   "execution_count": 15,
   "metadata": {},
   "outputs": [
    {
     "output_type": "execute_result",
     "data": {
      "text/plain": [
       "['b', 'r', 'e', 'd', 'f']"
      ]
     },
     "metadata": {},
     "execution_count": 15
    }
   ],
   "source": [
    "sorted(t,key=lambda k: t[k])"
   ]
  },
  {
   "cell_type": "code",
   "execution_count": 20,
   "metadata": {},
   "outputs": [
    {
     "output_type": "execute_result",
     "data": {
      "text/plain": [
       "['apple', 'bye', 'hello', 'nepal', 'this', 'za']"
      ]
     },
     "metadata": {},
     "execution_count": 20
    }
   ],
   "source": [
    "# strings\n",
    "t = 'this','apple','hello','nepal','bye','za'\n",
    "sorted(t)"
   ]
  },
  {
   "cell_type": "code",
   "execution_count": 24,
   "metadata": {},
   "outputs": [
    {
     "output_type": "execute_result",
     "data": {
      "text/plain": [
       "['ze', 'bye', 'this', 'apple', 'hello', 'nepal']"
      ]
     },
     "metadata": {},
     "execution_count": 24
    }
   ],
   "source": [
    "# strings sorted based in length\n",
    "t = 'this','apple','hello','nepal','bye','ze'\n",
    "sorted(t,key=lambda s:len(s))"
   ]
  },
  {
   "cell_type": "code",
   "execution_count": 27,
   "metadata": {},
   "outputs": [
    {
     "output_type": "execute_result",
     "data": {
      "text/plain": [
       "[(1+1j), (2+2j), (2+3j)]"
      ]
     },
     "metadata": {},
     "execution_count": 27
    }
   ],
   "source": [
    "# tuple with complex number\n",
    "t = 2+2j,2+3j,1+1j\n",
    "sorted(t,key=lambda k:abs(k))"
   ]
  },
  {
   "cell_type": "code",
   "execution_count": 33,
   "metadata": {},
   "outputs": [
    {
     "output_type": "execute_result",
     "data": {
      "text/plain": [
       "['a', 'bird', 'is', 'late', 'parrrot', 'this']"
      ]
     },
     "metadata": {},
     "execution_count": 33
    }
   ],
   "source": [
    "l = 'this is a bird late parrrot'\n",
    "l = l.split(' ')\n",
    "l.sort()\n",
    "l"
   ]
  },
  {
   "source": [
    "### sorted vs sort\n",
    "- sorted: return a new collection, dont mutate\n",
    "- sort: dont return, mutate the collection.\n",
    "-\n",
    "- sort is slightly faster becuase it in-place sort. dont need to create new collection."
   ],
   "cell_type": "markdown",
   "metadata": {}
  },
  {
   "cell_type": "code",
   "execution_count": null,
   "metadata": {},
   "outputs": [],
   "source": []
  }
 ]
}