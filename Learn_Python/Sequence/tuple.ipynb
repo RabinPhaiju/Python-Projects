{
 "metadata": {
  "language_info": {
   "codemirror_mode": {
    "name": "ipython",
    "version": 3
   },
   "file_extension": ".py",
   "mimetype": "text/x-python",
   "name": "python",
   "nbconvert_exporter": "python",
   "pygments_lexer": "ipython3",
   "version": "3.9.1"
  },
  "orig_nbformat": 2,
  "kernelspec": {
   "name": "python391jvsc74a57bd06dbcfa4acfde829108fd9fed7b4c7e3cf5b89483651b78d4b8e08d6c4461514a",
   "display_name": "Python 3.9.1 64-bit ('venv1': venv)"
  }
 },
 "nbformat": 4,
 "nbformat_minor": 2,
 "cells": [
  {
   "source": [
    "# Tuple -> Immutable -> Sequence\n",
    "## Immutability of Tuples\n",
    "- elements cannot be added or removed or edit once assigned.\n",
    "- the order of element cannot be changed or appended or extended as list.\n",
    "- tuples are indexed similar to list.\n",
    "\n",
    "## We really need to think of tuples also as data records.\n",
    "- ### here position of value has meaning.\n",
    "- works well for representing data structures:\n",
    "- Point:(10,20) -> (x-cord,y-cord)\n",
    "- Circle:(0,0,10) -> x-cord,y-cord,radius\n",
    "- City: ('London',UK',8_780_000) -> City,country,population.\n",
    "- ### Because tuples, string and integers are immutable, we are guaranteed that the data and data structure for tuple will never change."
   ],
   "cell_type": "markdown",
   "metadata": {}
  },
  {
   "source": [
    "## Tuple vs list vs strings\n",
    " Tuples | List | Strings\n",
    "--- | --- | --- \n",
    " Containers | Containers | Containers\n",
    " Order matters | Order matters | Order matters\n",
    " Heterogeneous | Heterogeneous | -\n",
    " Homogeneous | Homogeneous | Homogeneous\n",
    " Indexable | Indexable | Indexable\n",
    " Iterable | Iterable | Iterable\n",
    " Immutable | Mutalbe | Immutable\n",
    " Fixed length | Len can change | Fix length\n",
    " Fix order | order can change | fix order\n",
    " "
   ],
   "cell_type": "markdown",
   "metadata": {}
  },
  {
   "source": [],
   "cell_type": "markdown",
   "metadata": {}
  },
  {
   "cell_type": "code",
   "execution_count": 1,
   "metadata": {},
   "outputs": [
    {
     "output_type": "stream",
     "name": "stdout",
     "text": [
      "<class 'tuple'>\n<class 'tuple'>\n<class 'tuple'>\n<class 'tuple'>\n<class 'tuple'>\n<class 'int'>\n"
     ]
    }
   ],
   "source": [
    "# define empty tuple\n",
    "a = tuple()\n",
    "print(type(a))\n",
    "\n",
    "# define tuple\n",
    "a = 1,2,3,4,5\n",
    "print(type(a))\n",
    "b = 4, # also a tuple\n",
    "print(type(b))\n",
    "c = (0, 1, 2, 3)\n",
    "print(type(c))\n",
    "d = (4,)\n",
    "print(type(d))\n",
    "e = (4)\n",
    "print(type(e))\n"
   ]
  },
  {
   "cell_type": "code",
   "execution_count": 2,
   "metadata": {},
   "outputs": [
    {
     "output_type": "stream",
     "name": "stdout",
     "text": [
      "London UK\n"
     ]
    }
   ],
   "source": [
    "london = ('London','UK',8_780_000)\n",
    "print(london[0],london[1])"
   ]
  },
  {
   "cell_type": "code",
   "execution_count": 6,
   "metadata": {},
   "outputs": [
    {
     "output_type": "stream",
     "name": "stdout",
     "text": [
      "total population is: 19380000\n"
     ]
    }
   ],
   "source": [
    "# structure will never change so. -> hetrogeneous.\n",
    "cities = [\n",
    "    ('Londom','UK',8780000),\n",
    "    ('New York','USA',8500000),\n",
    "    (\"Beijing\",'China',2100000)\n",
    "]\n",
    "total_pop = 0\n",
    "for city in cities:\n",
    "    total_pop +=city[2]\n",
    "\n",
    "print('total population is:',total_pop)"
   ]
  },
  {
   "cell_type": "code",
   "execution_count": 6,
   "metadata": {},
   "outputs": [
    {
     "output_type": "execute_result",
     "data": {
      "text/plain": [
       "([1, 2, 3], [3, 2, 1])"
      ]
     },
     "metadata": {},
     "execution_count": 6
    }
   ],
   "source": [
    "# 'tuple' object does not support item assignment\n",
    "# but they can contain mutable objects:\n",
    "v = ([1, 2, 3], [3, 2, 1])\n",
    "x, y = v\n",
    "x,y"
   ]
  },
  {
   "cell_type": "code",
   "execution_count": 9,
   "metadata": {},
   "outputs": [
    {
     "output_type": "execute_result",
     "data": {
      "text/plain": [
       "int"
      ]
     },
     "metadata": {},
     "execution_count": 9
    }
   ],
   "source": [
    "# bracket in python is optional\n",
    "a = (1) # type of a is int\n",
    "type(a)"
   ]
  },
  {
   "source": [
    "# Extracting data from tuples\n",
    "city,country,population = ('London','UK',8780000)\n",
    "city,country,population = 'New York','USA',8500000\n",
    "print(city)"
   ],
   "cell_type": "code",
   "metadata": {},
   "execution_count": 9,
   "outputs": [
    {
     "output_type": "stream",
     "name": "stdout",
     "text": [
      "New York\n"
     ]
    }
   ]
  },
  {
   "cell_type": "code",
   "execution_count": 8,
   "metadata": {},
   "outputs": [
    {
     "output_type": "stream",
     "name": "stdout",
     "text": [
      "DJIA 2018\n"
     ]
    }
   ],
   "source": [
    "# Dummy variable\n",
    "city,_,population = ('London','UK',8780000)\n",
    "record = ('DJIA','2018',1,19,25987.35,26071.72,3343,4656)\n",
    "# if we just need name and year\n",
    "name,year,*_ = record\n",
    "print(name,year)"
   ]
  },
  {
   "source": [
    "# Tuples as Data Structures.\n",
    "- () is not that define tuples\n",
    "    - a = 10,20\n",
    "- but, in some cases we need to specify ().\n",
    "    - in parameters, etc."
   ],
   "cell_type": "markdown",
   "metadata": {}
  },
  {
   "cell_type": "code",
   "execution_count": 10,
   "metadata": {},
   "outputs": [
    {
     "output_type": "stream",
     "name": "stdout",
     "text": [
      "1 5 6\n"
     ]
    }
   ],
   "source": [
    "a = 1,2,3,4,5,6\n",
    "x,*_,y,z = a\n",
    "print(x,y,z)"
   ]
  },
  {
   "cell_type": "code",
   "execution_count": 15,
   "metadata": {},
   "outputs": [
    {
     "output_type": "stream",
     "name": "stdout",
     "text": [
      "<class 'tuple'> ([1, 2, 3], [4, 5, 6]) 2027934645440\n<class 'tuple'> ([10, 2, 3], [4, 5, 6]) 2027934645440\n"
     ]
    }
   ],
   "source": [
    "# element/object of tuples are immutable but, if the element/object self is mutable then we can edit the elements.\n",
    "a = ([1,2,3],[4,5,6])\n",
    "print(type(a),a,id(a))\n",
    "a[0][0] = 10\n",
    "print(type(a),a,id(a))\n",
    "# Notice that the address of the tuple is not changed, but we have changed the element/object of the tuple."
   ]
  },
  {
   "cell_type": "code",
   "execution_count": 28,
   "metadata": {},
   "outputs": [
    {
     "output_type": "stream",
     "name": "stdout",
     "text": [
      "total population is: 106645576\n"
     ]
    }
   ],
   "source": [
    "# tuple in class\n",
    "pt1 = (0,0)\n",
    "pt2 = (10,20)\n",
    "\n",
    "london = 'London','UK',8_967_8600\n",
    "new_yrok = 'New York','USA',8_978_989\n",
    "beijing = 'Bejing','China',7_987_987\n",
    "\n",
    "cities = [london,new_yrok,beijing]\n",
    "\n",
    "print('total population is:',sum(city[2] for city in cities))"
   ]
  },
  {
   "source": [
    "## csv to tuple"
   ],
   "cell_type": "markdown",
   "metadata": {}
  },
  {
   "cell_type": "code",
   "execution_count": 31,
   "metadata": {},
   "outputs": [
    {
     "output_type": "stream",
     "name": "stdout",
     "text": [
      "(234, 3434, 3434) <class 'tuple'>\n"
     ]
    }
   ],
   "source": [
    "a = '234,3434,3434'\n",
    "b = tuple(int(x) for x in a.split(','))\n",
    "print(b,type(b))"
   ]
  },
  {
   "source": [
    "# Named Tuple"
   ],
   "cell_type": "markdown",
   "metadata": {}
  },
  {
   "cell_type": "code",
   "execution_count": 33,
   "metadata": {},
   "outputs": [],
   "source": [
    "# Using a class insted.\n",
    "# At this point, in order to make things clearer for the reader(not for compiler), we might want to approach this using a class instead.\n",
    "\n",
    "#eg: Using class\n",
    "class Stock:\n",
    "    def __init__(self,symbol,year,month,day,open,high,low,close):\n",
    "        self.symbol=symbol\n",
    "        self.year = year\n",
    "        self.month = month\n",
    "        self.day = day\n",
    "        self.open = open\n",
    "        self.high = high\n",
    "        self.low = low\n",
    "        self.close = close\n",
    "\n",
    "\n",
    "# eg: tuple\n",
    "stock = ('JLI',2021,'July',21,880,900,870,890)"
   ]
  },
  {
   "source": [
    "Class-Approach | Tuple-Approach\n",
    "-----------------|--------------\n",
    "jli.symbol | jli[[0]]\n",
    "jli.open | jli[[4]]\n",
    "jli.close | jli[[7]]\n",
    "jli.high-jli.low | jli[[5]]-jli[[6]]\n",
    "\n",
    "- So, class gives a readability.\n",
    "- In class, we can use ____repr____, and ____eq____\n",
    "\n",
    "## But, Stock is mutable. Here comes the Named Tuple.\n",
    "### There's a lot to like using tuples to represent data structures.\n",
    "- The real drawback is that, we have to know what the positions means, and remember this is our code.\n",
    "- If we ever need to change the structure of tuple in our code. Most likly to break our code."
   ],
   "cell_type": "markdown",
   "metadata": {}
  },
  {
   "source": [
    "### Named tuple to rescue.\n",
    "- So what if we could somehow combine these two approaches, essentially creating tuples where we can, in addition, give meaninful names to the position.\n",
    "\n",
    "- They subclass tuple, and add a layer to assign property names to the position elements.\n",
    "- ### from collections import namedtuple\n",
    "    - namedtuple is a function, which generates a new class ----> class factory\n",
    "    - that new class inherits from tuple\n",
    "    - but also provides named property to access elements of the tuple.\n",
    "    - but an instance of that class is still a tuple. \n"
   ],
   "cell_type": "markdown",
   "metadata": {}
  },
  {
   "source": [
    "## Generating named tuple class\n",
    "- We have to understand that namedtuple is a class factory.\n",
    "- we are essentaially creating a new class, just as if we had use class ourself.\n",
    "- * namedtuple needs a new things to generate this calss:\n",
    "        - the class  name we want to use\n",
    "        - a sequence of field names (string) we want to assign, in the order of elments in the tuple"
   ],
   "cell_type": "markdown",
   "metadata": {}
  },
  {
   "cell_type": "code",
   "execution_count": 77,
   "metadata": {},
   "outputs": [
    {
     "output_type": "stream",
     "name": "stdout",
     "text": [
      "10\n20\nTrue\n"
     ]
    }
   ],
   "source": [
    "from collections import namedtuple\n",
    "Point2D = namedtuple('Point2D',['x','y'])\n",
    "Point2D1 = namedtuple('Point2D',('x','y'))\n",
    "Point2D2 = namedtuple('Point2D','x,y')\n",
    "Vector3D = namedtuple('Vector3D','x y z')\n",
    "\n",
    "# we can create instances if Point2D, just as we would with any class(since it is a class).\n",
    "\n",
    "pt = Point2D(10,20)\n",
    "pt1 = Point2D1(x=10,y=20)\n",
    "\n",
    "print(pt.x)\n",
    "\n",
    "print(pt1[1])\n",
    "\n",
    "print(isinstance(pt,tuple))"
   ]
  },
  {
   "cell_type": "code",
   "execution_count": 64,
   "metadata": {},
   "outputs": [
    {
     "output_type": "stream",
     "name": "stdout",
     "text": [
      "address False\nvalue True\n"
     ]
    },
    {
     "output_type": "execute_result",
     "data": {
      "text/plain": [
       "20"
      ]
     },
     "metadata": {},
     "execution_count": 64
    }
   ],
   "source": [
    "print('address',pt is pt1)\n",
    "print('value',pt == pt1)\n",
    "# in case of class, we cannot directly equal, we have to use __eq__\n",
    "max(pt)\n",
    "# same for the max, we cannot direclty use max in class."
   ]
  },
  {
   "cell_type": "code",
   "execution_count": 72,
   "metadata": {},
   "outputs": [
    {
     "output_type": "execute_result",
     "data": {
      "text/plain": [
       "500"
      ]
     },
     "metadata": {},
     "execution_count": 72
    }
   ],
   "source": [
    "# for dot product of namedtuple\n",
    "def dot_product(a,b):\n",
    "    return sum(e[0]*e[1]for e in zip(a,b))\n",
    "\n",
    "\n",
    "dot_product(pt,pt1)"
   ]
  },
  {
   "cell_type": "code",
   "execution_count": 74,
   "metadata": {},
   "outputs": [
    {
     "output_type": "execute_result",
     "data": {
      "text/plain": [
       "6"
      ]
     },
     "metadata": {},
     "execution_count": 74
    }
   ],
   "source": [
    "# vector 3D\n",
    "v1 = Vector3D(1,2,3)\n",
    "v2 = Vector3D(1,1,1)\n",
    "\n",
    "dot_product(v1,v2)"
   ]
  },
  {
   "cell_type": "code",
   "execution_count": 51,
   "metadata": {},
   "outputs": [
    {
     "output_type": "error",
     "ename": "AttributeError",
     "evalue": "can't set attribute",
     "traceback": [
      "\u001b[1;31m---------------------------------------------------------------------------\u001b[0m",
      "\u001b[1;31mAttributeError\u001b[0m                            Traceback (most recent call last)",
      "\u001b[1;32m<ipython-input-51-f597262db83f>\u001b[0m in \u001b[0;36m<module>\u001b[1;34m\u001b[0m\n\u001b[1;32m----> 1\u001b[1;33m \u001b[0mpt\u001b[0m\u001b[1;33m.\u001b[0m\u001b[0mx\u001b[0m \u001b[1;33m=\u001b[0m \u001b[1;36m100\u001b[0m\u001b[1;33m\u001b[0m\u001b[1;33m\u001b[0m\u001b[0m\n\u001b[0m",
      "\u001b[1;31mAttributeError\u001b[0m: can't set attribute"
     ]
    }
   ],
   "source": [
    "pt.x = 100"
   ]
  },
  {
   "cell_type": "code",
   "execution_count": 57,
   "metadata": {},
   "outputs": [
    {
     "output_type": "stream",
     "name": "stdout",
     "text": [
      "('x', 'y')\n"
     ]
    },
    {
     "output_type": "execute_result",
     "data": {
      "text/plain": [
       "{'x': 20, 'y': 30}"
      ]
     },
     "metadata": {},
     "execution_count": 57
    }
   ],
   "source": [
    "# field name of the tuple generated class.\n",
    "print(Point2D._fields)\n",
    "\n",
    "# extracting named tuple values as a dictionary\n",
    "pt1._asdict()"
   ]
  },
  {
   "cell_type": "code",
   "execution_count": 85,
   "metadata": {},
   "outputs": [
    {
     "output_type": "execute_result",
     "data": {
      "text/plain": [
       "('JLI', 900)"
      ]
     },
     "metadata": {},
     "execution_count": 85
    }
   ],
   "source": [
    "Stock = namedtuple('JLI','symbol year month day open high low close')\n",
    "s1 = Stock('JLI',2021,'July',21,880,900,870,890)\n",
    "\n",
    "symbol,*_,high,low,close = s1\n",
    "symbol,high"
   ]
  },
  {
   "source": [
    "# Modifying namedtuples - not mutating\n",
    "- named tuples are immutable, so we have to create a new tuple, with modified values."
   ],
   "cell_type": "markdown",
   "metadata": {}
  },
  {
   "cell_type": "code",
   "execution_count": 1,
   "metadata": {},
   "outputs": [
    {
     "output_type": "execute_result",
     "data": {
      "text/plain": [
       "Point2D(x=100, y=0)"
      ]
     },
     "metadata": {},
     "execution_count": 1
    }
   ],
   "source": [
    "from collections import namedtuple\n",
    "\n",
    "Point2D = namedtuple('Point2D','x y')\n",
    "pt = Point2D(0,0)\n",
    "\n",
    "pt = Point2D(100,pt.y)\n",
    "pt"
   ]
  },
  {
   "source": [
    "### Drawback"
   ],
   "cell_type": "markdown",
   "metadata": {}
  },
  {
   "cell_type": "code",
   "execution_count": 3,
   "metadata": {},
   "outputs": [
    {
     "output_type": "execute_result",
     "data": {
      "text/plain": [
       "JLI(symbol='JLI', year=2021, month='July', day=21, open=880, high=900, low=870, close=999)"
      ]
     },
     "metadata": {},
     "execution_count": 3
    }
   ],
   "source": [
    "Stock = namedtuple('JLI','symbol year month day open high low close')\n",
    "s1 = Stock('JLI',2021,'July',21,880,900,870,890)\n",
    "\n",
    "s1 = Stock(s1.symbol,s1.year,s1.month,s1.day,s1.open,s1.high,s1.low,999)\n",
    "s1\n",
    "# it painful to edit a namedtuple in this way, we have to specify which are not changing."
   ]
  },
  {
   "cell_type": "code",
   "execution_count": 7,
   "metadata": {},
   "outputs": [
    {
     "output_type": "execute_result",
     "data": {
      "text/plain": [
       "JLI(symbol='JLI', year=2021, month='July', day=21, open=880, high=900, low=870, close=90)"
      ]
     },
     "metadata": {},
     "execution_count": 7
    }
   ],
   "source": [
    "# We can using slicing or unpacking\n",
    "s1 = Stock(*s1[:7],568)\n",
    "# or\n",
    "*current,_ = s1\n",
    "s1= Stock(*current,90)\n",
    "s1"
   ]
  },
  {
   "cell_type": "code",
   "execution_count": 14,
   "metadata": {},
   "outputs": [
    {
     "output_type": "execute_result",
     "data": {
      "text/plain": [
       "JLI(symbol='JLI', year=2021, month='July', day=21, open=880, high=900, low=870, close=888)"
      ]
     },
     "metadata": {},
     "execution_count": 14
    }
   ],
   "source": [
    "# We can use _make class method- but we need to create na iterable taht contains all the values first:\n",
    "*current,_ = s1\n",
    "current.append(888)\n",
    "\n",
    "s1 = Stock._make(current)\n",
    "s1"
   ]
  },
  {
   "source": [
    "### But there is still a small drawback\n",
    "- what if we want to change a value in the middle. (multiple middle values.)\n",
    "- cannot use extend packing."
   ],
   "cell_type": "markdown",
   "metadata": {}
  },
  {
   "cell_type": "code",
   "execution_count": 16,
   "metadata": {},
   "outputs": [
    {
     "output_type": "stream",
     "name": "stdout",
     "text": [
      "JLI(symbol='JLI', year=2021, month='July', day=21, open=880, high=900, low=870, close=888)\n"
     ]
    },
    {
     "output_type": "execute_result",
     "data": {
      "text/plain": [
       "JLI(symbol='JLI', year=2000, month='July', day=1, open=880, high=900, low=90, close=888)"
      ]
     },
     "metadata": {},
     "execution_count": 16
    }
   ],
   "source": [
    "# We can use _replace\n",
    "print(s1)\n",
    "s1 = s1._replace(year=2000,day=1,low=90)\n",
    "s1"
   ]
  },
  {
   "source": [
    "# Extending namedtuples - not mutating"
   ],
   "cell_type": "markdown",
   "metadata": {}
  },
  {
   "cell_type": "code",
   "execution_count": 17,
   "metadata": {},
   "outputs": [
    {
     "output_type": "execute_result",
     "data": {
      "text/plain": [
       "JLI(symbol='JLI', year=2021, month='July', day=21, open=880, high=900, low=870, close=890)"
      ]
     },
     "metadata": {},
     "execution_count": 17
    }
   ],
   "source": [
    "Stock = namedtuple('JLI','symbol year month day open high low close')\n",
    "s1 = Stock('JLI',2021,'July',21,880,900,870,890)\n",
    "s1"
   ]
  },
  {
   "cell_type": "code",
   "execution_count": 21,
   "metadata": {},
   "outputs": [
    {
     "output_type": "execute_result",
     "data": {
      "text/plain": [
       "StockExt(symbol='JLI', year=2021, month='July', day=21, open=880, high=900, low=870, close=890, prev_close=880)"
      ]
     },
     "metadata": {},
     "execution_count": 21
    }
   ],
   "source": [
    "new_fields = Stock._fields + ('prev_close',)\n",
    "\n",
    "StockExt = namedtuple('StockExt',new_fields)\n",
    "s2 = StockExt._make((*s1,880))\n",
    "s2"
   ]
  },
  {
   "source": [
    "# Docstrings and Default values in namedtuples"
   ],
   "cell_type": "markdown",
   "metadata": {}
  },
  {
   "cell_type": "code",
   "execution_count": 25,
   "metadata": {},
   "outputs": [
    {
     "output_type": "stream",
     "name": "stdout",
     "text": [
      "Point2D(x, y)\nAlias for field number 0\nAlias for field number 1\n"
     ]
    }
   ],
   "source": [
    "Point2D = namedtuple('Point2D','x y ')\n",
    "\n",
    "print(Point2D.__doc__)\n",
    "print(Point2D.x.__doc__)\n",
    "print(Point2D.y.__doc__)"
   ]
  },
  {
   "cell_type": "code",
   "execution_count": 26,
   "metadata": {},
   "outputs": [
    {
     "output_type": "stream",
     "name": "stdout",
     "text": [
      "Represents a 2D Cartesain coordinate\nx coordinate\ny coordinate\n"
     ]
    }
   ],
   "source": [
    "# Overriding DocStrings.\n",
    "Point2D.__doc__ = 'Represents a 2D Cartesain coordinate'\n",
    "Point2D.x.__doc__ = 'x coordinate'\n",
    "Point2D.y.__doc__ = 'y coordinate'\n",
    "\n",
    "print(Point2D.__doc__)\n",
    "print(Point2D.x.__doc__)\n",
    "print(Point2D.y.__doc__)"
   ]
  },
  {
   "source": [
    "### Default Values\n",
    "- namedtuple function doesnot provide us a way to define fefault values for each fields\n",
    "- Two approach are:\n",
    "    - using a prototype\n",
    "        - create an instance of the named tuple with default values-the prototype.\n",
    "        - create any additional instances of the named tuple using the prototype._replace method.\n",
    "        - need to supply a default for every field(can be None)\n",
    "    - using __defaults__ property.\n",
    "        - directly set the defaults of the named tuple constructor (the ____new____ method)\n",
    "* we cannot have non-defaulted parameters after the first default parameter."
   ],
   "cell_type": "markdown",
   "metadata": {}
  },
  {
   "cell_type": "code",
   "execution_count": 29,
   "metadata": {},
   "outputs": [
    {
     "output_type": "execute_result",
     "data": {
      "text/plain": [
       "Vector2D(x1=10, y1=10, x2=20, y2=20, origin_x=0, origin_y=0)"
      ]
     },
     "metadata": {},
     "execution_count": 29
    }
   ],
   "source": [
    "# USing prototype\n",
    "Vector2D = namedtuple('Vector2D','x1 y1 x2 y2 origin_x,origin_y')\n",
    "vector_zero = Vector2D(0,0,0,0,0,0)\n",
    "\n",
    "v1 = vector_zero._replace(x1=10,y1=10,x2=20,y2=20)\n",
    "v1"
   ]
  },
  {
   "cell_type": "code",
   "execution_count": 30,
   "metadata": {},
   "outputs": [
    {
     "output_type": "execute_result",
     "data": {
      "text/plain": [
       "Vector2D(x1=10, y1=10, x2=20, y2=20, origin_x=0, origin_y=0)"
      ]
     },
     "metadata": {},
     "execution_count": 30
    }
   ],
   "source": [
    "# using __defaults__\n",
    "# we need to provide defaults to the constructor of our named tuple class.\n",
    "\n",
    "Vector2D = namedtuple('Vector2D','x1 y1 x2 y2 origin_x,origin_y')\n",
    "Vector2D.__new__.__defaults__ = (0,0) # default from last.\n",
    "\n",
    "v1 = Vector2D(10,10,20,20)\n",
    "v1\n",
    "# better than prototype."
   ]
  },
  {
   "source": [
    "# Named Tuples - Application - Returning Multiple Values"
   ],
   "cell_type": "markdown",
   "metadata": {}
  },
  {
   "cell_type": "code",
   "execution_count": 31,
   "metadata": {},
   "outputs": [],
   "source": [
    "from random import randint,random\n",
    "from collections import namedtuple\n",
    "\n",
    "def random_color():\n",
    "    red = randint(0,255)\n",
    "    blue= randint(0,255)\n",
    "    green = randint(0,255)\n",
    "    alpha = round(random(),2)\n",
    "    return red,green,blue,alpha"
   ]
  },
  {
   "cell_type": "code",
   "execution_count": 34,
   "metadata": {},
   "outputs": [
    {
     "output_type": "execute_result",
     "data": {
      "text/plain": [
       "Color(red=103, green=194, blue=3, alpha=0.65)"
      ]
     },
     "metadata": {},
     "execution_count": 34
    }
   ],
   "source": [
    "color = random_color()\n",
    "\n",
    "Color = namedtuple('Color','red green blue alpha')\n",
    "\n",
    "c1 = Color(*color)\n",
    "c1"
   ]
  },
  {
   "source": [
    "# Named Tupes - Application - Alternative to Dictoinaries"
   ],
   "cell_type": "markdown",
   "metadata": {}
  },
  {
   "cell_type": "code",
   "execution_count": 45,
   "metadata": {},
   "outputs": [
    {
     "output_type": "execute_result",
     "data": {
      "text/plain": [
       "200"
      ]
     },
     "metadata": {},
     "execution_count": 45
    }
   ],
   "source": [
    "data_dict = dict(key1=100,key2=200,key3=300)\n",
    "# key should be hashable and tuple support.\n",
    "# in dict-> order is guareentied (python 3.7)\n",
    "data_dict['key2']"
   ]
  },
  {
   "cell_type": "code",
   "execution_count": 46,
   "metadata": {},
   "outputs": [
    {
     "output_type": "execute_result",
     "data": {
      "text/plain": [
       "Data(key1=100, key2=200, key3=300)"
      ]
     },
     "metadata": {},
     "execution_count": 46
    }
   ],
   "source": [
    "from collections import namedtuple\n",
    "\n",
    "Data = namedtuple('Data',data_dict.keys())\n",
    "d1 = Data(*data_dict.values()) # might get wrong value in wrong key\n",
    "d1"
   ]
  },
  {
   "cell_type": "code",
   "execution_count": 49,
   "metadata": {},
   "outputs": [
    {
     "output_type": "execute_result",
     "data": {
      "text/plain": [
       "Data(key1=100, key2=200, key3=300)"
      ]
     },
     "metadata": {},
     "execution_count": 49
    }
   ],
   "source": [
    "# right value at right key, much safer.\n",
    "d2 = Data(**data_dict)\n",
    "d2"
   ]
  },
  {
   "cell_type": "code",
   "execution_count": 50,
   "metadata": {},
   "outputs": [
    {
     "output_type": "execute_result",
     "data": {
      "text/plain": [
       "100"
      ]
     },
     "metadata": {},
     "execution_count": 50
    }
   ],
   "source": [
    "d2.key1"
   ]
  },
  {
   "cell_type": "code",
   "execution_count": null,
   "metadata": {},
   "outputs": [],
   "source": [
    "# tuples are light weight then dictionaries.\n",
    "# if want to access any attribute of the tuples. editor will sugest."
   ]
  },
  {
   "cell_type": "code",
   "execution_count": 70,
   "metadata": {},
   "outputs": [],
   "source": [
    "# want to generate namedtuple of list of dictories\n",
    "data_list= [\n",
    "    {'key2':2,'key1':1},\n",
    "    {'key2':2,'key1':1},\n",
    "    {'key3':3,'key1':1,'key2':2},\n",
    "    {'key1':1}\n",
    "]"
   ]
  },
  {
   "cell_type": "code",
   "execution_count": 82,
   "metadata": {},
   "outputs": [
    {
     "output_type": "stream",
     "name": "stdout",
     "text": [
      "{'key2', 'key3', 'key1'}\n('key1', 'key2', 'key3')\n"
     ]
    },
    {
     "output_type": "execute_result",
     "data": {
      "text/plain": [
       "[Struck(key1=1, key2=2, key3=None),\n",
       " Struck(key1=1, key2=2, key3=None),\n",
       " Struck(key1=1, key2=2, key3=3),\n",
       " Struck(key1=1, key2=None, key3=None)]"
      ]
     },
     "metadata": {},
     "execution_count": 82
    }
   ],
   "source": [
    "keys = {key for dict_ in data_list for key in dict_.keys()}\n",
    "print(keys)\n",
    "\n",
    "Struct = namedtuple('Struck',sorted(keys))\n",
    "print(Struct._fields)\n",
    "\n",
    "# need to use default(None) , that every dict have not 2 keys.\n",
    "Struct.__new__.__defaults__= (None,)*len(Struct._fields)\n",
    "\n",
    "tuple_list = []\n",
    "for dict_ in data_list:\n",
    "    tuple_list.append(Struct(**dict_))\n",
    "\n",
    "tuple_list"
   ]
  },
  {
   "cell_type": "code",
   "execution_count": 76,
   "metadata": {},
   "outputs": [],
   "source": [
    "# using fuctions\n",
    "def tuplify_dicts(dicts):\n",
    "    keys = {key for dict_ in dicts for key in dict_.keys()}\n",
    "    Struct = namedtuple('Struck',sorted(keys))\n",
    "    Struct.__new__.__defaults__= (None,)*len(Struct._fields)\n",
    "    tuple_list = [Struct(*dict_) for dict_ in dicts]\n",
    "    return tuple_list"
   ]
  },
  {
   "cell_type": "code",
   "execution_count": 77,
   "metadata": {},
   "outputs": [
    {
     "output_type": "execute_result",
     "data": {
      "text/plain": [
       "[Struck(key1='key2', key2='key1', key3=None),\n",
       " Struck(key1='key2', key2='key1', key3=None),\n",
       " Struck(key1='key3', key2='key1', key3='key2'),\n",
       " Struck(key1='key1', key2=None, key3=None)]"
      ]
     },
     "metadata": {},
     "execution_count": 77
    }
   ],
   "source": [
    "tuplify_dicts(data_list)"
   ]
  }
 ]
}