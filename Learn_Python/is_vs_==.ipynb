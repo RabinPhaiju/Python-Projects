{
 "metadata": {
  "language_info": {
   "codemirror_mode": {
    "name": "ipython",
    "version": 3
   },
   "file_extension": ".py",
   "mimetype": "text/x-python",
   "name": "python",
   "nbconvert_exporter": "python",
   "pygments_lexer": "ipython3",
   "version": "3.8.5"
  },
  "orig_nbformat": 2,
  "kernelspec": {
   "name": "python385jvsc74a57bd0a456efd1d2e2bfa10bfdad488db5626e5f8bd233a0f11ae70ce0e7717a6a7d8d",
   "display_name": "Python 3.8.5 64-bit ('base': conda)"
  }
 },
 "nbformat": 4,
 "nbformat_minor": 2,
 "cells": [
  {
   "source": [
    "1.  a is b\n",
    "    - id(a)==id(b)"
   ],
   "cell_type": "markdown",
   "metadata": {}
  },
  {
   "source": [
    "2.  a is b\n",
    "- same for certain no of string\n",
    "    - but after all a and b are different unless a = b\n",
    "      - true in vs code\n",
    "      - false in cmd"
   ],
   "cell_type": "markdown",
   "metadata": {}
  },
  {
   "cell_type": "code",
   "execution_count": 1,
   "metadata": {},
   "outputs": [
    {
     "output_type": "stream",
     "name": "stdout",
     "text": [
      "140711696148544\n140711696148576\n"
     ]
    }
   ],
   "source": [
    "aa = 10\n",
    "print(id(aa))\n",
    "aa +=1\n",
    "print(id(aa))\n",
    "# The content of a address object can never be changed."
   ]
  },
  {
   "cell_type": "code",
   "execution_count": 6,
   "metadata": {},
   "outputs": [
    {
     "output_type": "stream",
     "name": "stdout",
     "text": [
      "True\nFalse\n-------\n140711693264960\n140711693264992\n"
     ]
    }
   ],
   "source": [
    "a = 10\n",
    "b = a\n",
    "print(a is b)\n",
    "b = 11\n",
    "print(a is b)\n",
    "print('-------')\n",
    "print(id(a))\n",
    "a+=1\n",
    "print(id(a))"
   ]
  },
  {
   "cell_type": "code",
   "execution_count": 3,
   "metadata": {},
   "outputs": [
    {
     "output_type": "stream",
     "name": "stdout",
     "text": [
      "140711696148928\n140711696148928\n"
     ]
    }
   ],
   "source": [
    "a = 22\n",
    "b = 22\n",
    "print(id(a))\n",
    "print(id(b))\n",
    "# same for small numbers"
   ]
  },
  {
   "cell_type": "code",
   "execution_count": 2,
   "metadata": {},
   "outputs": [
    {
     "output_type": "stream",
     "name": "stdout",
     "text": [
      "1991662022448\n1991662022320\n"
     ]
    }
   ],
   "source": [
    "a = 22222\n",
    "b = 22222\n",
    "print(id(a))\n",
    "print(id(b))\n",
    "# different for large number."
   ]
  },
  {
   "cell_type": "code",
   "execution_count": 7,
   "metadata": {},
   "outputs": [
    {
     "output_type": "stream",
     "name": "stdout",
     "text": [
      "True\n1991655021296\n1991653691184\n"
     ]
    }
   ],
   "source": [
    "a = '222'\n",
    "b = a\n",
    "print(a is b)\n",
    "print(id(a))\n",
    "a = a+'2'\n",
    "print(id(a))"
   ]
  },
  {
   "cell_type": "code",
   "execution_count": 11,
   "metadata": {},
   "outputs": [
    {
     "output_type": "stream",
     "name": "stdout",
     "text": [
      "True\n1991651887728\n1991651888368\n"
     ]
    }
   ],
   "source": [
    "a = 'hello'\n",
    "b = 'hello'\n",
    "print(a is b)\n",
    "\n",
    "print(id(a))\n",
    "a = '222222'\n",
    "print(id(a))"
   ]
  },
  {
   "cell_type": "code",
   "execution_count": 13,
   "metadata": {},
   "outputs": [
    {
     "output_type": "execute_result",
     "data": {
      "text/plain": [
       "False"
      ]
     },
     "metadata": {},
     "execution_count": 13
    }
   ],
   "source": [
    "aaa = 'hello pasa'\n",
    "bbb = 'hello pasa'\n",
    "aaa is bbb"
   ]
  },
  {
   "cell_type": "code",
   "execution_count": 12,
   "metadata": {},
   "outputs": [
    {
     "output_type": "stream",
     "name": "stdout",
     "text": [
      "1190119169344\n1190119169344\nTrue\n-----------\n1190119454912\nTrue\nFalse\n"
     ]
    }
   ],
   "source": [
    "# Differnce between is and ==\n",
    "a = [1, 2, 3]\n",
    "print(id(a))\n",
    "a.append(4)\n",
    "a.append(5)\n",
    "print(id(a))\n",
    "c=a\n",
    "print(a is c)\n",
    "print('-----------')\n",
    "b = [1,2,3,4,5]\n",
    "print(id(b))\n",
    "print(a == b)\n",
    "print( a is b)"
   ]
  },
  {
   "cell_type": "code",
   "execution_count": 11,
   "metadata": {},
   "outputs": [
    {
     "output_type": "stream",
     "name": "stdout",
     "text": [
      "True\nFalse\n"
     ]
    }
   ],
   "source": [
    "# Id of integer\n",
    "a = 10\n",
    "b = a\n",
    "print(a is b)\n",
    "a = 11\n",
    "print(a is b)"
   ]
  },
  {
   "cell_type": "code",
   "execution_count": 14,
   "metadata": {},
   "outputs": [
    {
     "output_type": "execute_result",
     "data": {
      "text/plain": [
       "False"
      ]
     },
     "metadata": {},
     "execution_count": 14
    }
   ],
   "source": [
    "# Id of string\n",
    "a = 'hello'\n",
    "b = ' bye'\n",
    "a += b\n",
    "a is b"
   ]
  },
  {
   "cell_type": "code",
   "execution_count": 16,
   "metadata": {},
   "outputs": [
    {
     "output_type": "stream",
     "name": "stdout",
     "text": [
      "False\n"
     ]
    }
   ],
   "source": [
    "# Id reassign int\n",
    "on_create = a = 10\n",
    "a = 20\n",
    "on_change = a\n",
    "print(on_create is on_change)"
   ]
  },
  {
   "cell_type": "code",
   "execution_count": 18,
   "metadata": {},
   "outputs": [
    {
     "output_type": "stream",
     "name": "stdout",
     "text": [
      "False\n"
     ]
    }
   ],
   "source": [
    "# Id reassign list\n",
    "a = [1,2,3]\n",
    "on_create = a\n",
    "a = [1,2,3,4]\n",
    "on_change = a\n",
    "print(on_create is on_change)"
   ]
  },
  {
   "cell_type": "code",
   "execution_count": 21,
   "metadata": {},
   "outputs": [
    {
     "output_type": "stream",
     "name": "stdout",
     "text": [
      "False\nFalse\n"
     ]
    }
   ],
   "source": [
    "# list\n",
    "eg_list = [0,1,2,3,4]\n",
    "eg_list2 = [4,1,2,0,3]\n",
    "print(eg_list is eg_list2)\n",
    "print(eg_list == eg_list2)"
   ]
  },
  {
   "cell_type": "code",
   "execution_count": 22,
   "metadata": {},
   "outputs": [
    {
     "output_type": "stream",
     "name": "stdout",
     "text": [
      "True\n"
     ]
    }
   ],
   "source": [
    "# set\n",
    "eg_set = {'name', 'age', 'college'}\n",
    "eg_set2 = {'age', 'college', 'name'}\n",
    "print(eg_set == eg_set2)"
   ]
  },
  {
   "cell_type": "code",
   "execution_count": 23,
   "metadata": {},
   "outputs": [
    {
     "output_type": "stream",
     "name": "stdout",
     "text": [
      "10\n"
     ]
    }
   ],
   "source": [
    "# id in function\n",
    "def test(x):\n",
    "  x+=5\n",
    "\n",
    "y = 10\n",
    "test(y)\n",
    "print(y)"
   ]
  },
  {
   "cell_type": "code",
   "execution_count": 24,
   "metadata": {},
   "outputs": [
    {
     "output_type": "stream",
     "name": "stdout",
     "text": [
      "[1, 2, 3, 4]\n"
     ]
    }
   ],
   "source": [
    "# list in function\n",
    "def test(x):\n",
    "   x.append(4)\n",
    "\n",
    "y = [1,2,3]\n",
    "test(y)\n",
    "print(y)"
   ]
  },
  {
   "cell_type": "code",
   "execution_count": null,
   "metadata": {},
   "outputs": [],
   "source": []
  }
 ]
}