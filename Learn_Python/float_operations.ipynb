{
 "metadata": {
  "language_info": {
   "codemirror_mode": {
    "name": "ipython",
    "version": 3
   },
   "file_extension": ".py",
   "mimetype": "text/x-python",
   "name": "python",
   "nbconvert_exporter": "python",
   "pygments_lexer": "ipython3",
   "version": "3.8.5"
  },
  "orig_nbformat": 2,
  "kernelspec": {
   "name": "python385jvsc74a57bd0a456efd1d2e2bfa10bfdad488db5626e5f8bd233a0f11ae70ce0e7717a6a7d8d",
   "display_name": "Python 3.8.5 64-bit ('base': conda)"
  }
 },
 "nbformat": 4,
 "nbformat_minor": 2,
 "cells": [
  {
   "source": [
    "# Representation : decimal"
   ],
   "cell_type": "markdown",
   "metadata": {}
  },
  {
   "source": [
    "* FLoat class is Python's default implementation for representing real numbers.\n",
    "    - float uses a fixed numbers of bytes. (8-bytes) -> 64-bits\n",
    "        - where as int can grow according to data.\n",
    "    - sign -> 1-bit\n",
    "    - exponent -> 11 bits -> range(-1022,1023)\n",
    "    - significant digits -> 52 bits (15-17 sig (base-10) digits)\n",
    "        - all digits except leading and trailing zeros\n",
    "        - eg: 1.2345 -> .2345 is significant digit\n",
    "        - eg: 1234500000 -> 00000 is significant digit\n",
    "        - eg: 0.00012345 -> 0.000 can be exponent"
   ],
   "cell_type": "markdown",
   "metadata": {}
  },
  {
   "source": [
    "- ![](../Python_Deep_Dive/Deep_Dive_Part-1/files/fra.png)"
   ],
   "cell_type": "markdown",
   "metadata": {}
  },
  {
   "cell_type": "code",
   "execution_count": null,
   "metadata": {},
   "outputs": [],
   "source": [
    "* Some numbers cannot be represented using a finite numbers of terms\n",
    "    - eg: pi=3.14159.........\n",
    "    - eg: root 2 = 1.4142.......\n",
    "    - eg: 1/3=0.333333.....\n",
    "* Computer cannot store infinite numbers."
   ]
  },
  {
   "source": [
    "# Representation : binary"
   ],
   "cell_type": "markdown",
   "metadata": {}
  },
  {
   "source": [
    "- ![](../Python_Deep_Dive/Deep_Dive_Part-1/files/binfra.png)"
   ],
   "cell_type": "markdown",
   "metadata": {}
  },
  {
   "source": [
    "- ![](../Python_Deep_Dive/Deep_Dive_Part-1/files/binfra1.png)"
   ],
   "cell_type": "markdown",
   "metadata": {}
  },
  {
   "source": [
    "- ![](../Python_Deep_Dive/Deep_Dive_Part-1/files/binfra2.png)"
   ],
   "cell_type": "markdown",
   "metadata": {}
  },
  {
   "cell_type": "code",
   "execution_count": 4,
   "metadata": {},
   "outputs": [
    {
     "output_type": "execute_result",
     "data": {
      "text/plain": [
       "10.0"
      ]
     },
     "metadata": {},
     "execution_count": 4
    }
   ],
   "source": [
    "float(10)"
   ]
  },
  {
   "cell_type": "code",
   "execution_count": 6,
   "metadata": {},
   "outputs": [
    {
     "output_type": "execute_result",
     "data": {
      "text/plain": [
       "10.4"
      ]
     },
     "metadata": {},
     "execution_count": 6
    }
   ],
   "source": [
    "float(10.4)"
   ]
  },
  {
   "cell_type": "code",
   "execution_count": 8,
   "metadata": {},
   "outputs": [
    {
     "output_type": "execute_result",
     "data": {
      "text/plain": [
       "12.7"
      ]
     },
     "metadata": {},
     "execution_count": 8
    }
   ],
   "source": [
    "float('12.7')"
   ]
  },
  {
   "cell_type": "code",
   "execution_count": 11,
   "metadata": {},
   "outputs": [
    {
     "output_type": "execute_result",
     "data": {
      "text/plain": [
       "3.142857142857143"
      ]
     },
     "metadata": {},
     "execution_count": 11
    }
   ],
   "source": [
    "float(22/7)"
   ]
  },
  {
   "cell_type": "code",
   "execution_count": 10,
   "metadata": {},
   "outputs": [
    {
     "output_type": "error",
     "ename": "ValueError",
     "evalue": "could not convert string to float: '22/7'",
     "traceback": [
      "\u001b[1;31m---------------------------------------------------------------------------\u001b[0m",
      "\u001b[1;31mValueError\u001b[0m                                Traceback (most recent call last)",
      "\u001b[1;32m<ipython-input-10-b1a86d0295b9>\u001b[0m in \u001b[0;36m<module>\u001b[1;34m\u001b[0m\n\u001b[1;32m----> 1\u001b[1;33m \u001b[0mfloat\u001b[0m\u001b[1;33m(\u001b[0m\u001b[1;34m'22/7'\u001b[0m\u001b[1;33m)\u001b[0m\u001b[1;33m\u001b[0m\u001b[1;33m\u001b[0m\u001b[0m\n\u001b[0m",
      "\u001b[1;31mValueError\u001b[0m: could not convert string to float: '22/7'"
     ]
    }
   ],
   "source": [
    "float('22/7')"
   ]
  },
  {
   "cell_type": "code",
   "execution_count": 12,
   "metadata": {},
   "outputs": [
    {
     "output_type": "execute_result",
     "data": {
      "text/plain": [
       "3.142857142857143"
      ]
     },
     "metadata": {},
     "execution_count": 12
    }
   ],
   "source": [
    "import fractions\n",
    "x = fractions.Fraction('22/7')\n",
    "float(x)"
   ]
  },
  {
   "cell_type": "code",
   "execution_count": 16,
   "metadata": {},
   "outputs": [
    {
     "output_type": "execute_result",
     "data": {
      "text/plain": [
       "'0.2999999999999999888977698'"
      ]
     },
     "metadata": {},
     "execution_count": 16
    }
   ],
   "source": [
    "format(0.3,'.25f')"
   ]
  },
  {
   "cell_type": "code",
   "execution_count": 17,
   "metadata": {},
   "outputs": [
    {
     "output_type": "execute_result",
     "data": {
      "text/plain": [
       "'0.1250000000000000000000000'"
      ]
     },
     "metadata": {},
     "execution_count": 17
    }
   ],
   "source": [
    "format(0.125,'.25f')"
   ]
  },
  {
   "cell_type": "code",
   "execution_count": 80,
   "metadata": {},
   "outputs": [
    {
     "output_type": "stream",
     "name": "stdout",
     "text": [
      "True\n0.3750000000000000000000000\n0.3750000000000000000000000\n"
     ]
    }
   ],
   "source": [
    "aa = 0.125*3\n",
    "bb = 0.375\n",
    "print(aa ==bb)\n",
    "print(format(aa,'.25f'))\n",
    "print(format(bb,'.25f'))"
   ]
  },
  {
   "cell_type": "code",
   "execution_count": 27,
   "metadata": {},
   "outputs": [
    {
     "output_type": "stream",
     "name": "stdout",
     "text": [
      "False\n0.3000000000000000444089210\n0.2999999999999999888977698\n"
     ]
    }
   ],
   "source": [
    "a = 0.1*3   \n",
    "b = 0.3\n",
    "print(a ==b)\n",
    "print(format(a,'.25f'))\n",
    "print(format(b,'.25f'))"
   ]
  },
  {
   "source": [
    "* Using rounding will not necessarily solve the problem either.\n",
    "* It is no more possible to exactly represent round(0.1,1) than 0.1 itself."
   ],
   "cell_type": "markdown",
   "metadata": {}
  },
  {
   "cell_type": "code",
   "execution_count": 28,
   "metadata": {},
   "outputs": [
    {
     "output_type": "execute_result",
     "data": {
      "text/plain": [
       "False"
      ]
     },
     "metadata": {},
     "execution_count": 28
    }
   ],
   "source": [
    "round(0.1,1)+ round(0.1,1)+round(0.1,1) == round(0.3,1)"
   ]
  },
  {
   "cell_type": "code",
   "execution_count": 29,
   "metadata": {},
   "outputs": [
    {
     "output_type": "execute_result",
     "data": {
      "text/plain": [
       "True"
      ]
     },
     "metadata": {},
     "execution_count": 29
    }
   ],
   "source": [
    "# But it can be used to round the entirety of both sides of the equality comparion.a\n",
    "round(0.1+0.1+0.1,5) == round(0.3,5)"
   ]
  },
  {
   "cell_type": "code",
   "execution_count": 32,
   "metadata": {},
   "outputs": [
    {
     "output_type": "stream",
     "name": "stdout",
     "text": [
      "0.30000000000000004441\n0.29999999999999998890\n0.00000000000000005551\n"
     ]
    }
   ],
   "source": [
    "# Rounding float are not solution.\n",
    "# We can use absolute tolerances..\n",
    "x = 0.1+0.1+0.1\n",
    "y = 0.3\n",
    "print(format(x,'.20f'))\n",
    "print(format(y,'.20f'))\n",
    "print(format(x-y,'.20f')) # 17th digit after decimal point."
   ]
  },
  {
   "cell_type": "code",
   "execution_count": 34,
   "metadata": {},
   "outputs": [
    {
     "output_type": "stream",
     "name": "stdout",
     "text": [
      "30000.30000000000291038305\n30000.29999999999927240424\n0.00000000000363797881\n"
     ]
    }
   ],
   "source": [
    "a = 10000.1+10000.1+10000.1\n",
    "b = 30000.3\n",
    "print(format(a,'.20f'))\n",
    "print(format(b,'.20f'))\n",
    "print(format(a-b,'.20f')) # 12th digit after the decimal point."
   ]
  },
  {
   "source": [
    "# Using absolute tolerance:"
   ],
   "cell_type": "markdown",
   "metadata": {}
  },
  {
   "cell_type": "code",
   "execution_count": 36,
   "metadata": {},
   "outputs": [],
   "source": [
    "import math"
   ]
  },
  {
   "cell_type": "code",
   "execution_count": 39,
   "metadata": {},
   "outputs": [
    {
     "output_type": "execute_result",
     "data": {
      "text/plain": [
       "True"
      ]
     },
     "metadata": {},
     "execution_count": 39
    }
   ],
   "source": [
    "abs_tol = 10**(-15)\n",
    "math.fabs(x-y) < abs_tol"
   ]
  },
  {
   "cell_type": "code",
   "execution_count": 40,
   "metadata": {},
   "outputs": [
    {
     "output_type": "execute_result",
     "data": {
      "text/plain": [
       "False"
      ]
     },
     "metadata": {},
     "execution_count": 40
    }
   ],
   "source": [
    "math.fabs(a-b) < abs_tol"
   ]
  },
  {
   "source": [
    "# We have a problem in absolute tolerance. \n",
    "    * x-y is True\n",
    "    * but, a-b is false"
   ],
   "cell_type": "markdown",
   "metadata": {}
  },
  {
   "source": [
    "# We should use relative tolerance:"
   ],
   "cell_type": "markdown",
   "metadata": {}
  },
  {
   "cell_type": "code",
   "execution_count": 46,
   "metadata": {},
   "outputs": [
    {
     "output_type": "stream",
     "name": "stdout",
     "text": [
      "0.30000000000000004441\n0.29999999999999998890\nabs_tol-> 0.00000000000000005551\n"
     ]
    }
   ],
   "source": [
    "x = 0.1 + 0.1 + 0.1\n",
    "y = 0.3\n",
    "print(format(x,'.20f'))\n",
    "print(format(y,'.20f'))\n",
    "print('abs_tol->',format(x-y,'.20f'))"
   ]
  },
  {
   "cell_type": "code",
   "execution_count": 47,
   "metadata": {},
   "outputs": [
    {
     "output_type": "stream",
     "name": "stdout",
     "text": [
      "30000.30000000000291038305\n30000.29999999999927240424\nabs_tol-> 0.00000000000363797881\n"
     ]
    }
   ],
   "source": [
    "a = 10000.1 + 10000.1 + 10000.1\n",
    "b = 30000.3\n",
    "print(format(a,'.20f'))\n",
    "print(format(b,'.20f'))\n",
    "print('abs_tol->',format(a-b,'.20f'))"
   ]
  },
  {
   "cell_type": "code",
   "execution_count": 56,
   "metadata": {},
   "outputs": [
    {
     "output_type": "stream",
     "name": "stdout",
     "text": [
      "1e-05\n0.0000030000\n0.3000030000\n"
     ]
    }
   ],
   "source": [
    "rel_tol = 0.00001\n",
    "print(rel_tol)\n",
    "tol = rel_tol*max(abs(x),abs(y))\n",
    "print(format(tol,'.10f'))\n",
    "tol = rel_tol*max(abs(a),abs(b))\n",
    "print(format(tol,'.10f'))"
   ]
  },
  {
   "cell_type": "code",
   "execution_count": 57,
   "metadata": {},
   "outputs": [
    {
     "output_type": "execute_result",
     "data": {
      "text/plain": [
       "True"
      ]
     },
     "metadata": {},
     "execution_count": 57
    }
   ],
   "source": [
    "math.fabs(x-y) <tol"
   ]
  },
  {
   "cell_type": "code",
   "execution_count": 58,
   "metadata": {},
   "outputs": [
    {
     "output_type": "execute_result",
     "data": {
      "text/plain": [
       "True"
      ]
     },
     "metadata": {},
     "execution_count": 58
    }
   ],
   "source": [
    "math.fabs(a-b)<tol"
   ]
  },
  {
   "source": [
    "# Here, we have got True in both case.\n",
    "# But, have we, answer is not."
   ],
   "cell_type": "markdown",
   "metadata": {}
  },
  {
   "cell_type": "code",
   "execution_count": 62,
   "metadata": {},
   "outputs": [
    {
     "output_type": "stream",
     "name": "stdout",
     "text": [
      "0.0000000000\nFalse\n"
     ]
    }
   ],
   "source": [
    "x = 0.0000000001\n",
    "y =0\n",
    "rel_tol = 0.0001\n",
    "tol = rel_tol * max(abs(x),abs(y))\n",
    "print(format(tol,'.10f'))\n",
    "print(math.fabs(x-y)<tol)"
   ]
  },
  {
   "source": [
    "# Using a relative tolerance technique does not work well for numbers close to zero!"
   ],
   "cell_type": "markdown",
   "metadata": {}
  },
  {
   "source": [
    "# The better approach is\n",
    "# Combine both approach\n",
    "# PEP 485 -> math module has the solution -> math.isclose()\n",
    "    - calculating the absolute and relative tolerances\n",
    "    - and using the larger of the two tolerances\n",
    "    "
   ],
   "cell_type": "markdown",
   "metadata": {}
  },
  {
   "cell_type": "code",
   "execution_count": 68,
   "metadata": {},
   "outputs": [
    {
     "output_type": "stream",
     "name": "stdout",
     "text": [
      "0.00000000000001000000\n"
     ]
    }
   ],
   "source": [
    "tol = max(rel_tol * max(abs(x),abs(y)),abs_tol)\n",
    "print(format(tol,'.20f'))"
   ]
  },
  {
   "cell_type": "code",
   "execution_count": 72,
   "metadata": {},
   "outputs": [
    {
     "output_type": "stream",
     "name": "stdout",
     "text": [
      "True\nTrue\n"
     ]
    }
   ],
   "source": [
    "x = 1000.0000001\n",
    "y = 1000.0000002\n",
    "print(math.isclose(x,y))\n",
    "print(math.isclose(x,y,abs_tol=1e-5))"
   ]
  },
  {
   "cell_type": "code",
   "execution_count": 73,
   "metadata": {},
   "outputs": [
    {
     "output_type": "stream",
     "name": "stdout",
     "text": [
      "False\nTrue\n"
     ]
    }
   ],
   "source": [
    "a = 0.0000001\n",
    "b = 0.0000002\n",
    "print(math.isclose(a,b))\n",
    "# if we dont specify abs_tol , then it default is 0, which can cause problem in numbers close to zero.\n",
    "print(math.isclose(a,b,abs_tol=1e-5))"
   ]
  },
  {
   "cell_type": "code",
   "execution_count": 76,
   "metadata": {},
   "outputs": [
    {
     "output_type": "stream",
     "name": "stdout",
     "text": [
      "True\n"
     ]
    }
   ],
   "source": [
    "# Now it will work in may situations like.\n",
    "x = 1000.01\n",
    "y = 1000.02\n",
    "print(math.isclose(x,y,rel_tol=1e-5,abs_tol=1e-5))"
   ]
  },
  {
   "cell_type": "code",
   "execution_count": 78,
   "metadata": {},
   "outputs": [
    {
     "output_type": "stream",
     "name": "stdout",
     "text": [
      "False\n"
     ]
    }
   ],
   "source": [
    "x = 0.01\n",
    "y = 0.02\n",
    "print(math.isclose(x,y,rel_tol=1e-5,abs_tol=1e-5))"
   ]
  },
  {
   "source": [
    "# So, this is the benefit of using both tolerance, and we dont need to change tolerance.\n",
    "    - We cannot use == to compare floating numbers.\n",
    "    - use math.isclose()\n",
    "    - if you want number to be exact, use fraction."
   ],
   "cell_type": "markdown",
   "metadata": {}
  }
 ]
}