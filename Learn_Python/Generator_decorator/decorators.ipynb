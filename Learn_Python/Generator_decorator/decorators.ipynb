{
 "cells": [
  {
   "cell_type": "code",
   "execution_count": 3,
   "metadata": {},
   "outputs": [
    {
     "name": "stdout",
     "output_type": "stream",
     "text": [
      "Jim\n",
      "John.Smith@gmail.com\n",
      "Jim Smith\n"
     ]
    }
   ],
   "source": [
    "# Property Decorator - Getters, Setter and Deleters\n",
    "\n",
    "class Employee:\n",
    "    def __init__(self,first,last) -> None:\n",
    "        self.first = first\n",
    "        self.last = last\n",
    "        self.email = first + '.' + last + '@gmail.com'\n",
    "    \n",
    "    def fullname(self):\n",
    "        return f\"{self.first} {self.last}\"\n",
    "\n",
    "emp1 = Employee(\"John\",\"Smith\")\n",
    "emp1.first = \"Jim\"\n",
    "\n",
    "\n",
    "print(emp1.first)\n",
    "print(emp1.email)\n",
    "print(emp1.fullname())\n",
    "# email is not changed"
   ]
  },
  {
   "cell_type": "code",
   "execution_count": 10,
   "metadata": {},
   "outputs": [
    {
     "name": "stdout",
     "output_type": "stream",
     "text": [
      "Jim\n",
      "Jim.Smith@gmail.com\n",
      "Jim Smith\n"
     ]
    }
   ],
   "source": [
    "# Email is changed but, we have to change every code in that project.\n",
    "\n",
    "class Employee:\n",
    "    def __init__(self,first,last) -> None:\n",
    "        self.first = first\n",
    "        self.last = last\n",
    "    \n",
    "    @property # we dont need to call like a function\n",
    "    def email(self):\n",
    "        return f\"{self.first}.{self.last}@gmail.com\"\n",
    "    \n",
    "    @property\n",
    "    def fullname(self):\n",
    "        return f\"{self.first} {self.last}\"\n",
    "\n",
    "emp1 = Employee(\"John\",\"Smith\")\n",
    "emp1.first = \"Jim\"\n",
    "\n",
    "\n",
    "print(emp1.first)\n",
    "# print(emp1.email()) # we have to call like a function\n",
    "print(emp1.email)\n",
    "print(emp1.fullname)\n",
    "# we cannot change the email directly"
   ]
  },
  {
   "cell_type": "code",
   "execution_count": 17,
   "metadata": {},
   "outputs": [
    {
     "name": "stdout",
     "output_type": "stream",
     "text": [
      "Rabin\n",
      "Rabin.Phaiju@gmail.com\n",
      "Rabin Phaiju\n",
      "Delete Name!\n"
     ]
    }
   ],
   "source": [
    "\n",
    "class Employee:\n",
    "    def __init__(self,first,last) -> None:\n",
    "        self.first = first\n",
    "        self.last = last\n",
    "    \n",
    "    @property\n",
    "    def email(self):\n",
    "        return f\"{self.first}.{self.last}@gmail.com\"\n",
    "    \n",
    "    @property # getter\n",
    "    def fullname(self):\n",
    "        return f\"{self.first} {self.last}\"\n",
    "    \n",
    "    @fullname.setter\n",
    "    def fullname(self,name):\n",
    "        first,last = name.split(\" \")\n",
    "        self.first = first\n",
    "        self.last = last\n",
    "    \n",
    "    @fullname.deleter\n",
    "    def fullname(self):\n",
    "        print('Delete Name!')\n",
    "        self.first = None\n",
    "        self.last = None\n",
    "\n",
    "\n",
    "emp1 = Employee(\"John\",\"Smith\")\n",
    "\n",
    "emp1.fullname = \"Rabin Phaiju\"\n",
    "\n",
    "print(emp1.first)\n",
    "print(emp1.email)\n",
    "print(emp1.fullname)\n",
    "del emp1.fullname"
   ]
  }
 ],
 "metadata": {
  "kernelspec": {
   "display_name": "venv",
   "language": "python",
   "name": "python3"
  },
  "language_info": {
   "codemirror_mode": {
    "name": "ipython",
    "version": 3
   },
   "file_extension": ".py",
   "mimetype": "text/x-python",
   "name": "python",
   "nbconvert_exporter": "python",
   "pygments_lexer": "ipython3",
   "version": "3.8.10"
  },
  "orig_nbformat": 4,
  "vscode": {
   "interpreter": {
    "hash": "2905e53e379b4d4dcacc1e47bf0c48f14835bfd8aa6bc3a4fd76372ded1b7631"
   }
  }
 },
 "nbformat": 4,
 "nbformat_minor": 2
}
