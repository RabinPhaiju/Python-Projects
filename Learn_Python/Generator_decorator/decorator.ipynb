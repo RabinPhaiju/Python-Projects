{
 "metadata": {
  "language_info": {
   "codemirror_mode": {
    "name": "ipython",
    "version": 3
   },
   "file_extension": ".py",
   "mimetype": "text/x-python",
   "name": "python",
   "nbconvert_exporter": "python",
   "pygments_lexer": "ipython3",
   "version": "3.9.1"
  },
  "orig_nbformat": 2,
  "kernelspec": {
   "name": "python391jvsc74a57bd06dbcfa4acfde829108fd9fed7b4c7e3cf5b89483651b78d4b8e08d6c4461514a",
   "display_name": "Python 3.9.1 64-bit ('venv1': venv)",
   "language": "python"
  }
 },
 "nbformat": 4,
 "nbformat_minor": 2,
 "cells": [
  {
   "cell_type": "code",
   "execution_count": 7,
   "metadata": {},
   "outputs": [
    {
     "output_type": "stream",
     "name": "stdout",
     "text": [
      "6\n0\n"
     ]
    }
   ],
   "source": [
    "# decorator\n",
    "def always_positive(func):\n",
    "    def wrapper(x,y,z):\n",
    "        result = func(x,y,z)\n",
    "        return result if result > 0 else 0\n",
    "    return wrapper\n",
    "\n",
    "@always_positive\n",
    "def adder(x,y,z):\n",
    "    return x+y+z\n",
    "\n",
    "print(adder(1,2,3))\n",
    "print(adder(-10,2,3))\n",
    "\n"
   ]
  },
  {
   "cell_type": "code",
   "execution_count": 13,
   "metadata": {},
   "outputs": [
    {
     "output_type": "stream",
     "name": "stdout",
     "text": [
      "No admin permission\n"
     ]
    }
   ],
   "source": [
    "# We need to protect a function from accessing from guest\n",
    "user = {'username':'rabin','access_level':'guest'}\n",
    "\n",
    "def is_admin(func):\n",
    "    def wrapper():\n",
    "        return func() if user['access_level']=='admin' else 'No admin permission'\n",
    "    return wrapper\n",
    "\n",
    "@is_admin\n",
    "def get_admin_password():\n",
    "    return '1234'\n",
    "\n",
    "print(get_admin_password())"
   ]
  },
  {
   "cell_type": "code",
   "execution_count": 16,
   "metadata": {},
   "outputs": [
    {
     "output_type": "stream",
     "name": "stdout",
     "text": [
      "super secure password\n"
     ]
    }
   ],
   "source": [
    "# decorator with arguments\n",
    "user = {'username':'rabin','access_level':'admin'}\n",
    "\n",
    "def is_admin(func):\n",
    "    def wrapper(*args,**kwargs):\n",
    "        return func(*args,**kwargs) if user['access_level']=='admin' else 'No admin permission'\n",
    "    return wrapper\n",
    "\n",
    "@is_admin\n",
    "def get_admin_password(panel):\n",
    "    if panel == 'admin':\n",
    "        return '1234'\n",
    "    else:\n",
    "        return 'super secure password'\n",
    "\n",
    "print(get_admin_password(\"billing\"))\n"
   ]
  },
  {
   "cell_type": "code",
   "execution_count": 19,
   "metadata": {},
   "outputs": [
    {
     "output_type": "stream",
     "name": "stdout",
     "text": [
      "admin: 1234\nNo user permission for rabin\n"
     ]
    }
   ],
   "source": [
    "# decorators with parameter\n",
    "import functools\n",
    "\n",
    "user = {'username':'rabin','access_level':'admin'}\n",
    "\n",
    "def make_secure(access_level):\n",
    "    def decorator(func):\n",
    "        @functools.wraps(func)\n",
    "        def wrapper(*args,**kwargs):\n",
    "            return func(*args,**kwargs) if user['access_level']==access_level else f\"No {access_level} permission for {user['username']}\"\n",
    "        return wrapper\n",
    "    return decorator\n",
    "\n",
    "@make_secure('admin')\n",
    "def get_admin_password():\n",
    "    return \"admin: 1234\"\n",
    "\n",
    "@make_secure('user')\n",
    "def get_dashboard_password():\n",
    "    return \"dashboard: password\"\n",
    "\n",
    "\n",
    "print(get_admin_password())\n",
    "print(get_dashboard_password())"
   ]
  },
  {
   "cell_type": "code",
   "execution_count": 12,
   "metadata": {},
   "outputs": [
    {
     "output_type": "stream",
     "name": "stdout",
     "text": [
      "function is decorated\nhello world\n"
     ]
    }
   ],
   "source": [
    "def decorator_fun(func):\n",
    "    def inner_fun():\n",
    "        print('function is decorated')\n",
    "        func()\n",
    "    return inner_fun \n",
    "\n",
    "@decorator_fun\n",
    "def display():\n",
    "    print('hello world')\n",
    "\n",
    "decorated = decorator_fun(display) # without @decorator_fun label\n",
    "\n",
    "\n",
    "display() # commented with @decorator_fun\n"
   ]
  },
  {
   "cell_type": "code",
   "execution_count": 15,
   "metadata": {},
   "outputs": [
    {
     "output_type": "stream",
     "name": "stdout",
     "text": [
      "odd\neven\n"
     ]
    }
   ],
   "source": [
    "def check_even(func):\n",
    "    def inner_fun(*args, **kwargs):\n",
    "        func('even') if args[0]%2==0 else func('odd')\n",
    "    return inner_fun\n",
    "\n",
    "def display1(a):\n",
    "    print(a)\n",
    "\n",
    "ch_fun = check_even(display1)\n",
    "ch_fun(7)\n",
    "\n",
    "@check_even # display2 is passed\n",
    "def display2(a):\n",
    "    print(a)\n",
    "\n",
    "display2(2, 5, 3)\n",
    "# display2(3435)"
   ]
  },
  {
   "cell_type": "code",
   "execution_count": null,
   "metadata": {},
   "outputs": [],
   "source": []
  }
 ]
}