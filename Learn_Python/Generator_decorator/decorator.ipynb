{
 "metadata": {
  "language_info": {
   "codemirror_mode": {
    "name": "ipython",
    "version": 3
   },
   "file_extension": ".py",
   "mimetype": "text/x-python",
   "name": "python",
   "nbconvert_exporter": "python",
   "pygments_lexer": "ipython3",
   "version": "3.9.1-final"
  },
  "orig_nbformat": 2,
  "kernelspec": {
   "name": "python3",
   "display_name": "Python 3",
   "language": "python"
  }
 },
 "nbformat": 4,
 "nbformat_minor": 2,
 "cells": [
  {
   "cell_type": "code",
   "execution_count": 7,
   "metadata": {},
   "outputs": [
    {
     "output_type": "stream",
     "name": "stdout",
     "text": [
      "6\n0\n"
     ]
    }
   ],
   "source": [
    "# decorator\n",
    "def always_positive(func):\n",
    "    def wrapper(x,y,z):\n",
    "        result = func(x,y,z)\n",
    "        return result if result > 0 else 0\n",
    "    return wrapper\n",
    "\n",
    "@always_positive\n",
    "def adder(x,y,z):\n",
    "    return x+y+z\n",
    "\n",
    "print(adder(1,2,3))\n",
    "print(adder(-10,2,3))\n",
    "\n"
   ]
  },
  {
   "cell_type": "code",
   "execution_count": 12,
   "metadata": {},
   "outputs": [
    {
     "output_type": "stream",
     "name": "stdout",
     "text": [
      "function is decorated\nhello world\n"
     ]
    }
   ],
   "source": [
    "def decorator_fun(func):\n",
    "    def inner_fun():\n",
    "        print('function is decorated')\n",
    "        func()\n",
    "    return inner_fun \n",
    "\n",
    "@decorator_fun\n",
    "def display():\n",
    "    print('hello world')\n",
    "\n",
    "decorated = decorator_fun(display) # without @decorator_fun label\n",
    "\n",
    "\n",
    "display() # commented with @decorator_fun\n"
   ]
  },
  {
   "cell_type": "code",
   "execution_count": 15,
   "metadata": {},
   "outputs": [
    {
     "output_type": "stream",
     "name": "stdout",
     "text": [
      "odd\neven\n"
     ]
    }
   ],
   "source": [
    "def check_even(func):\n",
    "    def inner_fun(*args, **kwargs):\n",
    "        func('even') if args[0]%2==0 else func('odd')\n",
    "    return inner_fun\n",
    "\n",
    "def display1(a):\n",
    "    print(a)\n",
    "\n",
    "ch_fun = check_even(display1)\n",
    "ch_fun(7)\n",
    "\n",
    "@check_even # display2 is passed\n",
    "def display2(a):\n",
    "    print(a)\n",
    "\n",
    "display2(2, 5, 3)\n",
    "# display2(3435)"
   ]
  },
  {
   "cell_type": "code",
   "execution_count": null,
   "metadata": {},
   "outputs": [],
   "source": []
  }
 ]
}