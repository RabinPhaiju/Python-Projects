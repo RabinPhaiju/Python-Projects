{
 "metadata": {
  "language_info": {
   "codemirror_mode": {
    "name": "ipython",
    "version": 3
   },
   "file_extension": ".py",
   "mimetype": "text/x-python",
   "name": "python",
   "nbconvert_exporter": "python",
   "pygments_lexer": "ipython3",
   "version": "3.9.1-final"
  },
  "orig_nbformat": 2,
  "kernelspec": {
   "name": "python3",
   "display_name": "Python 3.9.1 64-bit ('venv1')",
   "metadata": {
    "interpreter": {
     "hash": "6dbcfa4acfde829108fd9fed7b4c7e3cf5b89483651b78d4b8e08d6c4461514a"
    }
   }
  }
 },
 "nbformat": 4,
 "nbformat_minor": 2,
 "cells": [
  {
   "source": [
    "# Question 26\n",
    "\n",
    ">***Define a function which can compute the sum of two numbers.***"
   ],
   "cell_type": "markdown",
   "metadata": {}
  },
  {
   "cell_type": "code",
   "execution_count": 1,
   "metadata": {},
   "outputs": [
    {
     "output_type": "stream",
     "name": "stdout",
     "text": [
      "7\n10\n"
     ]
    }
   ],
   "source": [
    "def sum1(x,y):\n",
    "    return x+y\n",
    "\n",
    "sum2 = lambda x,y:x+y\n",
    "\n",
    "print(sum1(3,4))\n",
    "print(sum2(3,7))\n"
   ]
  },
  {
   "source": [
    "# Question 27\n",
    "\n",
    ">***Define a function that can convert a integer into a string and print it in console.***"
   ],
   "cell_type": "markdown",
   "metadata": {}
  },
  {
   "cell_type": "code",
   "execution_count": 13,
   "metadata": {},
   "outputs": [
    {
     "output_type": "stream",
     "name": "stdout",
     "text": [
      "5 <class 'str'>\n"
     ]
    }
   ],
   "source": [
    "int_to_str = lambda x: str(x)\n",
    "\n",
    "print(int_to_str(5),type(int_to_str(5)))"
   ]
  },
  {
   "source": [
    "# Question 28\n",
    "\n",
    ">***Define a function that can receive two integer numbers in string form and compute their sum and then print it in console.***\n"
   ],
   "cell_type": "markdown",
   "metadata": {}
  },
  {
   "cell_type": "code",
   "execution_count": 15,
   "metadata": {},
   "outputs": [
    {
     "output_type": "stream",
     "name": "stdout",
     "text": [
      "12\n"
     ]
    }
   ],
   "source": [
    "sum= lambda x,y: int(x)+int(y)\n",
    "\n",
    "print(sum('5','7'))"
   ]
  },
  {
   "source": [
    "# Question 29\n",
    "\n",
    ">***Define a function that can accept two strings as input and concatenate them and then print it in console.***"
   ],
   "cell_type": "markdown",
   "metadata": {}
  },
  {
   "cell_type": "code",
   "execution_count": 19,
   "metadata": {},
   "outputs": [
    {
     "output_type": "stream",
     "name": "stdout",
     "text": [
      "2021\n"
     ]
    }
   ],
   "source": [
    "str1 = '20'\n",
    "str2 = '21'\n",
    "\n",
    "concat = lambda x,y:x + y\n",
    "\n",
    "print(concat(str1,str2))"
   ]
  },
  {
   "source": [
    "# Question 30\n",
    "\n",
    ">***Define a function that can accept two strings as input and print the string with maximum length in console. If two strings have the same length, then the function should print all strings line by line.***"
   ],
   "cell_type": "markdown",
   "metadata": {}
  },
  {
   "cell_type": "code",
   "execution_count": 36,
   "metadata": {},
   "outputs": [
    {
     "output_type": "stream",
     "name": "stdout",
     "text": [
      "hello\nworld\nhello\nworld\n"
     ]
    }
   ],
   "source": [
    "max_len = lambda x,y: print(x+'\\n'+y) if len(x)==len(y) else (print(x) if len(x)>len(y) else print(y))\n",
    "\n",
    "func = lambda a,b: print(max((a,b),key=len)) if len(a)!=len(b) else print(a+'\\n'+b)\n",
    "\n",
    "max_len('hello','world')\n",
    "\n",
    "func('hello','world')"
   ]
  },
  {
   "source": [
    "# Question 31\n",
    "\n",
    ">***Define a function which can print a dictionary where the keys are numbers between 1 and 20 (both included) and the values are square of keys.***"
   ],
   "cell_type": "markdown",
   "metadata": {}
  },
  {
   "cell_type": "code",
   "execution_count": 38,
   "metadata": {},
   "outputs": [
    {
     "output_type": "stream",
     "name": "stdout",
     "text": [
      "{1: 1, 2: 4, 3: 9, 4: 16, 5: 25, 6: 36, 7: 49, 8: 64, 9: 81, 10: 100, 11: 121, 12: 144, 13: 169, 14: 196, 15: 225, 16: 256, 17: 289, 18: 324, 19: 361, 20: 400}\n"
     ]
    }
   ],
   "source": [
    "print({x:x**2 for x in range(1,21)})"
   ]
  },
  {
   "source": [
    "# Question 32\n",
    "\n",
    ">***Define a function which can generate a dictionary where the keys are numbers between 1 and 20 (both included) and the values are square of keys. The function should just print the keys only.***"
   ],
   "cell_type": "markdown",
   "metadata": {}
  },
  {
   "cell_type": "code",
   "execution_count": 41,
   "metadata": {},
   "outputs": [
    {
     "output_type": "stream",
     "name": "stdout",
     "text": [
      "dict_keys([1, 2, 3, 4, 5, 6, 7, 8, 9, 10, 11, 12, 13, 14, 15, 16, 17, 18, 19, 20])\n"
     ]
    }
   ],
   "source": [
    "def printDict():\n",
    "    dict = {x:x**2 for x in range(1,21)}\n",
    "    print(dict.keys())\n",
    "\n",
    "printDict()"
   ]
  },
  {
   "source": [
    "# Question 33\n",
    "\n",
    ">***Define a function which can generate and print a list where the values are square of numbers between 1 and 20 (both included).***"
   ],
   "cell_type": "markdown",
   "metadata": {}
  },
  {
   "cell_type": "code",
   "execution_count": 47,
   "metadata": {},
   "outputs": [
    {
     "output_type": "stream",
     "name": "stdout",
     "text": [
      "[1, 4, 9, 16, 25, 36, 49, 64, 81, 100, 121, 144, 169, 196, 225, 256, 289, 324, 361, 400]\n"
     ]
    }
   ],
   "source": [
    "def lst():\n",
    "    listt = [x**2 for x in range(1,21)]\n",
    "    print(listt)\n",
    "\n",
    "lst()"
   ]
  },
  {
   "source": [
    "# Question 34\n",
    "\n",
    ">***Define a function which can generate a list where the values are square of numbers between 1 and 20 (both included). Then the function needs to print the first 5 elements in the list.***"
   ],
   "cell_type": "markdown",
   "metadata": {}
  },
  {
   "cell_type": "code",
   "execution_count": 59,
   "metadata": {},
   "outputs": [
    {
     "output_type": "stream",
     "name": "stdout",
     "text": [
      "[1, 4, 9, 16, 25]\n"
     ]
    }
   ],
   "source": [
    "def lst():\n",
    "    listt = [x**2 for x in range(1,21)]\n",
    "    print(listt[:5])\n",
    "\n",
    "lst()"
   ]
  },
  {
   "source": [
    "# Question 35\n",
    "\n",
    ">***Define a function which can generate a list where the values are square of numbers between 1 and 20 (both included). Then the function needs to print the last 5 elements in the list.***"
   ],
   "cell_type": "markdown",
   "metadata": {}
  },
  {
   "cell_type": "code",
   "execution_count": 66,
   "metadata": {},
   "outputs": [
    {
     "output_type": "stream",
     "name": "stdout",
     "text": [
      "[256, 289, 324, 361, 400]\nNone\n"
     ]
    }
   ],
   "source": [
    "func = lambda:print([i**2 for i in range(1,21)][-5:])\n",
    "print(func())"
   ]
  },
  {
   "source": [
    "# Question 36\n",
    "\n",
    ">***Define a function which can generate a list where the values are square of numbers between 1 and 20 (both included). Then the function needs to print all values except the first 5 elements in the list.***"
   ],
   "cell_type": "markdown",
   "metadata": {}
  },
  {
   "cell_type": "code",
   "execution_count": 68,
   "metadata": {},
   "outputs": [
    {
     "output_type": "stream",
     "name": "stdout",
     "text": [
      "[36, 49, 64, 81, 100, 121, 144, 169, 196, 225, 256, 289, 324, 361, 400]\nNone\n"
     ]
    }
   ],
   "source": [
    "func = lambda:print([i**2 for i in range(1,21)][5:])\n",
    "print(func())"
   ]
  },
  {
   "source": [
    "# Question 37\n",
    "\n",
    ">***Define a function which can generate and print a tuple where the value are square of numbers between 1 and 20 (both included).***"
   ],
   "cell_type": "markdown",
   "metadata": {}
  },
  {
   "cell_type": "code",
   "execution_count": 76,
   "metadata": {},
   "outputs": [
    {
     "output_type": "stream",
     "name": "stdout",
     "text": [
      "(1, 4, 9, 16, 25, 36, 49, 64, 81, 100, 121, 144, 169, 196, 225, 256, 289, 324, 361, 400)\n"
     ]
    }
   ],
   "source": [
    "def tuplE():\n",
    "    return tuple(x**2 for x in range(1,21))\n",
    "\n",
    "print(tuplE())"
   ]
  },
  {
   "source": [
    "# Question 38\n",
    "\n",
    ">***With a given tuple (1,2,3,4,5,6,7,8,9,10), write a program to print the first half values in one line and the last half values in one line.***"
   ],
   "cell_type": "markdown",
   "metadata": {}
  },
  {
   "cell_type": "code",
   "execution_count": 80,
   "metadata": {},
   "outputs": [
    {
     "output_type": "stream",
     "name": "stdout",
     "text": [
      "(1, 2, 3, 4, 5)\n(6, 7, 8, 9, 10)\n"
     ]
    }
   ],
   "source": [
    "tup = (1,2,3,4,5,6,7,8,9,10)\n",
    "print(tup[:len(tup)//2])\n",
    "print(tup[len(tup)//2:])"
   ]
  },
  {
   "source": [
    "# Question 39\n",
    "\n",
    ">***Write a program to generate and print another tuple whose values are even numbers in the given tuple (1,2,3,4,5,6,7,8,9,10).***"
   ],
   "cell_type": "markdown",
   "metadata": {}
  },
  {
   "cell_type": "code",
   "execution_count": 83,
   "metadata": {},
   "outputs": [
    {
     "output_type": "stream",
     "name": "stdout",
     "text": [
      "(2, 4, 6, 8, 10)\n(2, 4, 6, 8, 10)\n"
     ]
    }
   ],
   "source": [
    "tup1 = (1,2,3,4,5,6,7,8,9,10)\n",
    "print(tuple(x for x in tup1 if x%2==0))\n",
    "\n",
    "print(tuple(filter(lambda x: x%2==0,tup1)))"
   ]
  },
  {
   "source": [
    "# Question 40\n",
    "\n",
    ">***Write a program which accepts a string as input to print \"Yes\" if the string is \"yes\" or \"YES\" or \"Yes\", otherwise print \"No\".***"
   ],
   "cell_type": "markdown",
   "metadata": {}
  },
  {
   "cell_type": "code",
   "execution_count": 87,
   "metadata": {},
   "outputs": [
    {
     "output_type": "stream",
     "name": "stdout",
     "text": [
      "Yes\n"
     ]
    }
   ],
   "source": [
    "input = 'Yes'\n",
    "output = ''.join(['Yes' if input == 'yes' or input =='YES' or input =='Yes' else 'No' ])\n",
    "print(str(output))"
   ]
  },
  {
   "source": [
    "# Question 41\n",
    "\n",
    ">***Write a program which can map() to make a list whose elements are square of elements in [1,2,3,4,5,6,7,8,9,10].***"
   ],
   "cell_type": "markdown",
   "metadata": {}
  },
  {
   "cell_type": "code",
   "execution_count": 94,
   "metadata": {},
   "outputs": [
    {
     "output_type": "stream",
     "name": "stdout",
     "text": [
      "[1, 4, 9, 16, 25, 36, 49, 64, 81, 100]\n"
     ]
    }
   ],
   "source": [
    "input = [1,2,3,4,5,6,7,8,9,10]\n",
    "output = map(lambda x:x**2,input)\n",
    "print(list(output))"
   ]
  },
  {
   "source": [
    "# Question 42\n",
    "\n",
    ">***Write a program which can map() and filter() to make a list whose elements are square of even number in [1,2,3,4,5,6,7,8,9,10].***"
   ],
   "cell_type": "markdown",
   "metadata": {}
  },
  {
   "cell_type": "code",
   "execution_count": 104,
   "metadata": {},
   "outputs": [
    {
     "output_type": "stream",
     "name": "stdout",
     "text": [
      "[4, 16, 36, 64, 100]\n"
     ]
    }
   ],
   "source": [
    "input = [1,2,3,4,5,6,7,8,9,10]\n",
    "output = map(lambda x: x**2,filter(lambda x: x%2==0,input))\n",
    "\n",
    "print(list(output))"
   ]
  },
  {
   "source": [
    "# Question 43\n",
    "\n",
    ">***Write a program which can filter() to make a list whose elements are even number between 1 and 20 (both included).***"
   ],
   "cell_type": "markdown",
   "metadata": {}
  },
  {
   "cell_type": "code",
   "execution_count": 110,
   "metadata": {},
   "outputs": [
    {
     "output_type": "stream",
     "name": "stdout",
     "text": [
      "[2, 4, 6, 8, 10, 12, 14, 16, 18, 20]\n"
     ]
    }
   ],
   "source": [
    "output = list(filter(lambda x:x%2==0,range(1,21)))\n",
    "print(output)"
   ]
  },
  {
   "source": [
    "# Question 44\n",
    "\n",
    ">***Write a program which can map() to make a list whose elements are square of numbers between 1 and 20 (both included).***"
   ],
   "cell_type": "markdown",
   "metadata": {}
  },
  {
   "cell_type": "code",
   "execution_count": 112,
   "metadata": {},
   "outputs": [
    {
     "output_type": "stream",
     "name": "stdout",
     "text": [
      "[1, 4, 9, 16, 25, 36, 49, 64, 81, 100, 121, 144, 169, 196, 225, 256, 289, 324, 361, 400]\n"
     ]
    }
   ],
   "source": [
    "output = list(map(lambda x:x**2,range(1,21)))\n",
    "print(output)"
   ]
  },
  {
   "source": [
    "# Question 45\n",
    "\n",
    ">***Define a class named American which has a static method called printNationality.***"
   ],
   "cell_type": "markdown",
   "metadata": {}
  },
  {
   "cell_type": "code",
   "execution_count": 118,
   "metadata": {},
   "outputs": [
    {
     "output_type": "stream",
     "name": "stdout",
     "text": [
      "Nepali\nNepali\n"
     ]
    }
   ],
   "source": [
    "class American():\n",
    "    @staticmethod\n",
    "    def printNationality():\n",
    "        print('Nepali')\n",
    "\n",
    "person1 = American()\n",
    "person1.printNationality()\n",
    "American.printNationality()"
   ]
  },
  {
   "source": [
    "# Question 46\n",
    "\n",
    ">***Define a class named American and its subclass NewYorker.***"
   ],
   "cell_type": "markdown",
   "metadata": {}
  },
  {
   "cell_type": "code",
   "execution_count": 120,
   "metadata": {},
   "outputs": [
    {
     "output_type": "stream",
     "name": "stdout",
     "text": [
      "<__main__.American object at 0x00000211F21A2670>\n<__main__.NewYorker object at 0x00000211F25B7EB0>\n"
     ]
    }
   ],
   "source": [
    "class American():\n",
    "    pass\n",
    "\n",
    "class NewYorker(American):\n",
    "    pass\n",
    "\n",
    "american = American()\n",
    "newyorker = NewYorker()\n",
    "\n",
    "print(american)\n",
    "print(newyorker)"
   ]
  },
  {
   "source": [
    "# Question 47\n",
    "\n",
    "> ***Define a class named Circle which can be constructed by a radius. The Circle class has a method which can compute the area.***"
   ],
   "cell_type": "markdown",
   "metadata": {}
  },
  {
   "cell_type": "code",
   "execution_count": 124,
   "metadata": {},
   "outputs": [
    {
     "output_type": "stream",
     "name": "stdout",
     "text": [
      "12.56\n"
     ]
    }
   ],
   "source": [
    "class Circle():\n",
    "    def __init__(self,r):\n",
    "        self.r = r\n",
    "\n",
    "    def area(self):\n",
    "        print(3.14*self.r**2)\n",
    "\n",
    "c1= Circle(2)\n",
    "c1.area()"
   ]
  },
  {
   "source": [
    "# Question 48\n",
    "\n",
    "> ***Define a class named Rectangle which can be constructed by a length and width. The Rectangle class has a method which can compute the area.***"
   ],
   "cell_type": "markdown",
   "metadata": {}
  },
  {
   "cell_type": "code",
   "execution_count": 126,
   "metadata": {},
   "outputs": [
    {
     "output_type": "stream",
     "name": "stdout",
     "text": [
      "12\n"
     ]
    }
   ],
   "source": [
    "class Rectange():\n",
    "    def __init__(self,length,width):\n",
    "        self.length = length\n",
    "        self.width = width\n",
    "    def area(self):\n",
    "        print(self.width*self.length)\n",
    "\n",
    "r1 = Rectange(3,4)\n",
    "r1.area()"
   ]
  },
  {
   "source": [
    "# Question 49\n",
    "\n",
    "> ***Define a class named Shape and its subclass Square. The Square class has an init function which takes a length as argument. Both classes have a area function which can print the area of the shape where Shape's area is 0 by default.***"
   ],
   "cell_type": "markdown",
   "metadata": {}
  },
  {
   "cell_type": "code",
   "execution_count": null,
   "metadata": {},
   "outputs": [],
   "source": [
    "class Shape():\n",
    "    def __init__(self):\n",
    "        pass\n",
    "\n",
    "    def area(self):\n",
    "        return 0\n",
    "\n",
    "class Square(Shape):\n",
    "    def __init__(self,length = 0):\n",
    "        Shape.__init__(self)\n",
    "        self.length = length\n",
    "\n",
    "    def area(self):\n",
    "        return self.length*self.length\n",
    "\n",
    "Asqr = Square(5)\n",
    "print(Asqr.area()\n",
    "\n",
    "print(Square().area())"
   ]
  },
  {
   "source": [
    "# Question 50\n",
    "\n",
    "> ***Please raise a RuntimeError exception.***"
   ],
   "cell_type": "markdown",
   "metadata": {}
  },
  {
   "cell_type": "code",
   "execution_count": 1,
   "metadata": {},
   "outputs": [
    {
     "output_type": "error",
     "ename": "RuntimeError",
     "evalue": "something went wrong",
     "traceback": [
      "\u001b[1;31m---------------------------------------------------------------------------\u001b[0m",
      "\u001b[1;31mRuntimeError\u001b[0m                              Traceback (most recent call last)",
      "\u001b[1;32m<ipython-input-1-1da0726e43f4>\u001b[0m in \u001b[0;36m<module>\u001b[1;34m\u001b[0m\n\u001b[1;32m----> 1\u001b[1;33m \u001b[1;32mraise\u001b[0m \u001b[0mRuntimeError\u001b[0m\u001b[1;33m(\u001b[0m\u001b[1;34m'something went wrong'\u001b[0m\u001b[1;33m)\u001b[0m\u001b[1;33m\u001b[0m\u001b[1;33m\u001b[0m\u001b[0m\n\u001b[0m",
      "\u001b[1;31mRuntimeError\u001b[0m: something went wrong"
     ]
    }
   ],
   "source": [
    "raise RuntimeError('something went wrong')"
   ]
  }
 ]
}