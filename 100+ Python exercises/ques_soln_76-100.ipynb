{
 "metadata": {
  "language_info": {
   "codemirror_mode": {
    "name": "ipython",
    "version": 3
   },
   "file_extension": ".py",
   "mimetype": "text/x-python",
   "name": "python",
   "nbconvert_exporter": "python",
   "pygments_lexer": "ipython3",
   "version": "3.9.1-final"
  },
  "orig_nbformat": 2,
  "kernelspec": {
   "name": "python3",
   "display_name": "Python 3.9.1 64-bit ('venv1')",
   "metadata": {
    "interpreter": {
     "hash": "6dbcfa4acfde829108fd9fed7b4c7e3cf5b89483651b78d4b8e08d6c4461514a"
    }
   }
  }
 },
 "nbformat": 4,
 "nbformat_minor": 2,
 "cells": [
  {
   "source": [
    "# Question 76\n",
    "\n",
    ">***Please write a program to compress and decompress the string \"hello world!hello world!hello world!hello world!\".***"
   ],
   "cell_type": "markdown",
   "metadata": {}
  },
  {
   "cell_type": "code",
   "execution_count": 7,
   "metadata": {},
   "outputs": [],
   "source": [
    "import zlib\n",
    "s = 'hello world!hello world!hello world!hello world!'\n",
    "# t = zlib.compress(s)\n",
    "# print(t)\n",
    "# print(zlib.decompress(t))"
   ]
  },
  {
   "source": [
    "# Question 77\n",
    "\n",
    ">***Please write a program to print the running time of execution of \"1+1\" for 100 times.***"
   ],
   "cell_type": "markdown",
   "metadata": {}
  },
  {
   "cell_type": "code",
   "execution_count": 26,
   "metadata": {},
   "outputs": [
    {
     "output_type": "stream",
     "name": "stdout",
     "text": [
      "1.6241526000000022\n"
     ]
    }
   ],
   "source": [
    "from timeit import Timer\n",
    "t = Timer(\"for i in range(100):1+1\")\n",
    "print(t.timeit())"
   ]
  },
  {
   "cell_type": "code",
   "execution_count": 27,
   "metadata": {},
   "outputs": [
    {
     "output_type": "stream",
     "name": "stdout",
     "text": [
      "0:00:00\n"
     ]
    }
   ],
   "source": [
    "import datetime\n",
    "\n",
    "before = datetime.datetime.now()\n",
    "for i in range(100):\n",
    "    x = 1 + 1\n",
    "after = datetime.datetime.now()\n",
    "execution_time = after - before\n",
    "print(execution_time)"
   ]
  },
  {
   "source": [
    "# Question 78\n",
    "\n",
    ">***Please write a program to shuffle and print the list [3,6,7,8].***"
   ],
   "cell_type": "markdown",
   "metadata": {}
  },
  {
   "cell_type": "code",
   "execution_count": 49,
   "metadata": {},
   "outputs": [
    {
     "output_type": "stream",
     "name": "stdout",
     "text": [
      "[7, 5, 8, 3]\n"
     ]
    }
   ],
   "source": [
    "import random\n",
    "input = [3,5,7,8]\n",
    "\n",
    "random.shuffle(input)\n",
    "print(input)"
   ]
  },
  {
   "cell_type": "code",
   "execution_count": 55,
   "metadata": {},
   "outputs": [
    {
     "output_type": "stream",
     "name": "stdout",
     "text": [
      "[8, 6, 3, 7]\n"
     ]
    }
   ],
   "source": [
    "lst = [3,6,7,8]\n",
    "seed = 7\n",
    "random.Random(seed).shuffle(lst)\n",
    "print(lst)"
   ]
  },
  {
   "source": [
    "# Question 79\n",
    "\n",
    ">***Please write a program to generate all sentences where subject is in [\"I\", \"You\"] and verb is in [\"Play\", \"Love\"] and the object is in [\"Hockey\",\"Football\"].***"
   ],
   "cell_type": "markdown",
   "metadata": {}
  },
  {
   "cell_type": "code",
   "execution_count": 58,
   "metadata": {},
   "outputs": [
    {
     "output_type": "stream",
     "name": "stdout",
     "text": [
      "i play hockey\ni play football\ni love hockey\ni love football\nyou play hockey\nyou play football\nyou love hockey\nyou love football\n"
     ]
    }
   ],
   "source": [
    "for i in ['i','you']:\n",
    "    for j in ['play','love']:\n",
    "        for k in ['hockey','football']:\n",
    "            print(i,j,k)"
   ]
  },
  {
   "source": [
    "# Question 80\n",
    "\n",
    ">***Please write a program to print the list after removing even numbers in [5,6,77,45,22,12,24].***"
   ],
   "cell_type": "markdown",
   "metadata": {}
  },
  {
   "cell_type": "code",
   "execution_count": 61,
   "metadata": {},
   "outputs": [
    {
     "output_type": "stream",
     "name": "stdout",
     "text": [
      "[5, 77, 45]\n"
     ]
    }
   ],
   "source": [
    "input = [5,6,77,45,22,12,24]\n",
    "\n",
    "output = [x for x in input if x%2!=0]\n",
    "print(output)"
   ]
  },
  {
   "cell_type": "code",
   "execution_count": 64,
   "metadata": {},
   "outputs": [
    {
     "output_type": "stream",
     "name": "stdout",
     "text": [
      "[5, 77, 45]\n"
     ]
    }
   ],
   "source": [
    "output = list(filter(lambda x:x%2!=0,input))\n",
    "print(output)"
   ]
  },
  {
   "source": [
    "# Question 81\n",
    "\n",
    ">***By using list comprehension, please write a program to print the list after removing numbers which are divisible by 5 and 7 in [12,24,35,70,88,120,155].***"
   ],
   "cell_type": "markdown",
   "metadata": {}
  },
  {
   "cell_type": "code",
   "execution_count": 66,
   "metadata": {},
   "outputs": [
    {
     "output_type": "stream",
     "name": "stdout",
     "text": [
      "[35, 70]\n"
     ]
    }
   ],
   "source": [
    "input = [12,24,35,70,88,120,155]\n",
    "\n",
    "output = [ x for x in input if x%35==0]\n",
    "\n",
    "print(output)"
   ]
  },
  {
   "source": [
    "# Question 82\n",
    "\n",
    ">***By using list comprehension, please write a program to print the list after removing the 0th, 2nd, 4th,6th numbers in [12,24,35,70,88,120,155].***"
   ],
   "cell_type": "markdown",
   "metadata": {}
  },
  {
   "cell_type": "code",
   "execution_count": 74,
   "metadata": {},
   "outputs": [
    {
     "output_type": "stream",
     "name": "stdout",
     "text": [
      "[24, 70, 120]\n[24, 70, 120]\n"
     ]
    }
   ],
   "source": [
    "input = [12,24,35,70,88,120,155]\n",
    "\n",
    "output = input[1:len(input):2]\n",
    "print(output)\n",
    "\n",
    "li = [x for (i,x) in enumerate(input) if i%2!=0]\n",
    "print(li)"
   ]
  },
  {
   "source": [
    "# Question 83\n",
    "\n",
    ">***By using list comprehension, please write a program to print the list after removing the 2nd - 4th numbers in [12,24,35,70,88,120,155].***"
   ],
   "cell_type": "markdown",
   "metadata": {}
  },
  {
   "cell_type": "code",
   "execution_count": 84,
   "metadata": {},
   "outputs": [
    {
     "output_type": "stream",
     "name": "stdout",
     "text": [
      "[12, 35, 88, 120, 155]\n[12, 24, 35, 120, 155]\n"
     ]
    }
   ],
   "source": [
    "input = [12,24,35,70,88,120,155]\n",
    "li = [x for (i,x) in enumerate(input) if i!=1 and i!=3]\n",
    "print(li)\n",
    "\n",
    "li = [x for (i,x) in enumerate(input) if i<3 or 4<i]\n",
    "print(li)\n"
   ]
  },
  {
   "source": [
    "# Question 84\n",
    "\n",
    "> ***By using list comprehension, please write a program generate a 3\\*5\\*8 3D array whose each element is 0.***"
   ],
   "cell_type": "markdown",
   "metadata": {}
  },
  {
   "cell_type": "code",
   "execution_count": 92,
   "metadata": {},
   "outputs": [
    {
     "output_type": "stream",
     "name": "stdout",
     "text": [
      "[[[0, 0, 0, 0, 0, 0, 0, 0], [0, 0, 0, 0, 0, 0, 0, 0], [0, 0, 0, 0, 0, 0, 0, 0], [0, 0, 0, 0, 0, 0, 0, 0], [0, 0, 0, 0, 0, 0, 0, 0]], [[0, 0, 0, 0, 0, 0, 0, 0], [0, 0, 0, 0, 0, 0, 0, 0], [0, 0, 0, 0, 0, 0, 0, 0], [0, 0, 0, 0, 0, 0, 0, 0], [0, 0, 0, 0, 0, 0, 0, 0]], [[0, 0, 0, 0, 0, 0, 0, 0], [0, 0, 0, 0, 0, 0, 0, 0], [0, 0, 0, 0, 0, 0, 0, 0], [0, 0, 0, 0, 0, 0, 0, 0], [0, 0, 0, 0, 0, 0, 0, 0]]]\n"
     ]
    }
   ],
   "source": [
    "array = [[ [0 for col in range(8)] for col in range(5)] for row in range(3)]\n",
    "print(array)"
   ]
  },
  {
   "source": [
    "# Question 85\n",
    "\n",
    ">***By using list comprehension, please write a program to print the list after removing the 0th,4th,5th numbers in [12,24,35,70,88,120,155].***"
   ],
   "cell_type": "markdown",
   "metadata": {}
  },
  {
   "cell_type": "code",
   "execution_count": 96,
   "metadata": {},
   "outputs": [
    {
     "output_type": "stream",
     "name": "stdout",
     "text": [
      "[12, 24, 35, 70, 155]\n"
     ]
    }
   ],
   "source": [
    "input = [12,24,35,70,88,120,155]\n",
    "li = [x for (i,x) in enumerate(input) if i not in (90,4,5)]\n",
    "print(li)"
   ]
  },
  {
   "source": [
    "# Question 86\n",
    "\n",
    ">***By using list comprehension, please write a program to print the list after removing the value 24 in [12,24,35,24,88,120,155].***"
   ],
   "cell_type": "markdown",
   "metadata": {}
  },
  {
   "cell_type": "code",
   "execution_count": 101,
   "metadata": {},
   "outputs": [
    {
     "output_type": "stream",
     "name": "stdout",
     "text": [
      "[12, 35, 70, 88, 120, 155]\n[12, 35, 70, 88, 120, 155]\n"
     ]
    }
   ],
   "source": [
    "input = [12,24,35,70,88,120,155]\n",
    "li = [i for i in input if i!=24]\n",
    "print(li)\n",
    "\n",
    "input.remove(24)\n",
    "print(input)"
   ]
  },
  {
   "source": [
    "# Question 87\n",
    "\n",
    ">***With two given lists [1,3,6,78,35,55] and [12,24,35,24,88,120,155], write a program to make a list whose elements are intersection of the above given lists.***\n"
   ],
   "cell_type": "markdown",
   "metadata": {}
  },
  {
   "cell_type": "code",
   "execution_count": 105,
   "metadata": {},
   "outputs": [
    {
     "output_type": "stream",
     "name": "stdout",
     "text": [
      "{35}\n{35}\n"
     ]
    }
   ],
   "source": [
    "lst1 = [1,3,6,78,35,55]\n",
    "lst2 = [12,24,35,24,88,120,155]\n",
    "\n",
    "print(set(lst1) & set(lst2))\n",
    "print(set.intersection(set(lst1),set(lst2)))"
   ]
  },
  {
   "source": [
    "# Question 88\n",
    "\n",
    ">***With a given list [12,24,35,24,88,120,155,88,120,155], write a program to print this list after removing all duplicate values with original order reserved.***\n"
   ],
   "cell_type": "markdown",
   "metadata": {}
  },
  {
   "cell_type": "code",
   "execution_count": 108,
   "metadata": {},
   "outputs": [
    {
     "output_type": "stream",
     "name": "stdout",
     "text": [
      "[2, 12, 24, 35, 88, 120, 155]\n"
     ]
    }
   ],
   "source": [
    "lst = [12,24,35,24,88,120,155,88,120,155]\n",
    "\n",
    "output = [x]\n",
    "for i in lst:\n",
    "    if i not in output:\n",
    "        output.append(i)\n",
    "\n",
    "print(output)"
   ]
  },
  {
   "source": [
    "# Question 89\n",
    "\n",
    ">***Define a class Person and its two child classes: Male and Female. All classes have a method \"getGender\" which can print \"Male\" for Male class and \"Female\" for Female class.***"
   ],
   "cell_type": "markdown",
   "metadata": {}
  },
  {
   "cell_type": "code",
   "execution_count": 111,
   "metadata": {},
   "outputs": [
    {
     "output_type": "stream",
     "name": "stdout",
     "text": [
      "Male\nFemale\n"
     ]
    }
   ],
   "source": [
    "class Person(object):\n",
    "    def getGender( self ):\n",
    "        return \"Unknown\"\n",
    "\n",
    "class Male( Person ):\n",
    "    def getGender( self ):\n",
    "        return \"Male\"\n",
    "\n",
    "class Female( Person ):\n",
    "    def getGender( self ):\n",
    "        return \"Female\"\n",
    "\n",
    "aMale = Male()\n",
    "aFemale= Female()\n",
    "print(aMale.getGender())\n",
    "print(aFemale.getGender())"
   ]
  },
  {
   "source": [
    "# Question 90\n",
    "\n",
    ">***Please write a program which count and print the numbers of each character in a string input by console.***"
   ],
   "cell_type": "markdown",
   "metadata": {}
  },
  {
   "cell_type": "code",
   "execution_count": 114,
   "metadata": {},
   "outputs": [
    {
     "output_type": "stream",
     "name": "stdout",
     "text": [
      "a,2\nb,2\nc,2\nd,1\ne,1\nf,1\ng,1\n"
     ]
    }
   ],
   "source": [
    "input = 'abcdefgabc'\n",
    "output ={}\n",
    "for i in input:\n",
    "    if i not in output:\n",
    "        output[i] = 1\n",
    "    else:\n",
    "        output[i]+=1\n",
    "\n",
    "for (key,value) in output.items():\n",
    "    print(f'{key},{value}')"
   ]
  },
  {
   "source": [
    "# Question 91\n",
    "\n",
    ">***Please write a program which accepts a string from console and print it in reverse order.***"
   ],
   "cell_type": "markdown",
   "metadata": {}
  },
  {
   "cell_type": "code",
   "execution_count": 120,
   "metadata": {},
   "outputs": [
    {
     "output_type": "stream",
     "name": "stdout",
     "text": [
      "ris etov ot esir\nris etov ot esir\n"
     ]
    }
   ],
   "source": [
    "input = 'rise to vote sir'\n",
    "print(input[::-1])\n",
    "\n",
    "print(''.join(reversed(input)))"
   ]
  },
  {
   "source": [
    "# Question 92\n",
    "\n",
    ">***Please write a program which accepts a string from console and print the characters that have even indexes.***"
   ],
   "cell_type": "markdown",
   "metadata": {}
  },
  {
   "cell_type": "code",
   "execution_count": 122,
   "metadata": {},
   "outputs": [
    {
     "output_type": "stream",
     "name": "stdout",
     "text": [
      "Helloworld\n"
     ]
    }
   ],
   "source": [
    "input = 'H1e2l3l4o5w6o7r8l9d'\n",
    "\n",
    "print(input[::2])"
   ]
  },
  {
   "source": [
    "# Question 93\n",
    "\n",
    ">***Please write a program which prints all permutations of [1,2,3]***"
   ],
   "cell_type": "markdown",
   "metadata": {}
  },
  {
   "cell_type": "code",
   "execution_count": 125,
   "metadata": {},
   "outputs": [
    {
     "output_type": "stream",
     "name": "stdout",
     "text": [
      "[(1, 2, 3), (1, 3, 2), (2, 1, 3), (2, 3, 1), (3, 1, 2), (3, 2, 1)]\n"
     ]
    }
   ],
   "source": [
    "import itertools\n",
    "print(list(itertools.permutations([1,2,3])))"
   ]
  },
  {
   "source": [
    "# Question 94\n",
    "\n",
    ">***Write a program to solve a classic ancient Chinese puzzle: \n",
    "We count 35 heads and 94 legs among the chickens and rabbits in a farm. How many rabbits and how many chickens do we have?***"
   ],
   "cell_type": "markdown",
   "metadata": {}
  },
  {
   "cell_type": "code",
   "execution_count": 130,
   "metadata": {},
   "outputs": [
    {
     "output_type": "stream",
     "name": "stdout",
     "text": [
      "(23, 12)\n"
     ]
    }
   ],
   "source": [
    "def solve(numheads,numlegs):\n",
    "    ns='No solutions!'\n",
    "    for i in range(numheads+1):\n",
    "        j=numheads-i\n",
    "        if 2*i+4*j==numlegs:\n",
    "            return i,j\n",
    "    return ns,ns\n",
    "\n",
    "numheads=35\n",
    "numlegs=94\n",
    "solutions=solve(numheads,numlegs)\n",
    "print(solutions)"
   ]
  },
  {
   "source": [
    "# Question 95\n",
    "\n",
    ">***Given the participants' score sheet for your University Sports Day, you are required to find the runner-up score. You are given  scores. Store them in a list and find the score of the runner-up.***"
   ],
   "cell_type": "markdown",
   "metadata": {}
  },
  {
   "cell_type": "code",
   "execution_count": 137,
   "metadata": {},
   "outputs": [
    {
     "output_type": "stream",
     "name": "stdout",
     "text": [
      "5\n"
     ]
    }
   ],
   "source": [
    "input = '2 3 6 6 5'\n",
    "arr = map(int, input.split(' '))\n",
    "arr = list(set(arr))\n",
    "arr.sort()\n",
    "print(arr[-2])"
   ]
  },
  {
   "source": [
    "# Question 96\n",
    "\n",
    ">***You are given a string S and width W.\n",
    "Your task is to wrap the string into a paragraph of width.***"
   ],
   "cell_type": "markdown",
   "metadata": {}
  },
  {
   "cell_type": "code",
   "execution_count": 167,
   "metadata": {},
   "outputs": [
    {
     "output_type": "stream",
     "name": "stdout",
     "text": [
      "ABCD\nEFGH\nIJKL\nIMNO\nQRST\nUVWX\nYZ\n"
     ]
    }
   ],
   "source": [
    "string = 'ABCDEFGHIJKLIMNOQRSTUVWXYZ'\n",
    "widht = 4\n",
    "for i in range(0,len(string)//4):\n",
    "    print(string[i*4:i*4+4])\n",
    "leng = ((len(string)//4)-1)*i\n",
    "print(string[leng-1:])"
   ]
  },
  {
   "cell_type": "code",
   "execution_count": 169,
   "metadata": {},
   "outputs": [
    {
     "output_type": "stream",
     "name": "stdout",
     "text": [
      "ABCD\nEFGH\nIJKL\nIMNO\nQRST\nUVWX\nYZ\n"
     ]
    }
   ],
   "source": [
    "import textwrap\n",
    "\n",
    "string = string\n",
    "width = 4\n",
    "\n",
    "print(textwrap.fill(string,width))"
   ]
  },
  {
   "source": [
    "# Question 97\n",
    "\n",
    ">***You are given an integer, N. Your task is to print an alphabet rangoli of size N. (Rangoli is a form of Indian folk art based on creation of patterns.)***"
   ],
   "cell_type": "markdown",
   "metadata": {}
  },
  {
   "cell_type": "code",
   "execution_count": 173,
   "metadata": {},
   "outputs": [
    {
     "output_type": "stream",
     "name": "stdout",
     "text": [
      "--------e--------\n------e-d-e------\n----e-d-c-d-e----\n--e-d-c-b-c-d-e--\ne-d-c-b-a-b-c-d-e\n--e-d-c-b-c-d-e--\n----e-d-c-d-e----\n------e-d-e------\n--------e--------\n"
     ]
    }
   ],
   "source": [
    "import string\n",
    "def print_rangoli(size):\n",
    "    n = size\n",
    "    alph = string.ascii_lowercase\n",
    "    width = 4 * n - 3\n",
    "\n",
    "    ans = []\n",
    "    for i in range(n):\n",
    "        left = '-'.join(alph[n - i - 1:n])\n",
    "        mid = left[-1:0:-1] + left\n",
    "        final = mid.center(width, '-')\n",
    "        ans.append(final)\n",
    "\n",
    "    if len(ans) > 1:\n",
    "        for i in ans[n - 2::-1]:\n",
    "            ans.append(i)\n",
    "    ans = '\\n'.join(ans)\n",
    "    print(ans)\n",
    "\n",
    "n = 5\n",
    "print_rangoli(n)"
   ]
  },
  {
   "source": [
    "# Question 98\n",
    "\n",
    ">***You are given a date. Your task is to find what the day is on that date.***"
   ],
   "cell_type": "markdown",
   "metadata": {}
  },
  {
   "cell_type": "code",
   "execution_count": 181,
   "metadata": {},
   "outputs": [
    {
     "output_type": "stream",
     "name": "stdout",
     "text": [
      "WEDNESDAY\n"
     ]
    }
   ],
   "source": [
    "import calendar\n",
    "\n",
    "month, day, year = map(int, '08 05 2015'.split(' '))\n",
    "\n",
    "dayId = calendar.weekday(year, month, day)\n",
    "print(calendar.day_name[dayId].upper())"
   ]
  },
  {
   "source": [
    "# Question 99\n",
    "\n",
    ">***Given 2 sets of integers, M and N, print their symmetric difference in ascending order. The term symmetric difference indicates those values that exist in either M or N but do not exist in both.***"
   ],
   "cell_type": "markdown",
   "metadata": {}
  },
  {
   "cell_type": "code",
   "execution_count": 187,
   "metadata": {},
   "outputs": [
    {
     "output_type": "stream",
     "name": "stdout",
     "text": [
      "5\n9\n11\n12\n"
     ]
    }
   ],
   "source": [
    "if __name__ == '__main__':\n",
    "    n = ('2 4 5 9')\n",
    "    set1 = set(map(int,n.split(' ')))\n",
    "\n",
    "    m = ('2 4 11 12')\n",
    "    set2 = set(map(int, m.split(' ')))\n",
    "\n",
    "    ans = list(set1 ^ set2)\n",
    "    ans.sort()\n",
    "    for i in ans:\n",
    "        print(i)"
   ]
  },
  {
   "source": [
    "# Question 100\n",
    "\n",
    ">***You are given  words. Some words may repeat. For each word, output its number of occurrences. The output order should correspond with the input order of appearance of the word. See the sample input/output for clarification.***"
   ],
   "cell_type": "markdown",
   "metadata": {}
  },
  {
   "cell_type": "code",
   "execution_count": 192,
   "metadata": {},
   "outputs": [
    {
     "output_type": "stream",
     "name": "stdout",
     "text": [
      "3\n2 1 1 "
     ]
    }
   ],
   "source": [
    "word_list = []\n",
    "word_dict = {}\n",
    "word = 'bcdef abcdefg bcde bcdef'\n",
    "word = word.split(' ')\n",
    "\n",
    "for iword in word:\n",
    "    \n",
    "    if iword not in word_dict:\n",
    "        word_list.append(iword)\n",
    "    word_dict[iword] = word_dict.get(iword, 0) + 1\n",
    "\n",
    "print(len(word_list))\n",
    "for word in word_list:\n",
    "    print(word_dict[word], end=' ')"
   ]
  },
  {
   "source": [
    "# Question 101\n",
    "\n",
    ">***You are given a string.Your task is to count the frequency of letters of the string and print the letters in descending order of frequency.***"
   ],
   "cell_type": "markdown",
   "metadata": {}
  },
  {
   "cell_type": "code",
   "execution_count": 204,
   "metadata": {},
   "outputs": [
    {
     "output_type": "stream",
     "name": "stdout",
     "text": [
      "b 3\na 2\nc 2\nd 1\ne 1\n"
     ]
    }
   ],
   "source": [
    "input = 'aabbbccde'\n",
    "dct = {}\n",
    "\n",
    "for letter in input:\n",
    "    if letter in dct:\n",
    "        dct[letter] +=1\n",
    "    else:\n",
    "        dct[letter] = 1\n",
    "\n",
    "dct = dict(sorted(dct.items(),key=lambda x: (-x[1],x[0])))\n",
    "\n",
    "for (key,value) in dct.items():\n",
    "    print(key,value)"
   ]
  },
  {
   "cell_type": "code",
   "execution_count": 206,
   "metadata": {},
   "outputs": [
    {
     "output_type": "stream",
     "name": "stdout",
     "text": [
      "b 3\na 2\nc 2\nd 1\ne 1\n"
     ]
    }
   ],
   "source": [
    "s = input\n",
    "dict_count_ = {k:s.count(k) for k in s}\n",
    "list_of_tuples = [(k,v) for k,v in dict_count_.items()]\n",
    "list_of_tuples.sort(key = lambda x: x[1], reverse = True)\n",
    "\n",
    "for item in list_of_tuples:\n",
    "  print(item[0], item[1])"
   ]
  },
  {
   "source": [
    "# Question 102\n",
    "\n",
    ">***Write a Python program that accepts a string and calculate the number of digits and letters.***"
   ],
   "cell_type": "markdown",
   "metadata": {}
  },
  {
   "cell_type": "code",
   "execution_count": 208,
   "metadata": {},
   "outputs": [
    {
     "output_type": "stream",
     "name": "stdout",
     "text": [
      "Digit - 6\nLetter - 8\n"
     ]
    }
   ],
   "source": [
    "word = 'Hello321Bye360'\n",
    "digit,letter = 0,0\n",
    "for char in word:\n",
    "    digit+=char.isdigit()\n",
    "    letter+=char.isalpha()\n",
    "\n",
    "print('Digit -',digit)\n",
    "print('Letter -',letter)"
   ]
  },
  {
   "source": [
    "# Question 103\n",
    "\n",
    ">***Given a number N.Find Sum of 1 to N Using Recursion***"
   ],
   "cell_type": "markdown",
   "metadata": {}
  },
  {
   "cell_type": "code",
   "execution_count": 3,
   "metadata": {},
   "outputs": [
    {
     "output_type": "stream",
     "name": "stdout",
     "text": [
      "15\n"
     ]
    }
   ],
   "source": [
    "def sum(x):\n",
    "    if x==0:\n",
    "        return 0\n",
    "    return x+sum(x-1)\n",
    "\n",
    "print(sum(5))"
   ]
  }
 ]
}