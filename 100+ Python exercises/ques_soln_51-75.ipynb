{
 "metadata": {
  "language_info": {
   "codemirror_mode": {
    "name": "ipython",
    "version": 3
   },
   "file_extension": ".py",
   "mimetype": "text/x-python",
   "name": "python",
   "nbconvert_exporter": "python",
   "pygments_lexer": "ipython3",
   "version": "3.9.1-final"
  },
  "orig_nbformat": 2,
  "kernelspec": {
   "name": "python3",
   "display_name": "Python 3.9.1 64-bit ('venv1')",
   "metadata": {
    "interpreter": {
     "hash": "6dbcfa4acfde829108fd9fed7b4c7e3cf5b89483651b78d4b8e08d6c4461514a"
    }
   }
  }
 },
 "nbformat": 4,
 "nbformat_minor": 2,
 "cells": [
  {
   "source": [
    "# Question 51\n",
    "\n",
    "> ***Write a function to compute 5/0 and use try/except to catch the exceptions.***"
   ],
   "cell_type": "markdown",
   "metadata": {}
  },
  {
   "cell_type": "code",
   "execution_count": 4,
   "metadata": {},
   "outputs": [
    {
     "output_type": "stream",
     "name": "stdout",
     "text": [
      "division by zero\nNone\n"
     ]
    }
   ],
   "source": [
    "def div():\n",
    "    try:\n",
    "        return 8/0\n",
    "    except Exception as e:\n",
    "        print(e)\n",
    "print(div())"
   ]
  },
  {
   "source": [
    "# Question 52\n",
    "\n",
    "> ***Define a custom exception class which takes a string message as attribute.***"
   ],
   "cell_type": "markdown",
   "metadata": {}
  },
  {
   "cell_type": "code",
   "execution_count": 6,
   "metadata": {},
   "outputs": [
    {
     "output_type": "stream",
     "name": "stdout",
     "text": [
      "The error raised: Input is less than 10\n"
     ]
    }
   ],
   "source": [
    "class CustomException(Exception):\n",
    "    \"\"\"Exception raised for custom purpose\n",
    "\n",
    "    Attributes:\n",
    "        message -- explanation of the error\n",
    "    \"\"\"\n",
    "\n",
    "    def __init__(self, message):\n",
    "        self.message = message\n",
    "\n",
    "\n",
    "num = int(input())\n",
    "\n",
    "try:\n",
    "    if num < 10:\n",
    "        raise CustomException(\"Input is less than 10\")\n",
    "    elif num > 10:\n",
    "        raise CustomException(\"Input is grater than 10\")\n",
    "except CustomException as ce:\n",
    "    print(\"The error raised: \" + ce.message)"
   ]
  },
  {
   "source": [
    "# Question 53\n",
    "\n",
    "> ***Assuming that we have some email addresses in the \"username@companyname.com\" format, please write program to print the user name of a given email address. Both user names and company names are composed of letters only.***"
   ],
   "cell_type": "markdown",
   "metadata": {}
  },
  {
   "cell_type": "code",
   "execution_count": 12,
   "metadata": {},
   "outputs": [
    {
     "output_type": "stream",
     "name": "stdout",
     "text": [
      "username\n"
     ]
    }
   ],
   "source": [
    "import re\n",
    "emailAddress = 'username@companyname.com'\n",
    "pat2 = \"(\\w+)@((\\w+\\.)+(com))\"\n",
    "r2 = re.match(pat2,emailAddress)\n",
    "print(r2.group(1))"
   ]
  },
  {
   "source": [
    "# Question 54\n",
    "\n",
    "> ***Assuming that we have some email addresses in the \"username@companyname.com\" format, please write program to print the company name of a given email address. Both user names and company names are composed of letters only.***"
   ],
   "cell_type": "markdown",
   "metadata": {}
  },
  {
   "cell_type": "code",
   "execution_count": 25,
   "metadata": {},
   "outputs": [
    {
     "output_type": "stream",
     "name": "stdout",
     "text": [
      "companyname\n"
     ]
    }
   ],
   "source": [
    "import re\n",
    "emailAddress = 'username@companyname.com'\n",
    "pat2 = \"(\\w+)@(\\w+)+.(\\w+)\"\n",
    "r2 = re.match(pat2,emailAddress)\n",
    "print(r2.group(2))"
   ]
  },
  {
   "source": [
    "# Question 55\n",
    "\n",
    ">***Write a program which accepts a sequence of words separated by whitespace as input to print the words composed of digits only.***"
   ],
   "cell_type": "markdown",
   "metadata": {}
  },
  {
   "cell_type": "code",
   "execution_count": 31,
   "metadata": {},
   "outputs": [
    {
     "output_type": "stream",
     "name": "stdout",
     "text": [
      "['2', '3']\n"
     ]
    }
   ],
   "source": [
    "input = '2 cats and 3 dogs.'\n",
    "output = input.split(' ')\n",
    "\n",
    "output = list(filter(lambda x:x.isdigit(),output))\n",
    "print(output)"
   ]
  },
  {
   "cell_type": "code",
   "execution_count": 33,
   "metadata": {},
   "outputs": [
    {
     "output_type": "stream",
     "name": "stdout",
     "text": [
      "['2', '3']\n"
     ]
    }
   ],
   "source": [
    "import re\n",
    "\n",
    "email = input\n",
    "pattern = \"\\d+\"\n",
    "ans = re.findall(pattern,email)\n",
    "print(ans)"
   ]
  },
  {
   "source": [
    "# Question 56\n",
    "\n",
    "> ***Print a unicode string \"hello world\".***"
   ],
   "cell_type": "markdown",
   "metadata": {}
  },
  {
   "cell_type": "code",
   "execution_count": 37,
   "metadata": {},
   "outputs": [
    {
     "output_type": "stream",
     "name": "stdout",
     "text": [
      "hello world!\n"
     ]
    }
   ],
   "source": [
    "unicodeString = u\"hello world!\"\n",
    "print(unicodeString)"
   ]
  },
  {
   "source": [
    "# Question 57\n",
    "\n",
    "> ***Write a program to read an ASCII string and to convert it to a unicode string encoded by utf-8.***"
   ],
   "cell_type": "markdown",
   "metadata": {}
  },
  {
   "cell_type": "code",
   "execution_count": 41,
   "metadata": {},
   "outputs": [
    {
     "output_type": "stream",
     "name": "stdout",
     "text": [
      "b'hello,i am rabin'\n"
     ]
    }
   ],
   "source": [
    "s = 'hello,i am rabin'\n",
    "u = s.encode('utf-8')\n",
    "print(u)"
   ]
  },
  {
   "source": [
    "# Question 58\n",
    "\n",
    "> ***Write a special comment to indicate a Python source code file is in unicode.***"
   ],
   "cell_type": "markdown",
   "metadata": {}
  },
  {
   "cell_type": "code",
   "execution_count": 43,
   "metadata": {},
   "outputs": [],
   "source": [
    "# -*- coding: utf-8 -*-"
   ]
  },
  {
   "source": [
    "# Question 59\n",
    "\n",
    ">***Write a program to compute 1/2+2/3+3/4+...+n/n+1 with a given n input by console (n>0).***"
   ],
   "cell_type": "markdown",
   "metadata": {}
  },
  {
   "cell_type": "code",
   "execution_count": 55,
   "metadata": {},
   "outputs": [
    {
     "output_type": "stream",
     "name": "stdout",
     "text": [
      "3.55\n"
     ]
    }
   ],
   "source": [
    "sum = 0\n",
    "for i in range(1,6):\n",
    "    sum+=i/(i+1)\n",
    "\n",
    "print(round(sum,2))"
   ]
  },
  {
   "source": [
    "# Question 60\n",
    "\n",
    ">***Write a program to compute:***\n",
    "```\n",
    "f(n)=f(n-1)+100 when n>0\n",
    "and f(0)=0\n",
    "```"
   ],
   "cell_type": "markdown",
   "metadata": {}
  },
  {
   "cell_type": "code",
   "execution_count": 58,
   "metadata": {},
   "outputs": [
    {
     "output_type": "stream",
     "name": "stdout",
     "text": [
      "500\n"
     ]
    }
   ],
   "source": [
    "def func(n):\n",
    "    if n==0:\n",
    "        return 0\n",
    "    return func(n-1)+100\n",
    "\n",
    "print(func(5))"
   ]
  },
  {
   "source": [
    "# Question 61\n",
    "\n",
    ">***The Fibonacci Sequence is computed based on the following formula:***\n",
    "```\n",
    "f(n)=0 if n=0\n",
    "f(n)=1 if n=1\n",
    "f(n)=f(n-1)+f(n-2) if n>1\n",
    "```"
   ],
   "cell_type": "markdown",
   "metadata": {}
  },
  {
   "cell_type": "code",
   "execution_count": 63,
   "metadata": {},
   "outputs": [
    {
     "output_type": "stream",
     "name": "stdout",
     "text": [
      "13\n"
     ]
    }
   ],
   "source": [
    "def fibo(n):\n",
    "    if n==0:\n",
    "        return 0\n",
    "    elif n==1:\n",
    "        return 1\n",
    "    else:\n",
    "        return fibo(n-1)+fibo(n-2)\n",
    "\n",
    "print(fibo(7))"
   ]
  },
  {
   "source": [
    "# Question 62\n",
    "\n",
    ">***The Fibonacci Sequence is computed based on the following formula:***\n",
    "```\n",
    "f(n)=0 if n=0\n",
    "f(n)=1 if n=1\n",
    "f(n)=f(n-1)+f(n-2) if n>1\n",
    "```"
   ],
   "cell_type": "markdown",
   "metadata": {}
  },
  {
   "cell_type": "code",
   "execution_count": 77,
   "metadata": {},
   "outputs": [
    {
     "output_type": "stream",
     "name": "stdout",
     "text": [
      "0,1,1,2,3,5,8,13\n"
     ]
    }
   ],
   "source": [
    "def f(n):\n",
    "    if n < 2:\n",
    "        fibo[n] = n\n",
    "        return fibo[n]\n",
    "    fibo[n] = f(n-1) + f(n-2)\n",
    "    return fibo[n]\n",
    "\n",
    "n = 7\n",
    "fibo = [0]*(n+1)  # initialize a list of size (n+1)\n",
    "f(n)              # call once and it will set value to fibo[0-n]\n",
    "fibo = [str(i) for i in fibo]   # converting integer data to string type\n",
    "ans = \",\".join(fibo)    # joining all string element of fibo with ',' character\n",
    "print(ans)"
   ]
  },
  {
   "source": [
    "# Question 63\n",
    "\n",
    ">***Please write a program using generator to print the even numbers between 0 and n in comma separated form while n is input by console.***"
   ],
   "cell_type": "markdown",
   "metadata": {}
  },
  {
   "cell_type": "code",
   "execution_count": 88,
   "metadata": {},
   "outputs": [
    {
     "output_type": "stream",
     "name": "stdout",
     "text": [
      "0,2,4,6,8,10,12,14,16\n"
     ]
    }
   ],
   "source": [
    "def even_generator(n):\n",
    "    i=0\n",
    "    while i<=n:\n",
    "        if i%2==0:\n",
    "            yield i\n",
    "        i+=1\n",
    "output = [str(i) for i in even_generator(17)]\n",
    "print(','.join(output))"
   ]
  },
  {
   "source": [
    "# Question 64\n",
    "\n",
    ">***Please write a program using generator to print the numbers which can be divisible by 5 and 7 between 0 and n in comma separated form while n is input by console.***\n"
   ],
   "cell_type": "markdown",
   "metadata": {}
  },
  {
   "cell_type": "code",
   "execution_count": 94,
   "metadata": {},
   "outputs": [
    {
     "output_type": "stream",
     "name": "stdout",
     "text": [
      "0,35,70\n"
     ]
    }
   ],
   "source": [
    "def even_generator(n):\n",
    "    for i in range(n+1):\n",
    "        if i%5==0 and i%7==0:\n",
    "            yield i\n",
    "\n",
    "output = [str(i) for i in even_generator(100)]\n",
    "print(','.join(output))"
   ]
  },
  {
   "source": [
    "# Question 65\n",
    "\n",
    ">***Please write assert statements to verify that every number in the list [2,4,6,8] is even.***"
   ],
   "cell_type": "markdown",
   "metadata": {}
  },
  {
   "cell_type": "code",
   "execution_count": 97,
   "metadata": {},
   "outputs": [
    {
     "output_type": "error",
     "ename": "AssertionError",
     "evalue": "5 is not an even number",
     "traceback": [
      "\u001b[1;31m---------------------------------------------------------------------------\u001b[0m",
      "\u001b[1;31mAssertionError\u001b[0m                            Traceback (most recent call last)",
      "\u001b[1;32m<ipython-input-97-fd2f484e9b04>\u001b[0m in \u001b[0;36m<module>\u001b[1;34m\u001b[0m\n\u001b[0;32m      1\u001b[0m \u001b[0mdata\u001b[0m \u001b[1;33m=\u001b[0m \u001b[1;33m[\u001b[0m\u001b[1;36m2\u001b[0m\u001b[1;33m,\u001b[0m\u001b[1;36m4\u001b[0m\u001b[1;33m,\u001b[0m\u001b[1;36m5\u001b[0m\u001b[1;33m,\u001b[0m\u001b[1;36m6\u001b[0m\u001b[1;33m]\u001b[0m\u001b[1;33m\u001b[0m\u001b[1;33m\u001b[0m\u001b[0m\n\u001b[0;32m      2\u001b[0m \u001b[1;32mfor\u001b[0m \u001b[0mi\u001b[0m \u001b[1;32min\u001b[0m \u001b[0mdata\u001b[0m\u001b[1;33m:\u001b[0m\u001b[1;33m\u001b[0m\u001b[1;33m\u001b[0m\u001b[0m\n\u001b[1;32m----> 3\u001b[1;33m     \u001b[1;32massert\u001b[0m \u001b[0mi\u001b[0m\u001b[1;33m%\u001b[0m\u001b[1;36m2\u001b[0m \u001b[1;33m==\u001b[0m \u001b[1;36m0\u001b[0m\u001b[1;33m,\u001b[0m \u001b[1;34m\"{} is not an even number\"\u001b[0m\u001b[1;33m.\u001b[0m\u001b[0mformat\u001b[0m\u001b[1;33m(\u001b[0m\u001b[0mi\u001b[0m\u001b[1;33m)\u001b[0m\u001b[1;33m\u001b[0m\u001b[1;33m\u001b[0m\u001b[0m\n\u001b[0m",
      "\u001b[1;31mAssertionError\u001b[0m: 5 is not an even number"
     ]
    }
   ],
   "source": [
    "data = [2,4,5,6]\n",
    "for i in data:\n",
    "    assert i%2 == 0, \"{} is not an even number\".format(i)"
   ]
  },
  {
   "source": [
    "# Question 66\n",
    "\n",
    ">***Please write a program which accepts basic mathematic expression from console and print the evaluation result.***"
   ],
   "cell_type": "markdown",
   "metadata": {}
  },
  {
   "cell_type": "code",
   "execution_count": 100,
   "metadata": {},
   "outputs": [
    {
     "output_type": "stream",
     "name": "stdout",
     "text": [
      "8\n"
     ]
    }
   ],
   "source": [
    "input = '3+5'\n",
    "print(eval(input))"
   ]
  },
  {
   "source": [
    "# Question 67\n",
    "\n",
    ">***Please write a binary search function which searches an item in a sorted list. The function should return the index of element to be searched in the list.***"
   ],
   "cell_type": "markdown",
   "metadata": {}
  },
  {
   "cell_type": "code",
   "execution_count": 11,
   "metadata": {},
   "outputs": [
    {
     "output_type": "stream",
     "name": "stdout",
     "text": [
      "10 -> 82\n"
     ]
    }
   ],
   "source": [
    "def bin_search(lst,element):\n",
    "    low = 0\n",
    "    high = len(lst)-1\n",
    "    while low<=high:\n",
    "        mid = (low+high)//2\n",
    "        if lst[mid]<element:\n",
    "            low = mid+1\n",
    "        if lst[mid]>element:\n",
    "            high = mid-1\n",
    "        if lst[mid] == element:\n",
    "            return mid\n",
    "    return -1\n",
    "\n",
    "\n",
    "li=[1,5,8,10,12,13,55,66,73,78,82,85,88,99]\n",
    "pos = bin_search(li,82)\n",
    "print(pos,'->',li[pos])"
   ]
  },
  {
   "source": [
    "# Question 68\n",
    "\n",
    ">***Please generate a random float where the value is between 10 and 100 using Python module.***"
   ],
   "cell_type": "markdown",
   "metadata": {}
  },
  {
   "cell_type": "code",
   "execution_count": 24,
   "metadata": {},
   "outputs": [
    {
     "output_type": "stream",
     "name": "stdout",
     "text": [
      "63.35410444664085\n96.3878093324093\n"
     ]
    }
   ],
   "source": [
    "import random\n",
    "rand_num = random.uniform(10,100)\n",
    "print(rand_num)\n",
    "\n",
    "print(random.random()*100)"
   ]
  },
  {
   "source": [
    "\n",
    "# Question 69\n",
    "\n",
    ">***Please generate a random float where the value is between 5 and 95 using Python module.***\n"
   ],
   "cell_type": "markdown",
   "metadata": {}
  },
  {
   "cell_type": "code",
   "execution_count": 26,
   "metadata": {},
   "outputs": [
    {
     "output_type": "stream",
     "name": "stdout",
     "text": [
      "14.001439080060795\n"
     ]
    }
   ],
   "source": [
    "import random\n",
    "rand_num = random.uniform(5,95)\n",
    "print(rand_num)"
   ]
  },
  {
   "source": [
    "# Question 70\n",
    "\n",
    ">***Please write a program to output a random even number between 0 and 10 inclusive using random module and list comprehension.***"
   ],
   "cell_type": "markdown",
   "metadata": {}
  },
  {
   "cell_type": "code",
   "execution_count": 51,
   "metadata": {},
   "outputs": [
    {
     "output_type": "stream",
     "name": "stdout",
     "text": [
      "2\n10\n"
     ]
    }
   ],
   "source": [
    "import random\n",
    "\n",
    "print(random.choice([x for x in range(11) if x%2==0]))\n",
    "\n",
    "print(random.choice([x for x in range(0,11,2)]))"
   ]
  },
  {
   "source": [
    "# Question 71\n",
    "\n",
    ">***Please write a program to output a random number, which is divisible by 5 and 7, between 10 and 150 inclusive using random module and list comprehension.***"
   ],
   "cell_type": "markdown",
   "metadata": {}
  },
  {
   "cell_type": "code",
   "execution_count": 71,
   "metadata": {},
   "outputs": [
    {
     "output_type": "stream",
     "name": "stdout",
     "text": [
      "35\n35\n"
     ]
    }
   ],
   "source": [
    "import random\n",
    "\n",
    "output = [x for x in range(10,151) if x%5==0 and x%7==0]\n",
    "print(random.choice(output))\n",
    "\n",
    "output = [x for x in range(10,151) if x%35==0]\n",
    "print(random.choice(output))"
   ]
  },
  {
   "source": [
    "# Question 72\n",
    "\n",
    ">***Please write a program to generate a list with 5 random numbers between 100 and 200 inclusive.***"
   ],
   "cell_type": "markdown",
   "metadata": {}
  },
  {
   "cell_type": "code",
   "execution_count": 78,
   "metadata": {},
   "outputs": [
    {
     "output_type": "stream",
     "name": "stdout",
     "text": [
      "[194, 120, 159, 118, 110]\n"
     ]
    }
   ],
   "source": [
    "import random\n",
    "output = [x for x in range(100,201)]\n",
    "\n",
    "print(random.sample(output,5))"
   ]
  },
  {
   "source": [
    "# Question 73\n",
    "\n",
    ">***Please write a program to randomly generate a list with 5 even numbers between 100 and 200 inclusive.***"
   ],
   "cell_type": "markdown",
   "metadata": {}
  },
  {
   "cell_type": "code",
   "execution_count": 94,
   "metadata": {},
   "outputs": [
    {
     "output_type": "stream",
     "name": "stdout",
     "text": [
      "[186, 158, 118, 194, 138]\n"
     ]
    }
   ],
   "source": [
    "import random\n",
    "output = range(100,201,2)\n",
    "\n",
    "print(random.sample(output,5))"
   ]
  },
  {
   "source": [
    "# Question 74\n",
    "\n",
    ">***Please write a program to randomly generate a list with 5 numbers, which are divisible by 5 and 7 , between 1 and 1000 inclusive.***"
   ],
   "cell_type": "markdown",
   "metadata": {}
  },
  {
   "cell_type": "code",
   "execution_count": 114,
   "metadata": {},
   "outputs": [
    {
     "output_type": "stream",
     "name": "stdout",
     "text": [
      "[245, 490, 560, 420, 910]\n"
     ]
    }
   ],
   "source": [
    "import random\n",
    "output = [x for x in range(1,1001) if x%35==0]\n",
    "\n",
    "print(random.sample(output,5))"
   ]
  },
  {
   "source": [
    "# Question 75\n",
    "\n",
    ">***Please write a program to randomly print a integer number between 7 and 15 inclusive.***"
   ],
   "cell_type": "markdown",
   "metadata": {}
  },
  {
   "cell_type": "code",
   "execution_count": 123,
   "metadata": {},
   "outputs": [
    {
     "output_type": "stream",
     "name": "stdout",
     "text": [
      "11\n"
     ]
    }
   ],
   "source": [
    "import random\n",
    "print(random.randint(7,16))"
   ]
  }
 ]
}