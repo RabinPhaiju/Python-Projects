{
 "metadata": {
  "language_info": {
   "codemirror_mode": {
    "name": "ipython",
    "version": 3
   },
   "file_extension": ".py",
   "mimetype": "text/x-python",
   "name": "python",
   "nbconvert_exporter": "python",
   "pygments_lexer": "ipython3",
   "version": "3.9.1-final"
  },
  "orig_nbformat": 2,
  "kernelspec": {
   "name": "python3",
   "display_name": "Python 3.9.1 64-bit ('venv1')",
   "metadata": {
    "interpreter": {
     "hash": "6dbcfa4acfde829108fd9fed7b4c7e3cf5b89483651b78d4b8e08d6c4461514a"
    }
   }
  }
 },
 "nbformat": 4,
 "nbformat_minor": 2,
 "cells": [
  {
   "source": [
    "# Question 1\n",
    "***Write a program which will find all such numbers which are divisible by 7 but are not a multiple of 5,\n",
    "between 2000 and 3200 (both included).The numbers obtained should be printed in a comma-separated sequence on a single line.***"
   ],
   "cell_type": "markdown",
   "metadata": {}
  },
  {
   "cell_type": "code",
   "execution_count": 9,
   "metadata": {},
   "outputs": [
    {
     "output_type": "stream",
     "name": "stdout",
     "text": [
      "[2002, 2009, 2016, 2023, 2037, 2044, 2051, 2058, 2072, 2079, 2086, 2093, 2107, 2114, 2121, 2128, 2142, 2149, 2156, 2163, 2177, 2184, 2191, 2198, 2212, 2219, 2226, 2233, 2247, 2254, 2261, 2268, 2282, 2289, 2296, 2303, 2317, 2324, 2331, 2338, 2352, 2359, 2366, 2373, 2387, 2394, 2401, 2408, 2422, 2429, 2436, 2443, 2457, 2464, 2471, 2478, 2492, 2499, 2506, 2513, 2527, 2534, 2541, 2548, 2562, 2569, 2576, 2583, 2597, 2604, 2611, 2618, 2632, 2639, 2646, 2653, 2667, 2674, 2681, 2688, 2702, 2709, 2716, 2723, 2737, 2744, 2751, 2758, 2772, 2779, 2786, 2793, 2807, 2814, 2821, 2828, 2842, 2849, 2856, 2863, 2877, 2884, 2891, 2898, 2912, 2919, 2926, 2933, 2947, 2954, 2961, 2968, 2982, 2989, 2996, 3003, 3017, 3024, 3031, 3038, 3052, 3059, 3066, 3073, 3087, 3094, 3101, 3108, 3122, 3129, 3136, 3143, 3157, 3164, 3171, 3178, 3192, 3199]\n"
     ]
    }
   ],
   "source": [
    "list = []\n",
    "for i in range(2000,3201):\n",
    "    if i%7==0 and i%5!=0:\n",
    "        list.append(i)\n",
    "\n",
    "print(list)"
   ]
  },
  {
   "source": [
    "# Question 2\n",
    "Write a program which can compute the factorial of a given numbers.The results should be printed in a comma-separated sequence on a single line.Suppose the following input is supplied to the program: 8\n",
    "Then, the output should be:40320***"
   ],
   "cell_type": "markdown",
   "metadata": {}
  },
  {
   "cell_type": "code",
   "execution_count": 8,
   "metadata": {},
   "outputs": [
    {
     "output_type": "stream",
     "name": "stdout",
     "text": [
      "40320\n40320\n"
     ]
    }
   ],
   "source": [
    "input = 8\n",
    "output = 1\n",
    "for i in range(1,input+1):\n",
    "    output *=i\n",
    "\n",
    "print(output)\n",
    "\n",
    "# Using fuction\n",
    "def fact(x):\n",
    "    if x==1:\n",
    "        return x\n",
    "    else:\n",
    "        return x*fact(x-1)\n",
    "\n",
    "print(fact(input))"
   ]
  },
  {
   "source": [
    "# Question 3\n",
    "***With a given integral number n, write a program to generate a dictionary that contains (i, i x i) such that is an integral number between 1 and n (both included). and then the program should print the dictionary.Suppose the following input is supplied to the program: 8***"
   ],
   "cell_type": "markdown",
   "metadata": {}
  },
  {
   "cell_type": "code",
   "execution_count": 1,
   "metadata": {},
   "outputs": [
    {
     "output_type": "stream",
     "name": "stdout",
     "text": [
      "{1: 1, 2: 4, 3: 9, 4: 16, 5: 25, 6: 36, 7: 49, 8: 64}\n{1: 1, 2: 4, 3: 9, 4: 16, 5: 25, 6: 36, 7: 49, 8: 64}\n"
     ]
    }
   ],
   "source": [
    "input = 8\n",
    "output = {}\n",
    "for i in range(1,input+1):\n",
    "    output[i] = i*i\n",
    "print(output)\n",
    "\n",
    "# using comprehension\n",
    "data = {i:i*i for i in range(1,input+1)}\n",
    "print(data)"
   ]
  },
  {
   "source": [
    "# Question 4\n",
    "***Write a program which accepts a sequence of comma-separated numbers from console and generate a list and a tuple which contains every number.Suppose the following input is supplied to the program:***"
   ],
   "cell_type": "markdown",
   "metadata": {}
  },
  {
   "cell_type": "code",
   "execution_count": 13,
   "metadata": {},
   "outputs": [
    {
     "output_type": "stream",
     "name": "stdout",
     "text": [
      "['34', '67', '55', '33', '12', '98']\n('34', '67', '55', '33', '12', '98')\n"
     ]
    }
   ],
   "source": [
    "input = '34,67,55,33,12,98'\n",
    "print(input.split(','))\n",
    "print(tuple(input.split(',')))"
   ]
  },
  {
   "source": [
    "# Question 5\n",
    ">***Define a class which has at least two methods:***\n",
    ">* ***getString: to get a string from console input*** \n",
    ">* ***printString: to print the string in upper case.*** "
   ],
   "cell_type": "markdown",
   "metadata": {}
  },
  {
   "cell_type": "code",
   "execution_count": 36,
   "metadata": {},
   "outputs": [
    {
     "output_type": "stream",
     "name": "stdout",
     "text": [
      "INPUT()\n"
     ]
    }
   ],
   "source": [
    "class InputString:\n",
    "    def __init__(self):\n",
    "        pass\n",
    "    \n",
    "    def getString(self):\n",
    "        self.string = 'input()'\n",
    "    \n",
    "    def printString(self):\n",
    "        print(self.string.upper())\n",
    "\n",
    "s = InputString()\n",
    "s.getString()\n",
    "s.printString()"
   ]
  },
  {
   "source": [
    "# Question 6\n",
    "\n",
    ">***Write a program that calculates and prints the value according to the given formula:***\n",
    "\n",
    ">***Q = Square root of [(2 * C * D)/H]***\n",
    "\n",
    ">***Following are the fixed values of C and H:***\n",
    "\n",
    ">***C is 50. H is 30.***\n",
    ">***D is the variable whose values should be input to your program in a comma-separated sequence.For example\n",
    "Let us assume the following comma separated input sequence is given to the program:***\n",
    "```\n",
    "100,150,180\n",
    "```\n",
    ">***The output of the program should be:***\n",
    "```\n",
    "18,22,24\n",
    "```"
   ],
   "cell_type": "markdown",
   "metadata": {}
  },
  {
   "cell_type": "code",
   "execution_count": 69,
   "metadata": {},
   "outputs": [
    {
     "output_type": "stream",
     "name": "stdout",
     "text": [
      "18,22,24\n"
     ]
    }
   ],
   "source": [
    "_C = 50\n",
    "_H = 30\n",
    "input = '100,150,180'\n",
    "import math\n",
    "\n",
    "print(','.join([str(math.floor((2*_C*int(i)//_H)**0.5)) for i in input.split(',')]))"
   ]
  },
  {
   "source": [
    "# Question 7\n",
    "\n",
    ">***Write a program which takes 2 digits, X,Y as input and generates a 2-dimensional array. The element value in the i-th row and j-th column of the array should be i * j.***\n",
    "\n",
    ">***Note: i=0,1.., X-1; j=0,1,¡­Y-1. Suppose the following inputs are given to the program: 3,5***\n",
    "\n",
    ">***Then, the output of the program should be:***\n",
    "```\n",
    "[[0, 0, 0, 0, 0], [0, 1, 2, 3, 4], [0, 2, 4, 6, 8]]\n",
    "```"
   ],
   "cell_type": "markdown",
   "metadata": {}
  },
  {
   "cell_type": "code",
   "execution_count": 79,
   "metadata": {},
   "outputs": [
    {
     "output_type": "stream",
     "name": "stdout",
     "text": [
      "[[0, 0, 0, 0, 0], [0, 1, 2, 3, 4], [0, 2, 4, 6, 8]]\n"
     ]
    }
   ],
   "source": [
    "input = '3,5'\n",
    "x,y = map(int,input.split(','))\n",
    "print([[i*j for i in range(y)] for j in range(x)])"
   ]
  },
  {
   "cell_type": "code",
   "execution_count": 100,
   "metadata": {},
   "outputs": [
    {
     "output_type": "execute_result",
     "data": {
      "text/plain": [
       "(9, 16)"
      ]
     },
     "metadata": {},
     "execution_count": 100
    }
   ],
   "source": [
    "x,y = map(lambda x:x*x,[3,4])\n",
    "x,y"
   ]
  },
  {
   "source": [
    "# Question 8\n",
    "\n",
    ">***Write a program that accepts a comma separated sequence of words as input and prints the words in a comma-separated sequence after sorting them alphabetically.***\n",
    "\n",
    ">***Suppose the following input is supplied to the program:***\n",
    "```\n",
    "without,hello,bag,world\n",
    "```\n",
    ">***Then, the output should be:***\n",
    "```\n",
    "bag,hello,without,world\n",
    "```\n"
   ],
   "cell_type": "markdown",
   "metadata": {}
  },
  {
   "cell_type": "code",
   "execution_count": 130,
   "metadata": {},
   "outputs": [
    {
     "output_type": "stream",
     "name": "stdout",
     "text": [
      "bag,hello,without,world\n"
     ]
    }
   ],
   "source": [
    "input = 'without,hello,bag,world'\n",
    "\n",
    "output =input.split(',')\n",
    "print(','.join(sorted(output)))"
   ]
  },
  {
   "source": [
    "# Question 9\n",
    "\n",
    ">***Write a program that accepts sequence of lines as input and prints the lines after making all characters in the sentence capitalized.***\n",
    "\n",
    ">***Suppose the following input is supplied to the program:***\n",
    "```\n",
    "Hello world\n",
    "Practice makes perfect\n",
    "```\n",
    ">***Then, the output should be:***\n",
    "```\n",
    "HELLO WORLD\n",
    "PRACTICE MAKES PERFECT\n",
    "```"
   ],
   "cell_type": "markdown",
   "metadata": {}
  },
  {
   "cell_type": "code",
   "execution_count": 2,
   "metadata": {},
   "outputs": [
    {
     "output_type": "stream",
     "name": "stdout",
     "text": [
      "HELLO SIR\nBYE OK\n"
     ]
    }
   ],
   "source": [
    "lst = []\n",
    "\n",
    "while True:\n",
    "    x = input()\n",
    "    if len(x)==0:\n",
    "        break;\n",
    "    lst.append(x.upper())\n",
    "\n",
    "for line in lst:\n",
    "    print(line)"
   ]
  },
  {
   "source": [
    "# Question 10\n",
    "\n",
    ">***Write a program that accepts a sequence of whitespace separated words as input and prints the words after removing all duplicate words and sorting them alphanumerically.***\n",
    "\n",
    ">***Suppose the following input is supplied to the program:***\n",
    "```\n",
    "hello world and practice makes perfect and hello world again\n",
    "```\n",
    ">***Then, the output should be:***\n",
    "```\n",
    "again and hello makes perfect practice world\n",
    "```"
   ],
   "cell_type": "markdown",
   "metadata": {}
  },
  {
   "cell_type": "code",
   "execution_count": 9,
   "metadata": {},
   "outputs": [
    {
     "output_type": "stream",
     "name": "stdout",
     "text": [
      "['again', 'and', 'hello', 'makes', 'perfect', 'practice', 'world']\n"
     ]
    }
   ],
   "source": [
    "input = 'hello world and practice makes perfect and hello world again'\n",
    "\n",
    "output = list(set(input.split(' ')))\n",
    "output.sort()\n",
    "print(output)"
   ]
  },
  {
   "source": [
    "# Question 11\n",
    "\n",
    ">***Write a program which accepts a sequence of comma separated 4 digit binary numbers as its input and then check whether they are divisible by 5 or not. The numbers that are divisible by 5 are to be printed in a comma separated sequence.***\n",
    "\n",
    ">***Example:***\n",
    "```\n",
    "0100,0011,1010,1001\n",
    "```\n",
    ">***Then the output should be:***\n",
    "```\n",
    "1010\n",
    "```\n",
    ">***Notes: Assume the data is input by console.***"
   ],
   "cell_type": "markdown",
   "metadata": {}
  },
  {
   "cell_type": "code",
   "execution_count": 22,
   "metadata": {},
   "outputs": [
    {
     "output_type": "stream",
     "name": "stdout",
     "text": [
      "['1010']\n"
     ]
    }
   ],
   "source": [
    "input = '0100,0011,1010,1001'\n",
    "\n",
    "output = list(filter(lambda i:int(i,2)%5==0,input.split(',')))\n",
    "\n",
    "print(output)\n"
   ]
  },
  {
   "source": [
    "# Question 12\n",
    "\n",
    ">***Write a program, which will find all such numbers between 1000 and 3000 (both included) such that each digit of the number is an even number.The numbers obtained should be printed in a comma-separated sequence on a single line.***\n"
   ],
   "cell_type": "markdown",
   "metadata": {}
  },
  {
   "cell_type": "code",
   "execution_count": 44,
   "metadata": {},
   "outputs": [
    {
     "output_type": "stream",
     "name": "stdout",
     "text": [
      "2000,2002,2004,2006,2008,2020,2022,2024,2026,2028,2040,2042,2044,2046,2048,2060,2062,2064,2066,2068,2080,2082,2084,2086,2088,2200,2202,2204,2206,2208,2220,2222,2224,2226,2228,2240,2242,2244,2246,2248,2260,2262,2264,2266,2268,2280,2282,2284,2286,2288,2400,2402,2404,2406,2408,2420,2422,2424,2426,2428,2440,2442,2444,2446,2448,2460,2462,2464,2466,2468,2480,2482,2484,2486,2488,2600,2602,2604,2606,2608,2620,2622,2624,2626,2628,2640,2642,2644,2646,2648,2660,2662,2664,2666,2668,2680,2682,2684,2686,2688,2800,2802,2804,2806,2808,2820,2822,2824,2826,2828,2840,2842,2844,2846,2848,2860,2862,2864,2866,2868,2880,2882,2884,2886,2888\n"
     ]
    }
   ],
   "source": [
    "values = []\n",
    "for i in range(1000, 3001):\n",
    "    s = str(i)\n",
    "    if (int(s[0])%2 == 0) and (int(s[1])%2 == 0) and (int(s[2])%2 == 0)and (int(s[3])%2 == 0):\n",
    "        values.append(s)\n",
    "\n",
    "print(\",\".join(values))"
   ]
  },
  {
   "source": [
    "# Question 13\n",
    "\n",
    ">***Write a program that accepts a sentence and calculate the number of letters and digits.***\n",
    "\n",
    ">***Suppose the following input is supplied to the program:***\n",
    "\n",
    "```\n",
    "hello world! 123\n",
    "```\n",
    "\n",
    ">***Then, the output should be:***\n",
    "```\n",
    "LETTERS 10\n",
    "DIGITS 3\n",
    "```"
   ],
   "cell_type": "markdown",
   "metadata": {}
  },
  {
   "cell_type": "code",
   "execution_count": 55,
   "metadata": {},
   "outputs": [
    {
     "output_type": "stream",
     "name": "stdout",
     "text": [
      "LETTERS 10\nDIGITS 3\n"
     ]
    }
   ],
   "source": [
    "input = 'hello world! 123'\n",
    "count = {\n",
    "    'LETTERS':0,\n",
    "    'DIGITS':0\n",
    "}\n",
    "\n",
    "for i in input:\n",
    "    if i.isdigit():\n",
    "        count['DIGITS']+=1\n",
    "    elif i.isalpha():\n",
    "        count['LETTERS']+=1\n",
    "\n",
    "for (key,value) in count.items():\n",
    "    print(key,value)"
   ]
  },
  {
   "source": [
    "# Question 14\n",
    "\n",
    ">***Write a program that accepts a sentence and calculate the number of upper case letters and lower case letters.***\n",
    "\n",
    ">***Suppose the following input is supplied to the program:***\n",
    "```\n",
    "Hello world!\n",
    "```\n",
    ">***Then, the output should be:***\n",
    "```\n",
    "UPPER CASE 1\n",
    "LOWER CASE 9\n",
    "```"
   ],
   "cell_type": "markdown",
   "metadata": {}
  },
  {
   "cell_type": "code",
   "execution_count": 62,
   "metadata": {},
   "outputs": [
    {
     "output_type": "stream",
     "name": "stdout",
     "text": [
      "UPPER CASE 1\nLOWER CASE 9\n"
     ]
    }
   ],
   "source": [
    "input = 'Hello world!'\n",
    "count = {\n",
    "    'UPPER CASE':0,\n",
    "    'LOWER CASE':0\n",
    "}\n",
    "\n",
    "for i in input:\n",
    "    count['LOWER CASE']+= i.islower()\n",
    "    count['UPPER CASE']+= i.isupper()\n",
    "\n",
    "for (key,value) in count.items():\n",
    "    print(key,value)\n"
   ]
  },
  {
   "source": [
    "# Question 15\n",
    "\n",
    ">***Write a program that computes the value of a+aa+aaa+aaaa with a given digit as the value of a.***\n",
    "\n",
    ">***Suppose the following input is supplied to the program:***\n",
    "\n",
    "```\n",
    "9\n",
    "```\n",
    "\n",
    ">***Then, the output should be:***\n",
    "```\n",
    "11106\n",
    "```"
   ],
   "cell_type": "markdown",
   "metadata": {}
  },
  {
   "cell_type": "code",
   "execution_count": 67,
   "metadata": {},
   "outputs": [
    {
     "output_type": "stream",
     "name": "stdout",
     "text": [
      "11106\n"
     ]
    }
   ],
   "source": [
    "input = 9\n",
    "output = 0\n",
    "for i in range(1,5):\n",
    "    output += int(str(input)*i)\n",
    "\n",
    "print(output)"
   ]
  },
  {
   "source": [
    "# Question 16\n",
    "\n",
    ">***Use a list comprehension to square each odd number in a list. The list is input by a sequence of comma-separated numbers.***\n",
    ">***Suppose the following input is supplied to the program:***\n",
    "\n",
    "```\n",
    "1,2,3,4,5,6,7,8,9\n",
    "```\n",
    "\n",
    ">***Then, the output should be:***\n",
    "\n",
    "```\n",
    "1,9,25,49,81\n",
    "```"
   ],
   "cell_type": "markdown",
   "metadata": {}
  },
  {
   "cell_type": "code",
   "execution_count": 80,
   "metadata": {},
   "outputs": [
    {
     "output_type": "stream",
     "name": "stdout",
     "text": [
      "1,9,25,49,81\n"
     ]
    }
   ],
   "source": [
    "input = '1,2,3,4,5,6,7,8,9'\n",
    "\n",
    "output = [str(int(x)**2) for x in input.split(',') if int(x)%2!=0]\n",
    "\n",
    "print(','.join(output))"
   ]
  },
  {
   "source": [
    "# Question 17\n",
    "\n",
    ">***Write a program that computes the net amount of a bank account based a transaction log from console input. The transaction log format is shown as following:***\n",
    "```\n",
    "D 100\n",
    "W 200\n",
    "```\n",
    "* D means deposit while W means withdrawal.\n",
    "\n",
    ">***Suppose the following input is supplied to the program:***\n",
    "```\n",
    "D 300\n",
    "D 300\n",
    "W 200\n",
    "D 100\n",
    "```\n",
    ">***Then, the output should be:***\n",
    "```\n",
    "500\n",
    "```"
   ],
   "cell_type": "markdown",
   "metadata": {}
  },
  {
   "cell_type": "code",
   "execution_count": 2,
   "metadata": {},
   "outputs": [
    {
     "output_type": "stream",
     "name": "stdout",
     "text": [
      "500\n"
     ]
    }
   ],
   "source": [
    "amount = 0\n",
    "while True:\n",
    "    s = input()\n",
    "    if not s:\n",
    "        break;\n",
    "    d,w = s.split(' ')\n",
    "    if d=='D':\n",
    "        amount +=int(w)\n",
    "    else:\n",
    "        amount -=int(w)\n",
    "\n",
    "print(amount)"
   ]
  },
  {
   "source": [
    "# Question 18\n",
    "\n",
    ">***A website requires the users to input username and password to register. Write a program to check the validity of password input by users.***\n",
    "\n",
    ">***Following are the criteria for checking the password:***\n",
    "  - ***At least 1 letter between [a-z]***\n",
    "  - ***At least 1 number between [0-9]***\n",
    "  - ***At least 1 letter between [A-Z]***\n",
    "  - ***At least 1 character from [$#@]***\n",
    "  - ***Minimum length of transaction password: 6***\n",
    "  - ***Maximum length of transaction password: 12***\n",
    "\n",
    ">***Your program should accept a sequence of comma separated passwords and will check them according to the above criteria. Passwords that match the criteria are to be printed, each separated by a comma.***\n",
    "\n",
    ">***Example***\n",
    "\n",
    ">***If the following passwords are given as input to the program:***\n",
    "```\n",
    "ABd1234@1,a F1#,2w3E*,2We3345\n",
    "```\n",
    ">***Then, the output of the program should be:***\n",
    "```\n",
    "ABd1234@1\n",
    "```"
   ],
   "cell_type": "markdown",
   "metadata": {}
  },
  {
   "cell_type": "code",
   "execution_count": 31,
   "metadata": {},
   "outputs": [],
   "source": [
    "letter_sml = [chr(x) for x in range(97,123)]\n",
    "letter_cap = [chr(x) for x in range(65,91)]\n",
    "symbol = ['$','#','@']"
   ]
  },
  {
   "cell_type": "code",
   "execution_count": 38,
   "metadata": {},
   "outputs": [
    {
     "output_type": "stream",
     "name": "stdout",
     "text": [
      "ABd1234@1\n"
     ]
    }
   ],
   "source": [
    "input_pass= 'ABd1234@1,a F1#,2w3E*,2We3345'\n",
    "output = input_pass.split(',')\n",
    "validate = []\n",
    "for password in output:\n",
    "    check = [0,0,0,0,0]\n",
    "    for word in password:\n",
    "        if word in letter_sml:\n",
    "            check[0]= 1\n",
    "        elif word in letter_cap:   \n",
    "            check[1] = 1\n",
    "        elif word.isdigit():\n",
    "            check[2] = 1\n",
    "        elif word in symbol:\n",
    "            check[3] = 1\n",
    "    if len(password) >=6 and len(password)<=12:\n",
    "        check[4] = 1\n",
    "    if 0 not in check:\n",
    "        validate.append(password)\n",
    "\n",
    "print(','.join(validate))"
   ]
  },
  {
   "cell_type": "code",
   "execution_count": 44,
   "metadata": {},
   "outputs": [
    {
     "output_type": "stream",
     "name": "stdout",
     "text": [
      "ABd1234@1\n"
     ]
    }
   ],
   "source": [
    "import  re\n",
    "\n",
    "lst = []\n",
    "\n",
    "for i in output:\n",
    "    cnt = 0\n",
    "    cnt+=(6<=len(i) and len(i)<=12)\n",
    "    cnt+=bool(re.search(\"[a-z]\",i))\n",
    "    cnt+=bool(re.search(\"[A-Z]\",i)) \n",
    "    cnt+=bool(re.search(\"[0-9]\",i)) \n",
    "    cnt+=bool(re.search(\"[@#$]\",i))\n",
    "    if cnt == 5:\n",
    "        lst.append(i)\n",
    "\n",
    "print(\",\".join(lst))"
   ]
  },
  {
   "source": [
    "# Question 19\n",
    "\n",
    ">***You are required to write a program to sort the (name, age, score) tuples by ascending order where name is string, age and score are numbers. The tuples are input by console. The sort criteria is:***\n",
    "- ***1: Sort based on name***\n",
    "- ***2: Then sort based on age***\n",
    "- ***3: Then sort by score***\n",
    "\n",
    ">***The priority is that name > age > score.***\n",
    "\n",
    ">***If the following tuples are given as input to the program:***\n",
    "```\n",
    "Tom,19,80\n",
    "John,20,90\n",
    "Jony,17,91\n",
    "Jony,17,93\n",
    "Json,21,85\n",
    "```\n",
    ">***Then, the output of the program should be:***\n",
    "```\n",
    "[('John', '20', '90'), ('Jony', '17', '91'), ('Jony', '17', '93'), ('Json', '21', '85'), ('Tom', '19', '80')]\n",
    "```"
   ],
   "cell_type": "markdown",
   "metadata": {}
  },
  {
   "cell_type": "code",
   "execution_count": 59,
   "metadata": {},
   "outputs": [
    {
     "output_type": "stream",
     "name": "stdout",
     "text": [
      "[('John', '20', '90'), ('Jony', '17', '91'), ('Jony', '17', '93'), ('Json', '21', '85'), ('Tom', '19', '80')]\n"
     ]
    }
   ],
   "source": [
    "input = 'Tom,19,80 John,20,90 Jony,17,91 Jony,17,93 Json,21,85'\n",
    "\n",
    "input = [tuple(x.split(',')) for x in input.split(' ')]\n",
    "input.sort(key= lambda x:(x[0],x[1],x[2]))\n",
    "\n",
    "print(input)"
   ]
  },
  {
   "source": [
    "# Question 20\n",
    "\n",
    ">***Define a class with a generator which can iterate the numbers, which are divisible by 7, between a given range 0 and n.***"
   ],
   "cell_type": "markdown",
   "metadata": {}
  },
  {
   "cell_type": "code",
   "execution_count": 73,
   "metadata": {},
   "outputs": [
    {
     "output_type": "stream",
     "name": "stdout",
     "text": [
      "[0, 7, 14, 21, 28, 35, 42, 49, 56]\n"
     ]
    }
   ],
   "source": [
    "class Divisible:\n",
    "    \n",
    "    def by_seven(self, n):\n",
    "        return [x for x in range(n+1) if x%7==0]\n",
    "        # for number in range(n + 1):\n",
    "        #     if number % 7 == 0:\n",
    "        #         yield number\n",
    "\n",
    "\n",
    "divisible = Divisible()\n",
    "generator = divisible.by_seven(62)\n",
    "print(generator)\n",
    "# for number in generator:\n",
    "#     print(number)"
   ]
  },
  {
   "source": [
    "# Question 21\n",
    "\n",
    ">***A robot moves in a plane starting from the original point (0,0). The robot can move toward UP, DOWN, LEFT and RIGHT with a given steps. The trace of robot movement is shown as the following:***\n",
    "```\n",
    "UP 5\n",
    "DOWN 3\n",
    "LEFT 3\n",
    "RIGHT 2\n",
    "```\n",
    ">***The numbers after the direction are steps. Please write a program to compute the distance from current position after a sequence of movement and original point. If the distance is a float, then just print the nearest integer.***\n",
    "***Example:***\n",
    "***If the following tuples are given as input to the program:***\n",
    "```\n",
    "UP 5\n",
    "DOWN 3\n",
    "LEFT 3\n",
    "RIGHT 2\n",
    "```\n",
    ">***Then, the output of the program should be:***\n",
    "```\n",
    "2\n",
    "```"
   ],
   "cell_type": "markdown",
   "metadata": {}
  },
  {
   "cell_type": "code",
   "execution_count": 98,
   "metadata": {},
   "outputs": [
    {
     "output_type": "stream",
     "name": "stdout",
     "text": [
      "2.0\n"
     ]
    }
   ],
   "source": [
    "input = 'UP 5,DOWN 3,LEFT 3,RIGHT 2'\n",
    "input = [x.split(' ') for x in input.split(',')]\n",
    "x,y = 0,0 \n",
    "for direction in input:\n",
    "    if direction[0] == 'UP':\n",
    "        y+=int(direction[1])\n",
    "    elif direction[0] == 'DOWN':\n",
    "        y-=int(direction[1])\n",
    "    elif direction[0] == 'LEFT':\n",
    "        x-=int(direction[1])\n",
    "    elif direction[0] == 'RIGHT':\n",
    "        x+=int(direction[1])\n",
    "print((x**2 + y**2)**0.5//1) # pythagorous theorem # distance"
   ]
  },
  {
   "source": [
    "# Question 22\n",
    "\n",
    ">***Write a program to compute the frequency of the words from the input. The output should output after sorting the key alphanumerically.***\n",
    "\n",
    ">***Suppose the following input is supplied to the program:***\n",
    "```\n",
    "New to Python or choosing between Python 2 and Python 3? Read Python 2 or Python 3.\n",
    "```\n",
    ">***Then, the output should be:***\n",
    "```\n",
    "2:2\n",
    "3.:1\n",
    "3?:1\n",
    "New:1\n",
    "Python:5\n",
    "Read:1\n",
    "and:1\n",
    "between:1\n",
    "choosing:1\n",
    "or:2\n",
    "to:1\n",
    "```"
   ],
   "cell_type": "markdown",
   "metadata": {}
  },
  {
   "cell_type": "code",
   "execution_count": 109,
   "metadata": {},
   "outputs": [
    {
     "output_type": "stream",
     "name": "stdout",
     "text": [
      "2:2\n3.:1\n3?:1\nNew:1\nPython:5\nRead:1\nand:1\nbetween:1\nchoosing:1\nor:2\nto:1\n"
     ]
    }
   ],
   "source": [
    "input = 'New to Python or choosing between Python 2 and Python 3? Read Python 2 or Python 3.'\n",
    "output = input.split(' ')\n",
    "output.sort()\n",
    "count = {}\n",
    "for word in output:\n",
    "    if word not in count:\n",
    "        count[word]=1\n",
    "    elif word in count:\n",
    "        count[word]+=1\n",
    "\n",
    "\n",
    "for (key,value) in count.items():\n",
    "    print(f'{key}:{value}')"
   ]
  },
  {
   "source": [
    "# Question 23\n",
    "\n",
    ">***Write a method which can calculate square value of number***"
   ],
   "cell_type": "markdown",
   "metadata": {}
  },
  {
   "cell_type": "code",
   "execution_count": 112,
   "metadata": {},
   "outputs": [
    {
     "output_type": "stream",
     "name": "stdout",
     "text": [
      "16\n"
     ]
    }
   ],
   "source": [
    "def square(x):\n",
    "    return x**2\n",
    "\n",
    "print(square(4))"
   ]
  },
  {
   "source": [
    "# Question 24\n",
    "\n",
    ">***Python has many built-in functions, and if you do not know how to use it, you can read document online or find some books. But Python has a built-in document function for every built-in functions.***\n",
    "\n",
    ">***Please write a program to print some Python built-in functions documents, such as abs(), int(), raw_input()***\n",
    "\n",
    ">***And add document for your own function***"
   ],
   "cell_type": "markdown",
   "metadata": {}
  },
  {
   "cell_type": "code",
   "execution_count": 116,
   "metadata": {},
   "outputs": [
    {
     "output_type": "stream",
     "name": "stdout",
     "text": [
      "Return the absolute value of the argument.\nint([x]) -> integer\nint(x, base=10) -> integer\n\nConvert a number or string to an integer, or return 0 if no arguments\nare given.  If x is a number, return x.__int__().  For floating point\nnumbers, this truncates towards zero.\n\nIf x is not a number or if base is given, then x must be a string,\nbytes, or bytearray instance representing an integer literal in the\ngiven base.  The literal can be preceded by '+' or '-' and be surrounded\nby whitespace.  The base defaults to 10.  Valid bases are 0 and 2-36.\nBase 0 means to interpret the base from the string as an integer literal.\n>>> int('0b100', base=0)\n4\nstr(object='') -> str\nstr(bytes_or_buffer[, encoding[, errors]]) -> str\n\nCreate a new string object from the given object. If encoding or\nerrors is specified, then the object must expose a data buffer\nthat will be decoded using the given encoding and error handler.\nOtherwise, returns the result of object.__str__() (if defined)\nor repr(object).\nencoding defaults to sys.getdefaultencoding().\nerrors defaults to 'strict'.\n-------------------\n4\nReturn the square value of the input number.\n    \n    The input number must be integer.\n    \n"
     ]
    }
   ],
   "source": [
    "print(abs.__doc__)\n",
    "print(int.__doc__)\n",
    "print(input.__doc__)\n",
    "print('-------------------')\n",
    "def square(num):\n",
    "    '''Return the square value of the input number.\n",
    "    \n",
    "    The input number must be integer.\n",
    "    '''\n",
    "    return num ** 2\n",
    "\n",
    "print(square(2))\n",
    "print(square.__doc__)"
   ]
  },
  {
   "source": [
    "# Question 25\n",
    "\n",
    ">***Define a class, which have a class parameter and have a same instance parameter.***"
   ],
   "cell_type": "markdown",
   "metadata": {}
  },
  {
   "cell_type": "code",
   "execution_count": 120,
   "metadata": {},
   "outputs": [
    {
     "output_type": "stream",
     "name": "stdout",
     "text": [
      "Car name is Honda\nCar name is Toyota\n"
     ]
    }
   ],
   "source": [
    "class Car:\n",
    "    name = \"Car\"\n",
    "\n",
    "    def __init__(self,name = None):\n",
    "        self.name = name\n",
    "\n",
    "honda=Car(\"Honda\")\n",
    "print(\"%s name is %s\"%(Car.name,honda.name))\n",
    "\n",
    "toyota=Car()\n",
    "toyota.name=\"Toyota\"\n",
    "print(\"%s name is %s\"%(Car.name,toyota.name))"
   ]
  }
 ]
}