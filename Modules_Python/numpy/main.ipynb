{
 "cells": [
  {
   "cell_type": "code",
   "execution_count": 1,
   "metadata": {},
   "outputs": [],
   "source": [
    "import numpy"
   ]
  },
  {
   "cell_type": "code",
   "execution_count": 13,
   "metadata": {},
   "outputs": [
    {
     "output_type": "execute_result",
     "data": {
      "text/plain": "array([ 0,  1,  2,  3,  4,  5,  6,  7,  8,  9, 10, 11, 12, 13, 14, 15, 16,\n       17, 18, 19, 20, 21, 22, 23, 24, 25, 26, 27, 28, 29, 30, 31, 32, 33,\n       34, 35, 36, 37, 38, 39, 40, 41, 42, 43, 44, 45, 46, 47, 48, 49, 50,\n       51, 52, 53, 54, 55, 56, 57, 58, 59, 60, 61, 62, 63])"
     },
     "metadata": {},
     "execution_count": 13
    }
   ],
   "source": [
    "n= numpy.arange(64)\n",
    "n"
   ]
  },
  {
   "cell_type": "code",
   "execution_count": 14,
   "metadata": {},
   "outputs": [
    {
     "output_type": "execute_result",
     "data": {
      "text/plain": "array([[ 0,  1,  2,  3,  4,  5,  6,  7],\n       [ 8,  9, 10, 11, 12, 13, 14, 15],\n       [16, 17, 18, 19, 20, 21, 22, 23],\n       [24, 25, 26, 27, 28, 29, 30, 31],\n       [32, 33, 34, 35, 36, 37, 38, 39],\n       [40, 41, 42, 43, 44, 45, 46, 47],\n       [48, 49, 50, 51, 52, 53, 54, 55],\n       [56, 57, 58, 59, 60, 61, 62, 63]])"
     },
     "metadata": {},
     "execution_count": 14
    }
   ],
   "source": [
    "n.reshape(8, 8) # 8*8 = 64"
   ]
  },
  {
   "cell_type": "code",
   "execution_count": 15,
   "metadata": {},
   "outputs": [
    {
     "output_type": "execute_result",
     "data": {
      "text/plain": "array([[[ 0,  1,  2,  3],\n        [ 4,  5,  6,  7],\n        [ 8,  9, 10, 11],\n        [12, 13, 14, 15]],\n\n       [[16, 17, 18, 19],\n        [20, 21, 22, 23],\n        [24, 25, 26, 27],\n        [28, 29, 30, 31]],\n\n       [[32, 33, 34, 35],\n        [36, 37, 38, 39],\n        [40, 41, 42, 43],\n        [44, 45, 46, 47]],\n\n       [[48, 49, 50, 51],\n        [52, 53, 54, 55],\n        [56, 57, 58, 59],\n        [60, 61, 62, 63]]])"
     },
     "metadata": {},
     "execution_count": 15
    }
   ],
   "source": [
    "n.reshape(4, 4, 4)"
   ]
  },
  {
   "cell_type": "markdown",
   "metadata": {},
   "source": [
    "## converting images to numpy array"
   ]
  },
  {
   "cell_type": "code",
   "execution_count": 22,
   "metadata": {},
   "outputs": [],
   "source": [
    "import cv2"
   ]
  },
  {
   "cell_type": "code",
   "execution_count": 26,
   "metadata": {},
   "outputs": [
    {
     "output_type": "execute_result",
     "data": {
      "text/plain": "array([[187, 158, 104, 121, 143],\n       [198, 125, 255, 255, 147],\n       [209, 134, 255,  97, 182]], dtype=uint8)"
     },
     "metadata": {},
     "execution_count": 26
    }
   ],
   "source": [
    "im_g = cv2.imread('smallgray.png', 0) # grayscale\n",
    "im_g"
   ]
  },
  {
   "cell_type": "code",
   "execution_count": 25,
   "metadata": {},
   "outputs": [
    {
     "output_type": "execute_result",
     "data": {
      "text/plain": "array([[[187, 187, 187],\n        [158, 158, 158],\n        [104, 104, 104],\n        [121, 121, 121],\n        [143, 143, 143]],\n\n       [[198, 198, 198],\n        [125, 125, 125],\n        [255, 255, 255],\n        [255, 255, 255],\n        [147, 147, 147]],\n\n       [[209, 209, 209],\n        [134, 134, 134],\n        [255, 255, 255],\n        [ 97,  97,  97],\n        [182, 182, 182]]], dtype=uint8)"
     },
     "metadata": {},
     "execution_count": 25
    }
   ],
   "source": [
    "im_g = cv2.imread('smallgray.png', 1) #bgr\n",
    "im_g"
   ]
  },
  {
   "cell_type": "markdown",
   "metadata": {},
   "source": [
    "## writing an image"
   ]
  },
  {
   "cell_type": "code",
   "execution_count": 32,
   "metadata": {},
   "outputs": [],
   "source": [
    "cv2.imwrite('s_new_image.png',im_g)"
   ]
  },
  {
   "cell_type": "markdown",
   "metadata": {},
   "source": [
    "## indexing, slicing and iterating numpy Arrays"
   ]
  },
  {
   "cell_type": "code",
   "execution_count": 37,
   "metadata": {},
   "outputs": [],
   "source": [
    "im_g = cv2.imread('smallgray.png',0)"
   ]
  },
  {
   "cell_type": "code",
   "execution_count": 38,
   "metadata": {},
   "outputs": [
    {
     "output_type": "execute_result",
     "data": {
      "text/plain": "array([[187, 158, 104, 121, 143],\n       [198, 125, 255, 255, 147],\n       [209, 134, 255,  97, 182]], dtype=uint8)"
     },
     "metadata": {},
     "execution_count": 38
    }
   ],
   "source": [
    "im_g"
   ]
  },
  {
   "cell_type": "code",
   "execution_count": 40,
   "metadata": {},
   "outputs": [
    {
     "output_type": "execute_result",
     "data": {
      "text/plain": "array([[187, 158, 104, 121, 143],\n       [198, 125, 255, 255, 147]], dtype=uint8)"
     },
     "metadata": {},
     "execution_count": 40
    }
   ],
   "source": [
    "im_g[0:2]"
   ]
  },
  {
   "cell_type": "code",
   "execution_count": 41,
   "metadata": {},
   "outputs": [
    {
     "output_type": "execute_result",
     "data": {
      "text/plain": "array([[187, 158],\n       [198, 125]], dtype=uint8)"
     },
     "metadata": {},
     "execution_count": 41
    }
   ],
   "source": [
    "im_g[0:2,0:2]"
   ]
  },
  {
   "cell_type": "code",
   "execution_count": 44,
   "metadata": {},
   "outputs": [
    {
     "output_type": "execute_result",
     "data": {
      "text/plain": "array([[187, 158, 104],\n       [198, 125, 255],\n       [209, 134, 255]], dtype=uint8)"
     },
     "metadata": {},
     "execution_count": 44
    }
   ],
   "source": [
    "im_g[:,0:3]"
   ]
  },
  {
   "cell_type": "markdown",
   "metadata": {},
   "source": [
    "## iterating numpy array"
   ]
  },
  {
   "cell_type": "code",
   "execution_count": 46,
   "metadata": {},
   "outputs": [
    {
     "output_type": "stream",
     "name": "stdout",
     "text": "[187 158 104 121 143]\n[198 125 255 255 147]\n[209 134 255  97 182]\n"
    }
   ],
   "source": [
    "for i in im_g:\n",
    "    print(i)"
   ]
  },
  {
   "cell_type": "code",
   "execution_count": 47,
   "metadata": {},
   "outputs": [
    {
     "output_type": "stream",
     "name": "stdout",
     "text": "[187 198 209]\n[158 125 134]\n[104 255 255]\n[121 255  97]\n[143 147 182]\n"
    }
   ],
   "source": [
    "for i in im_g.T: # transpose\n",
    "    print(i)"
   ]
  },
  {
   "cell_type": "code",
   "execution_count": 49,
   "metadata": {},
   "outputs": [
    {
     "output_type": "stream",
     "name": "stdout",
     "text": "187\n158\n104\n121\n143\n198\n125\n255\n255\n147\n209\n134\n255\n97\n182\n"
    }
   ],
   "source": [
    "for i in im_g.flat:\n",
    "    print(i)"
   ]
  },
  {
   "cell_type": "markdown",
   "metadata": {},
   "source": [
    "## Stacking and spliting numpy arrays"
   ]
  },
  {
   "cell_type": "code",
   "execution_count": 53,
   "metadata": {},
   "outputs": [
    {
     "output_type": "execute_result",
     "data": {
      "text/plain": "array([[187, 158, 104, 121, 143, 187, 158, 104, 121, 143],\n       [198, 125, 255, 255, 147, 198, 125, 255, 255, 147],\n       [209, 134, 255,  97, 182, 209, 134, 255,  97, 182]], dtype=uint8)"
     },
     "metadata": {},
     "execution_count": 53
    }
   ],
   "source": [
    "ims1 = numpy.hstack((im_g,im_g)) # horizontal\n",
    "ims1"
   ]
  },
  {
   "cell_type": "code",
   "execution_count": 54,
   "metadata": {},
   "outputs": [
    {
     "output_type": "execute_result",
     "data": {
      "text/plain": "array([[187, 158, 104, 121, 143],\n       [198, 125, 255, 255, 147],\n       [209, 134, 255,  97, 182],\n       [187, 158, 104, 121, 143],\n       [198, 125, 255, 255, 147],\n       [209, 134, 255,  97, 182]], dtype=uint8)"
     },
     "metadata": {},
     "execution_count": 54
    }
   ],
   "source": [
    "ims2 = numpy.vstack((im_g,im_g)) # vertical\n",
    "ims2"
   ]
  },
  {
   "cell_type": "code",
   "execution_count": 58,
   "metadata": {},
   "outputs": [
    {
     "output_type": "execute_result",
     "data": {
      "text/plain": "[array([[187, 198],\n        [158, 125],\n        [104, 255],\n        [121, 255],\n        [143, 147]], dtype=uint8),\n array([[209, 187],\n        [134, 158],\n        [255, 104],\n        [ 97, 121],\n        [182, 143]], dtype=uint8),\n array([[198, 209],\n        [125, 134],\n        [255, 255],\n        [255,  97],\n        [147, 182]], dtype=uint8)]"
     },
     "metadata": {},
     "execution_count": 58
    }
   ],
   "source": [
    "lst1 = numpy.hsplit(ims2.T,3)\n",
    "lst1"
   ]
  },
  {
   "cell_type": "code",
   "execution_count": 59,
   "metadata": {},
   "outputs": [
    {
     "output_type": "execute_result",
     "data": {
      "text/plain": "[array([[187, 158, 104, 121, 143],\n        [198, 125, 255, 255, 147]], dtype=uint8),\n array([[209, 134, 255,  97, 182],\n        [187, 158, 104, 121, 143]], dtype=uint8),\n array([[198, 125, 255, 255, 147],\n        [209, 134, 255,  97, 182]], dtype=uint8)]"
     },
     "metadata": {},
     "execution_count": 59
    }
   ],
   "source": [
    "lst = numpy.vsplit(ims2,3)\n",
    "lst"
   ]
  }
 ],
 "metadata": {
  "language_info": {
   "codemirror_mode": {
    "name": "ipython",
    "version": 3
   },
   "file_extension": ".py",
   "mimetype": "text/x-python",
   "name": "python",
   "nbconvert_exporter": "python",
   "pygments_lexer": "ipython3",
   "version": "3.8.3-final"
  },
  "orig_nbformat": 2,
  "kernelspec": {
   "name": "python38364bitvenvvenvec0aec23a55645b1b2f20518cbe7a899",
   "display_name": "Python 3.8.3 64-bit ('venv': venv)"
  }
 },
 "nbformat": 4,
 "nbformat_minor": 2
}