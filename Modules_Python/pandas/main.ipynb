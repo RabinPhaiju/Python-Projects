{
 "cells": [
  {
   "cell_type": "code",
   "execution_count": 2,
   "metadata": {},
   "outputs": [],
   "source": [
    "import pandas\n",
    "# see pandas documentation of series and dataframe convert to python code usefull datatypes"
   ]
  },
  {
   "cell_type": "markdown",
   "metadata": {},
   "source": [
    "# csv"
   ]
  },
  {
   "cell_type": "code",
   "execution_count": 4,
   "metadata": {},
   "outputs": [],
   "source": [
    "df1 = pandas.read_csv('files/supermarkets.csv')"
   ]
  },
  {
   "cell_type": "code",
   "execution_count": 12,
   "metadata": {},
   "outputs": [
    {
     "output_type": "execute_result",
     "data": {
      "text/plain": [
       "(0    San Francisco\n",
       " 1    San Francisco\n",
       " 2    San Francisco\n",
       " 3    San Francisco\n",
       " 4    San Francisco\n",
       " 5    San Francisco\n",
       " Name: City, dtype: object,\n",
       " 0    San Francisco\n",
       " 1    San Francisco\n",
       " 2    San Francisco\n",
       " 3    San Francisco\n",
       " 4    San Francisco\n",
       " 5    San Francisco\n",
       " Name: City, dtype: object)"
      ]
     },
     "metadata": {},
     "execution_count": 12
    }
   ],
   "source": [
    "df1[\"City\"],df1.City"
   ]
  },
  {
   "cell_type": "code",
   "execution_count": 13,
   "metadata": {},
   "outputs": [
    {
     "output_type": "execute_result",
     "data": {
      "text/plain": [
       "   ID          Address           City             State Country         Name  \\\n",
       "0   1     3666 21st St  San Francisco          CA 94114     USA      Madeira   \n",
       "1   2   735 Dolores St  San Francisco          CA 94119     USA  Bready Shop   \n",
       "2   3      332 Hill St  San Francisco  California 94114     USA  Super River   \n",
       "3   4     3995 23rd St  San Francisco          CA 94114     USA   Ben's Shop   \n",
       "4   5  1056 Sanchez St  San Francisco        California     USA      Sanchez   \n",
       "5   6  551 Alvarado St  San Francisco          CA 94114     USA   Richvalley   \n",
       "\n",
       "   Employees  \n",
       "0          8  \n",
       "1         15  \n",
       "2         25  \n",
       "3         10  \n",
       "4         12  \n",
       "5         20  "
      ],
      "text/html": "<div>\n<style scoped>\n    .dataframe tbody tr th:only-of-type {\n        vertical-align: middle;\n    }\n\n    .dataframe tbody tr th {\n        vertical-align: top;\n    }\n\n    .dataframe thead th {\n        text-align: right;\n    }\n</style>\n<table border=\"1\" class=\"dataframe\">\n  <thead>\n    <tr style=\"text-align: right;\">\n      <th></th>\n      <th>ID</th>\n      <th>Address</th>\n      <th>City</th>\n      <th>State</th>\n      <th>Country</th>\n      <th>Name</th>\n      <th>Employees</th>\n    </tr>\n  </thead>\n  <tbody>\n    <tr>\n      <th>0</th>\n      <td>1</td>\n      <td>3666 21st St</td>\n      <td>San Francisco</td>\n      <td>CA 94114</td>\n      <td>USA</td>\n      <td>Madeira</td>\n      <td>8</td>\n    </tr>\n    <tr>\n      <th>1</th>\n      <td>2</td>\n      <td>735 Dolores St</td>\n      <td>San Francisco</td>\n      <td>CA 94119</td>\n      <td>USA</td>\n      <td>Bready Shop</td>\n      <td>15</td>\n    </tr>\n    <tr>\n      <th>2</th>\n      <td>3</td>\n      <td>332 Hill St</td>\n      <td>San Francisco</td>\n      <td>California 94114</td>\n      <td>USA</td>\n      <td>Super River</td>\n      <td>25</td>\n    </tr>\n    <tr>\n      <th>3</th>\n      <td>4</td>\n      <td>3995 23rd St</td>\n      <td>San Francisco</td>\n      <td>CA 94114</td>\n      <td>USA</td>\n      <td>Ben's Shop</td>\n      <td>10</td>\n    </tr>\n    <tr>\n      <th>4</th>\n      <td>5</td>\n      <td>1056 Sanchez St</td>\n      <td>San Francisco</td>\n      <td>California</td>\n      <td>USA</td>\n      <td>Sanchez</td>\n      <td>12</td>\n    </tr>\n    <tr>\n      <th>5</th>\n      <td>6</td>\n      <td>551 Alvarado St</td>\n      <td>San Francisco</td>\n      <td>CA 94114</td>\n      <td>USA</td>\n      <td>Richvalley</td>\n      <td>20</td>\n    </tr>\n  </tbody>\n</table>\n</div>"
     },
     "metadata": {},
     "execution_count": 13
    }
   ],
   "source": [
    "df1[df1.City=='San Francisco']\n",
    "#get row"
   ]
  },
  {
   "cell_type": "markdown",
   "metadata": {},
   "source": [
    "# xlsx"
   ]
  },
  {
   "cell_type": "code",
   "execution_count": 28,
   "metadata": {},
   "outputs": [],
   "source": [
    "df2 = pandas.read_excel('files/supermarkets.xlsx', sheet_name=0)"
   ]
  },
  {
   "cell_type": "code",
   "execution_count": 29,
   "metadata": {},
   "outputs": [
    {
     "output_type": "execute_result",
     "data": {
      "text/plain": "   ID          Address           City             State Country  \\\n0   1     3666 21st St  San Francisco          CA 94114     USA   \n1   2   735 Dolores St  San Francisco          CA 94119     USA   \n2   3      332 Hill St  San Francisco  California 94114     USA   \n3   4     3995 23rd St  San Francisco          CA 94114     USA   \n4   5  1056 Sanchez St  San Francisco        California     USA   \n5   6  551 Alvarado St  San Francisco          CA 94114     USA   \n\n  Supermarket Name  Number of Employees  \n0          Madeira                    8  \n1      Bready Shop                   15  \n2      Super River                   25  \n3       Ben's Shop                   10  \n4          Sanchez                   12  \n5       Richvalley                   20  ",
      "text/html": "<div>\n<style scoped>\n    .dataframe tbody tr th:only-of-type {\n        vertical-align: middle;\n    }\n\n    .dataframe tbody tr th {\n        vertical-align: top;\n    }\n\n    .dataframe thead th {\n        text-align: right;\n    }\n</style>\n<table border=\"1\" class=\"dataframe\">\n  <thead>\n    <tr style=\"text-align: right;\">\n      <th></th>\n      <th>ID</th>\n      <th>Address</th>\n      <th>City</th>\n      <th>State</th>\n      <th>Country</th>\n      <th>Supermarket Name</th>\n      <th>Number of Employees</th>\n    </tr>\n  </thead>\n  <tbody>\n    <tr>\n      <th>0</th>\n      <td>1</td>\n      <td>3666 21st St</td>\n      <td>San Francisco</td>\n      <td>CA 94114</td>\n      <td>USA</td>\n      <td>Madeira</td>\n      <td>8</td>\n    </tr>\n    <tr>\n      <th>1</th>\n      <td>2</td>\n      <td>735 Dolores St</td>\n      <td>San Francisco</td>\n      <td>CA 94119</td>\n      <td>USA</td>\n      <td>Bready Shop</td>\n      <td>15</td>\n    </tr>\n    <tr>\n      <th>2</th>\n      <td>3</td>\n      <td>332 Hill St</td>\n      <td>San Francisco</td>\n      <td>California 94114</td>\n      <td>USA</td>\n      <td>Super River</td>\n      <td>25</td>\n    </tr>\n    <tr>\n      <th>3</th>\n      <td>4</td>\n      <td>3995 23rd St</td>\n      <td>San Francisco</td>\n      <td>CA 94114</td>\n      <td>USA</td>\n      <td>Ben's Shop</td>\n      <td>10</td>\n    </tr>\n    <tr>\n      <th>4</th>\n      <td>5</td>\n      <td>1056 Sanchez St</td>\n      <td>San Francisco</td>\n      <td>California</td>\n      <td>USA</td>\n      <td>Sanchez</td>\n      <td>12</td>\n    </tr>\n    <tr>\n      <th>5</th>\n      <td>6</td>\n      <td>551 Alvarado St</td>\n      <td>San Francisco</td>\n      <td>CA 94114</td>\n      <td>USA</td>\n      <td>Richvalley</td>\n      <td>20</td>\n    </tr>\n  </tbody>\n</table>\n</div>"
     },
     "metadata": {},
     "execution_count": 29
    }
   ],
   "source": [
    "df2"
   ]
  },
  {
   "cell_type": "markdown",
   "metadata": {},
   "source": [
    "# json"
   ]
  },
  {
   "cell_type": "code",
   "execution_count": 30,
   "metadata": {},
   "outputs": [],
   "source": [
    "df3 = pandas.read_json('files/supermarkets.json')"
   ]
  },
  {
   "cell_type": "code",
   "execution_count": 31,
   "metadata": {},
   "outputs": [
    {
     "output_type": "execute_result",
     "data": {
      "text/plain": "   ID          Address           City             State Country         Name  \\\n0   1     3666 21st St  San Francisco          CA 94114     USA      Madeira   \n1   2   735 Dolores St  San Francisco          CA 94119     USA  Bready Shop   \n2   3      332 Hill St  San Francisco  California 94114     USA  Super River   \n3   4     3995 23rd St  San Francisco          CA 94114     USA   Ben's Shop   \n4   5  1056 Sanchez St  San Francisco        California     USA      Sanchez   \n5   6  551 Alvarado St  San Francisco          CA 94114     USA   Richvalley   \n\n   Employees  \n0          8  \n1         15  \n2         25  \n3         10  \n4         12  \n5         20  ",
      "text/html": "<div>\n<style scoped>\n    .dataframe tbody tr th:only-of-type {\n        vertical-align: middle;\n    }\n\n    .dataframe tbody tr th {\n        vertical-align: top;\n    }\n\n    .dataframe thead th {\n        text-align: right;\n    }\n</style>\n<table border=\"1\" class=\"dataframe\">\n  <thead>\n    <tr style=\"text-align: right;\">\n      <th></th>\n      <th>ID</th>\n      <th>Address</th>\n      <th>City</th>\n      <th>State</th>\n      <th>Country</th>\n      <th>Name</th>\n      <th>Employees</th>\n    </tr>\n  </thead>\n  <tbody>\n    <tr>\n      <th>0</th>\n      <td>1</td>\n      <td>3666 21st St</td>\n      <td>San Francisco</td>\n      <td>CA 94114</td>\n      <td>USA</td>\n      <td>Madeira</td>\n      <td>8</td>\n    </tr>\n    <tr>\n      <th>1</th>\n      <td>2</td>\n      <td>735 Dolores St</td>\n      <td>San Francisco</td>\n      <td>CA 94119</td>\n      <td>USA</td>\n      <td>Bready Shop</td>\n      <td>15</td>\n    </tr>\n    <tr>\n      <th>2</th>\n      <td>3</td>\n      <td>332 Hill St</td>\n      <td>San Francisco</td>\n      <td>California 94114</td>\n      <td>USA</td>\n      <td>Super River</td>\n      <td>25</td>\n    </tr>\n    <tr>\n      <th>3</th>\n      <td>4</td>\n      <td>3995 23rd St</td>\n      <td>San Francisco</td>\n      <td>CA 94114</td>\n      <td>USA</td>\n      <td>Ben's Shop</td>\n      <td>10</td>\n    </tr>\n    <tr>\n      <th>4</th>\n      <td>5</td>\n      <td>1056 Sanchez St</td>\n      <td>San Francisco</td>\n      <td>California</td>\n      <td>USA</td>\n      <td>Sanchez</td>\n      <td>12</td>\n    </tr>\n    <tr>\n      <th>5</th>\n      <td>6</td>\n      <td>551 Alvarado St</td>\n      <td>San Francisco</td>\n      <td>CA 94114</td>\n      <td>USA</td>\n      <td>Richvalley</td>\n      <td>20</td>\n    </tr>\n  </tbody>\n</table>\n</div>"
     },
     "metadata": {},
     "execution_count": 31
    }
   ],
   "source": [
    "df3"
   ]
  },
  {
   "cell_type": "markdown",
   "metadata": {},
   "source": [
    "# txt"
   ]
  },
  {
   "cell_type": "code",
   "execution_count": 33,
   "metadata": {},
   "outputs": [],
   "source": [
    "df4 = pandas.read_csv('files/supermarkets-commas.txt')"
   ]
  },
  {
   "cell_type": "code",
   "execution_count": 34,
   "metadata": {},
   "outputs": [
    {
     "output_type": "execute_result",
     "data": {
      "text/plain": "   ID          Address           City             State Country         Name  \\\n0   1     3666 21st St  San Francisco          CA 94114     USA      Madeira   \n1   2   735 Dolores St  San Francisco          CA 94119     USA  Bready Shop   \n2   3      332 Hill St  San Francisco  California 94114     USA  Super River   \n3   4     3995 23rd St  San Francisco          CA 94114     USA   Ben's Shop   \n4   5  1056 Sanchez St  San Francisco        California     USA      Sanchez   \n5   6  551 Alvarado St  San Francisco          CA 94114     USA   Richvalley   \n\n   Employees  \n0          8  \n1         15  \n2         25  \n3         10  \n4         12  \n5         20  ",
      "text/html": "<div>\n<style scoped>\n    .dataframe tbody tr th:only-of-type {\n        vertical-align: middle;\n    }\n\n    .dataframe tbody tr th {\n        vertical-align: top;\n    }\n\n    .dataframe thead th {\n        text-align: right;\n    }\n</style>\n<table border=\"1\" class=\"dataframe\">\n  <thead>\n    <tr style=\"text-align: right;\">\n      <th></th>\n      <th>ID</th>\n      <th>Address</th>\n      <th>City</th>\n      <th>State</th>\n      <th>Country</th>\n      <th>Name</th>\n      <th>Employees</th>\n    </tr>\n  </thead>\n  <tbody>\n    <tr>\n      <th>0</th>\n      <td>1</td>\n      <td>3666 21st St</td>\n      <td>San Francisco</td>\n      <td>CA 94114</td>\n      <td>USA</td>\n      <td>Madeira</td>\n      <td>8</td>\n    </tr>\n    <tr>\n      <th>1</th>\n      <td>2</td>\n      <td>735 Dolores St</td>\n      <td>San Francisco</td>\n      <td>CA 94119</td>\n      <td>USA</td>\n      <td>Bready Shop</td>\n      <td>15</td>\n    </tr>\n    <tr>\n      <th>2</th>\n      <td>3</td>\n      <td>332 Hill St</td>\n      <td>San Francisco</td>\n      <td>California 94114</td>\n      <td>USA</td>\n      <td>Super River</td>\n      <td>25</td>\n    </tr>\n    <tr>\n      <th>3</th>\n      <td>4</td>\n      <td>3995 23rd St</td>\n      <td>San Francisco</td>\n      <td>CA 94114</td>\n      <td>USA</td>\n      <td>Ben's Shop</td>\n      <td>10</td>\n    </tr>\n    <tr>\n      <th>4</th>\n      <td>5</td>\n      <td>1056 Sanchez St</td>\n      <td>San Francisco</td>\n      <td>California</td>\n      <td>USA</td>\n      <td>Sanchez</td>\n      <td>12</td>\n    </tr>\n    <tr>\n      <th>5</th>\n      <td>6</td>\n      <td>551 Alvarado St</td>\n      <td>San Francisco</td>\n      <td>CA 94114</td>\n      <td>USA</td>\n      <td>Richvalley</td>\n      <td>20</td>\n    </tr>\n  </tbody>\n</table>\n</div>"
     },
     "metadata": {},
     "execution_count": 34
    }
   ],
   "source": [
    "df4"
   ]
  },
  {
   "cell_type": "markdown",
   "metadata": {},
   "source": [
    "# semi-colon"
   ]
  },
  {
   "cell_type": "code",
   "execution_count": 41,
   "metadata": {},
   "outputs": [],
   "source": [
    "df5 = pandas.read_csv('files/supermarkets-semi-colons.txt', sep=';') # sep or delimiter"
   ]
  },
  {
   "cell_type": "code",
   "execution_count": 42,
   "metadata": {},
   "outputs": [
    {
     "output_type": "execute_result",
     "data": {
      "text/plain": "   ID          Address           City             State Country          Name  \\\n0   1     3666 21st St  San Francisco          CA 94114     USA       Madeira   \n1   2   735 Dolores St  San Francisco          CA 94119     USA   Bready Shop   \n2   3      332 Hill St  San Francisco  California 94114     USA   Super River   \n3   4     3995 23rd St  San Francisco          CA 94114     USA    Ben's Shop   \n4   5  1056 Sanchez St  San Francisco        California     USA       Sanchez   \n5   6  551 Alvarado St  San Francisco          CA 94114     USA    Richvalley   \n\n   Employees  \n0          8  \n1         15  \n2         25  \n3         10  \n4         12  \n5         20  ",
      "text/html": "<div>\n<style scoped>\n    .dataframe tbody tr th:only-of-type {\n        vertical-align: middle;\n    }\n\n    .dataframe tbody tr th {\n        vertical-align: top;\n    }\n\n    .dataframe thead th {\n        text-align: right;\n    }\n</style>\n<table border=\"1\" class=\"dataframe\">\n  <thead>\n    <tr style=\"text-align: right;\">\n      <th></th>\n      <th>ID</th>\n      <th>Address</th>\n      <th>City</th>\n      <th>State</th>\n      <th>Country</th>\n      <th>Name</th>\n      <th>Employees</th>\n    </tr>\n  </thead>\n  <tbody>\n    <tr>\n      <th>0</th>\n      <td>1</td>\n      <td>3666 21st St</td>\n      <td>San Francisco</td>\n      <td>CA 94114</td>\n      <td>USA</td>\n      <td>Madeira</td>\n      <td>8</td>\n    </tr>\n    <tr>\n      <th>1</th>\n      <td>2</td>\n      <td>735 Dolores St</td>\n      <td>San Francisco</td>\n      <td>CA 94119</td>\n      <td>USA</td>\n      <td>Bready Shop</td>\n      <td>15</td>\n    </tr>\n    <tr>\n      <th>2</th>\n      <td>3</td>\n      <td>332 Hill St</td>\n      <td>San Francisco</td>\n      <td>California 94114</td>\n      <td>USA</td>\n      <td>Super River</td>\n      <td>25</td>\n    </tr>\n    <tr>\n      <th>3</th>\n      <td>4</td>\n      <td>3995 23rd St</td>\n      <td>San Francisco</td>\n      <td>CA 94114</td>\n      <td>USA</td>\n      <td>Ben's Shop</td>\n      <td>10</td>\n    </tr>\n    <tr>\n      <th>4</th>\n      <td>5</td>\n      <td>1056 Sanchez St</td>\n      <td>San Francisco</td>\n      <td>California</td>\n      <td>USA</td>\n      <td>Sanchez</td>\n      <td>12</td>\n    </tr>\n    <tr>\n      <th>5</th>\n      <td>6</td>\n      <td>551 Alvarado St</td>\n      <td>San Francisco</td>\n      <td>CA 94114</td>\n      <td>USA</td>\n      <td>Richvalley</td>\n      <td>20</td>\n    </tr>\n  </tbody>\n</table>\n</div>"
     },
     "metadata": {},
     "execution_count": 42
    }
   ],
   "source": [
    "df5"
   ]
  },
  {
   "cell_type": "markdown",
   "metadata": {},
   "source": [
    "# csv no-header"
   ]
  },
  {
   "cell_type": "code",
   "execution_count": 44,
   "metadata": {},
   "outputs": [],
   "source": [
    "df6 = pandas.read_csv('files/supermarkets-header.txt', header=None)"
   ]
  },
  {
   "cell_type": "code",
   "execution_count": 45,
   "metadata": {},
   "outputs": [
    {
     "output_type": "execute_result",
     "data": {
      "text/plain": "   0                1              2                 3    4            5   6\n0  1     3666 21st St  San Francisco          CA 94114  USA      Madeira   8\n1  2   735 Dolores St  San Francisco          CA 94119  USA  Bready Shop  15\n2  3      332 Hill St  San Francisco  California 94114  USA  Super River  25\n3  4     3995 23rd St  San Francisco          CA 94114  USA   Ben's Shop  10\n4  5  1056 Sanchez St  San Francisco        California  USA      Sanchez  12\n5  6  551 Alvarado St  San Francisco          CA 94114  USA   Richvalley  20",
      "text/html": "<div>\n<style scoped>\n    .dataframe tbody tr th:only-of-type {\n        vertical-align: middle;\n    }\n\n    .dataframe tbody tr th {\n        vertical-align: top;\n    }\n\n    .dataframe thead th {\n        text-align: right;\n    }\n</style>\n<table border=\"1\" class=\"dataframe\">\n  <thead>\n    <tr style=\"text-align: right;\">\n      <th></th>\n      <th>0</th>\n      <th>1</th>\n      <th>2</th>\n      <th>3</th>\n      <th>4</th>\n      <th>5</th>\n      <th>6</th>\n    </tr>\n  </thead>\n  <tbody>\n    <tr>\n      <th>0</th>\n      <td>1</td>\n      <td>3666 21st St</td>\n      <td>San Francisco</td>\n      <td>CA 94114</td>\n      <td>USA</td>\n      <td>Madeira</td>\n      <td>8</td>\n    </tr>\n    <tr>\n      <th>1</th>\n      <td>2</td>\n      <td>735 Dolores St</td>\n      <td>San Francisco</td>\n      <td>CA 94119</td>\n      <td>USA</td>\n      <td>Bready Shop</td>\n      <td>15</td>\n    </tr>\n    <tr>\n      <th>2</th>\n      <td>3</td>\n      <td>332 Hill St</td>\n      <td>San Francisco</td>\n      <td>California 94114</td>\n      <td>USA</td>\n      <td>Super River</td>\n      <td>25</td>\n    </tr>\n    <tr>\n      <th>3</th>\n      <td>4</td>\n      <td>3995 23rd St</td>\n      <td>San Francisco</td>\n      <td>CA 94114</td>\n      <td>USA</td>\n      <td>Ben's Shop</td>\n      <td>10</td>\n    </tr>\n    <tr>\n      <th>4</th>\n      <td>5</td>\n      <td>1056 Sanchez St</td>\n      <td>San Francisco</td>\n      <td>California</td>\n      <td>USA</td>\n      <td>Sanchez</td>\n      <td>12</td>\n    </tr>\n    <tr>\n      <th>5</th>\n      <td>6</td>\n      <td>551 Alvarado St</td>\n      <td>San Francisco</td>\n      <td>CA 94114</td>\n      <td>USA</td>\n      <td>Richvalley</td>\n      <td>20</td>\n    </tr>\n  </tbody>\n</table>\n</div>"
     },
     "metadata": {},
     "execution_count": 45
    }
   ],
   "source": [
    "df6"
   ]
  },
  {
   "cell_type": "code",
   "execution_count": 51,
   "metadata": {},
   "outputs": [],
   "source": [
    "df6.columns = ['Id', 'Address', 'City', 'Zip', 'Country', 'Name', 'Employees']"
   ]
  },
  {
   "cell_type": "code",
   "execution_count": 63,
   "metadata": {},
   "outputs": [
    {
     "output_type": "execute_result",
     "data": {
      "text/plain": "   Id          Address           City               Zip Country         Name  \\\n0   1     3666 21st St  San Francisco          CA 94114     USA      Madeira   \n1   2   735 Dolores St  San Francisco          CA 94119     USA  Bready Shop   \n2   3      332 Hill St  San Francisco  California 94114     USA  Super River   \n3   4     3995 23rd St  San Francisco          CA 94114     USA   Ben's Shop   \n4   5  1056 Sanchez St  San Francisco        California     USA      Sanchez   \n5   6  551 Alvarado St  San Francisco          CA 94114     USA   Richvalley   \n\n   Employees  \n0          8  \n1         15  \n2         25  \n3         10  \n4         12  \n5         20  ",
      "text/html": "<div>\n<style scoped>\n    .dataframe tbody tr th:only-of-type {\n        vertical-align: middle;\n    }\n\n    .dataframe tbody tr th {\n        vertical-align: top;\n    }\n\n    .dataframe thead th {\n        text-align: right;\n    }\n</style>\n<table border=\"1\" class=\"dataframe\">\n  <thead>\n    <tr style=\"text-align: right;\">\n      <th></th>\n      <th>Id</th>\n      <th>Address</th>\n      <th>City</th>\n      <th>Zip</th>\n      <th>Country</th>\n      <th>Name</th>\n      <th>Employees</th>\n    </tr>\n  </thead>\n  <tbody>\n    <tr>\n      <th>0</th>\n      <td>1</td>\n      <td>3666 21st St</td>\n      <td>San Francisco</td>\n      <td>CA 94114</td>\n      <td>USA</td>\n      <td>Madeira</td>\n      <td>8</td>\n    </tr>\n    <tr>\n      <th>1</th>\n      <td>2</td>\n      <td>735 Dolores St</td>\n      <td>San Francisco</td>\n      <td>CA 94119</td>\n      <td>USA</td>\n      <td>Bready Shop</td>\n      <td>15</td>\n    </tr>\n    <tr>\n      <th>2</th>\n      <td>3</td>\n      <td>332 Hill St</td>\n      <td>San Francisco</td>\n      <td>California 94114</td>\n      <td>USA</td>\n      <td>Super River</td>\n      <td>25</td>\n    </tr>\n    <tr>\n      <th>3</th>\n      <td>4</td>\n      <td>3995 23rd St</td>\n      <td>San Francisco</td>\n      <td>CA 94114</td>\n      <td>USA</td>\n      <td>Ben's Shop</td>\n      <td>10</td>\n    </tr>\n    <tr>\n      <th>4</th>\n      <td>5</td>\n      <td>1056 Sanchez St</td>\n      <td>San Francisco</td>\n      <td>California</td>\n      <td>USA</td>\n      <td>Sanchez</td>\n      <td>12</td>\n    </tr>\n    <tr>\n      <th>5</th>\n      <td>6</td>\n      <td>551 Alvarado St</td>\n      <td>San Francisco</td>\n      <td>CA 94114</td>\n      <td>USA</td>\n      <td>Richvalley</td>\n      <td>20</td>\n    </tr>\n  </tbody>\n</table>\n</div>"
     },
     "metadata": {},
     "execution_count": 63
    }
   ],
   "source": [
    "df6"
   ]
  },
  {
   "cell_type": "code",
   "execution_count": null,
   "metadata": {},
   "outputs": [],
   "source": []
  },
  {
   "cell_type": "markdown",
   "metadata": {},
   "source": [
    "# indexing and slicing"
   ]
  },
  {
   "cell_type": "code",
   "execution_count": 81,
   "metadata": {},
   "outputs": [
    {
     "output_type": "execute_result",
     "data": {
      "text/plain": "[' Madeira',\n 'Bready Shop',\n 'Super River',\n \"Ben's Shop\",\n 'Sanchez',\n 'Richvalley']"
     },
     "metadata": {},
     "execution_count": 81
    }
   ],
   "source": [
    "list(df6.loc[:,'Name'])"
   ]
  },
  {
   "cell_type": "code",
   "execution_count": 76,
   "metadata": {},
   "outputs": [
    {
     "output_type": "execute_result",
     "data": {
      "text/plain": "0        Madeira\n1    Bready Shop\n2    Super River\n3     Ben's Shop\n4        Sanchez\n5     Richvalley\nName: Name, dtype: object"
     },
     "metadata": {},
     "execution_count": 76
    }
   ],
   "source": [
    "df6.loc[:,'Name']"
   ]
  },
  {
   "cell_type": "code",
   "execution_count": 82,
   "metadata": {},
   "outputs": [
    {
     "output_type": "execute_result",
     "data": {
      "text/plain": "   Id          Address           City               Zip Country         Name  \\\n0   1     3666 21st St  San Francisco          CA 94114     USA      Madeira   \n1   2   735 Dolores St  San Francisco          CA 94119     USA  Bready Shop   \n2   3      332 Hill St  San Francisco  California 94114     USA  Super River   \n3   4     3995 23rd St  San Francisco          CA 94114     USA   Ben's Shop   \n4   5  1056 Sanchez St  San Francisco        California     USA      Sanchez   \n5   6  551 Alvarado St  San Francisco          CA 94114     USA   Richvalley   \n\n   Employees  \n0          8  \n1         15  \n2         25  \n3         10  \n4         12  \n5         20  ",
      "text/html": "<div>\n<style scoped>\n    .dataframe tbody tr th:only-of-type {\n        vertical-align: middle;\n    }\n\n    .dataframe tbody tr th {\n        vertical-align: top;\n    }\n\n    .dataframe thead th {\n        text-align: right;\n    }\n</style>\n<table border=\"1\" class=\"dataframe\">\n  <thead>\n    <tr style=\"text-align: right;\">\n      <th></th>\n      <th>Id</th>\n      <th>Address</th>\n      <th>City</th>\n      <th>Zip</th>\n      <th>Country</th>\n      <th>Name</th>\n      <th>Employees</th>\n    </tr>\n  </thead>\n  <tbody>\n    <tr>\n      <th>0</th>\n      <td>1</td>\n      <td>3666 21st St</td>\n      <td>San Francisco</td>\n      <td>CA 94114</td>\n      <td>USA</td>\n      <td>Madeira</td>\n      <td>8</td>\n    </tr>\n    <tr>\n      <th>1</th>\n      <td>2</td>\n      <td>735 Dolores St</td>\n      <td>San Francisco</td>\n      <td>CA 94119</td>\n      <td>USA</td>\n      <td>Bready Shop</td>\n      <td>15</td>\n    </tr>\n    <tr>\n      <th>2</th>\n      <td>3</td>\n      <td>332 Hill St</td>\n      <td>San Francisco</td>\n      <td>California 94114</td>\n      <td>USA</td>\n      <td>Super River</td>\n      <td>25</td>\n    </tr>\n    <tr>\n      <th>3</th>\n      <td>4</td>\n      <td>3995 23rd St</td>\n      <td>San Francisco</td>\n      <td>CA 94114</td>\n      <td>USA</td>\n      <td>Ben's Shop</td>\n      <td>10</td>\n    </tr>\n    <tr>\n      <th>4</th>\n      <td>5</td>\n      <td>1056 Sanchez St</td>\n      <td>San Francisco</td>\n      <td>California</td>\n      <td>USA</td>\n      <td>Sanchez</td>\n      <td>12</td>\n    </tr>\n    <tr>\n      <th>5</th>\n      <td>6</td>\n      <td>551 Alvarado St</td>\n      <td>San Francisco</td>\n      <td>CA 94114</td>\n      <td>USA</td>\n      <td>Richvalley</td>\n      <td>20</td>\n    </tr>\n  </tbody>\n</table>\n</div>"
     },
     "metadata": {},
     "execution_count": 82
    }
   ],
   "source": [
    "df6"
   ]
  },
  {
   "cell_type": "code",
   "execution_count": 86,
   "metadata": {},
   "outputs": [
    {
     "output_type": "execute_result",
     "data": {
      "text/plain": "            City               Zip\n1  San Francisco          CA 94119\n2  San Francisco  California 94114",
      "text/html": "<div>\n<style scoped>\n    .dataframe tbody tr th:only-of-type {\n        vertical-align: middle;\n    }\n\n    .dataframe tbody tr th {\n        vertical-align: top;\n    }\n\n    .dataframe thead th {\n        text-align: right;\n    }\n</style>\n<table border=\"1\" class=\"dataframe\">\n  <thead>\n    <tr style=\"text-align: right;\">\n      <th></th>\n      <th>City</th>\n      <th>Zip</th>\n    </tr>\n  </thead>\n  <tbody>\n    <tr>\n      <th>1</th>\n      <td>San Francisco</td>\n      <td>CA 94119</td>\n    </tr>\n    <tr>\n      <th>2</th>\n      <td>San Francisco</td>\n      <td>California 94114</td>\n    </tr>\n  </tbody>\n</table>\n</div>"
     },
     "metadata": {},
     "execution_count": 86
    }
   ],
   "source": [
    "df6.iloc[1:3,2:4] # either row or column is alos possible"
   ]
  },
  {
   "cell_type": "markdown",
   "metadata": {},
   "source": [
    "# deleting columns and rows"
   ]
  },
  {
   "cell_type": "code",
   "execution_count": 90,
   "metadata": {},
   "outputs": [
    {
     "output_type": "execute_result",
     "data": {
      "text/plain": "   Id          Address               Zip Country         Name  Employees\n0   1     3666 21st St          CA 94114     USA      Madeira          8\n1   2   735 Dolores St          CA 94119     USA  Bready Shop         15\n2   3      332 Hill St  California 94114     USA  Super River         25\n3   4     3995 23rd St          CA 94114     USA   Ben's Shop         10\n4   5  1056 Sanchez St        California     USA      Sanchez         12\n5   6  551 Alvarado St          CA 94114     USA   Richvalley         20",
      "text/html": "<div>\n<style scoped>\n    .dataframe tbody tr th:only-of-type {\n        vertical-align: middle;\n    }\n\n    .dataframe tbody tr th {\n        vertical-align: top;\n    }\n\n    .dataframe thead th {\n        text-align: right;\n    }\n</style>\n<table border=\"1\" class=\"dataframe\">\n  <thead>\n    <tr style=\"text-align: right;\">\n      <th></th>\n      <th>Id</th>\n      <th>Address</th>\n      <th>Zip</th>\n      <th>Country</th>\n      <th>Name</th>\n      <th>Employees</th>\n    </tr>\n  </thead>\n  <tbody>\n    <tr>\n      <th>0</th>\n      <td>1</td>\n      <td>3666 21st St</td>\n      <td>CA 94114</td>\n      <td>USA</td>\n      <td>Madeira</td>\n      <td>8</td>\n    </tr>\n    <tr>\n      <th>1</th>\n      <td>2</td>\n      <td>735 Dolores St</td>\n      <td>CA 94119</td>\n      <td>USA</td>\n      <td>Bready Shop</td>\n      <td>15</td>\n    </tr>\n    <tr>\n      <th>2</th>\n      <td>3</td>\n      <td>332 Hill St</td>\n      <td>California 94114</td>\n      <td>USA</td>\n      <td>Super River</td>\n      <td>25</td>\n    </tr>\n    <tr>\n      <th>3</th>\n      <td>4</td>\n      <td>3995 23rd St</td>\n      <td>CA 94114</td>\n      <td>USA</td>\n      <td>Ben's Shop</td>\n      <td>10</td>\n    </tr>\n    <tr>\n      <th>4</th>\n      <td>5</td>\n      <td>1056 Sanchez St</td>\n      <td>California</td>\n      <td>USA</td>\n      <td>Sanchez</td>\n      <td>12</td>\n    </tr>\n    <tr>\n      <th>5</th>\n      <td>6</td>\n      <td>551 Alvarado St</td>\n      <td>CA 94114</td>\n      <td>USA</td>\n      <td>Richvalley</td>\n      <td>20</td>\n    </tr>\n  </tbody>\n</table>\n</div>"
     },
     "metadata": {},
     "execution_count": 90
    }
   ],
   "source": [
    "df6.drop('City',1)"
   ]
  },
  {
   "cell_type": "code",
   "execution_count": 91,
   "metadata": {},
   "outputs": [
    {
     "output_type": "execute_result",
     "data": {
      "text/plain": "                Zip Country         Name  Employees\n0          CA 94114     USA      Madeira          8\n1          CA 94119     USA  Bready Shop         15\n2  California 94114     USA  Super River         25\n3          CA 94114     USA   Ben's Shop         10\n4        California     USA      Sanchez         12\n5          CA 94114     USA   Richvalley         20",
      "text/html": "<div>\n<style scoped>\n    .dataframe tbody tr th:only-of-type {\n        vertical-align: middle;\n    }\n\n    .dataframe tbody tr th {\n        vertical-align: top;\n    }\n\n    .dataframe thead th {\n        text-align: right;\n    }\n</style>\n<table border=\"1\" class=\"dataframe\">\n  <thead>\n    <tr style=\"text-align: right;\">\n      <th></th>\n      <th>Zip</th>\n      <th>Country</th>\n      <th>Name</th>\n      <th>Employees</th>\n    </tr>\n  </thead>\n  <tbody>\n    <tr>\n      <th>0</th>\n      <td>CA 94114</td>\n      <td>USA</td>\n      <td>Madeira</td>\n      <td>8</td>\n    </tr>\n    <tr>\n      <th>1</th>\n      <td>CA 94119</td>\n      <td>USA</td>\n      <td>Bready Shop</td>\n      <td>15</td>\n    </tr>\n    <tr>\n      <th>2</th>\n      <td>California 94114</td>\n      <td>USA</td>\n      <td>Super River</td>\n      <td>25</td>\n    </tr>\n    <tr>\n      <th>3</th>\n      <td>CA 94114</td>\n      <td>USA</td>\n      <td>Ben's Shop</td>\n      <td>10</td>\n    </tr>\n    <tr>\n      <th>4</th>\n      <td>California</td>\n      <td>USA</td>\n      <td>Sanchez</td>\n      <td>12</td>\n    </tr>\n    <tr>\n      <th>5</th>\n      <td>CA 94114</td>\n      <td>USA</td>\n      <td>Richvalley</td>\n      <td>20</td>\n    </tr>\n  </tbody>\n</table>\n</div>"
     },
     "metadata": {},
     "execution_count": 91
    }
   ],
   "source": [
    "df6.drop(df6.columns[0:3],1)"
   ]
  },
  {
   "cell_type": "code",
   "execution_count": 92,
   "metadata": {},
   "outputs": [
    {
     "output_type": "execute_result",
     "data": {
      "text/plain": "Index(['Id', 'Address', 'City', 'Zip', 'Country', 'Name', 'Employees'], dtype='object')"
     },
     "metadata": {},
     "execution_count": 92
    }
   ],
   "source": [
    "df6.columns"
   ]
  },
  {
   "cell_type": "markdown",
   "metadata": {},
   "source": [
    "# updating and adding columns and rows"
   ]
  },
  {
   "cell_type": "code",
   "execution_count": 100,
   "metadata": {},
   "outputs": [
    {
     "output_type": "execute_result",
     "data": {
      "text/plain": "   Id          Address           City               Zip Country         Name  \\\n0   1     3666 21st St  San Francisco          CA 94114     USA      Madeira   \n1   2   735 Dolores St  San Francisco          CA 94119     USA  Bready Shop   \n2   3      332 Hill St  San Francisco  California 94114     USA  Super River   \n3   4     3995 23rd St  San Francisco          CA 94114     USA   Ben's Shop   \n4   5  1056 Sanchez St  San Francisco        California     USA      Sanchez   \n5   6  551 Alvarado St  San Francisco          CA 94114     USA   Richvalley   \n\n   Employees         29  salary  \n0          8  bhaktapur    2000  \n1         15    tumacho    3000  \n2         25      44800    2000  \n3         10      Nepal    3000  \n4         12      Rabin    3000  \n5         20         23    3000  ",
      "text/html": "<div>\n<style scoped>\n    .dataframe tbody tr th:only-of-type {\n        vertical-align: middle;\n    }\n\n    .dataframe tbody tr th {\n        vertical-align: top;\n    }\n\n    .dataframe thead th {\n        text-align: right;\n    }\n</style>\n<table border=\"1\" class=\"dataframe\">\n  <thead>\n    <tr style=\"text-align: right;\">\n      <th></th>\n      <th>Id</th>\n      <th>Address</th>\n      <th>City</th>\n      <th>Zip</th>\n      <th>Country</th>\n      <th>Name</th>\n      <th>Employees</th>\n      <th>29</th>\n      <th>salary</th>\n    </tr>\n  </thead>\n  <tbody>\n    <tr>\n      <th>0</th>\n      <td>1</td>\n      <td>3666 21st St</td>\n      <td>San Francisco</td>\n      <td>CA 94114</td>\n      <td>USA</td>\n      <td>Madeira</td>\n      <td>8</td>\n      <td>bhaktapur</td>\n      <td>2000</td>\n    </tr>\n    <tr>\n      <th>1</th>\n      <td>2</td>\n      <td>735 Dolores St</td>\n      <td>San Francisco</td>\n      <td>CA 94119</td>\n      <td>USA</td>\n      <td>Bready Shop</td>\n      <td>15</td>\n      <td>tumacho</td>\n      <td>3000</td>\n    </tr>\n    <tr>\n      <th>2</th>\n      <td>3</td>\n      <td>332 Hill St</td>\n      <td>San Francisco</td>\n      <td>California 94114</td>\n      <td>USA</td>\n      <td>Super River</td>\n      <td>25</td>\n      <td>44800</td>\n      <td>2000</td>\n    </tr>\n    <tr>\n      <th>3</th>\n      <td>4</td>\n      <td>3995 23rd St</td>\n      <td>San Francisco</td>\n      <td>CA 94114</td>\n      <td>USA</td>\n      <td>Ben's Shop</td>\n      <td>10</td>\n      <td>Nepal</td>\n      <td>3000</td>\n    </tr>\n    <tr>\n      <th>4</th>\n      <td>5</td>\n      <td>1056 Sanchez St</td>\n      <td>San Francisco</td>\n      <td>California</td>\n      <td>USA</td>\n      <td>Sanchez</td>\n      <td>12</td>\n      <td>Rabin</td>\n      <td>3000</td>\n    </tr>\n    <tr>\n      <th>5</th>\n      <td>6</td>\n      <td>551 Alvarado St</td>\n      <td>San Francisco</td>\n      <td>CA 94114</td>\n      <td>USA</td>\n      <td>Richvalley</td>\n      <td>20</td>\n      <td>23</td>\n      <td>3000</td>\n    </tr>\n  </tbody>\n</table>\n</div>"
     },
     "metadata": {},
     "execution_count": 100
    }
   ],
   "source": [
    "df6"
   ]
  },
  {
   "cell_type": "code",
   "execution_count": 126,
   "metadata": {},
   "outputs": [],
   "source": [
    "df6['salary'] = [2000, 3000, 2000, 3000, 3000, 3000] # add columns\n",
    "df6['continent'] = df6.shape[0]*['asia'] # add columns\n",
    "new_row = {\"Id\":99, 'Address':'bhaktapur', 'City':'Kathmandu', 'Zip':44800, 'Country':'NEpal', 'Name':\"rabin\", 'salary':\"45678\", 'continent':'Asia'}\n",
    "df6 = df6.append(new_row, ignore_index=True)"
   ]
  },
  {
   "cell_type": "code",
   "execution_count": 127,
   "metadata": {},
   "outputs": [
    {
     "output_type": "execute_result",
     "data": {
      "text/plain": "   Id          Address           City               Zip Country         Name  \\\n0   1     3666 21st St  San Francisco          CA 94114     USA      Madeira   \n1   2   735 Dolores St  San Francisco          CA 94119     USA  Bready Shop   \n2   3      332 Hill St  San Francisco  California 94114     USA  Super River   \n3   4     3995 23rd St  San Francisco          CA 94114     USA   Ben's Shop   \n4   5  1056 Sanchez St  San Francisco        California     USA      Sanchez   \n5   6  551 Alvarado St  San Francisco          CA 94114     USA   Richvalley   \n6  99        bhaktapur      Kathmandu             44800   NEpal        rabin   \n\n  salary continent  \n0   2000      asia  \n1   3000      asia  \n2   2000      asia  \n3   3000      asia  \n4   3000      asia  \n5   3000      asia  \n6  45678      Asia  ",
      "text/html": "<div>\n<style scoped>\n    .dataframe tbody tr th:only-of-type {\n        vertical-align: middle;\n    }\n\n    .dataframe tbody tr th {\n        vertical-align: top;\n    }\n\n    .dataframe thead th {\n        text-align: right;\n    }\n</style>\n<table border=\"1\" class=\"dataframe\">\n  <thead>\n    <tr style=\"text-align: right;\">\n      <th></th>\n      <th>Id</th>\n      <th>Address</th>\n      <th>City</th>\n      <th>Zip</th>\n      <th>Country</th>\n      <th>Name</th>\n      <th>salary</th>\n      <th>continent</th>\n    </tr>\n  </thead>\n  <tbody>\n    <tr>\n      <th>0</th>\n      <td>1</td>\n      <td>3666 21st St</td>\n      <td>San Francisco</td>\n      <td>CA 94114</td>\n      <td>USA</td>\n      <td>Madeira</td>\n      <td>2000</td>\n      <td>asia</td>\n    </tr>\n    <tr>\n      <th>1</th>\n      <td>2</td>\n      <td>735 Dolores St</td>\n      <td>San Francisco</td>\n      <td>CA 94119</td>\n      <td>USA</td>\n      <td>Bready Shop</td>\n      <td>3000</td>\n      <td>asia</td>\n    </tr>\n    <tr>\n      <th>2</th>\n      <td>3</td>\n      <td>332 Hill St</td>\n      <td>San Francisco</td>\n      <td>California 94114</td>\n      <td>USA</td>\n      <td>Super River</td>\n      <td>2000</td>\n      <td>asia</td>\n    </tr>\n    <tr>\n      <th>3</th>\n      <td>4</td>\n      <td>3995 23rd St</td>\n      <td>San Francisco</td>\n      <td>CA 94114</td>\n      <td>USA</td>\n      <td>Ben's Shop</td>\n      <td>3000</td>\n      <td>asia</td>\n    </tr>\n    <tr>\n      <th>4</th>\n      <td>5</td>\n      <td>1056 Sanchez St</td>\n      <td>San Francisco</td>\n      <td>California</td>\n      <td>USA</td>\n      <td>Sanchez</td>\n      <td>3000</td>\n      <td>asia</td>\n    </tr>\n    <tr>\n      <th>5</th>\n      <td>6</td>\n      <td>551 Alvarado St</td>\n      <td>San Francisco</td>\n      <td>CA 94114</td>\n      <td>USA</td>\n      <td>Richvalley</td>\n      <td>3000</td>\n      <td>asia</td>\n    </tr>\n    <tr>\n      <th>6</th>\n      <td>99</td>\n      <td>bhaktapur</td>\n      <td>Kathmandu</td>\n      <td>44800</td>\n      <td>NEpal</td>\n      <td>rabin</td>\n      <td>45678</td>\n      <td>Asia</td>\n    </tr>\n  </tbody>\n</table>\n</div>"
     },
     "metadata": {},
     "execution_count": 127
    }
   ],
   "source": [
    "df6"
   ]
  },
  {
   "cell_type": "code",
   "execution_count": 128,
   "metadata": {},
   "outputs": [],
   "source": [
    "df6['continent'] = df6['Country'] + \" , \" + df6['City']"
   ]
  },
  {
   "cell_type": "code",
   "execution_count": 129,
   "metadata": {},
   "outputs": [
    {
     "output_type": "execute_result",
     "data": {
      "text/plain": "   Id          Address           City               Zip Country         Name  \\\n0   1     3666 21st St  San Francisco          CA 94114     USA      Madeira   \n1   2   735 Dolores St  San Francisco          CA 94119     USA  Bready Shop   \n2   3      332 Hill St  San Francisco  California 94114     USA  Super River   \n3   4     3995 23rd St  San Francisco          CA 94114     USA   Ben's Shop   \n4   5  1056 Sanchez St  San Francisco        California     USA      Sanchez   \n5   6  551 Alvarado St  San Francisco          CA 94114     USA   Richvalley   \n6  99        bhaktapur      Kathmandu             44800   NEpal        rabin   \n\n  salary            continent  \n0   2000  USA , San Francisco  \n1   3000  USA , San Francisco  \n2   2000  USA , San Francisco  \n3   3000  USA , San Francisco  \n4   3000  USA , San Francisco  \n5   3000  USA , San Francisco  \n6  45678    NEpal , Kathmandu  ",
      "text/html": "<div>\n<style scoped>\n    .dataframe tbody tr th:only-of-type {\n        vertical-align: middle;\n    }\n\n    .dataframe tbody tr th {\n        vertical-align: top;\n    }\n\n    .dataframe thead th {\n        text-align: right;\n    }\n</style>\n<table border=\"1\" class=\"dataframe\">\n  <thead>\n    <tr style=\"text-align: right;\">\n      <th></th>\n      <th>Id</th>\n      <th>Address</th>\n      <th>City</th>\n      <th>Zip</th>\n      <th>Country</th>\n      <th>Name</th>\n      <th>salary</th>\n      <th>continent</th>\n    </tr>\n  </thead>\n  <tbody>\n    <tr>\n      <th>0</th>\n      <td>1</td>\n      <td>3666 21st St</td>\n      <td>San Francisco</td>\n      <td>CA 94114</td>\n      <td>USA</td>\n      <td>Madeira</td>\n      <td>2000</td>\n      <td>USA , San Francisco</td>\n    </tr>\n    <tr>\n      <th>1</th>\n      <td>2</td>\n      <td>735 Dolores St</td>\n      <td>San Francisco</td>\n      <td>CA 94119</td>\n      <td>USA</td>\n      <td>Bready Shop</td>\n      <td>3000</td>\n      <td>USA , San Francisco</td>\n    </tr>\n    <tr>\n      <th>2</th>\n      <td>3</td>\n      <td>332 Hill St</td>\n      <td>San Francisco</td>\n      <td>California 94114</td>\n      <td>USA</td>\n      <td>Super River</td>\n      <td>2000</td>\n      <td>USA , San Francisco</td>\n    </tr>\n    <tr>\n      <th>3</th>\n      <td>4</td>\n      <td>3995 23rd St</td>\n      <td>San Francisco</td>\n      <td>CA 94114</td>\n      <td>USA</td>\n      <td>Ben's Shop</td>\n      <td>3000</td>\n      <td>USA , San Francisco</td>\n    </tr>\n    <tr>\n      <th>4</th>\n      <td>5</td>\n      <td>1056 Sanchez St</td>\n      <td>San Francisco</td>\n      <td>California</td>\n      <td>USA</td>\n      <td>Sanchez</td>\n      <td>3000</td>\n      <td>USA , San Francisco</td>\n    </tr>\n    <tr>\n      <th>5</th>\n      <td>6</td>\n      <td>551 Alvarado St</td>\n      <td>San Francisco</td>\n      <td>CA 94114</td>\n      <td>USA</td>\n      <td>Richvalley</td>\n      <td>3000</td>\n      <td>USA , San Francisco</td>\n    </tr>\n    <tr>\n      <th>6</th>\n      <td>99</td>\n      <td>bhaktapur</td>\n      <td>Kathmandu</td>\n      <td>44800</td>\n      <td>NEpal</td>\n      <td>rabin</td>\n      <td>45678</td>\n      <td>NEpal , Kathmandu</td>\n    </tr>\n  </tbody>\n</table>\n</div>"
     },
     "metadata": {},
     "execution_count": 129
    }
   ],
   "source": [
    "df6"
   ]
  },
  {
   "cell_type": "markdown",
   "metadata": {},
   "source": [
    "## transpose"
   ]
  },
  {
   "cell_type": "code",
   "execution_count": 130,
   "metadata": {},
   "outputs": [],
   "source": [
    "df6_t = df6.T"
   ]
  },
  {
   "cell_type": "code",
   "execution_count": 131,
   "metadata": {},
   "outputs": [
    {
     "output_type": "execute_result",
     "data": {
      "text/plain": "                             0                    1                    2  \\\nId                           1                    2                    3   \nAddress           3666 21st St       735 Dolores St          332 Hill St   \nCity             San Francisco        San Francisco        San Francisco   \nZip                   CA 94114             CA 94119     California 94114   \nCountry                    USA                  USA                  USA   \nName                   Madeira          Bready Shop          Super River   \nsalary                    2000                 3000                 2000   \ncontinent  USA , San Francisco  USA , San Francisco  USA , San Francisco   \n\n                             3                    4                    5  \\\nId                           4                    5                    6   \nAddress           3995 23rd St      1056 Sanchez St      551 Alvarado St   \nCity             San Francisco        San Francisco        San Francisco   \nZip                   CA 94114           California             CA 94114   \nCountry                    USA                  USA                  USA   \nName                Ben's Shop              Sanchez           Richvalley   \nsalary                    3000                 3000                 3000   \ncontinent  USA , San Francisco  USA , San Francisco  USA , San Francisco   \n\n                           6  \nId                        99  \nAddress            bhaktapur  \nCity               Kathmandu  \nZip                    44800  \nCountry                NEpal  \nName                   rabin  \nsalary                 45678  \ncontinent  NEpal , Kathmandu  ",
      "text/html": "<div>\n<style scoped>\n    .dataframe tbody tr th:only-of-type {\n        vertical-align: middle;\n    }\n\n    .dataframe tbody tr th {\n        vertical-align: top;\n    }\n\n    .dataframe thead th {\n        text-align: right;\n    }\n</style>\n<table border=\"1\" class=\"dataframe\">\n  <thead>\n    <tr style=\"text-align: right;\">\n      <th></th>\n      <th>0</th>\n      <th>1</th>\n      <th>2</th>\n      <th>3</th>\n      <th>4</th>\n      <th>5</th>\n      <th>6</th>\n    </tr>\n  </thead>\n  <tbody>\n    <tr>\n      <th>Id</th>\n      <td>1</td>\n      <td>2</td>\n      <td>3</td>\n      <td>4</td>\n      <td>5</td>\n      <td>6</td>\n      <td>99</td>\n    </tr>\n    <tr>\n      <th>Address</th>\n      <td>3666 21st St</td>\n      <td>735 Dolores St</td>\n      <td>332 Hill St</td>\n      <td>3995 23rd St</td>\n      <td>1056 Sanchez St</td>\n      <td>551 Alvarado St</td>\n      <td>bhaktapur</td>\n    </tr>\n    <tr>\n      <th>City</th>\n      <td>San Francisco</td>\n      <td>San Francisco</td>\n      <td>San Francisco</td>\n      <td>San Francisco</td>\n      <td>San Francisco</td>\n      <td>San Francisco</td>\n      <td>Kathmandu</td>\n    </tr>\n    <tr>\n      <th>Zip</th>\n      <td>CA 94114</td>\n      <td>CA 94119</td>\n      <td>California 94114</td>\n      <td>CA 94114</td>\n      <td>California</td>\n      <td>CA 94114</td>\n      <td>44800</td>\n    </tr>\n    <tr>\n      <th>Country</th>\n      <td>USA</td>\n      <td>USA</td>\n      <td>USA</td>\n      <td>USA</td>\n      <td>USA</td>\n      <td>USA</td>\n      <td>NEpal</td>\n    </tr>\n    <tr>\n      <th>Name</th>\n      <td>Madeira</td>\n      <td>Bready Shop</td>\n      <td>Super River</td>\n      <td>Ben's Shop</td>\n      <td>Sanchez</td>\n      <td>Richvalley</td>\n      <td>rabin</td>\n    </tr>\n    <tr>\n      <th>salary</th>\n      <td>2000</td>\n      <td>3000</td>\n      <td>2000</td>\n      <td>3000</td>\n      <td>3000</td>\n      <td>3000</td>\n      <td>45678</td>\n    </tr>\n    <tr>\n      <th>continent</th>\n      <td>USA , San Francisco</td>\n      <td>USA , San Francisco</td>\n      <td>USA , San Francisco</td>\n      <td>USA , San Francisco</td>\n      <td>USA , San Francisco</td>\n      <td>USA , San Francisco</td>\n      <td>NEpal , Kathmandu</td>\n    </tr>\n  </tbody>\n</table>\n</div>"
     },
     "metadata": {},
     "execution_count": 131
    }
   ],
   "source": [
    "df6_t"
   ]
  },
  {
   "cell_type": "code",
   "execution_count": 132,
   "metadata": {},
   "outputs": [
    {
     "output_type": "execute_result",
     "data": {
      "text/plain": "pandas.core.frame.DataFrame"
     },
     "metadata": {},
     "execution_count": 132
    }
   ],
   "source": [
    "type(df6)"
   ]
  },
  {
   "cell_type": "code",
   "execution_count": 147,
   "metadata": {},
   "outputs": [
    {
     "output_type": "execute_result",
     "data": {
      "text/plain": "0       3666 21st St\n1     735 Dolores St\n2        332 Hill St\n3       3995 23rd St\n4    1056 Sanchez St\n5    551 Alvarado St\n6          bhaktapur\nName: Address, dtype: object"
     },
     "metadata": {},
     "execution_count": 147
    }
   ],
   "source": [
    "df6['Address']"
   ]
  },
  {
   "cell_type": "code",
   "execution_count": 1,
   "metadata": {},
   "outputs": [],
   "source": [
    "import geopy\n",
    "from geopy.geocoders import Nominatim"
   ]
  },
  {
   "cell_type": "code",
   "execution_count": 140,
   "metadata": {},
   "outputs": [],
   "source": [
    "nom = Nominatim()"
   ]
  },
  {
   "cell_type": "code",
   "execution_count": 155,
   "metadata": {},
   "outputs": [],
   "source": [
    "n = nom.geocode('bhaktapur, nepal')"
   ]
  },
  {
   "cell_type": "code",
   "execution_count": 160,
   "metadata": {},
   "outputs": [
    {
     "output_type": "stream",
     "name": "stdout",
     "text": "lantitude 27.6720657\nlongitude 85.428171\n"
    }
   ],
   "source": [
    "print('lantitude', n.latitude)\n",
    "print('longitude', n.longitude)\n"
   ]
  },
  {
   "cell_type": "code",
   "execution_count": 154,
   "metadata": {},
   "outputs": [
    {
     "output_type": "stream",
     "name": "stdout",
     "text": "21st Street, Financial District, Oakland, Alameda County, California, 94612, United States of America\n735, Dolores Street, Stanford, Professorville Historic District, Santa Clara County, California, 94305, United States of America\n332, Hill Street, Westlake, Daly City, San Mateo County, California, 94014, United States of America\n23rd Street, Universal Truckload Services, Southwest Detroit, Detroit, Wayne County, Michigan, 48216, United States of America\n1056, Sanchez Street, United States, Laredo, Webb County, Texas, 78040, United States of America\n551, Alvarado Street, Fairways of Walnut Creek, Mansfield, Tarrant County, Texas, 76063, United States of America\nBhaktapur, भक्तपुर, वाग्मती प्रदेश, 44880, Nepal\n"
    }
   ],
   "source": [
    "for loc in df6['Address']:\n",
    "        print(nom.geocode(loc))"
   ]
  },
  {
   "cell_type": "markdown",
   "metadata": {},
   "source": [
    "# New data set"
   ]
  },
  {
   "cell_type": "code",
   "execution_count": 189,
   "metadata": {},
   "outputs": [],
   "source": [
    "df10 = pandas.read_csv('files/supermarkets.csv')\n"
   ]
  },
  {
   "cell_type": "code",
   "execution_count": 190,
   "metadata": {},
   "outputs": [
    {
     "output_type": "execute_result",
     "data": {
      "text/plain": "   ID          Address           City             State Country         Name  \\\n0   1     3666 21st St  San Francisco          CA 94114     USA      Madeira   \n1   2   735 Dolores St  San Francisco          CA 94119     USA  Bready Shop   \n2   3      332 Hill St  San Francisco  California 94114     USA  Super River   \n3   4     3995 23rd St  San Francisco          CA 94114     USA   Ben's Shop   \n4   5  1056 Sanchez St  San Francisco        California     USA      Sanchez   \n5   6  551 Alvarado St  San Francisco          CA 94114     USA   Richvalley   \n\n   Employees  \n0          8  \n1         15  \n2         25  \n3         10  \n4         12  \n5         20  ",
      "text/html": "<div>\n<style scoped>\n    .dataframe tbody tr th:only-of-type {\n        vertical-align: middle;\n    }\n\n    .dataframe tbody tr th {\n        vertical-align: top;\n    }\n\n    .dataframe thead th {\n        text-align: right;\n    }\n</style>\n<table border=\"1\" class=\"dataframe\">\n  <thead>\n    <tr style=\"text-align: right;\">\n      <th></th>\n      <th>ID</th>\n      <th>Address</th>\n      <th>City</th>\n      <th>State</th>\n      <th>Country</th>\n      <th>Name</th>\n      <th>Employees</th>\n    </tr>\n  </thead>\n  <tbody>\n    <tr>\n      <th>0</th>\n      <td>1</td>\n      <td>3666 21st St</td>\n      <td>San Francisco</td>\n      <td>CA 94114</td>\n      <td>USA</td>\n      <td>Madeira</td>\n      <td>8</td>\n    </tr>\n    <tr>\n      <th>1</th>\n      <td>2</td>\n      <td>735 Dolores St</td>\n      <td>San Francisco</td>\n      <td>CA 94119</td>\n      <td>USA</td>\n      <td>Bready Shop</td>\n      <td>15</td>\n    </tr>\n    <tr>\n      <th>2</th>\n      <td>3</td>\n      <td>332 Hill St</td>\n      <td>San Francisco</td>\n      <td>California 94114</td>\n      <td>USA</td>\n      <td>Super River</td>\n      <td>25</td>\n    </tr>\n    <tr>\n      <th>3</th>\n      <td>4</td>\n      <td>3995 23rd St</td>\n      <td>San Francisco</td>\n      <td>CA 94114</td>\n      <td>USA</td>\n      <td>Ben's Shop</td>\n      <td>10</td>\n    </tr>\n    <tr>\n      <th>4</th>\n      <td>5</td>\n      <td>1056 Sanchez St</td>\n      <td>San Francisco</td>\n      <td>California</td>\n      <td>USA</td>\n      <td>Sanchez</td>\n      <td>12</td>\n    </tr>\n    <tr>\n      <th>5</th>\n      <td>6</td>\n      <td>551 Alvarado St</td>\n      <td>San Francisco</td>\n      <td>CA 94114</td>\n      <td>USA</td>\n      <td>Richvalley</td>\n      <td>20</td>\n    </tr>\n  </tbody>\n</table>\n</div>"
     },
     "metadata": {},
     "execution_count": 190
    }
   ],
   "source": [
    "df10"
   ]
  },
  {
   "cell_type": "code",
   "execution_count": 191,
   "metadata": {},
   "outputs": [],
   "source": [
    "df10['Address'] = df10['Address'] + \",\" + df10['City'] +\", \" + df10['State'] + \",\" + df10['Country']"
   ]
  },
  {
   "cell_type": "code",
   "execution_count": 192,
   "metadata": {},
   "outputs": [
    {
     "output_type": "execute_result",
     "data": {
      "text/plain": "   ID                                          Address           City  \\\n0   1         3666 21st St,San Francisco, CA 94114,USA  San Francisco   \n1   2       735 Dolores St,San Francisco, CA 94119,USA  San Francisco   \n2   3  332 Hill St,San Francisco, California 94114,USA  San Francisco   \n3   4         3995 23rd St,San Francisco, CA 94114,USA  San Francisco   \n4   5    1056 Sanchez St,San Francisco, California,USA  San Francisco   \n5   6      551 Alvarado St,San Francisco, CA 94114,USA  San Francisco   \n\n              State Country         Name  Employees  \n0          CA 94114     USA      Madeira          8  \n1          CA 94119     USA  Bready Shop         15  \n2  California 94114     USA  Super River         25  \n3          CA 94114     USA   Ben's Shop         10  \n4        California     USA      Sanchez         12  \n5          CA 94114     USA   Richvalley         20  ",
      "text/html": "<div>\n<style scoped>\n    .dataframe tbody tr th:only-of-type {\n        vertical-align: middle;\n    }\n\n    .dataframe tbody tr th {\n        vertical-align: top;\n    }\n\n    .dataframe thead th {\n        text-align: right;\n    }\n</style>\n<table border=\"1\" class=\"dataframe\">\n  <thead>\n    <tr style=\"text-align: right;\">\n      <th></th>\n      <th>ID</th>\n      <th>Address</th>\n      <th>City</th>\n      <th>State</th>\n      <th>Country</th>\n      <th>Name</th>\n      <th>Employees</th>\n    </tr>\n  </thead>\n  <tbody>\n    <tr>\n      <th>0</th>\n      <td>1</td>\n      <td>3666 21st St,San Francisco, CA 94114,USA</td>\n      <td>San Francisco</td>\n      <td>CA 94114</td>\n      <td>USA</td>\n      <td>Madeira</td>\n      <td>8</td>\n    </tr>\n    <tr>\n      <th>1</th>\n      <td>2</td>\n      <td>735 Dolores St,San Francisco, CA 94119,USA</td>\n      <td>San Francisco</td>\n      <td>CA 94119</td>\n      <td>USA</td>\n      <td>Bready Shop</td>\n      <td>15</td>\n    </tr>\n    <tr>\n      <th>2</th>\n      <td>3</td>\n      <td>332 Hill St,San Francisco, California 94114,USA</td>\n      <td>San Francisco</td>\n      <td>California 94114</td>\n      <td>USA</td>\n      <td>Super River</td>\n      <td>25</td>\n    </tr>\n    <tr>\n      <th>3</th>\n      <td>4</td>\n      <td>3995 23rd St,San Francisco, CA 94114,USA</td>\n      <td>San Francisco</td>\n      <td>CA 94114</td>\n      <td>USA</td>\n      <td>Ben's Shop</td>\n      <td>10</td>\n    </tr>\n    <tr>\n      <th>4</th>\n      <td>5</td>\n      <td>1056 Sanchez St,San Francisco, California,USA</td>\n      <td>San Francisco</td>\n      <td>California</td>\n      <td>USA</td>\n      <td>Sanchez</td>\n      <td>12</td>\n    </tr>\n    <tr>\n      <th>5</th>\n      <td>6</td>\n      <td>551 Alvarado St,San Francisco, CA 94114,USA</td>\n      <td>San Francisco</td>\n      <td>CA 94114</td>\n      <td>USA</td>\n      <td>Richvalley</td>\n      <td>20</td>\n    </tr>\n  </tbody>\n</table>\n</div>"
     },
     "metadata": {},
     "execution_count": 192
    }
   ],
   "source": [
    "df10"
   ]
  },
  {
   "cell_type": "code",
   "execution_count": 193,
   "metadata": {},
   "outputs": [],
   "source": [
    "from geopy.geocoders import Nominatim"
   ]
  },
  {
   "cell_type": "code",
   "execution_count": 194,
   "metadata": {},
   "outputs": [],
   "source": [
    "nomi = Nominatim()"
   ]
  },
  {
   "cell_type": "code",
   "execution_count": 171,
   "metadata": {},
   "outputs": [
    {
     "output_type": "stream",
     "name": "stdout",
     "text": "Address:  3666, 21st Street, Noe Valley, San Francisco, San Francisco City and County, California, 94114, United States of America\nAddress:  735, Dolores Street, Liberty Street Historic District, San Francisco, San Francisco City and County, California, 94110, United States of America\nAddress:  332, Hill Street, Noe Valley, San Francisco, San Francisco City and County, California, 94114, United States of America\nAddress:  3995, 23rd Street, Noe Valley, San Francisco, San Francisco City and County, California, 94114, United States of America\nAddress:  1056, Sanchez Street, Noe Valley, San Francisco, San Francisco City and County, California, 94114, United States of America\nAddress:  551, Alvarado Street, Noe Valley, San Francisco, San Francisco City and County, California, 94114, United States of America\n"
    }
   ],
   "source": [
    "for loc in df10['Address']:\n",
    "    print('Address: ', nomi.geocode(loc))"
   ]
  },
  {
   "cell_type": "code",
   "execution_count": 195,
   "metadata": {},
   "outputs": [
    {
     "output_type": "execute_result",
     "data": {
      "text/plain": "   ID                                          Address           City  \\\n0   1         3666 21st St,San Francisco, CA 94114,USA  San Francisco   \n1   2       735 Dolores St,San Francisco, CA 94119,USA  San Francisco   \n2   3  332 Hill St,San Francisco, California 94114,USA  San Francisco   \n3   4         3995 23rd St,San Francisco, CA 94114,USA  San Francisco   \n4   5    1056 Sanchez St,San Francisco, California,USA  San Francisco   \n5   6      551 Alvarado St,San Francisco, CA 94114,USA  San Francisco   \n\n              State Country         Name  Employees  \\\n0          CA 94114     USA      Madeira          8   \n1          CA 94119     USA  Bready Shop         15   \n2  California 94114     USA  Super River         25   \n3          CA 94114     USA   Ben's Shop         10   \n4        California     USA      Sanchez         12   \n5          CA 94114     USA   Richvalley         20   \n\n                                         Coordinates  \n0  (3666, 21st Street, Noe Valley, San Francisco,...  \n1  (735, Dolores Street, Liberty Street Historic ...  \n2  (332, Hill Street, Noe Valley, San Francisco, ...  \n3  (3995, 23rd Street, Noe Valley, San Francisco,...  \n4  (1056, Sanchez Street, Noe Valley, San Francis...  \n5  (551, Alvarado Street, Noe Valley, San Francis...  ",
      "text/html": "<div>\n<style scoped>\n    .dataframe tbody tr th:only-of-type {\n        vertical-align: middle;\n    }\n\n    .dataframe tbody tr th {\n        vertical-align: top;\n    }\n\n    .dataframe thead th {\n        text-align: right;\n    }\n</style>\n<table border=\"1\" class=\"dataframe\">\n  <thead>\n    <tr style=\"text-align: right;\">\n      <th></th>\n      <th>ID</th>\n      <th>Address</th>\n      <th>City</th>\n      <th>State</th>\n      <th>Country</th>\n      <th>Name</th>\n      <th>Employees</th>\n      <th>Coordinates</th>\n    </tr>\n  </thead>\n  <tbody>\n    <tr>\n      <th>0</th>\n      <td>1</td>\n      <td>3666 21st St,San Francisco, CA 94114,USA</td>\n      <td>San Francisco</td>\n      <td>CA 94114</td>\n      <td>USA</td>\n      <td>Madeira</td>\n      <td>8</td>\n      <td>(3666, 21st Street, Noe Valley, San Francisco,...</td>\n    </tr>\n    <tr>\n      <th>1</th>\n      <td>2</td>\n      <td>735 Dolores St,San Francisco, CA 94119,USA</td>\n      <td>San Francisco</td>\n      <td>CA 94119</td>\n      <td>USA</td>\n      <td>Bready Shop</td>\n      <td>15</td>\n      <td>(735, Dolores Street, Liberty Street Historic ...</td>\n    </tr>\n    <tr>\n      <th>2</th>\n      <td>3</td>\n      <td>332 Hill St,San Francisco, California 94114,USA</td>\n      <td>San Francisco</td>\n      <td>California 94114</td>\n      <td>USA</td>\n      <td>Super River</td>\n      <td>25</td>\n      <td>(332, Hill Street, Noe Valley, San Francisco, ...</td>\n    </tr>\n    <tr>\n      <th>3</th>\n      <td>4</td>\n      <td>3995 23rd St,San Francisco, CA 94114,USA</td>\n      <td>San Francisco</td>\n      <td>CA 94114</td>\n      <td>USA</td>\n      <td>Ben's Shop</td>\n      <td>10</td>\n      <td>(3995, 23rd Street, Noe Valley, San Francisco,...</td>\n    </tr>\n    <tr>\n      <th>4</th>\n      <td>5</td>\n      <td>1056 Sanchez St,San Francisco, California,USA</td>\n      <td>San Francisco</td>\n      <td>California</td>\n      <td>USA</td>\n      <td>Sanchez</td>\n      <td>12</td>\n      <td>(1056, Sanchez Street, Noe Valley, San Francis...</td>\n    </tr>\n    <tr>\n      <th>5</th>\n      <td>6</td>\n      <td>551 Alvarado St,San Francisco, CA 94114,USA</td>\n      <td>San Francisco</td>\n      <td>CA 94114</td>\n      <td>USA</td>\n      <td>Richvalley</td>\n      <td>20</td>\n      <td>(551, Alvarado Street, Noe Valley, San Francis...</td>\n    </tr>\n  </tbody>\n</table>\n</div>"
     },
     "metadata": {},
     "execution_count": 195
    }
   ],
   "source": [
    "df10['Coordinates'] = df10['Address'].apply(nomi.geocode) # adding new column directly from geopy\n",
    "df10"
   ]
  },
  {
   "cell_type": "code",
   "execution_count": 196,
   "metadata": {},
   "outputs": [
    {
     "output_type": "execute_result",
     "data": {
      "text/plain": "Point(37.75648887755102, -122.42934334693878, 0.0)"
     },
     "metadata": {},
     "execution_count": 196
    }
   ],
   "source": [
    "df10.Coordinates[0].point"
   ]
  },
  {
   "cell_type": "code",
   "execution_count": 197,
   "metadata": {},
   "outputs": [],
   "source": [
    "# df10['longitude'] = df10['Coordinates'][0].longitude\n",
    "# df10['latitude'] = df10['Coordinates'][0].latitude\n",
    "df10['point'] = df10['Coordinates'][0].point"
   ]
  },
  {
   "cell_type": "code",
   "execution_count": 198,
   "metadata": {},
   "outputs": [
    {
     "output_type": "execute_result",
     "data": {
      "text/plain": "   ID                                          Address           City  \\\n0   1         3666 21st St,San Francisco, CA 94114,USA  San Francisco   \n1   2       735 Dolores St,San Francisco, CA 94119,USA  San Francisco   \n2   3  332 Hill St,San Francisco, California 94114,USA  San Francisco   \n3   4         3995 23rd St,San Francisco, CA 94114,USA  San Francisco   \n4   5    1056 Sanchez St,San Francisco, California,USA  San Francisco   \n5   6      551 Alvarado St,San Francisco, CA 94114,USA  San Francisco   \n\n              State Country         Name  Employees  \\\n0          CA 94114     USA      Madeira          8   \n1          CA 94119     USA  Bready Shop         15   \n2  California 94114     USA  Super River         25   \n3          CA 94114     USA   Ben's Shop         10   \n4        California     USA      Sanchez         12   \n5          CA 94114     USA   Richvalley         20   \n\n                                         Coordinates  \\\n0  (3666, 21st Street, Noe Valley, San Francisco,...   \n1  (735, Dolores Street, Liberty Street Historic ...   \n2  (332, Hill Street, Noe Valley, San Francisco, ...   \n3  (3995, 23rd Street, Noe Valley, San Francisco,...   \n4  (1056, Sanchez Street, Noe Valley, San Francis...   \n5  (551, Alvarado Street, Noe Valley, San Francis...   \n\n                                point  \n0  37 45m 23.36s N, 122 25m 45.636s W  \n1  37 45m 23.36s N, 122 25m 45.636s W  \n2  37 45m 23.36s N, 122 25m 45.636s W  \n3  37 45m 23.36s N, 122 25m 45.636s W  \n4  37 45m 23.36s N, 122 25m 45.636s W  \n5  37 45m 23.36s N, 122 25m 45.636s W  ",
      "text/html": "<div>\n<style scoped>\n    .dataframe tbody tr th:only-of-type {\n        vertical-align: middle;\n    }\n\n    .dataframe tbody tr th {\n        vertical-align: top;\n    }\n\n    .dataframe thead th {\n        text-align: right;\n    }\n</style>\n<table border=\"1\" class=\"dataframe\">\n  <thead>\n    <tr style=\"text-align: right;\">\n      <th></th>\n      <th>ID</th>\n      <th>Address</th>\n      <th>City</th>\n      <th>State</th>\n      <th>Country</th>\n      <th>Name</th>\n      <th>Employees</th>\n      <th>Coordinates</th>\n      <th>point</th>\n    </tr>\n  </thead>\n  <tbody>\n    <tr>\n      <th>0</th>\n      <td>1</td>\n      <td>3666 21st St,San Francisco, CA 94114,USA</td>\n      <td>San Francisco</td>\n      <td>CA 94114</td>\n      <td>USA</td>\n      <td>Madeira</td>\n      <td>8</td>\n      <td>(3666, 21st Street, Noe Valley, San Francisco,...</td>\n      <td>37 45m 23.36s N, 122 25m 45.636s W</td>\n    </tr>\n    <tr>\n      <th>1</th>\n      <td>2</td>\n      <td>735 Dolores St,San Francisco, CA 94119,USA</td>\n      <td>San Francisco</td>\n      <td>CA 94119</td>\n      <td>USA</td>\n      <td>Bready Shop</td>\n      <td>15</td>\n      <td>(735, Dolores Street, Liberty Street Historic ...</td>\n      <td>37 45m 23.36s N, 122 25m 45.636s W</td>\n    </tr>\n    <tr>\n      <th>2</th>\n      <td>3</td>\n      <td>332 Hill St,San Francisco, California 94114,USA</td>\n      <td>San Francisco</td>\n      <td>California 94114</td>\n      <td>USA</td>\n      <td>Super River</td>\n      <td>25</td>\n      <td>(332, Hill Street, Noe Valley, San Francisco, ...</td>\n      <td>37 45m 23.36s N, 122 25m 45.636s W</td>\n    </tr>\n    <tr>\n      <th>3</th>\n      <td>4</td>\n      <td>3995 23rd St,San Francisco, CA 94114,USA</td>\n      <td>San Francisco</td>\n      <td>CA 94114</td>\n      <td>USA</td>\n      <td>Ben's Shop</td>\n      <td>10</td>\n      <td>(3995, 23rd Street, Noe Valley, San Francisco,...</td>\n      <td>37 45m 23.36s N, 122 25m 45.636s W</td>\n    </tr>\n    <tr>\n      <th>4</th>\n      <td>5</td>\n      <td>1056 Sanchez St,San Francisco, California,USA</td>\n      <td>San Francisco</td>\n      <td>California</td>\n      <td>USA</td>\n      <td>Sanchez</td>\n      <td>12</td>\n      <td>(1056, Sanchez Street, Noe Valley, San Francis...</td>\n      <td>37 45m 23.36s N, 122 25m 45.636s W</td>\n    </tr>\n    <tr>\n      <th>5</th>\n      <td>6</td>\n      <td>551 Alvarado St,San Francisco, CA 94114,USA</td>\n      <td>San Francisco</td>\n      <td>CA 94114</td>\n      <td>USA</td>\n      <td>Richvalley</td>\n      <td>20</td>\n      <td>(551, Alvarado Street, Noe Valley, San Francis...</td>\n      <td>37 45m 23.36s N, 122 25m 45.636s W</td>\n    </tr>\n  </tbody>\n</table>\n</div>"
     },
     "metadata": {},
     "execution_count": 198
    }
   ],
   "source": [
    "df10"
   ]
  },
  {
   "cell_type": "code",
   "execution_count": null,
   "metadata": {},
   "outputs": [],
   "source": []
  }
 ],
 "metadata": {
  "language_info": {
   "codemirror_mode": {
    "name": "ipython",
    "version": 3
   },
   "file_extension": ".py",
   "mimetype": "text/x-python",
   "name": "python",
   "nbconvert_exporter": "python",
   "pygments_lexer": "ipython3",
   "version": "3.9.1-final"
  },
  "orig_nbformat": 2,
  "kernelspec": {
   "name": "python38364bitvenvvenvec0aec23a55645b1b2f20518cbe7a899",
   "display_name": "Python 3.8.3 64-bit ('venv': venv)",
   "language": "python"
  }
 },
 "nbformat": 4,
 "nbformat_minor": 2
}