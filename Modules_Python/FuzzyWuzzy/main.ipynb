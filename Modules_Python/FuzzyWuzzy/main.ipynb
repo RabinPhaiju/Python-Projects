{
 "metadata": {
  "language_info": {
   "codemirror_mode": {
    "name": "ipython",
    "version": 3
   },
   "file_extension": ".py",
   "mimetype": "text/x-python",
   "name": "python",
   "nbconvert_exporter": "python",
   "pygments_lexer": "ipython3",
   "version": "3.9.1-final"
  },
  "orig_nbformat": 2,
  "kernelspec": {
   "name": "python3",
   "display_name": "Python 3.9.1 64-bit ('venv1')",
   "metadata": {
    "interpreter": {
     "hash": "6dbcfa4acfde829108fd9fed7b4c7e3cf5b89483651b78d4b8e08d6c4461514a"
    }
   }
  }
 },
 "nbformat": 4,
 "nbformat_minor": 2,
 "cells": [
  {
   "cell_type": "code",
   "execution_count": 1,
   "metadata": {},
   "outputs": [
    {
     "output_type": "stream",
     "name": "stderr",
     "text": [
      "c:\\Users\\rabin\\Python_Projects\\venv1\\lib\\site-packages\\fuzzywuzzy\\fuzz.py:11: UserWarning: Using slow pure-python SequenceMatcher. Install python-Levenshtein to remove this warning\n  warnings.warn('Using slow pure-python SequenceMatcher. Install python-Levenshtein to remove this warning')\n"
     ]
    }
   ],
   "source": [
    "from fuzzywuzzy import fuzz\n",
    "# pip install fuzzywuzzy\n",
    "# python -m venv venv\n",
    "# .\\venv\\Scripts\\activate\n",
    "# .\\venv\\Scripts\\deactivate\n",
    "# pip freeze\n",
    "# pip freeze > requirement.txt\n",
    "#pip install -r requirement.txt"
   ]
  },
  {
   "cell_type": "code",
   "execution_count": 19,
   "metadata": {},
   "outputs": [
    {
     "output_type": "execute_result",
     "data": {
      "text/plain": [
       "80"
      ]
     },
     "metadata": {},
     "execution_count": 19
    }
   ],
   "source": [
    "fuzz.ratio('he is ram','he is shyam')"
   ]
  },
  {
   "cell_type": "code",
   "execution_count": 11,
   "metadata": {},
   "outputs": [
    {
     "output_type": "stream",
     "name": "stdout",
     "text": [
      "cannot divide by zero\nfinally executed\n"
     ]
    }
   ],
   "source": [
    "def divide(x,y):\n",
    "    try:\n",
    "        result = x/y\n",
    "        raise ZeroDivisionError('Entered invalid roll no')\n",
    "    except ZeroDivisionError as e:\n",
    "        print('cannot divide by zero')\n",
    "    except Exception as e:\n",
    "        print(f'Uncaught error occur {type(e)}')\n",
    "    else:\n",
    "        print(f'result is {x/y}')\n",
    "    finally:\n",
    "        print('finally executed')\n",
    "\n",
    "divide(1,8)"
   ]
  }
 ]
}